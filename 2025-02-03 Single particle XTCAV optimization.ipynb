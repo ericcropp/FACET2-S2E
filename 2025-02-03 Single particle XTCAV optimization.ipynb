{
 "cells": [
  {
   "cell_type": "code",
   "execution_count": 1,
   "id": "e2761b72-8a03-4f8e-869d-27b30c4c51fd",
   "metadata": {},
   "outputs": [
    {
     "name": "stdout",
     "output_type": "stream",
     "text": [
      "Environment set to:  /Users/nmajik/Documents/SLAC/FACET2-Bmad-PyTao\n",
      "Tracking to end\n",
      "CSR off\n",
      "Not using setLattice(). Golden lattice\n",
      "WARNING! No beam file is specified!\n",
      "Number of macro particles defined by input file\n"
     ]
    }
   ],
   "source": [
    "from UTILITY_quickstart import *\n",
    "from scipy.optimize import minimize\n",
    "\n",
    "#Start from golden lattice\n",
    "tao = initializeTao(\n",
    "    loadDefaultLatticeTF = False\n",
    ")"
   ]
  },
  {
   "cell_type": "code",
   "execution_count": 2,
   "id": "10366cbe-abd2-4dfb-ab23-86912452e5ad",
   "metadata": {},
   "outputs": [
    {
     "data": {
      "text/plain": [
       "{'mode_flip': False,\n",
       " 'beta_a': 15.8379471946039,\n",
       " 'alpha_a': -2.34734701102762,\n",
       " 'gamma_a': 0.411040516184971,\n",
       " 'phi_a': 77.0415206052783,\n",
       " 'eta_a': 1.70374229029022e-05,\n",
       " 'etap_a': 3.35821321449544e-06,\n",
       " 'beta_b': 9.20171414252986,\n",
       " 'alpha_b': 1.41094515314238,\n",
       " 'gamma_b': 0.325022727162628,\n",
       " 'phi_b': 62.4262150531777,\n",
       " 'eta_b': 0.0559202303727423,\n",
       " 'etap_b': 0.00600001800006481,\n",
       " 'eta_x': 1.70374229029037e-05,\n",
       " 'etap_x': 3.35821321449571e-06,\n",
       " 'eta_y': 0.0559202303727423,\n",
       " 'etap_y': 0.00600001800006481}"
      ]
     },
     "execution_count": 2,
     "metadata": {},
     "output_type": "execute_result"
    }
   ],
   "source": [
    "tao.ele_twiss(\"DTOTR\")"
   ]
  },
  {
   "cell_type": "code",
   "execution_count": 3,
   "id": "fa7afc82-5eaa-42d2-bb78-57b6c08c252f",
   "metadata": {},
   "outputs": [
    {
     "data": {
      "text/plain": [
       "{'x': -4.05050137830853e-17,\n",
       " 'px': -3.15417949033432e-18,\n",
       " 'y': 4.78224976711585e-16,\n",
       " 'py': 5.13611857756645e-17,\n",
       " 'z': -1.62920498062289e-15,\n",
       " 'pz': 8.58306885885983e-15,\n",
       " 'spin': array([0., 0., 0.]),\n",
       " 'field': array([0., 0.]),\n",
       " 'phase': array([0., 0.]),\n",
       " 's': 1016.16282888229,\n",
       " 't': 3.38957134967123e-06,\n",
       " 'charge': 0.0,\n",
       " 'dt_ref': 0.0,\n",
       " 'p0c': 9999999986.94688,\n",
       " 'beta': 0.9999999986944,\n",
       " 'ix_ele': 1581,\n",
       " 'state': 'Alive',\n",
       " 'direction': 1,\n",
       " 'species': 'Electron',\n",
       " 'location': 'Downstream_End'}"
      ]
     },
     "execution_count": 3,
     "metadata": {},
     "output_type": "execute_result"
    }
   ],
   "source": [
    "tao.ele_orbit(\"DTOTR\")"
   ]
  },
  {
   "cell_type": "code",
   "execution_count": 4,
   "id": "0e235693-d27e-4f55-85b6-26b7831a1391",
   "metadata": {},
   "outputs": [
    {
     "data": {
      "text/html": [
       "<style type=\"text/css\">\n",
       "</style>\n",
       "<table id=\"T_24be1\">\n",
       "  <thead>\n",
       "  </thead>\n",
       "  <tbody>\n",
       "    <tr>\n",
       "      <td id=\"T_24be1_row0_col0\" class=\"data row0 col0\" >1.390362</td>\n",
       "      <td id=\"T_24be1_row0_col1\" class=\"data row0 col1\" >-7.090993</td>\n",
       "      <td id=\"T_24be1_row0_col2\" class=\"data row0 col2\" >0.000000</td>\n",
       "      <td id=\"T_24be1_row0_col3\" class=\"data row0 col3\" >-0.000000</td>\n",
       "      <td id=\"T_24be1_row0_col4\" class=\"data row0 col4\" >0.000000</td>\n",
       "      <td id=\"T_24be1_row0_col5\" class=\"data row0 col5\" >0.000000</td>\n",
       "    </tr>\n",
       "    <tr>\n",
       "      <td id=\"T_24be1_row1_col0\" class=\"data row1 col0\" >0.204478</td>\n",
       "      <td id=\"T_24be1_row1_col1\" class=\"data row1 col1\" >-0.323622</td>\n",
       "      <td id=\"T_24be1_row1_col2\" class=\"data row1 col2\" >0.000000</td>\n",
       "      <td id=\"T_24be1_row1_col3\" class=\"data row1 col3\" >-0.000000</td>\n",
       "      <td id=\"T_24be1_row1_col4\" class=\"data row1 col4\" >0.000000</td>\n",
       "      <td id=\"T_24be1_row1_col5\" class=\"data row1 col5\" >-0.000000</td>\n",
       "    </tr>\n",
       "    <tr>\n",
       "      <td id=\"T_24be1_row2_col0\" class=\"data row2 col0\" >-0.000000</td>\n",
       "      <td id=\"T_24be1_row2_col1\" class=\"data row2 col1\" >-0.000000</td>\n",
       "      <td id=\"T_24be1_row2_col2\" class=\"data row2 col2\" >0.705156</td>\n",
       "      <td id=\"T_24be1_row2_col3\" class=\"data row2 col3\" >-1.681051</td>\n",
       "      <td id=\"T_24be1_row2_col4\" class=\"data row2 col4\" >0.000000</td>\n",
       "      <td id=\"T_24be1_row2_col5\" class=\"data row2 col5\" >0.055920</td>\n",
       "    </tr>\n",
       "    <tr>\n",
       "      <td id=\"T_24be1_row3_col0\" class=\"data row3 col0\" >-0.000000</td>\n",
       "      <td id=\"T_24be1_row3_col1\" class=\"data row3 col1\" >-0.000000</td>\n",
       "      <td id=\"T_24be1_row3_col2\" class=\"data row3 col2\" >-0.203248</td>\n",
       "      <td id=\"T_24be1_row3_col3\" class=\"data row3 col3\" >1.902658</td>\n",
       "      <td id=\"T_24be1_row3_col4\" class=\"data row3 col4\" >0.000000</td>\n",
       "      <td id=\"T_24be1_row3_col5\" class=\"data row3 col5\" >0.006000</td>\n",
       "    </tr>\n",
       "    <tr>\n",
       "      <td id=\"T_24be1_row4_col0\" class=\"data row4 col0\" >0.000000</td>\n",
       "      <td id=\"T_24be1_row4_col1\" class=\"data row4 col1\" >-0.000000</td>\n",
       "      <td id=\"T_24be1_row4_col2\" class=\"data row4 col2\" >-0.015597</td>\n",
       "      <td id=\"T_24be1_row4_col3\" class=\"data row4 col3\" >0.116483</td>\n",
       "      <td id=\"T_24be1_row4_col4\" class=\"data row4 col4\" >1.000000</td>\n",
       "      <td id=\"T_24be1_row4_col5\" class=\"data row4 col5\" >-0.000006</td>\n",
       "    </tr>\n",
       "    <tr>\n",
       "      <td id=\"T_24be1_row5_col0\" class=\"data row5 col0\" >0.000000</td>\n",
       "      <td id=\"T_24be1_row5_col1\" class=\"data row5 col1\" >0.000000</td>\n",
       "      <td id=\"T_24be1_row5_col2\" class=\"data row5 col2\" >0.000000</td>\n",
       "      <td id=\"T_24be1_row5_col3\" class=\"data row5 col3\" >0.000000</td>\n",
       "      <td id=\"T_24be1_row5_col4\" class=\"data row5 col4\" >0.000000</td>\n",
       "      <td id=\"T_24be1_row5_col5\" class=\"data row5 col5\" >1.000000</td>\n",
       "    </tr>\n",
       "  </tbody>\n",
       "</table>\n"
      ],
      "text/plain": [
       "<pandas.io.formats.style.Styler at 0x14654ab90>"
      ]
     },
     "metadata": {},
     "output_type": "display_data"
    }
   ],
   "source": [
    "getMatrix(tao, \"MFFF\", \"DTOTR\", print = True);"
   ]
  },
  {
   "cell_type": "code",
   "execution_count": 5,
   "id": "35598619-c3d7-4f39-9ee2-7a1c0af49c8e",
   "metadata": {},
   "outputs": [
    {
     "data": {
      "text/plain": [
       "{'mode_flip': False,\n",
       " 'beta_a': 15.8379471663407,\n",
       " 'alpha_a': -2.34734700688038,\n",
       " 'gamma_a': 0.411040515689154,\n",
       " 'phi_a': 77.0415206044066,\n",
       " 'eta_a': -0.126558144736379,\n",
       " 'etap_a': -0.0105760467869348,\n",
       " 'beta_b': 9.20171414252992,\n",
       " 'alpha_b': 1.41094515314238,\n",
       " 'gamma_b': 0.325022727162625,\n",
       " 'phi_b': 62.4262150531777,\n",
       " 'eta_b': 0.0559202303727423,\n",
       " 'etap_b': 0.00600001800006481,\n",
       " 'eta_x': -0.126558144736379,\n",
       " 'etap_x': -0.0105760467869348,\n",
       " 'eta_y': 0.0559202303727423,\n",
       " 'etap_y': 0.00600001800006481}"
      ]
     },
     "execution_count": 5,
     "metadata": {},
     "output_type": "execute_result"
    }
   ],
   "source": [
    "tao.cmd(f\"set ele XTCAVF VOLTAGE = 10e6\")\n",
    "tao.cmd(f\"set ele XTCAVF PHI0 = {0 / 360.0}\")\n",
    "tao.ele_twiss(\"DTOTR\")"
   ]
  },
  {
   "cell_type": "code",
   "execution_count": 6,
   "id": "e73dd81f-1c39-4839-b59a-e3ed71c39843",
   "metadata": {},
   "outputs": [
    {
     "data": {
      "text/html": [
       "<style type=\"text/css\">\n",
       "</style>\n",
       "<table id=\"T_f21eb\">\n",
       "  <thead>\n",
       "  </thead>\n",
       "  <tbody>\n",
       "    <tr>\n",
       "      <td id=\"T_f21eb_row0_col0\" class=\"data row0 col0\" >1.390362</td>\n",
       "      <td id=\"T_f21eb_row0_col1\" class=\"data row0 col1\" >-7.090993</td>\n",
       "      <td id=\"T_f21eb_row0_col2\" class=\"data row0 col2\" >0.000000</td>\n",
       "      <td id=\"T_f21eb_row0_col3\" class=\"data row0 col3\" >-0.000000</td>\n",
       "      <td id=\"T_f21eb_row0_col4\" class=\"data row0 col4\" >-5.568421</td>\n",
       "      <td id=\"T_f21eb_row0_col5\" class=\"data row0 col5\" >-0.000000</td>\n",
       "    </tr>\n",
       "    <tr>\n",
       "      <td id=\"T_f21eb_row1_col0\" class=\"data row1 col0\" >0.204478</td>\n",
       "      <td id=\"T_f21eb_row1_col1\" class=\"data row1 col1\" >-0.323622</td>\n",
       "      <td id=\"T_f21eb_row1_col2\" class=\"data row1 col2\" >0.000000</td>\n",
       "      <td id=\"T_f21eb_row1_col3\" class=\"data row1 col3\" >-0.000000</td>\n",
       "      <td id=\"T_f21eb_row1_col4\" class=\"data row1 col4\" >-0.465420</td>\n",
       "      <td id=\"T_f21eb_row1_col5\" class=\"data row1 col5\" >-0.000000</td>\n",
       "    </tr>\n",
       "    <tr>\n",
       "      <td id=\"T_f21eb_row2_col0\" class=\"data row2 col0\" >0.027486</td>\n",
       "      <td id=\"T_f21eb_row2_col1\" class=\"data row2 col1\" >0.083781</td>\n",
       "      <td id=\"T_f21eb_row2_col2\" class=\"data row2 col2\" >0.705156</td>\n",
       "      <td id=\"T_f21eb_row2_col3\" class=\"data row2 col3\" >-1.681051</td>\n",
       "      <td id=\"T_f21eb_row2_col4\" class=\"data row2 col4\" >0.000547</td>\n",
       "      <td id=\"T_f21eb_row2_col5\" class=\"data row2 col5\" >0.055920</td>\n",
       "    </tr>\n",
       "    <tr>\n",
       "      <td id=\"T_f21eb_row3_col0\" class=\"data row3 col0\" >0.002949</td>\n",
       "      <td id=\"T_f21eb_row3_col1\" class=\"data row3 col1\" >0.008989</td>\n",
       "      <td id=\"T_f21eb_row3_col2\" class=\"data row3 col2\" >-0.203248</td>\n",
       "      <td id=\"T_f21eb_row3_col3\" class=\"data row3 col3\" >1.902658</td>\n",
       "      <td id=\"T_f21eb_row3_col4\" class=\"data row3 col4\" >0.000059</td>\n",
       "      <td id=\"T_f21eb_row3_col5\" class=\"data row3 col5\" >0.006000</td>\n",
       "    </tr>\n",
       "    <tr>\n",
       "      <td id=\"T_f21eb_row4_col0\" class=\"data row4 col0\" >-0.000003</td>\n",
       "      <td id=\"T_f21eb_row4_col1\" class=\"data row4 col1\" >-0.000009</td>\n",
       "      <td id=\"T_f21eb_row4_col2\" class=\"data row4 col2\" >-0.015597</td>\n",
       "      <td id=\"T_f21eb_row4_col3\" class=\"data row4 col3\" >0.116483</td>\n",
       "      <td id=\"T_f21eb_row4_col4\" class=\"data row4 col4\" >1.000000</td>\n",
       "      <td id=\"T_f21eb_row4_col5\" class=\"data row4 col5\" >-0.000006</td>\n",
       "    </tr>\n",
       "    <tr>\n",
       "      <td id=\"T_f21eb_row5_col0\" class=\"data row5 col0\" >0.491517</td>\n",
       "      <td id=\"T_f21eb_row5_col1\" class=\"data row5 col1\" >1.498225</td>\n",
       "      <td id=\"T_f21eb_row5_col2\" class=\"data row5 col2\" >-0.000000</td>\n",
       "      <td id=\"T_f21eb_row5_col3\" class=\"data row5 col3\" >0.000000</td>\n",
       "      <td id=\"T_f21eb_row5_col4\" class=\"data row5 col4\" >0.009775</td>\n",
       "      <td id=\"T_f21eb_row5_col5\" class=\"data row5 col5\" >1.000000</td>\n",
       "    </tr>\n",
       "  </tbody>\n",
       "</table>\n"
      ],
      "text/plain": [
       "<pandas.io.formats.style.Styler at 0x15b6c8e10>"
      ]
     },
     "metadata": {},
     "output_type": "display_data"
    }
   ],
   "source": [
    "getMatrix(tao, \"MFFF\", \"DTOTR\", print = True);"
   ]
  },
  {
   "cell_type": "code",
   "execution_count": 7,
   "id": "5d6cfd13-2270-4a18-93ec-4f7b25cb258e",
   "metadata": {},
   "outputs": [
    {
     "data": {
      "text/plain": [
       "-5.56842063015725"
      ]
     },
     "execution_count": 7,
     "metadata": {},
     "output_type": "execute_result"
    }
   ],
   "source": [
    "getMatrix(tao, \"MFFF\", \"DTOTR\")[0,4]"
   ]
  },
  {
   "cell_type": "markdown",
   "id": "368490af-1299-4561-8c80-58fa146669a1",
   "metadata": {},
   "source": [
    "## R15 maximization\n",
    "\n",
    "Let's start by doing the simplest thing: maximizing the R15 term. This won't give us maximum effective resolution, just for the zero-emittance limit. Next step will be deconvolving out emittance contribution"
   ]
  },
  {
   "cell_type": "code",
   "execution_count": 8,
   "id": "4553b023-325a-4349-9041-aac21d84c50e",
   "metadata": {},
   "outputs": [
    {
     "data": {
      "text/html": [
       "<style type=\"text/css\">\n",
       "</style>\n",
       "<table id=\"T_1606b\">\n",
       "  <thead>\n",
       "  </thead>\n",
       "  <tbody>\n",
       "    <tr>\n",
       "      <td id=\"T_1606b_row0_col0\" class=\"data row0 col0\" >-0.503226</td>\n",
       "      <td id=\"T_1606b_row0_col1\" class=\"data row0 col1\" >-8.194331</td>\n",
       "      <td id=\"T_1606b_row0_col2\" class=\"data row0 col2\" >0.000000</td>\n",
       "      <td id=\"T_1606b_row0_col3\" class=\"data row0 col3\" >-0.000000</td>\n",
       "      <td id=\"T_1606b_row0_col4\" class=\"data row0 col4\" >-11.561386</td>\n",
       "      <td id=\"T_1606b_row0_col5\" class=\"data row0 col5\" >-0.000000</td>\n",
       "    </tr>\n",
       "    <tr>\n",
       "      <td id=\"T_1606b_row1_col0\" class=\"data row1 col0\" >0.095960</td>\n",
       "      <td id=\"T_1606b_row1_col1\" class=\"data row1 col1\" >-0.424607</td>\n",
       "      <td id=\"T_1606b_row1_col2\" class=\"data row1 col2\" >0.000000</td>\n",
       "      <td id=\"T_1606b_row1_col3\" class=\"data row1 col3\" >-0.000000</td>\n",
       "      <td id=\"T_1606b_row1_col4\" class=\"data row1 col4\" >-0.869603</td>\n",
       "      <td id=\"T_1606b_row1_col5\" class=\"data row1 col5\" >-0.000000</td>\n",
       "    </tr>\n",
       "    <tr>\n",
       "      <td id=\"T_1606b_row2_col0\" class=\"data row2 col0\" >0.086511</td>\n",
       "      <td id=\"T_1606b_row2_col1\" class=\"data row2 col1\" >0.123962</td>\n",
       "      <td id=\"T_1606b_row2_col2\" class=\"data row2 col2\" >-0.057628</td>\n",
       "      <td id=\"T_1606b_row2_col3\" class=\"data row2 col3\" >2.100488</td>\n",
       "      <td id=\"T_1606b_row2_col4\" class=\"data row2 col4\" >0.000547</td>\n",
       "      <td id=\"T_1606b_row2_col5\" class=\"data row2 col5\" >0.055920</td>\n",
       "    </tr>\n",
       "    <tr>\n",
       "      <td id=\"T_1606b_row3_col0\" class=\"data row3 col0\" >0.009282</td>\n",
       "      <td id=\"T_1606b_row3_col1\" class=\"data row3 col1\" >0.013301</td>\n",
       "      <td id=\"T_1606b_row3_col2\" class=\"data row3 col2\" >-0.497087</td>\n",
       "      <td id=\"T_1606b_row3_col3\" class=\"data row3 col3\" >0.765700</td>\n",
       "      <td id=\"T_1606b_row3_col4\" class=\"data row3 col4\" >0.000059</td>\n",
       "      <td id=\"T_1606b_row3_col5\" class=\"data row3 col5\" >0.006000</td>\n",
       "    </tr>\n",
       "    <tr>\n",
       "      <td id=\"T_1606b_row4_col0\" class=\"data row4 col0\" >-0.000009</td>\n",
       "      <td id=\"T_1606b_row4_col1\" class=\"data row4 col1\" >-0.000013</td>\n",
       "      <td id=\"T_1606b_row4_col2\" class=\"data row4 col2\" >-0.027451</td>\n",
       "      <td id=\"T_1606b_row4_col3\" class=\"data row4 col3\" >0.030215</td>\n",
       "      <td id=\"T_1606b_row4_col4\" class=\"data row4 col4\" >1.000000</td>\n",
       "      <td id=\"T_1606b_row4_col5\" class=\"data row4 col5\" >-0.000006</td>\n",
       "    </tr>\n",
       "    <tr>\n",
       "      <td id=\"T_1606b_row5_col0\" class=\"data row5 col0\" >1.547036</td>\n",
       "      <td id=\"T_1606b_row5_col1\" class=\"data row5 col1\" >2.216771</td>\n",
       "      <td id=\"T_1606b_row5_col2\" class=\"data row5 col2\" >-0.000000</td>\n",
       "      <td id=\"T_1606b_row5_col3\" class=\"data row5 col3\" >0.000000</td>\n",
       "      <td id=\"T_1606b_row5_col4\" class=\"data row5 col4\" >0.009775</td>\n",
       "      <td id=\"T_1606b_row5_col5\" class=\"data row5 col5\" >1.000000</td>\n",
       "    </tr>\n",
       "  </tbody>\n",
       "</table>\n"
      ],
      "text/plain": [
       "<pandas.io.formats.style.Styler at 0x107e516d0>"
      ]
     },
     "metadata": {},
     "output_type": "display_data"
    }
   ],
   "source": [
    "#S20 configurator TCAV optics: https://docs.google.com/presentation/d/1pEDyfRYzVhJpeqzpDUfJOKxTxE6_achOUj4SHY-MoQQ/edit#slide=id.g2f39098462d_0_5\n",
    "\n",
    "setQuadkG(tao, \"Q5FF\", -192)\n",
    "setQuadkG(tao, \"Q4FF\", -162)\n",
    "setQuadkG(tao, \"Q3FF\", 105)\n",
    "setQuadkG(tao, \"Q2FF\", 120)\n",
    "setQuadkG(tao, \"Q1FF\", -209)\n",
    "setQuadkG(tao, \"Q0FF\", 120)\n",
    "setQuadkG(tao, \"Q0D\", -139)\n",
    "setQuadkG(tao, \"Q1D\", 225)\n",
    "setQuadkG(tao, \"Q2D\", -139)\n",
    "\n",
    "getMatrix(tao, \"MFFF\", \"DTOTR\", print = True);"
   ]
  },
  {
   "cell_type": "code",
   "execution_count": 9,
   "id": "5e36cad9-696b-45f9-a0fd-002289c6cbfc",
   "metadata": {},
   "outputs": [
    {
     "name": "stdout",
     "output_type": "stream",
     "text": [
      "Optimization Results:\n",
      "Optimal Parameters: [-255.52877395    0.          189.78997461    0.         -257.\n",
      "    0.         -239.          386.         -223.        ]\n",
      "Objective Function Value at Optimal Parameters: -356.746011439694\n",
      "Number of Iterations: 117\n",
      "Converged: True\n"
     ]
    },
    {
     "data": {
      "text/plain": [
       "{'Q5FFkG': -255.52877394716324,\n",
       " 'Q4FFkG': 0.0,\n",
       " 'Q3FFkG': 189.78997460985195,\n",
       " 'Q2FFkG': 0.0,\n",
       " 'Q1FFkG': -257.0,\n",
       " 'Q0FFkG': 0.0,\n",
       " 'Q0DkG': -239.0,\n",
       " 'Q1DkG': 386.0,\n",
       " 'Q2DkG': -223.0}"
      ]
     },
     "execution_count": 9,
     "metadata": {},
     "output_type": "execute_result"
    }
   ],
   "source": [
    "def objective(params, tao):\n",
    "    Q5FFkG, Q4FFkG, Q3FFkG, Q2FFkG, Q1FFkG, Q0FFkG, Q0DkG, Q1DkG, Q2DkG  = params\n",
    "    \n",
    "    try:\n",
    "        #Prevent recalculation until changes are made\n",
    "        tao.cmd(\"set global lattice_calc_on = F\")\n",
    "        \n",
    "        setQuadkG(tao, \"Q5FF\", Q5FFkG)\n",
    "        setQuadkG(tao, \"Q4FF\", Q4FFkG)\n",
    "        setQuadkG(tao, \"Q3FF\", Q3FFkG)\n",
    "        setQuadkG(tao, \"Q2FF\", Q2FFkG)\n",
    "        setQuadkG(tao, \"Q1FF\", Q1FFkG)\n",
    "        setQuadkG(tao, \"Q0FF\", Q0FFkG)\n",
    "        setQuadkG(tao, \"Q0D\", Q0DkG)\n",
    "        setQuadkG(tao, \"Q1D\", Q1DkG)\n",
    "        setQuadkG(tao, \"Q2D\", Q2DkG)\n",
    "        \n",
    "        #Reenable lattice calculations\n",
    "        tao.cmd(\"set global lattice_calc_on = T\")\n",
    "    \n",
    "    except: #If Bmad doesn't like the proposed solution, don't crash, give a bad number\n",
    "        return 1e20\n",
    "\n",
    "\n",
    "    \n",
    "    return -1 * abs ( getMatrix(tao, \"MFFF\", \"DTOTR\")[0,4] ) \n",
    "\n",
    "\n",
    "def solver(\n",
    "    tao,\n",
    "    verbose = False\n",
    "):\n",
    "\n",
    "\n",
    "    quadNameList = [\"Q5FF\", \"Q4FF\", \"Q3FF\", \"Q2FF\", \"Q1FF\", \"Q0FF\", \"Q0D\", \"Q1D\", \"Q2D\"] \n",
    "    initialGuess = [getQuadkG(tao, name) for name in quadNameList]\n",
    "\n",
    "    #For now, just hardcoding bounds... could generalize if required\n",
    "    #From \"bounds.yml\" as of 2025-01-10-11-11-35\n",
    "    # Q5FFkGBounds: (-256, 0)  #BCON = -70\n",
    "    # Q4FFkGBounds: (-446, 0)  #BCON = -71\n",
    "    # Q3FFkGBounds: (0, 457)   #BCON = 106\n",
    "    # Q2FFkGBounds: (0, 167)   #BCON = 112\n",
    "    # Q1FFkGBounds: (-257, 0)  #BCON = -225\n",
    "    # Q0FFkGBounds: (0, 167)   #BCON = 112\n",
    "    # Q0DkGBounds : (-239, 0)  #BCON = -112\n",
    "    # Q1DkGBounds : (0, 386)   #BCON = 177\n",
    "    # Q2DkGBounds : (-223, 0)  #BCON = -112\n",
    "\n",
    "    bounds = [(-256,0), (-446,0), (0,457), (0,167), (-257,0), (0,167), (-239,0), (0,386), (-223,0)]\n",
    "\n",
    "\n",
    "    # Perform optimization using Nelder-Mead\n",
    "    result = minimize(\n",
    "        objective, \n",
    "        initialGuess, \n",
    "        method='Nelder-Mead',\n",
    "        bounds = bounds,\n",
    "        args = (tao)\n",
    "    )\n",
    "\n",
    "\n",
    "    # #Apply best result to the lattice\n",
    "    # betaSetX, alphaSetX, betaSetY, alphaSetY = result.x\n",
    "    \n",
    "    # #Prevent recalculation until changes are made\n",
    "    # tao.cmd(\"set global lattice_calc_on = F\")\n",
    "    \n",
    "    # tao.cmd(f\"set element beginning beta_a = {betaSetX}\")\n",
    "    # tao.cmd(f\"set element beginning alpha_a = {alphaSetX}\")\n",
    "    # tao.cmd(f\"set element beginning beta_b = {betaSetY}\")\n",
    "    # tao.cmd(f\"set element beginning alpha_b = {alphaSetY}\")\n",
    "    \n",
    "    # #Reenable lattice calculations\n",
    "    # tao.cmd(\"set global lattice_calc_on = T\")\n",
    "\n",
    "    if verbose:\n",
    "        print(\"Optimization Results:\")\n",
    "        print(f\"Optimal Parameters: {result.x}\")\n",
    "        print(f\"Objective Function Value at Optimal Parameters: {result.fun}\")\n",
    "        print(f\"Number of Iterations: {result.nit}\")\n",
    "        print(f\"Converged: {result.success}\")\n",
    "\n",
    "    quadVariableNameList = [\"Q5FFkG\", \"Q4FFkG\", \"Q3FFkG\", \"Q2FFkG\", \"Q1FFkG\", \"Q0FFkG\", \"Q0DkG\", \"Q1DkG\", \"Q2DkG\"] \n",
    "\n",
    "    \n",
    "    \n",
    "    return { quadVariableNameList[i] : result.x[i] for i in range(len(quadVariableNameList)) }\n",
    "\n",
    "solver(tao, verbose = True)"
   ]
  },
  {
   "cell_type": "markdown",
   "id": "f9f32ffb-1391-47e4-9bdf-a23aa0f13c26",
   "metadata": {},
   "source": [
    "## Beta function ratio maximization"
   ]
  },
  {
   "cell_type": "code",
   "execution_count": 31,
   "id": "36264f9b-b4a9-4060-9eac-9a7023290868",
   "metadata": {},
   "outputs": [
    {
     "name": "stdout",
     "output_type": "stream",
     "text": [
      "Environment set to:  /Users/nmajik/Documents/SLAC/FACET2-Bmad-PyTao\n",
      "Tracking to end\n",
      "CSR off\n",
      "Not using setLattice(). Golden lattice\n",
      "WARNING! No beam file is specified!\n",
      "Number of macro particles defined by input file\n"
     ]
    }
   ],
   "source": [
    "#Start from golden lattice\n",
    "tao = initializeTao(\n",
    "    loadDefaultLatticeTF = False\n",
    ")"
   ]
  },
  {
   "cell_type": "code",
   "execution_count": 32,
   "id": "38157761-3b7c-494e-8984-91abef8a5a95",
   "metadata": {},
   "outputs": [
    {
     "name": "stdout",
     "output_type": "stream",
     "text": [
      "betaX = 15.8379471946039 m. R15 = 0.0\n",
      "4.023230298265958e-06\n",
      "0.0\n",
      "4.023230298265958e-06\n"
     ]
    }
   ],
   "source": [
    "betaX = tao.ele_twiss(\"DTOTR\")[\"beta_a\"] \n",
    "R15  = getMatrix(tao, \"MFFF\", \"DTOTR\")[0,4]\n",
    "\n",
    "print(f\"betaX = {betaX} m. R15 = {R15}\")\n",
    "\n",
    "assumeEmittance = 20e-6\n",
    "assumeBunchLength = 20e-6\n",
    "\n",
    "emittanceContrib = np.sqrt( betaX * (assumeEmittance / ( 10e6 / 0.511) ) )\n",
    "zContrib = R15 * assumeBunchLength\n",
    "estimatedSpot = np.sqrt( emittanceContrib ** 2 + zContrib ** 2)\n",
    "\n",
    "print(emittanceContrib)\n",
    "print(zContrib)\n",
    "print(estimatedSpot)\n"
   ]
  },
  {
   "cell_type": "code",
   "execution_count": 33,
   "id": "5687011b-6ed3-4f35-a860-ae0d5686363f",
   "metadata": {},
   "outputs": [
    {
     "name": "stdout",
     "output_type": "stream",
     "text": [
      "betaX = 15.8379471663407 m. R15 = -5.56842063015725\n",
      "4.023230294676182e-06\n",
      "-0.000111368412603145\n",
      "0.0001114410593441589\n"
     ]
    }
   ],
   "source": [
    "tao.cmd(f\"set ele XTCAVF VOLTAGE = 10e6\")\n",
    "tao.cmd(f\"set ele XTCAVF PHI0 = {0 / 360.0}\")\n",
    "\n",
    "\n",
    "\n",
    "\n",
    "betaX = tao.ele_twiss(\"DTOTR\")[\"beta_a\"] \n",
    "R15  = getMatrix(tao, \"MFFF\", \"DTOTR\")[0,4]\n",
    "\n",
    "print(f\"betaX = {betaX} m. R15 = {R15}\")\n",
    "\n",
    "assumeEmittance = 20e-6\n",
    "assumeBunchLength = 20e-6\n",
    "\n",
    "emittanceContrib = np.sqrt( betaX * (assumeEmittance / ( 10e6 / 0.511) ) )\n",
    "zContrib = R15 * assumeBunchLength\n",
    "estimatedSpot = np.sqrt( emittanceContrib ** 2 + zContrib ** 2)\n",
    "\n",
    "print(emittanceContrib)\n",
    "print(zContrib)\n",
    "print(estimatedSpot)"
   ]
  },
  {
   "cell_type": "code",
   "execution_count": 34,
   "id": "ed5312c5-eab0-40d0-8b72-514b3a96fbfe",
   "metadata": {},
   "outputs": [],
   "source": [
    "def getEstimatedSpotRatio():      \n",
    "        assumeEmittance = 20e-6\n",
    "        assumeBunchLength = 20e-6\n",
    "\n",
    "\n",
    "        tao.cmd(f\"set ele XTCAVF VOLTAGE = 0\")\n",
    "\n",
    "        betaX = tao.ele_twiss(\"DTOTR\")[\"beta_a\"] \n",
    "        R15  = getMatrix(tao, \"MFFF\", \"DTOTR\")[0,4]\n",
    "        \n",
    "        emittanceContrib = np.sqrt( betaX * (assumeEmittance / ( 10e6 / 0.511) ) )\n",
    "        zContrib = R15 * assumeBunchLength\n",
    "        estimatedSpotOFF = np.sqrt( emittanceContrib ** 2 + zContrib ** 2)\n",
    "\n",
    "       \n",
    "    \n",
    "\n",
    "\n",
    "\n",
    "        tao.cmd(f\"set ele XTCAVF VOLTAGE = 10e6\")\n",
    "\n",
    "        betaX = tao.ele_twiss(\"DTOTR\")[\"beta_a\"] \n",
    "        R15  = getMatrix(tao, \"MFFF\", \"DTOTR\")[0,4]\n",
    "        \n",
    "        emittanceContrib = np.sqrt( betaX * (assumeEmittance / ( 10e6 / 0.511) ) )\n",
    "        zContrib = R15 * assumeBunchLength\n",
    "        estimatedSpotON = np.sqrt( emittanceContrib ** 2 + zContrib ** 2)\n",
    "\n",
    "        return estimatedSpotON / estimatedSpotOFF"
   ]
  },
  {
   "cell_type": "code",
   "execution_count": 36,
   "id": "6fff2649-7247-4208-b540-31fe834e75c6",
   "metadata": {},
   "outputs": [
    {
     "data": {
      "text/plain": [
       "27.699398513724365"
      ]
     },
     "execution_count": 36,
     "metadata": {},
     "output_type": "execute_result"
    }
   ],
   "source": [
    "getEstimatedSpotRatio()"
   ]
  },
  {
   "cell_type": "code",
   "execution_count": 37,
   "id": "6aad3577-a650-4e16-82c3-7faefb95ffc8",
   "metadata": {},
   "outputs": [
    {
     "data": {
      "text/plain": [
       "56.4734678003475"
      ]
     },
     "execution_count": 37,
     "metadata": {},
     "output_type": "execute_result"
    }
   ],
   "source": [
    "#S20 configurator TCAV optics: https://docs.google.com/presentation/d/1pEDyfRYzVhJpeqzpDUfJOKxTxE6_achOUj4SHY-MoQQ/edit#slide=id.g2f39098462d_0_5\n",
    "\n",
    "setQuadkG(tao, \"Q5FF\", -192)\n",
    "setQuadkG(tao, \"Q4FF\", -162)\n",
    "setQuadkG(tao, \"Q3FF\", 105)\n",
    "setQuadkG(tao, \"Q2FF\", 120)\n",
    "setQuadkG(tao, \"Q1FF\", -209)\n",
    "setQuadkG(tao, \"Q0FF\", 120)\n",
    "setQuadkG(tao, \"Q0D\", -139)\n",
    "setQuadkG(tao, \"Q1D\", 225)\n",
    "setQuadkG(tao, \"Q2D\", -139)\n",
    "\n",
    "getEstimatedSpotRatio()"
   ]
  },
  {
   "cell_type": "code",
   "execution_count": 38,
   "id": "1881a52e-d7e0-40e9-b5c6-b1d68a9438e7",
   "metadata": {},
   "outputs": [
    {
     "name": "stdout",
     "output_type": "stream",
     "text": [
      "Optimization Results:\n",
      "Optimal Parameters: [-256.         -172.25416034    2.74860979  126.51008991 -201.74835159\n",
      "  127.12021983 -150.17414119  234.72993228 -161.48889705]\n",
      "Objective Function Value at Optimal Parameters: -251.29405428803557\n",
      "Number of Iterations: 1194\n",
      "Converged: False\n"
     ]
    },
    {
     "data": {
      "text/plain": [
       "{'Q5FFkG': -256.0,\n",
       " 'Q4FFkG': -172.2541603444513,\n",
       " 'Q3FFkG': 2.748609788867163,\n",
       " 'Q2FFkG': 126.51008991158068,\n",
       " 'Q1FFkG': -201.7483515852437,\n",
       " 'Q0FFkG': 127.12021983329481,\n",
       " 'Q0DkG': -150.1741411865047,\n",
       " 'Q1DkG': 234.7299322790954,\n",
       " 'Q2DkG': -161.4888970463495}"
      ]
     },
     "execution_count": 38,
     "metadata": {},
     "output_type": "execute_result"
    }
   ],
   "source": [
    "def objective(params, tao):\n",
    "    Q5FFkG, Q4FFkG, Q3FFkG, Q2FFkG, Q1FFkG, Q0FFkG, Q0DkG, Q1DkG, Q2DkG  = params\n",
    "    \n",
    "    try:\n",
    "        #Prevent recalculation until changes are made\n",
    "        tao.cmd(\"set global lattice_calc_on = F\")\n",
    "        \n",
    "        setQuadkG(tao, \"Q5FF\", Q5FFkG)\n",
    "        setQuadkG(tao, \"Q4FF\", Q4FFkG)\n",
    "        setQuadkG(tao, \"Q3FF\", Q3FFkG)\n",
    "        setQuadkG(tao, \"Q2FF\", Q2FFkG)\n",
    "        setQuadkG(tao, \"Q1FF\", Q1FFkG)\n",
    "        setQuadkG(tao, \"Q0FF\", Q0FFkG)\n",
    "        setQuadkG(tao, \"Q0D\", Q0DkG)\n",
    "        setQuadkG(tao, \"Q1D\", Q1DkG)\n",
    "        setQuadkG(tao, \"Q2D\", Q2DkG)\n",
    "\n",
    "        \n",
    "        #Reenable lattice calculations\n",
    "        tao.cmd(\"set global lattice_calc_on = T\")\n",
    "\n",
    "\n",
    "    \n",
    "    except: #If Bmad doesn't like the proposed solution, don't crash, give a bad number\n",
    "        return 1e20\n",
    "\n",
    "\n",
    "    \n",
    "    return -1 * ( getEstimatedSpotRatio() ) \n",
    "\n",
    "\n",
    "def solver(\n",
    "    tao,\n",
    "    verbose = False\n",
    "):\n",
    "\n",
    "\n",
    "    quadNameList = [\"Q5FF\", \"Q4FF\", \"Q3FF\", \"Q2FF\", \"Q1FF\", \"Q0FF\", \"Q0D\", \"Q1D\", \"Q2D\"] \n",
    "    initialGuess = [getQuadkG(tao, name) for name in quadNameList]\n",
    "\n",
    "    #For now, just hardcoding bounds... could generalize if required\n",
    "    #From \"bounds.yml\" as of 2025-01-10-11-11-35\n",
    "    # Q5FFkGBounds: (-256, 0)  #BCON = -70\n",
    "    # Q4FFkGBounds: (-446, 0)  #BCON = -71\n",
    "    # Q3FFkGBounds: (0, 457)   #BCON = 106\n",
    "    # Q2FFkGBounds: (0, 167)   #BCON = 112\n",
    "    # Q1FFkGBounds: (-257, 0)  #BCON = -225\n",
    "    # Q0FFkGBounds: (0, 167)   #BCON = 112\n",
    "    # Q0DkGBounds : (-239, 0)  #BCON = -112\n",
    "    # Q1DkGBounds : (0, 386)   #BCON = 177\n",
    "    # Q2DkGBounds : (-223, 0)  #BCON = -112\n",
    "\n",
    "    bounds = [(-256,0), (-446,0), (0,457), (0,167), (-257,0), (0,167), (-239,0), (0,386), (-223,0)]\n",
    "\n",
    "\n",
    "    # Perform optimization using Nelder-Mead\n",
    "    result = minimize(\n",
    "        objective, \n",
    "        initialGuess, \n",
    "        method='Nelder-Mead',\n",
    "        bounds = bounds,\n",
    "        args = (tao)\n",
    "    )\n",
    "\n",
    "\n",
    "    # #Apply best result to the lattice\n",
    "    # betaSetX, alphaSetX, betaSetY, alphaSetY = result.x\n",
    "    \n",
    "    # #Prevent recalculation until changes are made\n",
    "    # tao.cmd(\"set global lattice_calc_on = F\")\n",
    "    \n",
    "    # tao.cmd(f\"set element beginning beta_a = {betaSetX}\")\n",
    "    # tao.cmd(f\"set element beginning alpha_a = {alphaSetX}\")\n",
    "    # tao.cmd(f\"set element beginning beta_b = {betaSetY}\")\n",
    "    # tao.cmd(f\"set element beginning alpha_b = {alphaSetY}\")\n",
    "    \n",
    "    # #Reenable lattice calculations\n",
    "    # tao.cmd(\"set global lattice_calc_on = T\")\n",
    "\n",
    "    if verbose:\n",
    "        print(\"Optimization Results:\")\n",
    "        print(f\"Optimal Parameters: {result.x}\")\n",
    "        print(f\"Objective Function Value at Optimal Parameters: {result.fun}\")\n",
    "        print(f\"Number of Iterations: {result.nit}\")\n",
    "        print(f\"Converged: {result.success}\")\n",
    "\n",
    "    quadVariableNameList = [\"Q5FFkG\", \"Q4FFkG\", \"Q3FFkG\", \"Q2FFkG\", \"Q1FFkG\", \"Q0FFkG\", \"Q0DkG\", \"Q1DkG\", \"Q2DkG\"] \n",
    "\n",
    "    \n",
    "    \n",
    "    return { quadVariableNameList[i] : result.x[i] for i in range(len(quadVariableNameList)) }\n",
    "\n",
    "solver(tao, verbose = True)"
   ]
  },
  {
   "cell_type": "code",
   "execution_count": null,
   "id": "a2e8595f-cd42-476c-b5f2-5ddab1685a66",
   "metadata": {},
   "outputs": [],
   "source": []
  }
 ],
 "metadata": {
  "kernelspec": {
   "display_name": "Python 3 (ipykernel)",
   "language": "python",
   "name": "python3"
  },
  "language_info": {
   "codemirror_mode": {
    "name": "ipython",
    "version": 3
   },
   "file_extension": ".py",
   "mimetype": "text/x-python",
   "name": "python",
   "nbconvert_exporter": "python",
   "pygments_lexer": "ipython3",
   "version": "3.11.8"
  }
 },
 "nbformat": 4,
 "nbformat_minor": 5
}
