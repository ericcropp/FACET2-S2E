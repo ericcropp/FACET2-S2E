{
 "cells": [
  {
   "cell_type": "code",
   "execution_count": 1,
   "id": "bd04d929-068f-4913-aa34-4e3835832c00",
   "metadata": {},
   "outputs": [],
   "source": [
    "from UTILITY_quickstart import *"
   ]
  },
  {
   "cell_type": "code",
   "execution_count": 2,
   "id": "1652834e-22d1-4517-aa65-c7d087a86beb",
   "metadata": {},
   "outputs": [
    {
     "name": "stdout",
     "output_type": "stream",
     "text": [
      "Environment set to:  /Users/nmajik/Documents/SLAC/FACET2-Bmad-PyTao\n",
      "Tracking to end\n",
      "CSR off\n",
      "Overwriting lattice with setLattice() defaults\n",
      "No defaults file provided to setLattice(). Using setLattice_configs/defaults.yml\n",
      "WARNING! No beam file is specified!\n",
      "Number of macro particles defined by input file\n"
     ]
    }
   ],
   "source": [
    "#Load a default configuration\n",
    "importedDefaultSettings = loadConfig(\"setLattice_configs/defaults.yml\")\n",
    "\n",
    "#Initialize tao object\n",
    "tao = initializeTao(\n",
    "    #inputBeamFilePathSuffix = importedDefaultSettings[\"inputBeamFilePathSuffix\"],\n",
    "    #numMacroParticles = 1e4,\n",
    "    #csrTF = False\n",
    ")\n",
    "\n",
    "#Set lattice to the loaded config\n",
    "setLattice(tao, **importedDefaultSettings)"
   ]
  },
  {
   "cell_type": "markdown",
   "id": "e9066237-d38b-403f-8068-0082c9603348",
   "metadata": {},
   "source": [
    "## Get all transport matrices"
   ]
  },
  {
   "cell_type": "code",
   "execution_count": 3,
   "id": "c688ec0e-0bf0-44d0-96a4-507ebc35d518",
   "metadata": {},
   "outputs": [],
   "source": [
    "listOfBPMs = [\"M1FF\", \"M2FF\", \"M3FF\", \"M4FF\", \"M5FF\", \"M0EX\", \"M1EX\", \"M2EX\", \"M3EX\"]\n",
    "\n",
    "allMatrices = { bpm : getMatrix(tao, \"PATCH_SECTOR20\", bpm) for bpm in listOfBPMs }"
   ]
  },
  {
   "cell_type": "code",
   "execution_count": 4,
   "id": "da1feb3c-1c17-482a-90af-b9e1f050f074",
   "metadata": {},
   "outputs": [],
   "source": [
    "#Apply random offsets from nominal\n",
    "tao.cmd(\"set ele patch_sector20 x_offset = 3.1e-6\")\n",
    "tao.cmd(\"set ele patch_sector20 x_pitch =  6.6e-6\")\n",
    "tao.cmd(\"set ele patch_sector20 y_offset = 8.2e-6\")\n",
    "tao.cmd(\"set ele patch_sector20 y_pitch =  6.1e-6\")\n",
    "tao.cmd(f\"set ele patch_sector20 e_tot_set = {10e9 * ( 1 + 0.027 ) }\")\n",
    "\n",
    "\n",
    "setLattice(tao, **importedDefaultSettings)"
   ]
  },
  {
   "cell_type": "markdown",
   "id": "152aa545-7f64-4dcc-abcd-4711da316c6d",
   "metadata": {},
   "source": [
    "## Solve for x and x'"
   ]
  },
  {
   "cell_type": "code",
   "execution_count": 5,
   "id": "8483fac1-4277-4230-9c03-24dbb77e82b9",
   "metadata": {},
   "outputs": [
    {
     "name": "stdout",
     "output_type": "stream",
     "text": [
      "x = 3.1000056561218 um, x' = 6.599997493685794 urad\n"
     ]
    }
   ],
   "source": [
    "measuredXValues = { bpm : -1 * tao.ele_orbit(bpm)[\"x\"] for bpm in listOfBPMs } #Can't remember why this has to be negative\n",
    "\n",
    "assembledMatrix = np.array([ m[0] for m in allMatrices.values() ])\n",
    "\n",
    "inverseMatrix = np.linalg.pinv(assembledMatrix)\n",
    "\n",
    "solution = np.dot(inverseMatrix, list(measuredXValues.values()))\n",
    "\n",
    "print(f\"x = {1e6 * solution[0]} um, x' = {1e6 * solution[1]} urad\")"
   ]
  },
  {
   "cell_type": "markdown",
   "id": "f13ea2ef-68c1-4791-b214-38ae31246be0",
   "metadata": {},
   "source": [
    "## Solve for y, y', and energy"
   ]
  },
  {
   "cell_type": "code",
   "execution_count": 6,
   "id": "2d4bb675-752c-4071-8e90-d260408c4103",
   "metadata": {},
   "outputs": [
    {
     "name": "stdout",
     "output_type": "stream",
     "text": [
      "y = 8.200000017094256 um, y' = 6.100000005324288 urad, energy offset = 2.7160701721103306%\n"
     ]
    }
   ],
   "source": [
    "measuredYValues = { bpm : -1 * tao.ele_orbit(bpm)[\"y\"] for bpm in listOfBPMs } #Can't remember why this has to be negative\n",
    "\n",
    "assembledMatrix = np.array([ m[2] for m in allMatrices.values() ])\n",
    "\n",
    "inverseMatrix = np.linalg.pinv(assembledMatrix)\n",
    "\n",
    "solution = np.dot(inverseMatrix, list(measuredYValues.values()))\n",
    "\n",
    "print(f\"y = {1e6 * solution[2]} um, y' = {1e6 * solution[3]} urad, energy offset = {100 * solution[5]}%\")"
   ]
  },
  {
   "cell_type": "code",
   "execution_count": null,
   "id": "6e0dd06e-ad2f-4c62-bdcd-6adb0b6ee74b",
   "metadata": {},
   "outputs": [],
   "source": []
  }
 ],
 "metadata": {
  "kernelspec": {
   "display_name": "Python 3 (ipykernel)",
   "language": "python",
   "name": "python3"
  },
  "language_info": {
   "codemirror_mode": {
    "name": "ipython",
    "version": 3
   },
   "file_extension": ".py",
   "mimetype": "text/x-python",
   "name": "python",
   "nbconvert_exporter": "python",
   "pygments_lexer": "ipython3",
   "version": "3.11.8"
  }
 },
 "nbformat": 4,
 "nbformat_minor": 5
}
