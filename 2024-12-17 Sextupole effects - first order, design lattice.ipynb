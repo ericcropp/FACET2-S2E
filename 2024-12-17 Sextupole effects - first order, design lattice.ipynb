{
 "cells": [
  {
   "cell_type": "code",
   "execution_count": 1,
   "id": "021d6aea-1556-4fae-9008-2ae7df9e3601",
   "metadata": {},
   "outputs": [],
   "source": [
    "from UTILITY_quickstart import *"
   ]
  },
  {
   "cell_type": "code",
   "execution_count": 2,
   "id": "faebf4e3-a377-4524-b6be-11de19e6ac2b",
   "metadata": {},
   "outputs": [
    {
     "name": "stdout",
     "output_type": "stream",
     "text": [
      "Environment set to:  /Users/nmajik/Documents/SLAC/FACET2-Bmad-PyTao\n",
      "Tracking to end\n",
      "CSR off\n",
      "Base Tao lattice\n",
      "WARNING! No beam file is specified!\n",
      "Number of macro particles defined by input file\n"
     ]
    }
   ],
   "source": [
    "# Here we DON'T load any design lattice; this is the PURE golden lattice\n",
    "\n",
    "tao = initializeTao(\n",
    "    loadDefaultLatticeTF = False\n",
    ")"
   ]
  },
  {
   "cell_type": "code",
   "execution_count": null,
   "id": "e88149cf-79f8-47d1-b1a6-9302327d60b0",
   "metadata": {},
   "outputs": [],
   "source": []
  },
  {
   "cell_type": "markdown",
   "id": "40c4d652-3e65-4ad5-a280-b5ed3427e0e7",
   "metadata": {
    "jp-MarkdownHeadingCollapsed": true
   },
   "source": [
    "# Sanity check"
   ]
  },
  {
   "cell_type": "code",
   "execution_count": 3,
   "id": "0019e298-7eef-4317-babd-4a4620090cc2",
   "metadata": {},
   "outputs": [],
   "source": [
    "#PR10571 lucretia live model lattice 2024-10-16\n",
    "# targetBetaX  = 5.7\n",
    "# targetBetaY  = 2.6\n",
    "# targetAlphaX = -2.1\n",
    "# targetAlphaY = 0.0\n"
   ]
  },
  {
   "cell_type": "code",
   "execution_count": 4,
   "id": "db163646-c291-47ab-aa2a-96b39a46fd66",
   "metadata": {},
   "outputs": [
    {
     "data": {
      "text/plain": [
       "['Element # 124',\n",
       " 'Element Name: PR10571',\n",
       " 'Element Type:  \"OTR\"',\n",
       " 'Element Alias:  \"OTRS:IN10:571\"',\n",
       " 'Key: Monitor',\n",
       " 'S_start, S:     14.236682,     14.236682',\n",
       " 'Ref_time_start, Ref_time:  4.750495E-08,  4.750495E-08',\n",
       " '',\n",
       " 'Attribute values [Only non-zero values shown]:',\n",
       " '    1  L                           =  0.0000000E+00 m',\n",
       " '    7  OSC_AMPLITUDE               =  0.0000000E+00 m',\n",
       " '   10  FRINGE_TYPE                 =  None (1)               11  FRINGE_AT                   =  Both_Ends (3)',\n",
       " '   13  SPIN_FRINGE_ON              =  T (1)',\n",
       " '   17  STATIC_LINEAR_MAP           =  F (0)',\n",
       " '   24  TILT_CALIB                  =  0.0000000E+00 rad',\n",
       " '   25  DE_ETA_MEAS                 =  0.0000000E+00',\n",
       " '   53  P0C                         =  1.2499896E+08 eV           BETA                        =  9.9999164E-01',\n",
       " '   54  E_TOT                       =  1.2500000E+08 eV           GAMMA                       =  2.4461890E+02',\n",
       " '   64  REF_TIME_START              =  4.7504954E-08 sec      50  DELTA_REF_TIME              =  0.0000000E+00 sec',\n",
       " '   65  INTEGRATOR_ORDER            = 0',\n",
       " '   67  DS_STEP                     =  2.0000000E-01 m        66  NUM_STEPS                   = 1',\n",
       " '   68  CSR_DS_STEP                 =  0.0000000E+00 m',\n",
       " '',\n",
       " '       TRACKING_METHOD              =  Bmad_Standard             APERTURE_AT                =  Exit_End',\n",
       " '       MAT6_CALC_METHOD             =  Auto                      APERTURE_TYPE              =  Rectangular',\n",
       " '       SPIN_TRACKING_METHOD         =  Tracking                  OFFSET_MOVES_APERTURE      =  F',\n",
       " '       PTC_INTEGRATION_TYPE         =  Matrix_Kick               SYMPLECTIFY                =  F',\n",
       " '       CSR_METHOD                   =  Off                       LONGITUDINAL ORIENTATION   =       1',\n",
       " '       SPACE_CHARGE_METHOD          =  Off                       REF_SPECIES                =  Electron',\n",
       " '       FIELD_CALC                   =  Bmad_Standard',\n",
       " '',\n",
       " 'Slave_status: Free',\n",
       " '',\n",
       " 'Lord_status:  Not_a_Lord',\n",
       " '',\n",
       " 'Twiss at end of element:',\n",
       " '                          A              B            Cbar                        C_mat',\n",
       " '  Beta (m)         5.73666431     2.57530302  |  -0.00000000   0.00000000     -0.00000000   0.00000000',\n",
       " '  Alpha           -2.14411559     0.01016211  |  -0.00000000   0.00000000     -0.00000000   0.00000000',\n",
       " '  Gamma (1/m)      0.97569448     0.38834392  |   Gamma_c =   1.00000000       Mode_Flip = F',\n",
       " '  Phi (rad)        8.03222030     7.92284024            X              Y              Z',\n",
       " '  Eta (m)         -0.00000000     0.00000000    -0.00000000     0.00000000     0.33734008',\n",
       " '  Etap             0.00000000     0.00000000     0.00000000     0.00000000     0.00000000',\n",
       " '  dEta/ds         -0.00000000     0.00000000    -0.00000000     0.00000000     0.00000000',\n",
       " '',\n",
       " 'Tracking: Electron,   State: Alive',\n",
       " '         Position[mm] Momentum[mrad]        Spin   |',\n",
       " '  X:       0.00000000     0.00000000               | t_particle [sec]:        4.75049539E-08  E_tot: 1.25000E+08',\n",
       " '  Y:       0.00000000    -0.00000000               | t_part-t_ref [sec]:      1.32348898E-23  PC:    1.24999E+08',\n",
       " '  Z:       0.00000000     0.00000000               | (t_ref-t_part)*Vel [m]: -3.96768699E-15  Beta:  0.999991644']"
      ]
     },
     "execution_count": 4,
     "metadata": {},
     "output_type": "execute_result"
    }
   ],
   "source": [
    "tao.cmd(\"show ele PR10571\")"
   ]
  },
  {
   "cell_type": "code",
   "execution_count": 7,
   "id": "f556e56f-7052-472d-807b-12c0cc14783b",
   "metadata": {},
   "outputs": [
    {
     "data": {
      "text/plain": [
       "{'x': 4.97531369049068e-17,\n",
       " 'px': 1.58634273450438e-17,\n",
       " 'y': 1.73540434623332e-37,\n",
       " 'py': -1.02938579182415e-37,\n",
       " 'z': 1.7249091930631e-17,\n",
       " 'pz': 7.15261713940425e-16,\n",
       " 'spin': array([0., 0., 0.]),\n",
       " 'field': array([0., 0.]),\n",
       " 'phase': array([0., 0.]),\n",
       " 's': 14.2366820881014,\n",
       " 't': 4.75049539042552e-08,\n",
       " 'charge': 0.0,\n",
       " 'dt_ref': 0.0,\n",
       " 'p0c': 124998955.515929,\n",
       " 'beta': 0.999991644127429,\n",
       " 'ix_ele': 124,\n",
       " 'state': 'Alive',\n",
       " 'direction': 1,\n",
       " 'species': 'Electron',\n",
       " 'location': 'Downstream_End',\n",
       " 'mode_flip': False,\n",
       " 'beta_a': 5.73666430647329,\n",
       " 'alpha_a': -2.14411559258004,\n",
       " 'gamma_a': 0.97569447597429,\n",
       " 'phi_a': 8.03222029857855,\n",
       " 'eta_a': -2.28278331257921e-17,\n",
       " 'etap_a': 1.31903535732139e-17,\n",
       " 'beta_b': 2.57530301968477,\n",
       " 'alpha_b': 0.0101621068662377,\n",
       " 'gamma_b': 0.388343919442295,\n",
       " 'phi_b': 7.92284024054067,\n",
       " 'eta_b': 5.41648557506442e-37,\n",
       " 'etap_b': 1.24892425808867e-37,\n",
       " 'eta_x': -2.28278331257921e-17,\n",
       " 'etap_x': 1.31903535732139e-17,\n",
       " 'eta_y': 5.99559739775683e-37,\n",
       " 'etap_y': 1.48015903774271e-37}"
      ]
     },
     "execution_count": 7,
     "metadata": {},
     "output_type": "execute_result"
    }
   ],
   "source": [
    "tao.ele_orbit(\"PR10571\") | tao.ele_twiss(\"PR10571\")"
   ]
  },
  {
   "cell_type": "code",
   "execution_count": 8,
   "id": "83887712-94a5-4949-b5ae-727bee6ffbdb",
   "metadata": {},
   "outputs": [
    {
     "data": {
      "text/plain": [
       "{'x': 1.07665488353972e-17,\n",
       " 'px': -8.54148430787333e-19,\n",
       " 'y': -9.73783792031515e-19,\n",
       " 'py': -7.35505843412065e-20,\n",
       " 'z': -1.52790996376133e-15,\n",
       " 'pz': 8.58306885885983e-15,\n",
       " 'spin': array([0., 0., 0.]),\n",
       " 'field': array([0., 0.]),\n",
       " 'phase': array([0., 0.]),\n",
       " 's': 994.772814779842,\n",
       " 't': 3.3182219425745e-06,\n",
       " 'charge': 0.0,\n",
       " 'dt_ref': 0.0,\n",
       " 'p0c': 9999999986.94688,\n",
       " 'beta': 0.9999999986944,\n",
       " 'ix_ele': 1533,\n",
       " 'state': 'Alive',\n",
       " 'direction': 1,\n",
       " 'species': 'Electron',\n",
       " 'location': 'Downstream_End',\n",
       " 'mode_flip': False,\n",
       " 'beta_a': 0.500113514905197,\n",
       " 'alpha_a': -8.61413026751329e-05,\n",
       " 'gamma_a': 1.99954605827816,\n",
       " 'phi_a': 73.1003856252223,\n",
       " 'eta_a': -4.29100544671707e-07,\n",
       " 'etap_a': -7.60864677687215e-06,\n",
       " 'beta_b': 0.499955681369933,\n",
       " 'alpha_b': 0.000116201966385052,\n",
       " 'gamma_b': 2.00017731724298,\n",
       " 'phi_b': 60.4082301501082,\n",
       " 'eta_b': -6.77061438266207e-18,\n",
       " 'etap_b': -1.31862568529426e-17,\n",
       " 'eta_x': -4.29100544671707e-07,\n",
       " 'etap_x': -7.60864677687215e-06,\n",
       " 'eta_y': -6.77059836943936e-18,\n",
       " 'etap_y': -1.31862402801866e-17}"
      ]
     },
     "execution_count": 8,
     "metadata": {},
     "output_type": "execute_result"
    }
   ],
   "source": [
    "tao.ele_orbit(\"PENT\") | tao.ele_twiss(\"PENT\")"
   ]
  },
  {
   "cell_type": "code",
   "execution_count": 9,
   "id": "e5def824-4fd1-4dce-918f-1983c1b80e0b",
   "metadata": {},
   "outputs": [
    {
     "data": {
      "text/plain": [
       "{'x': -0.000833917037970837,\n",
       " 'px': 0.000632228621902223,\n",
       " 'y': 2.22095785145344e-13,\n",
       " 'py': -3.90900994206418e-14,\n",
       " 'z': -3.91572599588711e-05,\n",
       " 'pz': 8.58306885885983e-15,\n",
       " 'spin': array([0., 0., 0.]),\n",
       " 'field': array([0., 0.]),\n",
       " 'phase': array([0., 0.]),\n",
       " 's': 994.772814779842,\n",
       " 't': 3.31822207318906e-06,\n",
       " 'charge': 0.0,\n",
       " 'dt_ref': 0.0,\n",
       " 'p0c': 9999999986.94688,\n",
       " 'beta': 0.9999999986944,\n",
       " 'ix_ele': 1533,\n",
       " 'state': 'Alive',\n",
       " 'direction': 1,\n",
       " 'species': 'Electron',\n",
       " 'location': 'Downstream_End',\n",
       " 'mode_flip': False,\n",
       " 'beta_a': 1.4792579897293,\n",
       " 'alpha_a': 2.31535968422923,\n",
       " 'gamma_a': 4.30005483257053,\n",
       " 'phi_a': 71.9376920262591,\n",
       " 'eta_a': -0.0551979061674551,\n",
       " 'etap_a': 0.0363759071846087,\n",
       " 'beta_b': 1.41979433328169,\n",
       " 'alpha_b': -5.63791603295003,\n",
       " 'gamma_b': 23.0921454087041,\n",
       " 'phi_b': 62.7818619507927,\n",
       " 'eta_b': 2.29868471291632e-11,\n",
       " 'etap_b': -2.4067194787677e-12,\n",
       " 'eta_x': -0.0551979061674551,\n",
       " 'etap_x': 0.0363759071846087,\n",
       " 'eta_y': 5.40989401293682e-11,\n",
       " 'etap_y': -7.88302053560208e-12}"
      ]
     },
     "execution_count": 9,
     "metadata": {},
     "output_type": "execute_result"
    }
   ],
   "source": [
    "setXOffset(tao, \"S1EL\", 0.01)\n",
    "tao.ele_orbit(\"PENT\") | tao.ele_twiss(\"PENT\")"
   ]
  },
  {
   "cell_type": "code",
   "execution_count": 10,
   "id": "a9c71055-b8de-4ed1-92d8-14d185edd6c6",
   "metadata": {},
   "outputs": [],
   "source": [
    "setXOffset(tao, \"S1EL\", 0.00)"
   ]
  },
  {
   "cell_type": "markdown",
   "id": "785bb49d-1fd9-4966-89d8-9886ece40795",
   "metadata": {},
   "source": [
    "# Automate"
   ]
  },
  {
   "cell_type": "code",
   "execution_count": 38,
   "id": "46330660-cc53-4895-9b7e-c56e624862ca",
   "metadata": {},
   "outputs": [],
   "source": [
    "def resetSextupoles():\n",
    "    setXOffset(tao, \"S1EL\", 0.0)\n",
    "    setYOffset(tao, \"S1EL\", 0.0)\n",
    "    setXOffset(tao, \"S2EL\", 0.0)\n",
    "    setYOffset(tao, \"S2EL\", 0.0)\n",
    "    setXOffset(tao, \"S2ER\", 0.0)\n",
    "    setYOffset(tao, \"S2ER\", 0.0)\n",
    "    setXOffset(tao, \"S1ER\", 0.0)\n",
    "    setYOffset(tao, \"S1ER\", 0.0)\n",
    "\n",
    "def setSextupoles(vec):\n",
    "    setXOffset(tao, \"S1EL\", vec[0])\n",
    "    setYOffset(tao, \"S1EL\", vec[1])\n",
    "    setXOffset(tao, \"S2EL\", vec[2])\n",
    "    setYOffset(tao, \"S2EL\", vec[3])\n",
    "    setXOffset(tao, \"S2ER\", vec[4])\n",
    "    setYOffset(tao, \"S2ER\", vec[5])\n",
    "    setXOffset(tao, \"S1ER\", vec[6])\n",
    "    setYOffset(tao, \"S1ER\", vec[7])\n",
    "\n",
    "def getData():\n",
    "    data = tao.ele_orbit(\"PENT\") | tao.ele_twiss(\"PENT\")\n",
    "\n",
    "    for key in data:\n",
    "        if isinstance(data[key], np.ndarray):\n",
    "            data[key] = (data[key]).tolist()\n",
    "        \n",
    "    return data"
   ]
  },
  {
   "cell_type": "code",
   "execution_count": 53,
   "id": "ca4c654a-f8fb-40fa-89dc-5960012e7051",
   "metadata": {},
   "outputs": [
    {
     "data": {
      "text/html": [
       "<style type=\"text/css\">\n",
       "</style>\n",
       "<table id=\"T_9c9f7\">\n",
       "  <thead>\n",
       "  </thead>\n",
       "  <tbody>\n",
       "    <tr>\n",
       "      <td id=\"T_9c9f7_row0_col0\" class=\"data row0 col0\" >-0.000008</td>\n",
       "    </tr>\n",
       "    <tr>\n",
       "      <td id=\"T_9c9f7_row1_col0\" class=\"data row1 col0\" >0.000005</td>\n",
       "    </tr>\n",
       "    <tr>\n",
       "      <td id=\"T_9c9f7_row2_col0\" class=\"data row2 col0\" >0.000000</td>\n",
       "    </tr>\n",
       "    <tr>\n",
       "      <td id=\"T_9c9f7_row3_col0\" class=\"data row3 col0\" >-0.000000</td>\n",
       "    </tr>\n",
       "    <tr>\n",
       "      <td id=\"T_9c9f7_row4_col0\" class=\"data row4 col0\" >-0.000000</td>\n",
       "    </tr>\n",
       "    <tr>\n",
       "      <td id=\"T_9c9f7_row5_col0\" class=\"data row5 col0\" >0.000000</td>\n",
       "    </tr>\n",
       "  </tbody>\n",
       "</table>\n"
      ],
      "text/plain": [
       "<pandas.io.formats.style.Styler at 0x16bae87d0>"
      ]
     },
     "metadata": {},
     "output_type": "display_data"
    },
    {
     "data": {
      "text/html": [
       "<style type=\"text/css\">\n",
       "</style>\n",
       "<table id=\"T_1ae80\">\n",
       "  <thead>\n",
       "  </thead>\n",
       "  <tbody>\n",
       "    <tr>\n",
       "      <td id=\"T_1ae80_row0_col0\" class=\"data row0 col0\" >-0.033843</td>\n",
       "      <td id=\"T_1ae80_row0_col1\" class=\"data row0 col1\" >-2.043108</td>\n",
       "      <td id=\"T_1ae80_row0_col2\" class=\"data row0 col2\" >0.000000</td>\n",
       "      <td id=\"T_1ae80_row0_col3\" class=\"data row0 col3\" >-0.000000</td>\n",
       "      <td id=\"T_1ae80_row0_col4\" class=\"data row0 col4\" >0.000000</td>\n",
       "      <td id=\"T_1ae80_row0_col5\" class=\"data row0 col5\" >-0.004446</td>\n",
       "    </tr>\n",
       "    <tr>\n",
       "      <td id=\"T_1ae80_row1_col0\" class=\"data row1 col0\" >0.540175</td>\n",
       "      <td id=\"T_1ae80_row1_col1\" class=\"data row1 col1\" >3.062249</td>\n",
       "      <td id=\"T_1ae80_row1_col2\" class=\"data row1 col2\" >-0.000000</td>\n",
       "      <td id=\"T_1ae80_row1_col3\" class=\"data row1 col3\" >0.000000</td>\n",
       "      <td id=\"T_1ae80_row1_col4\" class=\"data row1 col4\" >0.000000</td>\n",
       "      <td id=\"T_1ae80_row1_col5\" class=\"data row1 col5\" >0.002973</td>\n",
       "    </tr>\n",
       "    <tr>\n",
       "      <td id=\"T_1ae80_row2_col0\" class=\"data row2 col0\" >-0.000000</td>\n",
       "      <td id=\"T_1ae80_row2_col1\" class=\"data row2 col1\" >0.000000</td>\n",
       "      <td id=\"T_1ae80_row2_col2\" class=\"data row2 col2\" >0.190908</td>\n",
       "      <td id=\"T_1ae80_row2_col3\" class=\"data row2 col3\" >2.389339</td>\n",
       "      <td id=\"T_1ae80_row2_col4\" class=\"data row2 col4\" >0.000000</td>\n",
       "      <td id=\"T_1ae80_row2_col5\" class=\"data row2 col5\" >0.000000</td>\n",
       "    </tr>\n",
       "    <tr>\n",
       "      <td id=\"T_1ae80_row3_col0\" class=\"data row3 col0\" >0.000000</td>\n",
       "      <td id=\"T_1ae80_row3_col1\" class=\"data row3 col1\" >-0.000000</td>\n",
       "      <td id=\"T_1ae80_row3_col2\" class=\"data row3 col2\" >-0.069478</td>\n",
       "      <td id=\"T_1ae80_row3_col3\" class=\"data row3 col3\" >4.368564</td>\n",
       "      <td id=\"T_1ae80_row3_col4\" class=\"data row3 col4\" >0.000000</td>\n",
       "      <td id=\"T_1ae80_row3_col5\" class=\"data row3 col5\" >-0.000000</td>\n",
       "    </tr>\n",
       "    <tr>\n",
       "      <td id=\"T_1ae80_row4_col0\" class=\"data row4 col0\" >-0.002301</td>\n",
       "      <td id=\"T_1ae80_row4_col1\" class=\"data row4 col1\" >-0.007542</td>\n",
       "      <td id=\"T_1ae80_row4_col2\" class=\"data row4 col2\" >-0.000000</td>\n",
       "      <td id=\"T_1ae80_row4_col3\" class=\"data row4 col3\" >0.000000</td>\n",
       "      <td id=\"T_1ae80_row4_col4\" class=\"data row4 col4\" >1.000000</td>\n",
       "      <td id=\"T_1ae80_row4_col5\" class=\"data row4 col5\" >-0.007222</td>\n",
       "    </tr>\n",
       "    <tr>\n",
       "      <td id=\"T_1ae80_row5_col0\" class=\"data row5 col0\" >0.000000</td>\n",
       "      <td id=\"T_1ae80_row5_col1\" class=\"data row5 col1\" >0.000000</td>\n",
       "      <td id=\"T_1ae80_row5_col2\" class=\"data row5 col2\" >0.000000</td>\n",
       "      <td id=\"T_1ae80_row5_col3\" class=\"data row5 col3\" >0.000000</td>\n",
       "      <td id=\"T_1ae80_row5_col4\" class=\"data row5 col4\" >0.000000</td>\n",
       "      <td id=\"T_1ae80_row5_col5\" class=\"data row5 col5\" >1.000000</td>\n",
       "    </tr>\n",
       "  </tbody>\n",
       "</table>\n"
      ],
      "text/plain": [
       "<pandas.io.formats.style.Styler at 0x16baea010>"
      ]
     },
     "metadata": {},
     "output_type": "display_data"
    },
    {
     "data": {
      "text/plain": [
       "{'x': -7.51228641959837e-06,\n",
       " 'px': 5.13375583407611e-06,\n",
       " 'y': 2.31006105243658e-17,\n",
       " 'py': -3.21898451777834e-18,\n",
       " 'z': -3.55960879798408e-07,\n",
       " 'pz': 8.58306885885983e-15,\n",
       " 'spin': [0.0, 0.0, 0.0],\n",
       " 'field': [0.0, 0.0],\n",
       " 'phase': [0.0, 0.0],\n",
       " 's': 994.772814779842,\n",
       " 't': 3.31822194376185e-06,\n",
       " 'charge': 0.0,\n",
       " 'dt_ref': 0.0,\n",
       " 'p0c': 9999999986.94688,\n",
       " 'beta': 0.9999999986944,\n",
       " 'ix_ele': 1533,\n",
       " 'state': 'Alive',\n",
       " 'direction': 1,\n",
       " 'species': 'Electron',\n",
       " 'location': 'Downstream_End',\n",
       " 'mode_flip': False,\n",
       " 'beta_a': 0.458696630601814,\n",
       " 'alpha_a': 0.173653568104049,\n",
       " 'gamma_a': 2.24583197910936,\n",
       " 'phi_a': 72.9106403772531,\n",
       " 'eta_a': -0.00444586715607343,\n",
       " 'etap_a': 0.00296459485562284,\n",
       " 'beta_b': 0.3999032805939,\n",
       " 'alpha_b': 0.22337144493942,\n",
       " 'gamma_b': 2.62537181704315,\n",
       " 'phi_b': 60.4549751862643,\n",
       " 'eta_b': 2.65810129089763e-13,\n",
       " 'etap_b': -4.66186718920218e-14,\n",
       " 'eta_x': -0.00444586715607343,\n",
       " 'etap_x': 0.00296459485562284,\n",
       " 'eta_y': 2.89239949711129e-13,\n",
       " 'etap_y': -5.07416619423541e-14}"
      ]
     },
     "execution_count": 53,
     "metadata": {},
     "output_type": "execute_result"
    }
   ],
   "source": [
    "resetSextupoles()\n",
    "\n",
    "setSextupoles([0.001,0,0,0,0,0,0,0])\n",
    "\n",
    "getMatrix(tao, \"BEGBC20\", \"PENT\", order = 0, print = True)\n",
    "getMatrix(tao, \"BEGBC20\", \"PENT\", order = 1, print = True)\n",
    "getData()"
   ]
  },
  {
   "cell_type": "code",
   "execution_count": 54,
   "id": "0fa2f485-b123-4ad5-a0e2-14a53f7c6a50",
   "metadata": {},
   "outputs": [],
   "source": [
    "import json \n",
    "\n",
    "resetSextupoles()\n",
    "\n",
    "outputFolder = \"2024-12-16_sextupoleStudy\"\n",
    "\n",
    "with open(f\"{outputFolder}/base.json\", \"w\") as outfile: \n",
    "    json.dump(getData(), outfile)"
   ]
  },
  {
   "cell_type": "code",
   "execution_count": 56,
   "id": "c716f1ec-bf3e-48e9-b77a-7b4ff78bb0d0",
   "metadata": {},
   "outputs": [],
   "source": [
    "perturbSize = 1000e-6\n",
    "\n",
    "moveDefinitions = {\n",
    "    \"S1EL_xOffset\" : [ perturbSize, 0, 0, 0, 0, 0, 0, 0 ],\n",
    "    \"S1EL_yOffset\" : [ 0, perturbSize, 0, 0, 0, 0, 0, 0 ],\n",
    "    \"S2EL_xOffset\" : [ 0, 0, perturbSize, 0, 0, 0, 0, 0 ],\n",
    "    \"S2EL_yOffset\" : [ 0, 0, 0, perturbSize, 0, 0, 0, 0 ],\n",
    "    \"S2ER_xOffset\" : [ 0, 0, 0, 0, perturbSize, 0, 0, 0 ],\n",
    "    \"S2ER_yOffset\" : [ 0, 0, 0, 0, 0, perturbSize, 0, 0 ],\n",
    "    \"S1ER_xOffset\" : [ 0, 0, 0, 0, 0, 0, perturbSize, 0 ],\n",
    "    \"S1ER_yOffset\" : [ 0, 0, 0, 0, 0, 0, 0, perturbSize ],\n",
    "\n",
    "    \"S1_sym_x\"     : [ perturbSize, 0, 0, 0, 0, 0, perturbSize, 0 ],\n",
    "    \"S1_sym_y\"     : [ 0, perturbSize, 0, 0, 0, 0, 0, perturbSize ],\n",
    "    \"S2_sym_x\"     : [ 0, 0, perturbSize, 0, perturbSize, 0, 0, 0 ],\n",
    "    \"S2_sym_y\"     : [ 0, 0, 0, perturbSize, 0, perturbSize, 0, 0 ],\n",
    "\n",
    "    \"S1_asym_x\"    : [ perturbSize, 0, 0, 0, 0, 0, -1*perturbSize, 0 ],\n",
    "    \"S1_asym_y\"    : [ 0, perturbSize, 0, 0, 0, 0, 0, -1*perturbSize ],\n",
    "    \"S2_asym_x\"    : [ 0, 0, perturbSize, 0, -1*perturbSize, 0, 0, 0 ],\n",
    "    \"S2_asym_y\"    : [ 0, 0, 0, perturbSize, 0, -1*perturbSize, 0, 0 ],\n",
    "    \n",
    "}"
   ]
  },
  {
   "cell_type": "code",
   "execution_count": 57,
   "id": "1ef1d4e6-29bf-4303-bf93-f7a250202478",
   "metadata": {},
   "outputs": [
    {
     "name": "stdout",
     "output_type": "stream",
     "text": [
      "S1EL_xOffset\n",
      "[0.001, 0, 0, 0, 0, 0, 0, 0]\n",
      "S1EL_xOffset\n",
      "[0.001, 0, 0, 0, 0, 0, 0, 0]\n",
      "S1EL_yOffset\n",
      "[0, 0.001, 0, 0, 0, 0, 0, 0]\n",
      "S1EL_yOffset\n",
      "[0, 0.001, 0, 0, 0, 0, 0, 0]\n",
      "S2EL_xOffset\n",
      "[0, 0, 0.001, 0, 0, 0, 0, 0]\n",
      "S2EL_xOffset\n",
      "[0, 0, 0.001, 0, 0, 0, 0, 0]\n",
      "S2EL_yOffset\n",
      "[0, 0, 0, 0.001, 0, 0, 0, 0]\n",
      "S2EL_yOffset\n",
      "[0, 0, 0, 0.001, 0, 0, 0, 0]\n",
      "S2ER_xOffset\n",
      "[0, 0, 0, 0, 0.001, 0, 0, 0]\n",
      "S2ER_xOffset\n",
      "[0, 0, 0, 0, 0.001, 0, 0, 0]\n",
      "S2ER_yOffset\n",
      "[0, 0, 0, 0, 0, 0.001, 0, 0]\n",
      "S2ER_yOffset\n",
      "[0, 0, 0, 0, 0, 0.001, 0, 0]\n",
      "S1ER_xOffset\n",
      "[0, 0, 0, 0, 0, 0, 0.001, 0]\n",
      "S1ER_xOffset\n",
      "[0, 0, 0, 0, 0, 0, 0.001, 0]\n",
      "S1ER_yOffset\n",
      "[0, 0, 0, 0, 0, 0, 0, 0.001]\n",
      "S1ER_yOffset\n",
      "[0, 0, 0, 0, 0, 0, 0, 0.001]\n",
      "S1_sym_x\n",
      "[0.001, 0, 0, 0, 0, 0, 0.001, 0]\n",
      "S1_sym_x\n",
      "[0.001, 0, 0, 0, 0, 0, 0.001, 0]\n",
      "S1_sym_y\n",
      "[0, 0.001, 0, 0, 0, 0, 0, 0.001]\n",
      "S1_sym_y\n",
      "[0, 0.001, 0, 0, 0, 0, 0, 0.001]\n",
      "S2_sym_x\n",
      "[0, 0, 0.001, 0, 0.001, 0, 0, 0]\n",
      "S2_sym_x\n",
      "[0, 0, 0.001, 0, 0.001, 0, 0, 0]\n",
      "S2_sym_y\n",
      "[0, 0, 0, 0.001, 0, 0.001, 0, 0]\n",
      "S2_sym_y\n",
      "[0, 0, 0, 0.001, 0, 0.001, 0, 0]\n",
      "S1_asym_x\n",
      "[0.001, 0, 0, 0, 0, 0, -0.001, 0]\n",
      "S1_asym_x\n",
      "[0.001, 0, 0, 0, 0, 0, -0.001, 0]\n",
      "S1_asym_y\n",
      "[0, 0.001, 0, 0, 0, 0, 0, -0.001]\n",
      "S1_asym_y\n",
      "[0, 0.001, 0, 0, 0, 0, 0, -0.001]\n",
      "S2_asym_x\n",
      "[0, 0, 0.001, 0, -0.001, 0, 0, 0]\n",
      "S2_asym_x\n",
      "[0, 0, 0.001, 0, -0.001, 0, 0, 0]\n",
      "S2_asym_y\n",
      "[0, 0, 0, 0.001, 0, -0.001, 0, 0]\n",
      "S2_asym_y\n",
      "[0, 0, 0, 0.001, 0, -0.001, 0, 0]\n"
     ]
    }
   ],
   "source": [
    "for key in moveDefinitions:\n",
    "    for sign in [\"plus\", \"minus\"]:\n",
    "        \n",
    "        print(key)\n",
    "        print(moveDefinitions[key])\n",
    "        resetSextupoles()\n",
    "        setSextupoles(\n",
    "            [ x * ( 1 if sign == \"plus\" else -1 ) for x in moveDefinitions[key] ]\n",
    "        )\n",
    "        \n",
    "        with open(f\"{outputFolder}/{key}_{sign}.json\", \"w\") as outfile: \n",
    "            json.dump(getData(), outfile)"
   ]
  },
  {
   "cell_type": "markdown",
   "id": "fc1115b3-41a8-4709-a9bf-64d9fd54ab67",
   "metadata": {},
   "source": [
    "# An aside; changing ratio"
   ]
  },
  {
   "cell_type": "code",
   "execution_count": 61,
   "id": "33feb1da-bf6d-47e6-9e86-2f2541f9ee1a",
   "metadata": {
    "collapsed": true,
    "jupyter": {
     "outputs_hidden": true
    },
    "scrolled": true
   },
   "outputs": [
    {
     "name": "stdout",
     "output_type": "stream",
     "text": [
      "-0.002: 1.85108359111961e-05\n",
      "-0.0019: 1.59388864993174e-05\n",
      "-0.0018: 1.3500678466855e-05\n",
      "-0.0017: 1.11962162101308e-05\n",
      "-0.0015999999999999999: 9.02550412357829e-06\n",
      "-0.0014999999999999998: 6.98854659980896e-06\n",
      "-0.0013999999999999998: 5.08534802977032e-06\n",
      "-0.0012999999999999997: 3.31591280258847e-06\n",
      "-0.0011999999999999997: 1.68024530597412e-06\n",
      "-0.0010999999999999996: 1.7834992608856e-07\n",
      "-0.0009999999999999996: -1.18976895226701e-06\n",
      "-0.0008999999999999995: -2.42410694576808e-06\n",
      "-0.0007999999999999995: -3.52465967235551e-06\n",
      "-0.0006999999999999995: -4.49142275111074e-06\n",
      "-0.0005999999999999994: -5.32439180247649e-06\n",
      "-0.0004999999999999994: -6.02356244800584e-06\n",
      "-0.0003999999999999993: -6.58893031026982e-06\n",
      "-0.00029999999999999927: -7.02049101318861e-06\n",
      "-0.00019999999999999922: -7.31824018161476e-06\n",
      "-9.999999999999918e-05: -7.48217344137135e-06\n",
      "8.673617379884035e-19: -7.51228641959837e-06\n",
      "0.00010000000000000091: -7.40857474425391e-06\n",
      "0.00020000000000000096: -7.17103404443806e-06\n",
      "0.000300000000000001: -6.79965995019936e-06\n",
      "0.00040000000000000105: -6.29444809281359e-06\n",
      "0.0005000000000000011: -5.6553941045225e-06\n",
      "0.0006000000000000011: -4.88249361869238e-06\n",
      "0.0007000000000000012: -3.97574226973332e-06\n",
      "0.0008000000000000012: -2.93513569350914e-06\n",
      "0.0009000000000000013: -1.76066952650003e-06\n",
      "0.0010000000000000013: -4.523394069909e-07\n",
      "0.0011000000000000014: 9.89859025660127e-07\n",
      "0.0012000000000000014: 2.56593013088235e-06\n",
      "0.0013000000000000015: 4.27587826648618e-06\n",
      "0.0014000000000000015: 6.11970778902865e-06\n",
      "0.0015000000000000015: 8.09742305330553e-06\n",
      "0.0016000000000000016: 1.02090284127088e-05\n",
      "0.0017000000000000016: 1.2454528218816e-05\n",
      "0.0018000000000000017: 1.48339268214846e-05\n",
      "0.0019000000000000017: 1.73472285687075e-05\n"
     ]
    }
   ],
   "source": [
    "for indepMove in np.arange(-2e-3, 2e-3, 0.1e-3):\n",
    "    resetSextupoles()\n",
    "    setSextupoles(\n",
    "        [ 1e-3, 0, 0, 0, 0, 0, indepMove, 0 ]\n",
    "    )\n",
    "    print(f\"\"\"{indepMove}: {getData()[\"x\"]}\"\"\")"
   ]
  },
  {
   "cell_type": "code",
   "execution_count": null,
   "id": "8f815127-e29c-4fcb-96a9-d441ea63e6fa",
   "metadata": {},
   "outputs": [],
   "source": []
  },
  {
   "cell_type": "code",
   "execution_count": null,
   "id": "5cd7ab7d-448d-45a5-91b7-ccb09075e470",
   "metadata": {},
   "outputs": [],
   "source": []
  }
 ],
 "metadata": {
  "kernelspec": {
   "display_name": "Python 3 (ipykernel)",
   "language": "python",
   "name": "python3"
  },
  "language_info": {
   "codemirror_mode": {
    "name": "ipython",
    "version": 3
   },
   "file_extension": ".py",
   "mimetype": "text/x-python",
   "name": "python",
   "nbconvert_exporter": "python",
   "pygments_lexer": "ipython3",
   "version": "3.11.8"
  }
 },
 "nbformat": 4,
 "nbformat_minor": 5
}
