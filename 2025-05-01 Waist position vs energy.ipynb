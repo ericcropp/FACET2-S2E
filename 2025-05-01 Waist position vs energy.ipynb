{
 "cells": [
  {
   "cell_type": "code",
   "execution_count": 1,
   "id": "4140daee-7b59-401e-90b0-b6bbcd6cffab",
   "metadata": {},
   "outputs": [],
   "source": [
    "from UTILITY_quickstart import *\n",
    "import json"
   ]
  },
  {
   "cell_type": "code",
   "execution_count": 2,
   "id": "ce913b16-20ae-4a7a-9bfe-85b9d61d9837",
   "metadata": {},
   "outputs": [
    {
     "name": "stdout",
     "output_type": "stream",
     "text": [
      "Environment set to:  /Users/nmajik/Documents/SLAC/FACET2-Bmad-PyTao\n",
      "Tracking to end\n",
      "CSR off\n",
      "Not using setLattice(). Golden lattice\n",
      "WARNING! No beam file is specified!\n",
      "Number of macro particles defined by input file\n",
      "Beam created, written to /Users/nmajik/Documents/SLAC/FACET2-Bmad-PyTao/beams/activeBeamFile.h5, and reinit to tao\n"
     ]
    }
   ],
   "source": [
    "tao = initializeTao(\n",
    "    loadDefaultLatticeTF = False\n",
    ")"
   ]
  },
  {
   "cell_type": "code",
   "execution_count": 3,
   "id": "d5802589-82c8-4b19-aac9-054de948ea4d",
   "metadata": {},
   "outputs": [
    {
     "data": {
      "text/plain": [
       "[('Q5FF', -71.83776109541046),\n",
       " ('Q4FF', -81.2517605587486),\n",
       " ('Q3FF', 99.22574010962327),\n",
       " ('Q2FF', 126.35310735529067),\n",
       " ('Q1FF', -235.2189327906117),\n",
       " ('Q0FF', 126.35310735529067),\n",
       " ('Q0D', -109.694769332636),\n",
       " ('Q1D', 180.862985286722),\n",
       " ('Q2D', -109.694769332636)]"
      ]
     },
     "execution_count": 3,
     "metadata": {},
     "output_type": "execute_result"
    }
   ],
   "source": [
    "quadNameList =  [\"Q5FF\", \"Q4FF\", \"Q3FF\", \"Q2FF\", \"Q1FF\", \"Q0FF\", \"Q0D\", \"Q1D\", \"Q2D\"]\n",
    "[(i, getQuadkG(tao,i)) for i in quadNameList]"
   ]
  },
  {
   "cell_type": "code",
   "execution_count": 4,
   "id": "31794b92-6ca1-4f8c-b3d8-6053b1512a5d",
   "metadata": {},
   "outputs": [],
   "source": [
    "disableAutoQuadEnergyCompensation(tao)"
   ]
  },
  {
   "cell_type": "markdown",
   "id": "80a582d3-33cd-4ab2-96b2-71b2a6d58dcc",
   "metadata": {},
   "source": [
    "## L3 error"
   ]
  },
  {
   "cell_type": "code",
   "execution_count": 5,
   "id": "e736b2fb-1af7-407c-b8a6-a8eda1411ec0",
   "metadata": {},
   "outputs": [],
   "source": [
    "results = []\n",
    "\n",
    "for L3Voltage in np.arange(4.5e9, 6.6e9, 0.1e9):\n",
    "\n",
    "    setLinacGradientAuto(tao, \"L3\", L3Voltage)\n",
    "    \n",
    "    \n",
    "    for s in np.arange( -3, 3, 0.01 ):\n",
    "\n",
    "        twissData = tao.twiss_at_s( ele = \"PENT\", s_offset = s )\n",
    "        newLine = {\n",
    "            \"L3Voltage\" : L3Voltage,\n",
    "            \"s\" : s,\n",
    "            \"betaX\" : twissData[\"beta_a\"],\n",
    "            \"betaY\" : twissData[\"beta_b\"],\n",
    "        }\n",
    "        #print(newLine)\n",
    "        results.append(newLine)\n",
    "\n",
    "with open(\"/Users/nmajik/twiss_results_L3.json\", \"w\") as f:\n",
    "    json.dump(results, f, indent=2)"
   ]
  },
  {
   "cell_type": "markdown",
   "id": "0baab919-f4c5-44ad-878f-66ff3d1ddd48",
   "metadata": {},
   "source": [
    "## Patch error"
   ]
  },
  {
   "cell_type": "code",
   "execution_count": 6,
   "id": "f0325572-1c3f-4e3e-b1bd-3f2ff598828a",
   "metadata": {},
   "outputs": [],
   "source": [
    "setLinacGradientAuto(tao, \"L3\", 5.5e9)"
   ]
  },
  {
   "cell_type": "code",
   "execution_count": 7,
   "id": "406217dd-f7ce-452d-bc4b-0d8e44770385",
   "metadata": {},
   "outputs": [],
   "source": [
    "results = []\n",
    "\n",
    "for energy in np.arange(9.0e9, 11.1e9, 0.1e9):\n",
    "    tao.cmd(f\"set ele patch_sector20 e_tot_set = {energy}\")\n",
    "\n",
    "    #print(tao.twiss_at_s( ele = \"MFFF\", s_offset = 0 ))\n",
    "    \n",
    "    \n",
    "    for s in np.arange( -3, 3, 0.01 ):\n",
    "\n",
    "        twissData = tao.twiss_at_s( ele = \"PENT\", s_offset = s )\n",
    "        newLine = {\n",
    "            \"energy\" : energy,\n",
    "            \"s\" : s,\n",
    "            \"betaX\" : twissData[\"beta_a\"],\n",
    "            \"betaY\" : twissData[\"beta_b\"],\n",
    "        }\n",
    "        #print(newLine)\n",
    "        results.append(newLine)\n",
    "\n",
    "\n",
    "\n",
    "with open(\"/Users/nmajik/twiss_results_patch.json\", \"w\") as f:\n",
    "    json.dump(results, f, indent=2)"
   ]
  },
  {
   "cell_type": "code",
   "execution_count": null,
   "id": "4d8ff332-2e4d-4fbe-bc47-aea15b82fea8",
   "metadata": {},
   "outputs": [],
   "source": []
  }
 ],
 "metadata": {
  "kernelspec": {
   "display_name": "Python 3 (ipykernel)",
   "language": "python",
   "name": "python3"
  },
  "language_info": {
   "codemirror_mode": {
    "name": "ipython",
    "version": 3
   },
   "file_extension": ".py",
   "mimetype": "text/x-python",
   "name": "python",
   "nbconvert_exporter": "python",
   "pygments_lexer": "ipython3",
   "version": "3.11.11"
  }
 },
 "nbformat": 4,
 "nbformat_minor": 5
}
