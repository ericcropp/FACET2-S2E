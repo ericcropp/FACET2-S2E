{
 "cells": [
  {
   "cell_type": "markdown",
   "id": "db8c7a87-ddf1-41bb-b65f-bab25959558d",
   "metadata": {},
   "source": [
    "# Initialization"
   ]
  },
  {
   "cell_type": "code",
   "execution_count": 1,
   "id": "6c7595c3-aa89-43a1-a46b-4501c93a9be5",
   "metadata": {},
   "outputs": [],
   "source": [
    "#Import all the UTILITY functions\n",
    "from UTILITY_quickstart import *"
   ]
  },
  {
   "cell_type": "code",
   "execution_count": 2,
   "id": "ce41f0a4-39e9-4ccd-8f83-5e873000cae5",
   "metadata": {},
   "outputs": [
    {
     "name": "stdout",
     "output_type": "stream",
     "text": [
      "Environment set to:  /Users/nmajik/Documents/SLAC/FACET2-S2E\n",
      "Tracking to end\n",
      "CSR off\n",
      "Overwriting lattice with setLattice() defaults\n",
      "No defaults file provided to setLattice(). Using /Users/nmajik/Documents/SLAC/FACET2-S2E/setLattice_configs/defaults.yml\n",
      "Running Impact\n",
      "\t Impact: Autophasing\n",
      "\t Impact: Distgen\n",
      "\t Impact: Tracking\n",
      "Running Impact-T in /Users/nmajik/Documents/SLAC/FACET2-S2E/impact/tmp9m0jmab6\n",
      "/opt/homebrew/anaconda3/envs/bmad2025-06-27/bin/ImpactTexe\n",
      "writing 10000 particles to /Users/nmajik/Documents/SLAC/FACET2-S2E/impact/tmp9m0jmab6/partcl.data\n",
      "Cathode start with cathode_kinetic_energy_ref = 1.0 eV\n",
      "Cathode start: Replaced Np with 10000 according to initial particles\n",
      "Cathode start: Replaced Bkenergy with 1.0 according to initial particles\n",
      "Cathode start: Replaced Temission with 6.97502773839391e-12 according to initial particles\n",
      "Cathode start: Replaced Tini with -3.4942219079267073e-12 according to initial particles\n",
      "Setting total charge to 1.8e-09 C\n",
      " !-----------------------------------------------------------\n",
      " ! IMPACT-T Parallel Beam Dynamics Tracking Code: V3.0\n",
      " ! Copyright of The Regents of the University of California\n",
      " !-----------------------------------------------------------\n",
      " nblem:           28          28\n",
      " pass setting up lattice...\n",
      " check randomness:            0  0.30440529327431320     \n",
      " avgpts, jlow, and jhigh:        10000           1       10000\n",
      " sumx1,sumy1:   -4.5672946932732739E-004   3.0148945298505132E-004\n",
      " pass generating initial distribution...\n",
      " tstop:    4.2000000000000002     \n",
      " i,t,<z>:            1  -3.4942219079267073E-012   0.0000000000000000     \n",
      " zmin,zmax:   -4.1368616623155996E-006  -1.0164395367051603E-020\n",
      " i,t,<z>:            2  -3.4767843385807225E-012  -2.0724093426836658E-006\n",
      " time:    0.0000000000000000, elapsed: 46.6935920715332Finished.19055, elapsed: 46.647436141967775274175\n",
      "Loaded fort 18 : Time and energy\n",
      "Loaded fort 24 : RMS X information\n",
      "Loaded fort 25 : RMS Y information\n",
      "Loaded fort 26 : RMS Z information\n",
      "Loaded fort 27 : Max amplitude information\n",
      "Loaded fort 28 : Load balance and loss diagnostics\n",
      "Loaded fort 29 : Cube root of third moments of the beam distribution\n",
      "Loaded fort 30 : Fourth root of the fourth moments of the beam distribution\n",
      "Loaded fort 32 : Covariance matrix of the beam distribution\n",
      "Loaded fort 60 : Slice information of the initial distribution\n",
      "Loaded fort 70 : Slice information of the final distribution\n",
      "Loading particles\n",
      "Loaded fort 40 : initial particle distribution at t = 0\n",
      "Loaded fort 50 : final particle distribution projected to the centroid location of the bunch\n",
      "Loaded write beam particles PR10241 fort.102\n",
      "Loaded write beam particles L0AFEND fort.103\n",
      "Converting z to t according to cathode_kinetic_energy_ref = 1.0 eV\n",
      "Converted initial_particles to ParticleGroup\n",
      "Converted final_particles to ParticleGroup\n",
      "Converted PR10241 to ParticleGroup\n",
      "Converted L0AFEND to ParticleGroup\n",
      "Beam created, written to /Users/nmajik/Documents/SLAC/FACET2-S2E/beams/activeBeamFile.h5, and reinit to tao\n"
     ]
    }
   ],
   "source": [
    "#Load a default configuration\n",
    "importedDefaultSettings = loadConfig(\"setLattice_configs/2024-10-22_oneBunch_baseline.yml\")\n",
    "\n",
    "#Initialize tao object\n",
    "tao = initializeTao(\n",
    "    csrTF = False,\n",
    "\n",
    "    #Commands to start and run IMPACT. Overwriting some default settings, just to demonstrate\n",
    "    runImpactTF = True,\n",
    "    numMacroParticles = 1e4,\n",
    "    impactChargepC = 1800,\n",
    "    impactGridCount = 8\n",
    ")"
   ]
  },
  {
   "cell_type": "markdown",
   "id": "47863239-8732-483f-b858-c9a969834465",
   "metadata": {},
   "source": [
    "# Track beam"
   ]
  },
  {
   "cell_type": "code",
   "execution_count": 3,
   "id": "6c75b12a-3f0f-47bd-8e1e-7e17543a2b73",
   "metadata": {},
   "outputs": [],
   "source": [
    "P = ParticleGroup(\"./beams/activeBeamFile.h5\")"
   ]
  },
  {
   "cell_type": "code",
   "execution_count": 4,
   "id": "6bc39356-f524-4eeb-ab84-271d6391c4b8",
   "metadata": {},
   "outputs": [
    {
     "data": {
      "text/plain": [
       "['Jx',\n",
       " 'Jy',\n",
       " 'Lz',\n",
       " '__add__',\n",
       " '__class__',\n",
       " '__contains__',\n",
       " '__delattr__',\n",
       " '__dict__',\n",
       " '__dir__',\n",
       " '__doc__',\n",
       " '__eq__',\n",
       " '__firstlineno__',\n",
       " '__format__',\n",
       " '__ge__',\n",
       " '__getattribute__',\n",
       " '__getitem__',\n",
       " '__getstate__',\n",
       " '__gt__',\n",
       " '__hash__',\n",
       " '__init__',\n",
       " '__init_subclass__',\n",
       " '__le__',\n",
       " '__len__',\n",
       " '__lt__',\n",
       " '__module__',\n",
       " '__ne__',\n",
       " '__new__',\n",
       " '__reduce__',\n",
       " '__reduce_ex__',\n",
       " '__repr__',\n",
       " '__setattr__',\n",
       " '__sizeof__',\n",
       " '__slotnames__',\n",
       " '__static_attributes__',\n",
       " '__str__',\n",
       " '__subclasshook__',\n",
       " '__weakref__',\n",
       " '_data',\n",
       " '_settable_array_keys',\n",
       " '_settable_keys',\n",
       " '_settable_scalar_keys',\n",
       " '_sort',\n",
       " 'assign_id',\n",
       " 'average_current',\n",
       " 'avg',\n",
       " 'beta',\n",
       " 'beta_x',\n",
       " 'beta_y',\n",
       " 'beta_z',\n",
       " 'bunching',\n",
       " 'charge',\n",
       " 'copy',\n",
       " 'cov',\n",
       " 'data',\n",
       " 'delta',\n",
       " 'drift',\n",
       " 'drift_to_t',\n",
       " 'drift_to_z',\n",
       " 'energy',\n",
       " 'fractional_split',\n",
       " 'from_bmad',\n",
       " 'gamma',\n",
       " 'higher_order_energy',\n",
       " 'higher_order_energy_calc',\n",
       " 'higher_order_energy_spread',\n",
       " 'histogramdd',\n",
       " 'id',\n",
       " 'in_t_coordinates',\n",
       " 'in_z_coordinates',\n",
       " 'kinetic_energy',\n",
       " 'mass',\n",
       " 'max',\n",
       " 'min',\n",
       " 'n_alive',\n",
       " 'n_dead',\n",
       " 'n_particle',\n",
       " 'norm_emit_4d',\n",
       " 'norm_emit_x',\n",
       " 'norm_emit_y',\n",
       " 'p',\n",
       " 'plot',\n",
       " 'pr',\n",
       " 'ptheta',\n",
       " 'ptp',\n",
       " 'px',\n",
       " 'px_bar',\n",
       " 'py',\n",
       " 'py_bar',\n",
       " 'pz',\n",
       " 'r',\n",
       " 'resample',\n",
       " 'slice_plot',\n",
       " 'slice_statistics',\n",
       " 'species',\n",
       " 'species_charge',\n",
       " 'split',\n",
       " 'status',\n",
       " 'std',\n",
       " 't',\n",
       " 'theta',\n",
       " 'to_bmad',\n",
       " 'twiss',\n",
       " 'twiss_match',\n",
       " 'units',\n",
       " 'weight',\n",
       " 'where',\n",
       " 'write',\n",
       " 'write_astra',\n",
       " 'write_bmad',\n",
       " 'write_elegant',\n",
       " 'write_genesis2_beam_file',\n",
       " 'write_genesis4_beam',\n",
       " 'write_genesis4_distribution',\n",
       " 'write_gpt',\n",
       " 'write_impact',\n",
       " 'write_litrack',\n",
       " 'write_lucretia',\n",
       " 'write_opal',\n",
       " 'write_simion',\n",
       " 'x',\n",
       " 'x_bar',\n",
       " 'xp',\n",
       " 'y',\n",
       " 'y_bar',\n",
       " 'yp',\n",
       " 'z']"
      ]
     },
     "execution_count": 4,
     "metadata": {},
     "output_type": "execute_result"
    }
   ],
   "source": [
    "dir(P)"
   ]
  },
  {
   "cell_type": "code",
   "execution_count": 5,
   "id": "02584d49-f98f-4ed7-a4a3-c6366b06d1f9",
   "metadata": {},
   "outputs": [
    {
     "ename": "KeyError",
     "evalue": "\"Unable to synchronously open object (object 'time' doesn't exist)\"",
     "output_type": "error",
     "traceback": [
      "\u001b[31m---------------------------------------------------------------------------\u001b[39m",
      "\u001b[31mKeyError\u001b[39m                                  Traceback (most recent call last)",
      "\u001b[36mCell\u001b[39m\u001b[36m \u001b[39m\u001b[32mIn[5]\u001b[39m\u001b[32m, line 2\u001b[39m\n\u001b[32m      1\u001b[39m \u001b[38;5;66;03m#Track the beam from start to end\u001b[39;00m\n\u001b[32m----> \u001b[39m\u001b[32m2\u001b[39m \u001b[43mtrackBeam\u001b[49m\u001b[43m(\u001b[49m\u001b[43mtao\u001b[49m\u001b[43m,\u001b[49m\u001b[43m \u001b[49m\u001b[43m*\u001b[49m\u001b[43m*\u001b[49m\u001b[43mimportedDefaultSettings\u001b[49m\u001b[43m)\u001b[49m\n",
      "\u001b[36mFile \u001b[39m\u001b[32m~/Documents/SLAC/FACET2-S2E/UTILITY_quickstart.py:323\u001b[39m, in \u001b[36mtrackBeam\u001b[39m\u001b[34m(tao, trackStart, trackEnd, laserHeater, centerDL10, centerBC14, assertBC14Energy, centerBC20, assertBC20Energy, allCollimatorRules, centerMFFF, verbose, **kwargs)\u001b[39m\n\u001b[32m    320\u001b[39m \u001b[38;5;28;01melse\u001b[39;00m:\n\u001b[32m    321\u001b[39m     PMod = centerBeam(P)\n\u001b[32m--> \u001b[39m\u001b[32m323\u001b[39m \u001b[43mwriteBeam\u001b[49m\u001b[43m(\u001b[49m\u001b[43mPMod\u001b[49m\u001b[43m,\u001b[49m\u001b[43m \u001b[49m\u001b[43mtao\u001b[49m\u001b[43m.\u001b[49m\u001b[43mpatchFilePath\u001b[49m\u001b[43m)\u001b[49m\n\u001b[32m    324\u001b[39m \u001b[38;5;28;01mif\u001b[39;00m verbose: \u001b[38;5;28mprint\u001b[39m(\u001b[33mf\u001b[39m\u001b[33m\"\u001b[39m\u001b[33mBeam centered at BEGBC14 written to \u001b[39m\u001b[38;5;132;01m{\u001b[39;00mtao.patchFilePath\u001b[38;5;132;01m}\u001b[39;00m\u001b[33m\"\u001b[39m)\n\u001b[32m    326\u001b[39m tao.cmd(\u001b[33mf\u001b[39m\u001b[33m'\u001b[39m\u001b[33mset beam_init position_file=\u001b[39m\u001b[38;5;132;01m{\u001b[39;00mtao.patchFilePath\u001b[38;5;132;01m}\u001b[39;00m\u001b[33m'\u001b[39m)\n",
      "\u001b[36mFile \u001b[39m\u001b[32m~/Documents/SLAC/FACET2-S2E/UTILITY_quickstart.py:509\u001b[39m, in \u001b[36mwriteBeam\u001b[39m\u001b[34m(P, fileName)\u001b[39m\n\u001b[32m    506\u001b[39m \u001b[38;5;250m\u001b[39m\u001b[33;03m\"\"\" Writes the beam as an h5 with E. Cropp's timeOffset fix \"\"\"\u001b[39;00m\n\u001b[32m    507\u001b[39m P.write(fileName)\n\u001b[32m--> \u001b[39m\u001b[32m509\u001b[39m \u001b[43mOpenPMD_to_Bmad\u001b[49m\u001b[43m(\u001b[49m\u001b[43mfileName\u001b[49m\u001b[43m)\u001b[49m\n",
      "\u001b[36mFile \u001b[39m\u001b[32m~/Documents/SLAC/FACET2-S2E/UTILITY_OpenPMDtoBmad.py:141\u001b[39m, in \u001b[36mOpenPMD_to_Bmad\u001b[39m\u001b[34m(filename, tOffset)\u001b[39m\n\u001b[32m    139\u001b[39m \u001b[38;5;28;01mif\u001b[39;00m tOffset \u001b[38;5;129;01mis\u001b[39;00m \u001b[38;5;28;01mNone\u001b[39;00m:\n\u001b[32m    140\u001b[39m     weights=data[\u001b[33m'\u001b[39m\u001b[33mweight\u001b[39m\u001b[33m'\u001b[39m]\n\u001b[32m--> \u001b[39m\u001b[32m141\u001b[39m     tref=np.average(np.array(\u001b[43mf\u001b[49m\u001b[43m[\u001b[49m\u001b[43mpp\u001b[49m\u001b[43m[\u001b[49m\u001b[32;43m0\u001b[39;49m\u001b[43m]\u001b[49m\u001b[43m]\u001b[49m\u001b[43m[\u001b[49m\u001b[33;43m'\u001b[39;49m\u001b[33;43mtime\u001b[39;49m\u001b[33;43m'\u001b[39;49m\u001b[43m]\u001b[49m)[idx],weights=weights[idx])\n\u001b[32m    143\u001b[39m \u001b[38;5;66;03m#Otherwise just use that\u001b[39;00m\n\u001b[32m    144\u001b[39m \u001b[38;5;28;01melse\u001b[39;00m:\n\u001b[32m    145\u001b[39m     tref=tOffset\n",
      "\u001b[36mFile \u001b[39m\u001b[32mh5py/_objects.pyx:56\u001b[39m, in \u001b[36mh5py._objects.with_phil.wrapper\u001b[39m\u001b[34m()\u001b[39m\n",
      "\u001b[36mFile \u001b[39m\u001b[32mh5py/_objects.pyx:57\u001b[39m, in \u001b[36mh5py._objects.with_phil.wrapper\u001b[39m\u001b[34m()\u001b[39m\n",
      "\u001b[36mFile \u001b[39m\u001b[32m/opt/homebrew/anaconda3/envs/bmad2025-06-27/lib/python3.13/site-packages/h5py/_hl/group.py:360\u001b[39m, in \u001b[36mGroup.__getitem__\u001b[39m\u001b[34m(self, name)\u001b[39m\n\u001b[32m    358\u001b[39m         \u001b[38;5;28;01mraise\u001b[39;00m \u001b[38;5;167;01mValueError\u001b[39;00m(\u001b[33m\"\u001b[39m\u001b[33mInvalid HDF5 object reference\u001b[39m\u001b[33m\"\u001b[39m)\n\u001b[32m    359\u001b[39m \u001b[38;5;28;01melif\u001b[39;00m \u001b[38;5;28misinstance\u001b[39m(name, (\u001b[38;5;28mbytes\u001b[39m, \u001b[38;5;28mstr\u001b[39m)):\n\u001b[32m--> \u001b[39m\u001b[32m360\u001b[39m     oid = \u001b[43mh5o\u001b[49m\u001b[43m.\u001b[49m\u001b[43mopen\u001b[49m\u001b[43m(\u001b[49m\u001b[38;5;28;43mself\u001b[39;49m\u001b[43m.\u001b[49m\u001b[43mid\u001b[49m\u001b[43m,\u001b[49m\u001b[43m \u001b[49m\u001b[38;5;28;43mself\u001b[39;49m\u001b[43m.\u001b[49m\u001b[43m_e\u001b[49m\u001b[43m(\u001b[49m\u001b[43mname\u001b[49m\u001b[43m)\u001b[49m\u001b[43m,\u001b[49m\u001b[43m \u001b[49m\u001b[43mlapl\u001b[49m\u001b[43m=\u001b[49m\u001b[38;5;28;43mself\u001b[39;49m\u001b[43m.\u001b[49m\u001b[43m_lapl\u001b[49m\u001b[43m)\u001b[49m\n\u001b[32m    361\u001b[39m \u001b[38;5;28;01melse\u001b[39;00m:\n\u001b[32m    362\u001b[39m     \u001b[38;5;28;01mraise\u001b[39;00m \u001b[38;5;167;01mTypeError\u001b[39;00m(\u001b[33m\"\u001b[39m\u001b[33mAccessing a group is done with bytes or str, \u001b[39m\u001b[33m\"\u001b[39m\n\u001b[32m    363\u001b[39m                     \u001b[33m\"\u001b[39m\u001b[33mnot \u001b[39m\u001b[38;5;132;01m{}\u001b[39;00m\u001b[33m\"\u001b[39m.format(\u001b[38;5;28mtype\u001b[39m(name)))\n",
      "\u001b[36mFile \u001b[39m\u001b[32mh5py/_objects.pyx:56\u001b[39m, in \u001b[36mh5py._objects.with_phil.wrapper\u001b[39m\u001b[34m()\u001b[39m\n",
      "\u001b[36mFile \u001b[39m\u001b[32mh5py/_objects.pyx:57\u001b[39m, in \u001b[36mh5py._objects.with_phil.wrapper\u001b[39m\u001b[34m()\u001b[39m\n",
      "\u001b[36mFile \u001b[39m\u001b[32mh5py/h5o.pyx:257\u001b[39m, in \u001b[36mh5py.h5o.open\u001b[39m\u001b[34m()\u001b[39m\n",
      "\u001b[31mKeyError\u001b[39m: \"Unable to synchronously open object (object 'time' doesn't exist)\""
     ]
    }
   ],
   "source": [
    "#Track the beam from start to end\n",
    "trackBeam(tao, **importedDefaultSettings)"
   ]
  },
  {
   "cell_type": "code",
   "execution_count": null,
   "id": "195ae72e-846c-41db-8560-e15a5a1613d5",
   "metadata": {},
   "outputs": [],
   "source": [
    "#Get the beam at element \"DTOTR\"\n",
    "P =  getBeamAtElement(tao, \"DTOTR\")\n",
    "\n",
    "#Plot the x-y projection of the beam at that location\n",
    "display(plotMod(P, 'x', 'y',  bins=200));\n",
    "plt.clf()\n",
    "\n",
    "print(P)"
   ]
  },
  {
   "cell_type": "markdown",
   "id": "45c0da16-c1a5-4ffb-9182-bff17dc4e4ed",
   "metadata": {},
   "source": [
    "# Change a quad setting and retrack"
   ]
  },
  {
   "cell_type": "code",
   "execution_count": null,
   "id": "3ee028a3-4e6c-48f5-8501-cf499b37c7af",
   "metadata": {},
   "outputs": [],
   "source": [
    "#Set the strength of a final focus quad named Q0FF to zero kilogauss \n",
    "setQuadkG(tao, \"Q0FF\", 0)\n",
    "\n",
    "#Track the beam through the now modified lattice\n",
    "trackBeam(tao)"
   ]
  },
  {
   "cell_type": "code",
   "execution_count": null,
   "id": "fcf0ef7f-edd4-4892-a324-271b1d609a45",
   "metadata": {},
   "outputs": [],
   "source": [
    "P =  getBeamAtElement(tao, \"DTOTR\")\n",
    "\n",
    "display(plotMod(P, 'x', 'y',  bins=200));"
   ]
  },
  {
   "cell_type": "code",
   "execution_count": null,
   "id": "09d34b5e-04ae-4093-a1c7-d6cbac254454",
   "metadata": {},
   "outputs": [],
   "source": [
    "#Get the beam at the element MFFF, at the exit of BC20\n",
    "P =  getBeamAtElement(tao,\"MFFF\")\n",
    "\n",
    "#Plot the longitudinal phase space\n",
    "display(plotMod(P, 'delta_t', 'pz',  bins=200));"
   ]
  },
  {
   "cell_type": "markdown",
   "id": "cc4924b8-59a5-4943-8be1-4cc618f3a0a0",
   "metadata": {},
   "source": [
    "# Change L2 phase and retrack"
   ]
  },
  {
   "cell_type": "code",
   "execution_count": null,
   "id": "e1f57794-d5da-4b4e-bfba-5dee84e7f7db",
   "metadata": {},
   "outputs": [],
   "source": [
    "#Change the phase of L2 to -10 degrees\n",
    "setLinacPhase(tao, \"L2\", -10)\n",
    "trackBeam(tao)"
   ]
  },
  {
   "cell_type": "code",
   "execution_count": null,
   "id": "46577e0f-a6aa-4347-91bf-027984062ba6",
   "metadata": {},
   "outputs": [],
   "source": [
    "P =  getBeamAtElement(tao, \"MFFF\")\n",
    "\n",
    "\n",
    "display(plotMod(P, 'delta_t', 'pz',  bins=200));"
   ]
  }
 ],
 "metadata": {
  "kernelspec": {
   "display_name": "Python 3 (ipykernel)",
   "language": "python",
   "name": "python3"
  },
  "language_info": {
   "codemirror_mode": {
    "name": "ipython",
    "version": 3
   },
   "file_extension": ".py",
   "mimetype": "text/x-python",
   "name": "python",
   "nbconvert_exporter": "python",
   "pygments_lexer": "ipython3",
   "version": "3.13.5"
  }
 },
 "nbformat": 4,
 "nbformat_minor": 5
}
