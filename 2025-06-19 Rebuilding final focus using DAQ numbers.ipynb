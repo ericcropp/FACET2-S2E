{
 "cells": [
  {
   "cell_type": "code",
   "execution_count": 1,
   "id": "2e0ce34d-320e-4621-b2c5-9e0a94be9165",
   "metadata": {},
   "outputs": [],
   "source": [
    "from UTILITY_quickstart import *"
   ]
  },
  {
   "cell_type": "code",
   "execution_count": 2,
   "id": "e143172a-54bd-45ea-9600-8c9a5a674f7e",
   "metadata": {},
   "outputs": [
    {
     "name": "stdout",
     "output_type": "stream",
     "text": [
      "Environment set to:  /Users/nmajik/Documents/SLAC/FACET2-Bmad-PyTao\n",
      "Tracking to end\n",
      "CSR off\n",
      "Not using setLattice(). Golden lattice\n",
      "WARNING! No beam file is specified!\n",
      "Number of macro particles defined by input file\n",
      "Beam created, written to /Users/nmajik/Documents/SLAC/FACET2-Bmad-PyTao/beams/activeBeamFile.h5, and reinit to tao\n"
     ]
    }
   ],
   "source": [
    "tao = initializeTao(\n",
    "    loadDefaultLatticeTF = False\n",
    ")"
   ]
  },
  {
   "cell_type": "code",
   "execution_count": 3,
   "id": "8a646c1f-aa11-479e-b3fa-ebe957cb1f05",
   "metadata": {},
   "outputs": [
    {
     "data": {
      "text/plain": [
       "['Element # 1534',\n",
       " 'Element Name: PENT',\n",
       " 'Key: Marker',\n",
       " 'S_start, S:    994.772815,    994.772815',\n",
       " 'Ref_time_start, Ref_time:  3.318222E-06,  3.318222E-06',\n",
       " '',\n",
       " 'Attribute values:',\n",
       " '    1  L                           =  0.0000000E+00 m',\n",
       " '    2  TILT                        =  0.0000000E+00 rad      60  TILT_TOT                    =  0.0000000E+00 rad',\n",
       " '    3  X_GAIN_ERR                  =  0.0000000E+00 m         4  Y_GAIN_ERR                  =  0.0000000E+00 m',\n",
       " '    5  CRUNCH                      =  0.0000000E+00 rad      21  CRUNCH_CALIB                =  0.0000000E+00 rad',\n",
       " '    6  NOISE                       =  0.0000000E+00          26  N_SAMPLE                    =  0.0000000E+00',\n",
       " '    7  OSC_AMPLITUDE               =  0.0000000E+00 m',\n",
       " '    8  X_GAIN_CALIB                =  0.0000000E+00 m        20  Y_GAIN_CALIB                =  0.0000000E+00 m',\n",
       " '   22  X_OFFSET_CALIB              =  0.0000000E+00 m        23  Y_OFFSET_CALIB              =  0.0000000E+00 m',\n",
       " '   24  TILT_CALIB                  =  0.0000000E+00 rad',\n",
       " '   25  DE_ETA_MEAS                 =  0.0000000E+00',\n",
       " '   27  X_DISPERSION_ERR            =  0.0000000E+00 m        28  Y_DISPERSION_ERR            =  0.0000000E+00 m',\n",
       " '   29  X_DISPERSION_CALIB          =  0.0000000E+00 m        30  Y_DISPERSION_CALIB          =  0.0000000E+00 m',\n",
       " '   34  X_PITCH                     =  0.0000000E+00 rad      55  X_PITCH_TOT                 =  0.0000000E+00 rad',\n",
       " '   35  Y_PITCH                     =  0.0000000E+00 rad      56  Y_PITCH_TOT                 =  0.0000000E+00 rad',\n",
       " '   36  X_OFFSET                    =  0.0000000E+00 m        57  X_OFFSET_TOT                =  0.0000000E+00 m',\n",
       " '   37  Y_OFFSET                    =  0.0000000E+00 m        58  Y_OFFSET_TOT                =  0.0000000E+00 m',\n",
       " '   38  Z_OFFSET                    =  0.0000000E+00 m        59  Z_OFFSET_TOT                =  0.0000000E+00 m',\n",
       " '   53  P0C                         =  1.0000000E+10 eV           BETA                        =  1.0000000E+00',\n",
       " '   54  E_TOT                       =  1.0000000E+10 eV           GAMMA                       =  1.9569512E+04',\n",
       " '   64  REF_TIME_START              =  3.3182219E-06 sec      50  DELTA_REF_TIME              =  0.0000000E+00 sec',\n",
       " '   71  X1_LIMIT                    =  0.0000000E+00 m        72  X2_LIMIT                    =  0.0000000E+00 m',\n",
       " '   73  Y1_LIMIT                    =  0.0000000E+00 m        74  Y2_LIMIT                    =  0.0000000E+00 m',\n",
       " '',\n",
       " '       TRACKING_METHOD              =  Bmad_Standard             APERTURE_AT                =  Exit_End',\n",
       " '       MAT6_CALC_METHOD             =  Auto                      APERTURE_TYPE              =  Rectangular',\n",
       " '       SPIN_TRACKING_METHOD         =  Tracking                  OFFSET_MOVES_APERTURE      =  F',\n",
       " '       PTC_INTEGRATION_TYPE         =  Matrix_Kick               LONGITUDINAL ORIENTATION   =       1',\n",
       " '                                                                 REF_SPECIES                =  Electron',\n",
       " 'No associated Wall.',\n",
       " '',\n",
       " 'Slave_status: Free',\n",
       " '',\n",
       " 'Lord_status:  Not_a_Lord',\n",
       " '',\n",
       " 'Twiss at end of element:',\n",
       " '                          A              B            Cbar                        C_mat',\n",
       " '  Beta (m)         0.50011351     0.49995568  |   0.00000000  -0.00000000      0.00000000  -0.00000000',\n",
       " '  Alpha           -0.00008614     0.00011620  |   0.00000000  -0.00000000      0.00000000  -0.00000000',\n",
       " '  Gamma (1/m)      1.99954606     2.00017732  |   Gamma_c =   1.00000000       Mode_Flip = F',\n",
       " '  Phi (rad)       73.10038563    60.40823015            X              Y              Z',\n",
       " '  Eta (m)         -0.00000043    -0.00000000    -0.00000043    -0.00000000     0.02273092',\n",
       " '  Etap            -0.00000761    -0.00000000    -0.00000761    -0.00000000    -0.00000000',\n",
       " '  dEta/ds         -0.00000761    -0.00000000    -0.00000761    -0.00000000    -0.00000000',\n",
       " '',\n",
       " 'Transfer Matrix : Kick  [Mat symplectic error:   0.000E+00]                      Vec0',\n",
       " '   1.0000000   0.0000000   0.0000000   0.0000000   0.0000000   0.0000000   :   0.00000E+00',\n",
       " '   0.0000000   1.0000000   0.0000000   0.0000000   0.0000000   0.0000000   :   0.00000E+00',\n",
       " '   0.0000000   0.0000000   1.0000000   0.0000000   0.0000000   0.0000000   :   0.00000E+00',\n",
       " '   0.0000000   0.0000000   0.0000000   1.0000000   0.0000000   0.0000000   :   0.00000E+00',\n",
       " '   0.0000000   0.0000000   0.0000000   0.0000000   1.0000000   0.0000000   :   0.00000E+00',\n",
       " '   0.0000000   0.0000000   0.0000000   0.0000000   0.0000000   1.0000000   :   0.00000E+00',\n",
       " '',\n",
       " 'Global Floor Coords at End of Element:',\n",
       " '                   X           Y           Z       Theta         Phi         Psi',\n",
       " 'Reference    -0.00000     0.00000  1993.87000     0.00000     0.00000     0.00000   ! Position without misalignments',\n",
       " 'Actual       -0.00000     0.00000  1993.87000     0.00000     0.00000     0.00000   ! Position with offset/pitch/tilt misalignments',\n",
       " 'delta Ref     0.00000     0.00000     0.00000     0.00000     0.00000     0.00000   ! Delta with respect to last element',\n",
       " '',\n",
       " 'Tracking: Electron,   State: Alive',\n",
       " '         Position[mm] Momentum[mrad]        Spin   |',\n",
       " '  X:       0.00000000    -0.00000000               | t_particle [sec]:        3.31822194E-06  E_tot: 1.00000E+10',\n",
       " '  Y:      -0.00000000    -0.00000000               | t_part-t_ref [sec]:     -1.69406589E-21  PC:    1.00000E+10',\n",
       " '  Z:      -0.00000000     0.00000000               | (t_ref-t_part)*Vel [m]:  5.07868178E-13  Beta:  0.999999999']"
      ]
     },
     "execution_count": 3,
     "metadata": {},
     "output_type": "execute_result"
    }
   ],
   "source": [
    "tao.cmd(\"show ele PENT -all\")"
   ]
  },
  {
   "cell_type": "code",
   "execution_count": 4,
   "id": "b8384960-2429-4fe9-abf0-94783b07c88e",
   "metadata": {},
   "outputs": [
    {
     "data": {
      "text/html": [
       "<style type=\"text/css\">\n",
       "</style>\n",
       "<table id=\"T_4de33\">\n",
       "  <thead>\n",
       "  </thead>\n",
       "  <tbody>\n",
       "    <tr>\n",
       "      <td id=\"T_4de33_row0_col0\" class=\"data row0 col0\" >-3.922213</td>\n",
       "      <td id=\"T_4de33_row0_col1\" class=\"data row0 col1\" >-2.018020</td>\n",
       "      <td id=\"T_4de33_row0_col2\" class=\"data row0 col2\" >0.000000</td>\n",
       "      <td id=\"T_4de33_row0_col3\" class=\"data row0 col3\" >0.000000</td>\n",
       "      <td id=\"T_4de33_row0_col4\" class=\"data row0 col4\" >0.000000</td>\n",
       "      <td id=\"T_4de33_row0_col5\" class=\"data row0 col5\" >0.000000</td>\n",
       "    </tr>\n",
       "    <tr>\n",
       "      <td id=\"T_4de33_row1_col0\" class=\"data row1 col0\" >-0.326515</td>\n",
       "      <td id=\"T_4de33_row1_col1\" class=\"data row1 col1\" >-0.422954</td>\n",
       "      <td id=\"T_4de33_row1_col2\" class=\"data row1 col2\" >0.000000</td>\n",
       "      <td id=\"T_4de33_row1_col3\" class=\"data row1 col3\" >0.000000</td>\n",
       "      <td id=\"T_4de33_row1_col4\" class=\"data row1 col4\" >0.000000</td>\n",
       "      <td id=\"T_4de33_row1_col5\" class=\"data row1 col5\" >0.000000</td>\n",
       "    </tr>\n",
       "    <tr>\n",
       "      <td id=\"T_4de33_row2_col0\" class=\"data row2 col0\" >-0.000000</td>\n",
       "      <td id=\"T_4de33_row2_col1\" class=\"data row2 col1\" >0.000000</td>\n",
       "      <td id=\"T_4de33_row2_col2\" class=\"data row2 col2\" >-1.854733</td>\n",
       "      <td id=\"T_4de33_row2_col3\" class=\"data row2 col3\" >1.933953</td>\n",
       "      <td id=\"T_4de33_row2_col4\" class=\"data row2 col4\" >0.000000</td>\n",
       "      <td id=\"T_4de33_row2_col5\" class=\"data row2 col5\" >0.055920</td>\n",
       "    </tr>\n",
       "    <tr>\n",
       "      <td id=\"T_4de33_row3_col0\" class=\"data row3 col0\" >-0.000000</td>\n",
       "      <td id=\"T_4de33_row3_col1\" class=\"data row3 col1\" >0.000000</td>\n",
       "      <td id=\"T_4de33_row3_col2\" class=\"data row3 col2\" >-0.136011</td>\n",
       "      <td id=\"T_4de33_row3_col3\" class=\"data row3 col3\" >-0.397340</td>\n",
       "      <td id=\"T_4de33_row3_col4\" class=\"data row3 col4\" >0.000000</td>\n",
       "      <td id=\"T_4de33_row3_col5\" class=\"data row3 col5\" >0.006000</td>\n",
       "    </tr>\n",
       "    <tr>\n",
       "      <td id=\"T_4de33_row4_col0\" class=\"data row4 col0\" >-0.000000</td>\n",
       "      <td id=\"T_4de33_row4_col1\" class=\"data row4 col1\" >-0.000000</td>\n",
       "      <td id=\"T_4de33_row4_col2\" class=\"data row4 col2\" >0.003523</td>\n",
       "      <td id=\"T_4de33_row4_col3\" class=\"data row4 col3\" >-0.033823</td>\n",
       "      <td id=\"T_4de33_row4_col4\" class=\"data row4 col4\" >1.000000</td>\n",
       "      <td id=\"T_4de33_row4_col5\" class=\"data row4 col5\" >-0.000006</td>\n",
       "    </tr>\n",
       "    <tr>\n",
       "      <td id=\"T_4de33_row5_col0\" class=\"data row5 col0\" >0.000000</td>\n",
       "      <td id=\"T_4de33_row5_col1\" class=\"data row5 col1\" >0.000000</td>\n",
       "      <td id=\"T_4de33_row5_col2\" class=\"data row5 col2\" >0.000000</td>\n",
       "      <td id=\"T_4de33_row5_col3\" class=\"data row5 col3\" >0.000000</td>\n",
       "      <td id=\"T_4de33_row5_col4\" class=\"data row5 col4\" >0.000000</td>\n",
       "      <td id=\"T_4de33_row5_col5\" class=\"data row5 col5\" >1.000000</td>\n",
       "    </tr>\n",
       "  </tbody>\n",
       "</table>\n"
      ],
      "text/plain": [
       "<pandas.io.formats.style.Styler at 0x176fefe50>"
      ]
     },
     "metadata": {},
     "output_type": "display_data"
    }
   ],
   "source": [
    "getMatrix( tao, \"PENT\", \"DTOTR\", print = True ) ;"
   ]
  },
  {
   "cell_type": "code",
   "execution_count": 5,
   "id": "30dcaa0a-55b2-4c3b-8a21-2b3cbffd7d90",
   "metadata": {},
   "outputs": [
    {
     "data": {
      "text/plain": [
       "[-71.83776109541046,\n",
       " -81.2517605587486,\n",
       " 99.22574010962327,\n",
       " 126.35310735529067,\n",
       " -235.2189327906117,\n",
       " 126.35310735529067,\n",
       " -109.694769332636,\n",
       " 180.862985286722,\n",
       " -109.694769332636]"
      ]
     },
     "execution_count": 5,
     "metadata": {},
     "output_type": "execute_result"
    }
   ],
   "source": [
    "[ getQuadkG(tao, ele) for ele in [\"Q5FF\", \"Q4FF\", \"Q3FF\", \"Q2FF\", \"Q1FF\", \"Q0FF\", \"Q0D\", \"Q1D\", \"Q2D\"] ] "
   ]
  },
  {
   "cell_type": "code",
   "execution_count": 6,
   "id": "23ce50b9-e5a7-44c3-8f11-fdeb388365ec",
   "metadata": {},
   "outputs": [],
   "source": [
    "# Q5FF : LGPS 3011\n",
    "# Q4FF : LGPS 3311\n",
    "# Q3FF : LGPS 3151\n",
    "# Q2FF : LGPS 1910\n",
    "# Q1FF : LGPS 3204\n",
    "# Q0FF : LGPS 3031\n",
    "# Q0D  : LGPS 3141\n",
    "# Q1D  : LGPS 3261\n",
    "# Q2D  : LGPS 3091\n",
    "\n",
    "setQuadkG( tao, \"Q5FF\", -72.1018 )\n",
    "setQuadkG( tao, \"Q4FF\", -80.6168 )\n",
    "setQuadkG( tao, \"Q3FF\", 98.9059 )\n",
    "setQuadkG( tao, \"Q2FF\", 123.944 )\n",
    "setQuadkG( tao, \"Q1FF\", -231.975 )\n",
    "setQuadkG( tao, \"Q0FF\", 123.944 )\n",
    "\n",
    "setQuadkG( tao, \"Q0D\", -117.688 )\n",
    "setQuadkG( tao, \"Q1D\", 183.164 )\n",
    "setQuadkG( tao, \"Q2D\", -117.688 )"
   ]
  },
  {
   "cell_type": "code",
   "execution_count": 7,
   "id": "a3c8ea8b-b990-44ff-8d61-70b0190e9b2b",
   "metadata": {},
   "outputs": [
    {
     "data": {
      "text/plain": [
       "{'beta_a': 0.615109934269657,\n",
       " 'alpha_a': 0.421079558661122,\n",
       " 'gamma_a': 1.91397980934921,\n",
       " 'phi_a': 72.6988296556151,\n",
       " 'eta_a': 1.21136731772587e-06,\n",
       " 'etap_a': -7.44649030834762e-06,\n",
       " 'beta_b': 0.607589659758244,\n",
       " 'alpha_b': 0.328396302632282,\n",
       " 'gamma_b': 1.82334263559284,\n",
       " 'phi_b': 60.0846492555729,\n",
       " 'eta_b': -4.66731983134257e-18,\n",
       " 'etap_b': -1.26474244490204e-17,\n",
       " 'c_mat11': -4.16689725691038e-19,\n",
       " 'c_mat12': -1.92749705197048e-18,\n",
       " 'c_mat21': 1.57849589892135e-17,\n",
       " 'c_mat22': 4.30261248557968e-19,\n",
       " 'gamma_c': 1.0}"
      ]
     },
     "execution_count": 7,
     "metadata": {},
     "output_type": "execute_result"
    }
   ],
   "source": [
    "tao.twiss_at_s( ele = \"PENT\", s_offset = 0 )"
   ]
  },
  {
   "cell_type": "code",
   "execution_count": 8,
   "id": "21e91a97-83b7-4084-bbe9-591f612e138c",
   "metadata": {},
   "outputs": [
    {
     "data": {
      "text/plain": [
       "{'beta_a': 0.524193893023426,\n",
       " 'alpha_a': -0.0574153936762472,\n",
       " 'gamma_a': 1.91397980934921,\n",
       " 'phi_a': 73.1547274009391,\n",
       " 'eta_a': -6.502552593611e-07,\n",
       " 'etap_a': -7.44649030834762e-06,\n",
       " 'beta_b': 0.557350423166664,\n",
       " 'alpha_b': -0.12743935626599,\n",
       " 'gamma_b': 1.82334263559284,\n",
       " 'phi_b': 60.528706017655,\n",
       " 'eta_b': -7.80864651254058e-18,\n",
       " 'etap_b': -1.26474244490204e-17,\n",
       " 'c_mat11': -4.16689725691038e-19,\n",
       " 'c_mat12': -1.92749705197048e-18,\n",
       " 'c_mat21': 1.57849589892135e-17,\n",
       " 'c_mat22': 4.30261248557968e-19,\n",
       " 'gamma_c': 1.0}"
      ]
     },
     "execution_count": 8,
     "metadata": {},
     "output_type": "execute_result"
    }
   ],
   "source": [
    "tao.twiss_at_s( ele = \"PENT\", s_offset = 0.25 )"
   ]
  },
  {
   "cell_type": "code",
   "execution_count": 11,
   "id": "28617596-366a-481b-81a7-b2d43b825d5c",
   "metadata": {},
   "outputs": [
    {
     "data": {
      "text/html": [
       "<style type=\"text/css\">\n",
       "</style>\n",
       "<table id=\"T_36114\">\n",
       "  <thead>\n",
       "  </thead>\n",
       "  <tbody>\n",
       "    <tr>\n",
       "      <td id=\"T_36114_row0_col0\" class=\"data row0 col0\" >-3.697826</td>\n",
       "      <td id=\"T_36114_row0_col1\" class=\"data row0 col1\" >-0.926599</td>\n",
       "      <td id=\"T_36114_row0_col2\" class=\"data row0 col2\" >0.000000</td>\n",
       "      <td id=\"T_36114_row0_col3\" class=\"data row0 col3\" >0.000000</td>\n",
       "      <td id=\"T_36114_row0_col4\" class=\"data row0 col4\" >0.000000</td>\n",
       "      <td id=\"T_36114_row0_col5\" class=\"data row0 col5\" >0.000000</td>\n",
       "    </tr>\n",
       "    <tr>\n",
       "      <td id=\"T_36114_row1_col0\" class=\"data row1 col0\" >-0.312504</td>\n",
       "      <td id=\"T_36114_row1_col1\" class=\"data row1 col1\" >-0.348736</td>\n",
       "      <td id=\"T_36114_row1_col2\" class=\"data row1 col2\" >0.000000</td>\n",
       "      <td id=\"T_36114_row1_col3\" class=\"data row1 col3\" >0.000000</td>\n",
       "      <td id=\"T_36114_row1_col4\" class=\"data row1 col4\" >0.000000</td>\n",
       "      <td id=\"T_36114_row1_col5\" class=\"data row1 col5\" >0.000000</td>\n",
       "    </tr>\n",
       "    <tr>\n",
       "      <td id=\"T_36114_row2_col0\" class=\"data row2 col0\" >-0.000000</td>\n",
       "      <td id=\"T_36114_row2_col1\" class=\"data row2 col1\" >0.000000</td>\n",
       "      <td id=\"T_36114_row2_col2\" class=\"data row2 col2\" >-1.968595</td>\n",
       "      <td id=\"T_36114_row2_col3\" class=\"data row2 col3\" >-0.491802</td>\n",
       "      <td id=\"T_36114_row2_col4\" class=\"data row2 col4\" >0.000000</td>\n",
       "      <td id=\"T_36114_row2_col5\" class=\"data row2 col5\" >0.055920</td>\n",
       "    </tr>\n",
       "    <tr>\n",
       "      <td id=\"T_36114_row3_col0\" class=\"data row3 col0\" >-0.000000</td>\n",
       "      <td id=\"T_36114_row3_col1\" class=\"data row3 col1\" >0.000000</td>\n",
       "      <td id=\"T_36114_row3_col2\" class=\"data row3 col2\" >-0.133207</td>\n",
       "      <td id=\"T_36114_row3_col3\" class=\"data row3 col3\" >-0.541255</td>\n",
       "      <td id=\"T_36114_row3_col4\" class=\"data row3 col4\" >0.000000</td>\n",
       "      <td id=\"T_36114_row3_col5\" class=\"data row3 col5\" >0.006000</td>\n",
       "    </tr>\n",
       "    <tr>\n",
       "      <td id=\"T_36114_row4_col0\" class=\"data row4 col0\" >-0.000000</td>\n",
       "      <td id=\"T_36114_row4_col1\" class=\"data row4 col1\" >-0.000000</td>\n",
       "      <td id=\"T_36114_row4_col2\" class=\"data row4 col2\" >0.004363</td>\n",
       "      <td id=\"T_36114_row4_col3\" class=\"data row4 col3\" >-0.027316</td>\n",
       "      <td id=\"T_36114_row4_col4\" class=\"data row4 col4\" >1.000000</td>\n",
       "      <td id=\"T_36114_row4_col5\" class=\"data row4 col5\" >-0.000006</td>\n",
       "    </tr>\n",
       "    <tr>\n",
       "      <td id=\"T_36114_row5_col0\" class=\"data row5 col0\" >0.000000</td>\n",
       "      <td id=\"T_36114_row5_col1\" class=\"data row5 col1\" >0.000000</td>\n",
       "      <td id=\"T_36114_row5_col2\" class=\"data row5 col2\" >0.000000</td>\n",
       "      <td id=\"T_36114_row5_col3\" class=\"data row5 col3\" >0.000000</td>\n",
       "      <td id=\"T_36114_row5_col4\" class=\"data row5 col4\" >0.000000</td>\n",
       "      <td id=\"T_36114_row5_col5\" class=\"data row5 col5\" >1.000000</td>\n",
       "    </tr>\n",
       "  </tbody>\n",
       "</table>\n"
      ],
      "text/plain": [
       "<pandas.io.formats.style.Styler at 0x17676fcd0>"
      ]
     },
     "metadata": {},
     "output_type": "display_data"
    }
   ],
   "source": [
    "getMatrix( tao, \"PENT\",  \"DTOTR\", startOffset = 0.0, print = True );"
   ]
  },
  {
   "cell_type": "code",
   "execution_count": 12,
   "id": "3d417aae-9abd-4603-9b99-406f9501c5a5",
   "metadata": {},
   "outputs": [
    {
     "data": {
      "text/html": [
       "<style type=\"text/css\">\n",
       "</style>\n",
       "<table id=\"T_1101a\">\n",
       "  <thead>\n",
       "  </thead>\n",
       "  <tbody>\n",
       "    <tr>\n",
       "      <td id=\"T_1101a_row0_col0\" class=\"data row0 col0\" >-3.697826</td>\n",
       "      <td id=\"T_1101a_row0_col1\" class=\"data row0 col1\" >-0.002143</td>\n",
       "      <td id=\"T_1101a_row0_col2\" class=\"data row0 col2\" >0.000000</td>\n",
       "      <td id=\"T_1101a_row0_col3\" class=\"data row0 col3\" >0.000000</td>\n",
       "      <td id=\"T_1101a_row0_col4\" class=\"data row0 col4\" >0.000000</td>\n",
       "      <td id=\"T_1101a_row0_col5\" class=\"data row0 col5\" >0.000000</td>\n",
       "    </tr>\n",
       "    <tr>\n",
       "      <td id=\"T_1101a_row1_col0\" class=\"data row1 col0\" >-0.312504</td>\n",
       "      <td id=\"T_1101a_row1_col1\" class=\"data row1 col1\" >-0.270610</td>\n",
       "      <td id=\"T_1101a_row1_col2\" class=\"data row1 col2\" >0.000000</td>\n",
       "      <td id=\"T_1101a_row1_col3\" class=\"data row1 col3\" >0.000000</td>\n",
       "      <td id=\"T_1101a_row1_col4\" class=\"data row1 col4\" >0.000000</td>\n",
       "      <td id=\"T_1101a_row1_col5\" class=\"data row1 col5\" >0.000000</td>\n",
       "    </tr>\n",
       "    <tr>\n",
       "      <td id=\"T_1101a_row2_col0\" class=\"data row2 col0\" >-0.000000</td>\n",
       "      <td id=\"T_1101a_row2_col1\" class=\"data row2 col1\" >0.000000</td>\n",
       "      <td id=\"T_1101a_row2_col2\" class=\"data row2 col2\" >-1.968595</td>\n",
       "      <td id=\"T_1101a_row2_col3\" class=\"data row2 col3\" >0.000347</td>\n",
       "      <td id=\"T_1101a_row2_col4\" class=\"data row2 col4\" >0.000000</td>\n",
       "      <td id=\"T_1101a_row2_col5\" class=\"data row2 col5\" >0.055920</td>\n",
       "    </tr>\n",
       "    <tr>\n",
       "      <td id=\"T_1101a_row3_col0\" class=\"data row3 col0\" >-0.000000</td>\n",
       "      <td id=\"T_1101a_row3_col1\" class=\"data row3 col1\" >0.000000</td>\n",
       "      <td id=\"T_1101a_row3_col2\" class=\"data row3 col2\" >-0.133207</td>\n",
       "      <td id=\"T_1101a_row3_col3\" class=\"data row3 col3\" >-0.507953</td>\n",
       "      <td id=\"T_1101a_row3_col4\" class=\"data row3 col4\" >0.000000</td>\n",
       "      <td id=\"T_1101a_row3_col5\" class=\"data row3 col5\" >0.006000</td>\n",
       "    </tr>\n",
       "    <tr>\n",
       "      <td id=\"T_1101a_row4_col0\" class=\"data row4 col0\" >-0.000000</td>\n",
       "      <td id=\"T_1101a_row4_col1\" class=\"data row4 col1\" >-0.000000</td>\n",
       "      <td id=\"T_1101a_row4_col2\" class=\"data row4 col2\" >0.004363</td>\n",
       "      <td id=\"T_1101a_row4_col3\" class=\"data row4 col3\" >-0.028407</td>\n",
       "      <td id=\"T_1101a_row4_col4\" class=\"data row4 col4\" >1.000000</td>\n",
       "      <td id=\"T_1101a_row4_col5\" class=\"data row4 col5\" >-0.000006</td>\n",
       "    </tr>\n",
       "    <tr>\n",
       "      <td id=\"T_1101a_row5_col0\" class=\"data row5 col0\" >0.000000</td>\n",
       "      <td id=\"T_1101a_row5_col1\" class=\"data row5 col1\" >0.000000</td>\n",
       "      <td id=\"T_1101a_row5_col2\" class=\"data row5 col2\" >0.000000</td>\n",
       "      <td id=\"T_1101a_row5_col3\" class=\"data row5 col3\" >0.000000</td>\n",
       "      <td id=\"T_1101a_row5_col4\" class=\"data row5 col4\" >0.000000</td>\n",
       "      <td id=\"T_1101a_row5_col5\" class=\"data row5 col5\" >1.000000</td>\n",
       "    </tr>\n",
       "  </tbody>\n",
       "</table>\n"
      ],
      "text/plain": [
       "<pandas.io.formats.style.Styler at 0x179990790>"
      ]
     },
     "metadata": {},
     "output_type": "display_data"
    }
   ],
   "source": [
    "getMatrix( tao, \"PENT\",  \"DTOTR\", startOffset = 0.25, print = True );"
   ]
  },
  {
   "cell_type": "code",
   "execution_count": null,
   "id": "86558d2c-7c9e-4183-a472-7d12e48c1dec",
   "metadata": {},
   "outputs": [],
   "source": []
  }
 ],
 "metadata": {
  "kernelspec": {
   "display_name": "Python 3 (ipykernel)",
   "language": "python",
   "name": "python3"
  },
  "language_info": {
   "codemirror_mode": {
    "name": "ipython",
    "version": 3
   },
   "file_extension": ".py",
   "mimetype": "text/x-python",
   "name": "python",
   "nbconvert_exporter": "python",
   "pygments_lexer": "ipython3",
   "version": "3.11.11"
  }
 },
 "nbformat": 4,
 "nbformat_minor": 5
}
