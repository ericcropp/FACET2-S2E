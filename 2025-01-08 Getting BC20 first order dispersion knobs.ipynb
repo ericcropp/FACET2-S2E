{
 "cells": [
  {
   "cell_type": "code",
   "execution_count": 1,
   "id": "7414d19a-0409-4ae3-ae5a-3073ef8a6225",
   "metadata": {},
   "outputs": [],
   "source": [
    "from UTILITY_quickstart import *"
   ]
  },
  {
   "cell_type": "code",
   "execution_count": 2,
   "id": "3e353e5c-a411-4426-afe8-e5c4b12d6040",
   "metadata": {},
   "outputs": [
    {
     "name": "stdout",
     "output_type": "stream",
     "text": [
      "Environment set to:  /Users/nmajik/Documents/SLAC/FACET2-Bmad-PyTao\n",
      "Tracking to end\n",
      "CSR off\n",
      "Base Tao lattice\n",
      "WARNING! No beam file is specified!\n",
      "Number of macro particles defined by input file\n"
     ]
    }
   ],
   "source": [
    "#Start from golden lattice\n",
    "tao = initializeTao(\n",
    "    loadDefaultLatticeTF = False\n",
    ")"
   ]
  },
  {
   "cell_type": "code",
   "execution_count": 3,
   "id": "27e73e18-8315-4edb-b5a0-f9bc9249f10b",
   "metadata": {},
   "outputs": [
    {
     "data": {
      "text/html": [
       "<style type=\"text/css\">\n",
       "</style>\n",
       "<table id=\"T_fd577\">\n",
       "  <thead>\n",
       "  </thead>\n",
       "  <tbody>\n",
       "    <tr>\n",
       "      <td id=\"T_fd577_row0_col0\" class=\"data row0 col0\" >-1.208438</td>\n",
       "      <td id=\"T_fd577_row0_col1\" class=\"data row0 col1\" >-4.961819</td>\n",
       "      <td id=\"T_fd577_row0_col2\" class=\"data row0 col2\" >-0.000000</td>\n",
       "      <td id=\"T_fd577_row0_col3\" class=\"data row0 col3\" >-0.000000</td>\n",
       "      <td id=\"T_fd577_row0_col4\" class=\"data row0 col4\" >0.000000</td>\n",
       "      <td id=\"T_fd577_row0_col5\" class=\"data row0 col5\" >-0.000000</td>\n",
       "    </tr>\n",
       "    <tr>\n",
       "      <td id=\"T_fd577_row1_col0\" class=\"data row1 col0\" >-0.084842</td>\n",
       "      <td id=\"T_fd577_row1_col1\" class=\"data row1 col1\" >-1.175874</td>\n",
       "      <td id=\"T_fd577_row1_col2\" class=\"data row1 col2\" >-0.000000</td>\n",
       "      <td id=\"T_fd577_row1_col3\" class=\"data row1 col3\" >-0.000000</td>\n",
       "      <td id=\"T_fd577_row1_col4\" class=\"data row1 col4\" >0.000000</td>\n",
       "      <td id=\"T_fd577_row1_col5\" class=\"data row1 col5\" >-0.000000</td>\n",
       "    </tr>\n",
       "    <tr>\n",
       "      <td id=\"T_fd577_row2_col0\" class=\"data row2 col0\" >-0.000000</td>\n",
       "      <td id=\"T_fd577_row2_col1\" class=\"data row2 col1\" >-0.000000</td>\n",
       "      <td id=\"T_fd577_row2_col2\" class=\"data row2 col2\" >-0.638379</td>\n",
       "      <td id=\"T_fd577_row2_col3\" class=\"data row2 col3\" >6.515289</td>\n",
       "      <td id=\"T_fd577_row2_col4\" class=\"data row2 col4\" >0.000000</td>\n",
       "      <td id=\"T_fd577_row2_col5\" class=\"data row2 col5\" >-0.000000</td>\n",
       "    </tr>\n",
       "    <tr>\n",
       "      <td id=\"T_fd577_row3_col0\" class=\"data row3 col0\" >-0.000000</td>\n",
       "      <td id=\"T_fd577_row3_col1\" class=\"data row3 col1\" >-0.000000</td>\n",
       "      <td id=\"T_fd577_row3_col2\" class=\"data row3 col2\" >-0.094469</td>\n",
       "      <td id=\"T_fd577_row3_col3\" class=\"data row3 col3\" >-0.602321</td>\n",
       "      <td id=\"T_fd577_row3_col4\" class=\"data row3 col4\" >0.000000</td>\n",
       "      <td id=\"T_fd577_row3_col5\" class=\"data row3 col5\" >-0.000000</td>\n",
       "    </tr>\n",
       "    <tr>\n",
       "      <td id=\"T_fd577_row4_col0\" class=\"data row4 col0\" >0.000000</td>\n",
       "      <td id=\"T_fd577_row4_col1\" class=\"data row4 col1\" >0.000000</td>\n",
       "      <td id=\"T_fd577_row4_col2\" class=\"data row4 col2\" >0.000000</td>\n",
       "      <td id=\"T_fd577_row4_col3\" class=\"data row4 col3\" >0.000000</td>\n",
       "      <td id=\"T_fd577_row4_col4\" class=\"data row4 col4\" >1.000000</td>\n",
       "      <td id=\"T_fd577_row4_col5\" class=\"data row4 col5\" >-0.007000</td>\n",
       "    </tr>\n",
       "    <tr>\n",
       "      <td id=\"T_fd577_row5_col0\" class=\"data row5 col0\" >0.000000</td>\n",
       "      <td id=\"T_fd577_row5_col1\" class=\"data row5 col1\" >0.000000</td>\n",
       "      <td id=\"T_fd577_row5_col2\" class=\"data row5 col2\" >0.000000</td>\n",
       "      <td id=\"T_fd577_row5_col3\" class=\"data row5 col3\" >0.000000</td>\n",
       "      <td id=\"T_fd577_row5_col4\" class=\"data row5 col4\" >0.000000</td>\n",
       "      <td id=\"T_fd577_row5_col5\" class=\"data row5 col5\" >1.000000</td>\n",
       "    </tr>\n",
       "  </tbody>\n",
       "</table>\n"
      ],
      "text/plain": [
       "<pandas.io.formats.style.Styler at 0x142030d50>"
      ]
     },
     "metadata": {},
     "output_type": "display_data"
    }
   ],
   "source": [
    "getMatrix(tao, \"BEGBC20\", \"MFFF\", print = True);"
   ]
  },
  {
   "cell_type": "code",
   "execution_count": 4,
   "id": "01ae6606-b9d0-4524-a88a-06a9d42cfdc5",
   "metadata": {},
   "outputs": [
    {
     "name": "stdout",
     "output_type": "stream",
     "text": [
      "Environment set to:  /Users/nmajik/Documents/SLAC/FACET2-Bmad-PyTao\n",
      "Tracking to end\n",
      "CSR off\n",
      "Overwriting lattice with setLattice() defaults\n",
      "No defaults file provided to setLattice(). Using setLattice_configs/defaults.yml\n",
      "WARNING! No beam file is specified!\n",
      "Number of macro particles defined by input file\n"
     ]
    },
    {
     "data": {
      "text/html": [
       "<style type=\"text/css\">\n",
       "</style>\n",
       "<table id=\"T_3f424\">\n",
       "  <thead>\n",
       "  </thead>\n",
       "  <tbody>\n",
       "    <tr>\n",
       "      <td id=\"T_3f424_row0_col0\" class=\"data row0 col0\" >-1.208675</td>\n",
       "      <td id=\"T_3f424_row0_col1\" class=\"data row0 col1\" >-4.962570</td>\n",
       "      <td id=\"T_3f424_row0_col2\" class=\"data row0 col2\" >-0.000000</td>\n",
       "      <td id=\"T_3f424_row0_col3\" class=\"data row0 col3\" >-0.000000</td>\n",
       "      <td id=\"T_3f424_row0_col4\" class=\"data row0 col4\" >0.000000</td>\n",
       "      <td id=\"T_3f424_row0_col5\" class=\"data row0 col5\" >0.000012</td>\n",
       "    </tr>\n",
       "    <tr>\n",
       "      <td id=\"T_3f424_row1_col0\" class=\"data row1 col0\" >-0.084965</td>\n",
       "      <td id=\"T_3f424_row1_col1\" class=\"data row1 col1\" >-1.176201</td>\n",
       "      <td id=\"T_3f424_row1_col2\" class=\"data row1 col2\" >0.000000</td>\n",
       "      <td id=\"T_3f424_row1_col3\" class=\"data row1 col3\" >0.000000</td>\n",
       "      <td id=\"T_3f424_row1_col4\" class=\"data row1 col4\" >0.000000</td>\n",
       "      <td id=\"T_3f424_row1_col5\" class=\"data row1 col5\" >-0.000001</td>\n",
       "    </tr>\n",
       "    <tr>\n",
       "      <td id=\"T_3f424_row2_col0\" class=\"data row2 col0\" >-0.000000</td>\n",
       "      <td id=\"T_3f424_row2_col1\" class=\"data row2 col1\" >-0.000000</td>\n",
       "      <td id=\"T_3f424_row2_col2\" class=\"data row2 col2\" >-0.637675</td>\n",
       "      <td id=\"T_3f424_row2_col3\" class=\"data row2 col3\" >6.526881</td>\n",
       "      <td id=\"T_3f424_row2_col4\" class=\"data row2 col4\" >0.000000</td>\n",
       "      <td id=\"T_3f424_row2_col5\" class=\"data row2 col5\" >-0.000000</td>\n",
       "    </tr>\n",
       "    <tr>\n",
       "      <td id=\"T_3f424_row3_col0\" class=\"data row3 col0\" >-0.000000</td>\n",
       "      <td id=\"T_3f424_row3_col1\" class=\"data row3 col1\" >-0.000000</td>\n",
       "      <td id=\"T_3f424_row3_col2\" class=\"data row3 col2\" >-0.094432</td>\n",
       "      <td id=\"T_3f424_row3_col3\" class=\"data row3 col3\" >-0.601645</td>\n",
       "      <td id=\"T_3f424_row3_col4\" class=\"data row3 col4\" >0.000000</td>\n",
       "      <td id=\"T_3f424_row3_col5\" class=\"data row3 col5\" >-0.000000</td>\n",
       "    </tr>\n",
       "    <tr>\n",
       "      <td id=\"T_3f424_row4_col0\" class=\"data row4 col0\" >-0.000003</td>\n",
       "      <td id=\"T_3f424_row4_col1\" class=\"data row4 col1\" >-0.000021</td>\n",
       "      <td id=\"T_3f424_row4_col2\" class=\"data row4 col2\" >0.000000</td>\n",
       "      <td id=\"T_3f424_row4_col3\" class=\"data row4 col3\" >-0.000000</td>\n",
       "      <td id=\"T_3f424_row4_col4\" class=\"data row4 col4\" >1.000000</td>\n",
       "      <td id=\"T_3f424_row4_col5\" class=\"data row4 col5\" >-0.007001</td>\n",
       "    </tr>\n",
       "    <tr>\n",
       "      <td id=\"T_3f424_row5_col0\" class=\"data row5 col0\" >0.000000</td>\n",
       "      <td id=\"T_3f424_row5_col1\" class=\"data row5 col1\" >0.000000</td>\n",
       "      <td id=\"T_3f424_row5_col2\" class=\"data row5 col2\" >0.000000</td>\n",
       "      <td id=\"T_3f424_row5_col3\" class=\"data row5 col3\" >0.000000</td>\n",
       "      <td id=\"T_3f424_row5_col4\" class=\"data row5 col4\" >0.000000</td>\n",
       "      <td id=\"T_3f424_row5_col5\" class=\"data row5 col5\" >1.000000</td>\n",
       "    </tr>\n",
       "  </tbody>\n",
       "</table>\n"
      ],
      "text/plain": [
       "<pandas.io.formats.style.Styler at 0x1446a5750>"
      ]
     },
     "metadata": {},
     "output_type": "display_data"
    },
    {
     "name": "stdout",
     "output_type": "stream",
     "text": [
      "No evalElement provided. Assuming golden lattice PR10571\n",
      "Optimization Results:\n",
      "Optimal Parameters: [0.13755652 0.953558   0.40561699 2.20425982]\n",
      "Objective Function Value at Optimal Parameters: 3.3948865246987365e-09\n",
      "Number of Iterations: 235\n",
      "Converged: True\n"
     ]
    },
    {
     "data": {
      "text/html": [
       "<style type=\"text/css\">\n",
       "</style>\n",
       "<table id=\"T_41c7c\">\n",
       "  <thead>\n",
       "  </thead>\n",
       "  <tbody>\n",
       "    <tr>\n",
       "      <td id=\"T_41c7c_row0_col0\" class=\"data row0 col0\" >-1.208675</td>\n",
       "      <td id=\"T_41c7c_row0_col1\" class=\"data row0 col1\" >-4.962570</td>\n",
       "      <td id=\"T_41c7c_row0_col2\" class=\"data row0 col2\" >-0.000000</td>\n",
       "      <td id=\"T_41c7c_row0_col3\" class=\"data row0 col3\" >-0.000000</td>\n",
       "      <td id=\"T_41c7c_row0_col4\" class=\"data row0 col4\" >0.000000</td>\n",
       "      <td id=\"T_41c7c_row0_col5\" class=\"data row0 col5\" >0.000012</td>\n",
       "    </tr>\n",
       "    <tr>\n",
       "      <td id=\"T_41c7c_row1_col0\" class=\"data row1 col0\" >-0.084965</td>\n",
       "      <td id=\"T_41c7c_row1_col1\" class=\"data row1 col1\" >-1.176201</td>\n",
       "      <td id=\"T_41c7c_row1_col2\" class=\"data row1 col2\" >0.000000</td>\n",
       "      <td id=\"T_41c7c_row1_col3\" class=\"data row1 col3\" >0.000000</td>\n",
       "      <td id=\"T_41c7c_row1_col4\" class=\"data row1 col4\" >0.000000</td>\n",
       "      <td id=\"T_41c7c_row1_col5\" class=\"data row1 col5\" >-0.000001</td>\n",
       "    </tr>\n",
       "    <tr>\n",
       "      <td id=\"T_41c7c_row2_col0\" class=\"data row2 col0\" >-0.000000</td>\n",
       "      <td id=\"T_41c7c_row2_col1\" class=\"data row2 col1\" >-0.000000</td>\n",
       "      <td id=\"T_41c7c_row2_col2\" class=\"data row2 col2\" >-0.637675</td>\n",
       "      <td id=\"T_41c7c_row2_col3\" class=\"data row2 col3\" >6.526881</td>\n",
       "      <td id=\"T_41c7c_row2_col4\" class=\"data row2 col4\" >0.000000</td>\n",
       "      <td id=\"T_41c7c_row2_col5\" class=\"data row2 col5\" >-0.000000</td>\n",
       "    </tr>\n",
       "    <tr>\n",
       "      <td id=\"T_41c7c_row3_col0\" class=\"data row3 col0\" >-0.000000</td>\n",
       "      <td id=\"T_41c7c_row3_col1\" class=\"data row3 col1\" >-0.000000</td>\n",
       "      <td id=\"T_41c7c_row3_col2\" class=\"data row3 col2\" >-0.094432</td>\n",
       "      <td id=\"T_41c7c_row3_col3\" class=\"data row3 col3\" >-0.601645</td>\n",
       "      <td id=\"T_41c7c_row3_col4\" class=\"data row3 col4\" >0.000000</td>\n",
       "      <td id=\"T_41c7c_row3_col5\" class=\"data row3 col5\" >-0.000000</td>\n",
       "    </tr>\n",
       "    <tr>\n",
       "      <td id=\"T_41c7c_row4_col0\" class=\"data row4 col0\" >-0.000003</td>\n",
       "      <td id=\"T_41c7c_row4_col1\" class=\"data row4 col1\" >-0.000021</td>\n",
       "      <td id=\"T_41c7c_row4_col2\" class=\"data row4 col2\" >0.000000</td>\n",
       "      <td id=\"T_41c7c_row4_col3\" class=\"data row4 col3\" >-0.000000</td>\n",
       "      <td id=\"T_41c7c_row4_col4\" class=\"data row4 col4\" >1.000000</td>\n",
       "      <td id=\"T_41c7c_row4_col5\" class=\"data row4 col5\" >-0.007001</td>\n",
       "    </tr>\n",
       "    <tr>\n",
       "      <td id=\"T_41c7c_row5_col0\" class=\"data row5 col0\" >0.000000</td>\n",
       "      <td id=\"T_41c7c_row5_col1\" class=\"data row5 col1\" >0.000000</td>\n",
       "      <td id=\"T_41c7c_row5_col2\" class=\"data row5 col2\" >0.000000</td>\n",
       "      <td id=\"T_41c7c_row5_col3\" class=\"data row5 col3\" >0.000000</td>\n",
       "      <td id=\"T_41c7c_row5_col4\" class=\"data row5 col4\" >0.000000</td>\n",
       "      <td id=\"T_41c7c_row5_col5\" class=\"data row5 col5\" >1.000000</td>\n",
       "    </tr>\n",
       "  </tbody>\n",
       "</table>\n"
      ],
      "text/plain": [
       "<pandas.io.formats.style.Styler at 0x1446ac150>"
      ]
     },
     "metadata": {},
     "output_type": "display_data"
    }
   ],
   "source": [
    "#Load a default configuration\n",
    "#importedDefaultSettings = loadConfig(\"setLattice_configs/2024-10-22_oneBunch_baseline.yml\")\n",
    "importedDefaultSettings = loadConfig(\"setLattice_configs/defaults.yml\")\n",
    "\n",
    "#Initialize tao object\n",
    "tao = initializeTao(\n",
    "    #inputBeamFilePathSuffix = importedDefaultSettings[\"inputBeamFilePathSuffix\"],\n",
    "    #numMacroParticles = 1e4,\n",
    "    #csrTF = False\n",
    ")\n",
    "\n",
    "#Set lattice to the loaded config\n",
    "setLattice(tao, **importedDefaultSettings)\n",
    "\n",
    "getMatrix(tao, \"BEGBC20\", \"MFFF\", print = True);\n",
    "\n",
    "launchTwissCorrection(tao)\n",
    "\n",
    "baseMatrix = getMatrix(tao, \"BEGBC20\", \"MFFF\", print = True);"
   ]
  },
  {
   "cell_type": "code",
   "execution_count": 5,
   "id": "9073fafc-2e3a-41a3-8dd2-88740b48ec48",
   "metadata": {},
   "outputs": [
    {
     "data": {
      "text/html": [
       "<style type=\"text/css\">\n",
       "</style>\n",
       "<table id=\"T_e0c71\">\n",
       "  <thead>\n",
       "  </thead>\n",
       "  <tbody>\n",
       "    <tr>\n",
       "      <td id=\"T_e0c71_row0_col0\" class=\"data row0 col0\" >-1.310429</td>\n",
       "      <td id=\"T_e0c71_row0_col1\" class=\"data row0 col1\" >-5.082830</td>\n",
       "      <td id=\"T_e0c71_row0_col2\" class=\"data row0 col2\" >-0.000000</td>\n",
       "      <td id=\"T_e0c71_row0_col3\" class=\"data row0 col3\" >-0.000000</td>\n",
       "      <td id=\"T_e0c71_row0_col4\" class=\"data row0 col4\" >0.000000</td>\n",
       "      <td id=\"T_e0c71_row0_col5\" class=\"data row0 col5\" >0.007158</td>\n",
       "    </tr>\n",
       "    <tr>\n",
       "      <td id=\"T_e0c71_row1_col0\" class=\"data row1 col0\" >-0.128425</td>\n",
       "      <td id=\"T_e0c71_row1_col1\" class=\"data row1 col1\" >-1.261239</td>\n",
       "      <td id=\"T_e0c71_row1_col2\" class=\"data row1 col2\" >0.000000</td>\n",
       "      <td id=\"T_e0c71_row1_col3\" class=\"data row1 col3\" >0.000000</td>\n",
       "      <td id=\"T_e0c71_row1_col4\" class=\"data row1 col4\" >0.000000</td>\n",
       "      <td id=\"T_e0c71_row1_col5\" class=\"data row1 col5\" >0.000397</td>\n",
       "    </tr>\n",
       "    <tr>\n",
       "      <td id=\"T_e0c71_row2_col0\" class=\"data row2 col0\" >-0.000000</td>\n",
       "      <td id=\"T_e0c71_row2_col1\" class=\"data row2 col1\" >-0.000000</td>\n",
       "      <td id=\"T_e0c71_row2_col2\" class=\"data row2 col2\" >-0.692087</td>\n",
       "      <td id=\"T_e0c71_row2_col3\" class=\"data row2 col3\" >5.709292</td>\n",
       "      <td id=\"T_e0c71_row2_col4\" class=\"data row2 col4\" >0.000000</td>\n",
       "      <td id=\"T_e0c71_row2_col5\" class=\"data row2 col5\" >-0.000000</td>\n",
       "    </tr>\n",
       "    <tr>\n",
       "      <td id=\"T_e0c71_row3_col0\" class=\"data row3 col0\" >0.000000</td>\n",
       "      <td id=\"T_e0c71_row3_col1\" class=\"data row3 col1\" >-0.000000</td>\n",
       "      <td id=\"T_e0c71_row3_col2\" class=\"data row3 col2\" >-0.095684</td>\n",
       "      <td id=\"T_e0c71_row3_col3\" class=\"data row3 col3\" >-0.655575</td>\n",
       "      <td id=\"T_e0c71_row3_col4\" class=\"data row3 col4\" >0.000000</td>\n",
       "      <td id=\"T_e0c71_row3_col5\" class=\"data row3 col5\" >-0.000000</td>\n",
       "    </tr>\n",
       "    <tr>\n",
       "      <td id=\"T_e0c71_row4_col0\" class=\"data row4 col0\" >-0.000399</td>\n",
       "      <td id=\"T_e0c71_row4_col1\" class=\"data row4 col1\" >-0.007012</td>\n",
       "      <td id=\"T_e0c71_row4_col2\" class=\"data row4 col2\" >0.000000</td>\n",
       "      <td id=\"T_e0c71_row4_col3\" class=\"data row4 col3\" >0.000000</td>\n",
       "      <td id=\"T_e0c71_row4_col4\" class=\"data row4 col4\" >1.000000</td>\n",
       "      <td id=\"T_e0c71_row4_col5\" class=\"data row4 col5\" >-0.007487</td>\n",
       "    </tr>\n",
       "    <tr>\n",
       "      <td id=\"T_e0c71_row5_col0\" class=\"data row5 col0\" >0.000000</td>\n",
       "      <td id=\"T_e0c71_row5_col1\" class=\"data row5 col1\" >0.000000</td>\n",
       "      <td id=\"T_e0c71_row5_col2\" class=\"data row5 col2\" >0.000000</td>\n",
       "      <td id=\"T_e0c71_row5_col3\" class=\"data row5 col3\" >0.000000</td>\n",
       "      <td id=\"T_e0c71_row5_col4\" class=\"data row5 col4\" >0.000000</td>\n",
       "      <td id=\"T_e0c71_row5_col5\" class=\"data row5 col5\" >1.000000</td>\n",
       "    </tr>\n",
       "  </tbody>\n",
       "</table>\n"
      ],
      "text/plain": [
       "<pandas.io.formats.style.Styler at 0x1446b52d0>"
      ]
     },
     "metadata": {},
     "output_type": "display_data"
    }
   ],
   "source": [
    "setLattice(tao, **(importedDefaultSettings | {'Q3EkG': 110}))\n",
    "\n",
    "newMatrix = getMatrix(tao, \"BEGBC20\", \"MFFF\", print = True);"
   ]
  },
  {
   "cell_type": "code",
   "execution_count": 6,
   "id": "b2b792ce-29b0-4ee3-8a0f-62c28cbb7eba",
   "metadata": {},
   "outputs": [
    {
     "data": {
      "text/html": [
       "<style type=\"text/css\">\n",
       "</style>\n",
       "<table id=\"T_6f5ba\">\n",
       "  <thead>\n",
       "  </thead>\n",
       "  <tbody>\n",
       "    <tr>\n",
       "      <td id=\"T_6f5ba_row0_col0\" class=\"data row0 col0\" >-0.101754</td>\n",
       "      <td id=\"T_6f5ba_row0_col1\" class=\"data row0 col1\" >-0.120260</td>\n",
       "      <td id=\"T_6f5ba_row0_col2\" class=\"data row0 col2\" >-0.000000</td>\n",
       "      <td id=\"T_6f5ba_row0_col3\" class=\"data row0 col3\" >-0.000000</td>\n",
       "      <td id=\"T_6f5ba_row0_col4\" class=\"data row0 col4\" >0.000000</td>\n",
       "      <td id=\"T_6f5ba_row0_col5\" class=\"data row0 col5\" >0.007145</td>\n",
       "    </tr>\n",
       "    <tr>\n",
       "      <td id=\"T_6f5ba_row1_col0\" class=\"data row1 col0\" >-0.043460</td>\n",
       "      <td id=\"T_6f5ba_row1_col1\" class=\"data row1 col1\" >-0.085038</td>\n",
       "      <td id=\"T_6f5ba_row1_col2\" class=\"data row1 col2\" >-0.000000</td>\n",
       "      <td id=\"T_6f5ba_row1_col3\" class=\"data row1 col3\" >-0.000000</td>\n",
       "      <td id=\"T_6f5ba_row1_col4\" class=\"data row1 col4\" >0.000000</td>\n",
       "      <td id=\"T_6f5ba_row1_col5\" class=\"data row1 col5\" >0.000398</td>\n",
       "    </tr>\n",
       "    <tr>\n",
       "      <td id=\"T_6f5ba_row2_col0\" class=\"data row2 col0\" >0.000000</td>\n",
       "      <td id=\"T_6f5ba_row2_col1\" class=\"data row2 col1\" >0.000000</td>\n",
       "      <td id=\"T_6f5ba_row2_col2\" class=\"data row2 col2\" >-0.054411</td>\n",
       "      <td id=\"T_6f5ba_row2_col3\" class=\"data row2 col3\" >-0.817590</td>\n",
       "      <td id=\"T_6f5ba_row2_col4\" class=\"data row2 col4\" >0.000000</td>\n",
       "      <td id=\"T_6f5ba_row2_col5\" class=\"data row2 col5\" >0.000000</td>\n",
       "    </tr>\n",
       "    <tr>\n",
       "      <td id=\"T_6f5ba_row3_col0\" class=\"data row3 col0\" >0.000000</td>\n",
       "      <td id=\"T_6f5ba_row3_col1\" class=\"data row3 col1\" >0.000000</td>\n",
       "      <td id=\"T_6f5ba_row3_col2\" class=\"data row3 col2\" >-0.001252</td>\n",
       "      <td id=\"T_6f5ba_row3_col3\" class=\"data row3 col3\" >-0.053930</td>\n",
       "      <td id=\"T_6f5ba_row3_col4\" class=\"data row3 col4\" >0.000000</td>\n",
       "      <td id=\"T_6f5ba_row3_col5\" class=\"data row3 col5\" >0.000000</td>\n",
       "    </tr>\n",
       "    <tr>\n",
       "      <td id=\"T_6f5ba_row4_col0\" class=\"data row4 col0\" >-0.000397</td>\n",
       "      <td id=\"T_6f5ba_row4_col1\" class=\"data row4 col1\" >-0.006991</td>\n",
       "      <td id=\"T_6f5ba_row4_col2\" class=\"data row4 col2\" >-0.000000</td>\n",
       "      <td id=\"T_6f5ba_row4_col3\" class=\"data row4 col3\" >0.000000</td>\n",
       "      <td id=\"T_6f5ba_row4_col4\" class=\"data row4 col4\" >0.000000</td>\n",
       "      <td id=\"T_6f5ba_row4_col5\" class=\"data row4 col5\" >-0.000486</td>\n",
       "    </tr>\n",
       "    <tr>\n",
       "      <td id=\"T_6f5ba_row5_col0\" class=\"data row5 col0\" >0.000000</td>\n",
       "      <td id=\"T_6f5ba_row5_col1\" class=\"data row5 col1\" >0.000000</td>\n",
       "      <td id=\"T_6f5ba_row5_col2\" class=\"data row5 col2\" >0.000000</td>\n",
       "      <td id=\"T_6f5ba_row5_col3\" class=\"data row5 col3\" >0.000000</td>\n",
       "      <td id=\"T_6f5ba_row5_col4\" class=\"data row5 col4\" >0.000000</td>\n",
       "      <td id=\"T_6f5ba_row5_col5\" class=\"data row5 col5\" >0.000000</td>\n",
       "    </tr>\n",
       "  </tbody>\n",
       "</table>\n"
      ],
      "text/plain": [
       "<pandas.io.formats.style.Styler at 0x1446a4cd0>"
      ]
     },
     "metadata": {},
     "output_type": "display_data"
    }
   ],
   "source": [
    "displayMatrix(  newMatrix - baseMatrix ) "
   ]
  },
  {
   "cell_type": "code",
   "execution_count": 7,
   "id": "f8501b66-e833-4f55-8faa-e3ed40d30665",
   "metadata": {},
   "outputs": [],
   "source": [
    "def getNewMatrix(params):\n",
    "    q1, q2, q3, q4, q5, q6 = params\n",
    "    setLattice(tao, **(importedDefaultSettings | {\n",
    "        'Q1EkG': q1,\n",
    "        'Q2EkG': q2,\n",
    "        'Q3EkG': q3,\n",
    "        'Q4EkG': q4,\n",
    "        'Q5EkG': q5,\n",
    "        'Q6EkG': q6,\n",
    "\n",
    "    }))\n",
    "\n",
    "    return( getMatrix(tao, \"BEGBC20\", \"MFFF\") )"
   ]
  },
  {
   "cell_type": "code",
   "execution_count": 8,
   "id": "c9465178-eecb-4e0c-8b72-c556c163d57f",
   "metadata": {},
   "outputs": [
    {
     "data": {
      "text/plain": [
       "[161.311, -154.229, 110.217, 132.268, -23.373, -142.271]"
      ]
     },
     "execution_count": 8,
     "metadata": {},
     "output_type": "execute_result"
    }
   ],
   "source": [
    "baselineParams = [ importedDefaultSettings[ele] for ele in ['Q1EkG', 'Q2EkG', 'Q3EkG', 'Q4EkG', 'Q5EkG', 'Q6EkG'] ]\n",
    "baselineParams"
   ]
  },
  {
   "cell_type": "code",
   "execution_count": 9,
   "id": "b2e9c817-ae4f-44fd-9945-98f66596ae1c",
   "metadata": {},
   "outputs": [
    {
     "data": {
      "text/plain": [
       "array([[-1.20867456e+00, -4.96256976e+00, -1.33718758e-17,\n",
       "        -1.10207470e-16,  0.00000000e+00,  1.23649164e-05],\n",
       "       [-8.49649366e-02, -1.17620117e+00, -1.90000751e-18,\n",
       "        -2.33770173e-17,  0.00000000e+00, -1.24861596e-06],\n",
       "       [-2.38694683e-16, -1.12476605e-15, -6.37675400e-01,\n",
       "         6.52688129e+00,  0.00000000e+00, -2.74050514e-17],\n",
       "       [-2.92697655e-18, -1.41951754e-17, -9.44318686e-02,\n",
       "        -6.01645293e-01,  0.00000000e+00, -8.06887982e-19],\n",
       "       [-2.55975468e-06, -2.07399729e-05,  1.46759644e-19,\n",
       "         8.85450066e-18,  1.00000000e+00, -7.00081917e-03],\n",
       "       [ 0.00000000e+00,  0.00000000e+00,  0.00000000e+00,\n",
       "         0.00000000e+00,  0.00000000e+00,  1.00000000e+00]])"
      ]
     },
     "execution_count": 9,
     "metadata": {},
     "output_type": "execute_result"
    }
   ],
   "source": [
    "getNewMatrix( baselineParams )"
   ]
  },
  {
   "cell_type": "code",
   "execution_count": 10,
   "id": "32d5b052-3aa2-4ab0-bd47-3182fa85b544",
   "metadata": {},
   "outputs": [],
   "source": [
    "#The objective is to create a transport matrix that is the same as the baseline, except with a larger dispersion term\n",
    "\n",
    "def objective(params):\n",
    "    newMatrix = getNewMatrix(params)\n",
    "\n",
    "    targetMatrix = baseMatrix + [[0,0,0,0,0,0.01],[0,0,0,0,0,0],[0,0,0,0,0,0],[0,0,0,0,0,0],[0,0,0,0,0,0],[0,0,0,0,0,0]]\n",
    "\n",
    "    errorMatrix = np.array( newMatrix - targetMatrix )\n",
    "\n",
    "    error = np.sum(errorMatrix ** 2) \n",
    "\n",
    "    #print(error)\n",
    "    \n",
    "    return error\n",
    "    \n",
    "\n",
    "    \n"
   ]
  },
  {
   "cell_type": "code",
   "execution_count": 11,
   "id": "c6428d87-0733-47d3-b42b-d8ef39c4049b",
   "metadata": {},
   "outputs": [
    {
     "name": "stdout",
     "output_type": "stream",
     "text": [
      "Optimization Results:\n",
      "Optimal Parameters: [ 162.383757   -154.1009491   109.57661266  134.41302407  -23.66569387\n",
      " -142.68966868]\n",
      "Objective Function Value at Optimal Parameters: 4.956145439395259e-05\n",
      "Number of Iterations: 541\n",
      "Converged: True\n"
     ]
    }
   ],
   "source": [
    "from scipy.optimize import minimize\n",
    "\n",
    "# Perform optimization using Nelder-Mead\n",
    "result = minimize(\n",
    "    objective, \n",
    "    baselineParams, #Starting point\n",
    "    method='Nelder-Mead',\n",
    ")\n",
    "\n",
    "                      \n",
    "print(\"Optimization Results:\")\n",
    "print(f\"Optimal Parameters: {result.x}\")\n",
    "print(f\"Objective Function Value at Optimal Parameters: {result.fun}\")\n",
    "print(f\"Number of Iterations: {result.nit}\")\n",
    "print(f\"Converged: {result.success}\")"
   ]
  },
  {
   "cell_type": "code",
   "execution_count": 12,
   "id": "d2a5d2b8-752b-49b0-9669-aaeaba29e7f0",
   "metadata": {},
   "outputs": [],
   "source": [
    "proposedParams = result.x"
   ]
  },
  {
   "cell_type": "code",
   "execution_count": 13,
   "id": "6c39176f-d8ff-4382-a74d-44112e239ef3",
   "metadata": {},
   "outputs": [
    {
     "data": {
      "text/plain": [
       "array([ 1.072757  ,  0.1280509 , -0.64038734,  2.14502407, -0.29269387,\n",
       "       -0.41866868])"
      ]
     },
     "execution_count": 13,
     "metadata": {},
     "output_type": "execute_result"
    }
   ],
   "source": [
    "proposedParams - baselineParams"
   ]
  },
  {
   "cell_type": "code",
   "execution_count": 14,
   "id": "59778814-f00b-4c06-acbe-16a0f7b77ff4",
   "metadata": {},
   "outputs": [
    {
     "data": {
      "text/plain": [
       "array([ 0.00665024, -0.00083026, -0.00581024,  0.01621726,  0.01252273,\n",
       "        0.00294275])"
      ]
     },
     "execution_count": 14,
     "metadata": {},
     "output_type": "execute_result"
    }
   ],
   "source": [
    "(proposedParams - baselineParams) / baselineParams"
   ]
  },
  {
   "cell_type": "markdown",
   "id": "9e3738a1-d83e-4338-81a2-a06777892749",
   "metadata": {},
   "source": [
    "### X Dispersion prime"
   ]
  },
  {
   "cell_type": "code",
   "execution_count": 15,
   "id": "a4f16d04-7a12-4ff4-abdd-ac97c93bdfaa",
   "metadata": {},
   "outputs": [],
   "source": [
    "def objective(params):\n",
    "    newMatrix = getNewMatrix(params)\n",
    "\n",
    "    targetMatrix = baseMatrix + [[0,0,0,0,0,0],[0,0,0,0,0,0.01],[0,0,0,0,0,0],[0,0,0,0,0,0],[0,0,0,0,0,0],[0,0,0,0,0,0]]\n",
    "\n",
    "    errorMatrix = np.array( newMatrix - targetMatrix )\n",
    "\n",
    "    error = np.sum(errorMatrix ** 2) \n",
    "\n",
    "    #print(error)\n",
    "    \n",
    "    return error"
   ]
  },
  {
   "cell_type": "code",
   "execution_count": null,
   "id": "1c0dea09-0f6a-4a91-86e5-ba84a892d9db",
   "metadata": {},
   "outputs": [],
   "source": [
    "# Perform optimization using Nelder-Mead\n",
    "result = minimize(\n",
    "    objective, \n",
    "    baselineParams, #Starting point\n",
    "    method='Nelder-Mead',\n",
    ")\n",
    "\n",
    "                      \n",
    "print(\"Optimization Results:\")\n",
    "print(f\"Optimal Parameters: {result.x}\")\n",
    "print(f\"Objective Function Value at Optimal Parameters: {result.fun}\")\n",
    "print(f\"Number of Iterations: {result.nit}\")\n",
    "print(f\"Converged: {result.success}\")"
   ]
  },
  {
   "cell_type": "code",
   "execution_count": null,
   "id": "ae900f68-bd66-4a49-b282-e70456939996",
   "metadata": {},
   "outputs": [],
   "source": [
    "proposedParams = result.x"
   ]
  },
  {
   "cell_type": "code",
   "execution_count": null,
   "id": "597b2737-689a-4d5a-bca8-2eaf822ace24",
   "metadata": {},
   "outputs": [],
   "source": [
    "proposedParams - baselineParams"
   ]
  },
  {
   "cell_type": "code",
   "execution_count": null,
   "id": "7919d288-284c-4fb0-8e4c-061bc370a52c",
   "metadata": {},
   "outputs": [],
   "source": []
  }
 ],
 "metadata": {
  "kernelspec": {
   "display_name": "Python 3 (ipykernel)",
   "language": "python",
   "name": "python3"
  },
  "language_info": {
   "codemirror_mode": {
    "name": "ipython",
    "version": 3
   },
   "file_extension": ".py",
   "mimetype": "text/x-python",
   "name": "python",
   "nbconvert_exporter": "python",
   "pygments_lexer": "ipython3",
   "version": "3.11.8"
  }
 },
 "nbformat": 4,
 "nbformat_minor": 5
}
