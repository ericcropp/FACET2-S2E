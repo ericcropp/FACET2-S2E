{
 "cells": [
  {
   "cell_type": "code",
   "execution_count": 1,
   "id": "393df551-2ef4-4553-99e2-484b7c017338",
   "metadata": {},
   "outputs": [],
   "source": [
    "from UTILITY_quickstart import *"
   ]
  },
  {
   "cell_type": "code",
   "execution_count": 2,
   "id": "1ca4a375-7bec-4aab-9458-676ab493b7a5",
   "metadata": {},
   "outputs": [
    {
     "name": "stdout",
     "output_type": "stream",
     "text": [
      "Environment set to:  /Users/nmajik/Documents/SLAC/FACET2-Bmad-PyTao\n",
      "Tracking to end\n",
      "CSR off\n",
      "Base Tao lattice\n",
      "WARNING! No beam file is specified!\n",
      "Number of macro particles defined by input file\n"
     ]
    }
   ],
   "source": [
    "#Start from golden lattice\n",
    "tao = initializeTao(\n",
    "    loadDefaultLatticeTF = False\n",
    ")"
   ]
  },
  {
   "cell_type": "code",
   "execution_count": 3,
   "id": "cce44b33-ba3e-44e4-b78f-67344adeb296",
   "metadata": {},
   "outputs": [
    {
     "data": {
      "text/plain": [
       "['Element # 1533',\n",
       " 'Element Name: PENT',\n",
       " 'Key: Marker',\n",
       " 'S_start, S:    994.772815,    994.772815',\n",
       " 'Ref_time_start, Ref_time:  3.318222E-06,  3.318222E-06',\n",
       " '',\n",
       " 'Attribute values [Only non-zero values shown]:',\n",
       " '    1  L                           =  0.0000000E+00 m',\n",
       " '    7  OSC_AMPLITUDE               =  0.0000000E+00 m',\n",
       " '   24  TILT_CALIB                  =  0.0000000E+00 rad',\n",
       " '   25  DE_ETA_MEAS                 =  0.0000000E+00',\n",
       " '   53  P0C                         =  1.0000000E+10 eV           BETA                        =  1.0000000E+00',\n",
       " '   54  E_TOT                       =  1.0000000E+10 eV           GAMMA                       =  1.9569512E+04',\n",
       " '   64  REF_TIME_START              =  3.3182219E-06 sec      50  DELTA_REF_TIME              =  0.0000000E+00 sec',\n",
       " '',\n",
       " '       TRACKING_METHOD              =  Bmad_Standard             APERTURE_AT                =  Exit_End',\n",
       " '       MAT6_CALC_METHOD             =  Auto                      APERTURE_TYPE              =  Rectangular',\n",
       " '       SPIN_TRACKING_METHOD         =  Tracking                  OFFSET_MOVES_APERTURE      =  F',\n",
       " '       PTC_INTEGRATION_TYPE         =  Matrix_Kick               LONGITUDINAL ORIENTATION   =       1',\n",
       " '                                                                 REF_SPECIES                =  Electron',\n",
       " '',\n",
       " 'Slave_status: Free',\n",
       " '',\n",
       " 'Lord_status:  Not_a_Lord',\n",
       " '',\n",
       " 'Twiss at end of element:',\n",
       " '                          A              B            Cbar                        C_mat',\n",
       " '  Beta (m)         0.50011351     0.49995568  |   0.00000000  -0.00000000      0.00000000  -0.00000000',\n",
       " '  Alpha           -0.00008614     0.00011620  |   0.00000000  -0.00000000      0.00000000  -0.00000000',\n",
       " '  Gamma (1/m)      1.99954606     2.00017732  |   Gamma_c =   1.00000000       Mode_Flip = F',\n",
       " '  Phi (rad)       73.10038563    60.40823015            X              Y              Z',\n",
       " '  Eta (m)         -0.00000043    -0.00000000    -0.00000043    -0.00000000     0.02273092',\n",
       " '  Etap            -0.00000761    -0.00000000    -0.00000761    -0.00000000    -0.00000000',\n",
       " '  dEta/ds         -0.00000761    -0.00000000    -0.00000761    -0.00000000    -0.00000000',\n",
       " '',\n",
       " 'Tracking: Electron,   State: Alive',\n",
       " '         Position[mm] Momentum[mrad]        Spin   |',\n",
       " '  X:       0.00000000    -0.00000000               | t_particle [sec]:        3.31822194E-06  E_tot: 1.00000E+10',\n",
       " '  Y:      -0.00000000    -0.00000000               | t_part-t_ref [sec]:     -1.27054942E-21  PC:    1.00000E+10',\n",
       " '  Z:      -0.00000000     0.00000000               | (t_ref-t_part)*Vel [m]:  3.80901133E-13  Beta:  0.999999999']"
      ]
     },
     "execution_count": 3,
     "metadata": {},
     "output_type": "execute_result"
    }
   ],
   "source": [
    "tao.cmd(\"show ele PENT\")"
   ]
  },
  {
   "cell_type": "code",
   "execution_count": 4,
   "id": "188bc00c-9cfa-4108-afec-3181da05da8f",
   "metadata": {},
   "outputs": [
    {
     "data": {
      "text/plain": [
       "{'beta_a': 0.99991388817197,\n",
       " 'alpha_a': 0.999686887836314,\n",
       " 'gamma_a': 1.99954605827816,\n",
       " 'phi_a': 72.3150579011166,\n",
       " 'eta_a': 3.37522284376359e-06,\n",
       " 'etap_a': -7.60864677687215e-06,\n",
       " 'beta_b': 1.00011621264697,\n",
       " 'alpha_b': 1.00020486058778,\n",
       " 'gamma_b': 2.00017731724298,\n",
       " 'phi_b': 59.622845768874,\n",
       " 'eta_b': -2.14261248361953e-19,\n",
       " 'etap_b': -1.31862568529426e-17,\n",
       " 'c_mat11': 3.12840044307877e-18,\n",
       " 'c_mat12': -2.23964690538362e-18,\n",
       " 'c_mat21': 1.68495193627994e-17,\n",
       " 'c_mat22': -2.39444930010667e-18,\n",
       " 'gamma_c': 1.0}"
      ]
     },
     "execution_count": 4,
     "metadata": {},
     "output_type": "execute_result"
    }
   ],
   "source": [
    "tao.twiss_at_s(ele = \"PENT\", s_offset = -0.5)"
   ]
  },
  {
   "cell_type": "code",
   "execution_count": 11,
   "id": "7c81d981-b85b-4da2-b07a-7379b24eddfd",
   "metadata": {},
   "outputs": [
    {
     "name": "stdout",
     "output_type": "stream",
     "text": [
      "Optimization Results:\n",
      "Optimal Parameters: [ -69.90674642  -80.44269776   98.77831105  129.21861873 -239.74526156\n",
      "  128.52861982]\n",
      "Objective Function Value at Optimal Parameters: 3.823099066507106e-05\n",
      "Number of Iterations: 670\n",
      "Converged: True\n"
     ]
    },
    {
     "data": {
      "text/plain": [
       "{'Q5FFkG': -69.9067464216445,\n",
       " 'Q4FFkG': -80.44269775561213,\n",
       " 'Q3FFkG': 98.77831104715844,\n",
       " 'Q2FFkG': 129.21861873156104,\n",
       " 'Q1FFkG': -239.74526155738425,\n",
       " 'Q0FFkG': 128.5286198150172}"
      ]
     },
     "execution_count": 11,
     "metadata": {},
     "output_type": "execute_result"
    }
   ],
   "source": [
    "def finalFocusSolverObjective(params, tao, ele, s_offset, targetBetaX, targetAlphaX, targetBetaY, targetAlphaY):\n",
    "    Q5FFkG, Q4FFkG, Q3FFkG, Q2FFkG, Q1FFkG, Q0FFkG  = params\n",
    "    \n",
    "    try:\n",
    "        #Prevent recalculation until changes are made\n",
    "        tao.cmd(\"set global lattice_calc_on = F\")\n",
    "        \n",
    "        setQuadkG(tao, \"Q5FF\", Q5FFkG)\n",
    "        setQuadkG(tao, \"Q4FF\", Q4FFkG)\n",
    "        setQuadkG(tao, \"Q3FF\", Q3FFkG)\n",
    "        setQuadkG(tao, \"Q2FF\", Q2FFkG)\n",
    "        setQuadkG(tao, \"Q1FF\", Q1FFkG)\n",
    "        setQuadkG(tao, \"Q0FF\", Q0FFkG)\n",
    "        \n",
    "        #Reenable lattice calculations\n",
    "        tao.cmd(\"set global lattice_calc_on = T\")\n",
    "    \n",
    "    except: #If Bmad doesn't like the proposed solution, don't crash, give a bad number\n",
    "        return 1e20\n",
    "\n",
    "    resultTwiss = tao.twiss_at_s(ele = ele, s_offset = s_offset)\n",
    "    resultBetaX = resultTwiss[\"beta_a\"]\n",
    "    resultAlphaX = resultTwiss[\"alpha_a\"]\n",
    "    resultBetaY = resultTwiss[\"beta_b\"]\n",
    "    resultAlphaY = resultTwiss[\"alpha_b\"]\n",
    "\n",
    "    #Golden lattice FF settings as of 2025-01-10-11-17-43\n",
    "    # Q5FFkG :  -71.837\n",
    "    # Q4FFkG :  -81.251\n",
    "    # Q3FFkG :  99.225\n",
    "    # Q2FFkG :  126.35\n",
    "    # Q1FFkG :  -235.218\n",
    "    # Q0FFkG :  126.353\n",
    "    goldenVector = np.array([ -71.837 , -81.251, 99.225, 126.35, -235.218,  126.353 ])\n",
    "\n",
    "    #Optionally give a very slight preference to solutions that don't move the magnets very much\n",
    "    moveError = 1e-6 * np.sum( (params - goldenVector) ** 2 ) \n",
    "    \n",
    "    return (resultBetaX - targetBetaX) ** 2 + (resultAlphaX - targetAlphaX) ** 2 + (resultBetaY - targetBetaY) ** 2 + (resultAlphaY - targetAlphaY) ** 2 + moveError\n",
    "\n",
    "\n",
    "def finalFocusSolver(\n",
    "    tao,\n",
    "    ele = \"PENT\",\n",
    "    s_offset = 0.0,\n",
    "    targetBetaX = 0.5,\n",
    "    targetAlphaX = 0,\n",
    "    targetBetaY = 0.5,\n",
    "    targetAlphaY = 0,\n",
    "    verbose = False\n",
    "):\n",
    "    from scipy.optimize import minimize\n",
    "\n",
    "\n",
    "    quadNameList = [\"Q5FF\", \"Q4FF\", \"Q3FF\", \"Q2FF\", \"Q1FF\", \"Q0FF\"] \n",
    "    initialGuess = [getQuadkG(tao, name) for name in quadNameList]\n",
    "\n",
    "    #For now, just hardcoding bounds... could generalize if required\n",
    "    #From \"bounds.yml\" as of 2025-01-10-11-11-35\n",
    "    # Q5FFkGBounds: (-256, 0)  #BCON = -70\n",
    "    # Q4FFkGBounds: (-446, 0)  #BCON = -71\n",
    "    # Q3FFkGBounds: (0, 457)   #BCON = 106\n",
    "    # Q2FFkGBounds: (0, 167)   #BCON = 112\n",
    "    # Q1FFkGBounds: (-257, 0)  #BCON = -225\n",
    "    # Q0FFkGBounds: (0, 167)   #BCON = 112\n",
    "\n",
    "    bounds = [(-256,0), (-446,0), (0,457), (0,167), (-257,0), (0,167)]\n",
    "\n",
    "\n",
    "    # Perform optimization using Nelder-Mead\n",
    "    result = minimize(\n",
    "        finalFocusSolverObjective, \n",
    "        initialGuess, \n",
    "        method='Nelder-Mead',\n",
    "        bounds = bounds,\n",
    "        args = (tao, ele, s_offset, targetBetaX, targetAlphaX, targetBetaY, targetAlphaY)\n",
    "    )\n",
    "\n",
    "\n",
    "    # #Apply best result to the lattice\n",
    "    # betaSetX, alphaSetX, betaSetY, alphaSetY = result.x\n",
    "    \n",
    "    # #Prevent recalculation until changes are made\n",
    "    # tao.cmd(\"set global lattice_calc_on = F\")\n",
    "    \n",
    "    # tao.cmd(f\"set element beginning beta_a = {betaSetX}\")\n",
    "    # tao.cmd(f\"set element beginning alpha_a = {alphaSetX}\")\n",
    "    # tao.cmd(f\"set element beginning beta_b = {betaSetY}\")\n",
    "    # tao.cmd(f\"set element beginning alpha_b = {alphaSetY}\")\n",
    "    \n",
    "    # #Reenable lattice calculations\n",
    "    # tao.cmd(\"set global lattice_calc_on = T\")\n",
    "\n",
    "    if verbose:\n",
    "        print(\"Optimization Results:\")\n",
    "        print(f\"Optimal Parameters: {result.x}\")\n",
    "        print(f\"Objective Function Value at Optimal Parameters: {result.fun}\")\n",
    "        print(f\"Number of Iterations: {result.nit}\")\n",
    "        print(f\"Converged: {result.success}\")\n",
    "\n",
    "    quadVariableNameList = [\"Q5FFkG\", \"Q4FFkG\", \"Q3FFkG\", \"Q2FFkG\", \"Q1FFkG\", \"Q0FFkG\"] \n",
    "\n",
    "    \n",
    "    \n",
    "    return { quadVariableNameList[i] : result.x[i] for i in range(len(quadVariableNameList)) }\n",
    "\n",
    "\n",
    "finalFocusSolver(tao, \n",
    "                 ele = \"PENT\",\n",
    "                 s_offset = -0.25,\n",
    "                 targetBetaX = 0.5,\n",
    "                 targetAlphaX = 0.0,\n",
    "                 targetBetaY = 0.5,\n",
    "                 targetAlphaY = 0,\n",
    "                 verbose = True\n",
    "                 )\n"
   ]
  },
  {
   "cell_type": "markdown",
   "id": "012ff30c-c00a-401b-88bc-366923fecf6b",
   "metadata": {},
   "source": [
    "## Confirm we can operate with setLattice()"
   ]
  },
  {
   "cell_type": "code",
   "execution_count": 17,
   "id": "32bad17b-ba3e-4c83-9b9e-4ef61572a4ec",
   "metadata": {},
   "outputs": [
    {
     "name": "stdout",
     "output_type": "stream",
     "text": [
      "Environment set to:  /Users/nmajik/Documents/SLAC/FACET2-Bmad-PyTao\n",
      "Tracking to end\n",
      "CSR off\n",
      "Overwriting lattice with setLattice() defaults\n",
      "No defaults file provided to setLattice(). Using setLattice_configs/defaults.yml\n",
      "WARNING! No beam file is specified!\n",
      "Number of macro particles = 10000.0\n"
     ]
    },
    {
     "data": {
      "text/plain": [
       "{'beta_a': 0.50649204966748,\n",
       " 'alpha_a': 0.0466683356262582,\n",
       " 'gamma_a': 1.9786646882376,\n",
       " 'phi_a': 73.0782192378143,\n",
       " 'eta_a': -5.53984755575948e-06,\n",
       " 'etap_a': -1.05998552673305e-05,\n",
       " 'beta_b': 0.500627846338041,\n",
       " 'alpha_b': -0.120964597934503,\n",
       " 'gamma_b': 2.02671993053367,\n",
       " 'phi_b': 60.5521347355512,\n",
       " 'eta_b': -2.11809896530596e-18,\n",
       " 'etap_b': -2.52217362743306e-18,\n",
       " 'c_mat11': 1.24354101578855e-16,\n",
       " 'c_mat12': -2.15263057112982e-17,\n",
       " 'c_mat21': -3.33737707176956e-17,\n",
       " 'c_mat22': 4.78887427948486e-18,\n",
       " 'gamma_c': 1.0}"
      ]
     },
     "execution_count": 17,
     "metadata": {},
     "output_type": "execute_result"
    }
   ],
   "source": [
    "#Load a default configuration\n",
    "importedDefaultSettings = loadConfig(\"setLattice_configs/defaults.yml\")\n",
    "\n",
    "#Initialize tao object\n",
    "tao = initializeTao(\n",
    "    #inputBeamFilePathSuffix = importedDefaultSettings[\"inputBeamFilePathSuffix\"],\n",
    "    numMacroParticles = 1e4,\n",
    "    csrTF = False\n",
    ")\n",
    "\n",
    "#Set lattice to the loaded config\n",
    "setLattice(tao, **importedDefaultSettings)\n",
    "\n",
    "tao.twiss_at_s(ele = \"PENT\", s_offset = 0.0)"
   ]
  },
  {
   "cell_type": "code",
   "execution_count": 18,
   "id": "12a4377d-0a50-4d13-8a17-ab94dbdfb35e",
   "metadata": {},
   "outputs": [
    {
     "name": "stdout",
     "output_type": "stream",
     "text": [
      "Optimization Results:\n",
      "Optimal Parameters: [ -67.31617009  -74.97988868  108.98909463  112.05936352 -225.21737042\n",
      "  114.30355501]\n",
      "Objective Function Value at Optimal Parameters: 0.0006057083844674432\n",
      "Number of Iterations: 520\n",
      "Converged: True\n"
     ]
    }
   ],
   "source": [
    "#goldenVector = np.array([ -71.837 , -81.251, 99.225, 126.35, -235.218,  126.353 ])\n",
    "newMagnetSettings = finalFocusSolver(tao, \n",
    "                 ele = \"PENT\",\n",
    "                 s_offset = 0.0,\n",
    "                 targetBetaX = 1.0,\n",
    "                 targetAlphaX = 0.0,\n",
    "                 targetBetaY = 1.0,\n",
    "                 targetAlphaY = 0,\n",
    "                 verbose = True\n",
    "                 )"
   ]
  },
  {
   "cell_type": "code",
   "execution_count": 19,
   "id": "3a2da37e-3643-4f13-8898-03c87562034c",
   "metadata": {},
   "outputs": [
    {
     "data": {
      "text/plain": [
       "{'beta_a': 0.998944808144639,\n",
       " 'alpha_a': -2.65814134386144e-05,\n",
       " 'gamma_a': 1.00105630716865,\n",
       " 'phi_a': 73.1168481643165,\n",
       " 'eta_a': -8.07944549818631e-06,\n",
       " 'etap_a': -7.60471626112937e-06,\n",
       " 'beta_b': 1.00004044509841,\n",
       " 'alpha_b': -0.000257527427580277,\n",
       " 'gamma_b': 0.99995962285502,\n",
       " 'phi_b': 60.0570456708695,\n",
       " 'eta_b': -1.77410623306456e-18,\n",
       " 'etap_b': -2.79993770479687e-18,\n",
       " 'c_mat11': 1.29653157129085e-16,\n",
       " 'c_mat12': 1.88716113929479e-17,\n",
       " 'c_mat21': -1.79870549383777e-17,\n",
       " 'c_mat22': -2.85914029103542e-18,\n",
       " 'gamma_c': 1.0}"
      ]
     },
     "execution_count": 19,
     "metadata": {},
     "output_type": "execute_result"
    }
   ],
   "source": [
    "setLattice(tao, **(importedDefaultSettings | newMagnetSettings))\n",
    "\n",
    "tao.twiss_at_s(ele = \"PENT\", s_offset = 0.0)"
   ]
  },
  {
   "cell_type": "code",
   "execution_count": null,
   "id": "da696466-0813-4c24-97ea-1527cab321f7",
   "metadata": {},
   "outputs": [],
   "source": []
  }
 ],
 "metadata": {
  "kernelspec": {
   "display_name": "Python 3 (ipykernel)",
   "language": "python",
   "name": "python3"
  },
  "language_info": {
   "codemirror_mode": {
    "name": "ipython",
    "version": 3
   },
   "file_extension": ".py",
   "mimetype": "text/x-python",
   "name": "python",
   "nbconvert_exporter": "python",
   "pygments_lexer": "ipython3",
   "version": "3.11.8"
  }
 },
 "nbformat": 4,
 "nbformat_minor": 5
}
