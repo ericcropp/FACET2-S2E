{
 "cells": [
  {
   "cell_type": "code",
   "execution_count": 1,
   "id": "396d0523-ffe7-4ea6-a9eb-23a54d6057db",
   "metadata": {},
   "outputs": [
    {
     "name": "stdout",
     "output_type": "stream",
     "text": [
      "Environment set to:  /Users/nmajik/Documents/SLAC/FACET2-Bmad-PyTao\n",
      "Tracking to end\n",
      "CSR off\n",
      "Not using setLattice(). Golden lattice\n",
      "WARNING! No beam file is specified!\n",
      "Number of macro particles defined by input file\n"
     ]
    }
   ],
   "source": [
    "from UTILITY_quickstart import *\n",
    "from scipy.optimize import minimize\n",
    "\n",
    "#Start from golden lattice\n",
    "tao = initializeTao(\n",
    "    loadDefaultLatticeTF = False\n",
    ")"
   ]
  },
  {
   "cell_type": "raw",
   "id": "7e5d9bc8-1daa-476e-896d-2256a27ec1f2",
   "metadata": {},
   "source": [
    "Give FF solver an additional objective: given some quadErrorSigma, achieve the desired betas and alphas but with minimal centroid shift"
   ]
  },
  {
   "cell_type": "code",
   "execution_count": 2,
   "id": "70a9730d-b566-4d32-8361-14158fdb19de",
   "metadata": {},
   "outputs": [
    {
     "name": "stdout",
     "output_type": "stream",
     "text": [
      "Optimization Results:\n",
      "Optimal Parameters: [ -72.21581035  -82.47892922  102.60329399  128.25635275 -235.56586399\n",
      "  126.06295717  -71.29183012  -83.76167488   97.62234864  126.13732823\n",
      " -234.4814131   125.41682557]\n",
      "Objective Function Value at Optimal Parameters: 2.796584942760295\n",
      "Number of Iterations: 324\n",
      "Converged: True\n"
     ]
    }
   ],
   "source": [
    "def rampToZero(val, thresh, scale = 1):\n",
    "    return (max(val, thresh) - thresh) / scale\n",
    "    \n",
    "def finalFocusSolverObjectiveSpecial(params, tao, ele, s_offset1, targetBetaX1, targetAlphaX1, targetBetaY1, targetAlphaY1, s_offset2, targetBetaX2, targetAlphaX2, targetBetaY2, targetAlphaY2):\n",
    "\n",
    "    Q5FFkG1, Q4FFkG1, Q3FFkG1, Q2FFkG1, Q1FFkG1, Q0FFkG1, Q5FFkG2, Q4FFkG2, Q3FFkG2, Q2FFkG2, Q1FFkG2, Q0FFkG2  = params\n",
    "    quadNameList = [\"Q5FF\", \"Q4FF\", \"Q3FF\", \"Q2FF\", \"Q1FF\", \"Q0FF\"]\n",
    "    quadErrorSigma = 100e-6 \n",
    "    allErrors = []\n",
    "    numMonteCarlo = 10\n",
    "    \n",
    "    \n",
    "    #Loop random magnet error\n",
    "            #Loop twiss target [1,2]\n",
    "                #Get twiss at point [1,2]\n",
    "                #Get centroid at PENT\n",
    "    \n",
    "    \n",
    "    for iteration in range(numMonteCarlo):\n",
    "        #Prevent recalculation until changes are made\n",
    "        tao.cmd(\"set global lattice_calc_on = F\")\n",
    "        \n",
    "        for quad in quadNameList:\n",
    "            setXOffset(tao, quad, quadErrorSigma * np.random.normal())\n",
    "            setYOffset(tao, quad, quadErrorSigma * np.random.normal())\n",
    "        \n",
    "        #Reenable lattice calculations\n",
    "        tao.cmd(\"set global lattice_calc_on = T\")\n",
    "        \n",
    "        \n",
    "        \n",
    "        \n",
    "        \n",
    "        #Prevent recalculation until changes are made\n",
    "        tao.cmd(\"set global lattice_calc_on = F\")\n",
    "        \n",
    "        setQuadkG(tao, \"Q5FF\", Q5FFkG1)\n",
    "        setQuadkG(tao, \"Q4FF\", Q4FFkG1)\n",
    "        setQuadkG(tao, \"Q3FF\", Q3FFkG1)\n",
    "        setQuadkG(tao, \"Q2FF\", Q2FFkG1)\n",
    "        setQuadkG(tao, \"Q1FF\", Q1FFkG1)\n",
    "        setQuadkG(tao, \"Q0FF\", Q0FFkG1)\n",
    "        \n",
    "        #Reenable lattice calculations\n",
    "        tao.cmd(\"set global lattice_calc_on = T\")\n",
    "        \n",
    "        resultTwiss1  = tao.twiss_at_s(ele = ele, s_offset = s_offset1)\n",
    "        resultBetaX1  = resultTwiss1[\"beta_a\"]\n",
    "        resultAlphaX1 = resultTwiss1[\"alpha_a\"]\n",
    "        resultBetaY1  = resultTwiss1[\"beta_b\"]\n",
    "        resultAlphaY1 = resultTwiss1[\"alpha_b\"]\n",
    "        \n",
    "        PENTCentroidX1 = tao.ele_orbit(\"PENT\")['x']\n",
    "        PENTCentroidY1 = tao.ele_orbit(\"PENT\")['y']\n",
    "        \n",
    "        \n",
    "        #Prevent recalculation until changes are made\n",
    "        tao.cmd(\"set global lattice_calc_on = F\")\n",
    "        \n",
    "        setQuadkG(tao, \"Q5FF\", Q5FFkG2)\n",
    "        setQuadkG(tao, \"Q4FF\", Q4FFkG2)\n",
    "        setQuadkG(tao, \"Q3FF\", Q3FFkG2)\n",
    "        setQuadkG(tao, \"Q2FF\", Q2FFkG2)\n",
    "        setQuadkG(tao, \"Q1FF\", Q1FFkG2)\n",
    "        setQuadkG(tao, \"Q0FF\", Q0FFkG2)\n",
    "        \n",
    "        #Reenable lattice calculations\n",
    "        tao.cmd(\"set global lattice_calc_on = T\")\n",
    "        \n",
    "        resultTwiss2  = tao.twiss_at_s(ele = ele, s_offset = s_offset2)\n",
    "        resultBetaX2  = resultTwiss2[\"beta_a\"]\n",
    "        resultAlphaX2 = resultTwiss2[\"alpha_a\"]\n",
    "        resultBetaY2  = resultTwiss2[\"beta_b\"]\n",
    "        resultAlphaY2 = resultTwiss2[\"alpha_b\"]\n",
    "        \n",
    "        PENTCentroidX2 = tao.ele_orbit(\"PENT\")['x']\n",
    "        PENTCentroidY2 = tao.ele_orbit(\"PENT\")['y']\n",
    "        \n",
    "        \n",
    "        twissError1 = (resultBetaX1 - targetBetaX1) ** 2 + (resultAlphaX1 - targetAlphaX1) ** 2 + (resultBetaY1 - targetBetaY1) ** 2 + (resultAlphaY1 - targetAlphaY1) ** 2\n",
    "        twissError2 = (resultBetaX2 - targetBetaX2) ** 2 + (resultAlphaX2 - targetAlphaX2) ** 2 + (resultBetaY2 - targetBetaY2) ** 2 + (resultAlphaY2 - targetAlphaY2) ** 2\n",
    "        centroidShiftError = np.sqrt( ( PENTCentroidX1 - PENTCentroidX2 ) ** 2 + ( PENTCentroidY1 - PENTCentroidY2 ) ** 2 )\n",
    "\n",
    "        \n",
    "        totalError = twissError1 + twissError2 + rampToZero(centroidShiftError, 10e-6, scale = 1e-6)\n",
    "    \n",
    "        allErrors.append(totalError)\n",
    "\n",
    "    #print(allErrors)\n",
    "    \n",
    "    return np.median(allErrors)\n",
    "\n",
    "\n",
    "\n",
    "\n",
    "def finalFocusSolverSpecial(\n",
    "    tao,\n",
    "    ele = \"PENT\",\n",
    "    s_offset1 = -0.5,\n",
    "    targetBetaX1 = 0.5,\n",
    "    targetAlphaX1 = 0,\n",
    "    targetBetaY1 = 0.5,\n",
    "    targetAlphaY1 = 0,\n",
    "    s_offset2 = 0.5,\n",
    "    targetBetaX2 = 0.5,\n",
    "    targetAlphaX2 = 0,\n",
    "    targetBetaY2 = 0.5,\n",
    "    targetAlphaY2 = 0,\n",
    "    verbose = False\n",
    "):\n",
    "\n",
    "\n",
    "    quadNameList = [\"Q5FF\", \"Q4FF\", \"Q3FF\", \"Q2FF\", \"Q1FF\", \"Q0FF\", \"Q5FF\", \"Q4FF\", \"Q3FF\", \"Q2FF\", \"Q1FF\", \"Q0FF\"] \n",
    "    initialGuess = [getQuadkG(tao, name) for name in quadNameList]\n",
    "\n",
    "    #For now, just hardcoding bounds... could generalize if required\n",
    "    #From \"bounds.yml\" as of 2025-01-10-11-11-35\n",
    "    # Q5FFkGBounds: (-256, 0)  #BCON = -70\n",
    "    # Q4FFkGBounds: (-446, 0)  #BCON = -71\n",
    "    # Q3FFkGBounds: (0, 457)   #BCON = 106\n",
    "    # Q2FFkGBounds: (0, 167)   #BCON = 112\n",
    "    # Q1FFkGBounds: (-257, 0)  #BCON = -225\n",
    "    # Q0FFkGBounds: (0, 167)   #BCON = 112\n",
    "\n",
    "    bounds = [(-256,0), (-446,0), (0,457), (0,167), (-257,0), (0,167), (-256,0), (-446,0), (0,457), (0,167), (-257,0), (0,167)]\n",
    "\n",
    "\n",
    "    # Perform optimization using Nelder-Mead\n",
    "    result = minimize(\n",
    "        finalFocusSolverObjectiveSpecial, \n",
    "        initialGuess, \n",
    "        method='Nelder-Mead',\n",
    "        options = {\"maxiter\" : 500},\n",
    "        bounds = bounds,\n",
    "        args = (tao, ele, s_offset1, targetBetaX1, targetAlphaX1, targetBetaY1, targetAlphaY1, s_offset2, targetBetaX2, targetAlphaX2, targetBetaY2, targetAlphaY2)\n",
    "    )\n",
    "\n",
    "\n",
    "\n",
    "    if verbose:\n",
    "        print(\"Optimization Results:\")\n",
    "        print(f\"Optimal Parameters: {result.x}\")\n",
    "        print(f\"Objective Function Value at Optimal Parameters: {result.fun}\")\n",
    "        print(f\"Number of Iterations: {result.nit}\")\n",
    "        print(f\"Converged: {result.success}\")\n",
    "\n",
    "    quadVariableNameList = [\"Q5FFkG1\", \"Q4FFkG1\", \"Q3FFkG1\", \"Q2FFkG1\", \"Q1FFkG1\", \"Q0FFkG1\", \"Q5FFkG2\", \"Q4FFkG2\", \"Q3FFkG2\", \"Q2FFkG2\", \"Q1FFkG2\", \"Q0FFkG2\"] \n",
    "\n",
    "    \n",
    "    \n",
    "    return { quadVariableNameList[i] : result.x[i] for i in range(len(quadVariableNameList)) }\n",
    "\n",
    "\n",
    "\n",
    "\n",
    "\n",
    "\n",
    "sol = finalFocusSolverSpecial(tao, verbose = True)"
   ]
  },
  {
   "cell_type": "code",
   "execution_count": 3,
   "id": "5aca1911-56a6-4dbf-917a-9fa3d5275638",
   "metadata": {},
   "outputs": [],
   "source": [
    "Q5FFkG1, Q4FFkG1, Q3FFkG1, Q2FFkG1, Q1FFkG1, Q0FFkG1, Q5FFkG2, Q4FFkG2, Q3FFkG2, Q2FFkG2, Q1FFkG2, Q0FFkG2  = list(sol.values())"
   ]
  },
  {
   "cell_type": "code",
   "execution_count": 4,
   "id": "40813394-ce21-4df8-a768-c9c1e071546a",
   "metadata": {},
   "outputs": [
    {
     "data": {
      "text/plain": [
       "{'beta_a': 0.538349595650331,\n",
       " 'alpha_a': 0.212086847234079,\n",
       " 'gamma_a': 1.94108222465988,\n",
       " 'phi_a': 72.892129902228,\n",
       " 'eta_a': 0.000169835344193957,\n",
       " 'etap_a': -0.000128950619118819,\n",
       " 'beta_b': 1.02439750328415,\n",
       " 'alpha_b': 1.04405990296562,\n",
       " 'gamma_b': 2.04028326336211,\n",
       " 'phi_b': 59.6023014248535,\n",
       " 'eta_b': 0.00165119032473957,\n",
       " 'etap_b': 0.000514008615074956,\n",
       " 'c_mat11': 5.48969969274288e-09,\n",
       " 'c_mat12': -6.18679673476927e-09,\n",
       " 'c_mat21': 6.02114585814347e-09,\n",
       " 'c_mat22': -2.94791639344399e-08,\n",
       " 'gamma_c': 1.0}"
      ]
     },
     "execution_count": 4,
     "metadata": {},
     "output_type": "execute_result"
    }
   ],
   "source": [
    "#Prevent recalculation until changes are made\n",
    "tao.cmd(\"set global lattice_calc_on = F\")\n",
    "\n",
    "setQuadkG(tao, \"Q5FF\", Q5FFkG1)\n",
    "setQuadkG(tao, \"Q4FF\", Q4FFkG1)\n",
    "setQuadkG(tao, \"Q3FF\", Q3FFkG1)\n",
    "setQuadkG(tao, \"Q2FF\", Q2FFkG1)\n",
    "setQuadkG(tao, \"Q1FF\", Q1FFkG1)\n",
    "setQuadkG(tao, \"Q0FF\", Q0FFkG1)\n",
    "\n",
    "#Reenable lattice calculations\n",
    "tao.cmd(\"set global lattice_calc_on = T\")\n",
    "\n",
    "\n",
    "PENTCentroidX1 = tao.ele_orbit(\"PENT\")['x']\n",
    "PENTCentroidY1 = tao.ele_orbit(\"PENT\")['y']\n",
    "\n",
    "\n",
    "tao.twiss_at_s(ele = \"PENT\", s_offset = -0.5)"
   ]
  },
  {
   "cell_type": "code",
   "execution_count": 5,
   "id": "ea1baed4-1d82-47c3-848c-55e663def812",
   "metadata": {},
   "outputs": [
    {
     "data": {
      "text/plain": [
       "{'beta_a': 0.597693613135534,\n",
       " 'alpha_a': -0.511679493922767,\n",
       " 'gamma_a': 2.1111416899396,\n",
       " 'phi_a': 73.5701523248814,\n",
       " 'eta_a': 0.000102991491868723,\n",
       " 'etap_a': -0.000123978943658703,\n",
       " 'beta_b': 0.919160323480188,\n",
       " 'alpha_b': -0.968516896663994,\n",
       " 'gamma_b': 2.10847327676827,\n",
       " 'phi_b': 61.2106883957827,\n",
       " 'eta_b': 0.00216702292266797,\n",
       " 'etap_b': 0.000484779209095929,\n",
       " 'c_mat11': 3.94225495807629e-09,\n",
       " 'c_mat12': -1.44425456299531e-09,\n",
       " 'c_mat21': 5.52167709345539e-09,\n",
       " 'c_mat22': -2.71717990939286e-08,\n",
       " 'gamma_c': 1.0}"
      ]
     },
     "execution_count": 5,
     "metadata": {},
     "output_type": "execute_result"
    }
   ],
   "source": [
    "#Prevent recalculation until changes are made\n",
    "tao.cmd(\"set global lattice_calc_on = F\")\n",
    "\n",
    "setQuadkG(tao, \"Q5FF\", Q5FFkG2)\n",
    "setQuadkG(tao, \"Q4FF\", Q4FFkG2)\n",
    "setQuadkG(tao, \"Q3FF\", Q3FFkG2)\n",
    "setQuadkG(tao, \"Q2FF\", Q2FFkG2)\n",
    "setQuadkG(tao, \"Q1FF\", Q1FFkG2)\n",
    "setQuadkG(tao, \"Q0FF\", Q0FFkG2)\n",
    "\n",
    "#Reenable lattice calculations\n",
    "tao.cmd(\"set global lattice_calc_on = T\")\n",
    "\n",
    "\n",
    "PENTCentroidX2 = tao.ele_orbit(\"PENT\")['x']\n",
    "PENTCentroidY2 = tao.ele_orbit(\"PENT\")['y']\n",
    "\n",
    "\n",
    "tao.twiss_at_s(ele = \"PENT\", s_offset = 0.5)"
   ]
  },
  {
   "cell_type": "code",
   "execution_count": 6,
   "id": "4a1b4e74-b449-4fc1-96a0-824ce42c3a7c",
   "metadata": {},
   "outputs": [
    {
     "name": "stdout",
     "output_type": "stream",
     "text": [
      "-575.9448224755901\n",
      "11.546936024550199\n",
      "-568.5726692482081\n",
      "14.167571319813101\n"
     ]
    },
    {
     "data": {
      "text/plain": [
       "7.824089247879064"
      ]
     },
     "execution_count": 6,
     "metadata": {},
     "output_type": "execute_result"
    }
   ],
   "source": [
    "print(1e6 * PENTCentroidX1)\n",
    "print(1e6 * PENTCentroidY1)\n",
    "print(1e6 * PENTCentroidX2)\n",
    "print(1e6 * PENTCentroidY2)\n",
    "1e6 * np.sqrt( ( PENTCentroidX1 - PENTCentroidX2 ) ** 2 + ( PENTCentroidY1 - PENTCentroidY2 ) ** 2 )"
   ]
  },
  {
   "cell_type": "code",
   "execution_count": null,
   "id": "dac94d9b-5657-44d0-a91e-9ae32d29ebad",
   "metadata": {},
   "outputs": [],
   "source": []
  }
 ],
 "metadata": {
  "kernelspec": {
   "display_name": "Python 3 (ipykernel)",
   "language": "python",
   "name": "python3"
  },
  "language_info": {
   "codemirror_mode": {
    "name": "ipython",
    "version": 3
   },
   "file_extension": ".py",
   "mimetype": "text/x-python",
   "name": "python",
   "nbconvert_exporter": "python",
   "pygments_lexer": "ipython3",
   "version": "3.11.8"
  }
 },
 "nbformat": 4,
 "nbformat_minor": 5
}
