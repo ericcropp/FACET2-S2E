{
 "cells": [
  {
   "cell_type": "code",
   "execution_count": 1,
   "id": "396d0523-ffe7-4ea6-a9eb-23a54d6057db",
   "metadata": {},
   "outputs": [
    {
     "name": "stdout",
     "output_type": "stream",
     "text": [
      "Environment set to:  /Users/nmajik/Documents/SLAC/FACET2-Bmad-PyTao\n",
      "Tracking to end\n",
      "CSR off\n",
      "Not using setLattice(). Golden lattice\n",
      "WARNING! No beam file is specified!\n",
      "Number of macro particles defined by input file\n"
     ]
    }
   ],
   "source": [
    "from UTILITY_quickstart import *\n",
    "from scipy.optimize import minimize\n",
    "\n",
    "#Start from golden lattice\n",
    "tao = initializeTao(\n",
    "    loadDefaultLatticeTF = False\n",
    ")"
   ]
  },
  {
   "cell_type": "raw",
   "id": "7e5d9bc8-1daa-476e-896d-2256a27ec1f2",
   "metadata": {},
   "source": [
    "Give FF solver an additional objective: given some quadErrorSigma, achieve the desired betas and alphas but with minimal centroid shift"
   ]
  },
  {
   "cell_type": "code",
   "execution_count": 2,
   "id": "70a9730d-b566-4d32-8361-14158fdb19de",
   "metadata": {},
   "outputs": [
    {
     "name": "stdout",
     "output_type": "stream",
     "text": [
      "Optimization Results:\n",
      "Optimal Parameters: [ -72.73496506  -78.74485096  103.41489669  126.14086929 -235.79533777\n",
      "  126.43676866  -72.29551366  -83.18686511   95.72341313  125.32662412\n",
      " -233.80468069  127.54862597]\n",
      "Objective Function Value at Optimal Parameters: 1.5680799571614088\n",
      "Number of Iterations: 500\n",
      "Converged: False\n"
     ]
    }
   ],
   "source": [
    "def rampToZero(val, thresh, scale = 1):\n",
    "    return (max(val, thresh) - thresh) / scale\n",
    "    \n",
    "def finalFocusSolverObjectiveSpecial(params, tao, ele, s_offset1, targetBetaX1, targetAlphaX1, targetBetaY1, targetAlphaY1, s_offset2, targetBetaX2, targetAlphaX2, targetBetaY2, targetAlphaY2):\n",
    "\n",
    "    Q5FFkG1, Q4FFkG1, Q3FFkG1, Q2FFkG1, Q1FFkG1, Q0FFkG1, Q5FFkG2, Q4FFkG2, Q3FFkG2, Q2FFkG2, Q1FFkG2, Q0FFkG2  = params\n",
    "    quadNameList = [\"Q5FF\", \"Q4FF\", \"Q3FF\", \"Q2FF\", \"Q1FF\", \"Q0FF\"]\n",
    "    quadErrorSigma = 100e-6 \n",
    "    allErrors = []\n",
    "    numMonteCarlo = 10\n",
    "    \n",
    "    \n",
    "    #Loop random magnet error\n",
    "            #Loop twiss target [1,2]\n",
    "                #Get twiss at point [1,2]\n",
    "                #Get centroid at PENT\n",
    "    \n",
    "    \n",
    "    for iteration in range(numMonteCarlo):\n",
    "        #Prevent recalculation until changes are made\n",
    "        tao.cmd(\"set global lattice_calc_on = F\")\n",
    "        \n",
    "        for quad in quadNameList:\n",
    "            setXOffset(tao, quad, quadErrorSigma * np.random.normal())\n",
    "            setYOffset(tao, quad, quadErrorSigma * np.random.normal())\n",
    "        \n",
    "        #Reenable lattice calculations\n",
    "        tao.cmd(\"set global lattice_calc_on = T\")\n",
    "        \n",
    "        \n",
    "        \n",
    "        \n",
    "        \n",
    "        #Prevent recalculation until changes are made\n",
    "        tao.cmd(\"set global lattice_calc_on = F\")\n",
    "        \n",
    "        setQuadkG(tao, \"Q5FF\", Q5FFkG1)\n",
    "        setQuadkG(tao, \"Q4FF\", Q4FFkG1)\n",
    "        setQuadkG(tao, \"Q3FF\", Q3FFkG1)\n",
    "        setQuadkG(tao, \"Q2FF\", Q2FFkG1)\n",
    "        setQuadkG(tao, \"Q1FF\", Q1FFkG1)\n",
    "        setQuadkG(tao, \"Q0FF\", Q0FFkG1)\n",
    "        \n",
    "        #Reenable lattice calculations\n",
    "        tao.cmd(\"set global lattice_calc_on = T\")\n",
    "        \n",
    "        resultTwiss1  = tao.twiss_at_s(ele = ele, s_offset = s_offset1)\n",
    "        resultBetaX1  = resultTwiss1[\"beta_a\"]\n",
    "        resultAlphaX1 = resultTwiss1[\"alpha_a\"]\n",
    "        resultBetaY1  = resultTwiss1[\"beta_b\"]\n",
    "        resultAlphaY1 = resultTwiss1[\"alpha_b\"]\n",
    "        \n",
    "        PENTCentroidX1 = tao.ele_orbit(\"PENT\")['x']\n",
    "        PENTCentroidY1 = tao.ele_orbit(\"PENT\")['y']\n",
    "        \n",
    "        \n",
    "        #Prevent recalculation until changes are made\n",
    "        tao.cmd(\"set global lattice_calc_on = F\")\n",
    "        \n",
    "        setQuadkG(tao, \"Q5FF\", Q5FFkG2)\n",
    "        setQuadkG(tao, \"Q4FF\", Q4FFkG2)\n",
    "        setQuadkG(tao, \"Q3FF\", Q3FFkG2)\n",
    "        setQuadkG(tao, \"Q2FF\", Q2FFkG2)\n",
    "        setQuadkG(tao, \"Q1FF\", Q1FFkG2)\n",
    "        setQuadkG(tao, \"Q0FF\", Q0FFkG2)\n",
    "        \n",
    "        #Reenable lattice calculations\n",
    "        tao.cmd(\"set global lattice_calc_on = T\")\n",
    "        \n",
    "        resultTwiss2  = tao.twiss_at_s(ele = ele, s_offset = s_offset2)\n",
    "        resultBetaX2  = resultTwiss2[\"beta_a\"]\n",
    "        resultAlphaX2 = resultTwiss2[\"alpha_a\"]\n",
    "        resultBetaY2  = resultTwiss2[\"beta_b\"]\n",
    "        resultAlphaY2 = resultTwiss2[\"alpha_b\"]\n",
    "        \n",
    "        PENTCentroidX2 = tao.ele_orbit(\"PENT\")['x']\n",
    "        PENTCentroidY2 = tao.ele_orbit(\"PENT\")['y']\n",
    "        \n",
    "        \n",
    "        twissError1 = (resultBetaX1 - targetBetaX1) ** 2 + (resultAlphaX1 - targetAlphaX1) ** 2 + (resultBetaY1 - targetBetaY1) ** 2 + (resultAlphaY1 - targetAlphaY1) ** 2\n",
    "        twissError2 = (resultBetaX2 - targetBetaX2) ** 2 + (resultAlphaX2 - targetAlphaX2) ** 2 + (resultBetaY2 - targetBetaY2) ** 2 + (resultAlphaY2 - targetAlphaY2) ** 2\n",
    "        centroidShiftError = np.sqrt( ( PENTCentroidX1 - PENTCentroidX2 ) ** 2 + ( PENTCentroidY1 - PENTCentroidY2 ) ** 2 )\n",
    "\n",
    "        \n",
    "        totalError = twissError1 + twissError2 + rampToZero(centroidShiftError, 20e-6, scale = 1e-6)\n",
    "    \n",
    "        allErrors.append(totalError)\n",
    "\n",
    "    #print(allErrors)\n",
    "    \n",
    "    return np.median(allErrors)\n",
    "\n",
    "\n",
    "\n",
    "\n",
    "def finalFocusSolverSpecial(\n",
    "    tao,\n",
    "    ele = \"PENT\",\n",
    "    s_offset1 = -0.5,\n",
    "    targetBetaX1 = 0.5,\n",
    "    targetAlphaX1 = 0,\n",
    "    targetBetaY1 = 0.5,\n",
    "    targetAlphaY1 = 0,\n",
    "    s_offset2 = 0.5,\n",
    "    targetBetaX2 = 0.5,\n",
    "    targetAlphaX2 = 0,\n",
    "    targetBetaY2 = 0.5,\n",
    "    targetAlphaY2 = 0,\n",
    "    verbose = False\n",
    "):\n",
    "\n",
    "\n",
    "    quadNameList = [\"Q5FF\", \"Q4FF\", \"Q3FF\", \"Q2FF\", \"Q1FF\", \"Q0FF\", \"Q5FF\", \"Q4FF\", \"Q3FF\", \"Q2FF\", \"Q1FF\", \"Q0FF\"] \n",
    "    initialGuess = [getQuadkG(tao, name) for name in quadNameList]\n",
    "\n",
    "    #For now, just hardcoding bounds... could generalize if required\n",
    "    #From \"bounds.yml\" as of 2025-01-10-11-11-35\n",
    "    # Q5FFkGBounds: (-256, 0)  #BCON = -70\n",
    "    # Q4FFkGBounds: (-446, 0)  #BCON = -71\n",
    "    # Q3FFkGBounds: (0, 457)   #BCON = 106\n",
    "    # Q2FFkGBounds: (0, 167)   #BCON = 112\n",
    "    # Q1FFkGBounds: (-257, 0)  #BCON = -225\n",
    "    # Q0FFkGBounds: (0, 167)   #BCON = 112\n",
    "\n",
    "    bounds = [(-256,0), (-446,0), (0,457), (0,167), (-257,0), (0,167), (-256,0), (-446,0), (0,457), (0,167), (-257,0), (0,167)]\n",
    "\n",
    "\n",
    "    # Perform optimization using Nelder-Mead\n",
    "    result = minimize(\n",
    "        finalFocusSolverObjectiveSpecial, \n",
    "        initialGuess, \n",
    "        method='Nelder-Mead',\n",
    "        options = {\"maxiter\" : 500},\n",
    "        bounds = bounds,\n",
    "        args = (tao, ele, s_offset1, targetBetaX1, targetAlphaX1, targetBetaY1, targetAlphaY1, s_offset2, targetBetaX2, targetAlphaX2, targetBetaY2, targetAlphaY2)\n",
    "    )\n",
    "\n",
    "\n",
    "\n",
    "    if verbose:\n",
    "        print(\"Optimization Results:\")\n",
    "        print(f\"Optimal Parameters: {result.x}\")\n",
    "        print(f\"Objective Function Value at Optimal Parameters: {result.fun}\")\n",
    "        print(f\"Number of Iterations: {result.nit}\")\n",
    "        print(f\"Converged: {result.success}\")\n",
    "\n",
    "    quadVariableNameList = [\"Q5FFkG1\", \"Q4FFkG1\", \"Q3FFkG1\", \"Q2FFkG1\", \"Q1FFkG1\", \"Q0FFkG1\", \"Q5FFkG2\", \"Q4FFkG2\", \"Q3FFkG2\", \"Q2FFkG2\", \"Q1FFkG2\", \"Q0FFkG2\"] \n",
    "\n",
    "    \n",
    "    \n",
    "    return { quadVariableNameList[i] : result.x[i] for i in range(len(quadVariableNameList)) }\n",
    "\n",
    "\n",
    "\n",
    "\n",
    "\n",
    "\n",
    "sol = finalFocusSolverSpecial(tao, verbose = True)"
   ]
  },
  {
   "cell_type": "code",
   "execution_count": 3,
   "id": "5aca1911-56a6-4dbf-917a-9fa3d5275638",
   "metadata": {},
   "outputs": [],
   "source": [
    "Q5FFkG1, Q4FFkG1, Q3FFkG1, Q2FFkG1, Q1FFkG1, Q0FFkG1, Q5FFkG2, Q4FFkG2, Q3FFkG2, Q2FFkG2, Q1FFkG2, Q0FFkG2  = list(sol.values())"
   ]
  },
  {
   "cell_type": "code",
   "execution_count": 4,
   "id": "40813394-ce21-4df8-a768-c9c1e071546a",
   "metadata": {},
   "outputs": [
    {
     "data": {
      "text/plain": [
       "{'beta_a': 0.575549967856467,\n",
       " 'alpha_a': 0.114290906061348,\n",
       " 'gamma_a': 1.76016413480361,\n",
       " 'phi_a': 72.9900632944764,\n",
       " 'eta_a': 0.000323570370916389,\n",
       " 'etap_a': -0.000107871614953764,\n",
       " 'beta_b': 0.875233402964798,\n",
       " 'alpha_b': 0.815565173136434,\n",
       " 'gamma_b': 1.90251714113342,\n",
       " 'phi_b': 59.6782686391464,\n",
       " 'eta_b': 0.00198205958167567,\n",
       " 'etap_b': 0.000625547407575545,\n",
       " 'c_mat11': -3.10853044579465e-09,\n",
       " 'c_mat12': 3.35852565686131e-08,\n",
       " 'c_mat21': 7.78989861868682e-09,\n",
       " 'c_mat22': -4.12654017826897e-08,\n",
       " 'gamma_c': 1.0}"
      ]
     },
     "execution_count": 4,
     "metadata": {},
     "output_type": "execute_result"
    }
   ],
   "source": [
    "#Prevent recalculation until changes are made\n",
    "tao.cmd(\"set global lattice_calc_on = F\")\n",
    "\n",
    "setQuadkG(tao, \"Q5FF\", Q5FFkG1)\n",
    "setQuadkG(tao, \"Q4FF\", Q4FFkG1)\n",
    "setQuadkG(tao, \"Q3FF\", Q3FFkG1)\n",
    "setQuadkG(tao, \"Q2FF\", Q2FFkG1)\n",
    "setQuadkG(tao, \"Q1FF\", Q1FFkG1)\n",
    "setQuadkG(tao, \"Q0FF\", Q0FFkG1)\n",
    "\n",
    "#Reenable lattice calculations\n",
    "tao.cmd(\"set global lattice_calc_on = T\")\n",
    "\n",
    "\n",
    "PENTCentroidX1 = tao.ele_orbit(\"PENT\")['x']\n",
    "PENTCentroidY1 = tao.ele_orbit(\"PENT\")['y']\n",
    "\n",
    "\n",
    "tao.twiss_at_s(ele = \"PENT\", s_offset = -0.5)"
   ]
  },
  {
   "cell_type": "code",
   "execution_count": 5,
   "id": "ea1baed4-1d82-47c3-848c-55e663def812",
   "metadata": {},
   "outputs": [
    {
     "data": {
      "text/plain": [
       "{'beta_a': 0.463850052231495,\n",
       " 'alpha_a': -0.241974530450718,\n",
       " 'gamma_a': 2.28209885564172,\n",
       " 'phi_a': 73.3350877674684,\n",
       " 'eta_a': 0.000286730207637898,\n",
       " 'etap_a': -0.000108149274676035,\n",
       " 'beta_b': 0.762319544928577,\n",
       " 'alpha_b': -0.784023805528522,\n",
       " 'gamma_b': 2.11813187576964,\n",
       " 'phi_b': 61.1256498123634,\n",
       " 'eta_b': 0.00235934942993691,\n",
       " 'etap_b': 0.000539035927435367,\n",
       " 'c_mat11': -2.45576731733336e-09,\n",
       " 'c_mat12': 2.62341144134345e-08,\n",
       " 'c_mat21': 6.92930656400528e-09,\n",
       " 'c_mat22': -3.65572338605756e-08,\n",
       " 'gamma_c': 1.0}"
      ]
     },
     "execution_count": 5,
     "metadata": {},
     "output_type": "execute_result"
    }
   ],
   "source": [
    "#Prevent recalculation until changes are made\n",
    "tao.cmd(\"set global lattice_calc_on = F\")\n",
    "\n",
    "setQuadkG(tao, \"Q5FF\", Q5FFkG2)\n",
    "setQuadkG(tao, \"Q4FF\", Q4FFkG2)\n",
    "setQuadkG(tao, \"Q3FF\", Q3FFkG2)\n",
    "setQuadkG(tao, \"Q2FF\", Q2FFkG2)\n",
    "setQuadkG(tao, \"Q1FF\", Q1FFkG2)\n",
    "setQuadkG(tao, \"Q0FF\", Q0FFkG2)\n",
    "\n",
    "#Reenable lattice calculations\n",
    "tao.cmd(\"set global lattice_calc_on = T\")\n",
    "\n",
    "\n",
    "PENTCentroidX2 = tao.ele_orbit(\"PENT\")['x']\n",
    "PENTCentroidY2 = tao.ele_orbit(\"PENT\")['y']\n",
    "\n",
    "\n",
    "tao.twiss_at_s(ele = \"PENT\", s_offset = 0.5)"
   ]
  },
  {
   "cell_type": "code",
   "execution_count": 6,
   "id": "4a1b4e74-b449-4fc1-96a0-824ce42c3a7c",
   "metadata": {},
   "outputs": [
    {
     "name": "stdout",
     "output_type": "stream",
     "text": [
      "-584.2617659866099\n",
      "-4.602857049640931\n",
      "-575.520529892941\n",
      "33.736257981304604\n"
     ]
    },
    {
     "data": {
      "text/plain": [
       "39.32298246320254"
      ]
     },
     "execution_count": 6,
     "metadata": {},
     "output_type": "execute_result"
    }
   ],
   "source": [
    "print(1e6 * PENTCentroidX1)\n",
    "print(1e6 * PENTCentroidY1)\n",
    "print(1e6 * PENTCentroidX2)\n",
    "print(1e6 * PENTCentroidY2)\n",
    "1e6 * np.sqrt( ( PENTCentroidX1 - PENTCentroidX2 ) ** 2 + ( PENTCentroidY1 - PENTCentroidY2 ) ** 2 )"
   ]
  },
  {
   "cell_type": "code",
   "execution_count": null,
   "id": "dac94d9b-5657-44d0-a91e-9ae32d29ebad",
   "metadata": {},
   "outputs": [],
   "source": []
  }
 ],
 "metadata": {
  "kernelspec": {
   "display_name": "Python 3 (ipykernel)",
   "language": "python",
   "name": "python3"
  },
  "language_info": {
   "codemirror_mode": {
    "name": "ipython",
    "version": 3
   },
   "file_extension": ".py",
   "mimetype": "text/x-python",
   "name": "python",
   "nbconvert_exporter": "python",
   "pygments_lexer": "ipython3",
   "version": "3.11.8"
  }
 },
 "nbformat": 4,
 "nbformat_minor": 5
}
