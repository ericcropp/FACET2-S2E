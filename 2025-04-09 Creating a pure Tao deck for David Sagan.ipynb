{
 "cells": [
  {
   "cell_type": "code",
   "execution_count": 1,
   "id": "99e1db7d-f7e1-4f6d-94a2-4c0b8a07fb3d",
   "metadata": {},
   "outputs": [],
   "source": [
    "from UTILITY_quickstart import *\n",
    "\n",
    "importedDefaultSettings = loadConfig(\"setLattice_configs/2024-10-14_twoBunch_baseline.yml\")"
   ]
  },
  {
   "cell_type": "code",
   "execution_count": 2,
   "id": "289bbee8-7ee5-4972-9110-2c7b5b89a960",
   "metadata": {},
   "outputs": [
    {
     "name": "stdout",
     "output_type": "stream",
     "text": [
      "Environment set to:  /Users/nmajik/Documents/SLAC/FACET2-Bmad-PyTao\n",
      "Tracking to end\n",
      "CSR off\n",
      "Overwriting lattice with setLattice() defaults\n",
      "No defaults file provided to setLattice(). Using setLattice_configs/defaults.yml\n",
      "Number of macro particles = 10000.0\n",
      "Beam created, written to /Users/nmajik/Documents/SLAC/FACET2-Bmad-PyTao/beams/activeBeamFile.h5, and reinit to tao\n",
      "Loaded /Users/nmajik/Documents/SLAC/FACET2-Bmad-PyTao/beams/activeBeamFile.h5\n",
      "Set track_start = L0AFEND, track_end = end\n",
      "Tracking!\n",
      "trackBeam() exiting\n"
     ]
    }
   ],
   "source": [
    "\n",
    "\n",
    "tao = initializeTao(\n",
    "    inputBeamFilePathSuffix = importedDefaultSettings[\"inputBeamFilePathSuffix\"],\n",
    "    \n",
    "    csrTF = False,\n",
    "    numMacroParticles=1e4,\n",
    ")\n",
    "\n",
    "setLattice(tao, **importedDefaultSettings)\n",
    "\n",
    "trackBeam(tao, **importedDefaultSettings, verbose = True)\n",
    "\n"
   ]
  },
  {
   "cell_type": "code",
   "execution_count": 3,
   "id": "0f59c97e-4310-4cc8-ac2f-31c27a0daafb",
   "metadata": {},
   "outputs": [
    {
     "data": {
      "text/plain": [
       "['[INFO] tao_write_cmd:', '    Written: 2025-04-09_lat.bmad']"
      ]
     },
     "execution_count": 3,
     "metadata": {},
     "output_type": "execute_result"
    }
   ],
   "source": [
    "tao.cmd(\"write bmad 2025-04-09_lat.bmad\")"
   ]
  },
  {
   "cell_type": "code",
   "execution_count": null,
   "id": "04466be2-e611-475b-910b-8ca9d1074abd",
   "metadata": {},
   "outputs": [],
   "source": [
    "tao=Tao('-init {:s}/bmad/models/f2_elec/tao.init -noplot'.format(environ['FACET2_LATTICE'])) \n",
    "tao.cmd(\"set beam add_saved_at = DTOTR, XTCAVF, M2EX, PR10571, PR10711, CN2069\")\n",
    "\n",
    "tao.cmd(f'set beam_init track_end = end')\n",
    "\n",
    "tao.cmd(f'call {filePath}/bmad/models/f2_elec/scripts/Activate_CSR.tao')\n",
    "tao.cmd('csroff')\n",
    "\n",
    "tao.cmd(f'set beam_init position_file={activeFilePath}')\n",
    "tao.cmd('reinit beam')\n",
    "\n",
    "tao.cmd('set global track_type = beam')"
   ]
  }
 ],
 "metadata": {
  "kernelspec": {
   "display_name": "Python 3 (ipykernel)",
   "language": "python",
   "name": "python3"
  },
  "language_info": {
   "codemirror_mode": {
    "name": "ipython",
    "version": 3
   },
   "file_extension": ".py",
   "mimetype": "text/x-python",
   "name": "python",
   "nbconvert_exporter": "python",
   "pygments_lexer": "ipython3",
   "version": "3.11.11"
  }
 },
 "nbformat": 4,
 "nbformat_minor": 5
}
