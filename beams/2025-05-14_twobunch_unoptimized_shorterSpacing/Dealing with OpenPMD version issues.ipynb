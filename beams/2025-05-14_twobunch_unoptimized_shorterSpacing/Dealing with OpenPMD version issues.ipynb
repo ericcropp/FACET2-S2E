{
 "cells": [
  {
   "cell_type": "code",
   "execution_count": 1,
   "id": "938d8be5-b8f3-4a03-99ed-6d98cf6b8c0d",
   "metadata": {},
   "outputs": [],
   "source": [
    "#See https://chatgpt.com/share/6824cbf6-94ac-800b-8b26-ca9bbbbc345c\n",
    "\n",
    "import h5py\n",
    "from pmd_beamphysics import ParticleGroup\n",
    "\n",
    "with h5py.File('./INCOMPATIBLEVERSION_2025-05-14_twobunch_unoptimized_shorterSpacing.h5', 'r') as f:\n",
    "    P = ParticleGroup(f['particles/electron'])"
   ]
  },
  {
   "cell_type": "code",
   "execution_count": 2,
   "id": "7ec931ef-725f-4e7e-8678-a53dfc42a3fd",
   "metadata": {},
   "outputs": [],
   "source": [
    "P.write(\"2025-05-14_twobunch_unoptimized_shorterSpacing.h5\")"
   ]
  },
  {
   "cell_type": "code",
   "execution_count": null,
   "id": "1e5f255f-9fb0-48f5-8589-c47cba6b85ef",
   "metadata": {},
   "outputs": [],
   "source": []
  }
 ],
 "metadata": {
  "kernelspec": {
   "display_name": "Python 3 (ipykernel)",
   "language": "python",
   "name": "python3"
  },
  "language_info": {
   "codemirror_mode": {
    "name": "ipython",
    "version": 3
   },
   "file_extension": ".py",
   "mimetype": "text/x-python",
   "name": "python",
   "nbconvert_exporter": "python",
   "pygments_lexer": "ipython3",
   "version": "3.11.11"
  }
 },
 "nbformat": 4,
 "nbformat_minor": 5
}
