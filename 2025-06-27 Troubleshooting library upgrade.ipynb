{
 "cells": [
  {
   "cell_type": "code",
   "execution_count": 1,
   "id": "1469783b-0200-4b3e-af15-952584d96a16",
   "metadata": {},
   "outputs": [
    {
     "name": "stdout",
     "output_type": "stream",
     "text": [
      "0.5.3\n",
      "0.10.1\n"
     ]
    }
   ],
   "source": [
    "import pytao\n",
    "print(pytao.__version__)\n",
    "\n",
    "import pmd_beamphysics\n",
    "print(pmd_beamphysics.__version__)"
   ]
  },
  {
   "cell_type": "code",
   "execution_count": 2,
   "id": "8cf8c5b5-b9f5-4f52-8268-c7500cf167a0",
   "metadata": {},
   "outputs": [],
   "source": [
    "#Import all the UTILITY functions\n",
    "from UTILITY_quickstart import *"
   ]
  },
  {
   "cell_type": "code",
   "execution_count": null,
   "id": "72b907ca-3d0a-4e73-9476-077179b5dd46",
   "metadata": {},
   "outputs": [
    {
     "name": "stdout",
     "output_type": "stream",
     "text": [
      "Environment set to:  /Users/nmajik/Documents/SLAC/FACET2-S2E\n",
      "CSR off\n",
      "Overwriting lattice with setLattice() defaults\n",
      "No defaults file provided to setLattice(). Using /Users/nmajik/Documents/SLAC/FACET2-S2E/setLattice_configs/defaults.yml\n",
      "Running Impact\n",
      "\t Impact: Autophasing\n",
      "\t Impact: Distgen\n",
      "\t Impact: Tracking\n",
      "Running Impact-T in /Users/nmajik/Documents/SLAC/FACET2-S2E/impact/tmp3nlhtrz_\n",
      "/opt/homebrew/anaconda3/envs/bmad2025-06-27/bin/ImpactTexe\n",
      "writing 10000 particles to /Users/nmajik/Documents/SLAC/FACET2-S2E/impact/tmp3nlhtrz_/partcl.data\n",
      "Cathode start with cathode_kinetic_energy_ref = 1.0 eV\n",
      "Cathode start: Replaced Np with 10000 according to initial particles\n",
      "Cathode start: Replaced Bkenergy with 1.0 according to initial particles\n",
      "Cathode start: Replaced Temission with 6.97502773839391e-12 according to initial particles\n",
      "Cathode start: Replaced Tini with -3.4942219079267073e-12 according to initial particles\n",
      "Setting total charge to 1.8e-09 C\n",
      " !-----------------------------------------------------------\n",
      " ! IMPACT-T Parallel Beam Dynamics Tracking Code: V3.0\n",
      " ! Copyright of The Regents of the University of California\n",
      " !-----------------------------------------------------------\n",
      " nblem:           28          28\n",
      " pass setting up lattice...\n",
      " check randomness:            0  0.30440529327431320     \n",
      " avgpts, jlow, and jhigh:        10000           1       10000\n",
      " sumx1,sumy1:   -4.5672946932732739E-004   3.0148945298505132E-004\n",
      " pass generating initial distribution...\n",
      " tstop:    4.2000000000000002     \n",
      " i,t,<z>:            1  -3.4942219079267073E-012   0.0000000000000000     \n",
      " zmin,zmax:   -4.1368616623155996E-006  -1.0164395367051603E-020\n",
      " i,t,<z>:            2  -3.4767843385807225E-012  -2.0724093426836658E-006\n",
      " zmin,zmax:   0.24068043393214372       0.24287875799611916, elapsed: 25.0072150230407765908813477893553"
     ]
    }
   ],
   "source": [
    "#Import all the UTILITY functions\n",
    "from UTILITY_quickstart import *\n",
    "\n",
    "#Load a default configuration\n",
    "importedDefaultSettings = loadConfig(\"setLattice_configs/2024-10-22_oneBunch_baseline.yml\")\n",
    "#importedDefaultSettings = importedDefaultSettings | { \"centerBC14\" : False, \"centerBEGBC20\" : False}\n",
    "\n",
    "\n",
    "\n",
    "#Initialize tao object\n",
    "tao = initializeTao(\n",
    "    csrTF = False,\n",
    "\n",
    "    #Commands to start and run IMPACT. Overwriting some default settings, just to demonstrate\n",
    "    runImpactTF = True,\n",
    "    numMacroParticles = 1e4,\n",
    "    impactChargepC = 1800,\n",
    "    impactGridCount = 8\n",
    ")\n",
    "\n",
    "# tao = initializeTao(\n",
    "#     csrTF = False,\n",
    "    \n",
    "# )"
   ]
  },
  {
   "cell_type": "code",
   "execution_count": null,
   "id": "c92d0f45-0b0a-416e-b8e2-311a08e4eecb",
   "metadata": {},
   "outputs": [],
   "source": [
    "trackBeam(tao, trackEnd = \"L0BFEND\", **importedDefaultSettings)\n",
    "(getBeamAtElement(tao, \"L0AFEND\")).charge"
   ]
  },
  {
   "cell_type": "code",
   "execution_count": null,
   "id": "c699c717-3e73-4684-affa-326aaef05b8c",
   "metadata": {},
   "outputs": [],
   "source": [
    "# allAssertedPhases = []\n",
    "# meanEnergy = []\n",
    "# evalElement = \"L0BFEND\"\n",
    "\n",
    "# for assertedPhaseDeg in np.arange(-30, 30, 2):\n",
    "#     tao.cmd(f\"set ele L0BF PHI0 = {assertedPhaseDeg/360}\")\n",
    "    \n",
    "#     trackBeam(tao, trackEnd = evalElement, **importedDefaultSettings)\n",
    "\n",
    "#     P = getBeamAtElement(tao, evalElement)\n",
    "\n",
    "#     allAssertedPhases.append(assertedPhaseDeg)\n",
    "#     meanEnergy.append( P[\"mean_energy\"] ) \n",
    "\n",
    "# plt.scatter( allAssertedPhases, meanEnergy )\n",
    "\n",
    "# #Back to nominal\n",
    "# tao.cmd(f\"set ele L0BF PHI0 = {-15.0/360}\")"
   ]
  },
  {
   "cell_type": "code",
   "execution_count": null,
   "id": "9d6958ed-0c21-4c4b-8c9d-964bb93a2fd9",
   "metadata": {},
   "outputs": [],
   "source": [
    "# allAssertedPhases = []\n",
    "# meanEnergy = []\n",
    "\n",
    "# evalElement = \"ENDL1F\"\n",
    "\n",
    "# for assertedPhaseDeg in np.arange(-30, 30, 3):\n",
    "#     setLinacPhase(tao, \"L1\", assertedPhaseDeg)\n",
    "    \n",
    "#     trackBeam(tao, trackEnd = evalElement, **importedDefaultSettings)\n",
    "\n",
    "#     P = getBeamAtElement(tao, evalElement)\n",
    "\n",
    "#     allAssertedPhases.append(assertedPhaseDeg)\n",
    "#     meanEnergy.append( P[\"mean_energy\"] ) \n",
    "\n",
    "# plt.scatter( allAssertedPhases, meanEnergy )\n",
    "\n",
    "# #Back to nominal\n",
    "# setLinacPhase(tao, \"L1\", -20)"
   ]
  },
  {
   "cell_type": "code",
   "execution_count": null,
   "id": "28694fa5-af6e-45c6-b11b-beeaee92c63a",
   "metadata": {},
   "outputs": [],
   "source": [
    "# allAssertedPhases = []\n",
    "# meanEnergy = []\n",
    "\n",
    "# evalElement = \"ENDL2F\"\n",
    "\n",
    "# for assertedPhaseDeg in np.arange(-30, 30, 3):\n",
    "#     setLinacPhase(tao, \"L2\", assertedPhaseDeg)\n",
    "    \n",
    "#     trackBeam(tao, trackEnd = evalElement, **importedDefaultSettings)\n",
    "\n",
    "#     P = getBeamAtElement(tao, evalElement)\n",
    "\n",
    "#     allAssertedPhases.append(assertedPhaseDeg)\n",
    "#     meanEnergy.append( P[\"mean_energy\"] ) \n",
    "\n",
    "# plt.scatter( allAssertedPhases, meanEnergy )\n",
    "\n",
    "# #Back to nominal\n",
    "# setLinacPhase(tao, \"L2\", -38)"
   ]
  },
  {
   "cell_type": "code",
   "execution_count": null,
   "id": "43242537-7dd6-4790-9ea2-1155f5f1d475",
   "metadata": {},
   "outputs": [],
   "source": [
    "# allAssertedPhases = []\n",
    "# meanEnergy = []\n",
    "\n",
    "# evalElement = \"BEGBC20\"\n",
    "\n",
    "# for assertedPhaseDeg in np.arange(-30, 30, 3):\n",
    "#     setLinacPhase(tao, \"L3\", assertedPhaseDeg)\n",
    "    \n",
    "#     trackBeam(tao, trackEnd = evalElement, **importedDefaultSettings)\n",
    "\n",
    "#     P = getBeamAtElement(tao, evalElement)\n",
    "\n",
    "#     allAssertedPhases.append(assertedPhaseDeg)\n",
    "#     meanEnergy.append( P[\"mean_energy\"] ) \n",
    "\n",
    "# plt.scatter( allAssertedPhases, meanEnergy )\n",
    "\n",
    "# #Back to nominal\n",
    "# setLinacPhase(tao, \"L3\", 0.0)"
   ]
  },
  {
   "cell_type": "code",
   "execution_count": null,
   "id": "f96bddfd-ce1b-44ff-931d-d0c99d28bee5",
   "metadata": {},
   "outputs": [],
   "source": [
    "evalElement = \"ENDL2F\"\n",
    "\n",
    "\n",
    "\n",
    "trackBeam(tao, trackEnd = evalElement, verbose = True, **importedDefaultSettings)\n",
    "\n",
    "P = getBeamAtElement(tao, evalElement)"
   ]
  },
  {
   "cell_type": "code",
   "execution_count": null,
   "id": "8ac8c4d9-efae-44d8-bf9a-ac71e388191b",
   "metadata": {},
   "outputs": [],
   "source": [
    "evalElement = \"BEGBC20\"\n",
    "\n",
    "\n",
    "\n",
    "trackBeam(tao, trackEnd = evalElement, verbose = True, **importedDefaultSettings)\n",
    "\n",
    "P = getBeamAtElement(tao, evalElement)"
   ]
  },
  {
   "cell_type": "code",
   "execution_count": null,
   "id": "892c1ba0-4b91-4a45-8cbf-dc647077373c",
   "metadata": {},
   "outputs": [],
   "source": [
    "P = getBeamAtElement(tao, \"BEGBC20\")\n",
    "\n",
    "display(plotMod(P, 'z', 'pz', bins=300))"
   ]
  },
  {
   "cell_type": "code",
   "execution_count": null,
   "id": "09db8fd5-2bb3-41e4-9b7b-d9ad94bb6e53",
   "metadata": {},
   "outputs": [],
   "source": [
    "tao.cmd(\"show lat MARKER::*\")"
   ]
  },
  {
   "cell_type": "code",
   "execution_count": null,
   "id": "c408398a-91cf-4d2f-9d24-46c874102260",
   "metadata": {},
   "outputs": [],
   "source": [
    "tao.cmd(\"show ele BEGBC20 -all\")"
   ]
  },
  {
   "cell_type": "code",
   "execution_count": null,
   "id": "9e771407-a83b-4393-9030-9f36819b0422",
   "metadata": {},
   "outputs": [],
   "source": []
  },
  {
   "cell_type": "code",
   "execution_count": null,
   "id": "66e1b14c-93d2-4b59-b0ce-c72c13b1a7d3",
   "metadata": {},
   "outputs": [],
   "source": []
  },
  {
   "cell_type": "code",
   "execution_count": null,
   "id": "8a309442-f231-49a8-9292-4cf2511c142b",
   "metadata": {},
   "outputs": [],
   "source": []
  }
 ],
 "metadata": {
  "kernelspec": {
   "display_name": "Python 3 (ipykernel)",
   "language": "python",
   "name": "python3"
  },
  "language_info": {
   "codemirror_mode": {
    "name": "ipython",
    "version": 3
   },
   "file_extension": ".py",
   "mimetype": "text/x-python",
   "name": "python",
   "nbconvert_exporter": "python",
   "pygments_lexer": "ipython3",
   "version": "3.13.5"
  }
 },
 "nbformat": 4,
 "nbformat_minor": 5
}
