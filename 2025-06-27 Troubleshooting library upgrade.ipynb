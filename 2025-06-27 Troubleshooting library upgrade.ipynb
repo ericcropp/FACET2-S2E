{
 "cells": [
  {
   "cell_type": "code",
   "execution_count": 1,
   "id": "1469783b-0200-4b3e-af15-952584d96a16",
   "metadata": {},
   "outputs": [
    {
     "name": "stdout",
     "output_type": "stream",
     "text": [
      "0.5.3\n",
      "0.10.1\n"
     ]
    }
   ],
   "source": [
    "import pytao\n",
    "print(pytao.__version__)\n",
    "\n",
    "import pmd_beamphysics\n",
    "print(pmd_beamphysics.__version__)"
   ]
  },
  {
   "cell_type": "code",
   "execution_count": 2,
   "id": "8cf8c5b5-b9f5-4f52-8268-c7500cf167a0",
   "metadata": {},
   "outputs": [],
   "source": [
    "#Import all the UTILITY functions\n",
    "from UTILITY_quickstart import *"
   ]
  },
  {
   "cell_type": "code",
   "execution_count": 3,
   "id": "72b907ca-3d0a-4e73-9476-077179b5dd46",
   "metadata": {},
   "outputs": [
    {
     "name": "stdout",
     "output_type": "stream",
     "text": [
      "Environment set to:  /Users/nmajik/Documents/SLAC/FACET2-S2E\n",
      "Tracking to end\n",
      "CSR off\n",
      "Overwriting lattice with setLattice() defaults\n",
      "No defaults file provided to setLattice(). Using /Users/nmajik/Documents/SLAC/FACET2-S2E/setLattice_configs/defaults.yml\n",
      "Running Impact\n",
      "\t Impact: Autophasing\n",
      "\t Impact: Distgen\n",
      "\t Impact: Tracking\n",
      "Running Impact-T in /Users/nmajik/Documents/SLAC/FACET2-S2E/impact/tmpmg4vu6c5\n",
      "/opt/homebrew/anaconda3/envs/bmad2025-06-27/bin/ImpactTexe\n",
      "writing 10000 particles to /Users/nmajik/Documents/SLAC/FACET2-S2E/impact/tmpmg4vu6c5/partcl.data\n",
      "Cathode start with cathode_kinetic_energy_ref = 1.0 eV\n",
      "Cathode start: Replaced Np with 10000 according to initial particles\n",
      "Cathode start: Replaced Bkenergy with 1.0 according to initial particles\n",
      "Cathode start: Replaced Temission with 6.97502773839391e-12 according to initial particles\n",
      "Cathode start: Replaced Tini with -3.4942219079267073e-12 according to initial particles\n",
      "Setting total charge to 1.8e-09 C\n",
      " !-----------------------------------------------------------\n",
      " ! IMPACT-T Parallel Beam Dynamics Tracking Code: V3.0\n",
      " ! Copyright of The Regents of the University of California\n",
      " !-----------------------------------------------------------\n",
      " nblem:           28          28\n",
      " pass setting up lattice...\n",
      " check randomness:            0  0.30440529327431320     \n",
      " avgpts, jlow, and jhigh:        10000           1       10000\n",
      " sumx1,sumy1:   -4.5672946932732739E-004   3.0148945298505132E-004\n",
      " pass generating initial distribution...\n",
      " tstop:    4.2000000000000002     \n",
      " i,t,<z>:            1  -3.4942219079267073E-012   0.0000000000000000     \n",
      " zmin,zmax:   -4.1368616623155996E-006  -1.0164395367051603E-020\n",
      " i,t,<z>:            2  -3.4767843385807225E-012  -2.0724093426836658E-006\n",
      " time:    0.0000000000000000, elapsed: 46.052385091781616Finished.055, elapsed: 46.006217002868654226837\n",
      "Loaded fort 18 : Time and energy\n",
      "Loaded fort 24 : RMS X information\n",
      "Loaded fort 25 : RMS Y information\n",
      "Loaded fort 26 : RMS Z information\n",
      "Loaded fort 27 : Max amplitude information\n",
      "Loaded fort 28 : Load balance and loss diagnostics\n",
      "Loaded fort 29 : Cube root of third moments of the beam distribution\n",
      "Loaded fort 30 : Fourth root of the fourth moments of the beam distribution\n",
      "Loaded fort 32 : Covariance matrix of the beam distribution\n",
      "Loaded fort 60 : Slice information of the initial distribution\n",
      "Loaded fort 70 : Slice information of the final distribution\n",
      "Loading particles\n",
      "Loaded fort 40 : initial particle distribution at t = 0\n",
      "Loaded fort 50 : final particle distribution projected to the centroid location of the bunch\n",
      "Loaded write beam particles PR10241 fort.102\n",
      "Loaded write beam particles L0AFEND fort.103\n",
      "Converting z to t according to cathode_kinetic_energy_ref = 1.0 eV\n",
      "Converted initial_particles to ParticleGroup\n",
      "Converted final_particles to ParticleGroup\n",
      "Converted PR10241 to ParticleGroup\n",
      "Converted L0AFEND to ParticleGroup\n",
      "Beam created, written to /Users/nmajik/Documents/SLAC/FACET2-S2E/beams/activeBeamFile.h5, and reinit to tao\n"
     ]
    }
   ],
   "source": [
    "#Import all the UTILITY functions\n",
    "from UTILITY_quickstart import *\n",
    "\n",
    "#Load a default configuration\n",
    "importedDefaultSettings = loadConfig(\"setLattice_configs/2024-10-22_oneBunch_baseline.yml\")\n",
    "#importedDefaultSettings = importedDefaultSettings | { \"centerBC14\" : False, \"centerBEGBC20\" : False}\n",
    "\n",
    "\n",
    "\n",
    "#Initialize tao object\n",
    "tao = initializeTao(\n",
    "    csrTF = False,\n",
    "\n",
    "    #Commands to start and run IMPACT. Overwriting some default settings, just to demonstrate\n",
    "    runImpactTF = True,\n",
    "    numMacroParticles = 1e4,\n",
    "    impactChargepC = 1800,\n",
    "    impactGridCount = 8\n",
    ")\n",
    "\n",
    "# tao = initializeTao(\n",
    "#     csrTF = False,\n",
    "    \n",
    "# )"
   ]
  },
  {
   "cell_type": "code",
   "execution_count": 4,
   "id": "c92d0f45-0b0a-416e-b8e2-311a08e4eecb",
   "metadata": {},
   "outputs": [
    {
     "data": {
      "text/plain": [
       "np.float64(1.8e-09)"
      ]
     },
     "execution_count": 4,
     "metadata": {},
     "output_type": "execute_result"
    }
   ],
   "source": [
    "trackBeam(tao, trackEnd = \"L0BFEND\", **importedDefaultSettings)\n",
    "(getBeamAtElement(tao, \"L0AFEND\")).charge"
   ]
  },
  {
   "cell_type": "code",
   "execution_count": 5,
   "id": "c699c717-3e73-4684-affa-326aaef05b8c",
   "metadata": {},
   "outputs": [],
   "source": [
    "# allAssertedPhases = []\n",
    "# meanEnergy = []\n",
    "# evalElement = \"L0BFEND\"\n",
    "\n",
    "# for assertedPhaseDeg in np.arange(-30, 30, 2):\n",
    "#     tao.cmd(f\"set ele L0BF PHI0 = {assertedPhaseDeg/360}\")\n",
    "    \n",
    "#     trackBeam(tao, trackEnd = evalElement, **importedDefaultSettings)\n",
    "\n",
    "#     P = getBeamAtElement(tao, evalElement)\n",
    "\n",
    "#     allAssertedPhases.append(assertedPhaseDeg)\n",
    "#     meanEnergy.append( P[\"mean_energy\"] ) \n",
    "\n",
    "# plt.scatter( allAssertedPhases, meanEnergy )\n",
    "\n",
    "# #Back to nominal\n",
    "# tao.cmd(f\"set ele L0BF PHI0 = {-15.0/360}\")"
   ]
  },
  {
   "cell_type": "code",
   "execution_count": 6,
   "id": "9d6958ed-0c21-4c4b-8c9d-964bb93a2fd9",
   "metadata": {},
   "outputs": [],
   "source": [
    "# allAssertedPhases = []\n",
    "# meanEnergy = []\n",
    "\n",
    "# evalElement = \"ENDL1F\"\n",
    "\n",
    "# for assertedPhaseDeg in np.arange(-30, 30, 3):\n",
    "#     setLinacPhase(tao, \"L1\", assertedPhaseDeg)\n",
    "    \n",
    "#     trackBeam(tao, trackEnd = evalElement, **importedDefaultSettings)\n",
    "\n",
    "#     P = getBeamAtElement(tao, evalElement)\n",
    "\n",
    "#     allAssertedPhases.append(assertedPhaseDeg)\n",
    "#     meanEnergy.append( P[\"mean_energy\"] ) \n",
    "\n",
    "# plt.scatter( allAssertedPhases, meanEnergy )\n",
    "\n",
    "# #Back to nominal\n",
    "# setLinacPhase(tao, \"L1\", -20)"
   ]
  },
  {
   "cell_type": "code",
   "execution_count": 7,
   "id": "28694fa5-af6e-45c6-b11b-beeaee92c63a",
   "metadata": {},
   "outputs": [],
   "source": [
    "# allAssertedPhases = []\n",
    "# meanEnergy = []\n",
    "\n",
    "# evalElement = \"ENDL2F\"\n",
    "\n",
    "# for assertedPhaseDeg in np.arange(-30, 30, 3):\n",
    "#     setLinacPhase(tao, \"L2\", assertedPhaseDeg)\n",
    "    \n",
    "#     trackBeam(tao, trackEnd = evalElement, **importedDefaultSettings)\n",
    "\n",
    "#     P = getBeamAtElement(tao, evalElement)\n",
    "\n",
    "#     allAssertedPhases.append(assertedPhaseDeg)\n",
    "#     meanEnergy.append( P[\"mean_energy\"] ) \n",
    "\n",
    "# plt.scatter( allAssertedPhases, meanEnergy )\n",
    "\n",
    "# #Back to nominal\n",
    "# setLinacPhase(tao, \"L2\", -38)"
   ]
  },
  {
   "cell_type": "code",
   "execution_count": 8,
   "id": "43242537-7dd6-4790-9ea2-1155f5f1d475",
   "metadata": {},
   "outputs": [],
   "source": [
    "# allAssertedPhases = []\n",
    "# meanEnergy = []\n",
    "\n",
    "# evalElement = \"BEGBC20\"\n",
    "\n",
    "# for assertedPhaseDeg in np.arange(-30, 30, 3):\n",
    "#     setLinacPhase(tao, \"L3\", assertedPhaseDeg)\n",
    "    \n",
    "#     trackBeam(tao, trackEnd = evalElement, **importedDefaultSettings)\n",
    "\n",
    "#     P = getBeamAtElement(tao, evalElement)\n",
    "\n",
    "#     allAssertedPhases.append(assertedPhaseDeg)\n",
    "#     meanEnergy.append( P[\"mean_energy\"] ) \n",
    "\n",
    "# plt.scatter( allAssertedPhases, meanEnergy )\n",
    "\n",
    "# #Back to nominal\n",
    "# setLinacPhase(tao, \"L3\", 0.0)"
   ]
  },
  {
   "cell_type": "code",
   "execution_count": 9,
   "id": "f96bddfd-ce1b-44ff-931d-d0c99d28bee5",
   "metadata": {},
   "outputs": [
    {
     "name": "stdout",
     "output_type": "stream",
     "text": [
      "Loaded /Users/nmajik/Documents/SLAC/FACET2-S2E/beams/activeBeamFile.h5\n",
      "Set track_start = L0AFEND, track_end = ENDL2F\n",
      "Tracking!\n",
      "trackBeam() exiting\n"
     ]
    }
   ],
   "source": [
    "evalElement = \"ENDL2F\"\n",
    "\n",
    "\n",
    "\n",
    "trackBeam(tao, trackEnd = evalElement, verbose = True, **importedDefaultSettings)\n",
    "\n",
    "P = getBeamAtElement(tao, evalElement)"
   ]
  },
  {
   "cell_type": "code",
   "execution_count": 10,
   "id": "8ac8c4d9-efae-44d8-bf9a-ac71e388191b",
   "metadata": {},
   "outputs": [
    {
     "name": "stdout",
     "output_type": "stream",
     "text": [
      "Loaded /Users/nmajik/Documents/SLAC/FACET2-S2E/beams/activeBeamFile.h5\n",
      "Set track_start = L0AFEND, track_end = BEGBC20\n",
      "Set track_end = BEGBC14_1\n",
      "Tracking!\n"
     ]
    },
    {
     "ename": "KeyError",
     "evalue": "\"Unable to synchronously open object (object 'time' doesn't exist)\"",
     "output_type": "error",
     "traceback": [
      "\u001b[31m---------------------------------------------------------------------------\u001b[39m",
      "\u001b[31mKeyError\u001b[39m                                  Traceback (most recent call last)",
      "\u001b[36mCell\u001b[39m\u001b[36m \u001b[39m\u001b[32mIn[10]\u001b[39m\u001b[32m, line 5\u001b[39m\n\u001b[32m      1\u001b[39m evalElement = \u001b[33m\"\u001b[39m\u001b[33mBEGBC20\u001b[39m\u001b[33m\"\u001b[39m\n\u001b[32m----> \u001b[39m\u001b[32m5\u001b[39m \u001b[43mtrackBeam\u001b[49m\u001b[43m(\u001b[49m\u001b[43mtao\u001b[49m\u001b[43m,\u001b[49m\u001b[43m \u001b[49m\u001b[43mtrackEnd\u001b[49m\u001b[43m \u001b[49m\u001b[43m=\u001b[49m\u001b[43m \u001b[49m\u001b[43mevalElement\u001b[49m\u001b[43m,\u001b[49m\u001b[43m \u001b[49m\u001b[43mverbose\u001b[49m\u001b[43m \u001b[49m\u001b[43m=\u001b[49m\u001b[43m \u001b[49m\u001b[38;5;28;43;01mTrue\u001b[39;49;00m\u001b[43m,\u001b[49m\u001b[43m \u001b[49m\u001b[43m*\u001b[49m\u001b[43m*\u001b[49m\u001b[43mimportedDefaultSettings\u001b[49m\u001b[43m)\u001b[49m\n\u001b[32m      7\u001b[39m P = getBeamAtElement(tao, evalElement)\n",
      "\u001b[36mFile \u001b[39m\u001b[32m~/Documents/SLAC/FACET2-S2E/UTILITY_quickstart.py:323\u001b[39m, in \u001b[36mtrackBeam\u001b[39m\u001b[34m(tao, trackStart, trackEnd, laserHeater, centerDL10, centerBC14, assertBC14Energy, centerBC20, assertBC20Energy, allCollimatorRules, centerMFFF, verbose, **kwargs)\u001b[39m\n\u001b[32m    320\u001b[39m \u001b[38;5;28;01melse\u001b[39;00m:\n\u001b[32m    321\u001b[39m     PMod = centerBeam(P)\n\u001b[32m--> \u001b[39m\u001b[32m323\u001b[39m \u001b[43mwriteBeam\u001b[49m\u001b[43m(\u001b[49m\u001b[43mPMod\u001b[49m\u001b[43m,\u001b[49m\u001b[43m \u001b[49m\u001b[43mtao\u001b[49m\u001b[43m.\u001b[49m\u001b[43mpatchFilePath\u001b[49m\u001b[43m)\u001b[49m\n\u001b[32m    324\u001b[39m \u001b[38;5;28;01mif\u001b[39;00m verbose: \u001b[38;5;28mprint\u001b[39m(\u001b[33mf\u001b[39m\u001b[33m\"\u001b[39m\u001b[33mBeam centered at BEGBC14 written to \u001b[39m\u001b[38;5;132;01m{\u001b[39;00mtao.patchFilePath\u001b[38;5;132;01m}\u001b[39;00m\u001b[33m\"\u001b[39m)\n\u001b[32m    326\u001b[39m tao.cmd(\u001b[33mf\u001b[39m\u001b[33m'\u001b[39m\u001b[33mset beam_init position_file=\u001b[39m\u001b[38;5;132;01m{\u001b[39;00mtao.patchFilePath\u001b[38;5;132;01m}\u001b[39;00m\u001b[33m'\u001b[39m)\n",
      "\u001b[36mFile \u001b[39m\u001b[32m~/Documents/SLAC/FACET2-S2E/UTILITY_quickstart.py:509\u001b[39m, in \u001b[36mwriteBeam\u001b[39m\u001b[34m(P, fileName)\u001b[39m\n\u001b[32m    506\u001b[39m \u001b[38;5;250m\u001b[39m\u001b[33;03m\"\"\" Writes the beam as an h5 with E. Cropp's timeOffset fix \"\"\"\u001b[39;00m\n\u001b[32m    507\u001b[39m P.write(fileName)\n\u001b[32m--> \u001b[39m\u001b[32m509\u001b[39m \u001b[43mOpenPMD_to_Bmad\u001b[49m\u001b[43m(\u001b[49m\u001b[43mfileName\u001b[49m\u001b[43m)\u001b[49m\n",
      "\u001b[36mFile \u001b[39m\u001b[32m~/Documents/SLAC/FACET2-S2E/UTILITY_OpenPMDtoBmad.py:143\u001b[39m, in \u001b[36mOpenPMD_to_Bmad\u001b[39m\u001b[34m(filename, tOffset)\u001b[39m\n\u001b[32m    141\u001b[39m \u001b[38;5;28;01mif\u001b[39;00m tOffset \u001b[38;5;129;01mis\u001b[39;00m \u001b[38;5;28;01mNone\u001b[39;00m:\n\u001b[32m    142\u001b[39m     weights=data[\u001b[33m'\u001b[39m\u001b[33mweight\u001b[39m\u001b[33m'\u001b[39m]\n\u001b[32m--> \u001b[39m\u001b[32m143\u001b[39m     tref=np.average(np.array(\u001b[43mf\u001b[49m\u001b[43m[\u001b[49m\u001b[43mpp\u001b[49m\u001b[43m[\u001b[49m\u001b[32;43m0\u001b[39;49m\u001b[43m]\u001b[49m\u001b[43m]\u001b[49m\u001b[43m[\u001b[49m\u001b[33;43m'\u001b[39;49m\u001b[33;43mtime\u001b[39;49m\u001b[33;43m'\u001b[39;49m\u001b[43m]\u001b[49m)[idx],weights=weights[idx])\n\u001b[32m    145\u001b[39m \u001b[38;5;66;03m#Otherwise just use that\u001b[39;00m\n\u001b[32m    146\u001b[39m \u001b[38;5;28;01melse\u001b[39;00m:\n\u001b[32m    147\u001b[39m     tref=tOffset\n",
      "\u001b[36mFile \u001b[39m\u001b[32mh5py/_objects.pyx:56\u001b[39m, in \u001b[36mh5py._objects.with_phil.wrapper\u001b[39m\u001b[34m()\u001b[39m\n",
      "\u001b[36mFile \u001b[39m\u001b[32mh5py/_objects.pyx:57\u001b[39m, in \u001b[36mh5py._objects.with_phil.wrapper\u001b[39m\u001b[34m()\u001b[39m\n",
      "\u001b[36mFile \u001b[39m\u001b[32m/opt/homebrew/anaconda3/envs/bmad2025-06-27/lib/python3.13/site-packages/h5py/_hl/group.py:360\u001b[39m, in \u001b[36mGroup.__getitem__\u001b[39m\u001b[34m(self, name)\u001b[39m\n\u001b[32m    358\u001b[39m         \u001b[38;5;28;01mraise\u001b[39;00m \u001b[38;5;167;01mValueError\u001b[39;00m(\u001b[33m\"\u001b[39m\u001b[33mInvalid HDF5 object reference\u001b[39m\u001b[33m\"\u001b[39m)\n\u001b[32m    359\u001b[39m \u001b[38;5;28;01melif\u001b[39;00m \u001b[38;5;28misinstance\u001b[39m(name, (\u001b[38;5;28mbytes\u001b[39m, \u001b[38;5;28mstr\u001b[39m)):\n\u001b[32m--> \u001b[39m\u001b[32m360\u001b[39m     oid = \u001b[43mh5o\u001b[49m\u001b[43m.\u001b[49m\u001b[43mopen\u001b[49m\u001b[43m(\u001b[49m\u001b[38;5;28;43mself\u001b[39;49m\u001b[43m.\u001b[49m\u001b[43mid\u001b[49m\u001b[43m,\u001b[49m\u001b[43m \u001b[49m\u001b[38;5;28;43mself\u001b[39;49m\u001b[43m.\u001b[49m\u001b[43m_e\u001b[49m\u001b[43m(\u001b[49m\u001b[43mname\u001b[49m\u001b[43m)\u001b[49m\u001b[43m,\u001b[49m\u001b[43m \u001b[49m\u001b[43mlapl\u001b[49m\u001b[43m=\u001b[49m\u001b[38;5;28;43mself\u001b[39;49m\u001b[43m.\u001b[49m\u001b[43m_lapl\u001b[49m\u001b[43m)\u001b[49m\n\u001b[32m    361\u001b[39m \u001b[38;5;28;01melse\u001b[39;00m:\n\u001b[32m    362\u001b[39m     \u001b[38;5;28;01mraise\u001b[39;00m \u001b[38;5;167;01mTypeError\u001b[39;00m(\u001b[33m\"\u001b[39m\u001b[33mAccessing a group is done with bytes or str, \u001b[39m\u001b[33m\"\u001b[39m\n\u001b[32m    363\u001b[39m                     \u001b[33m\"\u001b[39m\u001b[33mnot \u001b[39m\u001b[38;5;132;01m{}\u001b[39;00m\u001b[33m\"\u001b[39m.format(\u001b[38;5;28mtype\u001b[39m(name)))\n",
      "\u001b[36mFile \u001b[39m\u001b[32mh5py/_objects.pyx:56\u001b[39m, in \u001b[36mh5py._objects.with_phil.wrapper\u001b[39m\u001b[34m()\u001b[39m\n",
      "\u001b[36mFile \u001b[39m\u001b[32mh5py/_objects.pyx:57\u001b[39m, in \u001b[36mh5py._objects.with_phil.wrapper\u001b[39m\u001b[34m()\u001b[39m\n",
      "\u001b[36mFile \u001b[39m\u001b[32mh5py/h5o.pyx:257\u001b[39m, in \u001b[36mh5py.h5o.open\u001b[39m\u001b[34m()\u001b[39m\n",
      "\u001b[31mKeyError\u001b[39m: \"Unable to synchronously open object (object 'time' doesn't exist)\""
     ]
    }
   ],
   "source": [
    "evalElement = \"BEGBC20\"\n",
    "\n",
    "\n",
    "\n",
    "trackBeam(tao, trackEnd = evalElement, verbose = True, **importedDefaultSettings)\n",
    "\n",
    "P = getBeamAtElement(tao, evalElement)"
   ]
  },
  {
   "cell_type": "code",
   "execution_count": null,
   "id": "892c1ba0-4b91-4a45-8cbf-dc647077373c",
   "metadata": {},
   "outputs": [],
   "source": [
    "P = getBeamAtElement(tao, \"BEGBC20\")\n",
    "\n",
    "display(plotMod(P, 'z', 'pz', bins=300))"
   ]
  },
  {
   "cell_type": "code",
   "execution_count": null,
   "id": "09db8fd5-2bb3-41e4-9b7b-d9ad94bb6e53",
   "metadata": {},
   "outputs": [],
   "source": [
    "tao.cmd(\"show lat MARKER::*\")"
   ]
  },
  {
   "cell_type": "code",
   "execution_count": null,
   "id": "c408398a-91cf-4d2f-9d24-46c874102260",
   "metadata": {},
   "outputs": [],
   "source": [
    "tao.cmd(\"show ele BEGBC20 -all\")"
   ]
  },
  {
   "cell_type": "code",
   "execution_count": null,
   "id": "9e771407-a83b-4393-9030-9f36819b0422",
   "metadata": {},
   "outputs": [],
   "source": []
  },
  {
   "cell_type": "code",
   "execution_count": null,
   "id": "66e1b14c-93d2-4b59-b0ce-c72c13b1a7d3",
   "metadata": {},
   "outputs": [],
   "source": []
  },
  {
   "cell_type": "code",
   "execution_count": null,
   "id": "8a309442-f231-49a8-9292-4cf2511c142b",
   "metadata": {},
   "outputs": [],
   "source": []
  }
 ],
 "metadata": {
  "kernelspec": {
   "display_name": "Python 3 (ipykernel)",
   "language": "python",
   "name": "python3"
  },
  "language_info": {
   "codemirror_mode": {
    "name": "ipython",
    "version": 3
   },
   "file_extension": ".py",
   "mimetype": "text/x-python",
   "name": "python",
   "nbconvert_exporter": "python",
   "pygments_lexer": "ipython3",
   "version": "3.13.5"
  }
 },
 "nbformat": 4,
 "nbformat_minor": 5
}
