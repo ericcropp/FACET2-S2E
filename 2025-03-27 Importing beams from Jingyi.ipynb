{
 "cells": [
  {
   "cell_type": "code",
   "execution_count": 1,
   "id": "676ae8e2-330f-4a01-a681-9f56fba4b2bc",
   "metadata": {},
   "outputs": [],
   "source": [
    "# Adapting \"2025-02-13 BC14 and TCAV3 emittance scans.ipynb\" and \"2025-03-11 Importing beams from Jingyi.ipynb\"\n",
    "from UTILITY_quickstart import *\n",
    "\n",
    "importedDefaultSettings = loadConfig(\"setLattice_configs/2024-10-22_oneBunch_baseline.yml\")"
   ]
  },
  {
   "cell_type": "code",
   "execution_count": 2,
   "id": "b21aee92-eb55-4d4a-ac7b-b7779277f7a3",
   "metadata": {},
   "outputs": [
    {
     "name": "stdout",
     "output_type": "stream",
     "text": [
      "Environment set to:  /Users/nmajik/Documents/SLAC/FACET2-Bmad-PyTao\n",
      "Tracking to end\n",
      "CSR on\n",
      "Overwriting lattice with setLattice() defaults\n",
      "No defaults file provided to setLattice(). Using setLattice_configs/defaults.yml\n",
      "Number of macro particles = 100000.0\n",
      "Beam created, written to /tmp/beams/activeBeamFile_6684068036841881749.h5, and reinit to tao\n",
      "No evalElement provided. Assuming golden lattice PR10571\n",
      "Optimization Results:\n",
      "Optimal Parameters: [28.77872199 13.3970811  23.51278494 16.8307956 ]\n",
      "Objective Function Value at Optimal Parameters: 9.505958617749993e-12\n",
      "Number of Iterations: 260\n",
      "Converged: True\n"
     ]
    },
    {
     "data": {
      "text/plain": [
       "[]"
      ]
     },
     "execution_count": 2,
     "metadata": {},
     "output_type": "execute_result"
    }
   ],
   "source": [
    "csrTF = True\n",
    "\n",
    "\n",
    "bunchCount = importedDefaultSettings[\"bunchCount\"]\n",
    "\n",
    "tao = initializeTao(\n",
    "    inputBeamFilePathSuffix = importedDefaultSettings[\"inputBeamFilePathSuffix\"],\n",
    "    \n",
    "    csrTF = csrTF,\n",
    "    numMacroParticles=1e5,\n",
    "    scratchPath = \"/tmp\",\n",
    "    randomizeFileNames = True\n",
    ")\n",
    "\n",
    "setLattice(tao, **importedDefaultSettings)\n",
    "launchTwissCorrection(tao)\n",
    "\n",
    "\n",
    "trackStart = \"ENDBC14E\"\n",
    "trackEnd = \"PR15944\"\n",
    "\n",
    "\n",
    "tao.cmd(f\"set ele TCY15280 VOLTAGE = 20e6\")\n",
    "tao.cmd(f\"set ele TCY15280 PHI0 = {0/360.0}\")"
   ]
  },
  {
   "cell_type": "code",
   "execution_count": 3,
   "id": "a41c3419-ae40-4e76-a2c4-07cb45e9dd04",
   "metadata": {},
   "outputs": [
    {
     "data": {
      "text/plain": [
       "<Figure size 640x480 with 0 Axes>"
      ]
     },
     "metadata": {},
     "output_type": "display_data"
    }
   ],
   "source": [
    "fileSuffixes = [\n",
    "    \"1D_chirp+0_0.h5\",\n",
    "    \"1D_chirp+0_005.h5\",\n",
    "    \"1D_chirp+0_01.h5\",\n",
    "    \"1D_chirp+0_015.h5\",\n",
    "    \"1D_chirp+0_02.h5\",\n",
    "    \"BC14_chirp+0_0.h5\",\n",
    "    \"BC14_chirp+0_005.h5\",\n",
    "    \"BC14_chirp+0_01.h5\",\n",
    "    \"BC14_chirp+0_015.h5\",\n",
    "    \"BC14_chirp+0_02.h5\"\n",
    "]\n",
    "\n",
    "for fileSuffix in fileSuffixes:\n",
    "    PStart = ParticleGroup(f\"/Users/nmajik/Downloads/particles/{fileSuffix}\")\n",
    "\n",
    "    #Figures for starting beam\n",
    "    fig = plotMod(PStart, 'x', 'xp', bins=300, xlim = (-0.0005, 0.0005), ylim = (-100e-6, 50e-6) )\n",
    "    fig.savefig(f\"/Users/nmajik/{fileSuffix}_xxp.png\")\n",
    "    fig = plotMod(PStart, 'delta_t', 'pz', bins=300, xlim = (-200e-15, 200e-15), ylim = (4.3e9, 4.6e9))\n",
    "    fig.savefig(f\"/Users/nmajik/{fileSuffix}_tpz.png\")\n",
    "\n",
    "\n",
    "\n",
    "\n",
    "    #Track. Then plot and dump final beam\n",
    "    \n",
    "    makeBeamActiveBeamFile( PStart, tao = tao )\n",
    "    trackBeam(tao, trackStart = trackStart, trackEnd = trackEnd, **importedDefaultSettings)\n",
    "\n",
    "\n",
    "    P = getBeamAtElement(tao, trackEnd)\n",
    "\n",
    "    fig = plotMod(P, 'x', 'y', bins=300, xlim = (-0.5e-3, 1e-3), ylim = (-1e-3,2e-3))\n",
    "\n",
    "    \n",
    "    fig.savefig(f\"/Users/nmajik/{fileSuffix}_streaked.png\")\n",
    "\n",
    "    P.write(f\"/Users/nmajik/{fileSuffix}_streaked.h5\")\n",
    "\n",
    "    \n",
    "    plt.clf()\n",
    " \n"
   ]
  },
  {
   "cell_type": "code",
   "execution_count": null,
   "id": "75156fd1-1cd2-435a-a6f8-4000364d1eef",
   "metadata": {},
   "outputs": [],
   "source": []
  }
 ],
 "metadata": {
  "kernelspec": {
   "display_name": "Python 3 (ipykernel)",
   "language": "python",
   "name": "python3"
  },
  "language_info": {
   "codemirror_mode": {
    "name": "ipython",
    "version": 3
   },
   "file_extension": ".py",
   "mimetype": "text/x-python",
   "name": "python",
   "nbconvert_exporter": "python",
   "pygments_lexer": "ipython3",
   "version": "3.11.8"
  }
 },
 "nbformat": 4,
 "nbformat_minor": 5
}
