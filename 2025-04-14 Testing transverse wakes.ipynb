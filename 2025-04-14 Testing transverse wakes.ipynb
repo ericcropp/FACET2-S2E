{
 "cells": [
  {
   "cell_type": "code",
   "execution_count": 1,
   "id": "ad55f6d2-fbf5-4808-bee1-d15a04c39d35",
   "metadata": {},
   "outputs": [],
   "source": [
    "from UTILITY_quickstart import *\n",
    "\n",
    "#importedDefaultSettings = loadConfig(\"setLattice_configs/2024-10-22_oneBunch_baseline.yml\")\n",
    "importedDefaultSettings = loadConfig(\"setLattice_configs/2024-10-22_oneBunch_baseline2.yml\")\n",
    "\n",
    "#New DL10 centering\n",
    "#importedDefaultSettings = importedDefaultSettings | {\"centerDL10\" : True}"
   ]
  },
  {
   "cell_type": "code",
   "execution_count": 2,
   "id": "b5fc858d-2a2c-4c16-a368-b1d5e2c60c0f",
   "metadata": {},
   "outputs": [],
   "source": [
    "#Disable centering\n",
    "#importedDefaultSettings = importedDefaultSettings | {\"centerBC14\" : False, \"centerBC20\" : False, \"centerMFFF\" : False}\n",
    "    "
   ]
  },
  {
   "cell_type": "code",
   "execution_count": 3,
   "id": "acb76818-5111-4ca7-aa63-3ac2bea74e86",
   "metadata": {},
   "outputs": [
    {
     "name": "stdout",
     "output_type": "stream",
     "text": [
      "Environment set to:  /Users/nmajik/Documents/SLAC/FACET2-Bmad-PyTao\n",
      "Transverse wakes enabled!\n",
      "Tracking to end\n",
      "CSR off\n",
      "Overwriting lattice with setLattice() defaults\n",
      "No defaults file provided to setLattice(). Using setLattice_configs/defaults.yml\n",
      "Number of macro particles = 10000.0\n",
      "Beam created, written to /tmp/beams/activeBeamFile_13103087150025696937.h5, and reinit to tao\n"
     ]
    }
   ],
   "source": [
    "csrTF = False\n",
    "evalElement = \"BEGBC20\"\n",
    "\n",
    "\n",
    "inputBeamFilePathSuffix = importedDefaultSettings[\"inputBeamFilePathSuffix\"]\n",
    "bunchCount = importedDefaultSettings[\"bunchCount\"]\n",
    "tao = initializeTao(\n",
    "    inputBeamFilePathSuffix = inputBeamFilePathSuffix,\n",
    "    \n",
    "    csrTF = csrTF,\n",
    "    numMacroParticles=1e4,\n",
    "    scratchPath = \"/tmp\",\n",
    "    randomizeFileNames = True, \n",
    "    transverseWakes = True\n",
    ")"
   ]
  },
  {
   "cell_type": "code",
   "execution_count": 4,
   "id": "be6f05c2-9b42-4ce4-a7e5-d4c7c31e30d7",
   "metadata": {},
   "outputs": [
    {
     "name": "stdout",
     "output_type": "stream",
     "text": [
      "Loaded /tmp/beams/activeBeamFile_13103087150025696937.h5\n",
      "Set track_start = L0AFEND, track_end = L0BFEND\n",
      "Tracking!\n",
      "trackBeam() exiting\n"
     ]
    }
   ],
   "source": [
    "trackBeam(tao, trackEnd = \"L0BFEND\", verbose = True)\n",
    "PInit = getBeamAtElement(tao, \"L0AFEND\")\n",
    "\n",
    "artificialFactor = 1.3\n",
    "#artificialFactor = 1.0\n",
    "PInit.x = artificialFactor * PInit.x\n",
    "PInit.px = artificialFactor * PInit.px\n",
    "PInit.y = artificialFactor * PInit.y\n",
    "PInit.py = artificialFactor * PInit.py\n",
    "\n",
    "makeBeamActiveBeamFile(PInit, tao = tao)"
   ]
  },
  {
   "cell_type": "code",
   "execution_count": 5,
   "id": "871041cc-1e75-4c35-b31c-679a3b73749d",
   "metadata": {},
   "outputs": [],
   "source": [
    "setLattice(tao, **importedDefaultSettings)"
   ]
  },
  {
   "cell_type": "code",
   "execution_count": 6,
   "id": "c6363447-2bd7-47b7-a811-e87ac5dd2491",
   "metadata": {},
   "outputs": [
    {
     "name": "stdout",
     "output_type": "stream",
     "text": [
      "Loaded /tmp/beams/activeBeamFile_13103087150025696937.h5\n",
      "Set track_start = L0AFEND, track_end = BEGBC20\n",
      "Set track_end = BEGBC14_1\n",
      "Tracking!\n",
      "Also setting BC14 energy = 4.5 GeV, from 4.413397584988906 GeV\n",
      "Beam centered at BEGBC14 written to /tmp/beams/patchBeamFile_13103087150025696937.h5\n",
      "Loaded /tmp/beams/patchBeamFile_13103087150025696937.h5\n",
      "Set track_start = BEGBC14_1, track_end = BEGBC20\n",
      "Tracking!\n",
      "trackBeam() exiting\n"
     ]
    }
   ],
   "source": [
    "trackBeam(tao, \n",
    "          trackEnd = evalElement,\n",
    "          **importedDefaultSettings,\n",
    "          verbose = True\n",
    "         )"
   ]
  },
  {
   "cell_type": "code",
   "execution_count": 7,
   "id": "abbdcd6d-22dc-44c0-a259-fcd935cd7f60",
   "metadata": {},
   "outputs": [],
   "source": [
    "PInit = getBeamAtElement(tao, \"L0AFEND\")\n",
    "P571 = getBeamAtElement(tao, \"PR10571\")\n",
    "P = getBeamAtElement(tao, evalElement)"
   ]
  },
  {
   "cell_type": "code",
   "execution_count": 8,
   "id": "dfb96a63-cc76-4367-a42b-e0c8d09bb058",
   "metadata": {},
   "outputs": [
    {
     "data": {
      "text/plain": [
       "{'alpha_x': -1.8404432013574172,\n",
       " 'beta_x': 5.236157390029817,\n",
       " 'gamma_x': 0.8378722888995809,\n",
       " 'emit_x': 1.609711134769977e-08,\n",
       " 'eta_x': 0.0026834620559259836,\n",
       " 'etap_x': 0.001742026207239583,\n",
       " 'norm_emit_x': 3.878730571237714e-06}"
      ]
     },
     "execution_count": 8,
     "metadata": {},
     "output_type": "execute_result"
    }
   ],
   "source": [
    "getBeamAtElement(tao, \"PR10571\").twiss(plane = \"x\", fraction = 0.9)"
   ]
  },
  {
   "cell_type": "code",
   "execution_count": 9,
   "id": "9af88e1e-9112-44e4-8901-55c98c56da23",
   "metadata": {},
   "outputs": [
    {
     "data": {
      "text/plain": [
       "{'alpha_x': -0.6661436904589517,\n",
       " 'beta_x': 75.16332795234486,\n",
       " 'gamma_x': 0.01920813587782646,\n",
       " 'emit_x': 9.723052455038962e-10,\n",
       " 'eta_x': 0.0559252172401507,\n",
       " 'etap_x': 0.0007897428024607482,\n",
       " 'norm_emit_x': 8.558852260185886e-06}"
      ]
     },
     "execution_count": 9,
     "metadata": {},
     "output_type": "execute_result"
    }
   ],
   "source": [
    "getBeamAtElement(tao, \"BEGBC14_1\").twiss(fraction = 0.9)"
   ]
  },
  {
   "cell_type": "code",
   "execution_count": 10,
   "id": "ab0f7a1f-9a84-4eac-aa10-a09d1957c649",
   "metadata": {},
   "outputs": [
    {
     "data": {
      "text/plain": [
       "{'alpha_x': 0.29690841931291756,\n",
       " 'beta_x': 6.766329917411065,\n",
       " 'gamma_x': 0.16081902933211473,\n",
       " 'emit_x': 9.652251402447748e-10,\n",
       " 'eta_x': 0.014063437428174149,\n",
       " 'etap_x': -0.0021607784105144,\n",
       " 'norm_emit_x': 8.496718602734463e-06}"
      ]
     },
     "execution_count": 10,
     "metadata": {},
     "output_type": "execute_result"
    }
   ],
   "source": [
    "getBeamAtElement(tao, \"ENDBC14_2\").twiss(fraction = 0.9)"
   ]
  },
  {
   "cell_type": "code",
   "execution_count": 11,
   "id": "6e32fafc-2ef1-4ced-b0c4-1d77217d665d",
   "metadata": {},
   "outputs": [
    {
     "data": {
      "text/plain": [
       "{'alpha_x': 1.5634981209223424,\n",
       " 'beta_x': 13.179893490301367,\n",
       " 'gamma_x': 0.2613470569138062,\n",
       " 'emit_x': 4.913722511197237e-10,\n",
       " 'eta_x': -0.010676710507806692,\n",
       " 'etap_x': 0.0030100054510861993,\n",
       " 'norm_emit_x': 9.538273878392693e-06}"
      ]
     },
     "execution_count": 11,
     "metadata": {},
     "output_type": "execute_result"
    }
   ],
   "source": [
    "getBeamAtElement(tao, \"BEGBC20\").twiss(plane = \"x\", fraction = 0.9)"
   ]
  },
  {
   "cell_type": "code",
   "execution_count": 12,
   "id": "7c75053b-5542-4091-b75f-e4c0f138bbda",
   "metadata": {},
   "outputs": [
    {
     "data": {
      "text/plain": [
       "{'alpha_y': 1.5170519485545741,\n",
       " 'beta_y': 36.04913720364205,\n",
       " 'gamma_y': 0.09158184829676547,\n",
       " 'emit_y': 1.9443639422198054e-10,\n",
       " 'eta_y': 0.00013020327341679665,\n",
       " 'etap_y': -5.4464464130871976e-06,\n",
       " 'norm_emit_y': 3.7767504952757673e-06}"
      ]
     },
     "execution_count": 12,
     "metadata": {},
     "output_type": "execute_result"
    }
   ],
   "source": [
    "getBeamAtElement(tao, \"BEGBC20\").twiss(plane = \"y\", fraction = 0.9)"
   ]
  },
  {
   "cell_type": "code",
   "execution_count": 13,
   "id": "e6af9177-9861-414f-9ae5-9b7d288c62a3",
   "metadata": {},
   "outputs": [
    {
     "data": {
      "image/png": "[encoded data removed]",
      "text/plain": [
       "<Figure size 640x480 with 3 Axes>"
      ]
     },
     "metadata": {},
     "output_type": "display_data"
    },
    {
     "data": {
      "text/plain": [
       "<Figure size 640x480 with 0 Axes>"
      ]
     },
     "metadata": {},
     "output_type": "display_data"
    }
   ],
   "source": [
    "display(plotMod(P571, 'x', 'xp',  bins=300, xlim = (-0.001, 0.001), ylim = (-0.001, 0.001)))\n",
    "plt.clf()"
   ]
  },
  {
   "cell_type": "code",
   "execution_count": 14,
   "id": "cc18ff8e-d8f4-4b01-9fa0-e1de31c07ddf",
   "metadata": {},
   "outputs": [
    {
     "data": {
      "text/plain": [
       "{'PDrive_median_x': 3.9635385883664117e-07,\n",
       " 'PDrive_median_y': -3.187200742724471e-07,\n",
       " 'PDrive_median_xp': 1.832711083512847e-07,\n",
       " 'PDrive_median_yp': -1.706216692801936e-07,\n",
       " 'PDrive_median_energy': 123137324.39793934,\n",
       " 'PDrive_sigmaSI90_x': 0.00037544785284659125,\n",
       " 'PDrive_sigmaSI90_y': 0.0002602000421074464,\n",
       " 'PDrive_sigmaSI90_z': 0.0005717454765937772,\n",
       " 'PDrive_sigmaSI90_xp': 0.00017964467088464343,\n",
       " 'PDrive_sigmaSI90_yp': 8.085507223387308e-05,\n",
       " 'PDrive_sigmaSI90_energy': 105182.52560668257,\n",
       " 'PDrive_emitSI90_x': 7.318882891346698e-06,\n",
       " 'PDrive_emitSI90_y': 5.034718757196451e-06,\n",
       " 'PDrive_norm_emit_x': 3.878730571237714e-06,\n",
       " 'PDrive_norm_emit_y': 2.805723954696407e-06,\n",
       " 'PDrive_charge_nC': 1.6000000000000012,\n",
       " 'PDrive_BMAG_x': 1.007883500518607,\n",
       " 'PDrive_BMAG_y': 1.008534164960233,\n",
       " 'PDrive_sliced_BMAG_x': [2.1569168454267804,\n",
       "  1.1294625022924356,\n",
       "  1.0716530412531622,\n",
       "  1.102617832532942,\n",
       "  1.3462037703214813],\n",
       " 'PDrive_sliced_BMAG_y': [1.248404409107075,\n",
       "  1.0169011141105162,\n",
       "  1.022749059316064,\n",
       "  1.0087657455771337,\n",
       "  1.0228001833103337]}"
      ]
     },
     "execution_count": 14,
     "metadata": {},
     "output_type": "execute_result"
    }
   ],
   "source": [
    "getBeamSpecs(P571, targetTwiss = \"PR10571\")"
   ]
  },
  {
   "cell_type": "code",
   "execution_count": 15,
   "id": "1811994c-0b67-431f-94f7-eba3f1b82cbc",
   "metadata": {},
   "outputs": [
    {
     "data": {
      "text/plain": [
       "{'PDrive_median_x': 2.8256089783140417e-05,\n",
       " 'PDrive_median_y': 1.1771063513648122e-06,\n",
       " 'PDrive_median_xp': -4.179400267017659e-06,\n",
       " 'PDrive_median_yp': -4.201267128474888e-08,\n",
       " 'PDrive_median_energy': 9921082284.727867,\n",
       " 'PDrive_sigmaSI90_x': 0.0001664948448141154,\n",
       " 'PDrive_sigmaSI90_y': 9.371633905028718e-05,\n",
       " 'PDrive_sigmaSI90_z': 8.079169944808684e-05,\n",
       " 'PDrive_sigmaSI90_xp': 3.0197478688506526e-05,\n",
       " 'PDrive_sigmaSI90_yp': 5.49376386884421e-06,\n",
       " 'PDrive_sigmaSI90_energy': 88357822.56771463,\n",
       " 'PDrive_emitSI90_x': 4.694529425884905e-05,\n",
       " 'PDrive_emitSI90_y': 6.197028522513354e-06,\n",
       " 'PDrive_norm_emit_x': 9.538273878392693e-06,\n",
       " 'PDrive_norm_emit_y': 3.7767504952757673e-06,\n",
       " 'PDrive_charge_nC': 1.5987200000000008,\n",
       " 'PDrive_BMAG_x': 1.2621247752413132,\n",
       " 'PDrive_BMAG_y': 1.0406169748111218,\n",
       " 'PDrive_sliced_BMAG_x': [2.1216988060782054,\n",
       "  1.8369273972326687,\n",
       "  1.2094192873610117,\n",
       "  1.5468641131542937,\n",
       "  4.963638666476804],\n",
       " 'PDrive_sliced_BMAG_y': [1.5540497028799063,\n",
       "  1.393091960509572,\n",
       "  1.3131170281724163,\n",
       "  1.616286811737842,\n",
       "  1.6298935597736763]}"
      ]
     },
     "execution_count": 15,
     "metadata": {},
     "output_type": "execute_result"
    }
   ],
   "source": [
    "getBeamSpecs(P, targetTwiss = \"BEGBC20\")"
   ]
  },
  {
   "cell_type": "code",
   "execution_count": 16,
   "id": "c616aa85-4c13-45da-bf1c-0225c4396c82",
   "metadata": {},
   "outputs": [
    {
     "data": {
      "image/png": "[encoded data removed]",
      "text/plain": [
       "<Figure size 640x480 with 3 Axes>"
      ]
     },
     "metadata": {},
     "output_type": "display_data"
    }
   ],
   "source": [
    "display(plotMod(P, 'x', 'xp',  bins=300, xlim = (-0.25e-3, 0.25e-3), ylim = (-0.1e-3, 0.1e-3)))\n",
    "plt.clf()"
   ]
  },
  {
   "cell_type": "code",
   "execution_count": 17,
   "id": "b0bb58e4-99ee-4a85-858a-2e0841e0a4a3",
   "metadata": {},
   "outputs": [],
   "source": [
    "PENDBC11 = getBeamAtElement(tao, \"BEGL2F\")"
   ]
  },
  {
   "cell_type": "code",
   "execution_count": 18,
   "id": "3a7f3253-e535-4afe-95e5-79da1c46afc7",
   "metadata": {},
   "outputs": [
    {
     "data": {
      "text/plain": [
       "-0.001528176341009003"
      ]
     },
     "execution_count": 18,
     "metadata": {},
     "output_type": "execute_result"
    }
   ],
   "source": [
    "PENDBC11[\"mean_x\"]"
   ]
  },
  {
   "cell_type": "code",
   "execution_count": 19,
   "id": "ddf4b627-7d99-4bed-b587-58330f89b0c4",
   "metadata": {},
   "outputs": [
    {
     "data": {
      "text/plain": [
       "-3.58849134390211e-06"
      ]
     },
     "execution_count": 19,
     "metadata": {},
     "output_type": "execute_result"
    }
   ],
   "source": [
    "PENDBC11[\"mean_y\"]"
   ]
  },
  {
   "cell_type": "code",
   "execution_count": 20,
   "id": "cfeb8418-8c36-4b47-a034-bc8b8471059b",
   "metadata": {},
   "outputs": [
    {
     "data": {
      "text/plain": [
       "4.004432355246005e-06"
      ]
     },
     "execution_count": 20,
     "metadata": {},
     "output_type": "execute_result"
    }
   ],
   "source": [
    "P571[\"mean_x\"]"
   ]
  },
  {
   "cell_type": "code",
   "execution_count": 21,
   "id": "1a4b0527-d14e-4899-bf70-d4630a7efee9",
   "metadata": {},
   "outputs": [
    {
     "data": {
      "text/plain": [
       "{'universe': 1,\n",
       " '1^ix_branch': 0,\n",
       " 'ix_ele': 57,\n",
       " 'key': 'VKicker',\n",
       " 'name': 'YC10412',\n",
       " 'type': 'class-1s',\n",
       " 'alias': 'YCOR:IN10:412',\n",
       " 'descrip': '',\n",
       " 'is_on': True,\n",
       " 's': 7.5598383,\n",
       " 's_start': 7.5598383,\n",
       " 'ref_time': 2.5233221070638e-08,\n",
       " 'has#methods': True,\n",
       " 'has#ab_multipoles': True,\n",
       " 'has#kt_multipoles': False,\n",
       " 'has#multipoles_elec': True,\n",
       " 'has#ac_kick': False,\n",
       " 'has#taylor': False,\n",
       " 'has#spin_taylor': False,\n",
       " 'has#wake': False,\n",
       " 'num#cartesian_map': 0,\n",
       " 'num#cylindrical_map': 0,\n",
       " 'num#gen_grad_map': 0,\n",
       " 'num#grid_field': 0,\n",
       " 'has#wall3d': 0,\n",
       " 'has#control': False,\n",
       " 'has#twiss': True,\n",
       " 'has#mat6': True,\n",
       " 'has#floor': True,\n",
       " 'has#photon': False,\n",
       " 'has#lord_slave': True}"
      ]
     },
     "execution_count": 21,
     "metadata": {},
     "output_type": "execute_result"
    }
   ],
   "source": [
    "tao.ele_head(57)"
   ]
  },
  {
   "cell_type": "code",
   "execution_count": 22,
   "id": "f8d992b3-e5bb-45d5-b969-c7bef4d22b7f",
   "metadata": {},
   "outputs": [],
   "source": [
    "#elementTypes = { tao.ele_head(i)[\"name\"] : tao.ele_head(i)[\"key\"] for i in range(len(tao.lat_ele_list())) }\n",
    "elementIndexToName = { i : tao.ele_head(i)[\"name\"] for i in range(len(tao.lat_ele_list())) }\n",
    "elementTypes = { i : tao.ele_head(i)[\"key\"] for i in range(len(tao.lat_ele_list())) }"
   ]
  },
  {
   "cell_type": "code",
   "execution_count": 23,
   "id": "1bf354b9-6690-4ee0-8aa8-d9df78332fed",
   "metadata": {},
   "outputs": [],
   "source": [
    "usefulMarkers = [k for k, v in elementTypes.items() if v == \"Marker\"][4:-45]"
   ]
  },
  {
   "cell_type": "code",
   "execution_count": 24,
   "id": "18338cf6-ab7d-48b8-a646-6f5999fc26c7",
   "metadata": {},
   "outputs": [
    {
     "data": {
      "text/plain": [
       "{'L0AFEND': -5,\n",
       " 'L0AFWAKE': -5,\n",
       " 'FLNGAF2': -5,\n",
       " 'DLFDBF': -9,\n",
       " 'L0BFMID': -5,\n",
       " 'OUTCPBF': -2,\n",
       " 'L0BFEND': -2,\n",
       " 'L0BFWAKE': -2,\n",
       " 'FLNGBF2': -2,\n",
       " 'ENDINJ': -2,\n",
       " 'BEGDL10': -2,\n",
       " 'IM10431': -1,\n",
       " 'LH10BEG': -2,\n",
       " 'HTRUNDF': -1246,\n",
       " 'LH10END': -2,\n",
       " 'WS10561': 4,\n",
       " 'MRK0F': 4,\n",
       " 'IM10591': 5,\n",
       " 'BX0FBEG': 3,\n",
       " 'CNT0F': -712,\n",
       " 'BX0FEND': -712,\n",
       " 'IM10791': -1731,\n",
       " 'ENDDL10': -1681,\n",
       " 'BEGL1F': -1681,\n",
       " 'L1XFEND': 974,\n",
       " 'ENDL1F': 1050,\n",
       " 'BEGBC11_1': 1050,\n",
       " 'BC11CBEG': 1109,\n",
       " 'CNT1B': 294,\n",
       " 'BC11CEND': 294,\n",
       " 'ENDBC11_1': 294,\n",
       " 'BEGBC11_2': 294,\n",
       " 'IM11360': 257,\n",
       " 'ENDBC11_2': -1528,\n",
       " 'BEGL2F': -1528,\n",
       " 'LI11STRT': -1528,\n",
       " 'WS11444': -108,\n",
       " 'WS11614': 903,\n",
       " 'WS11744': 1099,\n",
       " 'LI11END': 531,\n",
       " 'LI12BEG': 531,\n",
       " 'WS12214': 283,\n",
       " 'LI12END': -309,\n",
       " 'LI13BEG': -309,\n",
       " 'LI13END': -43,\n",
       " 'LI14BEG': -43,\n",
       " 'LI14TERM': 603,\n",
       " 'ENDL2F': 603,\n",
       " 'BEGBC14_1': 186,\n",
       " 'ENDBC14_1': 249,\n",
       " 'BEGBC14E': 249,\n",
       " 'ENDBC14E': 57,\n",
       " 'BEGBC14_2': 57,\n",
       " 'CNT2B': 57,\n",
       " 'IM14890': 46,\n",
       " 'VV14940': 40,\n",
       " 'ENDBC14_2': 38,\n",
       " 'BEGL3F_1': 38,\n",
       " 'LI15BEG': 38,\n",
       " 'LI15END': 60,\n",
       " 'LI16BEG': 60,\n",
       " 'LI16END': -84,\n",
       " 'LI17BEG': -84,\n",
       " 'LI17END': -30,\n",
       " 'LI18BEG': -30,\n",
       " 'WS18944': 72,\n",
       " 'LI18END': 77,\n",
       " 'LI19BEG': 77,\n",
       " 'WS19144': 102,\n",
       " 'WS19244': 22,\n",
       " 'WS19344': -34,\n",
       " 'MSCAVEXT': -51,\n",
       " 'ENDL3F_1': -51,\n",
       " 'BEGL3F_2': -51,\n",
       " 'HLAM': -87,\n",
       " 'IM1988': -26,\n",
       " 'LI19TERM': -24,\n",
       " 'ENDL3F_2': -24,\n",
       " 'BEGBC20': -24}"
      ]
     },
     "execution_count": 24,
     "metadata": {},
     "output_type": "execute_result"
    }
   ],
   "source": [
    "{ elementIndexToName[eleII] : round( 1e6 * getBeamAtElement(tao, eleII)[\"mean_x\"] ) for eleII in usefulMarkers }"
   ]
  },
  {
   "cell_type": "code",
   "execution_count": 25,
   "id": "51693786-d408-49d6-b119-63d5baf922cc",
   "metadata": {},
   "outputs": [
    {
     "data": {
      "text/plain": [
       "{'L0AFEND': 2.8261948693706898,\n",
       " 'L0AFWAKE': 2.8261948693706898,\n",
       " 'FLNGAF2': 2.8261948693706898,\n",
       " 'DLFDBF': 3.393907718111402,\n",
       " 'L0BFMID': 3.7402640399739604,\n",
       " 'OUTCPBF': 3.879388560817632,\n",
       " 'L0BFEND': 3.873754320740786,\n",
       " 'L0BFWAKE': 3.873754320740786,\n",
       " 'FLNGBF2': 3.873754320740786,\n",
       " 'ENDINJ': 3.873754320740786,\n",
       " 'BEGDL10': 3.873754320740786,\n",
       " 'IM10431': 3.875108759117344,\n",
       " 'LH10BEG': 3.875641511056409,\n",
       " 'HTRUNDF': 7.159113603337552,\n",
       " 'LH10END': 3.880032700168247,\n",
       " 'WS10561': 3.8790995892011337,\n",
       " 'MRK0F': 3.878915065947588,\n",
       " 'IM10591': 3.878071615359935,\n",
       " 'BX0FBEG': 3.8749006032207407,\n",
       " 'CNT0F': 6.1934240829666685,\n",
       " 'BX0FEND': 6.1934240829666685,\n",
       " 'IM10791': 6.127078218861314,\n",
       " 'ENDDL10': 6.125634251203851,\n",
       " 'BEGL1F': 6.125634251203851,\n",
       " 'L1XFEND': 5.7234040021019235,\n",
       " 'ENDL1F': 5.7317161578099025,\n",
       " 'BEGBC11_1': 5.7317161578099025,\n",
       " 'BC11CBEG': 5.735510028826702,\n",
       " 'CNT1B': 5.71754262416773,\n",
       " 'BC11CEND': 5.71754262416773,\n",
       " 'ENDBC11_1': 5.71754262416773,\n",
       " 'BEGBC11_2': 5.71754262416773,\n",
       " 'IM11360': 5.73392073719201,\n",
       " 'ENDBC11_2': 6.836488570377336,\n",
       " 'BEGL2F': 6.836488570377336,\n",
       " 'LI11STRT': 6.836488570377336,\n",
       " 'WS11444': 6.81704977306223,\n",
       " 'WS11614': 6.807769431908947,\n",
       " 'WS11744': 7.6672986549612245,\n",
       " 'LI11END': 8.1375251855215,\n",
       " 'LI12BEG': 8.1375251855215,\n",
       " 'WS12214': 7.900404931262311,\n",
       " 'LI12END': 11.150912800639732,\n",
       " 'LI13BEG': 11.150912800639732,\n",
       " 'LI13END': 13.187852123377276,\n",
       " 'LI14BEG': 13.187852123377276,\n",
       " 'LI14TERM': 13.922711237993854,\n",
       " 'ENDL2F': 13.922711237993854,\n",
       " 'BEGBC14_1': 8.558852260185885,\n",
       " 'ENDBC14_1': 8.347417913319466,\n",
       " 'BEGBC14E': 8.347417913319466,\n",
       " 'ENDBC14E': 8.50079250495356,\n",
       " 'BEGBC14_2': 8.50079250495356,\n",
       " 'CNT2B': 8.50079250495356,\n",
       " 'IM14890': 8.499451748212792,\n",
       " 'VV14940': 8.494498745489338,\n",
       " 'ENDBC14_2': 8.496718602734463,\n",
       " 'BEGL3F_1': 8.496718602734463,\n",
       " 'LI15BEG': 8.496718602734463,\n",
       " 'LI15END': 8.206717383508156,\n",
       " 'LI16BEG': 8.206717383508156,\n",
       " 'LI16END': 8.391414053239059,\n",
       " 'LI17BEG': 8.391414053239059,\n",
       " 'LI17END': 8.352555018516679,\n",
       " 'LI18BEG': 8.352555018516679,\n",
       " 'WS18944': 9.009912757247115,\n",
       " 'LI18END': 8.99738938307526,\n",
       " 'LI19BEG': 8.99738938307526,\n",
       " 'WS19144': 8.866692589939852,\n",
       " 'WS19244': 9.026690677225556,\n",
       " 'WS19344': 9.20346184345514,\n",
       " 'MSCAVEXT': 9.107872640576506,\n",
       " 'ENDL3F_1': 9.107872640576506,\n",
       " 'BEGL3F_2': 9.107872640576506,\n",
       " 'HLAM': 9.387323665598329,\n",
       " 'IM1988': 9.530949869847454,\n",
       " 'LI19TERM': 9.538273878392694,\n",
       " 'ENDL3F_2': 9.538273878392694,\n",
       " 'BEGBC20': 9.538273878392694}"
      ]
     },
     "execution_count": 25,
     "metadata": {},
     "output_type": "execute_result"
    }
   ],
   "source": [
    "{ elementIndexToName[eleII] : 1e6 * getBeamAtElement(tao, eleII).twiss(plane = \"x\", fraction = 0.9)['norm_emit_x']  for eleII in usefulMarkers }"
   ]
  },
  {
   "cell_type": "code",
   "execution_count": 26,
   "id": "fb90a051-5260-48af-8786-f59974d3811f",
   "metadata": {},
   "outputs": [
    {
     "data": {
      "text/plain": [
       "{'L0AFEND': 572,\n",
       " 'L0AFWAKE': 572,\n",
       " 'FLNGAF2': 572,\n",
       " 'DLFDBF': 573,\n",
       " 'L0BFMID': 574,\n",
       " 'OUTCPBF': 574,\n",
       " 'L0BFEND': 574,\n",
       " 'L0BFWAKE': 574,\n",
       " 'FLNGBF2': 574,\n",
       " 'ENDINJ': 574,\n",
       " 'BEGDL10': 574,\n",
       " 'IM10431': 574,\n",
       " 'LH10BEG': 574,\n",
       " 'HTRUNDF': 577,\n",
       " 'LH10END': 580,\n",
       " 'WS10561': 580,\n",
       " 'MRK0F': 580,\n",
       " 'IM10591': 580,\n",
       " 'BX0FBEG': 580,\n",
       " 'CNT0F': 562,\n",
       " 'BX0FEND': 562,\n",
       " 'IM10791': 562,\n",
       " 'ENDDL10': 562,\n",
       " 'BEGL1F': 562,\n",
       " 'L1XFEND': 562,\n",
       " 'ENDL1F': 562,\n",
       " 'BEGBC11_1': 562,\n",
       " 'BC11CBEG': 562,\n",
       " 'CNT1B': 342,\n",
       " 'BC11CEND': 342,\n",
       " 'ENDBC11_1': 342,\n",
       " 'BEGBC11_2': 342,\n",
       " 'IM11360': 342,\n",
       " 'ENDBC11_2': 342,\n",
       " 'BEGL2F': 342,\n",
       " 'LI11STRT': 342,\n",
       " 'WS11444': 341,\n",
       " 'WS11614': 341,\n",
       " 'WS11744': 341,\n",
       " 'LI11END': 341,\n",
       " 'LI12BEG': 341,\n",
       " 'WS12214': 341,\n",
       " 'LI12END': 341,\n",
       " 'LI13BEG': 341,\n",
       " 'LI13END': 341,\n",
       " 'LI14BEG': 341,\n",
       " 'LI14TERM': 341,\n",
       " 'ENDL2F': 341,\n",
       " 'BEGBC14_1': 341,\n",
       " 'ENDBC14_1': 341,\n",
       " 'BEGBC14E': 341,\n",
       " 'ENDBC14E': 82,\n",
       " 'BEGBC14_2': 82,\n",
       " 'CNT2B': 82,\n",
       " 'IM14890': 82,\n",
       " 'VV14940': 82,\n",
       " 'ENDBC14_2': 82,\n",
       " 'BEGL3F_1': 82,\n",
       " 'LI15BEG': 82,\n",
       " 'LI15END': 82,\n",
       " 'LI16BEG': 82,\n",
       " 'LI16END': 82,\n",
       " 'LI17BEG': 82,\n",
       " 'LI17END': 82,\n",
       " 'LI18BEG': 82,\n",
       " 'WS18944': 82,\n",
       " 'LI18END': 82,\n",
       " 'LI19BEG': 82,\n",
       " 'WS19144': 82,\n",
       " 'WS19244': 82,\n",
       " 'WS19344': 82,\n",
       " 'MSCAVEXT': 82,\n",
       " 'ENDL3F_1': 82,\n",
       " 'BEGL3F_2': 82,\n",
       " 'HLAM': 82,\n",
       " 'IM1988': 82,\n",
       " 'LI19TERM': 82,\n",
       " 'ENDL3F_2': 82,\n",
       " 'BEGBC20': 82}"
      ]
     },
     "execution_count": 26,
     "metadata": {},
     "output_type": "execute_result"
    }
   ],
   "source": [
    "{ elementIndexToName[eleII] : round( 1e6 * getBeamAtElement(tao, eleII)[\"sigma_z\"] ) for eleII in usefulMarkers }"
   ]
  },
  {
   "cell_type": "code",
   "execution_count": 27,
   "id": "36567efc-62f3-492a-9355-9ea06de88a32",
   "metadata": {},
   "outputs": [
    {
     "data": {
      "text/plain": [
       "['Element # 1600',\n",
       " 'Element Name: L0BF',\n",
       " 'Element Type:  \"DUALFEED\"',\n",
       " 'Element Alias:  \"ACCL:IN10:400\"',\n",
       " 'Key: Lcavity',\n",
       " 'S_start, S:      4.860653,      7.955897',\n",
       " 'Ref_time_start, Ref_time:  1.622954E-08,  2.655434E-08',\n",
       " '',\n",
       " 'Attribute values:',\n",
       " '    1  L                           =  3.0952440E+00 m        31  L_ACTIVE                    =  3.0952440E+00 m',\n",
       " '    2  TILT                        =  0.0000000E+00 rad      60  TILT_TOT                    =  0.0000000E+00 rad',\n",
       " '    7  GRADIENT_ERR                =  0.0000000E+00 eV/m',\n",
       " '    8  VOLTAGE                     =  5.6740687E+07 Volt      6  GRADIENT                    =  1.8331572E+07 eV/m',\n",
       " '    9  VOLTAGE_ERR                 =  0.0000000E+00 Volt',\n",
       " '   10  FRINGE_TYPE                 =  Full (4)               11  FRINGE_AT                   =  Both_Ends (3)',\n",
       " '   13  SPIN_FRINGE_ON              =  T (1)',\n",
       " '   15  RF_FREQUENCY                =  2.8560000E+09 Hz       16  RF_WAVELENGTH               =  1.0496935E-01 m',\n",
       " '   17  STATIC_LINEAR_MAP           =  F (0)',\n",
       " '   18  LONGITUDINAL_MODE           = 0',\n",
       " '   19  AUTOSCALE_AMPLITUDE         =  T (1)                  20  AUTOSCALE_PHASE             =  T (1)',\n",
       " '   21  E_LOSS                      =  0.0000000E+00 eV',\n",
       " '   24  PHI0                        = -4.1666667E-02 rad/2pi  26  PHI0_MULTIPASS              =  0.0000000E+00 rad/2pi',\n",
       " '   25  PHI0_ERR                    =  0.0000000E+00 rad/2pi',\n",
       " '   29  FIELD_AUTOSCALE             =  1.0000000E+00          27  PHI0_AUTOSCALE              =  0.0000000E+00 rad/2pi',\n",
       " '   30  VOLTAGE_TOT                 =  5.6740687E+07 Volt      5  GRADIENT_TOT                =  1.8331572E+07 eV/m',\n",
       " '   33  N_CELL                      = 1                       22  CAVITY_TYPE                 =  Traveling_Wave (2)',\n",
       " '   34  X_PITCH                     =  0.0000000E+00 rad      55  X_PITCH_TOT                 =  0.0000000E+00 rad',\n",
       " '   35  Y_PITCH                     =  0.0000000E+00 rad      56  Y_PITCH_TOT                 =  0.0000000E+00 rad',\n",
       " '   36  X_OFFSET                    =  0.0000000E+00 m        57  X_OFFSET_TOT                =  0.0000000E+00 m',\n",
       " '   37  Y_OFFSET                    =  0.0000000E+00 m        58  Y_OFFSET_TOT                =  0.0000000E+00 m',\n",
       " '   38  Z_OFFSET                    =  0.0000000E+00 m        59  Z_OFFSET_TOT                =  0.0000000E+00 m',\n",
       " '   39  HKICK                       =  0.0000000E+00          41  BL_HKICK                    = -0.0000000E+00 T*m',\n",
       " '   40  VKICK                       =  0.0000000E+00          42  BL_VKICK                    = -0.0000000E+00 T*m',\n",
       " '   44  COUPLER_PHASE               =  0.0000000E+00 rad/2pi',\n",
       " '   45  COUPLER_ANGLE               =  0.0000000E+00 rad          COUPLER_ANGLE               =  0.0000000E+00 deg',\n",
       " '   47  COUPLER_AT                  =  Exit_End (2)           46  COUPLER_STRENGTH            =  0.0000000E+00',\n",
       " '   51  P0C_START                   =  6.3997960E+07 eV           BETA_START                  =  9.9996812E-01',\n",
       " '   52  E_TOT_START                 =  6.4000000E+07 eV           DELTA_E                     =  5.4807295E+07 eV',\n",
       " '   53  P0C                         =  1.1880620E+08 eV           BETA                        =  9.9999075E-01',\n",
       " '   54  E_TOT                       =  1.1880729E+08 eV           GAMMA                       =  2.3250008E+02',\n",
       " '   64  REF_TIME_START              =  1.6229545E-08 sec      50  DELTA_REF_TIME              =  1.0324800E-08 sec',\n",
       " '   65  INTEGRATOR_ORDER            = 0',\n",
       " '   67  DS_STEP                     =  6.1904880E-02 m        66  NUM_STEPS                   = 50',\n",
       " '   68  CSR_DS_STEP                 =  0.0000000E+00 m',\n",
       " '   69  LORD_PAD1                   =  0.0000000E+00 m        70  LORD_PAD2                   =  0.0000000E+00 m',\n",
       " '   71  X1_LIMIT                    =  0.0000000E+00 m        72  X2_LIMIT                    =  0.0000000E+00 m',\n",
       " '   73  Y1_LIMIT                    =  0.0000000E+00 m        74  Y2_LIMIT                    =  0.0000000E+00 m',\n",
       " '',\n",
       " '       TRACKING_METHOD              =  Bmad_Standard             APERTURE_AT                =  Exit_End',\n",
       " '       MAT6_CALC_METHOD             =  Auto                      APERTURE_TYPE              =  Rectangular',\n",
       " '       SPIN_TRACKING_METHOD         =  Tracking                  OFFSET_MOVES_APERTURE      =  F',\n",
       " '       PTC_INTEGRATION_TYPE         =  Matrix_Kick               SYMPLECTIFY                =  F',\n",
       " '       CSR_METHOD                   =  Off                       FIELD_MASTER               =  F',\n",
       " '       SPACE_CHARGE_METHOD          =  Off                       LONGITUDINAL ORIENTATION   =       1',\n",
       " '       FIELD_CALC                   =  Bmad_Standard             REF_SPECIES                =  Electron',\n",
       " 'No associated Wall.',\n",
       " '',\n",
       " 'Slave_status: Free',\n",
       " '',\n",
       " 'Lord_status:  Super_Lord',\n",
       " 'Slaves:',\n",
       " '   Index   Name        Type                     S',\n",
       " '      49   L0BF#1      Lcavity                  4.919299',\n",
       " '      51   L0BF#2      Lcavity                  5.256427',\n",
       " '      54   L0BF#3      Lcavity                  6.408275',\n",
       " '      56   L0BF#4      Lcavity                  7.559838',\n",
       " '      59   L0BF#5      Lcavity                  7.894978',\n",
       " '      61   L0BF#6      Lcavity                  7.955897',\n",
       " '',\n",
       " 'Twiss at end of element:',\n",
       " '                          A              B            Cbar                        C_mat',\n",
       " '  Beta (m)         6.27848159    81.75123793  |   0.00000000   0.00000000      0.00000000   0.00000000',\n",
       " '  Alpha          -10.45624264   -36.25267544  |   0.00000000   0.00000000      0.00000000   0.00000000',\n",
       " '  Gamma (1/m)     17.57319958    16.08852062  |   Gamma_c =   1.00000000       Mode_Flip = F',\n",
       " '  Phi (rad)        5.38989646     5.77143408            X              Y              Z',\n",
       " '  Eta (m)          0.00000000     0.00000000     0.00000000     0.00000000    -0.34946396',\n",
       " '  Etap             0.00000000     0.00000000     0.00000000     0.00000000    -0.00000000',\n",
       " '  dEta/ds          0.00000000     0.00000000     0.00000000     0.00000000    -0.00000000',\n",
       " '',\n",
       " 'Transfer Matrix : Kick  [Mat symplectic error:   4.613E-01]                      Vec0',\n",
       " '   0.6906758   2.2359729   0.0000000   0.0000000   0.0000000   0.0000000   :   0.00000E+00',\n",
       " '  -0.0230073   0.7054418   0.0000000   0.0000000   0.0000000   0.0000000   :   0.00000E+00',\n",
       " '   0.0000000   0.0000000   0.6906758   2.2359729   0.0000000   0.0000000   :   0.00000E+00',\n",
       " '   0.0000000   0.0000000  -0.0230073   0.7054418   0.0000000   0.0000000   :   0.00000E+00',\n",
       " '   0.0000000   0.0000000   0.0000000   0.0000000   0.9996294   0.0000818   :   4.85188E-17',\n",
       " '   0.0000000   0.0000000   0.0000000   0.0000000  -7.3979821   0.5382760   :   8.21677E-16',\n",
       " '',\n",
       " 'Short-Range Wake:',\n",
       " '  scale_with_length = T',\n",
       " '  amp_scale         = 1',\n",
       " '  z_scale           = 1',\n",
       " '  z_max             = 0.01',\n",
       " '',\n",
       " '  Short-Range Longitudinal Pseudo Modes:',\n",
       " '   #        Amp        Damp           K         Phi   Transverse_Dependence',\n",
       " '   1  1.0215E+14  2.0074E+02  0.0000E+00  2.5000E-01   none',\n",
       " '   2  2.0265E+13  1.6475E+05  0.0000E+00  2.5000E-01   none',\n",
       " '   3  9.1115E+13  1.2068E+03  0.0000E+00  2.5000E-01   none',\n",
       " '   4  4.9582E+13  9.0508E+03  0.0000E+00  2.5000E-01   none',\n",
       " '',\n",
       " '  Short-Range Transverse Pseudo Modes:',\n",
       " '   #        Amp        Damp           K         Phi   Polarization  Transverse_Dependence',\n",
       " '   1  3.3612E+15 -3.9299E+01  0.0000E+00  2.5000E-01       None            leading',\n",
       " '   2 -3.3612E+15  7.2410E+02  0.0000E+00  2.5000E-01       None            leading',\n",
       " '',\n",
       " 'Global Floor Coords at End of Element:',\n",
       " '                   X           Y           Z       Theta         Phi         Psi',\n",
       " 'Reference     5.63179     0.00000  1008.79103    -0.61087     0.00000     0.00000   ! Position without misalignments',\n",
       " 'Actual        5.63179     0.00000  1008.79103    -0.61087     0.00000     0.00000   ! Position with offset/pitch/tilt misalignments',\n",
       " 'delta Ref    -1.77536     0.00000     2.53548     0.00000     0.00000     0.00000   ! Delta with respect to last element',\n",
       " '',\n",
       " 'Tracking: Electron,   State: Alive',\n",
       " '         Position[mm] Momentum[mrad]        Spin   |',\n",
       " '  X:       0.00000000     0.00000000               | t_particle [sec]:        2.65543447E-08  E_tot: 1.18807E+08',\n",
       " '  Y:       0.00000000     0.00000000               | t_part-t_ref [sec]:      0.00000000E+00  PC:    1.18806E+08',\n",
       " '  Z:      -0.00000000     0.00000000               | (t_ref-t_part)*Vel [m]:  0.00000000E+00  Beta:  0.999990750',\n",
       " '  Particle Phase relative to RF Phase (rad/2pi): -0.0416666667']"
      ]
     },
     "execution_count": 27,
     "metadata": {},
     "output_type": "execute_result"
    }
   ],
   "source": [
    "tao.cmd(\"show ele L0BF -all\")"
   ]
  },
  {
   "cell_type": "code",
   "execution_count": 28,
   "id": "42326259-dd42-4f38-99c3-125bbe13f497",
   "metadata": {},
   "outputs": [
    {
     "data": {
      "text/plain": [
       "['Element # 977',\n",
       " 'Element Name: K17_3B',\n",
       " 'Element Type:  \"10ft\"',\n",
       " 'Element Alias:  \"LI17:KLYS:31\"',\n",
       " 'Key: Lcavity',\n",
       " 'S_start, S:    654.229270,    657.273370',\n",
       " 'Ref_time_start, Ref_time:  2.182291E-06,  2.192445E-06',\n",
       " '',\n",
       " 'Attribute values:',\n",
       " '    1  L                           =  3.0441000E+00 m        31  L_ACTIVE                    =  3.0441000E+00 m',\n",
       " '    2  TILT                        =  0.0000000E+00 rad      60  TILT_TOT                    =  0.0000000E+00 rad',\n",
       " '    7  GRADIENT_ERR                =  0.0000000E+00 eV/m',\n",
       " '    8  VOLTAGE                     =  3.6293978E+07 Volt      6  GRADIENT                    =  1.1922729E+07 eV/m',\n",
       " '    9  VOLTAGE_ERR                 =  0.0000000E+00 Volt',\n",
       " '   10  FRINGE_TYPE                 =  Full (4)               11  FRINGE_AT                   =  Both_Ends (3)',\n",
       " '   13  SPIN_FRINGE_ON              =  T (1)',\n",
       " '   15  RF_FREQUENCY                =  2.8560000E+09 Hz       16  RF_WAVELENGTH               =  1.0496935E-01 m',\n",
       " '   17  STATIC_LINEAR_MAP           =  F (0)',\n",
       " '   18  LONGITUDINAL_MODE           = 0',\n",
       " '   19  AUTOSCALE_AMPLITUDE         =  T (1)                  20  AUTOSCALE_PHASE             =  T (1)',\n",
       " '   21  E_LOSS                      =  0.0000000E+00 eV',\n",
       " '   24  PHI0                        =  0.0000000E+00 rad/2pi  26  PHI0_MULTIPASS              =  0.0000000E+00 rad/2pi',\n",
       " '   25  PHI0_ERR                    =  0.0000000E+00 rad/2pi',\n",
       " '   29  FIELD_AUTOSCALE             =  1.0000000E+00          27  PHI0_AUTOSCALE              =  0.0000000E+00 rad/2pi',\n",
       " '   30  VOLTAGE_TOT                 =  3.6293978E+07 Volt      5  GRADIENT_TOT                =  1.1922729E+07 eV/m',\n",
       " '   33  N_CELL                      = 1                       22  CAVITY_TYPE                 =  Traveling_Wave (2)',\n",
       " '   34  X_PITCH                     =  0.0000000E+00 rad      55  X_PITCH_TOT                 =  0.0000000E+00 rad',\n",
       " '   35  Y_PITCH                     =  0.0000000E+00 rad      56  Y_PITCH_TOT                 =  0.0000000E+00 rad',\n",
       " '   36  X_OFFSET                    =  0.0000000E+00 m        57  X_OFFSET_TOT                =  0.0000000E+00 m',\n",
       " '   37  Y_OFFSET                    =  0.0000000E+00 m        58  Y_OFFSET_TOT                =  0.0000000E+00 m',\n",
       " '   38  Z_OFFSET                    =  0.0000000E+00 m        59  Z_OFFSET_TOT                =  0.0000000E+00 m',\n",
       " '   39  HKICK                       =  0.0000000E+00          41  BL_HKICK                    = -0.0000000E+00 T*m',\n",
       " '   40  VKICK                       =  0.0000000E+00          42  BL_VKICK                    = -0.0000000E+00 T*m',\n",
       " '   44  COUPLER_PHASE               =  0.0000000E+00 rad/2pi',\n",
       " '   45  COUPLER_ANGLE               =  0.0000000E+00 rad          COUPLER_ANGLE               =  0.0000000E+00 deg',\n",
       " '   47  COUPLER_AT                  =  Exit_End (2)           46  COUPLER_STRENGTH            =  0.0000000E+00',\n",
       " '   51  P0C_START                   =  7.1069032E+09 eV           BETA_START                  =  1.0000000E+00',\n",
       " '   52  E_TOT_START                 =  7.1069032E+09 eV           DELTA_E                     =  3.6293978E+07 eV',\n",
       " '   53  P0C                         =  7.1431972E+09 eV           BETA                        =  1.0000000E+00',\n",
       " '   54  E_TOT                       =  7.1431972E+09 eV           GAMMA                       =  1.3978888E+04',\n",
       " '   64  REF_TIME_START              =  2.1822910E-06 sec      50  DELTA_REF_TIME              =  1.0154025E-08 sec',\n",
       " '   65  INTEGRATOR_ORDER            = 0',\n",
       " '   67  DS_STEP                     =  6.0882000E-02 m        66  NUM_STEPS                   = 50',\n",
       " '   68  CSR_DS_STEP                 =  0.0000000E+00 m',\n",
       " '   71  X1_LIMIT                    =  0.0000000E+00 m        72  X2_LIMIT                    =  0.0000000E+00 m',\n",
       " '   73  Y1_LIMIT                    =  0.0000000E+00 m        74  Y2_LIMIT                    =  0.0000000E+00 m',\n",
       " '',\n",
       " '       TRACKING_METHOD              =  Bmad_Standard             APERTURE_AT                =  Exit_End',\n",
       " '       MAT6_CALC_METHOD             =  Auto                      APERTURE_TYPE              =  Rectangular',\n",
       " '       SPIN_TRACKING_METHOD         =  Tracking                  OFFSET_MOVES_APERTURE      =  F',\n",
       " '       PTC_INTEGRATION_TYPE         =  Matrix_Kick               SYMPLECTIFY                =  F',\n",
       " '       CSR_METHOD                   =  Off                       FIELD_MASTER               =  F',\n",
       " '       SPACE_CHARGE_METHOD          =  Off                       LONGITUDINAL ORIENTATION   =       1',\n",
       " '       FIELD_CALC                   =  Bmad_Standard             REF_SPECIES                =  Electron',\n",
       " '',\n",
       " 'Matrices used for radiation stochastic and damping kicks:',\n",
       " '                       1st half of element                                         2nd half of element',\n",
       " 'Damping mat:',\n",
       " '    0.00E+00  0.00E+00  0.00E+00  0.00E+00  0.00E+00  0.00E+00       0.00E+00  0.00E+00  0.00E+00  0.00E+00  0.00E+00  0.00E+00',\n",
       " '    0.00E+00  0.00E+00  0.00E+00  0.00E+00  0.00E+00  0.00E+00       0.00E+00  0.00E+00  0.00E+00  0.00E+00  0.00E+00  0.00E+00',\n",
       " '    0.00E+00  0.00E+00  0.00E+00  0.00E+00  0.00E+00  0.00E+00       0.00E+00  0.00E+00  0.00E+00  0.00E+00  0.00E+00  0.00E+00',\n",
       " '    0.00E+00  0.00E+00  0.00E+00  0.00E+00  0.00E+00  0.00E+00       0.00E+00  0.00E+00  0.00E+00  0.00E+00  0.00E+00  0.00E+00',\n",
       " '    0.00E+00  0.00E+00  0.00E+00  0.00E+00  0.00E+00  0.00E+00       0.00E+00  0.00E+00  0.00E+00  0.00E+00  0.00E+00  0.00E+00',\n",
       " '    0.00E+00  0.00E+00  0.00E+00  0.00E+00  0.00E+00  0.00E+00       0.00E+00  0.00E+00  0.00E+00  0.00E+00  0.00E+00  0.00E+00',\n",
       " 'Damping vec:',\n",
       " '    0.00E+00  0.00E+00  0.00E+00  0.00E+00  0.00E+00  0.00E+00       0.00E+00  0.00E+00  0.00E+00  0.00E+00  0.00E+00  0.00E+00',\n",
       " 'Damping ref_orb:',\n",
       " '   -1.00E+00 -1.00E+00 -1.00E+00 -1.00E+00 -1.00E+00 -1.00E+00      -1.00E+00 -1.00E+00 -1.00E+00 -1.00E+00 -1.00E+00 -1.00E+00',\n",
       " 'Stochastic mat:',\n",
       " '    0.00E+00  0.00E+00  0.00E+00  0.00E+00  0.00E+00  0.00E+00       0.00E+00  0.00E+00  0.00E+00  0.00E+00  0.00E+00  0.00E+00',\n",
       " '    0.00E+00  0.00E+00  0.00E+00  0.00E+00  0.00E+00  0.00E+00       0.00E+00  0.00E+00  0.00E+00  0.00E+00  0.00E+00  0.00E+00',\n",
       " '    0.00E+00  0.00E+00  0.00E+00  0.00E+00  0.00E+00  0.00E+00       0.00E+00  0.00E+00  0.00E+00  0.00E+00  0.00E+00  0.00E+00',\n",
       " '    0.00E+00  0.00E+00  0.00E+00  0.00E+00  0.00E+00  0.00E+00       0.00E+00  0.00E+00  0.00E+00  0.00E+00  0.00E+00  0.00E+00',\n",
       " '    0.00E+00  0.00E+00  0.00E+00  0.00E+00  0.00E+00  0.00E+00       0.00E+00  0.00E+00  0.00E+00  0.00E+00  0.00E+00  0.00E+00',\n",
       " '    0.00E+00  0.00E+00  0.00E+00  0.00E+00  0.00E+00  0.00E+00       0.00E+00  0.00E+00  0.00E+00  0.00E+00  0.00E+00  0.00E+00',\n",
       " 'No associated Wall.',\n",
       " '',\n",
       " 'Slave_status: Free',\n",
       " '',\n",
       " 'Lord_status:  Not_a_Lord',\n",
       " '',\n",
       " 'Twiss at end of element:',\n",
       " '                          A              B            Cbar                        C_mat',\n",
       " '  Beta (m)      8138.96820988    67.01560248  |   0.00000000  -0.00000000     -0.00000000  -0.00000000',\n",
       " '  Alpha         -433.29886960    28.44807835  |   0.00000000  -0.00000000     -0.00000000  -0.00000000',\n",
       " '  Gamma (1/m)     23.06790069    12.09111209  |   Gamma_c =   1.00000000       Mode_Flip = F',\n",
       " '  Phi (rad)       43.13661527    40.35598266            X              Y              Z',\n",
       " '  Eta (m)         -0.00002159     0.00000000    -0.00002159     0.00000000     0.02594982',\n",
       " '  Etap            -0.00000114    -0.00000000    -0.00000114    -0.00000000    -0.00000000',\n",
       " '  dEta/ds         -0.00000114    -0.00000000    -0.00000114    -0.00000000    -0.00000000',\n",
       " '',\n",
       " 'Transfer Matrix : Kick  [Mat symplectic error:   5.081E-03]                      Vec0',\n",
       " '   0.9974531   3.0363535   0.0000000  -0.0000000  -0.0000000  -0.0000000   :  -4.62223E-32',\n",
       " '  -0.0000021   0.9974531  -0.0000000   0.0000000   0.0000000  -0.0000000   :  -1.92593E-33',\n",
       " '   0.0000000  -0.0000000   0.9974531   3.0363535  -0.0000000   0.0000000   :   1.06055E-47',\n",
       " '  -0.0000000   0.0000000  -0.0000021   0.9974531  -0.0000000   0.0000000   :   1.71057E-49',\n",
       " '   0.0000000  -0.0000000  -0.0000000   0.0000000   1.0000000   0.0000000   :  -6.93883E-18',\n",
       " '  -0.0000000   0.0000000   0.0000000  -0.0000000  -0.0000000   0.9949191   :  -1.11932E-25',\n",
       " '',\n",
       " 'Short-Range Wake:',\n",
       " '  scale_with_length = T',\n",
       " '  amp_scale         = 1',\n",
       " '  z_scale           = 1',\n",
       " '  z_max             = 0.01',\n",
       " '',\n",
       " '  Short-Range Longitudinal Pseudo Modes:',\n",
       " '   #        Amp        Damp           K         Phi   Transverse_Dependence',\n",
       " '   1  1.0215E+14  2.0074E+02  0.0000E+00  2.5000E-01   none',\n",
       " '   2  2.0265E+13  1.6475E+05  0.0000E+00  2.5000E-01   none',\n",
       " '   3  9.1115E+13  1.2068E+03  0.0000E+00  2.5000E-01   none',\n",
       " '   4  4.9582E+13  9.0508E+03  0.0000E+00  2.5000E-01   none',\n",
       " '',\n",
       " '  Short-Range Transverse Pseudo Modes:',\n",
       " '   #        Amp        Damp           K         Phi   Polarization  Transverse_Dependence',\n",
       " '   1  3.3612E+15 -3.9299E+01  0.0000E+00  2.5000E-01       None            leading',\n",
       " '   2 -3.3612E+15  7.2410E+02  0.0000E+00  2.5000E-01       None            leading',\n",
       " '',\n",
       " 'Global Floor Coords at End of Element:',\n",
       " '                   X           Y           Z       Theta         Phi         Psi',\n",
       " 'Reference    -0.00000     0.00000  1656.37695     0.00000     0.00000     0.00000   ! Position without misalignments',\n",
       " 'Actual       -0.00000     0.00000  1656.37695     0.00000     0.00000     0.00000   ! Position with offset/pitch/tilt misalignments',\n",
       " 'delta Ref     0.00000     0.00000     3.04410     0.00000     0.00000     0.00000   ! Delta with respect to last element',\n",
       " '',\n",
       " 'Tracking: Electron,   State: Alive',\n",
       " '         Position[mm] Momentum[mrad]        Spin   |',\n",
       " '  X:       0.00000000     0.00000000               | t_particle [sec]:        2.19244505E-06  E_tot: 7.14320E+09',\n",
       " '  Y:      -0.00000000    -0.00000000               | t_part-t_ref [sec]:     -4.23516474E-22  PC:    7.14320E+09',\n",
       " '  Z:       0.00000000    -0.00000000               | (t_ref-t_part)*Vel [m]:  1.26967044E-13  Beta:  0.999999997',\n",
       " '  Particle Phase relative to RF Phase (rad/2pi): -5.42229118E-15']"
      ]
     },
     "execution_count": 28,
     "metadata": {},
     "output_type": "execute_result"
    }
   ],
   "source": [
    "tao.cmd(\"show ele K17_3B -all\")"
   ]
  },
  {
   "cell_type": "code",
   "execution_count": null,
   "id": "1dc6f91c-2038-43ae-9ec3-b8f97619f9b1",
   "metadata": {},
   "outputs": [],
   "source": []
  }
 ],
 "metadata": {
  "kernelspec": {
   "display_name": "Python 3 (ipykernel)",
   "language": "python",
   "name": "python3"
  },
  "language_info": {
   "codemirror_mode": {
    "name": "ipython",
    "version": 3
   },
   "file_extension": ".py",
   "mimetype": "text/x-python",
   "name": "python",
   "nbconvert_exporter": "python",
   "pygments_lexer": "ipython3",
   "version": "3.11.11"
  }
 },
 "nbformat": 4,
 "nbformat_minor": 5
}
