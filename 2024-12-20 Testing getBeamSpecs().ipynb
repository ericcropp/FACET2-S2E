{
 "cells": [
  {
   "cell_type": "code",
   "execution_count": 1,
   "id": "e56fe914-a0e7-45e0-ba88-340e79814c74",
   "metadata": {},
   "outputs": [],
   "source": [
    "from UTILITY_quickstart import *"
   ]
  },
  {
   "cell_type": "code",
   "execution_count": 2,
   "id": "5526866e-ea21-44fc-9fce-a52c9ce9cdd0",
   "metadata": {},
   "outputs": [],
   "source": [
    "#importedDefaultSettings = loadConfig(\"setLattice_configs/2024-10-14_twoBunch.yml\")\n",
    "importedDefaultSettings = loadConfig(\"setLattice_configs/2024-10-22_oneBunch.yml\")"
   ]
  },
  {
   "cell_type": "code",
   "execution_count": 3,
   "id": "9e3c7f8e-72ce-4457-bc72-cff6c253e024",
   "metadata": {},
   "outputs": [
    {
     "name": "stdout",
     "output_type": "stream",
     "text": [
      "Environment set to:  /Users/nmajik/Documents/SLAC/FACET2-Bmad-PyTao\n",
      "Tracking to end\n",
      "CSR on\n",
      "Overwriting lattice with setLattice() defaults\n",
      "No defaults file provided to setLattice(). Using setLattice_configs/defaults.yml\n",
      "Number of macro particles = 10000.0\n",
      "New charge: 1.600000000000001e-09\n"
     ]
    }
   ],
   "source": [
    "csrTF = True\n",
    "evalElement = \"PENT\"\n",
    "\n",
    "\n",
    "inputBeamFilePathSuffix = importedDefaultSettings[\"inputBeamFilePathSuffix\"]\n",
    "bunchCount = importedDefaultSettings[\"bunchCount\"]\n",
    "tao = initializeTao(\n",
    "    #inputBeamFilePathSuffix = '/beams/nmmToL0AFEND_2bunch_2024-02-16Clean/2024-02-16_2bunch_1e5Downsample_nudgeWeights.h5',\n",
    "    inputBeamFilePathSuffix = inputBeamFilePathSuffix,\n",
    "    \n",
    "    csrTF = csrTF,\n",
    "    numMacroParticles=1e4,\n",
    ")\n",
    "\n",
    "#Rescale charge\n",
    "# newCharge = 1e-12\n",
    "# trackBeam(tao, trackEnd = \"L0BFEND\", verbose = True)\n",
    "# P = getBeamAtElement(tao, \"L0AFEND\")\n",
    "# print(f\"\"\"\\n\\n\\nAs imported charge: {P.charge}\"\"\")\n",
    "# P.charge = newCharge\n",
    "# makeBeamActiveBeamFile(P)\n",
    "# tao.cmd('reinit beam')\n",
    "\n",
    "#Set aside the initial beam for later reference\n",
    "trackBeam(tao, trackEnd = \"L0BFEND\")\n",
    "PInit = ParticleGroup(data=tao.bunch_data(\"L0AFEND\"))\n",
    "print(f\"\"\"New charge: {PInit.charge}\"\"\")"
   ]
  },
  {
   "cell_type": "code",
   "execution_count": 4,
   "id": "66eefcc9-f2b7-4092-a571-48aa6e64af41",
   "metadata": {},
   "outputs": [
    {
     "name": "stderr",
     "output_type": "stream",
     "text": [
      "/Users/nmajik/Documents/SLAC/FACET2-Bmad-PyTao/UTILITY_quickstart.py:444: RuntimeWarning: invalid value encountered in sqrt\n",
      "  return np.sqrt(sigmax**2 + 2 * z * rho * sigmax * sigmaxp + z**2 * sigmaxp**2)\n"
     ]
    },
    {
     "data": {
      "text/plain": [
       "{'PDrive_median_x': -1.722920268055455e-05,\n",
       " 'PDrive_median_y': 9.86379256781388e-06,\n",
       " 'PDrive_median_xp': -4.590536093282739e-06,\n",
       " 'PDrive_median_yp': 2.9828386620696137e-06,\n",
       " 'PDrive_sigmaSI90_x': 0.0012892149315379218,\n",
       " 'PDrive_sigmaSI90_y': 0.0012838750330059377,\n",
       " 'PDrive_sigmaSI90_z': 0.0005656552608613351,\n",
       " 'PDrive_sigmaSI90_xp': 0.0003360805106340062,\n",
       " 'PDrive_sigmaSI90_yp': 0.0003360846794334435,\n",
       " 'PDrive_emitSI90_x': 2.9422624782676495e-06,\n",
       " 'PDrive_emitSI90_y': 2.3360287193772658e-06,\n",
       " 'PDrive_norm_emit_x': 4.618132606288353e-06,\n",
       " 'PDrive_norm_emit_y': 4.676086403783135e-06,\n",
       " 'PDrive_charge_nC': 1.6000000000000012}"
      ]
     },
     "execution_count": 4,
     "metadata": {},
     "output_type": "execute_result"
    }
   ],
   "source": [
    "getBeamSpecs(PInit)"
   ]
  },
  {
   "cell_type": "code",
   "execution_count": 5,
   "id": "448ac59b-d10b-4949-9eec-b99f780e8f2c",
   "metadata": {},
   "outputs": [
    {
     "data": {
      "text/plain": [
       "{'PDrive_median_x': -1.722920268055455e-05,\n",
       " 'PDrive_median_y': 9.86379256781388e-06,\n",
       " 'PDrive_median_xp': -4.590536093282739e-06,\n",
       " 'PDrive_median_yp': 2.9828386620696137e-06,\n",
       " 'PDrive_sigmaSI90_x': 0.0012892149315379218,\n",
       " 'PDrive_sigmaSI90_y': 0.0012838750330059377,\n",
       " 'PDrive_sigmaSI90_z': 0.0005656552608613351,\n",
       " 'PDrive_sigmaSI90_xp': 0.0003360805106340062,\n",
       " 'PDrive_sigmaSI90_yp': 0.0003360846794334435,\n",
       " 'PDrive_emitSI90_x': 2.9422624782676495e-06,\n",
       " 'PDrive_emitSI90_y': 2.3360287193772658e-06,\n",
       " 'PDrive_norm_emit_x': 4.618132606288353e-06,\n",
       " 'PDrive_norm_emit_y': 4.676086403783135e-06,\n",
       " 'PDrive_charge_nC': 1.6000000000000012,\n",
       " 'PDrive_BMAG_x': 28.619643185851864,\n",
       " 'PDrive_BMAG_y': 51.41199603497434,\n",
       " 'PDrive_sliced_BMAG_x': [42.08398225513927,\n",
       "  42.74772546924026,\n",
       "  30.45797357484688,\n",
       "  21.582110846449755,\n",
       "  16.267072532260705],\n",
       " 'PDrive_sliced_BMAG_y': [74.08155363035331,\n",
       "  77.8683459337264,\n",
       "  56.50609067350907,\n",
       "  39.152182569194316,\n",
       "  29.583129658439567]}"
      ]
     },
     "execution_count": 5,
     "metadata": {},
     "output_type": "execute_result"
    }
   ],
   "source": [
    "getBeamSpecs(PInit, targetTwiss = \"MFFF\")"
   ]
  },
  {
   "cell_type": "code",
   "execution_count": 6,
   "id": "2c0a97e4-820a-4e76-a56d-9c30c7efe8d0",
   "metadata": {},
   "outputs": [
    {
     "data": {
      "text/plain": [
       "{'PDrive_median_x': -1.722920268055455e-05,\n",
       " 'PDrive_median_y': 9.86379256781388e-06,\n",
       " 'PDrive_median_xp': -4.590536093282739e-06,\n",
       " 'PDrive_median_yp': 2.9828386620696137e-06,\n",
       " 'PDrive_sigmaSI90_x': 0.0012892149315379218,\n",
       " 'PDrive_sigmaSI90_y': 0.0012838750330059377,\n",
       " 'PDrive_sigmaSI90_z': 0.0005656552608613351,\n",
       " 'PDrive_sigmaSI90_xp': 0.0003360805106340062,\n",
       " 'PDrive_sigmaSI90_yp': 0.0003360846794334435,\n",
       " 'PDrive_emitSI90_x': 2.9422624782676495e-06,\n",
       " 'PDrive_emitSI90_y': 2.3360287193772658e-06,\n",
       " 'PDrive_norm_emit_x': 4.618132606288353e-06,\n",
       " 'PDrive_norm_emit_y': 4.676086403783135e-06,\n",
       " 'PDrive_charge_nC': 1.6000000000000012,\n",
       " 'PDrive_BMAG_x': 103.22869396418936,\n",
       " 'PDrive_BMAG_y': 105.08690149916718,\n",
       " 'PDrive_sliced_BMAG_x': [149.8111570043216,\n",
       "  146.5265602220447,\n",
       "  108.7460045572634,\n",
       "  80.73188546705103,\n",
       "  60.74282353846761],\n",
       " 'PDrive_sliced_BMAG_y': [149.1178587119778,\n",
       "  150.11192463216494,\n",
       "  113.56101448713696,\n",
       "  84.03990808725875,\n",
       "  62.463480087798295]}"
      ]
     },
     "execution_count": 6,
     "metadata": {},
     "output_type": "execute_result"
    }
   ],
   "source": [
    "getBeamSpecs(PInit, targetTwiss = [0.5, 0, 0.5, 0])"
   ]
  },
  {
   "cell_type": "code",
   "execution_count": null,
   "id": "99cd1b60-953d-4005-8a68-315e9c613dcb",
   "metadata": {},
   "outputs": [],
   "source": []
  },
  {
   "cell_type": "code",
   "execution_count": null,
   "id": "bdc95e96-145a-421c-a60b-b2c1bca86cfc",
   "metadata": {},
   "outputs": [],
   "source": []
  }
 ],
 "metadata": {
  "kernelspec": {
   "display_name": "Python 3 (ipykernel)",
   "language": "python",
   "name": "python3"
  },
  "language_info": {
   "codemirror_mode": {
    "name": "ipython",
    "version": 3
   },
   "file_extension": ".py",
   "mimetype": "text/x-python",
   "name": "python",
   "nbconvert_exporter": "python",
   "pygments_lexer": "ipython3",
   "version": "3.11.8"
  }
 },
 "nbformat": 4,
 "nbformat_minor": 5
}
