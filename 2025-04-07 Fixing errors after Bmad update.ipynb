{
 "cells": [
  {
   "cell_type": "code",
   "execution_count": 1,
   "id": "1af760ae-fef1-46d1-999b-3a607497f561",
   "metadata": {},
   "outputs": [],
   "source": [
    "from UTILITY_quickstart import *"
   ]
  },
  {
   "cell_type": "code",
   "execution_count": 2,
   "id": "46a5e53c-c248-420b-89db-7fd03d0890ef",
   "metadata": {},
   "outputs": [
    {
     "name": "stdout",
     "output_type": "stream",
     "text": [
      "Environment set to:  /Users/nmajik/Documents/SLAC/FACET2-Bmad-PyTao\n",
      "Tracking to end\n",
      "CSR off\n",
      "Overwriting lattice with setLattice() defaults\n",
      "No defaults file provided to setLattice(). Using setLattice_configs/defaults.yml\n",
      "Number of macro particles = 10000.0\n",
      "Beam created, written to /tmp/beams/activeBeamFile_7747099103310555256.h5, and reinit to tao\n"
     ]
    }
   ],
   "source": [
    "\n",
    "importedDefaultSettings = loadConfig(\"setLattice_configs/2024-10-22_oneBunch.yml\")\n",
    "\n",
    "csrTF = False\n",
    "evalElement = \"PENT\"\n",
    "\n",
    "\n",
    "\n",
    "inputBeamFilePathSuffix = importedDefaultSettings[\"inputBeamFilePathSuffix\"]\n",
    "bunchCount = importedDefaultSettings[\"bunchCount\"]\n",
    "tao = initializeTao(\n",
    "    #inputBeamFilePathSuffix = '/beams/nmmToL0AFEND_2bunch_2024-02-16Clean/2024-02-16_2bunch_1e5Downsample_nudgeWeights.h5',\n",
    "    inputBeamFilePathSuffix = inputBeamFilePathSuffix,\n",
    "    \n",
    "    csrTF = csrTF,\n",
    "    numMacroParticles=1e4,\n",
    "    scratchPath = \"/tmp\",\n",
    "    randomizeFileNames = True\n",
    ")\n"
   ]
  },
  {
   "cell_type": "code",
   "execution_count": 3,
   "id": "7b0cbbca-514e-4695-8676-92cb1ec2ed05",
   "metadata": {},
   "outputs": [],
   "source": [
    "setLattice(tao, **importedDefaultSettings)"
   ]
  },
  {
   "cell_type": "code",
   "execution_count": 4,
   "id": "4672481a-e609-4f88-8af2-624c179d0f44",
   "metadata": {},
   "outputs": [
    {
     "name": "stdout",
     "output_type": "stream",
     "text": [
      "Beam tracking failed. Resetting track_type = single\n"
     ]
    },
    {
     "ename": "RuntimeError",
     "evalue": "Command: set global track_type = beam causes error: ERROR detected: [ERROR | 2025-APR-07 09:35:54] hdf5_attribute_info:\n    ATTRIBUTE IS NOT PRESENT: numParticles\n[ERROR | 2025-APR-07 09:35:54] hdf5_read_attribute_int_rank1:\n    ATTRIBUTE IS NOT OF INTEGER TYPE: numParticles\n[ABORT | 2025-APR-07 09:35:54] init_beam_distribution:\n    PROBLEM READING BEAM POSITION FILE: \"/tmp/beams/activeBeamFile_7747099103310555256.h5\"\n[ERROR | 2025-APR-07 09:35:54] tao_inject_beam:\n    BEAM_INIT INITIAL BEAM PROPERTIES NOT PROPERLY SET FOR UNIVERSE: 1",
     "output_type": "error",
     "traceback": [
      "\u001b[31m---------------------------------------------------------------------------\u001b[39m",
      "\u001b[31mRuntimeError\u001b[39m                              Traceback (most recent call last)",
      "\u001b[36mCell\u001b[39m\u001b[36m \u001b[39m\u001b[32mIn[4]\u001b[39m\u001b[32m, line 1\u001b[39m\n\u001b[32m----> \u001b[39m\u001b[32m1\u001b[39m \u001b[43mtrackBeam\u001b[49m\u001b[43m(\u001b[49m\u001b[43mtao\u001b[49m\u001b[43m,\u001b[49m\u001b[43m \u001b[49m\u001b[43m*\u001b[49m\u001b[43m*\u001b[49m\u001b[43mimportedDefaultSettings\u001b[49m\u001b[43m)\u001b[49m\n",
      "\u001b[36mFile \u001b[39m\u001b[32m~/Documents/SLAC/FACET2-Bmad-PyTao/UTILITY_quickstart.py:264\u001b[39m, in \u001b[36mtrackBeam\u001b[39m\u001b[34m(tao, trackStart, trackEnd, laserHeater, centerBC14, assertBC14Energy, centerBC20, assertBC20Energy, allCollimatorRules, centerMFFF, verbose, **kwargs)\u001b[39m\n\u001b[32m    261\u001b[39m \u001b[38;5;28;01mif\u001b[39;00m verbose: \u001b[38;5;28mprint\u001b[39m(\u001b[33mf\u001b[39m\u001b[33m\"\u001b[39m\u001b[33mSet track_end = BEGBC14_1\u001b[39m\u001b[33m\"\u001b[39m)\n\u001b[32m    263\u001b[39m \u001b[38;5;28;01mif\u001b[39;00m verbose: \u001b[38;5;28mprint\u001b[39m(\u001b[33mf\u001b[39m\u001b[33m\"\u001b[39m\u001b[33mTracking!\u001b[39m\u001b[33m\"\u001b[39m)\n\u001b[32m--> \u001b[39m\u001b[32m264\u001b[39m \u001b[43mtrackBeamHelper\u001b[49m\u001b[43m(\u001b[49m\u001b[43mtao\u001b[49m\u001b[43m)\u001b[49m\n\u001b[32m    266\u001b[39m P = getBeamAtElement(tao, \u001b[33m\"\u001b[39m\u001b[33mBEGBC14_1\u001b[39m\u001b[33m\"\u001b[39m, tToZ = \u001b[38;5;28;01mFalse\u001b[39;00m)\n\u001b[32m    268\u001b[39m \u001b[38;5;28;01mif\u001b[39;00m assertBC14Energy:\n",
      "\u001b[36mFile \u001b[39m\u001b[32m~/Documents/SLAC/FACET2-Bmad-PyTao/UTILITY_quickstart.py:379\u001b[39m, in \u001b[36mtrackBeamHelper\u001b[39m\u001b[34m(tao)\u001b[39m\n\u001b[32m    377\u001b[39m \u001b[38;5;250m\u001b[39m\u001b[33;03m\"\"\"Wrap some of the tao commands with a try/except. This way if tracking doesn't work, we failsafe to track_type = single\"\"\"\u001b[39;00m\n\u001b[32m    378\u001b[39m \u001b[38;5;28;01mtry\u001b[39;00m:\n\u001b[32m--> \u001b[39m\u001b[32m379\u001b[39m     \u001b[43mtao\u001b[49m\u001b[43m.\u001b[49m\u001b[43mcmd\u001b[49m\u001b[43m(\u001b[49m\u001b[33;43m'\u001b[39;49m\u001b[33;43mset global track_type = beam\u001b[39;49m\u001b[33;43m'\u001b[39;49m\u001b[43m)\u001b[49m \u001b[38;5;66;03m#set \"track_type = single\" to return to single particle\u001b[39;00m\n\u001b[32m    380\u001b[39m \u001b[38;5;28;01mexcept\u001b[39;00m:\n\u001b[32m    381\u001b[39m     \u001b[38;5;28mprint\u001b[39m(\u001b[33m\"\u001b[39m\u001b[33mBeam tracking failed. Resetting track_type = single\u001b[39m\u001b[33m\"\u001b[39m)\n",
      "\u001b[36mFile \u001b[39m\u001b[32m/opt/homebrew/anaconda3/envs/bmad/lib/python3.11/site-packages/pytao/tao_ctypes/core.py:157\u001b[39m, in \u001b[36mTao.cmd\u001b[39m\u001b[34m(self, cmd, raises)\u001b[39m\n\u001b[32m    155\u001b[39m err = error_in_lines(lines)\n\u001b[32m    156\u001b[39m \u001b[38;5;28;01mif\u001b[39;00m err:\n\u001b[32m--> \u001b[39m\u001b[32m157\u001b[39m     \u001b[38;5;28;01mraise\u001b[39;00m \u001b[38;5;167;01mRuntimeError\u001b[39;00m(\u001b[33mf\u001b[39m\u001b[33m'\u001b[39m\u001b[33mCommand: \u001b[39m\u001b[38;5;132;01m{\u001b[39;00mcmd\u001b[38;5;132;01m}\u001b[39;00m\u001b[33m causes error: \u001b[39m\u001b[38;5;132;01m{\u001b[39;00merr\u001b[38;5;132;01m}\u001b[39;00m\u001b[33m'\u001b[39m)\n\u001b[32m    159\u001b[39m \u001b[38;5;28;01mreturn\u001b[39;00m lines\n",
      "\u001b[31mRuntimeError\u001b[39m: Command: set global track_type = beam causes error: ERROR detected: [ERROR | 2025-APR-07 09:35:54] hdf5_attribute_info:\n    ATTRIBUTE IS NOT PRESENT: numParticles\n[ERROR | 2025-APR-07 09:35:54] hdf5_read_attribute_int_rank1:\n    ATTRIBUTE IS NOT OF INTEGER TYPE: numParticles\n[ABORT | 2025-APR-07 09:35:54] init_beam_distribution:\n    PROBLEM READING BEAM POSITION FILE: \"/tmp/beams/activeBeamFile_7747099103310555256.h5\"\n[ERROR | 2025-APR-07 09:35:54] tao_inject_beam:\n    BEAM_INIT INITIAL BEAM PROPERTIES NOT PROPERLY SET FOR UNIVERSE: 1"
     ]
    }
   ],
   "source": [
    "trackBeam(tao, **importedDefaultSettings)"
   ]
  },
  {
   "cell_type": "code",
   "execution_count": 6,
   "id": "1bf8d661-ab2a-4e68-bd8f-d5cbf43dfc3a",
   "metadata": {},
   "outputs": [
    {
     "data": {
      "text/plain": [
       "\u001b[31mSignature:\u001b[39m ParticleGroup.write(self, h5, name=\u001b[38;5;28;01mNone\u001b[39;00m)\n",
       "\u001b[31mDocstring:\u001b[39m Writes to an open h5 handle, or new file if h5 is a str.\n",
       "\u001b[31mFile:\u001b[39m      /opt/homebrew/anaconda3/envs/bmad/lib/python3.11/site-packages/pmd_beamphysics/particles.py\n",
       "\u001b[31mType:\u001b[39m      function"
      ]
     },
     "metadata": {},
     "output_type": "display_data"
    }
   ],
   "source": [
    "?ParticleGroup.write"
   ]
  },
  {
   "cell_type": "code",
   "execution_count": 7,
   "id": "cc053bbe-a6f6-45d5-a93f-0e83222c27d2",
   "metadata": {},
   "outputs": [],
   "source": [
    "PImport = ParticleGroup(\"/tmp/beams/activeBeamFile_7747099103310555256.h5\")"
   ]
  },
  {
   "cell_type": "code",
   "execution_count": 10,
   "id": "88e9a0a3-f989-4c26-bb1b-514aa186d477",
   "metadata": {},
   "outputs": [
    {
     "name": "stdout",
     "output_type": "stream",
     "text": [
      "['basePath', 'dataType', 'openPMD', 'openPMDextension', 'particlesPath']\n",
      "None\n",
      "<class 'NoneType'>\n"
     ]
    }
   ],
   "source": [
    "import h5py\n",
    "f = h5py.File(\"/tmp/beams/activeBeamFile_8027558990222638722.h5\", 'r')\n",
    "print(list(f.attrs.keys()))\n",
    "print(f.attrs.get('numParticles'))\n",
    "print(type(f.attrs.get('numParticles')))"
   ]
  },
  {
   "cell_type": "code",
   "execution_count": null,
   "id": "835350e7-acb6-4c88-979b-e45194eff58f",
   "metadata": {},
   "outputs": [],
   "source": [
    "with h5py.File(\"mybeam.h5\", \"w\") as f:\n",
    "    f.attrs[\"numParticles\"] = int(num_particles)\n",
    "    # other writes here...\n"
   ]
  }
 ],
 "metadata": {
  "kernelspec": {
   "display_name": "Python 3 (ipykernel)",
   "language": "python",
   "name": "python3"
  },
  "language_info": {
   "codemirror_mode": {
    "name": "ipython",
    "version": 3
   },
   "file_extension": ".py",
   "mimetype": "text/x-python",
   "name": "python",
   "nbconvert_exporter": "python",
   "pygments_lexer": "ipython3",
   "version": "3.11.8"
  }
 },
 "nbformat": 4,
 "nbformat_minor": 5
}
