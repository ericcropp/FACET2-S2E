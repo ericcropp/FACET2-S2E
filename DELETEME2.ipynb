{
 "cells": [
  {
   "cell_type": "code",
   "execution_count": 1,
   "id": "82d5117c-1d6d-4e60-a7e5-a475140afa39",
   "metadata": {},
   "outputs": [],
   "source": [
    "from UTILITY_quickstart import *\n",
    "\n",
    "importedDefaultSettings = loadConfig(\"setLattice_configs/2024-10-22_oneBunch_baseline.yml\")"
   ]
  },
  {
   "cell_type": "code",
   "execution_count": 2,
   "id": "c3a41b36-664f-4fbd-9526-776ca50321c7",
   "metadata": {},
   "outputs": [
    {
     "name": "stdout",
     "output_type": "stream",
     "text": [
      "Environment set to:  /Users/nmajik/Documents/SLAC/FACET2-Bmad-PyTao\n",
      "Tracking to end\n",
      "CSR on\n",
      "Overwriting lattice with setLattice() defaults\n",
      "No defaults file provided to setLattice(). Using setLattice_configs/defaults.yml\n",
      "Number of macro particles = 100000.0\n",
      "Beam created, written to /tmp/beams/activeBeamFile_1994845619103423095.h5, and reinit to tao\n",
      "No evalElement provided. Assuming golden lattice PR10571\n",
      "Optimization Results:\n",
      "Optimal Parameters: [28.77872199 13.3970811  23.51278494 16.8307956 ]\n",
      "Objective Function Value at Optimal Parameters: 9.505958617749993e-12\n",
      "Number of Iterations: 260\n",
      "Converged: True\n"
     ]
    }
   ],
   "source": [
    "csrTF = True\n",
    "\n",
    "\n",
    "bunchCount = importedDefaultSettings[\"bunchCount\"]\n",
    "\n",
    "tao = initializeTao(\n",
    "    inputBeamFilePathSuffix = importedDefaultSettings[\"inputBeamFilePathSuffix\"],\n",
    "    \n",
    "    csrTF = csrTF,\n",
    "    numMacroParticles=1e5,\n",
    "    scratchPath = \"/tmp\",\n",
    "    randomizeFileNames = True\n",
    ")\n",
    "\n",
    "setLattice(tao, **importedDefaultSettings)\n",
    "\n",
    "\n",
    "\n",
    "launchTwissCorrection(tao)\n",
    "\n",
    "\n",
    "# tao.cmd(f\"set element beginning beta_a = {101}\")\n",
    "# tao.cmd(f\"set element beginning alpha_a = {-26.1}\")\n",
    "# tao.cmd(f\"set element beginning beta_b = {101}\")\n",
    "# tao.cmd(f\"set element beginning alpha_b = {-26.1}\")\n",
    "\n",
    "\n",
    "trackBeam(tao, trackEnd = \"PR10571\", **importedDefaultSettings)"
   ]
  },
  {
   "cell_type": "code",
   "execution_count": 3,
   "id": "171a4459-8a1e-43c7-b588-849e325f7eb6",
   "metadata": {},
   "outputs": [],
   "source": [
    "P = getBeamAtElement(tao, \"L0AFEND\")"
   ]
  },
  {
   "cell_type": "code",
   "execution_count": 4,
   "id": "39241232-2526-4956-8996-9efcb3ae7b7e",
   "metadata": {},
   "outputs": [
    {
     "data": {
      "text/plain": [
       "{'alpha_x': -26.131068674797646,\n",
       " 'beta_x': 101.33688814956383,\n",
       " 'gamma_x': 6.748112780784399,\n",
       " 'emit_x': 1.2586030122289853e-08,\n",
       " 'eta_x': -6.645685478236424e-05,\n",
       " 'etap_x': -1.776021182368519e-05,\n",
       " 'norm_emit_x': 1.6901761675088764e-06}"
      ]
     },
     "execution_count": 4,
     "metadata": {},
     "output_type": "execute_result"
    }
   ],
   "source": [
    "P.twiss(plane = 'x', fraction = 0.9)"
   ]
  },
  {
   "cell_type": "code",
   "execution_count": 5,
   "id": "b12ab994-c718-4107-91db-5c57960c179f",
   "metadata": {},
   "outputs": [
    {
     "data": {
      "text/plain": [
       "{'alpha_y': -26.14470931902942,\n",
       " 'beta_y': 101.40193454305636,\n",
       " 'gamma_y': 6.7508162291112725,\n",
       " 'emit_y': 1.2592056701012996e-08,\n",
       " 'eta_y': 0.00012309223733528559,\n",
       " 'etap_y': 2.9998134261575178e-05,\n",
       " 'norm_emit_y': 1.6909900366545903e-06}"
      ]
     },
     "execution_count": 5,
     "metadata": {},
     "output_type": "execute_result"
    }
   ],
   "source": [
    "P.twiss(plane = 'y', fraction = 0.9)"
   ]
  },
  {
   "cell_type": "code",
   "execution_count": 6,
   "id": "63d9403b-04fe-47b2-8a40-4c2d81e17a27",
   "metadata": {},
   "outputs": [
    {
     "data": {
      "text/plain": [
       "'/beams/2024-10-22_Impact_OneBunch/2024-10-22_oneBunch.h5'"
      ]
     },
     "execution_count": 6,
     "metadata": {},
     "output_type": "execute_result"
    }
   ],
   "source": [
    "importedDefaultSettings[\"inputBeamFilePathSuffix\"]"
   ]
  },
  {
   "cell_type": "code",
   "execution_count": 7,
   "id": "0b6ee3c6-c0e3-4341-9731-b66ce22a4b4c",
   "metadata": {},
   "outputs": [],
   "source": [
    "P = ParticleGroup(\"./beams/2024-10-22_Impact_OneBunch/2024-10-22_oneBunch.h5\")"
   ]
  },
  {
   "cell_type": "code",
   "execution_count": 8,
   "id": "31c7543e-8f7e-4974-92bd-6ce5e20240ac",
   "metadata": {},
   "outputs": [
    {
     "data": {
      "text/plain": [
       "{'alpha_x': -26.131068674797646,\n",
       " 'beta_x': 101.33688814956383,\n",
       " 'gamma_x': 6.748112780784399,\n",
       " 'emit_x': 1.2586030122289853e-08,\n",
       " 'eta_x': -6.645685478237736e-05,\n",
       " 'etap_x': -1.7760211823688302e-05,\n",
       " 'norm_emit_x': 1.6901761675088764e-06}"
      ]
     },
     "execution_count": 8,
     "metadata": {},
     "output_type": "execute_result"
    }
   ],
   "source": [
    "P.twiss(plane = 'x', fraction = 0.9)"
   ]
  },
  {
   "cell_type": "code",
   "execution_count": 9,
   "id": "02801ad5-7e5a-474f-b12d-d596a2eb9e42",
   "metadata": {},
   "outputs": [
    {
     "data": {
      "text/plain": [
       "{'alpha_y': -26.14470931902942,\n",
       " 'beta_y': 101.40193454305636,\n",
       " 'gamma_y': 6.7508162291112725,\n",
       " 'emit_y': 1.2592056701012996e-08,\n",
       " 'eta_y': 0.00012309223733529496,\n",
       " 'etap_y': 2.999813426157727e-05,\n",
       " 'norm_emit_y': 1.6909900366545903e-06}"
      ]
     },
     "execution_count": 9,
     "metadata": {},
     "output_type": "execute_result"
    }
   ],
   "source": [
    "P.twiss(plane = 'y', fraction = 0.9)"
   ]
  },
  {
   "cell_type": "code",
   "execution_count": 10,
   "id": "ea3c07b8-fb7e-45a9-9fd2-146e217577fb",
   "metadata": {},
   "outputs": [
    {
     "data": {
      "image/png": "[encoded data removed]",
      "text/plain": [
       "<Figure size 640x480 with 3 Axes>"
      ]
     },
     "metadata": {},
     "output_type": "display_data"
    },
    {
     "data": {
      "text/plain": [
       "<Figure size 640x480 with 0 Axes>"
      ]
     },
     "metadata": {},
     "output_type": "display_data"
    }
   ],
   "source": [
    "display(plotMod(P, 'x', 'xp', bins=300))\n",
    "plt.clf()"
   ]
  },
  {
   "cell_type": "code",
   "execution_count": 11,
   "id": "6d2eed98-f34c-4f07-bfbf-2225b4d90857",
   "metadata": {},
   "outputs": [
    {
     "data": {
      "text/plain": [
       "0.0014195012801092883"
      ]
     },
     "execution_count": 11,
     "metadata": {},
     "output_type": "execute_result"
    }
   ],
   "source": [
    "np.std(P.x)"
   ]
  },
  {
   "cell_type": "code",
   "execution_count": 12,
   "id": "1239d9ee-cd95-4c23-adb5-cfe616638908",
   "metadata": {},
   "outputs": [
    {
     "data": {
      "text/plain": [
       "0.0012849029116952313"
      ]
     },
     "execution_count": 12,
     "metadata": {},
     "output_type": "execute_result"
    }
   ],
   "source": [
    "smallestIntervalImpliedSigma(P.x)"
   ]
  },
  {
   "cell_type": "code",
   "execution_count": 13,
   "id": "12e18094-00eb-4889-9dda-f05c70e1ae94",
   "metadata": {},
   "outputs": [
    {
     "data": {
      "text/plain": [
       "0.0011297113802282825"
      ]
     },
     "execution_count": 13,
     "metadata": {},
     "output_type": "execute_result"
    }
   ],
   "source": [
    "np.sqrt( 101.40193454305 * 1.2586030122289853e-08 )"
   ]
  },
  {
   "cell_type": "code",
   "execution_count": 14,
   "id": "61ac2745-ee17-41aa-8c1e-400d7a98d1d3",
   "metadata": {},
   "outputs": [],
   "source": [
    "P = getBeamAtElement(tao, \"PR10571\")"
   ]
  },
  {
   "cell_type": "code",
   "execution_count": 15,
   "id": "d0d2a75f-12ef-4a75-9dd6-ab50b5f5182d",
   "metadata": {},
   "outputs": [
    {
     "data": {
      "text/plain": [
       "{'alpha_x': -1.8303551195049277,\n",
       " 'beta_x': 5.135762091658319,\n",
       " 'gamma_x': 0.8470407674381261,\n",
       " 'emit_x': 9.654419944672309e-09,\n",
       " 'eta_x': 0.00010538848196435952,\n",
       " 'etap_x': 6.516956011595832e-05,\n",
       " 'norm_emit_x': 2.3261956748799953e-06}"
      ]
     },
     "execution_count": 15,
     "metadata": {},
     "output_type": "execute_result"
    }
   ],
   "source": [
    "P.twiss(plane = 'x', fraction = 0.9)"
   ]
  },
  {
   "cell_type": "code",
   "execution_count": 16,
   "id": "e028837d-002f-4fd6-be17-d4c262299e09",
   "metadata": {},
   "outputs": [
    {
     "data": {
      "text/plain": [
       "{'alpha_y': -0.0718375960842645,\n",
       " 'beta_y': 2.3837886704343294,\n",
       " 'gamma_y': 0.4216651638117,\n",
       " 'emit_y': 7.052612157844399e-09,\n",
       " 'eta_y': 0.00025137310291900784,\n",
       " 'etap_y': 5.828623566879295e-06,\n",
       " 'norm_emit_y': 1.6992809569582388e-06}"
      ]
     },
     "execution_count": 16,
     "metadata": {},
     "output_type": "execute_result"
    }
   ],
   "source": [
    "P.twiss(plane = 'y', fraction = 0.9)"
   ]
  },
  {
   "cell_type": "code",
   "execution_count": 17,
   "id": "ee1a160c-e41c-407e-b4eb-02cb415386c8",
   "metadata": {},
   "outputs": [
    {
     "data": {
      "text/plain": [
       "{'mode_flip': False,\n",
       " 'beta_a': 5.73666587363594,\n",
       " 'alpha_a': -2.14411370059491,\n",
       " 'gamma_a': 0.975692795148139,\n",
       " 'phi_a': 7.31755473282922,\n",
       " 'eta_a': 4.44208173883061e-18,\n",
       " 'etap_a': 2.39353339300433e-17,\n",
       " 'beta_b': 2.57530149300807,\n",
       " 'alpha_b': 0.0101610332245751,\n",
       " 'gamma_b': 0.388344141185592,\n",
       " 'phi_b': 8.22732446153028,\n",
       " 'eta_b': -6.54597950722192e-37,\n",
       " 'etap_b': -8.75519654512594e-38,\n",
       " 'eta_x': 4.44208173883061e-18,\n",
       " 'etap_x': 2.39353339300433e-17,\n",
       " 'eta_y': -7.71096119937701e-37,\n",
       " 'etap_y': 9.21848220971573e-38}"
      ]
     },
     "execution_count": 17,
     "metadata": {},
     "output_type": "execute_result"
    }
   ],
   "source": [
    "tao.ele_twiss(\"PR10571\")"
   ]
  },
  {
   "cell_type": "code",
   "execution_count": null,
   "id": "ade5adfd-0ccc-4030-88ac-33e9d42eba5b",
   "metadata": {},
   "outputs": [],
   "source": []
  }
 ],
 "metadata": {
  "kernelspec": {
   "display_name": "Python 3 (ipykernel)",
   "language": "python",
   "name": "python3"
  },
  "language_info": {
   "codemirror_mode": {
    "name": "ipython",
    "version": 3
   },
   "file_extension": ".py",
   "mimetype": "text/x-python",
   "name": "python",
   "nbconvert_exporter": "python",
   "pygments_lexer": "ipython3",
   "version": "3.11.8"
  }
 },
 "nbformat": 4,
 "nbformat_minor": 5
}
