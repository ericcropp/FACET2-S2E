{
 "cells": [
  {
   "cell_type": "code",
   "execution_count": 1,
   "id": "db12c9b3-f2b1-43e7-9623-fd85eba370aa",
   "metadata": {},
   "outputs": [],
   "source": [
    "from pmd_beamphysics import ParticleGroup\n",
    "from pmd_beamphysics.statistics import resample_particles"
   ]
  },
  {
   "cell_type": "code",
   "execution_count": 2,
   "id": "f9c42ffd-6c3e-49e4-9cea-fcac653cfd26",
   "metadata": {},
   "outputs": [],
   "source": [
    "\n",
    "P = ParticleGroup('/home/fphysics/majernik/slacsyncgit/bmadExample/bmad/beams/nmmToL0AFEND_2bunch_2024-02-16Clean/2024-02-16_2bunch.h5')\n",
    "\n",
    "# === For original example beam ===\n",
    "#P.data.update(resample_particles(P, n=numMacroParticles))"
   ]
  },
  {
   "cell_type": "code",
   "execution_count": 3,
   "id": "a1272702-ff08-4b27-a21f-bbee36491f79",
   "metadata": {},
   "outputs": [
    {
     "data": {
      "text/plain": [
       "<ParticleGroup with 3996532 particles at 0x1360cbcd0>"
      ]
     },
     "execution_count": 3,
     "metadata": {},
     "output_type": "execute_result"
    }
   ],
   "source": [
    "P"
   ]
  },
  {
   "cell_type": "code",
   "execution_count": null,
   "id": "4647f15d-726c-476d-a00c-c00c89fc44a7",
   "metadata": {},
   "outputs": [],
   "source": [
    "P.data.update(resample_particles(P, n=100000))"
   ]
  },
  {
   "cell_type": "code",
   "execution_count": null,
   "id": "80b754b1-4374-4426-a5ef-e59f56fe942b",
   "metadata": {},
   "outputs": [],
   "source": []
  }
 ],
 "metadata": {
  "kernelspec": {
   "display_name": "Python 3 (ipykernel)",
   "language": "python",
   "name": "python3"
  },
  "language_info": {
   "codemirror_mode": {
    "name": "ipython",
    "version": 3
   },
   "file_extension": ".py",
   "mimetype": "text/x-python",
   "name": "python",
   "nbconvert_exporter": "python",
   "pygments_lexer": "ipython3",
   "version": "3.9.18"
  }
 },
 "nbformat": 4,
 "nbformat_minor": 5
}
