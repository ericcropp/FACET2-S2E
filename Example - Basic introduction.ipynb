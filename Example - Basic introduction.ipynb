{
 "cells": [
  {
   "cell_type": "markdown",
   "id": "db8c7a87-ddf1-41bb-b65f-bab25959558d",
   "metadata": {},
   "source": [
    "# Initialization"
   ]
  },
  {
   "cell_type": "code",
   "execution_count": 1,
   "id": "6c7595c3-aa89-43a1-a46b-4501c93a9be5",
   "metadata": {},
   "outputs": [
    {
     "data": {
      "text/plain": [
       "\u001b[31mSignature:\u001b[39m\n",
       "initializeTao(\n",
       "    filePath=\u001b[38;5;28;01mNone\u001b[39;00m,\n",
       "    lastTrackedElement=\u001b[33m'end'\u001b[39m,\n",
       "    csrTF=\u001b[38;5;28;01mFalse\u001b[39;00m,\n",
       "    inputBeamFilePathSuffix=\u001b[38;5;28;01mNone\u001b[39;00m,\n",
       "    numMacroParticles=\u001b[38;5;28;01mNone\u001b[39;00m,\n",
       "    loadDefaultLatticeTF=\u001b[38;5;28;01mTrue\u001b[39;00m,\n",
       "    defaultsFile=\u001b[38;5;28;01mNone\u001b[39;00m,\n",
       "    runImpactTF=\u001b[38;5;28;01mFalse\u001b[39;00m,\n",
       "    scratchPath=\u001b[38;5;28;01mNone\u001b[39;00m,\n",
       "    randomizeFileNames=\u001b[38;5;28;01mFalse\u001b[39;00m,\n",
       "    transverseWakes=\u001b[38;5;28;01mFalse\u001b[39;00m,\n",
       "    **kwargs,\n",
       ")\n",
       "\u001b[31mDocstring:\u001b[39m\n",
       "Initialize a tao object from PyTao\n",
       "\n",
       "Specify the active file path\n",
       "\n",
       "Specify the number of macroparticles\n",
       "\n",
       "Either load a particular lattice or load the golden lattice\n",
       "\n",
       "Have the option to randomize file paths to facilitate parallelization\n",
       "\n",
       "Optionally enable transverse wakefields\n",
       "\u001b[31mFile:\u001b[39m      ~/Documents/SLAC/FACET2-S2E/UTILITY_quickstart.py\n",
       "\u001b[31mType:\u001b[39m      function"
      ]
     },
     "metadata": {},
     "output_type": "display_data"
    }
   ],
   "source": [
    "#Import all the UTILITY functions\n",
    "from UTILITY_quickstart import *\n",
    "\n",
    "#Look at the signature and documentation for initializeTao()\n",
    "?initializeTao"
   ]
  },
  {
   "cell_type": "code",
   "execution_count": 2,
   "id": "a3fd8263-59c9-474c-921b-ff3cfafb8992",
   "metadata": {},
   "outputs": [
    {
     "name": "stdout",
     "output_type": "stream",
     "text": [
      "Environment set to:  /Users/nmajik/Documents/SLAC/FACET2-S2E\n",
      "Tracking to end\n",
      "CSR off\n",
      "Overwriting lattice with setLattice() defaults\n",
      "No defaults file provided to setLattice(). Using /Users/nmajik/Documents/SLAC/FACET2-S2E/setLattice_configs/defaults.yml\n",
      "Number of macro particles = 10000.0\n",
      "Beam created, written to /Users/nmajik/Documents/SLAC/FACET2-S2E/beams/activeBeamFile.h5, and reinit to tao\n"
     ]
    }
   ],
   "source": [
    "#Load a default configuration\n",
    "importedDefaultSettings = loadConfig(\"setLattice_configs/2024-10-22_oneBunch_baseline.yml\")\n",
    "\n",
    "#Initialize tao object\n",
    "tao = initializeTao(\n",
    "    inputBeamFilePathSuffix = importedDefaultSettings[\"inputBeamFilePathSuffix\"],\n",
    "    numMacroParticles = 1e4,\n",
    "    csrTF = False\n",
    ")\n",
    "\n",
    "#Set lattice to the loaded config\n",
    "setLattice(tao, **importedDefaultSettings)"
   ]
  },
  {
   "cell_type": "markdown",
   "id": "47863239-8732-483f-b858-c9a969834465",
   "metadata": {},
   "source": [
    "# Track beam"
   ]
  },
  {
   "cell_type": "code",
   "execution_count": 5,
   "id": "02584d49-f98f-4ed7-a4a3-c6366b06d1f9",
   "metadata": {},
   "outputs": [
    {
     "name": "stdout",
     "output_type": "stream",
     "text": [
      "Loaded /Users/nmajik/Documents/SLAC/FACET2-S2E/beams/activeBeamFile.h5\n",
      "Set track_start = L0AFEND, track_end = BEGBC20\n",
      "Set track_end = BEGBC14_1\n",
      "Tracking!\n",
      "Working on file: /Users/nmajik/Documents/SLAC/FACET2-S2E/beams/patchBeamFile.h5\n",
      "['/', '/particles', '/particles/electron', '/particles/electron/momentum', '/particles/electron/momentum/x', '/particles/electron/momentum/y', '/particles/electron/momentum/z', '/particles/electron/particleStatus', '/particles/electron/position', '/particles/electron/position/x', '/particles/electron/position/y', '/particles/electron/position/z', '/particles/electron/time', '/particles/electron/weight']\n",
      "[1.30573547e-06 1.30573366e-06 1.30573472e-06 ... 1.30573377e-06\n",
      " 1.30573452e-06 1.30573397e-06]\n",
      "Beam centered at BEGBC14 written to /Users/nmajik/Documents/SLAC/FACET2-S2E/beams/patchBeamFile.h5\n",
      "Loaded /Users/nmajik/Documents/SLAC/FACET2-S2E/beams/patchBeamFile.h5\n",
      "Set track_start = BEGBC14_1, track_end = BEGBC20\n",
      "Tracking!\n",
      "trackBeam() exiting\n"
     ]
    }
   ],
   "source": [
    "#Track the beam from start to end\n",
    "trackBeam(tao, **importedDefaultSettings, verbose = True)"
   ]
  },
  {
   "cell_type": "code",
   "execution_count": null,
   "id": "195ae72e-846c-41db-8560-e15a5a1613d5",
   "metadata": {},
   "outputs": [],
   "source": [
    "#Get the beam at element \"DTOTR\"\n",
    "P =  getBeamAtElement(tao, \"DTOTR\")\n",
    "\n",
    "#Plot the x-y projection of the beam at that location\n",
    "display(plotMod(P, 'x', 'y',  bins=200));\n",
    "plt.clf()\n",
    "\n",
    "print(P)"
   ]
  },
  {
   "cell_type": "markdown",
   "id": "45c0da16-c1a5-4ffb-9182-bff17dc4e4ed",
   "metadata": {},
   "source": [
    "# Change a quad setting and retrack"
   ]
  },
  {
   "cell_type": "code",
   "execution_count": null,
   "id": "3ee028a3-4e6c-48f5-8501-cf499b37c7af",
   "metadata": {},
   "outputs": [],
   "source": [
    "#Set the strength of a final focus quad named Q0FF to zero kilogauss \n",
    "setQuadkG(tao, \"Q0FF\", 0)\n",
    "\n",
    "#Track the beam through the now modified lattice\n",
    "trackBeam(tao, **importedDefaultSettings)"
   ]
  },
  {
   "cell_type": "code",
   "execution_count": null,
   "id": "fcf0ef7f-edd4-4892-a324-271b1d609a45",
   "metadata": {},
   "outputs": [],
   "source": [
    "P =  getBeamAtElement(tao, \"DTOTR\")\n",
    "\n",
    "display(plotMod(P, 'x', 'y',  bins=200));"
   ]
  },
  {
   "cell_type": "code",
   "execution_count": null,
   "id": "09d34b5e-04ae-4093-a1c7-d6cbac254454",
   "metadata": {},
   "outputs": [],
   "source": [
    "#Get the beam at the element MFFF, at the exit of BC20\n",
    "P =  getBeamAtElement(tao,\"MFFF\")\n",
    "\n",
    "#Plot the longitudinal phase space\n",
    "display(plotMod(P, 'delta_t', 'pz',  bins=200));"
   ]
  },
  {
   "cell_type": "markdown",
   "id": "cc4924b8-59a5-4943-8be1-4cc618f3a0a0",
   "metadata": {},
   "source": [
    "# Change L2 phase and retrack"
   ]
  },
  {
   "cell_type": "code",
   "execution_count": null,
   "id": "e1f57794-d5da-4b4e-bfba-5dee84e7f7db",
   "metadata": {},
   "outputs": [],
   "source": [
    "#Change the phase of L2 to -10 degrees\n",
    "setLinacPhase(tao, \"L2\", -10)\n",
    "trackBeam(tao, **importedDefaultSettings)"
   ]
  },
  {
   "cell_type": "code",
   "execution_count": null,
   "id": "46577e0f-a6aa-4347-91bf-027984062ba6",
   "metadata": {},
   "outputs": [],
   "source": [
    "P =  getBeamAtElement(tao, \"MFFF\")\n",
    "\n",
    "\n",
    "display(plotMod(P, 'delta_t', 'pz',  bins=200));\n",
    "plt.clf();"
   ]
  },
  {
   "cell_type": "markdown",
   "id": "6d19c433-f96a-4763-80b0-181dd81e002c",
   "metadata": {},
   "source": [
    "# Example phase scan"
   ]
  },
  {
   "cell_type": "code",
   "execution_count": null,
   "id": "54c93635-a5c5-4c15-a8e1-a916d20b4fa0",
   "metadata": {},
   "outputs": [],
   "source": [
    "#There are more efficient ways to do this, but here's a toy example of doing a phase scan and looking at how it impacts the final beam energy\n",
    "\n",
    "results = {\"phase\": [], \"energy\": []}\n",
    "for L2PhaseSet in np.arange(-40, 10, 5):\n",
    "    setLinacPhase(tao, \"L2\", L2PhaseSet)\n",
    "    trackBeam(tao)\n",
    "    P =  getBeamAtElement(tao, \"MFFF\")\n",
    "    #results.append([L2PhaseSet, P[\"mean_energy\"]])\n",
    "    results[\"phase\"].append(L2PhaseSet)\n",
    "    results[\"energy\"].append(P[\"mean_energy\"])\n",
    "    print([L2PhaseSet, P[\"mean_energy\"]])"
   ]
  },
  {
   "cell_type": "code",
   "execution_count": null,
   "id": "5459ce25-d1ef-41b6-b57e-29e8dd47ee43",
   "metadata": {},
   "outputs": [],
   "source": [
    "plt.scatter(results[\"phase\"], results[\"energy\"])\n",
    "\n",
    "# Adding title and labels\n",
    "plt.title('Scatter Plot of Mean Energy vs L2 Phase Set')\n",
    "plt.xlabel('L2 Phase Set')\n",
    "plt.ylabel('Mean Energy')\n",
    "\n",
    "# Display the plot\n",
    "plt.show()"
   ]
  }
 ],
 "metadata": {
  "kernelspec": {
   "display_name": "Python 3 (ipykernel)",
   "language": "python",
   "name": "python3"
  },
  "language_info": {
   "codemirror_mode": {
    "name": "ipython",
    "version": 3
   },
   "file_extension": ".py",
   "mimetype": "text/x-python",
   "name": "python",
   "nbconvert_exporter": "python",
   "pygments_lexer": "ipython3",
   "version": "3.13.5"
  }
 },
 "nbformat": 4,
 "nbformat_minor": 5
}
