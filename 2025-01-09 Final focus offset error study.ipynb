{
 "cells": [
  {
   "cell_type": "code",
   "execution_count": 1,
   "id": "375a1e2f-07e3-4df8-9e7f-3147475d90ff",
   "metadata": {},
   "outputs": [],
   "source": [
    "from UTILITY_quickstart import *"
   ]
  },
  {
   "cell_type": "code",
   "execution_count": 2,
   "id": "fe9bab62-7a9e-4926-a166-98de5e00f361",
   "metadata": {},
   "outputs": [
    {
     "name": "stdout",
     "output_type": "stream",
     "text": [
      "Environment set to:  /Users/nmajik/Documents/SLAC/FACET2-Bmad-PyTao\n",
      "Tracking to end\n",
      "CSR off\n",
      "Base Tao lattice\n",
      "WARNING! No beam file is specified!\n",
      "Number of macro particles defined by input file\n"
     ]
    }
   ],
   "source": [
    "#Start from golden lattice\n",
    "tao = initializeTao(\n",
    "    loadDefaultLatticeTF = False\n",
    ")"
   ]
  },
  {
   "cell_type": "code",
   "execution_count": 5,
   "id": "1fc67e53-413c-4e42-a519-54bf73987b39",
   "metadata": {},
   "outputs": [
    {
     "data": {
      "text/html": [
       "<style type=\"text/css\">\n",
       "</style>\n",
       "<table id=\"T_30214\">\n",
       "  <thead>\n",
       "  </thead>\n",
       "  <tbody>\n",
       "    <tr>\n",
       "      <td id=\"T_30214_row0_col0\" class=\"data row0 col0\" >-0.000000</td>\n",
       "    </tr>\n",
       "    <tr>\n",
       "      <td id=\"T_30214_row1_col0\" class=\"data row1 col0\" >-0.000000</td>\n",
       "    </tr>\n",
       "    <tr>\n",
       "      <td id=\"T_30214_row2_col0\" class=\"data row2 col0\" >0.000000</td>\n",
       "    </tr>\n",
       "    <tr>\n",
       "      <td id=\"T_30214_row3_col0\" class=\"data row3 col0\" >0.000000</td>\n",
       "    </tr>\n",
       "    <tr>\n",
       "      <td id=\"T_30214_row4_col0\" class=\"data row4 col0\" >0.000000</td>\n",
       "    </tr>\n",
       "    <tr>\n",
       "      <td id=\"T_30214_row5_col0\" class=\"data row5 col0\" >0.000000</td>\n",
       "    </tr>\n",
       "  </tbody>\n",
       "</table>\n"
      ],
      "text/plain": [
       "<pandas.io.formats.style.Styler at 0x162fc10d0>"
      ]
     },
     "metadata": {},
     "output_type": "display_data"
    },
    {
     "data": {
      "text/html": [
       "<style type=\"text/css\">\n",
       "</style>\n",
       "<table id=\"T_4227d\">\n",
       "  <thead>\n",
       "  </thead>\n",
       "  <tbody>\n",
       "    <tr>\n",
       "      <td id=\"T_4227d_row0_col0\" class=\"data row0 col0\" >-0.175418</td>\n",
       "      <td id=\"T_4227d_row0_col1\" class=\"data row0 col1\" >2.346087</td>\n",
       "      <td id=\"T_4227d_row0_col2\" class=\"data row0 col2\" >-0.000000</td>\n",
       "      <td id=\"T_4227d_row0_col3\" class=\"data row0 col3\" >0.000000</td>\n",
       "      <td id=\"T_4227d_row0_col4\" class=\"data row0 col4\" >0.000000</td>\n",
       "      <td id=\"T_4227d_row0_col5\" class=\"data row0 col5\" >0.000000</td>\n",
       "    </tr>\n",
       "    <tr>\n",
       "      <td id=\"T_4227d_row1_col0\" class=\"data row1 col0\" >-0.348031</td>\n",
       "      <td id=\"T_4227d_row1_col1\" class=\"data row1 col1\" >-1.046005</td>\n",
       "      <td id=\"T_4227d_row1_col2\" class=\"data row1 col2\" >-0.000000</td>\n",
       "      <td id=\"T_4227d_row1_col3\" class=\"data row1 col3\" >0.000000</td>\n",
       "      <td id=\"T_4227d_row1_col4\" class=\"data row1 col4\" >0.000000</td>\n",
       "      <td id=\"T_4227d_row1_col5\" class=\"data row1 col5\" >0.000000</td>\n",
       "    </tr>\n",
       "    <tr>\n",
       "      <td id=\"T_4227d_row2_col0\" class=\"data row2 col0\" >0.000000</td>\n",
       "      <td id=\"T_4227d_row2_col1\" class=\"data row2 col1\" >0.000000</td>\n",
       "      <td id=\"T_4227d_row2_col2\" class=\"data row2 col2\" >0.112885</td>\n",
       "      <td id=\"T_4227d_row2_col3\" class=\"data row2 col3\" >-3.011702</td>\n",
       "      <td id=\"T_4227d_row2_col4\" class=\"data row2 col4\" >0.000000</td>\n",
       "      <td id=\"T_4227d_row2_col5\" class=\"data row2 col5\" >-0.000000</td>\n",
       "    </tr>\n",
       "    <tr>\n",
       "      <td id=\"T_4227d_row3_col0\" class=\"data row3 col0\" >0.000000</td>\n",
       "      <td id=\"T_4227d_row3_col1\" class=\"data row3 col1\" >0.000000</td>\n",
       "      <td id=\"T_4227d_row3_col2\" class=\"data row3 col2\" >0.472879</td>\n",
       "      <td id=\"T_4227d_row3_col3\" class=\"data row3 col3\" >-3.757564</td>\n",
       "      <td id=\"T_4227d_row3_col4\" class=\"data row3 col4\" >0.000000</td>\n",
       "      <td id=\"T_4227d_row3_col5\" class=\"data row3 col5\" >-0.000000</td>\n",
       "    </tr>\n",
       "    <tr>\n",
       "      <td id=\"T_4227d_row4_col0\" class=\"data row4 col0\" >-0.000000</td>\n",
       "      <td id=\"T_4227d_row4_col1\" class=\"data row4 col1\" >-0.000000</td>\n",
       "      <td id=\"T_4227d_row4_col2\" class=\"data row4 col2\" >-0.000000</td>\n",
       "      <td id=\"T_4227d_row4_col3\" class=\"data row4 col3\" >0.000000</td>\n",
       "      <td id=\"T_4227d_row4_col4\" class=\"data row4 col4\" >1.000000</td>\n",
       "      <td id=\"T_4227d_row4_col5\" class=\"data row4 col5\" >0.000000</td>\n",
       "    </tr>\n",
       "    <tr>\n",
       "      <td id=\"T_4227d_row5_col0\" class=\"data row5 col0\" >0.000000</td>\n",
       "      <td id=\"T_4227d_row5_col1\" class=\"data row5 col1\" >0.000000</td>\n",
       "      <td id=\"T_4227d_row5_col2\" class=\"data row5 col2\" >0.000000</td>\n",
       "      <td id=\"T_4227d_row5_col3\" class=\"data row5 col3\" >0.000000</td>\n",
       "      <td id=\"T_4227d_row5_col4\" class=\"data row5 col4\" >0.000000</td>\n",
       "      <td id=\"T_4227d_row5_col5\" class=\"data row5 col5\" >1.000000</td>\n",
       "    </tr>\n",
       "  </tbody>\n",
       "</table>\n"
      ],
      "text/plain": [
       "<pandas.io.formats.style.Styler at 0x16b476bd0>"
      ]
     },
     "metadata": {},
     "output_type": "display_data"
    }
   ],
   "source": [
    "getMatrix(tao, \"MFFF\", \"PENT\", order = 0, print = True);\n",
    "getMatrix(tao, \"MFFF\", \"PENT\", order = 1, print = True);"
   ]
  },
  {
   "cell_type": "code",
   "execution_count": 15,
   "id": "59da8bea-ecbb-4abd-afe0-a25559d17de4",
   "metadata": {},
   "outputs": [
    {
     "data": {
      "text/html": [
       "<style type=\"text/css\">\n",
       "</style>\n",
       "<table id=\"T_c87e5\">\n",
       "  <thead>\n",
       "  </thead>\n",
       "  <tbody>\n",
       "    <tr>\n",
       "      <td id=\"T_c87e5_row0_col0\" class=\"data row0 col0\" >-0.000052</td>\n",
       "    </tr>\n",
       "    <tr>\n",
       "      <td id=\"T_c87e5_row1_col0\" class=\"data row1 col0\" >0.000021</td>\n",
       "    </tr>\n",
       "    <tr>\n",
       "      <td id=\"T_c87e5_row2_col0\" class=\"data row2 col0\" >0.000000</td>\n",
       "    </tr>\n",
       "    <tr>\n",
       "      <td id=\"T_c87e5_row3_col0\" class=\"data row3 col0\" >0.000000</td>\n",
       "    </tr>\n",
       "    <tr>\n",
       "      <td id=\"T_c87e5_row4_col0\" class=\"data row4 col0\" >-0.000000</td>\n",
       "    </tr>\n",
       "    <tr>\n",
       "      <td id=\"T_c87e5_row5_col0\" class=\"data row5 col0\" >0.000000</td>\n",
       "    </tr>\n",
       "  </tbody>\n",
       "</table>\n"
      ],
      "text/plain": [
       "<pandas.io.formats.style.Styler at 0x16b477310>"
      ]
     },
     "metadata": {},
     "output_type": "display_data"
    },
    {
     "data": {
      "text/html": [
       "<style type=\"text/css\">\n",
       "</style>\n",
       "<table id=\"T_2e891\">\n",
       "  <thead>\n",
       "  </thead>\n",
       "  <tbody>\n",
       "    <tr>\n",
       "      <td id=\"T_2e891_row0_col0\" class=\"data row0 col0\" >-0.175418</td>\n",
       "      <td id=\"T_2e891_row0_col1\" class=\"data row0 col1\" >2.346087</td>\n",
       "      <td id=\"T_2e891_row0_col2\" class=\"data row0 col2\" >0.000000</td>\n",
       "      <td id=\"T_2e891_row0_col3\" class=\"data row0 col3\" >-0.000000</td>\n",
       "      <td id=\"T_2e891_row0_col4\" class=\"data row0 col4\" >0.000000</td>\n",
       "      <td id=\"T_2e891_row0_col5\" class=\"data row0 col5\" >-0.000257</td>\n",
       "    </tr>\n",
       "    <tr>\n",
       "      <td id=\"T_2e891_row1_col0\" class=\"data row1 col0\" >-0.348031</td>\n",
       "      <td id=\"T_2e891_row1_col1\" class=\"data row1 col1\" >-1.046005</td>\n",
       "      <td id=\"T_2e891_row1_col2\" class=\"data row1 col2\" >0.000000</td>\n",
       "      <td id=\"T_2e891_row1_col3\" class=\"data row1 col3\" >-0.000000</td>\n",
       "      <td id=\"T_2e891_row1_col4\" class=\"data row1 col4\" >0.000000</td>\n",
       "      <td id=\"T_2e891_row1_col5\" class=\"data row1 col5\" >-0.000023</td>\n",
       "    </tr>\n",
       "    <tr>\n",
       "      <td id=\"T_2e891_row2_col0\" class=\"data row2 col0\" >-0.000000</td>\n",
       "      <td id=\"T_2e891_row2_col1\" class=\"data row2 col1\" >-0.000000</td>\n",
       "      <td id=\"T_2e891_row2_col2\" class=\"data row2 col2\" >0.112885</td>\n",
       "      <td id=\"T_2e891_row2_col3\" class=\"data row2 col3\" >-3.011702</td>\n",
       "      <td id=\"T_2e891_row2_col4\" class=\"data row2 col4\" >0.000000</td>\n",
       "      <td id=\"T_2e891_row2_col5\" class=\"data row2 col5\" >-0.000000</td>\n",
       "    </tr>\n",
       "    <tr>\n",
       "      <td id=\"T_2e891_row3_col0\" class=\"data row3 col0\" >-0.000000</td>\n",
       "      <td id=\"T_2e891_row3_col1\" class=\"data row3 col1\" >-0.000000</td>\n",
       "      <td id=\"T_2e891_row3_col2\" class=\"data row3 col2\" >0.472879</td>\n",
       "      <td id=\"T_2e891_row3_col3\" class=\"data row3 col3\" >-3.757564</td>\n",
       "      <td id=\"T_2e891_row3_col4\" class=\"data row3 col4\" >0.000000</td>\n",
       "      <td id=\"T_2e891_row3_col5\" class=\"data row3 col5\" >-0.000000</td>\n",
       "    </tr>\n",
       "    <tr>\n",
       "      <td id=\"T_2e891_row4_col0\" class=\"data row4 col0\" >0.000085</td>\n",
       "      <td id=\"T_2e891_row4_col1\" class=\"data row4 col1\" >0.000324</td>\n",
       "      <td id=\"T_2e891_row4_col2\" class=\"data row4 col2\" >-0.000000</td>\n",
       "      <td id=\"T_2e891_row4_col3\" class=\"data row4 col3\" >0.000000</td>\n",
       "      <td id=\"T_2e891_row4_col4\" class=\"data row4 col4\" >1.000000</td>\n",
       "      <td id=\"T_2e891_row4_col5\" class=\"data row4 col5\" >0.000000</td>\n",
       "    </tr>\n",
       "    <tr>\n",
       "      <td id=\"T_2e891_row5_col0\" class=\"data row5 col0\" >0.000000</td>\n",
       "      <td id=\"T_2e891_row5_col1\" class=\"data row5 col1\" >0.000000</td>\n",
       "      <td id=\"T_2e891_row5_col2\" class=\"data row5 col2\" >0.000000</td>\n",
       "      <td id=\"T_2e891_row5_col3\" class=\"data row5 col3\" >0.000000</td>\n",
       "      <td id=\"T_2e891_row5_col4\" class=\"data row5 col4\" >0.000000</td>\n",
       "      <td id=\"T_2e891_row5_col5\" class=\"data row5 col5\" >1.000000</td>\n",
       "    </tr>\n",
       "  </tbody>\n",
       "</table>\n"
      ],
      "text/plain": [
       "<pandas.io.formats.style.Styler at 0x16b6c6710>"
      ]
     },
     "metadata": {},
     "output_type": "display_data"
    }
   ],
   "source": [
    "setXOffset(tao, \"Q5FF\", 100e-6)\n",
    "\n",
    "getMatrix(tao, \"MFFF\", \"PENT\", order = 0, print = True);\n",
    "getMatrix(tao, \"MFFF\", \"PENT\", order = 1, print = True);"
   ]
  },
  {
   "cell_type": "code",
   "execution_count": 17,
   "id": "2c3cc99c-714e-4adf-ad10-227a7ce04040",
   "metadata": {},
   "outputs": [
    {
     "data": {
      "text/plain": [
       "-5.22441839247036e-05"
      ]
     },
     "execution_count": 17,
     "metadata": {},
     "output_type": "execute_result"
    }
   ],
   "source": []
  },
  {
   "cell_type": "code",
   "execution_count": 26,
   "id": "65632d9a-dda0-4343-b700-cf8ff8ec5b91",
   "metadata": {},
   "outputs": [
    {
     "data": {
      "image/png": "[encoded data removed]",
      "text/plain": [
       "<Figure size 640x480 with 1 Axes>"
      ]
     },
     "metadata": {},
     "output_type": "display_data"
    }
   ],
   "source": [
    "results = {\"quadOffset\": [], \"beamOffset\": []}\n",
    "step = 50e-6\n",
    "for quadOffset in np.arange(-200e-6, 200e-6 + step, step):\n",
    "    setXOffset(tao, \"Q5FF\", quadOffset)\n",
    "    beamOffset = getMatrix(tao,\"MFFF\",\"PENT\",order=0)[0]\n",
    "\n",
    "    \n",
    "    results[\"quadOffset\"].append(quadOffset)\n",
    "    results[\"beamOffset\"].append(beamOffset)\n",
    "    #print([L2PhaseSet, P[\"mean_energy\"]])\n",
    "\n",
    "plt.scatter(\n",
    "    1e6 * np.array(results[\"quadOffset\"]), \n",
    "    1e6 * np.array(results[\"beamOffset\"])\n",
    ")\n",
    "\n",
    "# Adding title and labels\n",
    "plt.xlabel('Q5FF offset [um]')\n",
    "plt.ylabel('Beam offset at PENT [um]')\n",
    "\n",
    "# Display the plot\n",
    "plt.show()"
   ]
  },
  {
   "cell_type": "code",
   "execution_count": null,
   "id": "a0a23e49-3db0-48f2-8b47-6cf94a72f239",
   "metadata": {},
   "outputs": [],
   "source": []
  },
  {
   "cell_type": "code",
   "execution_count": null,
   "id": "2c8feb9f-ffa6-41c9-b21a-ed5d195878e3",
   "metadata": {},
   "outputs": [],
   "source": []
  }
 ],
 "metadata": {
  "kernelspec": {
   "display_name": "Python 3 (ipykernel)",
   "language": "python",
   "name": "python3"
  },
  "language_info": {
   "codemirror_mode": {
    "name": "ipython",
    "version": 3
   },
   "file_extension": ".py",
   "mimetype": "text/x-python",
   "name": "python",
   "nbconvert_exporter": "python",
   "pygments_lexer": "ipython3",
   "version": "3.11.8"
  }
 },
 "nbformat": 4,
 "nbformat_minor": 5
}
