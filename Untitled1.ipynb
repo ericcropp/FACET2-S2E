{
 "cells": [
  {
   "cell_type": "code",
   "execution_count": 1,
   "id": "961924a5-44e4-4d54-b5b5-ebd724c94e9b",
   "metadata": {},
   "outputs": [],
   "source": [
    "#Import all the UTILITY functions\n",
    "from UTILITY_quickstart import * \n",
    "\n",
    "from UTILITY_OpenPMDtoBmad import inspect_bmad_h5"
   ]
  },
  {
   "cell_type": "code",
   "execution_count": 2,
   "id": "3d87c256-29db-4d88-9d16-4e22c45ae12e",
   "metadata": {},
   "outputs": [
    {
     "name": "stdout",
     "output_type": "stream",
     "text": [
      "Environment set to:  /Users/nmajik/Documents/SLAC/FACET2-S2E\n",
      "Tracking to end\n",
      "CSR off\n",
      "Overwriting lattice with setLattice() defaults\n",
      "No defaults file provided to setLattice(). Using /Users/nmajik/Documents/SLAC/FACET2-S2E/setLattice_configs/defaults.yml\n",
      "WARNING! No beam file is specified!\n",
      "Number of macro particles defined by input file\n",
      "Beam created, written to /Users/nmajik/Documents/SLAC/FACET2-S2E/beams/activeBeamFile.h5, and reinit to tao\n"
     ]
    }
   ],
   "source": [
    "tao = initializeTao(\n",
    "    csrTF = False,\n",
    "    \n",
    ")"
   ]
  },
  {
   "cell_type": "code",
   "execution_count": 3,
   "id": "fa938b3b-cb5f-4e75-8456-8bbcf157aaf3",
   "metadata": {},
   "outputs": [
    {
     "data": {
      "text/plain": [
       "['',\n",
       " 'Bmad_com Parameters (use \"set bmad_com\" to change):',\n",
       " '  %abs_tol_tracking                =   1.00000000E-12',\n",
       " '  %abs_tol_adaptive_tracking       =   1.00000000E-10',\n",
       " '  %autoscale_amp_abs_tol           =   1.00000000E-01',\n",
       " '  %autoscale_amp_rel_tol           =   1.00000000E-06',\n",
       " '  %autoscale_phase_tol             =   1.00000000E-05',\n",
       " '  %d_orb                           =   1.00000000E-05  1.00000000E-05  1.00000000E-05  1.00000000E-05  1.00000000E-05  1.00000000E-05',\n",
       " '  %default_ds_step                 =   2.00000000E-01',\n",
       " '  %electric_dipole_moment          =   0.00000000E+00',\n",
       " '  %init_ds_adaptive_tracking       =   1.00000000E-03',\n",
       " '  %max_aperture_limit              =   1.00000000E+03',\n",
       " '  %min_ds_adaptive_tracking        =   0.00000000E+00',\n",
       " '  %rel_tol_adaptive_tracking       =   1.00000000E-08',\n",
       " '  %rel_tol_tracking                =   1.00000000E-09',\n",
       " '  %sad_amp_max                     =   5.00000000E-02',\n",
       " '  %sad_eps_scale                   =   5.00000000E-03',\n",
       " '  %significant_length              =   1.00000000E-10',\n",
       " '  %synch_rad_scale                 =   1.00000000E+00',\n",
       " '  %default_integ_order             = 2',\n",
       " '  %max_num_runge_kutta_step        = 10000',\n",
       " '  %sad_n_div_max                   = 1000',\n",
       " '  %taylor_order                    = 0 ! Input order. 0 => Use default',\n",
       " '     Actual Taylor order in PTC: 3',\n",
       " '  %absolute_time_ref_shift         = T',\n",
       " '  %absolute_time_tracking          = F',\n",
       " '  %aperture_limit_on               = T',\n",
       " '  %auto_bookkeeper                 = F',\n",
       " '  %conserve_taylor_maps            = T',\n",
       " '  %convert_to_kinetic_momentum     = F',\n",
       " '  %csr_and_space_charge_on         = F',\n",
       " '  %high_energy_space_charge_on     = F',\n",
       " '  %lr_wakes_on                     = T',\n",
       " '  %normalize_twiss                 = F',\n",
       " '  %radiation_damping_on            = F',\n",
       " '  %radiation_fluctuations_on       = T',\n",
       " '  %radiation_zero_average          = F',\n",
       " '  %rf_phase_below_transition_ref   = F',\n",
       " '  %spin_n0_direction_user_set      = F',\n",
       " '  %spin_sokolov_ternov_flipping_on = F',\n",
       " '  %spin_tracking_on                = F',\n",
       " '  %sr_wakes_on                     = T']"
      ]
     },
     "execution_count": 3,
     "metadata": {},
     "output_type": "execute_result"
    }
   ],
   "source": [
    "tao.cmd(\"show bmad_com\")"
   ]
  },
  {
   "cell_type": "code",
   "execution_count": 4,
   "id": "724a0b55-0dbf-4ff0-a066-4ef9ded17bea",
   "metadata": {},
   "outputs": [
    {
     "data": {
      "text/plain": [
       "['Universe: 1  of: 1',\n",
       " '',\n",
       " 'global%track_type           = \"single\"',\n",
       " 'global%beam_timer_on        = T',\n",
       " 'global%beam_dead_cutoff     =   9.90000010E-01',\n",
       " '',\n",
       " 'General beam components (set by \"set beam ...\"):',\n",
       " 'always_reinit     = F',\n",
       " 'saved_at          = \"MARKER::*\"',\n",
       " 'dump_at           = \"\"',\n",
       " 'dump_file         = \"\"',\n",
       " 'comb_ds_save      =  -1.00000000E+00  ! Note: -1 => Use (latice branch length)/plot_page%n_curve_pts',\n",
       " 'track_start       = \"L0AFEND\"  ! L0AFEND (37)',\n",
       " 'track_end         = \"end\"  ! END (1597)',\n",
       " 'beam_init components (set by \"set beam_init ...\"):',\n",
       " '  %position_file          = \"/Users/nmajik/Documents/SLAC/FACET2-S2E/beams/activeBeamFile.h5\"',\n",
       " '  %distribution_type      = \"RAN_GAUSS\"  \"RAN_GAUSS\"  \"RAN_GAUSS\"',\n",
       " '  %full_6D_coupling_calc  = F',\n",
       " '  %use_particle_start     = F',\n",
       " '  %use_t_coords           = F',\n",
       " '  %use_z_as_t             = F',\n",
       " '  %spin                   =   0.00000000E+00  0.00000000E+00  0.00000000E+00',\n",
       " '  %center                 =   0.00000000E+00  0.00000000E+00  0.00000000E+00  0.00000000E+00  0.00000000E+00  0.00000000E+00',\n",
       " '  %center_jitter          =   0.00000000E+00  0.00000000E+00  0.00000000E+00  0.00000000E+00  0.00000000E+00  0.00000000E+00',\n",
       " '  %t_offset               =   0.00000000E+00',\n",
       " '  %n_particle             = 0',\n",
       " '  %ix_turn                = 0',\n",
       " '  %n_bunch                = 0          ! Note: 0 => Create one bunch if not reading from a file',\n",
       " '  %bunch_charge           =   0.00000000E+00',\n",
       " '  %a_norm_emit            =   0.00000000E+00',\n",
       " '  %b_norm_emit            =   0.00000000E+00',\n",
       " '  %a_emit                 =   0.00000000E+00',\n",
       " '  %b_emit                 =   0.00000000E+00',\n",
       " '  %sig_z                  =   0.00000000E+00',\n",
       " '  %sig_pz                 =   0.00000000E+00',\n",
       " '  %dPz_dz                 =   0.00000000E+00',\n",
       " '  %dt_bunch               =   0.00000000E+00',\n",
       " '  %emit_jitter            =   0.00000000E+00  0.00000000E+00',\n",
       " '  %sig_z_jitter           =   0.00000000E+00',\n",
       " '  %sig_pz_jitter          =   0.00000000E+00',\n",
       " '  %species                = \"\"',\n",
       " '  %renorm_center          = T',\n",
       " '  %renorm_sigma           = T',\n",
       " '  %random_engine          = \"quasi\"',\n",
       " '  %random_gauss_converter = \"exact\"',\n",
       " '  %random_sigma_cutoff    = -1.000',\n",
       " '',\n",
       " 'bmad_com components (set by \"set bmad_com ...\"):',\n",
       " '  %sr_wakes_on                     = T',\n",
       " '  %lr_wakes_on                     = T',\n",
       " '  %csr_and_space_charge_on         = F',\n",
       " '  %spin_tracking_on                = F',\n",
       " '  %spin_sokolov_ternov_flipping_on = F',\n",
       " '  %radiation_damping_on            = F',\n",
       " '  %radiation_zero_average          = F',\n",
       " '  %radiation_fluctuations_on       = T',\n",
       " '',\n",
       " 'space_charge_com components (set by \"set space_charge_com ...\"):',\n",
       " '  %ds_track_step                  =   1.00000000E-02',\n",
       " '  %dt_track_step                  =   1.00000000E-12',\n",
       " '  %cathode_strength_cutoff        =   9.99999978E-03',\n",
       " '  %rel_tol_tracking               =   1.00000000E-08',\n",
       " '  %abs_tol_tracking               =   1.00000000E-10',\n",
       " '  %beam_chamber_height            =   2.40000000E-02',\n",
       " '  %lsc_sigma_cutoff               =   1.00000000E-01',\n",
       " '  %particle_sigma_cutoff          =  -1.00000000E+00',\n",
       " '  %space_charge_mesh_size         = 32  32  64',\n",
       " '  %csr3d_mesh_size                = 32  32  64',\n",
       " '  %n_bin                          = 40',\n",
       " '  %particle_bin_span              = 2',\n",
       " '  %n_shield_images                = 0',\n",
       " '  %sc_min_in_bin                  = 10',\n",
       " '  %lsc_kick_transverse_dependence = F',\n",
       " '  %diagnostic_output_file         = \"\"']"
      ]
     },
     "execution_count": 4,
     "metadata": {},
     "output_type": "execute_result"
    }
   ],
   "source": [
    "tao.cmd(\"show beam\")"
   ]
  },
  {
   "cell_type": "code",
   "execution_count": null,
   "id": "13683979-92a3-44b9-84e4-8c0b39949891",
   "metadata": {},
   "outputs": [],
   "source": []
  }
 ],
 "metadata": {
  "kernelspec": {
   "display_name": "Python 3 (ipykernel)",
   "language": "python",
   "name": "python3"
  },
  "language_info": {
   "codemirror_mode": {
    "name": "ipython",
    "version": 3
   },
   "file_extension": ".py",
   "mimetype": "text/x-python",
   "name": "python",
   "nbconvert_exporter": "python",
   "pygments_lexer": "ipython3",
   "version": "3.13.5"
  }
 },
 "nbformat": 4,
 "nbformat_minor": 5
}
