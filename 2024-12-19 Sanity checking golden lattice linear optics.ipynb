{
 "cells": [
  {
   "cell_type": "code",
   "execution_count": 1,
   "id": "e6a2e4a7-9f20-478c-92a0-eaa122012d06",
   "metadata": {},
   "outputs": [],
   "source": [
    "from UTILITY_quickstart import *"
   ]
  },
  {
   "cell_type": "code",
   "execution_count": 2,
   "id": "ea65fa21-569c-48b7-8792-7555753cd53b",
   "metadata": {},
   "outputs": [
    {
     "name": "stdout",
     "output_type": "stream",
     "text": [
      "Environment set to:  /Users/nmajik/Documents/SLAC/FACET2-Bmad-PyTao\n",
      "Tracking to end\n",
      "CSR off\n",
      "Base Tao lattice\n",
      "WARNING! No beam file is specified!\n",
      "Number of macro particles defined by input file\n"
     ]
    }
   ],
   "source": [
    "#Start from golden lattice\n",
    "tao = initializeTao(\n",
    "    loadDefaultLatticeTF = False\n",
    ")"
   ]
  },
  {
   "cell_type": "code",
   "execution_count": 3,
   "id": "3f800793-09ed-4d0d-8b44-30e10f430a64",
   "metadata": {},
   "outputs": [
    {
     "data": {
      "text/plain": [
       "['Element # 1533',\n",
       " 'Element Name: PENT',\n",
       " 'Key: Marker',\n",
       " 'S_start, S:    994.772815,    994.772815',\n",
       " 'Ref_time_start, Ref_time:  3.318222E-06,  3.318222E-06',\n",
       " '',\n",
       " 'Attribute values [Only non-zero values shown]:',\n",
       " '    1  L                           =  0.0000000E+00 m',\n",
       " '    7  OSC_AMPLITUDE               =  0.0000000E+00 m',\n",
       " '   24  TILT_CALIB                  =  0.0000000E+00 rad',\n",
       " '   25  DE_ETA_MEAS                 =  0.0000000E+00',\n",
       " '   53  P0C                         =  1.0000000E+10 eV           BETA                        =  1.0000000E+00',\n",
       " '   54  E_TOT                       =  1.0000000E+10 eV           GAMMA                       =  1.9569512E+04',\n",
       " '   64  REF_TIME_START              =  3.3182219E-06 sec      50  DELTA_REF_TIME              =  0.0000000E+00 sec',\n",
       " '',\n",
       " '       TRACKING_METHOD              =  Bmad_Standard             APERTURE_AT                =  Exit_End',\n",
       " '       MAT6_CALC_METHOD             =  Auto                      APERTURE_TYPE              =  Rectangular',\n",
       " '       SPIN_TRACKING_METHOD         =  Tracking                  OFFSET_MOVES_APERTURE      =  F',\n",
       " '       PTC_INTEGRATION_TYPE         =  Matrix_Kick               LONGITUDINAL ORIENTATION   =       1',\n",
       " '                                                                 REF_SPECIES                =  Electron',\n",
       " '',\n",
       " 'Slave_status: Free',\n",
       " '',\n",
       " 'Lord_status:  Not_a_Lord',\n",
       " '',\n",
       " 'Twiss at end of element:',\n",
       " '                          A              B            Cbar                        C_mat',\n",
       " '  Beta (m)         0.50011351     0.49995568  |   0.00000000  -0.00000000      0.00000000  -0.00000000',\n",
       " '  Alpha           -0.00008614     0.00011620  |   0.00000000  -0.00000000      0.00000000  -0.00000000',\n",
       " '  Gamma (1/m)      1.99954606     2.00017732  |   Gamma_c =   1.00000000       Mode_Flip = F',\n",
       " '  Phi (rad)       73.10038563    60.40823015            X              Y              Z',\n",
       " '  Eta (m)         -0.00000043    -0.00000000    -0.00000043    -0.00000000     0.02273092',\n",
       " '  Etap            -0.00000761    -0.00000000    -0.00000761    -0.00000000    -0.00000000',\n",
       " '  dEta/ds         -0.00000761    -0.00000000    -0.00000761    -0.00000000    -0.00000000',\n",
       " '',\n",
       " 'Tracking: Electron,   State: Alive',\n",
       " '         Position[mm] Momentum[mrad]        Spin   |',\n",
       " '  X:       0.00000000    -0.00000000               | t_particle [sec]:        3.31822194E-06  E_tot: 1.00000E+10',\n",
       " '  Y:      -0.00000000    -0.00000000               | t_part-t_ref [sec]:     -1.27054942E-21  PC:    1.00000E+10',\n",
       " '  Z:      -0.00000000     0.00000000               | (t_ref-t_part)*Vel [m]:  3.80901133E-13  Beta:  0.999999999']"
      ]
     },
     "execution_count": 3,
     "metadata": {},
     "output_type": "execute_result"
    }
   ],
   "source": [
    "tao.cmd(\"show ele PENT\")"
   ]
  },
  {
   "cell_type": "code",
   "execution_count": 4,
   "id": "2b61f72c-4417-42d5-8f6d-a802e0921c1c",
   "metadata": {},
   "outputs": [],
   "source": [
    "#The expected 50 x 50 cm betas with no alphas"
   ]
  },
  {
   "cell_type": "code",
   "execution_count": 5,
   "id": "0235d629-a891-4b16-b487-5e15eaa9c56c",
   "metadata": {},
   "outputs": [
    {
     "data": {
      "text/html": [
       "<style type=\"text/css\">\n",
       "</style>\n",
       "<table id=\"T_3abfe\">\n",
       "  <thead>\n",
       "  </thead>\n",
       "  <tbody>\n",
       "    <tr>\n",
       "      <td id=\"T_3abfe_row0_col0\" class=\"data row0 col0\" >-3.922213</td>\n",
       "      <td id=\"T_3abfe_row0_col1\" class=\"data row0 col1\" >-2.018020</td>\n",
       "      <td id=\"T_3abfe_row0_col2\" class=\"data row0 col2\" >0.000000</td>\n",
       "      <td id=\"T_3abfe_row0_col3\" class=\"data row0 col3\" >0.000000</td>\n",
       "      <td id=\"T_3abfe_row0_col4\" class=\"data row0 col4\" >0.000000</td>\n",
       "      <td id=\"T_3abfe_row0_col5\" class=\"data row0 col5\" >0.000000</td>\n",
       "    </tr>\n",
       "    <tr>\n",
       "      <td id=\"T_3abfe_row1_col0\" class=\"data row1 col0\" >-0.326515</td>\n",
       "      <td id=\"T_3abfe_row1_col1\" class=\"data row1 col1\" >-0.422954</td>\n",
       "      <td id=\"T_3abfe_row1_col2\" class=\"data row1 col2\" >0.000000</td>\n",
       "      <td id=\"T_3abfe_row1_col3\" class=\"data row1 col3\" >0.000000</td>\n",
       "      <td id=\"T_3abfe_row1_col4\" class=\"data row1 col4\" >0.000000</td>\n",
       "      <td id=\"T_3abfe_row1_col5\" class=\"data row1 col5\" >0.000000</td>\n",
       "    </tr>\n",
       "    <tr>\n",
       "      <td id=\"T_3abfe_row2_col0\" class=\"data row2 col0\" >-0.000000</td>\n",
       "      <td id=\"T_3abfe_row2_col1\" class=\"data row2 col1\" >0.000000</td>\n",
       "      <td id=\"T_3abfe_row2_col2\" class=\"data row2 col2\" >-1.854733</td>\n",
       "      <td id=\"T_3abfe_row2_col3\" class=\"data row2 col3\" >1.933953</td>\n",
       "      <td id=\"T_3abfe_row2_col4\" class=\"data row2 col4\" >0.000000</td>\n",
       "      <td id=\"T_3abfe_row2_col5\" class=\"data row2 col5\" >0.055920</td>\n",
       "    </tr>\n",
       "    <tr>\n",
       "      <td id=\"T_3abfe_row3_col0\" class=\"data row3 col0\" >-0.000000</td>\n",
       "      <td id=\"T_3abfe_row3_col1\" class=\"data row3 col1\" >0.000000</td>\n",
       "      <td id=\"T_3abfe_row3_col2\" class=\"data row3 col2\" >-0.136011</td>\n",
       "      <td id=\"T_3abfe_row3_col3\" class=\"data row3 col3\" >-0.397340</td>\n",
       "      <td id=\"T_3abfe_row3_col4\" class=\"data row3 col4\" >0.000000</td>\n",
       "      <td id=\"T_3abfe_row3_col5\" class=\"data row3 col5\" >0.006000</td>\n",
       "    </tr>\n",
       "    <tr>\n",
       "      <td id=\"T_3abfe_row4_col0\" class=\"data row4 col0\" >-0.000000</td>\n",
       "      <td id=\"T_3abfe_row4_col1\" class=\"data row4 col1\" >-0.000000</td>\n",
       "      <td id=\"T_3abfe_row4_col2\" class=\"data row4 col2\" >0.003523</td>\n",
       "      <td id=\"T_3abfe_row4_col3\" class=\"data row4 col3\" >-0.033823</td>\n",
       "      <td id=\"T_3abfe_row4_col4\" class=\"data row4 col4\" >1.000000</td>\n",
       "      <td id=\"T_3abfe_row4_col5\" class=\"data row4 col5\" >-0.000006</td>\n",
       "    </tr>\n",
       "    <tr>\n",
       "      <td id=\"T_3abfe_row5_col0\" class=\"data row5 col0\" >0.000000</td>\n",
       "      <td id=\"T_3abfe_row5_col1\" class=\"data row5 col1\" >0.000000</td>\n",
       "      <td id=\"T_3abfe_row5_col2\" class=\"data row5 col2\" >0.000000</td>\n",
       "      <td id=\"T_3abfe_row5_col3\" class=\"data row5 col3\" >0.000000</td>\n",
       "      <td id=\"T_3abfe_row5_col4\" class=\"data row5 col4\" >0.000000</td>\n",
       "      <td id=\"T_3abfe_row5_col5\" class=\"data row5 col5\" >1.000000</td>\n",
       "    </tr>\n",
       "  </tbody>\n",
       "</table>\n"
      ],
      "text/plain": [
       "<pandas.io.formats.style.Styler at 0x1785190d0>"
      ]
     },
     "metadata": {},
     "output_type": "display_data"
    }
   ],
   "source": [
    "getMatrix(tao,\"PENT\",\"DTOTR\",print=True);"
   ]
  },
  {
   "cell_type": "code",
   "execution_count": 6,
   "id": "45c683e8-30af-4592-b5f8-de440e686e1a",
   "metadata": {},
   "outputs": [],
   "source": [
    "#However, this does not appear to be an imaging condition\n",
    "\n",
    "#Let's convert from element names to s\n",
    "#PENT s = 994.772815\n",
    "#DTOTR s = 1016.162829"
   ]
  },
  {
   "cell_type": "code",
   "execution_count": 7,
   "id": "3157ad29-bfda-403c-bcb1-89d216c1b4c5",
   "metadata": {},
   "outputs": [
    {
     "data": {
      "text/plain": [
       "['Symplectic Error:  8.88E-16',\n",
       " '',\n",
       " '    -3.92128868    -2.02001683     0.00000000     0.00000000     0.00000000     0.00000000   : -1.08183290E-16',\n",
       " '    -0.32651547    -0.42321973     0.00000000     0.00000000     0.00000000     0.00000000   : -3.04648228E-32',\n",
       " '     0.00000000     0.00000000    -1.85434815     1.93356787     0.00000000     0.05590322   :  1.21621849E-14',\n",
       " '    -0.00000000     0.00000000    -0.13601143    -0.39745107     0.00000000     0.00600002   : -2.99052209E-19',\n",
       " '    -0.00000000    -0.00000000     0.00352265    -0.03382024     1.00000000    -0.00000581   : -7.08000260E-17',\n",
       " '     0.00000000     0.00000000     0.00000000     0.00000000     0.00000000     1.00000000   :  0.00000000E+00']"
      ]
     },
     "execution_count": 7,
     "metadata": {},
     "output_type": "execute_result"
    }
   ],
   "source": [
    "tao.cmd(\"show taylor_map -s 994.772 1016.16\") "
   ]
  },
  {
   "cell_type": "code",
   "execution_count": null,
   "id": "7e738e2f-e39b-4b1b-80c1-fe122b1572ab",
   "metadata": {},
   "outputs": [],
   "source": [
    "#Annoyingly tao.taylor_map() doesn't seem to support -s\n",
    "#Just look by hand for an s location where the x' term goes away"
   ]
  },
  {
   "cell_type": "code",
   "execution_count": 20,
   "id": "cdaad1d8-1b2c-4ead-9b0a-5235f7b0f942",
   "metadata": {},
   "outputs": [
    {
     "data": {
      "text/plain": [
       "['Symplectic Error:  4.44E-16',\n",
       " '',\n",
       " '    -3.92128967    -0.00839652     0.00000000     0.00000000     0.00000000     0.00000000   : -7.25925072E-19',\n",
       " '    -0.32651547    -0.25571730     0.00000000     0.00000000     0.00000000     0.00000000   : -3.14709763E-32',\n",
       " '    -0.00000000     0.00000000    -1.85434857     2.88484747     0.00000000     0.05590324   :  6.25971563E-16',\n",
       " '    -0.00000000     0.00000000    -0.13601143    -0.32767721     0.00000000     0.00600002   : -2.99052209E-19',\n",
       " '    -0.00000000    -0.00000000     0.00352265    -0.03562735     1.00000000    -0.00000581   : -7.19874532E-17',\n",
       " '     0.00000000     0.00000000     0.00000000     0.00000000     0.00000000     1.00000000   :  0.00000000E+00']"
      ]
     },
     "execution_count": 20,
     "metadata": {},
     "output_type": "execute_result"
    }
   ],
   "source": [
    "tao.cmd(\"show taylor_map -s 995.285 1016.16\") "
   ]
  },
  {
   "cell_type": "code",
   "execution_count": null,
   "id": "74b94044-a3e9-46f5-aad7-be95aedeca14",
   "metadata": {},
   "outputs": [],
   "source": [
    "#Easy enough, appears to be just about a half meter downstream of PENT. Sounds like a very reasonable assumed plasma length for the golden lattice"
   ]
  }
 ],
 "metadata": {
  "kernelspec": {
   "display_name": "Python 3 (ipykernel)",
   "language": "python",
   "name": "python3"
  },
  "language_info": {
   "codemirror_mode": {
    "name": "ipython",
    "version": 3
   },
   "file_extension": ".py",
   "mimetype": "text/x-python",
   "name": "python",
   "nbconvert_exporter": "python",
   "pygments_lexer": "ipython3",
   "version": "3.11.8"
  }
 },
 "nbformat": 4,
 "nbformat_minor": 5
}
