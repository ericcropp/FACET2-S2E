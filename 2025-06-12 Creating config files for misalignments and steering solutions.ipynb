{
 "cells": [
  {
   "cell_type": "markdown",
   "id": "8e32b4d7-d1ac-4227-b5ae-722c9e70a6d5",
   "metadata": {},
   "source": [
    "DO NOT RUN WITHOUT CHECKING! It will overwrite named files!\n",
    "\n",
    "\n",
    "\n",
    "Copied from \"2025-05-15 Full tracking optimization of steering for real BBA offsets - new optimizer.ipynb\"\n",
    "\n",
    "Added little chunks of code to dump the misalignment and steering solutions"
   ]
  },
  {
   "cell_type": "code",
   "execution_count": 1,
   "id": "eafd4545-2f56-4f6f-a107-324c53e02ba0",
   "metadata": {},
   "outputs": [],
   "source": [
    "import json\n",
    "\n",
    "misalignmentConfig = []\n",
    "steeringConfig = []"
   ]
  },
  {
   "cell_type": "markdown",
   "id": "60c1a259-1637-4503-823b-44a07a2a5bf4",
   "metadata": {},
   "source": [
    "## Setup"
   ]
  },
  {
   "cell_type": "code",
   "execution_count": 2,
   "id": "6707ecdc-1546-4668-a932-17ee8a468e55",
   "metadata": {},
   "outputs": [],
   "source": [
    "from UTILITY_quickstart import *  \n",
    "from tabulate import tabulate\n",
    "\n",
    "\n",
    "importedDefaultSettings = loadConfig(\"setLattice_configs/2024-10-22_oneBunch_baseline2.yml\")  \n",
    "\n",
    "#New DL10 centering \n",
    "importedDefaultSettings = importedDefaultSettings | {\"centerDL10\" : True}\n",
    "\n",
    "#Disable BC14 centering\n",
    "importedDefaultSettings = importedDefaultSettings | { \"centerBC14\" : False }"
   ]
  },
  {
   "cell_type": "code",
   "execution_count": 3,
   "id": "fce44401-5555-4744-9bd2-eaa687f3f524",
   "metadata": {},
   "outputs": [
    {
     "name": "stdout",
     "output_type": "stream",
     "text": [
      "Environment set to:  /Users/nmajik/Documents/SLAC/FACET2-Bmad-PyTao\n",
      "Transverse wakes enabled!\n",
      "Tracking to end\n",
      "CSR on\n",
      "Overwriting lattice with setLattice() defaults\n",
      "No defaults file provided to setLattice(). Using setLattice_configs/defaults.yml\n",
      "Number of macro particles = 10000.0\n",
      "Beam created, written to /tmp/beams/activeBeamFile_8908776830336422144.h5, and reinit to tao\n"
     ]
    }
   ],
   "source": [
    "csrTF           = True #This config is intended for use with CSR on... but for speed, start with it off\n",
    "transverseWakes = True #Initially disabling for faster computation\n",
    "\n",
    "evalElement = \"Q19501\"   \n",
    "inputBeamFilePathSuffix = importedDefaultSettings[\"inputBeamFilePathSuffix\"] \n",
    "bunchCount = importedDefaultSettings[\"bunchCount\"] \n",
    "\n",
    "tao = initializeTao(     \n",
    "    inputBeamFilePathSuffix = inputBeamFilePathSuffix,          \n",
    "    csrTF = csrTF,     \n",
    "    numMacroParticles=1e4,     \n",
    "    scratchPath = \"/tmp\",     \n",
    "    randomizeFileNames = True,      \n",
    "    transverseWakes = transverseWakes \n",
    ")\n",
    "\n",
    "\n",
    "totalNumElements = len(tao.lat_list(\"*\", \"ele.name\"))"
   ]
  },
  {
   "cell_type": "code",
   "execution_count": 4,
   "id": "093ce32e-28b1-43f8-bed6-7b81a5fd709d",
   "metadata": {},
   "outputs": [],
   "source": [
    "# For simplicity, disable all apertures. Very nonphysical, but the single particle tracking failure is causing problems\n",
    "\n",
    "for eleII in range(totalNumElements):\n",
    "    try:\n",
    "        tao.cmd(f\"set ele {eleII} APERTURE_AT = NO_APERTURE\")\n",
    "    except:\n",
    "        pass"
   ]
  },
  {
   "cell_type": "code",
   "execution_count": 5,
   "id": "fefb2f54-2c31-4038-9887-b43e76c44afa",
   "metadata": {},
   "outputs": [
    {
     "name": "stdout",
     "output_type": "stream",
     "text": [
      "Loaded /tmp/beams/activeBeamFile_8908776830336422144.h5\n",
      "Set track_start = L0AFEND, track_end = L0BFEND\n",
      "Tracking!\n",
      "trackBeam() exiting\n"
     ]
    }
   ],
   "source": [
    "trackBeam(tao, \n",
    "          trackEnd = \"L0BFEND\", \n",
    "          verbose = True\n",
    "         ) \n",
    "PInit = getBeamAtElement(tao, \"L0AFEND\")\n",
    "\n",
    "artificialFactor = 1.3 \n",
    "#artificialFactor = 1.0 \n",
    "PInit.x = artificialFactor * PInit.x \n",
    "PInit.px = artificialFactor * PInit.px \n",
    "PInit.y = artificialFactor * PInit.y \n",
    "PInit.py = artificialFactor * PInit.py  \n",
    "\n",
    "makeBeamActiveBeamFile(PInit, tao = tao)"
   ]
  },
  {
   "cell_type": "code",
   "execution_count": 6,
   "id": "0e5d3141-0a15-4372-9d54-7f8420fcc13d",
   "metadata": {},
   "outputs": [],
   "source": [
    "# tao.lat_list(\"Q*\", \"ele.name\", flags=\"-no_slaves\") \n",
    "# Manually pared list of only \"normal\" quads in L1, L2, and L3\n",
    "linacQuads = [\n",
    "    'QM10771', 'QM10781', 'QA11132', 'Q11201', 'QA11265', 'Q11301', \n",
    "    'QM11393', 'Q11401', 'Q11501', 'Q11601', 'Q11701', 'Q11801', 'Q11901', 'Q12201', 'Q12301', 'Q12401', 'Q12501', 'Q12601', 'Q12701', 'Q12801', 'Q12901', 'Q13201', 'Q13301', 'Q13401', 'Q13501', 'Q13601', 'Q13701', 'Q13801', 'Q13901', 'Q14201', 'Q14301', 'Q14401', 'Q14501', 'Q14601', 'Q14701', 'QM14715',\n",
    "    'QM14891', 'Q14901', 'Q15201', 'Q15301', 'Q15401', 'Q15501', 'Q15601', 'Q15701', 'Q15801', 'Q15901', 'Q16201', 'Q16301', 'Q16401', 'Q16501', 'Q16601', 'Q16701', 'Q16801', 'Q16901', 'Q17201', 'Q17301', 'Q17401', 'Q17501', 'Q17601', 'Q17701', 'Q17801', 'Q17901', 'Q18201', 'Q18301', 'Q18401', 'Q18501', 'Q18601', 'Q18701', 'Q18801', 'Q18901', 'Q19201', 'Q19301', 'Q19401', 'Q19501', 'Q19601', 'Q19701', 'Q19801', 'Q19851', 'Q19871'\n",
    "]\n",
    "\n",
    "#quadsToPerturb = linacQuads\n",
    "\n",
    "#To accommodate 2014 BBA data, pick subset from z = 1100 to 1800\n",
    "quadsToPerturb = [\n",
    "    'Q11801', 'Q11901', 'Q12201', 'Q12301', 'Q12401', 'Q12501', 'Q12601', 'Q12701', 'Q12801', 'Q12901', 'Q13201', 'Q13301', 'Q13401', 'Q13501', 'Q13601', 'Q13701', 'Q13801', 'Q13901', 'Q14201', 'Q14301', 'Q14401', 'Q14501', 'Q14601', 'Q14701', 'QM14715',\n",
    "    'QM14891', 'Q14901', 'Q15201', 'Q15301', 'Q15401', 'Q15501', 'Q15601', 'Q15701', 'Q15801', 'Q15901', 'Q16201', 'Q16301', 'Q16401', 'Q16501', 'Q16601', 'Q16701', 'Q16801', 'Q16901', 'Q17201', 'Q17301', 'Q17401', 'Q17501', 'Q17601', 'Q17701', 'Q17801', 'Q17901', 'Q18201', 'Q18301', 'Q18401', 'Q18501', 'Q18601', 'Q18701', 'Q18801', 'Q18901', 'Q19201', 'Q19301', 'Q19401', 'Q19501', #'Q19601', 'Q19701'\n",
    "]"
   ]
  },
  {
   "cell_type": "code",
   "execution_count": 7,
   "id": "8db76d0a-4c21-4099-b113-b3968adccf31",
   "metadata": {},
   "outputs": [
    {
     "name": "stdout",
     "output_type": "stream",
     "text": [
      "{'universe': 1, '1^ix_branch': 0, 'ix_ele': 1655, 'key': 'Quadrupole', 'name': 'Q11801', 'type': '1.085Q4.31', 'alias': 'LI11:QUAD:801', 'descrip': '', 'is_on': True, 's': 103.262182575811, 's_start': 103.155382575811, 'ref_time': 3.4446255706666e-07, 'has#methods': True, 'has#ab_multipoles': True, 'has#kt_multipoles': False, 'has#multipoles_elec': True, 'has#ac_kick': False, 'has#taylor': False, 'has#spin_taylor': False, 'has#wake': False, 'num#cartesian_map': 0, 'num#cylindrical_map': 0, 'num#gen_grad_map': 0, 'num#grid_field': 0, 'has#wall3d': 0, 'has#control': False, 'has#twiss': True, 'has#mat6': True, 'has#floor': True, 'has#photon': False, 'has#lord_slave': True}\n",
      "{'universe': 1, '1^ix_branch': 0, 'ix_ele': 1233, 'key': 'Quadrupole', 'name': 'Q19501', 'type': '1.085Q4.31', 'alias': 'LI19:QUAD:501', 'descrip': '', 'is_on': True, 's': 879.046969853447, 's_start': 878.940169853447, 'ref_time': 2.93220210127131e-06, 'has#methods': True, 'has#ab_multipoles': True, 'has#kt_multipoles': False, 'has#multipoles_elec': True, 'has#ac_kick': False, 'has#taylor': False, 'has#spin_taylor': False, 'has#wake': False, 'num#cartesian_map': 0, 'num#cylindrical_map': 0, 'num#gen_grad_map': 0, 'num#grid_field': 0, 'has#wall3d': 0, 'has#control': False, 'has#twiss': True, 'has#mat6': True, 'has#floor': True, 'has#photon': False, 'has#lord_slave': True}\n"
     ]
    }
   ],
   "source": [
    "print(tao.ele_head(\"Q11801\"))\n",
    "print(tao.ele_head(\"Q19501\"))"
   ]
  },
  {
   "cell_type": "markdown",
   "id": "406971e1-bad3-44a8-9cc5-0bb9724afa86",
   "metadata": {},
   "source": [
    "## Baseline"
   ]
  },
  {
   "cell_type": "code",
   "execution_count": 8,
   "id": "5370c4f7-c747-4a60-adf2-187fb449b954",
   "metadata": {},
   "outputs": [
    {
     "name": "stdout",
     "output_type": "stream",
     "text": [
      "Loaded /tmp/beams/activeBeamFile_8908776830336422144.h5\n",
      "Set track_start = L0AFEND, track_end = Q19501\n",
      "Set track_end = ENDDL10\n",
      "Tracking!\n",
      "Beam centered at ENDDL10 written to /tmp/beams/patchBeamFile_8908776830336422144.h5\n",
      "Loaded /tmp/beams/patchBeamFile_8908776830336422144.h5\n",
      "Set track_start = ENDDL10, track_end = Q19501\n",
      "Tracking!\n",
      "trackBeam() exiting\n"
     ]
    }
   ],
   "source": [
    "setLattice(tao, **importedDefaultSettings)\n",
    "\n",
    "trackBeam(tao, \n",
    "          trackEnd = evalElement,\n",
    "          **importedDefaultSettings,\n",
    "          verbose = True\n",
    "         )"
   ]
  },
  {
   "cell_type": "code",
   "execution_count": 9,
   "id": "e785a005-06a6-451d-bb05-96dbf0e0b6fa",
   "metadata": {},
   "outputs": [
    {
     "name": "stdout",
     "output_type": "stream",
     "text": [
      "+-------------------+---------------+---------------+\n",
      "| 90% RMS           |               |               |\n",
      "| emittance (not    |        X      |        Y      |\n",
      "| SI90!) [um-rad]   |               |               |\n",
      "+===================+===============+===============+\n",
      "| PR10571           |          3.89 |          2.91 |\n",
      "+-------------------+---------------+---------------+\n",
      "| WS12214           |          4.45 |          2.78 |\n",
      "+-------------------+---------------+---------------+\n",
      "| BEGBC14           |          5.2  |          2.75 |\n",
      "+-------------------+---------------+---------------+\n",
      "| ENDBC14           |          6.1  |          2.76 |\n",
      "+-------------------+---------------+---------------+\n",
      "| Q19501            |          6.48 |          3.78 |\n",
      "| (L3 wire proxy)   |               |               |\n",
      "+-------------------+---------------+---------------+\n"
     ]
    }
   ],
   "source": [
    "activeData = {}\n",
    "for activeEle in  [ \"PR10571\", \"WS12214\", \"BEGBC14_1\", \"ENDBC14_2\", \"Q19501\" ]:\n",
    "    # print(activeEle)\n",
    "    # print(f\"\"\"{getBeamAtElement(tao, activeEle).twiss(plane = \"x\", fraction = 0.9)[\"norm_emit_x\"] * 1e6:.2f}, {getBeamAtElement(tao, activeEle).twiss(plane = \"y\", fraction = 0.9)[\"norm_emit_y\"] * 1e6:.2f}\"\"\")\n",
    "    # print()\n",
    "    activeData[f\"{activeEle}_x\"] = getBeamAtElement(tao, activeEle).twiss(plane = \"x\", fraction = 0.9)[\"norm_emit_x\"] * 1e6\n",
    "    activeData[f\"{activeEle}_y\"] = getBeamAtElement(tao, activeEle).twiss(plane = \"y\", fraction = 0.9)[\"norm_emit_y\"] * 1e6\n",
    "\n",
    "printableData = { key : f\"\"\"{activeData[key]:.2f}\"\"\" for key in activeData.keys() }\n",
    "\n",
    "print(tabulate([\n",
    "    [\"PR10571\",                  printableData[\"PR10571_x\"], printableData[\"PR10571_y\"]], \n",
    "    [\"WS12214\",                  printableData[\"WS12214_x\"], printableData[\"WS12214_y\"]],\n",
    "    [\"BEGBC14\",                  printableData[\"BEGBC14_1_x\"], printableData[\"BEGBC14_1_y\"]],\n",
    "    [\"ENDBC14\",                  printableData[\"ENDBC14_2_x\"], printableData[\"ENDBC14_2_y\"]],\n",
    "    [\"Q19501\\n(L3 wire proxy)\", printableData[\"Q19501_x\"], printableData[\"Q19501_y\"]]\n",
    "], \n",
    "[\"90% RMS\\nemittance (not\\nSI90!) [um-rad]\", \"\\n     X     \", \"\\n     Y     \"], \n",
    "tablefmt=\"grid\"))"
   ]
  },
  {
   "cell_type": "markdown",
   "id": "385c731e-e989-437d-b323-c453539df329",
   "metadata": {},
   "source": [
    "## Steering optimizer functions"
   ]
  },
  {
   "cell_type": "code",
   "execution_count": 10,
   "id": "2632e3e0-77c8-468c-86cd-b0db3a44cee2",
   "metadata": {},
   "outputs": [],
   "source": [
    "from scipy.optimize import minimize\n",
    "\n",
    "\n",
    "\n",
    "combinedElementData = [\n",
    "    {\n",
    "        \"eleII\" : eleII,\n",
    "        \"name\" : tao.ele_head(eleII)[\"name\"],\n",
    "        \"key\" : tao.ele_head(eleII)[\"key\"],\n",
    "        \"s\" : tao.ele_head(eleII)[\"s\"]\n",
    "    }\n",
    "    for eleII in range(totalNumElements) \n",
    "]\n",
    "\n",
    "#Keep only elements after L0AFEND\n",
    "combinedElementData = [ele for ele in combinedElementData if ele[\"s\"] > 4.1274477]\n",
    "\n",
    "allHKickerNames = [ele[\"name\"] for ele in combinedElementData if ele[\"key\"] == \"HKicker\"]\n",
    "allVKickerNames = [ele[\"name\"] for ele in combinedElementData if ele[\"key\"] == \"VKicker\"]\n",
    "\n",
    "#Manually picking a list of elements that seem like BPMs. Fast and dirty, DNT\n",
    "#[ele[\"name\"] for ele in combinedElementData if ele[\"key\"] == \"Monitor\"]\n",
    "#allBPMNames = ['BPM10371', 'BPM10425', 'BPM10511', 'BPM10525',  'BPM10581', 'BPM10631', 'BPM10651', 'BPM10731', 'BPM10771', 'BPM10781', 'BPM11132', 'BPM11201', 'BPM11265', 'BPM11301', 'BPM11312', 'BPM11333', 'BPM11358', 'BPM11362', 'BPM11393', 'BPM11401', 'BPM11501', 'BPM11601', 'BPM11701', 'BPM11801', 'BPM11901', 'BPM12201', 'BPM12301', 'BPM12401', 'BPM12501', 'BPM12601', 'BPM12701', 'BPM12801', 'BPM12901', 'BPM13201', 'BPM13301', 'BPM13401', 'BPM13501', 'BPM13601', 'BPM13701', 'BPM13801', 'BPM13901', 'BPM14201', 'BPM14301', 'BPM14401', 'BPM14501', 'BPM14601', 'BPM14701', 'BPM14715', 'BPM14801', 'BPM14891', 'BPM14901', 'BPM15201', 'BPM15301', 'BPM15401', 'BPM15501', 'BPM15601', 'BPM15701', 'BPM15801', 'BPM15901', 'BPM16201', 'BPM16301', 'BPM16401', 'BPM16501', 'BPM16601', 'BPM16701', 'BPM16801', 'BPM16901', 'BPM17201', 'BPM17301', 'BPM17401', 'BPM17501', 'BPM17601', 'BPM17701', 'BPM17801', 'BPM17901', 'BPM18201', 'BPM18301', 'BPM18401', 'BPM18501', 'BPM18601', 'BPM18701', 'BPM18801', 'BPM18901', 'BL18900', 'BPM19201', 'BPM19301', 'BPM19401', 'BPM19801', 'BPM19851', 'BPM19871', 'M1E', 'M3E', 'MS2EL', 'M4E', 'M5E', 'M6E', 'M7E', 'M8E', 'MS2ER', 'M9E', 'M11E', 'M1FF', 'M2FF', 'M3FF', 'M4FF', 'M5FF', 'M0EX', 'M1EX', 'M2EX', 'M3EX']\n",
    "\n",
    "#For this notebook only, steer to centers of quads instead of BPMs\n",
    "#BEWARE!!! Horrible misnomer!!!\n",
    "allBPMNames = quadsToPerturb\n",
    "\n",
    "\n",
    "\n",
    "\n",
    "######################################\n",
    "#Optional: Limit kickers and BPMs by s\n",
    "######################################\n",
    "\n",
    "optimizerBPMSMin =  100  #100\n",
    "optimizerBPMSMax =  880  #905\n",
    "optimizerKickerSMin = optimizerBPMSMin - 20 #Go a bit upstream from first BPM considered\n",
    "optimizerKickerSMax = optimizerBPMSMax\n",
    "\n",
    "\n",
    "allBPMNames     = [ ele for ele in allBPMNames     if optimizerBPMSMin    < tao.ele_head(ele)[\"s\"] < optimizerBPMSMax   ]\n",
    "allHKickerNames = [ ele for ele in allHKickerNames if optimizerKickerSMin < tao.ele_head(ele)[\"s\"] < optimizerKickerSMax]\n",
    "allVKickerNames = [ ele for ele in allVKickerNames if optimizerKickerSMin < tao.ele_head(ele)[\"s\"] < optimizerKickerSMax]\n",
    "\n",
    "#Make sure tracked beam is available at all BPMs\n",
    "#Doing this in a loop because Bmad sometimes gets weird about long lists...\n",
    "for ele in allBPMNames:\n",
    "    tao.cmd(f\"set beam add_saved_at = {ele}\")"
   ]
  },
  {
   "cell_type": "code",
   "execution_count": 11,
   "id": "0d38ebc7-73e0-4a9e-9fcb-4b0fe1a70188",
   "metadata": {},
   "outputs": [],
   "source": [
    "from scipy.optimize import minimize\n",
    "from scipy.optimize import lsq_linear\n",
    "\n",
    "def getActualXOffset(tao, ele):\n",
    "    return tao.ele_orbit(ele)[\"x\"] - (tao.ele_floor(ele)[\"Actual\"][0] - tao.ele_floor(ele)[\"Reference\"][0])\n",
    "\n",
    "def getActualYOffset(tao, ele):\n",
    "    return tao.ele_orbit(ele)[\"y\"] - (tao.ele_floor(ele)[\"Actual\"][1] - tao.ele_floor(ele)[\"Reference\"][1])\n",
    "\n",
    "\n",
    "def makeXPerturbationMatrix(delta, trackEnd = \"end\"):\n",
    "\n",
    "    referenceRow = np.array( [ getActualXOffset( tao, ele ) for ele in allBPMNames ] )\n",
    "\n",
    "    #print(referenceRow) \n",
    "    \n",
    "    perturbationMatrix = []\n",
    "    \n",
    "    for kicker in allHKickerNames:\n",
    "\n",
    "        #Tweak the kicker\n",
    "        setKickerkG( tao, kicker, delta + getKickerkG( tao, kicker ) )\n",
    "\n",
    "        trackBeam(tao, \n",
    "          trackEnd = trackEnd,\n",
    "          **importedDefaultSettings\n",
    "         )\n",
    "\n",
    "        perturbationRow = np.array( [ getActualXOffset( tao, ele ) for ele in allBPMNames ] ) - referenceRow\n",
    "\n",
    "        perturbationMatrix.append(perturbationRow) \n",
    "\n",
    "        #Put it back where it started\n",
    "        setKickerkG( tao, kicker, -1 * delta + getKickerkG( tao, kicker ) )\n",
    "\n",
    "    #Normalize\n",
    "    perturbationMatrix = np.array(perturbationMatrix) / delta\n",
    "    \n",
    "    return perturbationMatrix\n",
    "\n",
    "def makeYPerturbationMatrix(delta, trackEnd = \"end\"):\n",
    "\n",
    "    referenceRow = np.array( [ getActualYOffset( tao, ele ) for ele in allBPMNames ] )\n",
    "\n",
    "    #print(referenceRow) \n",
    "    \n",
    "    perturbationMatrix = []\n",
    "    \n",
    "    for kicker in allVKickerNames:\n",
    "\n",
    "        #Tweak the kicker\n",
    "        setKickerkG( tao, kicker, delta + getKickerkG( tao, kicker ) )\n",
    "\n",
    "        trackBeam(tao, \n",
    "          trackEnd = trackEnd,\n",
    "          **importedDefaultSettings\n",
    "         )\n",
    "\n",
    "        perturbationRow = np.array( [ getActualYOffset( tao, ele ) for ele in allBPMNames ] ) - referenceRow\n",
    "\n",
    "        perturbationMatrix.append(perturbationRow) \n",
    "\n",
    "        #Put it back where it started\n",
    "        setKickerkG( tao, kicker, -1 * delta + getKickerkG( tao, kicker ) )\n",
    "\n",
    "    #Normalize\n",
    "    perturbationMatrix = np.array(perturbationMatrix) / delta\n",
    "    \n",
    "    return perturbationMatrix\n",
    "\n",
    "\n",
    "def solveForKickerCorrectionsBounded(perturbationMatrix, referenceRow, bound=0.1):\n",
    "    P = np.array(perturbationMatrix).T  # [numBPMs x numKickers]\n",
    "    r = np.array(referenceRow)\n",
    "\n",
    "    # Solve P @ k = -r using least squares in case it's over/under-constrained\n",
    "    result = lsq_linear(P, -r, bounds=(-bound, bound))\n",
    "\n",
    "    if not result.success:\n",
    "        print(\"Warning: Solver did not converge.\")\n",
    "    \n",
    "    return result.x"
   ]
  },
  {
   "cell_type": "markdown",
   "id": "908e2407-6d37-4f72-984f-e199f25b2901",
   "metadata": {},
   "source": [
    "## Introduce BBA error (2014 Blue/Pink or Winter 2025)"
   ]
  },
  {
   "cell_type": "code",
   "execution_count": 12,
   "id": "bd99170a-c82e-44cb-8762-732980588bfc",
   "metadata": {},
   "outputs": [],
   "source": [
    "import json\n",
    "\n",
    "# quadZValues = { ele : tao.ele_floor(ele)[\"Actual\"][2] for ele in quadsToPerturb }\n",
    "\n",
    "# with open(\"./quadZValues.json\", \"w\") as f:\n",
    "#     json.dump(quadZValues, f, indent=2)\n",
    "\n",
    "#Generated with \"2025-05-12 Processing real BBA data from 2014.nb\"\n",
    "#These are in [mm]!\n",
    "with open('pinkCurveXOffsets.json', 'r') as file:\n",
    "    pinkCurveXOffsets = json.load(file)\n",
    "\n",
    "with open('pinkCurveYOffsets.json', 'r') as file:\n",
    "    pinkCurveYOffsets = json.load(file)\n",
    "\n",
    "with open('blueCurveXOffsets.json', 'r') as file:\n",
    "    blueCurveXOffsets = json.load(file)\n",
    "\n",
    "with open('blueCurveYOffsets.json', 'r') as file:\n",
    "    blueCurveYOffsets = json.load(file)"
   ]
  },
  {
   "cell_type": "code",
   "execution_count": 13,
   "id": "0284a81c-07d5-42af-bb1a-faf7b8a40192",
   "metadata": {
    "jupyter": {
     "source_hidden": true
    }
   },
   "outputs": [],
   "source": [
    "# Winter 2025 offsets\n",
    "# Originally from https://docs.google.com/spreadsheets/d/1VESuoMSxWwHJK1JQyTcc8gQS6xGaTuhHrGknu5jDbnc/edit?gid=1142612034#gid=1142612034\n",
    "# Parsed in 2025-05-15 Parsing winter 2025 BBA data.xlsx\n",
    "\n",
    "winter2025XOffsets = { 'QM10771': 0,\n",
    " 'QM10781': 0,\n",
    " 'QA11132': 0,\n",
    " 'Q11201'\t: 0,\n",
    " 'QA11265': 0,\n",
    " 'Q11301'\t: 0,\n",
    " 'QM11393': 0.09,\n",
    " 'Q11401'\t: 0.44,\n",
    " 'Q11501'\t: -0.19,\n",
    " 'Q11601'\t: -0.25,\n",
    " 'Q11701'\t: 0,\n",
    " 'Q11801'\t: 0.17,\n",
    " 'Q11901'\t: -0.16,\n",
    " 'Q12201'\t: 0,\n",
    " 'Q12301'\t: -0.06,\n",
    " 'Q12401'\t: 0.01,\n",
    " 'Q12501'\t: 0,\n",
    " 'Q12601'\t: -0.2,\n",
    " 'Q12701'\t: 0.1,\n",
    " 'Q12801'\t: 0.11,\n",
    " 'Q12901'\t: 0.03,\n",
    " 'Q13201'\t: 0.02,\n",
    " 'Q13301'\t: -0.03,\n",
    " 'Q13401'\t: -0.3,\n",
    " 'Q13501'\t: -0.01,\n",
    " 'Q13601'\t: 0.07,\n",
    " 'Q13701'\t: -0.11,\n",
    " 'Q13801'\t: 0.15,\n",
    " 'Q13901'\t: -0.03,\n",
    " 'Q14201'\t: 0.1,\n",
    " 'Q14301'\t: -0.16,\n",
    " 'Q14401'\t: 0,\n",
    " 'Q14501'\t: -0.11,\n",
    " 'Q14601'\t: 0.1,\n",
    " 'Q14701'\t: 0,\n",
    " 'QM14715': 0,\n",
    " 'QM14891': 0,\n",
    " 'Q14901'\t: 0,\n",
    " 'Q15201'\t: 0,\n",
    " 'Q15301'\t: -0.15,\n",
    " 'Q15401'\t: 0.26,\n",
    " 'Q15501'\t: 0,\n",
    " 'Q15601'\t: -0.15,\n",
    " 'Q15701'\t: 0.41,\n",
    " 'Q15801'\t: -0.03,\n",
    " 'Q15901'\t: 0.01,\n",
    " 'Q16201'\t: 0.03,\n",
    " 'Q16301'\t: -0.07,\n",
    " 'Q16401'\t: 0.05,\n",
    " 'Q16501'\t: 0,\n",
    " 'Q16601'\t: -0.06,\n",
    " 'Q16701'\t: 0.08,\n",
    " 'Q16801'\t: -0.05,\n",
    " 'Q16901'\t: 0.02,\n",
    " 'Q17201'\t: -0.05,\n",
    " 'Q17301'\t: -0.03,\n",
    " 'Q17401'\t: -0.06,\n",
    " 'Q17501'\t: -0.26,\n",
    " 'Q17601'\t: 0.13,\n",
    " 'Q17701'\t: -0.05,\n",
    " 'Q17801'\t: 0.24,\n",
    " 'Q17901'\t: 0.4,\n",
    " 'Q18201'\t: 0.05,\n",
    " 'Q18301'\t: 0.25,\n",
    " 'Q18401'\t: -0.04,\n",
    " 'Q18501'\t: 0.33,\n",
    " 'Q18601'\t: -0.05,\n",
    " 'Q18701'\t: -0.14,\n",
    " 'Q18801'\t: 0.05,\n",
    " 'Q18901'\t: 0.01,\n",
    " 'Q19201'\t: 0.09,\n",
    " 'Q19301'\t: -0.06,\n",
    " 'Q19401'\t: 0,\n",
    " 'Q19501'\t: 0.14,\n",
    " 'Q19601'\t: -0.06,\n",
    " 'Q19701'\t: 0.2,\n",
    " 'Q19801'\t: 0,\n",
    " 'Q19851'\t: 0.7,\n",
    " 'Q19871'\t: 1.5,\n",
    "}\n",
    "\n",
    "winter2025YOffsets = {\n",
    "  'QM10771' : 0,\n",
    " 'QM10781' : 0,\n",
    " 'QA11132' : 0,\n",
    " 'Q11201' : 0,\n",
    " 'QA11265' : 0,\n",
    " 'Q11301' : 0,\n",
    " 'QM11393' : -0.25,\n",
    " 'Q11401' : -0.37,\n",
    " 'Q11501' : -0.06,\n",
    " 'Q11601' : 0.02,\n",
    " 'Q11701' : 0,\n",
    " 'Q11801' : -0.09,\n",
    " 'Q11901' : 0.23,\n",
    " 'Q12201' : 0.12,\n",
    " 'Q12301' : 0.09,\n",
    " 'Q12401' : 0.11,\n",
    " 'Q12501' : 0,\n",
    " 'Q12601' : -0.3,\n",
    " 'Q12701' : -0.32,\n",
    " 'Q12801' : 0.04,\n",
    " 'Q12901' : -0.02,\n",
    " 'Q13201' : -0.02,\n",
    " 'Q13301' : 0.05,\n",
    " 'Q13401' : -0.38,\n",
    " 'Q13501' : -0.06,\n",
    " 'Q13601' : 0.09,\n",
    " 'Q13701' : 0.06,\n",
    " 'Q13801' : 0.01,\n",
    " 'Q13901' : -0.01,\n",
    " 'Q14201' : 0.09,\n",
    " 'Q14301' : 0.09,\n",
    " 'Q14401' : -0.04,\n",
    " 'Q14501' : -0.03,\n",
    " 'Q14601' : 0.08,\n",
    " 'Q14701' : -0.08,\n",
    " 'QM14715' : 0,\n",
    " 'QM14891' : 0,\n",
    " 'Q14901' : 0,\n",
    " 'Q15201' : -0.02,\n",
    " 'Q15301' : 0.16,\n",
    " 'Q15401' : 0.01,\n",
    " 'Q15501' : -0.02,\n",
    " 'Q15601' : -0.36,\n",
    " 'Q15701' : 0.01,\n",
    " 'Q15801' : 0.05,\n",
    " 'Q15901' : -0.14,\n",
    " 'Q16201' : 0.04,\n",
    " 'Q16301' : 0.05,\n",
    " 'Q16401' : -0.06,\n",
    " 'Q16501' : -0.05,\n",
    " 'Q16601' : 0.07,\n",
    " 'Q16701' : 0.36,\n",
    " 'Q16801' : 0,\n",
    " 'Q16901' : 0.05,\n",
    " 'Q17201' : -0.06,\n",
    " 'Q17301' : -0.01,\n",
    " 'Q17401' : -0.43,\n",
    " 'Q17501' : 0.07,\n",
    " 'Q17601' : -0.8,\n",
    " 'Q17701' : -0.09,\n",
    " 'Q17801' : 0.23,\n",
    " 'Q17901' : -0.02,\n",
    " 'Q18201' : 0.45,\n",
    " 'Q18301' : 0.12,\n",
    " 'Q18401' : 0.5,\n",
    " 'Q18501' : 0.1,\n",
    " 'Q18601' : 0,\n",
    " 'Q18701' : -0.04,\n",
    " 'Q18801' : -0.02,\n",
    " 'Q18901' : -0.02,\n",
    " 'Q19201' : 0.05,\n",
    " 'Q19301' : -0.2,\n",
    " 'Q19401' : 0,\n",
    " 'Q19501' : -0.11,\n",
    " 'Q19601' : 0,\n",
    " 'Q19701' : 0.05,\n",
    " 'Q19801' : 0,\n",
    " 'Q19851' : -0.1,\n",
    " 'Q19871' : 0.15,\n",
    "}"
   ]
  },
  {
   "cell_type": "code",
   "execution_count": 14,
   "id": "10fdca29-a878-4395-88ce-d2f7afabc583",
   "metadata": {},
   "outputs": [],
   "source": [
    "# quadsToPerturbSValues = [ tao.ele_head(ele)[\"s\"] for ele in quadsToPerturb ] "
   ]
  },
  {
   "cell_type": "code",
   "execution_count": 15,
   "id": "063675ea-af62-4447-a93a-9c98cd5b9de6",
   "metadata": {},
   "outputs": [],
   "source": [
    "# quadPerturbValues = [ 1e-3 * pinkCurveXOffsets[ele] for ele in quadsToPerturb]\n",
    "\n",
    "\n",
    "\n",
    "# fig, ax = plt.subplots()\n",
    "# ax.scatter(quadsToPerturbSValues, 1e3 * np.array(quadPerturbValues) )\n",
    "\n",
    "# for i, txt in enumerate(quadsToPerturb):\n",
    "#     if i % 5 == 0:\n",
    "#         ax.annotate(txt, (quadsToPerturbSValues[i], (1e3 * np.array(quadPerturbValues))[i]))\n",
    "\n",
    "# ax.set_xlabel(\"s [m]\")\n",
    "# ax.set_ylabel(\"x error [mm]\")\n",
    "\n",
    "# plt.show()\n",
    "\n",
    "\n",
    "\n",
    "\n",
    "\n",
    "\n",
    "\n",
    "\n",
    "\n",
    "# quadPerturbValues = [ 1e-3 * pinkCurveYOffsets[ele] for ele in quadsToPerturb]\n",
    "\n",
    "# fig, ax = plt.subplots()\n",
    "# ax.scatter(quadsToPerturbSValues, 1e3 * np.array(quadPerturbValues) )\n",
    "\n",
    "# for i, txt in enumerate(quadsToPerturb):\n",
    "#     if i % 5 == 0:\n",
    "#         ax.annotate(txt, (quadsToPerturbSValues[i], (1e3 * np.array(quadPerturbValues))[i]))\n",
    "\n",
    "# ax.set_xlabel(\"s [m]\")\n",
    "# ax.set_ylabel(\"y error [mm]\")\n",
    "\n",
    "# plt.show()"
   ]
  },
  {
   "cell_type": "code",
   "execution_count": 16,
   "id": "02a166a9-4db9-4374-a14d-c72c87bb8e6f",
   "metadata": {},
   "outputs": [
    {
     "data": {
      "text/plain": [
       "[]"
      ]
     },
     "execution_count": 16,
     "metadata": {},
     "output_type": "execute_result"
    }
   ],
   "source": [
    "#Prevent recalculation until changes are made\n",
    "tao.cmd(\"set global lattice_calc_on = F\")\n",
    "\n",
    "for ele in quadsToPerturb:\n",
    "    #moveBy = 1e-3 * pinkCurveXOffsets[ele]\n",
    "    moveBy = 1e-3 * blueCurveXOffsets[ele]\n",
    "    #moveBy = 1e-3 * winter2025XOffsets[ele]\n",
    "    tao.cmd(f\"set ele {ele} X_OFFSET = {moveBy}\")\n",
    "\n",
    "\n",
    "    misalignmentConfig.append( [ ele, \"X_OFFSET\", moveBy ] ) \n",
    "    \n",
    "\n",
    "for ele in quadsToPerturb:\n",
    "    #moveBy = 1e-3 * pinkCurveYOffsets[ele]\n",
    "    moveBy = 1e-3 * blueCurveYOffsets[ele]\n",
    "    #moveBy = 1e-3 * winter2025YOffsets[ele]\n",
    "    tao.cmd(f\"set ele {ele} Y_OFFSET = {moveBy}\")\n",
    "\n",
    "\n",
    "    misalignmentConfig.append( [ ele, \"Y_OFFSET\", moveBy ] ) \n",
    "\n",
    "#Prevent recalculation until changes are made\n",
    "tao.cmd(\"set global lattice_calc_on = T\")"
   ]
  },
  {
   "cell_type": "code",
   "execution_count": 17,
   "id": "14c1d937-f7d8-4ab2-8ec3-a196ee91784f",
   "metadata": {},
   "outputs": [
    {
     "data": {
      "image/png": "[encoded data removed]",
      "text/plain": [
       "<Figure size 640x480 with 1 Axes>"
      ]
     },
     "metadata": {},
     "output_type": "display_data"
    },
    {
     "data": {
      "image/png": "[encoded data removed]",
      "text/plain": [
       "<Figure size 640x480 with 1 Axes>"
      ]
     },
     "metadata": {},
     "output_type": "display_data"
    }
   ],
   "source": [
    "fig, ax = plt.subplots()\n",
    "ax.scatter(\n",
    "    [ tao.ele_head(ele)[\"s\"] for ele in quadsToPerturb ],\n",
    "    [ 1e3 * (tao.ele_floor(ele)[\"Actual\"][0] - tao.ele_floor(ele)[\"Reference\"][0]) for ele in quadsToPerturb]\n",
    ")\n",
    "\n",
    "for i, txt in enumerate(quadsToPerturb):\n",
    "    if i % 5 == 0:\n",
    "        ax.annotate(txt, ([ tao.ele_head(ele)[\"s\"] for ele in quadsToPerturb ][i], [ 1e3 * (tao.ele_floor(ele)[\"Actual\"][0] - tao.ele_floor(ele)[\"Reference\"][0]) for ele in quadsToPerturb][i]))\n",
    "\n",
    "ax.set_xlabel(\"s [m]\")\n",
    "ax.set_ylabel(\"x error [mm]\")\n",
    "\n",
    "plt.show()\n",
    "\n",
    "\n",
    "fig, ax = plt.subplots()\n",
    "ax.scatter(\n",
    "    [ tao.ele_head(ele)[\"s\"] for ele in quadsToPerturb ],\n",
    "    [ 1e3 * (tao.ele_floor(ele)[\"Actual\"][1] - tao.ele_floor(ele)[\"Reference\"][1]) for ele in quadsToPerturb]\n",
    ")\n",
    "\n",
    "for i, txt in enumerate(quadsToPerturb):\n",
    "    if i % 5 == 0:\n",
    "        ax.annotate(txt, ([ tao.ele_head(ele)[\"s\"] for ele in quadsToPerturb ][i], [ 1e3 * (tao.ele_floor(ele)[\"Actual\"][1] - tao.ele_floor(ele)[\"Reference\"][1]) for ele in quadsToPerturb][i]))\n",
    "\n",
    "ax.set_xlabel(\"s [m]\")\n",
    "ax.set_ylabel(\"y error [mm]\")\n",
    "\n",
    "plt.show()"
   ]
  },
  {
   "cell_type": "code",
   "execution_count": 18,
   "id": "6f8dc685-e9d3-4894-9375-9100e1a42105",
   "metadata": {},
   "outputs": [
    {
     "name": "stdout",
     "output_type": "stream",
     "text": [
      "Loaded /tmp/beams/activeBeamFile_8908776830336422144.h5\n",
      "Set track_start = L0AFEND, track_end = Q19501\n",
      "Set track_end = ENDDL10\n",
      "Tracking!\n",
      "Beam centered at ENDDL10 written to /tmp/beams/patchBeamFile_8908776830336422144.h5\n",
      "Loaded /tmp/beams/patchBeamFile_8908776830336422144.h5\n",
      "Set track_start = ENDDL10, track_end = Q19501\n",
      "Tracking!\n",
      "trackBeam() exiting\n"
     ]
    }
   ],
   "source": [
    "setLattice(tao, **importedDefaultSettings)\n",
    "\n",
    "trackBeam(tao, \n",
    "          trackEnd = evalElement,\n",
    "          **importedDefaultSettings,\n",
    "          verbose = True\n",
    "         )"
   ]
  },
  {
   "cell_type": "code",
   "execution_count": 19,
   "id": "b93c88e5-837a-40ae-bbf2-82d59b9a38b2",
   "metadata": {},
   "outputs": [],
   "source": [
    "activeData = {}\n",
    "for activeEle in  [ \"PR10571\", \"WS12214\", \"BEGBC14_1\", \"ENDBC14_2\", \"Q19501\" ]:\n",
    "    # print(activeEle)\n",
    "    # print(f\"\"\"{getBeamAtElement(tao, activeEle).twiss(plane = \"x\", fraction = 0.9)[\"norm_emit_x\"] * 1e6:.2f}, {getBeamAtElement(tao, activeEle).twiss(plane = \"y\", fraction = 0.9)[\"norm_emit_y\"] * 1e6:.2f}\"\"\")\n",
    "    # print()\n",
    "    activeData[f\"{activeEle}_x\"] = getBeamAtElement(tao, activeEle).twiss(plane = \"x\", fraction = 0.9)[\"norm_emit_x\"] * 1e6\n",
    "    activeData[f\"{activeEle}_y\"] = getBeamAtElement(tao, activeEle).twiss(plane = \"y\", fraction = 0.9)[\"norm_emit_y\"] * 1e6\n",
    "    activeData[f\"{activeEle}_charge\"] = getBeamAtElement(tao, activeEle).charge * 1e9\n",
    "\n",
    "printableData = { key : f\"\"\"{activeData[key]:.2f}\"\"\" for key in activeData.keys() }"
   ]
  },
  {
   "cell_type": "code",
   "execution_count": 20,
   "id": "d6478d64-895e-4b24-be7c-cc2cd533e80a",
   "metadata": {},
   "outputs": [
    {
     "name": "stdout",
     "output_type": "stream",
     "text": [
      "+-------------------+---------------+---------------+\n",
      "| 90% RMS           |               |               |\n",
      "| emittance (not    |        X      |        Y      |\n",
      "| SI90!) [um-rad]   |               |               |\n",
      "+===================+===============+===============+\n",
      "| PR10571           |          3.89 |          2.91 |\n",
      "+-------------------+---------------+---------------+\n",
      "| WS12214           |          7.23 |          4.24 |\n",
      "+-------------------+---------------+---------------+\n",
      "| BEGBC14           |         11.73 |          6.57 |\n",
      "+-------------------+---------------+---------------+\n",
      "| ENDBC14           |         14.16 |          6.84 |\n",
      "+-------------------+---------------+---------------+\n",
      "| Q19501            |         21.59 |          7.22 |\n",
      "| (L3 wire proxy)   |               |               |\n",
      "+-------------------+---------------+---------------+\n"
     ]
    }
   ],
   "source": [
    "# print(tabulate([\n",
    "#     [\"PR10571\",                  printableData[\"PR10571_x\"],    printableData[\"PR10571_y\"]  , printableData[\"PR10571_charge\"]   ], \n",
    "#     [\"WS12214\",                  printableData[\"WS12214_x\"],    printableData[\"WS12214_y\"]  , printableData[\"WS12214_charge\"]   ],\n",
    "#     [\"BEGBC14\",                  printableData[\"BEGBC14_1_x\"],  printableData[\"BEGBC14_1_y\"], printableData[\"BEGBC14_1_charge\"] ],\n",
    "#     [\"ENDBC14\",                  printableData[\"ENDBC14_2_x\"],  printableData[\"ENDBC14_2_y\"], printableData[\"ENDBC14_2_charge\"] ],\n",
    "#     [\"Q19501\\n(L3 wire proxy)\",  printableData[\"Q19501_x\"],    printableData[\"Q19501_y\"]  , printableData[\"Q19501_charge\"]   ]\n",
    "# ], \n",
    "# [\"90% RMS\\nemittance (not\\nSI90!) [um-rad]\", \"\\n     X     \", \"\\n     Y     \", \"\\n  Charge  \"], \n",
    "# tablefmt=\"grid\"))\n",
    "\n",
    "print(tabulate([\n",
    "    [\"PR10571\",                  printableData[\"PR10571_x\"], printableData[\"PR10571_y\"]], \n",
    "    [\"WS12214\",                  printableData[\"WS12214_x\"], printableData[\"WS12214_y\"]],\n",
    "    [\"BEGBC14\",                  printableData[\"BEGBC14_1_x\"], printableData[\"BEGBC14_1_y\"]],\n",
    "    [\"ENDBC14\",                  printableData[\"ENDBC14_2_x\"], printableData[\"ENDBC14_2_y\"]],\n",
    "    [\"Q19501\\n(L3 wire proxy)\",  printableData[\"Q19501_x\"], printableData[\"Q19501_y\"]]\n",
    "], \n",
    "[\"90% RMS\\nemittance (not\\nSI90!) [um-rad]\", \"\\n     X     \", \"\\n     Y     \"], \n",
    "tablefmt=\"grid\"))"
   ]
  },
  {
   "cell_type": "code",
   "execution_count": 21,
   "id": "bf4a4be1-d26a-489c-9433-8d448c83dcfd",
   "metadata": {},
   "outputs": [
    {
     "data": {
      "image/png": "[encoded data removed]",
      "text/plain": [
       "<Figure size 640x480 with 1 Axes>"
      ]
     },
     "metadata": {},
     "output_type": "display_data"
    },
    {
     "data": {
      "image/png": "[encoded data removed]",
      "text/plain": [
       "<Figure size 640x480 with 1 Axes>"
      ]
     },
     "metadata": {},
     "output_type": "display_data"
    }
   ],
   "source": [
    "fig, ax = plt.subplots()\n",
    "\n",
    "ax.scatter(\n",
    "    [ tao.ele_head(ele)[\"s\"] for ele in allBPMNames ],\n",
    "    [getActualXOffset(tao,ele) for ele in allBPMNames]\n",
    ")\n",
    "\n",
    "\n",
    "ax.set_xlabel(\"s [m]\")\n",
    "ax.set_ylabel(\"x orbit [mm]\")\n",
    "plt.show()\n",
    "\n",
    "\n",
    "fig, ax = plt.subplots()\n",
    "ax.scatter(\n",
    "    [ tao.ele_head(ele)[\"s\"] for ele in allBPMNames ],\n",
    "    [getActualYOffset(tao,ele) for ele in allBPMNames]\n",
    ")\n",
    "\n",
    "\n",
    "ax.set_xlabel(\"s [m]\")\n",
    "ax.set_ylabel(\"y orbit [mm]\")\n",
    "plt.show()"
   ]
  },
  {
   "cell_type": "markdown",
   "id": "ede3ae24-33f4-4c78-9fdd-2d3d34eaaccd",
   "metadata": {},
   "source": [
    "## Steered"
   ]
  },
  {
   "cell_type": "markdown",
   "id": "3a2c4973-55f7-48e7-80a9-a0746994e76b",
   "metadata": {
    "jp-MarkdownHeadingCollapsed": true
   },
   "source": [
    "### Optionally preload kickers"
   ]
  },
  {
   "cell_type": "code",
   "execution_count": 22,
   "id": "b96d1d07-9fe2-478c-ab46-d8a716abc10f",
   "metadata": {},
   "outputs": [],
   "source": [
    "# xKickerValues = [-0.0012299156922367899, 0.0036909198251430498, -0.00204853413134078, -0.00113618734636576, -0.00010707036734953999, 0.0018503840040792199, -0.000902582069530623, 0.000486558828588583, -9.30377049596747e-06, -0.00162764257001566, -0.0007864095900374909, 0.00288353992098441, -0.000372964681946411, -0.00132200186597416, 0.00303757740882419, -0.00206124656304639, -0.00203862436429762, -0.00400715025057273, 0.00463196263285361, -0.0013967433117998901, 0.0039611767933695, -0.004377137697973221, 0.0015122432815238701, 0.00129789485523317, -0.00164943680604406, -0.000180445674956334, -0.00144831518313112, 0.000560751730429244, 0.00216100575736701, -0.00149335566268395, -0.00337655860107747, 0.004685008365390941, -9.5089232505786e-05, -0.00210030853225945, -0.000245241342153187, 0.0060717646583403895, -0.012570063821848, 0.0181249332942992, -0.016497503410775098, 0.005811504564040251, -0.0173642202286929, 0.0101380556777665, 0.008293739047139311, -0.0035113480141178996, 0.00928143598070091, -0.0026814844568181498, -0.000684951690275022, 0.0184959637008592, -0.0281149477295563, 0.00921078680620006, 0.00232169067531163, -0.0135955349911843, 0.00850974595607686, 0.00693078628740278, -0.000958681921002528, 0.00197396799761499, 0.00057913668167686, 0.00115044700442295, -0.021063474181237298, 0.013218090790981398, 0.009053202870915919, -0.0155628348635141, -0.00791267513408398, -0.000576324301864178]\n",
    "# yKickerValues = [5.2038121974675505e-06, 0.000570666872175789, -0.00188332248923009, 0.0029910220178399997, -0.0009395099805594, -0.00147092375718302, -0.0008142579775059451, 0.0018002996166825301, 0.0013525567175661, 0.000170077193888489, -0.0036988479946142103, 0.00115276259447897, 0.0014732704685902899, -0.00150675560112717, 0.00374856038729915, -0.00602678539043203, 0.0055114825149359704, -0.00247903103616616, 0.0008345048363330391, 0.000574055663751803, 0.00177244367851246, -0.00733090967370042, 0.00255212901153451, -0.00040537363857239797, 0.00118836358446691, 0.00167533359331289, -0.0038938636944816, 0.00164506772559532, -0.00164033214904835, 0.00795096444091511, -0.00602058549534672, -0.00666060389815986, 0.0109651898291528, -0.000769514555031381, 0.00516690402699234, -0.00908495612922779, 0.000496844838541578, 0.0118395731497786, -0.013278757733055, 0.00684118531752646, -0.0016179535859312199, -0.0102270112965072, 0.00788126341679176, 0.00336742219120618, -0.00400490349809543, 0.00920189224981259, -0.0242298711993343, 0.016578124946707, 0.00454387727616169, -0.0303390102627955, 0.023206192155439297, -0.0014063007575518599, 0.0101151552242774, 0.00549539553993355, -0.0251435613026557, 0.00860442077483992, -0.005946138018279279, 0.00851519102985466, 0.012646848463357301, -0.013195376840272902, 0.0132594801984318, -0.00645862118871811, 0.0657126590028921, 0.0662649325692348, -0.096276601055134, -0.124118428, -0.10484239362]\n",
    "\n",
    "# for kicker, value in zip(allHKickerNames, xKickerValues):\n",
    "#     setKickerkG(tao, kicker, value)\n",
    "\n",
    "# for kicker, value in zip(allVKickerNames, yKickerValues):\n",
    "#     setKickerkG(tao, kicker, value)"
   ]
  },
  {
   "cell_type": "code",
   "execution_count": 23,
   "id": "f99a1273-8e41-4f65-8d83-4ffef13009d6",
   "metadata": {},
   "outputs": [],
   "source": [
    "# trackBeam(tao, \n",
    "#           trackEnd = evalElement,\n",
    "#           **importedDefaultSettings,\n",
    "#           verbose = True\n",
    "#          )\n",
    "\n",
    "# activeData = {}\n",
    "# for activeEle in  [ \"PR10571\", \"WS12214\", \"BEGBC14_1\", \"ENDBC14_2\", \"Q19501\" ]:\n",
    "#     # print(activeEle)\n",
    "#     # print(f\"\"\"{getBeamAtElement(tao, activeEle).twiss(plane = \"x\", fraction = 0.9)[\"norm_emit_x\"] * 1e6:.2f}, {getBeamAtElement(tao, activeEle).twiss(plane = \"y\", fraction = 0.9)[\"norm_emit_y\"] * 1e6:.2f}\"\"\")\n",
    "#     # print()\n",
    "#     activeData[f\"{activeEle}_x\"] = getBeamAtElement(tao, activeEle).twiss(plane = \"x\", fraction = 0.9)[\"norm_emit_x\"] * 1e6\n",
    "#     activeData[f\"{activeEle}_y\"] = getBeamAtElement(tao, activeEle).twiss(plane = \"y\", fraction = 0.9)[\"norm_emit_y\"] * 1e6\n",
    "#     activeData[f\"{activeEle}_charge\"] = getBeamAtElement(tao, activeEle).charge * 1e9\n",
    "\n",
    "# printableData = { key : f\"\"\"{activeData[key]:.2f}\"\"\" for key in activeData.keys() }\n",
    "\n",
    "\n",
    "# print(tabulate([\n",
    "#     [\"PR10571\",                  printableData[\"PR10571_x\"],    printableData[\"PR10571_y\"]  , printableData[\"PR10571_charge\"]   ], \n",
    "#     [\"WS12214\",                  printableData[\"WS12214_x\"],    printableData[\"WS12214_y\"]  , printableData[\"WS12214_charge\"]   ],\n",
    "#     [\"BEGBC14\",                  printableData[\"BEGBC14_1_x\"],  printableData[\"BEGBC14_1_y\"], printableData[\"BEGBC14_1_charge\"] ],\n",
    "#     [\"ENDBC14\",                  printableData[\"ENDBC14_2_x\"],  printableData[\"ENDBC14_2_y\"], printableData[\"ENDBC14_2_charge\"] ],\n",
    "#     [\"Q19501\\n(L3 wire proxy)\", printableData[\"Q19501_x\"],    printableData[\"Q19501_y\"]  , printableData[\"Q19501_charge\"]   ]\n",
    "# ], \n",
    "# [\"90% RMS\\nemittance (not\\nSI90!) [um-rad]\", \"\\n     X     \", \"\\n     Y     \", \"\\n  Charge  \"], \n",
    "# tablefmt=\"grid\"))"
   ]
  },
  {
   "cell_type": "code",
   "execution_count": 24,
   "id": "7b32c0a4-b0c4-4b9f-a8e1-eee4f1afc9f5",
   "metadata": {},
   "outputs": [],
   "source": [
    "# fig, ax = plt.subplots()\n",
    "\n",
    "# ax.scatter(\n",
    "#     [ tao.ele_head(ele)[\"s\"] for ele in allBPMNames ],\n",
    "#     [getActualXOffset(tao,ele) for ele in allBPMNames]\n",
    "# )\n",
    "\n",
    "\n",
    "# ax.set_xlabel(\"s [m]\")\n",
    "# ax.set_ylabel(\"x orbit [mm]\")\n",
    "# plt.show()\n",
    "\n",
    "\n",
    "# fig, ax = plt.subplots()\n",
    "# ax.scatter(\n",
    "#     [ tao.ele_head(ele)[\"s\"] for ele in allBPMNames ],\n",
    "#     [getActualYOffset(tao,ele) for ele in allBPMNames]\n",
    "# )\n",
    "\n",
    "\n",
    "# ax.set_xlabel(\"s [m]\")\n",
    "# ax.set_ylabel(\"y orbit [mm]\")\n",
    "# plt.show()"
   ]
  },
  {
   "cell_type": "markdown",
   "id": "1614b489-6a27-4262-81a3-bdd42c2c73b1",
   "metadata": {},
   "source": [
    "### Optimizer"
   ]
  },
  {
   "cell_type": "code",
   "execution_count": null,
   "id": "05ac8cf8-1206-4d21-a57f-56c0891f0ec0",
   "metadata": {},
   "outputs": [],
   "source": [
    "xPerturbationMatrix = makeXPerturbationMatrix( 1e-6 , trackEnd = evalElement ) \n",
    "\n",
    "xKickerChanges = solveForKickerCorrectionsBounded(\n",
    "    xPerturbationMatrix,\n",
    "    [ getActualXOffset( tao, ele ) for ele in allBPMNames ],\n",
    "    bound = 0.2\n",
    ")\n",
    "\n",
    "for kicker, change in zip(allHKickerNames, xKickerChanges):\n",
    "    setKickerkG(tao, kicker, getKickerkG(tao, kicker) + change)\n",
    "\n",
    "trackBeam(tao, \n",
    "          trackEnd = evalElement,\n",
    "          **importedDefaultSettings,\n",
    "          verbose = True\n",
    "         )"
   ]
  },
  {
   "cell_type": "code",
   "execution_count": null,
   "id": "c97f89f1-c61b-4656-990f-ef3fee1a905c",
   "metadata": {},
   "outputs": [],
   "source": [
    "yPerturbationMatrix = makeYPerturbationMatrix( 1e-6 , trackEnd = evalElement ) \n",
    "\n",
    "yKickerChanges = solveForKickerCorrectionsBounded(\n",
    "    yPerturbationMatrix,\n",
    "    [ getActualYOffset( tao, ele ) for ele in allBPMNames ],\n",
    "    bound = 0.2\n",
    ")\n",
    "\n",
    "for kicker, change in zip(allVKickerNames, yKickerChanges):\n",
    "    setKickerkG(tao, kicker, getKickerkG(tao, kicker) + change)\n",
    "\n",
    "trackBeam(tao, \n",
    "          trackEnd = evalElement,\n",
    "          **importedDefaultSettings,\n",
    "          verbose = True\n",
    "         )"
   ]
  },
  {
   "cell_type": "code",
   "execution_count": null,
   "id": "685fc24a-96d1-4b35-828d-ab67e04dac9a",
   "metadata": {},
   "outputs": [],
   "source": [
    "fig, ax = plt.subplots()\n",
    "\n",
    "ax.scatter(\n",
    "    [ tao.ele_head(ele)[\"s\"] for ele in allBPMNames ],\n",
    "    [getActualXOffset(tao,ele) for ele in allBPMNames]\n",
    ")\n",
    "\n",
    "\n",
    "ax.set_xlabel(\"s [m]\")\n",
    "ax.set_ylabel(\"x orbit [mm]\")\n",
    "plt.show()\n",
    "\n",
    "\n",
    "fig, ax = plt.subplots()\n",
    "ax.scatter(\n",
    "    [ tao.ele_head(ele)[\"s\"] for ele in allBPMNames ],\n",
    "    [getActualYOffset(tao,ele) for ele in allBPMNames]\n",
    ")\n",
    "\n",
    "\n",
    "ax.set_xlabel(\"s [m]\")\n",
    "ax.set_ylabel(\"y orbit [mm]\")\n",
    "plt.show()"
   ]
  },
  {
   "cell_type": "code",
   "execution_count": null,
   "id": "c71825de-17aa-4c0a-9c0c-c4f93191d854",
   "metadata": {},
   "outputs": [],
   "source": [
    "activeData = {}\n",
    "for activeEle in  [ \"PR10571\", \"WS12214\", \"BEGBC14_1\", \"ENDBC14_2\", \"Q19501\" ]:\n",
    "    # print(activeEle)\n",
    "    # print(f\"\"\"{getBeamAtElement(tao, activeEle).twiss(plane = \"x\", fraction = 0.9)[\"norm_emit_x\"] * 1e6:.2f}, {getBeamAtElement(tao, activeEle).twiss(plane = \"y\", fraction = 0.9)[\"norm_emit_y\"] * 1e6:.2f}\"\"\")\n",
    "    # print()\n",
    "    activeData[f\"{activeEle}_x\"] = getBeamAtElement(tao, activeEle).twiss(plane = \"x\", fraction = 0.9)[\"norm_emit_x\"] * 1e6\n",
    "    activeData[f\"{activeEle}_y\"] = getBeamAtElement(tao, activeEle).twiss(plane = \"y\", fraction = 0.9)[\"norm_emit_y\"] * 1e6\n",
    "\n",
    "printableData = { key : f\"\"\"{activeData[key]:.2f}\"\"\" for key in activeData.keys() }\n",
    "\n",
    "print(tabulate([\n",
    "    [\"PR10571\",                  printableData[\"PR10571_x\"], printableData[\"PR10571_y\"]], \n",
    "    [\"WS12214\",                  printableData[\"WS12214_x\"], printableData[\"WS12214_y\"]],\n",
    "    [\"BEGBC14\",                  printableData[\"BEGBC14_1_x\"], printableData[\"BEGBC14_1_y\"]],\n",
    "    [\"ENDBC14\",                  printableData[\"ENDBC14_2_x\"], printableData[\"ENDBC14_2_y\"]],\n",
    "    [\"Q19501\\n(L3 wire proxy)\",  printableData[\"Q19501_x\"], printableData[\"Q19501_y\"]]\n",
    "], \n",
    "[\"90% RMS\\nemittance (not\\nSI90!) [um-rad]\", \"\\n     X     \", \"\\n     Y     \"], \n",
    "tablefmt=\"grid\"))"
   ]
  },
  {
   "cell_type": "code",
   "execution_count": null,
   "id": "7b68b737-0fa3-4635-afae-d5a441cb7c32",
   "metadata": {},
   "outputs": [],
   "source": [
    "print( [ getKickerkG( tao, kicker ) for kicker in allHKickerNames ] )\n",
    "print( [ getKickerkG( tao, kicker ) for kicker in allVKickerNames ] )"
   ]
  },
  {
   "cell_type": "code",
   "execution_count": null,
   "id": "9fd1cacc-e662-4e23-8457-36b33dbc5e67",
   "metadata": {},
   "outputs": [],
   "source": [
    "for ele in allHKickerNames:\n",
    "    steeringConfig.append( [ ele, \"BL_KICK\", tao.ele_gen_attribs(ele)[\"BL_KICK\"] ] )\n",
    "    \n",
    "for ele in allVKickerNames:\n",
    "    steeringConfig.append( [ ele, \"BL_KICK\", tao.ele_gen_attribs(ele)[\"BL_KICK\"] ] )"
   ]
  },
  {
   "cell_type": "code",
   "execution_count": null,
   "id": "df4c59eb-0bbe-44d9-81da-c5fcc696cd85",
   "metadata": {},
   "outputs": [],
   "source": [
    "# with open('./other_configs/pinkCurveMisalignments.json', 'w') as f:\n",
    "#     json.dump(misalignmentConfig, f)\n",
    "\n",
    "# with open('./other_configs/2025-06-12_pinkCurveSteering.json', 'w') as f:\n",
    "#     json.dump(steeringConfig, f)"
   ]
  },
  {
   "cell_type": "code",
   "execution_count": null,
   "id": "bc9be6ce-7343-4816-afad-7c7248304306",
   "metadata": {},
   "outputs": [],
   "source": [
    "with open('./other_configs/blueCurveMisalignments.json', 'w') as f:\n",
    "    json.dump(misalignmentConfig, f)\n",
    "\n",
    "with open('./other_configs/2025-06-12_blueCurveSteering.json', 'w') as f:\n",
    "    json.dump(steeringConfig, f)"
   ]
  },
  {
   "cell_type": "code",
   "execution_count": null,
   "id": "9b72861b-cc41-49bb-afee-d727161e85af",
   "metadata": {},
   "outputs": [],
   "source": []
  },
  {
   "cell_type": "code",
   "execution_count": null,
   "id": "17cc55fe-85d6-492e-a7f5-0f11af003f8a",
   "metadata": {},
   "outputs": [],
   "source": []
  }
 ],
 "metadata": {
  "kernelspec": {
   "display_name": "Python 3 (ipykernel)",
   "language": "python",
   "name": "python3"
  },
  "language_info": {
   "codemirror_mode": {
    "name": "ipython",
    "version": 3
   },
   "file_extension": ".py",
   "mimetype": "text/x-python",
   "name": "python",
   "nbconvert_exporter": "python",
   "pygments_lexer": "ipython3",
   "version": "3.11.11"
  }
 },
 "nbformat": 4,
 "nbformat_minor": 5
}
