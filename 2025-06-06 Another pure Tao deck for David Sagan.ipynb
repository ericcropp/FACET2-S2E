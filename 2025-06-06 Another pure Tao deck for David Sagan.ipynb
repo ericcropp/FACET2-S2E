{
 "cells": [
  {
   "cell_type": "code",
   "execution_count": 1,
   "id": "9023a44f-d316-43e6-9def-1c9119dbd5ee",
   "metadata": {},
   "outputs": [],
   "source": [
    "from UTILITY_quickstart import *\n",
    "import json\n",
    "\n",
    "importedDefaultSettings = loadConfig(\"setLattice_configs/2024-10-14_twoBunch_baseline.yml\")"
   ]
  },
  {
   "cell_type": "code",
   "execution_count": 2,
   "id": "81545104-296e-410d-8746-9c420895b6b3",
   "metadata": {},
   "outputs": [
    {
     "name": "stdout",
     "output_type": "stream",
     "text": [
      "Environment set to:  /Users/nmajik/Documents/SLAC/FACET2-Bmad-PyTao\n",
      "Tracking to end\n",
      "CSR on\n",
      "Overwriting lattice with setLattice() defaults\n",
      "No defaults file provided to setLattice(). Using setLattice_configs/defaults.yml\n",
      "Number of macro particles = 10000.0\n",
      "Beam created, written to /tmp/beams/activeBeamFile_3559250037848859633.h5, and reinit to tao\n"
     ]
    }
   ],
   "source": [
    "csrTF = True\n",
    "\n",
    "tao = initializeTao(\n",
    "    inputBeamFilePathSuffix = importedDefaultSettings[\"inputBeamFilePathSuffix\"],\n",
    "    csrTF = csrTF,\n",
    "    numMacroParticles=1e4,\n",
    "    scratchPath = \"/tmp\",\n",
    "    randomizeFileNames = True\n",
    ")\n",
    "\n",
    "setLattice(tao, **importedDefaultSettings)"
   ]
  },
  {
   "cell_type": "code",
   "execution_count": 3,
   "id": "eed5c765-bcb2-4b62-bbf7-75d92702e37f",
   "metadata": {},
   "outputs": [
    {
     "data": {
      "text/plain": [
       "['[INFO] tao_write_cmd:', '    Written: 2025-06-06_lat_nominal.bmad']"
      ]
     },
     "execution_count": 3,
     "metadata": {},
     "output_type": "execute_result"
    }
   ],
   "source": [
    "tao.cmd(\"write bmad 2025-06-06_lat_nominal.bmad\")"
   ]
  },
  {
   "cell_type": "code",
   "execution_count": 4,
   "id": "d26cd230-e3a4-4394-9b56-68dd4e5340ad",
   "metadata": {},
   "outputs": [],
   "source": [
    "L1MatchStrings, L2MatchStrings, L3MatchStrings, selectMarkers = getLinacMatchStrings(tao)\n",
    "L0BMatchStrings = [\"L0BF\"]"
   ]
  },
  {
   "cell_type": "code",
   "execution_count": 5,
   "id": "41fe6a66-427c-4586-ba58-f968b426810a",
   "metadata": {},
   "outputs": [
    {
     "data": {
      "text/plain": [
       "[]"
      ]
     },
     "execution_count": 5,
     "metadata": {},
     "output_type": "execute_result"
    }
   ],
   "source": [
    "#Prevent recalculation until changes are made\n",
    "tao.cmd(\"set global lattice_calc_on = F\")   \n",
    "\n",
    "#Convert to \"turns\"\n",
    "L0BPhaseError = (0.0) / 360.0 \n",
    "L1PhaseError  = (1.0) / 360.0 \n",
    "L2PhaseError  = (1.0) / 360.0 \n",
    "L3PhaseError  = (1.0) / 360.0\n",
    "\n",
    "[ tao.cmd(f\"set ele {ele} PHI0_ERR = {L0BPhaseError}\") for ele in L0BMatchStrings ]\n",
    "[ tao.cmd(f\"set ele {ele} PHI0_ERR = {L1PhaseError}\")  for ele in L1MatchStrings  ]\n",
    "[ tao.cmd(f\"set ele {ele} PHI0_ERR = {L2PhaseError}\")  for ele in L2MatchStrings  ]\n",
    "[ tao.cmd(f\"set ele {ele} PHI0_ERR = {L3PhaseError}\")  for ele in L3MatchStrings  ]\n",
    "\n",
    "#Reenable lattice calculations\n",
    "tao.cmd(\"set global lattice_calc_on = T\")"
   ]
  },
  {
   "cell_type": "code",
   "execution_count": 6,
   "id": "e249a20f-a476-4a5a-9334-7d3a15414148",
   "metadata": {},
   "outputs": [
    {
     "data": {
      "text/plain": [
       "['[INFO] tao_write_cmd:', '    Written: 2025-06-06_lat_perturbed.bmad']"
      ]
     },
     "execution_count": 6,
     "metadata": {},
     "output_type": "execute_result"
    }
   ],
   "source": [
    "tao.cmd(\"write bmad 2025-06-06_lat_perturbed.bmad\")"
   ]
  }
 ],
 "metadata": {
  "kernelspec": {
   "display_name": "Python 3 (ipykernel)",
   "language": "python",
   "name": "python3"
  },
  "language_info": {
   "codemirror_mode": {
    "name": "ipython",
    "version": 3
   },
   "file_extension": ".py",
   "mimetype": "text/x-python",
   "name": "python",
   "nbconvert_exporter": "python",
   "pygments_lexer": "ipython3",
   "version": "3.11.11"
  }
 },
 "nbformat": 4,
 "nbformat_minor": 5
}
