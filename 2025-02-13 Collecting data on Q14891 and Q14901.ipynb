{
 "cells": [
  {
   "cell_type": "code",
   "execution_count": 1,
   "id": "9d482376-cce8-4c97-9908-baa721f4bf59",
   "metadata": {},
   "outputs": [],
   "source": [
    "from UTILITY_quickstart import *\n",
    "\n",
    "importedDefaultSettings = loadConfig(\"setLattice_configs/2024-10-22_oneBunch_baseline.yml\")"
   ]
  },
  {
   "cell_type": "code",
   "execution_count": 2,
   "id": "5f0ed7fd-0513-4fd9-a59d-8f22f50ab0eb",
   "metadata": {},
   "outputs": [
    {
     "name": "stdout",
     "output_type": "stream",
     "text": [
      "Environment set to:  /Users/nmajik/Documents/SLAC/FACET2-Bmad-PyTao\n",
      "Tracking to end\n",
      "CSR on\n",
      "Overwriting lattice with setLattice() defaults\n",
      "No defaults file provided to setLattice(). Using setLattice_configs/defaults.yml\n",
      "Number of macro particles = 100000.0\n",
      "Beam created, written to /tmp/beams/activeBeamFile_300543051184600360.h5, and reinit to tao\n",
      "No evalElement provided. Assuming golden lattice PR10571\n",
      "Optimization Results:\n",
      "Optimal Parameters: [28.77865964 13.39705392 23.51276157 16.83077823]\n",
      "Objective Function Value at Optimal Parameters: 3.875225216013324e-12\n",
      "Number of Iterations: 354\n",
      "Converged: True\n"
     ]
    }
   ],
   "source": [
    "csrTF = True\n",
    "\n",
    "\n",
    "bunchCount = importedDefaultSettings[\"bunchCount\"]\n",
    "\n",
    "tao = initializeTao(\n",
    "    inputBeamFilePathSuffix = importedDefaultSettings[\"inputBeamFilePathSuffix\"],\n",
    "    \n",
    "    csrTF = csrTF,\n",
    "    numMacroParticles=1e5,\n",
    "    scratchPath = \"/tmp\",\n",
    "    randomizeFileNames = True\n",
    ")\n",
    "\n",
    "setLattice(tao, **importedDefaultSettings)\n",
    "launchTwissCorrection(tao)"
   ]
  },
  {
   "cell_type": "code",
   "execution_count": 3,
   "id": "0145a2ff-4259-4fc7-87ad-65477a8ddf89",
   "metadata": {},
   "outputs": [
    {
     "data": {
      "text/plain": [
       "[]"
      ]
     },
     "execution_count": 3,
     "metadata": {},
     "output_type": "execute_result"
    }
   ],
   "source": [
    "tao.cmd(f\"set ele TCY15280 VOLTAGE = 20e6\")"
   ]
  },
  {
   "cell_type": "code",
   "execution_count": 4,
   "id": "637edc2a-2946-4875-ac14-a841e893a687",
   "metadata": {},
   "outputs": [],
   "source": [
    "data = []\n",
    "\n",
    "for QM14891set in np.arange(0, 60, 5):\n",
    "    for Q14901set in np.arange(-60, 0, 5):\n",
    "        setQuadkG(tao, \"QM14891\", QM14891set)\n",
    "        setQuadkG(tao, \"Q14901\", Q14901set)\n",
    "\n",
    "        transferMatrix = getMatrix(tao, \"ENDBC14E\", \"PR15944\")\n",
    "\n",
    "        data.append( [ QM14891set, Q14901set, transferMatrix[0][0], transferMatrix[0][1], transferMatrix[2][2], transferMatrix[2][3] ] ) \n",
    "\n",
    "\n",
    "    "
   ]
  },
  {
   "cell_type": "code",
   "execution_count": 5,
   "id": "cc7d115f-541f-4cf3-b3d8-1b63bbdcbcf9",
   "metadata": {},
   "outputs": [],
   "source": [
    "df = pd.DataFrame(data)\n",
    "df.to_csv(\"~/data.csv\")"
   ]
  },
  {
   "cell_type": "code",
   "execution_count": null,
   "id": "69729d99-c907-40b4-a969-38fda4a7e9fe",
   "metadata": {},
   "outputs": [],
   "source": []
  }
 ],
 "metadata": {
  "kernelspec": {
   "display_name": "Python 3 (ipykernel)",
   "language": "python",
   "name": "python3"
  },
  "language_info": {
   "codemirror_mode": {
    "name": "ipython",
    "version": 3
   },
   "file_extension": ".py",
   "mimetype": "text/x-python",
   "name": "python",
   "nbconvert_exporter": "python",
   "pygments_lexer": "ipython3",
   "version": "3.11.8"
  }
 },
 "nbformat": 4,
 "nbformat_minor": 5
}
