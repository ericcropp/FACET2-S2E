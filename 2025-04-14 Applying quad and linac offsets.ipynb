{
 "cells": [
  {
   "cell_type": "markdown",
   "id": "60c1a259-1637-4503-823b-44a07a2a5bf4",
   "metadata": {},
   "source": [
    "## Setup"
   ]
  },
  {
   "cell_type": "code",
   "execution_count": 11,
   "id": "6707ecdc-1546-4668-a932-17ee8a468e55",
   "metadata": {},
   "outputs": [],
   "source": [
    "from UTILITY_quickstart import *  \n",
    "from tabulate import tabulate\n",
    "\n",
    "#importedDefaultSettings = loadConfig(\"setLattice_configs/2024-10-22_oneBunch_baseline.yml\") \n",
    "importedDefaultSettings = loadConfig(\"setLattice_configs/2024-10-22_oneBunch_baseline2.yml\")  \n",
    "\n",
    "#New DL10 centering \n",
    "importedDefaultSettings = importedDefaultSettings | {\"centerDL10\" : True}\n",
    "\n",
    "#Low energy spread config, see \"2025-04-17 Developing low energy spread through linacs case.ipynb\"\n",
    "importedDefaultSettings = importedDefaultSettings | {\"L1PhaseSet\" : -10, \"L2PhaseSet\" : -7, \"L3PhaseSet\" : -7}"
   ]
  },
  {
   "cell_type": "code",
   "execution_count": 12,
   "id": "fcceb062-ded8-4b70-b182-9e7b145995b5",
   "metadata": {},
   "outputs": [
    {
     "name": "stdout",
     "output_type": "stream",
     "text": [
      "Environment set to:  /Users/nmajik/Documents/SLAC/FACET2-Bmad-PyTao\n",
      "Transverse wakes enabled!\n",
      "Tracking to end\n",
      "CSR on\n",
      "Overwriting lattice with setLattice() defaults\n",
      "No defaults file provided to setLattice(). Using setLattice_configs/defaults.yml\n",
      "Number of macro particles = 10000.0\n",
      "Beam created, written to /tmp/beams/activeBeamFile_7429090109378529708.h5, and reinit to tao\n"
     ]
    }
   ],
   "source": [
    "csrTF = True \n",
    "evalElement = \"BEGBC20\"   \n",
    "inputBeamFilePathSuffix = importedDefaultSettings[\"inputBeamFilePathSuffix\"] \n",
    "bunchCount = importedDefaultSettings[\"bunchCount\"] \n",
    "tao = initializeTao(     \n",
    "    inputBeamFilePathSuffix = inputBeamFilePathSuffix,          \n",
    "    csrTF = csrTF,     \n",
    "    numMacroParticles=1e4,     \n",
    "    scratchPath = \"/tmp\",     \n",
    "    randomizeFileNames = True,      \n",
    "    transverseWakes = True \n",
    ")"
   ]
  },
  {
   "cell_type": "code",
   "execution_count": 13,
   "id": "fefb2f54-2c31-4038-9887-b43e76c44afa",
   "metadata": {},
   "outputs": [
    {
     "name": "stdout",
     "output_type": "stream",
     "text": [
      "Loaded /tmp/beams/activeBeamFile_7429090109378529708.h5\n",
      "Set track_start = L0AFEND, track_end = L0BFEND\n",
      "Tracking!\n",
      "trackBeam() exiting\n"
     ]
    }
   ],
   "source": [
    "trackBeam(tao, \n",
    "          trackEnd = \"L0BFEND\", \n",
    "          verbose = True\n",
    "         ) \n",
    "PInit = getBeamAtElement(tao, \"L0AFEND\")\n",
    "\n",
    "artificialFactor = 1.3 \n",
    "#artificialFactor = 1.0 \n",
    "PInit.x = artificialFactor * PInit.x \n",
    "PInit.px = artificialFactor * PInit.px \n",
    "PInit.y = artificialFactor * PInit.y \n",
    "PInit.py = artificialFactor * PInit.py  \n",
    "\n",
    "makeBeamActiveBeamFile(PInit, tao = tao)"
   ]
  },
  {
   "cell_type": "code",
   "execution_count": 14,
   "id": "3212213e-381a-41e2-a600-1ea36a731842",
   "metadata": {},
   "outputs": [],
   "source": [
    "# tao.lat_list(\"Q*\", \"ele.name\", flags=\"-no_slaves\")  \n",
    "# Manually pared from above\n",
    "quadsToPerturb = ['QM10771',  'QM10781',  'QA11132',  'Q11201',  'QA11265',  'Q11301',  'QM11312',  'QM11358',  'QM11362',  'QM11393',  'Q11401',  'Q11501',  'Q11601',  'Q11701',  'Q11801',  'Q11901',  'Q12201',  'Q12301',  'Q12401',  'Q12501',  'Q12601',  'Q12701',  'Q12801',  'Q12901',  'Q13201',  'Q13301',  'Q13401',  'Q13501',  'Q13601',  'Q13701',  'Q13801',  'Q13901',  'Q14201',  'Q14301',  'Q14401',  'Q14501',  'Q14601',  'Q14701',  'QM14715',  'QM14891',  'Q14901',  'Q15201',  'Q15301',  'Q15401',  'Q15501',  'Q15601',  'Q15701',  'Q15801',  'Q15901',  'Q16201',  'Q16301',  'Q16401',  'Q16501',  'Q16601',  'Q16701',  'Q16801',  'Q16901',  'Q17201',  'Q17301',  'Q17401',  'Q17501',  'Q17601',  'Q17701',  'Q17801',  'Q17901',  'Q18201',  'Q18301',  'Q18401',  'Q18501',  'Q18601',  'Q18701',  'Q18801',  'Q18901',  'Q19201',  'Q19301',  'Q19401',  'Q19501',  'Q19601',  'Q19701',  'Q19801',  'Q19851',  'Q19871', ]"
   ]
  },
  {
   "cell_type": "code",
   "execution_count": 15,
   "id": "7f9c9c5a-e951-4d19-8422-7e78d78ce2cb",
   "metadata": {},
   "outputs": [],
   "source": [
    "#tao.lat_list(\"K*\", \"ele.name\", flags=\"-no_slaves\")\n",
    "# Manually pared from above\n",
    "linacsToPerturb = ['K11_4A', 'K11_4B', 'K11_4C', 'K11_4D', 'K11_5A', 'K11_5B', 'K11_5C', 'K11_5D', 'K11_6A', 'K11_6B', 'K11_6C', 'K11_6D', 'K11_7A', 'K11_7B', 'K11_7C', 'K11_7D', 'K11_8A', 'K11_8B', 'K11_8C', 'K11_8D', 'K12_1A', 'K12_1B', 'K12_1C', 'K12_1D', 'K12_2A', 'K12_2B', 'K12_2C', 'K12_2D', 'K12_3A', 'K12_3B', 'K12_3C', 'K12_3D', 'K12_4A', 'K12_4B', 'K12_4C', 'K12_4D', 'K12_5A', 'K12_5B', 'K12_5C', 'K12_5D', 'K12_6A', 'K12_6B', 'K12_6C', 'K12_6D', 'K12_7A', 'K12_7B', 'K12_7C', 'K12_7D', 'K12_8A', 'K12_8B', 'K12_8C', 'K12_8D', 'K13_1A', 'K13_1B', 'K13_1C', 'K13_1D', 'K13_2A', 'K13_2B', 'K13_2C', 'K13_2D', 'K13_3A', 'K13_3B', 'K13_3C', 'K13_3D', 'K13_4A', 'K13_4B', 'K13_4C', 'K13_4D', 'K13_5A', 'K13_5B', 'K13_5C', 'K13_5D', 'K13_6A', 'K13_6B', 'K13_6C', 'K13_6D', 'K13_7A', 'K13_7B', 'K13_7C', 'K13_7D', 'K13_8A', 'K13_8B', 'K13_8C', 'K13_8D', 'K14_1A', 'K14_1B', 'K14_1C', 'K14_1D', 'K14_2A', 'K14_2B', 'K14_2C', 'K14_2D', 'K14_3A', 'K14_3B', 'K14_3C', 'K14_3D', 'K14_4A', 'K14_4B', 'K14_4C', 'K14_4D', 'K14_5A', 'K14_5B', 'K14_5C', 'K14_5D', 'K14_6A', 'K14_6B', 'K14_6C', 'K14_6D', 'K15_1A', 'K15_1B', 'K15_1C', 'K15_1D', 'K15_2A', 'K15_2B', 'K15_2C', 'K15_3A', 'K15_3B', 'K15_3C', 'K15_3D', 'K15_4A', 'K15_4B', 'K15_4C', 'K15_4D', 'K15_5A', 'K15_5B', 'K15_5C', 'K15_5D', 'K15_6A', 'K15_6B', 'K15_6C', 'K15_6D', 'K15_7A', 'K15_7B', 'K15_7C', 'K15_7D', 'K15_8A', 'K15_8B', 'K15_8C', 'K15_8D', 'K16_1A', 'K16_1B', 'K16_1C', 'K16_1D', 'K16_2A', 'K16_2B', 'K16_2C', 'K16_2D', 'K16_3A', 'K16_3B', 'K16_3C', 'K16_3D', 'K16_4A', 'K16_4B', 'K16_4C', 'K16_4D', 'K16_5A', 'K16_5B', 'K16_5C', 'K16_5D', 'K16_6A', 'K16_6B', 'K16_6C', 'K16_6D', 'K16_7A', 'K16_7B', 'K16_7C', 'K16_7D', 'K16_8A', 'K16_8B', 'K16_8C', 'K16_8D', 'K17_1A', 'K17_1B', 'K17_1C', 'K17_1D', 'K17_2A', 'K17_2B', 'K17_2C', 'K17_2D', 'K17_3A', 'K17_3B', 'K17_3C', 'K17_3D', 'K17_4A', 'K17_4B', 'K17_4C', 'K17_4D', 'K17_5A', 'K17_5B', 'K17_5C', 'K17_5D', 'K17_6A', 'K17_6B', 'K17_6C', 'K17_6D', 'K17_7A', 'K17_7B', 'K17_7C', 'K17_7D', 'K17_8A', 'K17_8B', 'K17_8C', 'K17_8D', 'K18_1A', 'K18_1B', 'K18_1C', 'K18_1D', 'K18_2A', 'K18_2B', 'K18_2C', 'K18_2D', 'K18_3A', 'K18_3B', 'K18_3C', 'K18_3D', 'K18_4A', 'K18_4B', 'K18_4C', 'K18_4D', 'K18_5A', 'K18_5B', 'K18_5C', 'K18_5D', 'K18_6A', 'K18_6B', 'K18_6C', 'K18_6D', 'K18_7A', 'K18_7B', 'K18_7C', 'K18_7D', 'K18_8A', 'K18_8B', 'K18_8C', 'K18_8D', 'K19_1A', 'K19_1B', 'K19_1C', 'K19_1D', 'K19_2A', 'K19_2B', 'K19_2C', 'K19_2D', 'K19_3A', 'K19_3B', 'K19_3C', 'K19_3D', 'K19_4A', 'K19_4B', 'K19_4C', 'K19_4D', 'K19_5A', 'K19_5B', 'K19_5C', 'K19_5D', 'K19_6A', 'K19_6B', 'K19_6C', 'K19_6D', 'K19_8A1', 'K19_8A2', 'K19_8A3']"
   ]
  },
  {
   "cell_type": "markdown",
   "id": "406971e1-bad3-44a8-9cc5-0bb9724afa86",
   "metadata": {},
   "source": [
    "## Baseline"
   ]
  },
  {
   "cell_type": "code",
   "execution_count": 16,
   "id": "5370c4f7-c747-4a60-adf2-187fb449b954",
   "metadata": {},
   "outputs": [
    {
     "name": "stdout",
     "output_type": "stream",
     "text": [
      "Loaded /tmp/beams/activeBeamFile_7429090109378529708.h5\n",
      "Set track_start = L0AFEND, track_end = BEGBC20\n",
      "Set track_end = ENDDL10\n",
      "Tracking!\n",
      "Beam centered at ENDDL10 written to /tmp/beams/patchBeamFile_7429090109378529708.h5\n",
      "Loaded /tmp/beams/patchBeamFile_7429090109378529708.h5\n",
      "Set track_start = ENDDL10, track_end = BEGBC20\n",
      "Set track_end = BEGBC14_1\n",
      "Tracking!\n",
      "Also setting BC14 energy = 4.5 GeV, from 4.448076675629599 GeV\n",
      "Beam centered at BEGBC14 written to /tmp/beams/patchBeamFile_7429090109378529708.h5\n",
      "Loaded /tmp/beams/patchBeamFile_7429090109378529708.h5\n",
      "Set track_start = BEGBC14_1, track_end = BEGBC20\n",
      "Tracking!\n",
      "trackBeam() exiting\n"
     ]
    }
   ],
   "source": [
    "setLattice(tao, **importedDefaultSettings)\n",
    "\n",
    "trackBeam(tao, \n",
    "          trackEnd = evalElement,\n",
    "          **importedDefaultSettings,\n",
    "          verbose = True\n",
    "         )"
   ]
  },
  {
   "cell_type": "code",
   "execution_count": 17,
   "id": "e785a005-06a6-451d-bb05-96dbf0e0b6fa",
   "metadata": {},
   "outputs": [
    {
     "data": {
      "text/plain": [
       "{'PR10571_x': '3.94',\n",
       " 'PR10571_y': '2.84',\n",
       " 'WS12214_x': '5.46',\n",
       " 'WS12214_y': '2.79',\n",
       " 'BEGBC14_1_x': '9.27',\n",
       " 'BEGBC14_1_y': '2.78',\n",
       " 'ENDBC14_2_x': '9.43',\n",
       " 'ENDBC14_2_y': '2.78',\n",
       " 'BEGBC20_x': '8.67',\n",
       " 'BEGBC20_y': '2.76'}"
      ]
     },
     "execution_count": 17,
     "metadata": {},
     "output_type": "execute_result"
    }
   ],
   "source": [
    "activeData = {}\n",
    "for activeEle in  [ \"PR10571\", \"WS12214\", \"BEGBC14_1\", \"ENDBC14_2\", \"BEGBC20\" ]:\n",
    "    # print(activeEle)\n",
    "    # print(f\"\"\"{getBeamAtElement(tao, activeEle).twiss(plane = \"x\", fraction = 0.9)[\"norm_emit_x\"] * 1e6:.2f}, {getBeamAtElement(tao, activeEle).twiss(plane = \"y\", fraction = 0.9)[\"norm_emit_y\"] * 1e6:.2f}\"\"\")\n",
    "    # print()\n",
    "    activeData[f\"{activeEle}_x\"] = getBeamAtElement(tao, activeEle).twiss(plane = \"x\", fraction = 0.9)[\"norm_emit_x\"] * 1e6\n",
    "    activeData[f\"{activeEle}_y\"] = getBeamAtElement(tao, activeEle).twiss(plane = \"y\", fraction = 0.9)[\"norm_emit_y\"] * 1e6\n",
    "\n",
    "printableData = { key : f\"\"\"{activeData[key]:.2f}\"\"\" for key in activeData.keys() }\n",
    "printableData"
   ]
  },
  {
   "cell_type": "code",
   "execution_count": 18,
   "id": "911109aa-75ff-4d4c-9b31-a6f1769d536b",
   "metadata": {},
   "outputs": [
    {
     "name": "stdout",
     "output_type": "stream",
     "text": [
      "+-------------------+---------------+---------------+\n",
      "| 90% RMS           |               |               |\n",
      "| emittance (not    |        X      |        Y      |\n",
      "| SI90!) [um-rad]   |               |               |\n",
      "+===================+===============+===============+\n",
      "| PR10571           |          3.94 |          2.84 |\n",
      "+-------------------+---------------+---------------+\n",
      "| WS12214           |          5.46 |          2.79 |\n",
      "+-------------------+---------------+---------------+\n",
      "| BEGBC20           |          9.27 |          2.78 |\n",
      "+-------------------+---------------+---------------+\n",
      "| ENDBC20           |          9.43 |          2.78 |\n",
      "+-------------------+---------------+---------------+\n",
      "| BEGBC20           |          8.67 |          2.76 |\n",
      "| (L3 wire proxy)   |               |               |\n",
      "+-------------------+---------------+---------------+\n"
     ]
    }
   ],
   "source": [
    "\n",
    "print(tabulate([\n",
    "    [\"PR10571\",                  printableData[\"PR10571_x\"], printableData[\"PR10571_y\"]], \n",
    "    [\"WS12214\",                  printableData[\"WS12214_x\"], printableData[\"WS12214_y\"]],\n",
    "    [\"BEGBC14\",                  printableData[\"BEGBC14_1_x\"], printableData[\"BEGBC14_1_y\"]],\n",
    "    [\"ENDBC14\",                  printableData[\"ENDBC14_2_x\"], printableData[\"ENDBC14_2_y\"]],\n",
    "    [\"BEGBC20\\n(L3 wire proxy)\", printableData[\"BEGBC20_x\"], printableData[\"BEGBC20_y\"]]\n",
    "], \n",
    "[\"90% RMS\\nemittance (not\\nSI90!) [um-rad]\", \"\\n     X     \", \"\\n     Y     \"], \n",
    "tablefmt=\"grid\"))"
   ]
  },
  {
   "cell_type": "markdown",
   "id": "908e2407-6d37-4f72-984f-e199f25b2901",
   "metadata": {},
   "source": [
    "## Quad offsets - all"
   ]
  },
  {
   "cell_type": "code",
   "execution_count": 19,
   "id": "ee0b4930-eb89-4b18-8144-e43db73370aa",
   "metadata": {},
   "outputs": [],
   "source": [
    "results = []\n",
    "\n",
    "for shotNum in range(10):\n",
    "    \n",
    "    sigma = 100e-6\n",
    "    for activeEle in quadsToPerturb:\n",
    "        tao.cmd(f\"set ele {activeEle} X_OFFSET = {sigma * np.random.normal()}\")\n",
    "        tao.cmd(f\"set ele {activeEle} Y_OFFSET = {sigma * np.random.normal()}\")\n",
    "        tao.cmd(f\"set ele {activeEle} Z_OFFSET = {sigma * np.random.normal()}\")\n",
    "\n",
    "    \n",
    "    trackBeam(tao, \n",
    "              trackEnd = evalElement,\n",
    "              **importedDefaultSettings,\n",
    "              verbose = False\n",
    "             )\n",
    "    \n",
    "    \n",
    "    activeData = {}\n",
    "    for activeEle in  [ \"PR10571\", \"WS12214\", \"BEGBC14_1\", \"ENDBC14_2\", \"BEGBC20\" ]:\n",
    "        # print(activeEle)\n",
    "        # print(f\"\"\"{getBeamAtElement(tao, activeEle).twiss(plane = \"x\", fraction = 0.9)[\"norm_emit_x\"] * 1e6:.2f}, {getBeamAtElement(tao, activeEle).twiss(plane = \"y\", fraction = 0.9)[\"norm_emit_y\"] * 1e6:.2f}\"\"\")\n",
    "        # print()\n",
    "        activeData[f\"{activeEle}_x\"] = getBeamAtElement(tao, activeEle).twiss(plane = \"x\", fraction = 0.9)[\"norm_emit_x\"] * 1e6\n",
    "        activeData[f\"{activeEle}_y\"] = getBeamAtElement(tao, activeEle).twiss(plane = \"y\", fraction = 0.9)[\"norm_emit_y\"] * 1e6\n",
    "    \n",
    "    results.append(activeData)"
   ]
  },
  {
   "cell_type": "code",
   "execution_count": 20,
   "id": "7401fc08-26a4-477f-bd93-a83d1798641f",
   "metadata": {},
   "outputs": [
    {
     "name": "stdout",
     "output_type": "stream",
     "text": [
      "+-------------------+-----------------+----------------+\n",
      "| 90% RMS           |                 |                |\n",
      "| emittance (not    |      X          |      Y         |\n",
      "| SI90!) [um-rad]   |                 |                |\n",
      "+===================+=================+================+\n",
      "| PR10571           | 3.94 ± 0.00     | 2.84 ± 0.00    |\n",
      "+-------------------+-----------------+----------------+\n",
      "| WS12214           | 28.21 ± 9.82    | 22.07 ± 17.15  |\n",
      "+-------------------+-----------------+----------------+\n",
      "| BEGBC20           | 90.11 ± 55.96   | 66.66 ± 100.38 |\n",
      "+-------------------+-----------------+----------------+\n",
      "| ENDBC20           | 120.47 ± 61.29  | 74.68 ± 106.77 |\n",
      "+-------------------+-----------------+----------------+\n",
      "| BEGBC20           | 223.66 ± 213.23 | 97.49 ± 67.69  |\n",
      "| (L3 wire proxy)   |                 |                |\n",
      "+-------------------+-----------------+----------------+\n"
     ]
    }
   ],
   "source": [
    "printableData = {}\n",
    "for key in results[0].keys():\n",
    "    activeData = [i[key] for i in results]\n",
    "    #print(key)\n",
    "    #print(f\"{np.median(activeData):.2f} ± {scipy.stats.iqr(activeData)/1.349:.2f}\")\n",
    "    printableData[key] = f\"{np.median(activeData):.2f} ± {scipy.stats.iqr(activeData)/1.349:.2f}\"\n",
    "\n",
    "print(tabulate([\n",
    "    [\"PR10571\",                  printableData[\"PR10571_x\"], printableData[\"PR10571_y\"]], \n",
    "    [\"WS12214\",                  printableData[\"WS12214_x\"], printableData[\"WS12214_y\"]],\n",
    "     [\"BEGBC14\",                  printableData[\"BEGBC14_1_x\"], printableData[\"BEGBC14_1_y\"]],\n",
    "    [\"ENDBC14\",                  printableData[\"ENDBC14_2_x\"], printableData[\"ENDBC14_2_y\"]],\n",
    "    [\"BEGBC20\\n(L3 wire proxy)\", printableData[\"BEGBC20_x\"], printableData[\"BEGBC20_y\"]]\n",
    "], \n",
    "[\"90% RMS\\nemittance (not\\nSI90!) [um-rad]\", \"\\n     X     \", \"\\n     Y     \"], \n",
    "tablefmt=\"grid\"))"
   ]
  },
  {
   "cell_type": "code",
   "execution_count": null,
   "id": "3065d9d0-4d6c-4234-a60a-810372c47db8",
   "metadata": {},
   "outputs": [],
   "source": []
  },
  {
   "cell_type": "markdown",
   "id": "2d95a199-efd7-4d9f-a1e3-b232fb25d1c3",
   "metadata": {},
   "source": [
    "## Few bad apples / a single bumped quad"
   ]
  },
  {
   "cell_type": "code",
   "execution_count": 11,
   "id": "99d4ff19-79a5-44b5-bb90-728f88d4df46",
   "metadata": {},
   "outputs": [],
   "source": [
    "results = []\n",
    "\n",
    "for shotNum in range(10):\n",
    "    \n",
    "    sigma = 100e-6\n",
    "\n",
    "    #Ensure all quads start centered\n",
    "    for activeEle in quadsToPerturb:\n",
    "        tao.cmd(f\"set ele {activeEle} X_OFFSET = 0.0\")\n",
    "        tao.cmd(f\"set ele {activeEle} Y_OFFSET = 0.0\")\n",
    "        tao.cmd(f\"set ele {activeEle} Z_OFFSET = 0.0\")\n",
    "\n",
    "    #Then perturb a subset\n",
    "    for activeEle in random.sample(quadsToPerturb, 10): #10):\n",
    "        tao.cmd(f\"set ele {activeEle} X_OFFSET = {sigma * np.random.normal()}\")\n",
    "        tao.cmd(f\"set ele {activeEle} Y_OFFSET = {sigma * np.random.normal()}\")\n",
    "        tao.cmd(f\"set ele {activeEle} Z_OFFSET = {sigma * np.random.normal()}\")\n",
    "\n",
    "    \n",
    "    trackBeam(tao, \n",
    "              trackEnd = evalElement,\n",
    "              **importedDefaultSettings,\n",
    "              verbose = False\n",
    "             )\n",
    "    \n",
    "    \n",
    "    activeData = {}\n",
    "    for activeEle in  [ \"PR10571\", \"WS12214\", \"BEGBC14_1\", \"ENDBC14_2\", \"BEGBC20\" ]:\n",
    "        # print(activeEle)\n",
    "        # print(f\"\"\"{getBeamAtElement(tao, activeEle).twiss(plane = \"x\", fraction = 0.9)[\"norm_emit_x\"] * 1e6:.2f}, {getBeamAtElement(tao, activeEle).twiss(plane = \"y\", fraction = 0.9)[\"norm_emit_y\"] * 1e6:.2f}\"\"\")\n",
    "        # print()\n",
    "        activeData[f\"{activeEle}_x\"] = getBeamAtElement(tao, activeEle).twiss(plane = \"x\", fraction = 0.9)[\"norm_emit_x\"] * 1e6\n",
    "        activeData[f\"{activeEle}_y\"] = getBeamAtElement(tao, activeEle).twiss(plane = \"y\", fraction = 0.9)[\"norm_emit_y\"] * 1e6\n",
    "    \n",
    "    results.append(activeData)"
   ]
  },
  {
   "cell_type": "code",
   "execution_count": 12,
   "id": "3ddf74d2-0cda-4b3d-bbfb-1860e7f3d28f",
   "metadata": {},
   "outputs": [
    {
     "name": "stdout",
     "output_type": "stream",
     "text": [
      "+-------------------+---------------+---------------+\n",
      "| 90% RMS           |               |               |\n",
      "| emittance (not    |      X        |      Y        |\n",
      "| SI90!) [um-rad]   |               |               |\n",
      "+===================+===============+===============+\n",
      "| PR10571           | 3.77 ± 0.00   | 2.85 ± 0.00   |\n",
      "+-------------------+---------------+---------------+\n",
      "| WS12214           | 4.76 ± 1.08   | 4.58 ± 1.65   |\n",
      "+-------------------+---------------+---------------+\n",
      "| BEGBC20           | 6.16 ± 2.02   | 5.34 ± 2.46   |\n",
      "+-------------------+---------------+---------------+\n",
      "| ENDBC20           | 7.91 ± 2.49   | 5.31 ± 1.11   |\n",
      "+-------------------+---------------+---------------+\n",
      "| BEGBC20           | 9.58 ± 1.27   | 6.99 ± 2.52   |\n",
      "| (L3 wire proxy)   |               |               |\n",
      "+-------------------+---------------+---------------+\n"
     ]
    }
   ],
   "source": [
    "printableData = {}\n",
    "for key in results[0].keys():\n",
    "    activeData = [i[key] for i in results]\n",
    "    #print(key)\n",
    "    #print(f\"{np.median(activeData):.2f} ± {scipy.stats.iqr(activeData)/1.349:.2f}\")\n",
    "    printableData[key] = f\"{np.median(activeData):.2f} ± {scipy.stats.iqr(activeData)/1.349:.2f}\"\n",
    "\n",
    "print(tabulate([\n",
    "    [\"PR10571\",                  printableData[\"PR10571_x\"], printableData[\"PR10571_y\"]], \n",
    "    [\"WS12214\",                  printableData[\"WS12214_x\"], printableData[\"WS12214_y\"]],\n",
    "     [\"BEGBC14\",                  printableData[\"BEGBC14_1_x\"], printableData[\"BEGBC14_1_y\"]],\n",
    "    [\"ENDBC14\",                  printableData[\"ENDBC14_2_x\"], printableData[\"ENDBC14_2_y\"]],\n",
    "    [\"BEGBC20\\n(L3 wire proxy)\", printableData[\"BEGBC20_x\"], printableData[\"BEGBC20_y\"]]\n",
    "], \n",
    "[\"90% RMS\\nemittance (not\\nSI90!) [um-rad]\", \"\\n     X     \", \"\\n     Y     \"], \n",
    "tablefmt=\"grid\"))"
   ]
  },
  {
   "cell_type": "markdown",
   "id": "ea05f187-454f-4f30-8810-099a0415f79d",
   "metadata": {},
   "source": [
    "## Quad rolls"
   ]
  },
  {
   "cell_type": "code",
   "execution_count": 21,
   "id": "d6d7ad6a-7b8e-4fc0-a8e1-bfe977977268",
   "metadata": {},
   "outputs": [],
   "source": [
    "#Ensure all quads start centered\n",
    "for activeEle in quadsToPerturb:\n",
    "    tao.cmd(f\"set ele {activeEle} X_OFFSET = 0.0\")\n",
    "    tao.cmd(f\"set ele {activeEle} Y_OFFSET = 0.0\")\n",
    "    tao.cmd(f\"set ele {activeEle} Z_OFFSET = 0.0\")\n",
    "\n",
    "results = []\n",
    "\n",
    "for shotNum in range(10):\n",
    "    \n",
    "    sigma = 50e-3\n",
    "    for activeEle in quadsToPerturb:\n",
    "        tao.cmd(f\"set ele {activeEle} X_PITCH = {sigma * np.random.normal()}\")\n",
    "        tao.cmd(f\"set ele {activeEle} Y_PITCH = {sigma * np.random.normal()}\")\n",
    "        tao.cmd(f\"set ele {activeEle} TILT = {sigma * np.random.normal()}\")\n",
    "\n",
    "    \n",
    "    trackBeam(tao, \n",
    "              trackEnd = evalElement,\n",
    "              **importedDefaultSettings,\n",
    "              verbose = False\n",
    "             )\n",
    "    \n",
    "    \n",
    "    activeData = {}\n",
    "    for activeEle in  [ \"PR10571\", \"WS12214\", \"BEGBC14_1\", \"ENDBC14_2\", \"BEGBC20\" ]:\n",
    "        # print(activeEle)\n",
    "        # print(f\"\"\"{getBeamAtElement(tao, activeEle).twiss(plane = \"x\", fraction = 0.9)[\"norm_emit_x\"] * 1e6:.2f}, {getBeamAtElement(tao, activeEle).twiss(plane = \"y\", fraction = 0.9)[\"norm_emit_y\"] * 1e6:.2f}\"\"\")\n",
    "        # print()\n",
    "        activeData[f\"{activeEle}_x\"] = getBeamAtElement(tao, activeEle).twiss(plane = \"x\", fraction = 0.9)[\"norm_emit_x\"] * 1e6\n",
    "        activeData[f\"{activeEle}_y\"] = getBeamAtElement(tao, activeEle).twiss(plane = \"y\", fraction = 0.9)[\"norm_emit_y\"] * 1e6\n",
    "    \n",
    "    results.append(activeData)"
   ]
  },
  {
   "cell_type": "code",
   "execution_count": 22,
   "id": "19c0a4bf-a86d-4d78-9377-b5ea880eb7ff",
   "metadata": {},
   "outputs": [
    {
     "name": "stdout",
     "output_type": "stream",
     "text": [
      "+-------------------+---------------+---------------+\n",
      "| 90% RMS           |               |               |\n",
      "| emittance (not    |      X        |      Y        |\n",
      "| SI90!) [um-rad]   |               |               |\n",
      "+===================+===============+===============+\n",
      "| PR10571           | 3.77 ± 0.00   | 2.85 ± 0.00   |\n",
      "+-------------------+---------------+---------------+\n",
      "| WS12214           | 15.23 ± 6.91  | 12.04 ± 1.79  |\n",
      "+-------------------+---------------+---------------+\n",
      "| BEGBC20           | 22.27 ± 12.12 | 19.23 ± 6.88  |\n",
      "+-------------------+---------------+---------------+\n",
      "| ENDBC20           | 33.79 ± 20.79 | 29.35 ± 19.90 |\n",
      "+-------------------+---------------+---------------+\n",
      "| BEGBC20           | 62.50 ± 26.32 | 63.54 ± 38.99 |\n",
      "| (L3 wire proxy)   |               |               |\n",
      "+-------------------+---------------+---------------+\n"
     ]
    }
   ],
   "source": [
    "printableData = {}\n",
    "for key in results[0].keys():\n",
    "    activeData = [i[key] for i in results]\n",
    "    #print(key)\n",
    "    #print(f\"{np.median(activeData):.2f} ± {scipy.stats.iqr(activeData)/1.349:.2f}\")\n",
    "    printableData[key] = f\"{np.median(activeData):.2f} ± {scipy.stats.iqr(activeData)/1.349:.2f}\"\n",
    "\n",
    "print(tabulate([\n",
    "    [\"PR10571\",                  printableData[\"PR10571_x\"], printableData[\"PR10571_y\"]], \n",
    "    [\"WS12214\",                  printableData[\"WS12214_x\"], printableData[\"WS12214_y\"]],\n",
    "     [\"BEGBC14\",                  printableData[\"BEGBC14_1_x\"], printableData[\"BEGBC14_1_y\"]],\n",
    "    [\"ENDBC14\",                  printableData[\"ENDBC14_2_x\"], printableData[\"ENDBC14_2_y\"]],\n",
    "    [\"BEGBC20\\n(L3 wire proxy)\", printableData[\"BEGBC20_x\"], printableData[\"BEGBC20_y\"]]\n",
    "], \n",
    "[\"90% RMS\\nemittance (not\\nSI90!) [um-rad]\", \"\\n     X     \", \"\\n     Y     \"], \n",
    "tablefmt=\"grid\"))"
   ]
  },
  {
   "cell_type": "markdown",
   "id": "9a8e404f-489c-4809-898e-7b90261be8e4",
   "metadata": {},
   "source": [
    "## Linac offsets"
   ]
  },
  {
   "cell_type": "code",
   "execution_count": 27,
   "id": "b703f5a7-df42-4910-8e3f-fdb3277c5b16",
   "metadata": {},
   "outputs": [],
   "source": [
    "#Ensure all quads start centered\n",
    "for activeEle in quadsToPerturb:\n",
    "    tao.cmd(f\"set ele {activeEle} X_OFFSET = 0.0\")\n",
    "    tao.cmd(f\"set ele {activeEle} Y_OFFSET = 0.0\")\n",
    "    tao.cmd(f\"set ele {activeEle} Z_OFFSET = 0.0\")\n",
    "    tao.cmd(f\"set ele {activeEle} X_PITCH = 0.0\")\n",
    "    tao.cmd(f\"set ele {activeEle} Y_PITCH = 0.0\")\n",
    "    tao.cmd(f\"set ele {activeEle} TILT = 0.0\")\n",
    "\n",
    "results = []\n",
    "\n",
    "for shotNum in range(10):\n",
    "    \n",
    "    sigma = 5000e-6\n",
    "    for activeEle in linacsToPerturb:\n",
    "        tao.cmd(f\"set ele {activeEle} X_OFFSET = {sigma * np.random.normal()}\")\n",
    "        tao.cmd(f\"set ele {activeEle} Y_OFFSET = {sigma * np.random.normal()}\")\n",
    "        tao.cmd(f\"set ele {activeEle} Z_OFFSET = {sigma * np.random.normal()}\")\n",
    "\n",
    "    \n",
    "    trackBeam(tao, \n",
    "              trackEnd = evalElement,\n",
    "              **importedDefaultSettings,\n",
    "              verbose = False\n",
    "             )\n",
    "    \n",
    "    \n",
    "    activeData = {}\n",
    "    for activeEle in  [ \"PR10571\", \"WS12214\", \"BEGBC14_1\", \"ENDBC14_2\", \"BEGBC20\" ]:\n",
    "        # print(activeEle)\n",
    "        # print(f\"\"\"{getBeamAtElement(tao, activeEle).twiss(plane = \"x\", fraction = 0.9)[\"norm_emit_x\"] * 1e6:.2f}, {getBeamAtElement(tao, activeEle).twiss(plane = \"y\", fraction = 0.9)[\"norm_emit_y\"] * 1e6:.2f}\"\"\")\n",
    "        # print()\n",
    "        activeData[f\"{activeEle}_x\"] = getBeamAtElement(tao, activeEle).twiss(plane = \"x\", fraction = 0.9)[\"norm_emit_x\"] * 1e6\n",
    "        activeData[f\"{activeEle}_y\"] = getBeamAtElement(tao, activeEle).twiss(plane = \"y\", fraction = 0.9)[\"norm_emit_y\"] * 1e6\n",
    "    \n",
    "    results.append(activeData)"
   ]
  },
  {
   "cell_type": "code",
   "execution_count": 28,
   "id": "1c2d6c6f-e541-4e8e-81bb-e7ad6e845da3",
   "metadata": {},
   "outputs": [
    {
     "name": "stdout",
     "output_type": "stream",
     "text": [
      "+-------------------+---------------+---------------+\n",
      "| 90% RMS           |               |               |\n",
      "| emittance (not    |      X        |      Y        |\n",
      "| SI90!) [um-rad]   |               |               |\n",
      "+===================+===============+===============+\n",
      "| PR10571           | 3.77 ± 0.00   | 2.85 ± 0.00   |\n",
      "+-------------------+---------------+---------------+\n",
      "| WS12214           | 7.31 ± 2.30   | 5.58 ± 1.44   |\n",
      "+-------------------+---------------+---------------+\n",
      "| BEGBC20           | 7.76 ± 4.96   | 7.25 ± 3.66   |\n",
      "+-------------------+---------------+---------------+\n",
      "| ENDBC20           | 8.18 ± 2.90   | 7.63 ± 3.83   |\n",
      "+-------------------+---------------+---------------+\n",
      "| BEGBC20           | 11.03 ± 3.96  | 11.24 ± 5.67  |\n",
      "| (L3 wire proxy)   |               |               |\n",
      "+-------------------+---------------+---------------+\n"
     ]
    }
   ],
   "source": [
    "printableData = {}\n",
    "for key in results[0].keys():\n",
    "    activeData = [i[key] for i in results]\n",
    "    #print(key)\n",
    "    #print(f\"{np.median(activeData):.2f} ± {scipy.stats.iqr(activeData)/1.349:.2f}\")\n",
    "    printableData[key] = f\"{np.median(activeData):.2f} ± {scipy.stats.iqr(activeData)/1.349:.2f}\"\n",
    "\n",
    "print(tabulate([\n",
    "    [\"PR10571\",                  printableData[\"PR10571_x\"], printableData[\"PR10571_y\"]], \n",
    "    [\"WS12214\",                  printableData[\"WS12214_x\"], printableData[\"WS12214_y\"]],\n",
    "     [\"BEGBC14\",                  printableData[\"BEGBC14_1_x\"], printableData[\"BEGBC14_1_y\"]],\n",
    "    [\"ENDBC14\",                  printableData[\"ENDBC14_2_x\"], printableData[\"ENDBC14_2_y\"]],\n",
    "    [\"BEGBC20\\n(L3 wire proxy)\", printableData[\"BEGBC20_x\"], printableData[\"BEGBC20_y\"]]\n",
    "], \n",
    "[\"90% RMS\\nemittance (not\\nSI90!) [um-rad]\", \"\\n     X     \", \"\\n     Y     \"], \n",
    "tablefmt=\"grid\"))"
   ]
  },
  {
   "cell_type": "markdown",
   "id": "3f86cbe3-3ff2-479f-ac9a-7b5fcb6a0b5c",
   "metadata": {},
   "source": [
    "## BBA informed"
   ]
  },
  {
   "cell_type": "code",
   "execution_count": 29,
   "id": "7a81158f-9f59-4d9c-a15a-a11776e93b86",
   "metadata": {},
   "outputs": [],
   "source": [
    "#From http://physics-elog.slac.stanford.edu/facetelog/show.jsp?dir=/2014/09/25.02&pos=2014-02-25T20:30:01\n",
    "#Formatted easily with multi-cursor\n",
    "#These are in mm\n",
    "#Manually dropping elements that complain\n",
    "\n",
    "bbaXOffsets = {\n",
    "    \"Q17401\" : +1.750,\n",
    "    \"Q17201\" : +1.600,\n",
    "    \"Q17301\" : +1.550,\n",
    "    \"Q11801\" : +1.450,\n",
    "    \"Q17501\" : +1.400,\n",
    "    \"Q17601\" : +1.200,\n",
    "    \"Q16901\" : +1.150,\n",
    "    \"Q17701\" : +1.000,\n",
    "    \"Q13701\" : -0.520,\n",
    "#    \"Q14801\" : -0.510,\n",
    "    \"Q18501\" : +0.500,\n",
    "    \"Q18401\" : +0.450,\n",
    "    \"Q13801\" : -0.400,\n",
    "    \"Q13601\" : -0.360,\n",
    "    \"Q16601\" : -0.350,\n",
    "    \"Q18601\" : +0.350,\n",
    "    \"Q16401\" : -0.300,\n",
    "    \"Q16501\" : +0.300,\n",
    "    \"Q17901\" : +0.270,\n",
    "    \"Q13201\" : +0.250,\n",
    "}\n",
    "\n",
    "bbaYOffsets = {\n",
    "    \"Q18501\" : -0.950,\n",
    "    \"Q17501\" : -0.600,\n",
    "    \"Q17801\" : -0.600,\n",
    "    \"Q12201\" : +0.550,\n",
    "    \"Q15501\" : -0.500,\n",
    "    \"Q15601\" : -0.500,\n",
    "    \"Q16201\" : -0.450,\n",
    "    \"Q18601\" : -0.450,\n",
    "    \"Q14401\" : -0.400,\n",
    "    \"Q18401\" : -0.400,\n",
    "    \"Q12901\" : -0.350,\n",
    "    \"Q16801\" : -0.350,\n",
    "    \"Q18701\" : -0.350,\n",
    "    \"Q16501\" : -0.340,\n",
    "    \"Q12601\" : +0.300,\n",
    "    \"Q12701\" : +0.250,\n",
    "    \"Q16301\" : -0.250,\n",
    "    \"Q16701\" : -0.200,\n",
    "}"
   ]
  },
  {
   "cell_type": "code",
   "execution_count": 30,
   "id": "ed081a04-4826-44b2-85f1-84ff93ccb238",
   "metadata": {},
   "outputs": [],
   "source": [
    "#Ensure all quads and linacs start centered\n",
    "for activeEle in quadsToPerturb:\n",
    "    tao.cmd(f\"set ele {activeEle} X_OFFSET = 0.0\")\n",
    "    tao.cmd(f\"set ele {activeEle} Y_OFFSET = 0.0\")\n",
    "    tao.cmd(f\"set ele {activeEle} Z_OFFSET = 0.0\")\n",
    "    tao.cmd(f\"set ele {activeEle} X_PITCH = 0.0\")\n",
    "    tao.cmd(f\"set ele {activeEle} Y_PITCH = 0.0\")\n",
    "    tao.cmd(f\"set ele {activeEle} TILT = 0.0\")\n",
    "for activeEle in linacsToPerturb:\n",
    "    tao.cmd(f\"set ele {activeEle} X_OFFSET = 0.0\")\n",
    "    tao.cmd(f\"set ele {activeEle} Y_OFFSET = 0.0\")\n",
    "    tao.cmd(f\"set ele {activeEle} Z_OFFSET = 0.0\")\n",
    "\n",
    "\n",
    "for activeEle in bbaXOffsets.keys():\n",
    "    tao.cmd(f\"set ele {activeEle} X_OFFSET = {1e-3 * bbaXOffsets[activeEle]}\")\n",
    "    \n",
    "for activeEle in bbaYOffsets.keys():\n",
    "    tao.cmd(f\"set ele {activeEle} Y_OFFSET = {1e-3 * bbaYOffsets[activeEle]}\")\n",
    "\n",
    "\n",
    "trackBeam(tao, \n",
    "          trackEnd = evalElement,\n",
    "          **importedDefaultSettings,\n",
    "          verbose = False\n",
    "         )\n",
    "\n",
    "\n",
    "\n"
   ]
  },
  {
   "cell_type": "code",
   "execution_count": 31,
   "id": "9bcc2663-6bc6-4c4a-891a-ac38d11d7482",
   "metadata": {},
   "outputs": [
    {
     "name": "stdout",
     "output_type": "stream",
     "text": [
      "+-------------------+---------------+---------------+\n",
      "| 90% RMS           |               |               |\n",
      "| emittance (not    |        X      |        Y      |\n",
      "| SI90!) [um-rad]   |               |               |\n",
      "+===================+===============+===============+\n",
      "| PR10571           |          3.77 |          2.85 |\n",
      "+-------------------+---------------+---------------+\n",
      "| WS12214           |          6.6  |          4.05 |\n",
      "+-------------------+---------------+---------------+\n",
      "| BEGBC20           |         13.39 |          3.39 |\n",
      "+-------------------+---------------+---------------+\n",
      "| ENDBC20           |         13.64 |          3.45 |\n",
      "+-------------------+---------------+---------------+\n",
      "| BEGBC20           |         21.5  |          6.87 |\n",
      "| (L3 wire proxy)   |               |               |\n",
      "+-------------------+---------------+---------------+\n"
     ]
    }
   ],
   "source": [
    "activeData = {}\n",
    "for activeEle in  [ \"PR10571\", \"WS12214\", \"BEGBC14_1\", \"ENDBC14_2\", \"BEGBC20\" ]:\n",
    "    # print(activeEle)\n",
    "    # print(f\"\"\"{getBeamAtElement(tao, activeEle).twiss(plane = \"x\", fraction = 0.9)[\"norm_emit_x\"] * 1e6:.2f}, {getBeamAtElement(tao, activeEle).twiss(plane = \"y\", fraction = 0.9)[\"norm_emit_y\"] * 1e6:.2f}\"\"\")\n",
    "    # print()\n",
    "    activeData[f\"{activeEle}_x\"] = getBeamAtElement(tao, activeEle).twiss(plane = \"x\", fraction = 0.9)[\"norm_emit_x\"] * 1e6\n",
    "    activeData[f\"{activeEle}_y\"] = getBeamAtElement(tao, activeEle).twiss(plane = \"y\", fraction = 0.9)[\"norm_emit_y\"] * 1e6\n",
    "\n",
    "printableData = { key : f\"\"\"{activeData[key]:.2f}\"\"\" for key in activeData.keys() }\n",
    "\n",
    "\n",
    "print(tabulate([\n",
    "    [\"PR10571\",                  printableData[\"PR10571_x\"], printableData[\"PR10571_y\"]], \n",
    "    [\"WS12214\",                  printableData[\"WS12214_x\"], printableData[\"WS12214_y\"]],\n",
    "     [\"BEGBC14\",                  printableData[\"BEGBC14_1_x\"], printableData[\"BEGBC14_1_y\"]],\n",
    "    [\"ENDBC14\",                  printableData[\"ENDBC14_2_x\"], printableData[\"ENDBC14_2_y\"]],\n",
    "    [\"BEGBC20\\n(L3 wire proxy)\", printableData[\"BEGBC20_x\"], printableData[\"BEGBC20_y\"]]\n",
    "], \n",
    "[\"90% RMS\\nemittance (not\\nSI90!) [um-rad]\", \"\\n     X     \", \"\\n     Y     \"], \n",
    "tablefmt=\"grid\"))"
   ]
  },
  {
   "cell_type": "code",
   "execution_count": null,
   "id": "a96fef87-f1ad-4e01-9fa7-70ec0d202d87",
   "metadata": {},
   "outputs": [],
   "source": []
  }
 ],
 "metadata": {
  "kernelspec": {
   "display_name": "Python 3 (ipykernel)",
   "language": "python",
   "name": "python3"
  },
  "language_info": {
   "codemirror_mode": {
    "name": "ipython",
    "version": 3
   },
   "file_extension": ".py",
   "mimetype": "text/x-python",
   "name": "python",
   "nbconvert_exporter": "python",
   "pygments_lexer": "ipython3",
   "version": "3.11.11"
  }
 },
 "nbformat": 4,
 "nbformat_minor": 5
}
