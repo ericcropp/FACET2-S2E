{
 "cells": [
  {
   "cell_type": "code",
   "execution_count": 1,
   "id": "bad38a9f-c17f-469b-8ca8-07390d680418",
   "metadata": {},
   "outputs": [],
   "source": [
    "from UTILITY_quickstart import *  \n",
    "\n",
    "#importedDefaultSettings = loadConfig(\"setLattice_configs/2024-10-22_oneBunch_baseline.yml\") \n",
    "importedDefaultSettings = loadConfig(\"setLattice_configs/2024-10-22_oneBunch_baseline2.yml\")  \n",
    "\n",
    "#New DL10 centering \n",
    "importedDefaultSettings = importedDefaultSettings | {\"centerDL10\" : True}"
   ]
  },
  {
   "cell_type": "code",
   "execution_count": 2,
   "id": "fcceb062-ded8-4b70-b182-9e7b145995b5",
   "metadata": {},
   "outputs": [
    {
     "name": "stdout",
     "output_type": "stream",
     "text": [
      "Environment set to:  /Users/nmajik/Documents/SLAC/FACET2-Bmad-PyTao\n",
      "Transverse wakes enabled!\n",
      "Tracking to end\n",
      "CSR on\n",
      "Overwriting lattice with setLattice() defaults\n",
      "No defaults file provided to setLattice(). Using setLattice_configs/defaults.yml\n",
      "Number of macro particles = 10000.0\n",
      "Beam created, written to /tmp/beams/activeBeamFile_6053226358372418749.h5, and reinit to tao\n"
     ]
    }
   ],
   "source": [
    "csrTF = True \n",
    "evalElement = \"BEGBC20\"   \n",
    "inputBeamFilePathSuffix = importedDefaultSettings[\"inputBeamFilePathSuffix\"] \n",
    "bunchCount = importedDefaultSettings[\"bunchCount\"] \n",
    "tao = initializeTao(     \n",
    "    inputBeamFilePathSuffix = inputBeamFilePathSuffix,          \n",
    "    csrTF = csrTF,     \n",
    "    numMacroParticles=1e4,     \n",
    "    scratchPath = \"/tmp\",     \n",
    "    randomizeFileNames = True,      \n",
    "    transverseWakes = True \n",
    ")"
   ]
  },
  {
   "cell_type": "code",
   "execution_count": 3,
   "id": "fefb2f54-2c31-4038-9887-b43e76c44afa",
   "metadata": {},
   "outputs": [
    {
     "name": "stdout",
     "output_type": "stream",
     "text": [
      "Loaded /tmp/beams/activeBeamFile_6053226358372418749.h5\n",
      "Set track_start = L0AFEND, track_end = L0BFEND\n",
      "Tracking!\n",
      "trackBeam() exiting\n"
     ]
    }
   ],
   "source": [
    "trackBeam(tao, \n",
    "          trackEnd = \"L0BFEND\", \n",
    "          verbose = True\n",
    "         ) \n",
    "PInit = getBeamAtElement(tao, \"L0AFEND\")\n",
    "\n",
    "artificialFactor = 1.3 \n",
    "#artificialFactor = 1.0 \n",
    "PInit.x = artificialFactor * PInit.x \n",
    "PInit.px = artificialFactor * PInit.px \n",
    "PInit.y = artificialFactor * PInit.y \n",
    "PInit.py = artificialFactor * PInit.py  \n",
    "\n",
    "makeBeamActiveBeamFile(PInit, tao = tao)"
   ]
  },
  {
   "cell_type": "code",
   "execution_count": 4,
   "id": "3212213e-381a-41e2-a600-1ea36a731842",
   "metadata": {},
   "outputs": [],
   "source": [
    "# tao.lat_list(\"Q*\", \"ele.name\", flags=\"-no_slaves\")  \n",
    "# Manually pared from above\n",
    "quadsToPerturb = ['QM10771',  'QM10781',  'QA11132',  'Q11201',  'QA11265',  'Q11301',  'QM11312',  'QM11358',  'QM11362',  'QM11393',  'Q11401',  'Q11501',  'Q11601',  'Q11701',  'Q11801',  'Q11901',  'Q12201',  'Q12301',  'Q12401',  'Q12501',  'Q12601',  'Q12701',  'Q12801',  'Q12901',  'Q13201',  'Q13301',  'Q13401',  'Q13501',  'Q13601',  'Q13701',  'Q13801',  'Q13901',  'Q14201',  'Q14301',  'Q14401',  'Q14501',  'Q14601',  'Q14701',  'QM14715',  'QM14891',  'Q14901',  'Q15201',  'Q15301',  'Q15401',  'Q15501',  'Q15601',  'Q15701',  'Q15801',  'Q15901',  'Q16201',  'Q16301',  'Q16401',  'Q16501',  'Q16601',  'Q16701',  'Q16801',  'Q16901',  'Q17201',  'Q17301',  'Q17401',  'Q17501',  'Q17601',  'Q17701',  'Q17801',  'Q17901',  'Q18201',  'Q18301',  'Q18401',  'Q18501',  'Q18601',  'Q18701',  'Q18801',  'Q18901',  'Q19201',  'Q19301',  'Q19401',  'Q19501',  'Q19601',  'Q19701',  'Q19801',  'Q19851',  'Q19871', ]"
   ]
  },
  {
   "cell_type": "code",
   "execution_count": 5,
   "id": "7f9c9c5a-e951-4d19-8422-7e78d78ce2cb",
   "metadata": {},
   "outputs": [],
   "source": [
    "#tao.lat_list(\"K*\", \"ele.name\", flags=\"-no_slaves\")\n",
    "# Manually pared from above\n",
    "linacsToPerturb = ['K11_4A', 'K11_4B', 'K11_4C', 'K11_4D', 'K11_5A', 'K11_5B', 'K11_5C', 'K11_5D', 'K11_6A', 'K11_6B', 'K11_6C', 'K11_6D', 'K11_7A', 'K11_7B', 'K11_7C', 'K11_7D', 'K11_8A', 'K11_8B', 'K11_8C', 'K11_8D', 'K12_1A', 'K12_1B', 'K12_1C', 'K12_1D', 'K12_2A', 'K12_2B', 'K12_2C', 'K12_2D', 'K12_3A', 'K12_3B', 'K12_3C', 'K12_3D', 'K12_4A', 'K12_4B', 'K12_4C', 'K12_4D', 'K12_5A', 'K12_5B', 'K12_5C', 'K12_5D', 'K12_6A', 'K12_6B', 'K12_6C', 'K12_6D', 'K12_7A', 'K12_7B', 'K12_7C', 'K12_7D', 'K12_8A', 'K12_8B', 'K12_8C', 'K12_8D', 'K13_1A', 'K13_1B', 'K13_1C', 'K13_1D', 'K13_2A', 'K13_2B', 'K13_2C', 'K13_2D', 'K13_3A', 'K13_3B', 'K13_3C', 'K13_3D', 'K13_4A', 'K13_4B', 'K13_4C', 'K13_4D', 'K13_5A', 'K13_5B', 'K13_5C', 'K13_5D', 'K13_6A', 'K13_6B', 'K13_6C', 'K13_6D', 'K13_7A', 'K13_7B', 'K13_7C', 'K13_7D', 'K13_8A', 'K13_8B', 'K13_8C', 'K13_8D', 'K14_1A', 'K14_1B', 'K14_1C', 'K14_1D', 'K14_2A', 'K14_2B', 'K14_2C', 'K14_2D', 'K14_3A', 'K14_3B', 'K14_3C', 'K14_3D', 'K14_4A', 'K14_4B', 'K14_4C', 'K14_4D', 'K14_5A', 'K14_5B', 'K14_5C', 'K14_5D', 'K14_6A', 'K14_6B', 'K14_6C', 'K14_6D', 'K15_1A', 'K15_1B', 'K15_1C', 'K15_1D', 'K15_2A', 'K15_2B', 'K15_2C', 'K15_3A', 'K15_3B', 'K15_3C', 'K15_3D', 'K15_4A', 'K15_4B', 'K15_4C', 'K15_4D', 'K15_5A', 'K15_5B', 'K15_5C', 'K15_5D', 'K15_6A', 'K15_6B', 'K15_6C', 'K15_6D', 'K15_7A', 'K15_7B', 'K15_7C', 'K15_7D', 'K15_8A', 'K15_8B', 'K15_8C', 'K15_8D', 'K16_1A', 'K16_1B', 'K16_1C', 'K16_1D', 'K16_2A', 'K16_2B', 'K16_2C', 'K16_2D', 'K16_3A', 'K16_3B', 'K16_3C', 'K16_3D', 'K16_4A', 'K16_4B', 'K16_4C', 'K16_4D', 'K16_5A', 'K16_5B', 'K16_5C', 'K16_5D', 'K16_6A', 'K16_6B', 'K16_6C', 'K16_6D', 'K16_7A', 'K16_7B', 'K16_7C', 'K16_7D', 'K16_8A', 'K16_8B', 'K16_8C', 'K16_8D', 'K17_1A', 'K17_1B', 'K17_1C', 'K17_1D', 'K17_2A', 'K17_2B', 'K17_2C', 'K17_2D', 'K17_3A', 'K17_3B', 'K17_3C', 'K17_3D', 'K17_4A', 'K17_4B', 'K17_4C', 'K17_4D', 'K17_5A', 'K17_5B', 'K17_5C', 'K17_5D', 'K17_6A', 'K17_6B', 'K17_6C', 'K17_6D', 'K17_7A', 'K17_7B', 'K17_7C', 'K17_7D', 'K17_8A', 'K17_8B', 'K17_8C', 'K17_8D', 'K18_1A', 'K18_1B', 'K18_1C', 'K18_1D', 'K18_2A', 'K18_2B', 'K18_2C', 'K18_2D', 'K18_3A', 'K18_3B', 'K18_3C', 'K18_3D', 'K18_4A', 'K18_4B', 'K18_4C', 'K18_4D', 'K18_5A', 'K18_5B', 'K18_5C', 'K18_5D', 'K18_6A', 'K18_6B', 'K18_6C', 'K18_6D', 'K18_7A', 'K18_7B', 'K18_7C', 'K18_7D', 'K18_8A', 'K18_8B', 'K18_8C', 'K18_8D', 'K19_1A', 'K19_1B', 'K19_1C', 'K19_1D', 'K19_2A', 'K19_2B', 'K19_2C', 'K19_2D', 'K19_3A', 'K19_3B', 'K19_3C', 'K19_3D', 'K19_4A', 'K19_4B', 'K19_4C', 'K19_4D', 'K19_5A', 'K19_5B', 'K19_5C', 'K19_5D', 'K19_6A', 'K19_6B', 'K19_6C', 'K19_6D', 'K19_8A1', 'K19_8A2', 'K19_8A3']"
   ]
  },
  {
   "cell_type": "code",
   "execution_count": 6,
   "id": "1e0d1870-9420-4b1e-8c0e-5fe0487e4a65",
   "metadata": {},
   "outputs": [
    {
     "name": "stdout",
     "output_type": "stream",
     "text": [
      "Loaded /tmp/beams/activeBeamFile_6053226358372418749.h5\n",
      "Set track_start = L0AFEND, track_end = BEGBC20\n",
      "Set track_end = ENDDL10\n",
      "Tracking!\n",
      "Beam centered at ENDDL10 written to /tmp/beams/patchBeamFile_6053226358372418749.h5\n",
      "Loaded /tmp/beams/patchBeamFile_6053226358372418749.h5\n",
      "Set track_start = ENDDL10, track_end = BEGBC20\n",
      "Set track_end = BEGBC14_1\n",
      "Tracking!\n",
      "Also setting BC14 energy = 4.5 GeV, from 4.398332909815947 GeV\n",
      "Beam centered at BEGBC14 written to /tmp/beams/patchBeamFile_6053226358372418749.h5\n",
      "Loaded /tmp/beams/patchBeamFile_6053226358372418749.h5\n",
      "Set track_start = BEGBC14_1, track_end = BEGBC20\n",
      "Tracking!\n",
      "trackBeam() exiting\n"
     ]
    }
   ],
   "source": [
    "setLattice(tao, **importedDefaultSettings)\n",
    "\n",
    "trackBeam(tao, \n",
    "          trackEnd = evalElement,\n",
    "          **importedDefaultSettings,\n",
    "          verbose = True\n",
    "         )"
   ]
  },
  {
   "cell_type": "code",
   "execution_count": 7,
   "id": "5fc83566-14eb-4cb9-b579-7f842c598f47",
   "metadata": {},
   "outputs": [
    {
     "name": "stdout",
     "output_type": "stream",
     "text": [
      "PR10571\n",
      "3.91, 2.90\n",
      "\n",
      "BEGBC14_1\n",
      "5.20, 2.75\n",
      "\n",
      "ENDBC14_2\n",
      "6.04, 2.75\n",
      "\n",
      "BEGBC20\n",
      "7.02, 3.60\n",
      "\n"
     ]
    }
   ],
   "source": [
    "for activeEle in  [\"PR10571\",\"BEGBC14_1\", \"ENDBC14_2\", \"BEGBC20\" ]:\n",
    "    print(activeEle)\n",
    "    print(f\"\"\"{getBeamAtElement(tao, activeEle).twiss(plane = \"x\", fraction = 0.9)[\"norm_emit_x\"] * 1e6:.2f}, {getBeamAtElement(tao, activeEle).twiss(plane = \"y\", fraction = 0.9)[\"norm_emit_y\"] * 1e6:.2f}\"\"\")\n",
    "    print()"
   ]
  },
  {
   "cell_type": "code",
   "execution_count": 8,
   "id": "e20f693f-8295-47d0-854a-23aad72a3744",
   "metadata": {},
   "outputs": [],
   "source": [
    "sigma = 100e-6\n",
    "for activeEle in quadsToPerturb:\n",
    "    tao.cmd(f\"set ele {activeEle} X_OFFSET = {sigma * np.random.normal()}\")\n",
    "    tao.cmd(f\"set ele {activeEle} Y_OFFSET = {sigma * np.random.normal()}\")\n",
    "    tao.cmd(f\"set ele {activeEle} Z_OFFSET = {sigma * np.random.normal()}\")"
   ]
  },
  {
   "cell_type": "code",
   "execution_count": 9,
   "id": "ee0b4930-eb89-4b18-8144-e43db73370aa",
   "metadata": {},
   "outputs": [
    {
     "name": "stdout",
     "output_type": "stream",
     "text": [
      "Loaded /tmp/beams/activeBeamFile_6053226358372418749.h5\n",
      "Set track_start = L0AFEND, track_end = BEGBC20\n",
      "Set track_end = ENDDL10\n",
      "Tracking!\n",
      "Beam centered at ENDDL10 written to /tmp/beams/patchBeamFile_6053226358372418749.h5\n",
      "Loaded /tmp/beams/patchBeamFile_6053226358372418749.h5\n",
      "Set track_start = ENDDL10, track_end = BEGBC20\n",
      "Set track_end = BEGBC14_1\n",
      "Tracking!\n",
      "Also setting BC14 energy = 4.5 GeV, from 4.398612649096462 GeV\n",
      "Beam centered at BEGBC14 written to /tmp/beams/patchBeamFile_6053226358372418749.h5\n",
      "Loaded /tmp/beams/patchBeamFile_6053226358372418749.h5\n",
      "Set track_start = BEGBC14_1, track_end = BEGBC20\n",
      "Tracking!\n",
      "trackBeam() exiting\n"
     ]
    }
   ],
   "source": [
    "trackBeam(tao, \n",
    "          trackEnd = evalElement,\n",
    "          **importedDefaultSettings,\n",
    "          verbose = True\n",
    "         )"
   ]
  },
  {
   "cell_type": "code",
   "execution_count": 10,
   "id": "09f984b4-7898-46fa-bdf0-900681bace8d",
   "metadata": {},
   "outputs": [
    {
     "name": "stdout",
     "output_type": "stream",
     "text": [
      "PR10571\n",
      "3.91, 2.90\n",
      "\n",
      "BEGBC14_1\n",
      "10.49, 16.64\n",
      "\n",
      "ENDBC14_2\n",
      "9.23, 18.92\n",
      "\n",
      "BEGBC20\n",
      "21.09, 13.84\n",
      "\n"
     ]
    }
   ],
   "source": [
    "for activeEle in  [\"PR10571\",\"BEGBC14_1\", \"ENDBC14_2\", \"BEGBC20\" ]:\n",
    "    print(activeEle)\n",
    "    print(f\"\"\"{getBeamAtElement(tao, activeEle).twiss(plane = \"x\", fraction = 0.9)[\"norm_emit_x\"] * 1e6:.2f}, {getBeamAtElement(tao, activeEle).twiss(plane = \"y\", fraction = 0.9)[\"norm_emit_y\"] * 1e6:.2f}\"\"\")\n",
    "    print()"
   ]
  },
  {
   "cell_type": "code",
   "execution_count": null,
   "id": "52b4374d-83f4-4158-8ec0-0237d74e91b6",
   "metadata": {},
   "outputs": [],
   "source": []
  }
 ],
 "metadata": {
  "kernelspec": {
   "display_name": "Python 3 (ipykernel)",
   "language": "python",
   "name": "python3"
  },
  "language_info": {
   "codemirror_mode": {
    "name": "ipython",
    "version": 3
   },
   "file_extension": ".py",
   "mimetype": "text/x-python",
   "name": "python",
   "nbconvert_exporter": "python",
   "pygments_lexer": "ipython3",
   "version": "3.11.11"
  }
 },
 "nbformat": 4,
 "nbformat_minor": 5
}
