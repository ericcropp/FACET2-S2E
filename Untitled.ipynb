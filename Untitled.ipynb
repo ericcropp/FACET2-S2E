{
 "cells": [
  {
   "cell_type": "code",
   "execution_count": null,
   "id": "055b0853-d02a-494c-863c-b645c2694639",
   "metadata": {},
   "outputs": [],
   "source": [
    "SIOC:SYS1:ML00:AO551.DESC\n",
    "SIOC:SYS1:ML00:AO556.DESC\n",
    "SIOC:SYS1:ML00:AO501.DESC\n",
    "SIOC:SYS1:ML00:AO506.DESC\n",
    "SIOC:SYS1:ML00:AO516.DESC\n",
    "SIOC:SYS1:ML00:AO521.DESC\n",
    "SIOC:SYS1:ML00:AO566.DESC\n",
    "SIOC:SYS1:ML00:AO571.DESC"
   ]
  },
  {
   "cell_type": "code",
   "execution_count": null,
   "id": "615e1ced-39fb-4363-9503-f1a6fa713756",
   "metadata": {},
   "outputs": [],
   "source": [
    "SIOC:SYS1:ML00:AO551."
   ]
  },
  {
   "cell_type": "code",
   "execution_count": null,
   "id": "e784b055-bd4d-4dfa-8a5a-6596d2fc4e6a",
   "metadata": {},
   "outputs": [],
   "source": [
    "DESC SIOC:SYS1:ML00:AO556.DESC SIOC:SYS1:ML00:AO501.DESC SIOC:SYS1:ML00:AO506.DESC SIOC:SYS1:ML00:AO516.DESC SIOC:SYS1:ML00:AO521.DESC SIOC:SYS1:ML00:AO566.DESC SIOC:SYS1:ML00:AO571.DESC"
   ]
  },
  {
   "cell_type": "code",
   "execution_count": null,
   "id": "e7a85e1d-a504-4980-902a-e7985c6a60de",
   "metadata": {},
   "outputs": [],
   "source": [
    "SIOC:SYS1:ML00:AO552.DESC\n",
    "SIOC:SYS1:ML00:AO557.DESC\n",
    "SIOC:SYS1:ML00:AO502.DESC\n",
    "SIOC:SYS1:ML00:AO507.DESC\n",
    "SIOC:SYS1:ML00:AO517.DESC\n",
    "SIOC:SYS1:ML00:AO522.DESC\n",
    "SIOC:SYS1:ML00:AO567.DESC\n",
    "SIOC:SYS1:ML00:AO572.DESC\n",
    "\n",
    "SIOC:SYS1:ML00:AO553.DESC\n",
    "SIOC:SYS1:ML00:AO558.DESC\n",
    "SIOC:SYS1:ML00:AO503.DESC\n",
    "SIOC:SYS1:ML00:AO508.DESC\n",
    "SIOC:SYS1:ML00:AO518.DESC\n",
    "SIOC:SYS1:ML00:AO523.DESC\n",
    "SIOC:SYS1:ML00:AO568.DESC\n",
    "SIOC:SYS1:ML00:AO573.DESC"
   ]
  },
  {
   "cell_type": "code",
   "execution_count": null,
   "id": "492f750d-f4a0-4316-bcfd-bd5d698e88b2",
   "metadata": {},
   "outputs": [],
   "source": [
    "SIOC:SYS1:ML00:AO552.DESC SIOC:SYS1:ML00:AO557.DESC SIOC:SYS1:ML00:AO502.DESC SIOC:SYS1:ML00:AO507.DESC SIOC:SYS1:ML00:AO517.DESC SIOC:SYS1:ML00:AO522.DESC SIOC:SYS1:ML00:AO567.DESC SIOC:SYS1:ML00:AO572.DESC SIOC:SYS1:ML00:AO553.DESC SIOC:SYS1:ML00:AO558.DESC SIOC:SYS1:ML00:AO503.DESC SIOC:SYS1:ML00:AO508.DESC SIOC:SYS1:ML00:AO518.DESC SIOC:SYS1:ML00:AO523.DESC SIOC:SYS1:ML00:AO568.DESC SIOC:SYS1:ML00:AO573.DESC"
   ]
  },
  {
   "cell_type": "code",
   "execution_count": null,
   "id": "08ee5c50-2037-47b0-8248-7b9cf93a26d8",
   "metadata": {},
   "outputs": [],
   "source": [
    "SIOC:SYS1:ML00:AO552\n",
    "SIOC:SYS1:ML00:AO557\n",
    "SIOC:SYS1:ML00:AO502\n",
    "SIOC:SYS1:ML00:AO507\n",
    "SIOC:SYS1:ML00:AO517\n",
    "SIOC:SYS1:ML00:AO522\n",
    "SIOC:SYS1:ML00:AO567\n",
    "SIOC:SYS1:ML00:AO572\n",
    "\n",
    "SIOC:SYS1:ML00:AO553\n",
    "SIOC:SYS1:ML00:AO558\n",
    "SIOC:SYS1:ML00:AO503\n",
    "SIOC:SYS1:ML00:AO508\n",
    "SIOC:SYS1:ML00:AO518\n",
    "SIOC:SYS1:ML00:AO523\n",
    "SIOC:SYS1:ML00:AO568\n",
    "SIOC:SYS1:ML00:AO573"
   ]
  }
 ],
 "metadata": {
  "kernelspec": {
   "display_name": "Python 3 (ipykernel)",
   "language": "python",
   "name": "python3"
  },
  "language_info": {
   "codemirror_mode": {
    "name": "ipython",
    "version": 3
   },
   "file_extension": ".py",
   "mimetype": "text/x-python",
   "name": "python",
   "nbconvert_exporter": "python",
   "pygments_lexer": "ipython3",
   "version": "3.11.8"
  }
 },
 "nbformat": 4,
 "nbformat_minor": 5
}
