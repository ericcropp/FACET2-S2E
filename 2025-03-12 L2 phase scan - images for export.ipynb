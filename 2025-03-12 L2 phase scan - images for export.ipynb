{
 "cells": [
  {
   "cell_type": "code",
   "execution_count": 1,
   "id": "ede16948-7bcb-4ccc-a3d4-786c47df46fd",
   "metadata": {},
   "outputs": [],
   "source": [
    "from UTILITY_quickstart import *\n",
    "\n",
    "importedDefaultSettings = loadConfig(\"setLattice_configs/2024-10-22_oneBunch_baseline2.yml\")"
   ]
  },
  {
   "cell_type": "code",
   "execution_count": 2,
   "id": "73882cdd-4fe1-4756-a008-e098765e5a87",
   "metadata": {},
   "outputs": [
    {
     "name": "stdout",
     "output_type": "stream",
     "text": [
      "Environment set to:  /Users/nmajik/Documents/SLAC/FACET2-Bmad-PyTao\n",
      "Tracking to end\n",
      "CSR on\n",
      "Overwriting lattice with setLattice() defaults\n",
      "No defaults file provided to setLattice(). Using setLattice_configs/defaults.yml\n",
      "Number of macro particles = 100000.0\n",
      "Beam created, written to /tmp/beams/activeBeamFile_10101468094183893893.h5, and reinit to tao\n"
     ]
    }
   ],
   "source": [
    "csrTF = True\n",
    "\n",
    "\n",
    "bunchCount = importedDefaultSettings[\"bunchCount\"]\n",
    "\n",
    "tao = initializeTao(\n",
    "    inputBeamFilePathSuffix = importedDefaultSettings[\"inputBeamFilePathSuffix\"],\n",
    "    \n",
    "    csrTF = csrTF,\n",
    "    numMacroParticles=1e5,\n",
    "    scratchPath = \"/tmp\",\n",
    "    randomizeFileNames = True\n",
    ")\n",
    "\n",
    "setLattice(tao, **importedDefaultSettings)"
   ]
  },
  {
   "cell_type": "code",
   "execution_count": 3,
   "id": "f5a0ed1c-f6b4-4cb5-93c3-266159b3d23e",
   "metadata": {},
   "outputs": [
    {
     "data": {
      "text/plain": [
       "<Figure size 640x480 with 0 Axes>"
      ]
     },
     "metadata": {},
     "output_type": "display_data"
    }
   ],
   "source": [
    "for L2PhaseSet in np.arange(-44, -30, 2):\n",
    "    setLattice(tao, **( importedDefaultSettings | {\"L2PhaseSet\" : L2PhaseSet} ) )\n",
    "    \n",
    "    trackBeam(tao, \n",
    "          **importedDefaultSettings\n",
    "         )\n",
    "\n",
    "    # for ele in [\"BEGBC14_1\", \"ENDBC14_2\", \"BEGBC20\", \"ENDBC20\"]:\n",
    "    #     P = getBeamAtElement(tao, ele)\n",
    "    #     fig = plotMod(P, 'delta_z', 'pz', bins=300, ) #  xlim = (-200e-15, 200e-15), ylim = (4.3e9, 4.6e9))\n",
    "    \n",
    "    #     fig.savefig(f\"{L2PhaseSet}_{ele}.png\")\n",
    "\n",
    "    ele = \"BEGBC14_1\"\n",
    "    P = getBeamAtElement(tao, ele)\n",
    "    fig = plotMod(P, 'delta_z', 'pz', bins=300, xlim = (-1e-3, 1e-3),     ylim = (4.3e9, 4.7e9))\n",
    "    fig.savefig(f\"{L2PhaseSet}_{ele}.png\")\n",
    "\n",
    "    ele = \"ENDBC14_2\"\n",
    "    P = getBeamAtElement(tao, ele)\n",
    "    fig = plotMod(P, 'delta_z', 'pz', bins=300, xlim = (-0.3e-3, 0.3e-3), ylim = (4.3e9, 4.7e9))\n",
    "    fig.savefig(f\"{L2PhaseSet}_{ele}.png\")\n",
    "\n",
    "    ele = \"BEGBC20\"\n",
    "    P = getBeamAtElement(tao, ele)\n",
    "    fig = plotMod(P, 'delta_z', 'pz', bins=300, xlim = (-0.3e-3, 0.3e-3), ylim = (9.8e9, 10.2e9))\n",
    "    fig.savefig(f\"{L2PhaseSet}_{ele}.png\")\n",
    "\n",
    "    ele = \"ENDBC20\"\n",
    "    P = getBeamAtElement(tao, ele)\n",
    "    fig = plotMod(P, 'delta_z', 'pz', bins=300, xlim = (-0.3e-3, 0.3e-3), ylim = (9.8e9, 10.2e9))\n",
    "    fig.savefig(f\"{L2PhaseSet}_{ele}.png\")\n",
    "    \n",
    "    plt.clf()"
   ]
  },
  {
   "cell_type": "code",
   "execution_count": null,
   "id": "5a6e774b-d8fc-4dc9-9e32-510fa9cb7666",
   "metadata": {},
   "outputs": [],
   "source": []
  }
 ],
 "metadata": {
  "kernelspec": {
   "display_name": "Python 3 (ipykernel)",
   "language": "python",
   "name": "python3"
  },
  "language_info": {
   "codemirror_mode": {
    "name": "ipython",
    "version": 3
   },
   "file_extension": ".py",
   "mimetype": "text/x-python",
   "name": "python",
   "nbconvert_exporter": "python",
   "pygments_lexer": "ipython3",
   "version": "3.11.8"
  }
 },
 "nbformat": 4,
 "nbformat_minor": 5
}
