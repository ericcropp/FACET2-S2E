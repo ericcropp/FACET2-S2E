{
 "cells": [
  {
   "cell_type": "code",
   "execution_count": 1,
   "id": "4a2cedb3-52da-4a6c-ad31-2f7c8efa594b",
   "metadata": {},
   "outputs": [],
   "source": [
    "from UTILITY_quickstart import *\n",
    "import yaml"
   ]
  },
  {
   "cell_type": "code",
   "execution_count": 2,
   "id": "bb966da2-e97b-4f78-93a5-2074109602cf",
   "metadata": {},
   "outputs": [
    {
     "name": "stdout",
     "output_type": "stream",
     "text": [
      "Environment set to:  /Users/nmajik/Documents/SLAC/FACET2-Bmad-PyTao\n",
      "Tracking to end\n",
      "CSR on\n",
      "Overwriting lattice with setLattice() defaults\n",
      "No defaults file provided to setLattice(). Using setLattice_defaults.yml\n",
      "Number of macro particles = 100000.0\n",
      "Loaded activeBeamFile.h5\n",
      "Set track_start = L0AFEND, track_end = L0BFEND\n",
      "Tracking!\n",
      "trackBeam() exiting\n"
     ]
    }
   ],
   "source": [
    "tao = initializeTao(\n",
    "    #inputBeamFilePathSuffix = '/beams/nmmToL0AFEND_2bunch_2024-02-16Clean/2024-02-16_2bunch_1e5Downsample_nudgeWeights.h5',\n",
    "    #inputBeamFilePathSuffix = '/beams/L0AFEND_facet2-lattice.h5',\n",
    "    #inputBeamFilePathSuffix = '/beams/2024-10-14_Impact_TwoBunch/2024-10-14_TwoBunch.h5',\n",
    "    inputBeamFilePathSuffix = '/beams/2024-10-22_Impact_OneBunch/2024-10-22_oneBunch.h5',\n",
    "\n",
    "    csrTF = True,\n",
    "    numMacroParticles=1e5,\n",
    "    #loadDefaultLatticeTF=False,\n",
    ")\n",
    "\n",
    "\n",
    "\n",
    "\n",
    "\n",
    "\n",
    "\n",
    "#Set aside the initial beam for later reference\n",
    "trackBeam(tao, trackEnd = \"L0BFEND\", verbose = True)\n",
    "P_baseline_L0AFEND = ParticleGroup(data=tao.bunch_data(\"L0AFEND\"))"
   ]
  },
  {
   "cell_type": "code",
   "execution_count": 3,
   "id": "825e6d84-eedd-4b2e-b3c7-31ab36a745e5",
   "metadata": {},
   "outputs": [
    {
     "name": "stdout",
     "output_type": "stream",
     "text": [
      "Loaded activeBeamFile.h5\n",
      "Set track_start = L0AFEND, track_end = end\n",
      "Set track_end = BEGBC14_1\n",
      "Tracking!\n",
      "Beam centered at BEGBC14 written to patchBeamFile.h5\n",
      "Loaded patchBeamFile.h5\n",
      "Set track_start = BEGBC14_1, track_end = end\n",
      "Set track_end = BEGBC20\n",
      "Tracking!\n",
      "Beam centered at BEGBC20 written to patchBeamFile.h5\n",
      "Loaded patchBeamFile.h5\n",
      "Set track_start = BEGBC20, track_end = end\n",
      "Tracking!\n",
      "trackBeam() exiting\n"
     ]
    }
   ],
   "source": [
    "trackBeam(tao, centerBC14 = True, centerBC20 = True, verbose = True)"
   ]
  },
  {
   "cell_type": "code",
   "execution_count": 4,
   "id": "c57b9c41-654b-4a63-b826-6eab8cfef2a5",
   "metadata": {},
   "outputs": [],
   "source": [
    "P_baseline_PENT = getBeamAtElement(tao, \"PENT\")"
   ]
  },
  {
   "cell_type": "code",
   "execution_count": 5,
   "id": "82c3771d-0e7e-4a07-8979-5c36a5c13908",
   "metadata": {},
   "outputs": [
    {
     "data": {
      "text/plain": [
       "[]"
      ]
     },
     "execution_count": 5,
     "metadata": {},
     "output_type": "execute_result"
    }
   ],
   "source": [
    "P_mod_L0AFEND = P_baseline_L0AFEND.copy()\n",
    "P_mod_L0AFEND.charge = 1e-12\n",
    "\n",
    "makeBeamActiveBeamFile(P_mod_L0AFEND)\n",
    "tao.cmd('reinit beam')"
   ]
  },
  {
   "cell_type": "code",
   "execution_count": null,
   "id": "c7631307-808b-42e2-97c9-ed91f99f1b54",
   "metadata": {},
   "outputs": [
    {
     "name": "stdout",
     "output_type": "stream",
     "text": [
      "Loaded activeBeamFile.h5\n",
      "Set track_start = L0AFEND, track_end = end\n",
      "Set track_end = BEGBC14_1\n",
      "Tracking!\n",
      "Beam centered at BEGBC14 written to patchBeamFile.h5\n",
      "Loaded patchBeamFile.h5\n",
      "Set track_start = BEGBC14_1, track_end = end\n",
      "Set track_end = BEGBC20\n",
      "Tracking!\n"
     ]
    }
   ],
   "source": [
    "trackBeam(tao, centerBC14 = True, centerBC20 = True, verbose = True)"
   ]
  },
  {
   "cell_type": "code",
   "execution_count": null,
   "id": "7a9c7767-a06a-4309-a174-19606554f6a4",
   "metadata": {},
   "outputs": [],
   "source": [
    "P_mod_PENT = getBeamAtElement(tao, \"PENT\")"
   ]
  },
  {
   "cell_type": "code",
   "execution_count": null,
   "id": "a5761a28-09d0-40d7-84e3-619ff73576ce",
   "metadata": {},
   "outputs": [],
   "source": [
    "for activeBeam in [P_baseline_PENT, P_mod_PENT]:\n",
    "    display(plotMod(activeBeam, 'x', 'y', bins=500, xlim = (-500e-6, 500e-6), ylim = (-500e-6, 500e-6)))\n",
    "    #display(plotMod(activeBeam, 'x', 'xp', bins=300))\n",
    "    #display(plotMod(activeBeam, 'delta_t', 'pz', bins=300, xlim = (-100e-15, 100e-15)))\n",
    "\n",
    "plt.clf()"
   ]
  },
  {
   "cell_type": "code",
   "execution_count": null,
   "id": "0038a23c-04c4-43e3-bc88-2c12d47302c1",
   "metadata": {},
   "outputs": [],
   "source": []
  }
 ],
 "metadata": {
  "kernelspec": {
   "display_name": "Python 3 (ipykernel)",
   "language": "python",
   "name": "python3"
  },
  "language_info": {
   "codemirror_mode": {
    "name": "ipython",
    "version": 3
   },
   "file_extension": ".py",
   "mimetype": "text/x-python",
   "name": "python",
   "nbconvert_exporter": "python",
   "pygments_lexer": "ipython3",
   "version": "3.11.8"
  }
 },
 "nbformat": 4,
 "nbformat_minor": 5
}
