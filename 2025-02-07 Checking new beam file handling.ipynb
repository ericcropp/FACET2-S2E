{
 "cells": [
  {
   "cell_type": "code",
   "execution_count": 1,
   "id": "52e09442-fcd5-4002-b0b6-92aaa4f9da55",
   "metadata": {},
   "outputs": [],
   "source": [
    "from UTILITY_quickstart import *\n",
    "\n",
    "importedDefaultSettings = loadConfig(\"setLattice_configs/2024-10-22_oneBunch.yml\")"
   ]
  },
  {
   "cell_type": "code",
   "execution_count": 2,
   "id": "a0071f55-e7e6-404c-b3e7-5fd7fc6b1e28",
   "metadata": {},
   "outputs": [
    {
     "name": "stdout",
     "output_type": "stream",
     "text": [
      "Environment set to:  /Users/nmajik/Documents/SLAC/FACET2-Bmad-PyTao\n",
      "Tracking to end\n",
      "CSR off\n",
      "Overwriting lattice with setLattice() defaults\n",
      "No defaults file provided to setLattice(). Using setLattice_configs/defaults.yml\n",
      "Number of macro particles = 1000.0\n",
      "Beam created, written to /tmp/beams/activeBeamFile_2360555628548090402.h5, and reinit to tao\n"
     ]
    }
   ],
   "source": [
    "csrTF = False\n",
    "evalElement = \"PENT\"\n",
    "\n",
    "\n",
    "inputBeamFilePathSuffix = importedDefaultSettings[\"inputBeamFilePathSuffix\"]\n",
    "bunchCount = importedDefaultSettings[\"bunchCount\"]\n",
    "tao = initializeTao(\n",
    "    #inputBeamFilePathSuffix = '/beams/nmmToL0AFEND_2bunch_2024-02-16Clean/2024-02-16_2bunch_1e5Downsample_nudgeWeights.h5',\n",
    "    inputBeamFilePathSuffix = inputBeamFilePathSuffix,\n",
    "    \n",
    "    csrTF = csrTF,\n",
    "    numMacroParticles=1e3,\n",
    "\n",
    "    scratchPath = \"/tmp\",\n",
    "    randomizeFileNames = True\n",
    "    \n",
    ")"
   ]
  },
  {
   "cell_type": "code",
   "execution_count": 3,
   "id": "c38f0c69-e389-4a5e-abbb-006c67132eec",
   "metadata": {},
   "outputs": [
    {
     "name": "stdout",
     "output_type": "stream",
     "text": [
      "Loaded /tmp/beams/activeBeamFile_2360555628548090402.h5\n",
      "Set track_start = L0AFEND, track_end = end\n",
      "Set track_end = BEGBC14_1\n",
      "Tracking!\n",
      "Also setting BC14 energy = 4.5 GeV, from 4.42722568497954 GeV\n",
      "Beam centered at BEGBC14 written to /tmp/beams/patchBeamFile_2360555628548090402.h5\n",
      "Loaded /tmp/beams/patchBeamFile_2360555628548090402.h5\n",
      "Set track_start = BEGBC14_1, track_end = end\n",
      "Set track_end = BEGBC20\n",
      "Tracking!\n",
      "Also setting BC20 energy = 10.0 GeV, from 9.931598802759769 GeV\n",
      "Beam centered at BEGBC20 written to /tmp/beams/patchBeamFile_2360555628548090402.h5\n",
      "Loaded /tmp/beams/patchBeamFile_2360555628548090402.h5\n",
      "Set track_start = BEGBC20, track_end = end\n",
      "Set track_end = MFFF\n",
      "Tracking!\n",
      "Beam centered at MFFF written to /tmp/beams/patchBeamFile_2360555628548090402.h5\n",
      "Loaded /tmp/beams/patchBeamFile_2360555628548090402.h5\n",
      "Set track_start = MFFF, track_end = end\n",
      "Tracking!\n",
      "trackBeam() exiting\n"
     ]
    }
   ],
   "source": [
    "trackBeam(tao, \n",
    "          **importedDefaultSettings,\n",
    "          verbose = True\n",
    "         )"
   ]
  },
  {
   "cell_type": "code",
   "execution_count": 5,
   "id": "cb121f77-67a5-48db-ad46-3e008c4369ed",
   "metadata": {},
   "outputs": [],
   "source": [
    "makeBeamActiveBeamFile( getBeamAtElement(tao, \"PENT\"), tao = tao )"
   ]
  },
  {
   "cell_type": "code",
   "execution_count": null,
   "id": "b890b2bc-79dd-4f67-b399-1c11a621c15b",
   "metadata": {},
   "outputs": [],
   "source": []
  }
 ],
 "metadata": {
  "kernelspec": {
   "display_name": "Python 3 (ipykernel)",
   "language": "python",
   "name": "python3"
  },
  "language_info": {
   "codemirror_mode": {
    "name": "ipython",
    "version": 3
   },
   "file_extension": ".py",
   "mimetype": "text/x-python",
   "name": "python",
   "nbconvert_exporter": "python",
   "pygments_lexer": "ipython3",
   "version": "3.11.8"
  }
 },
 "nbformat": 4,
 "nbformat_minor": 5
}
