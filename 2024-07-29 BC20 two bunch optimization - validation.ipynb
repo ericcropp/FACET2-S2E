{
 "cells": [
  {
   "cell_type": "code",
   "execution_count": 1,
   "id": "e28b911f-bb2e-4b3b-8109-2fbcce2ceed6",
   "metadata": {},
   "outputs": [
    {
     "data": {
      "text/plain": [
       "\u001b[0;31mSignature:\u001b[0m\n",
       "\u001b[0minitializeTao\u001b[0m\u001b[0;34m(\u001b[0m\u001b[0;34m\u001b[0m\n",
       "\u001b[0;34m\u001b[0m    \u001b[0mfilePath\u001b[0m\u001b[0;34m=\u001b[0m\u001b[0;32mNone\u001b[0m\u001b[0;34m,\u001b[0m\u001b[0;34m\u001b[0m\n",
       "\u001b[0;34m\u001b[0m    \u001b[0mlastTrackedElement\u001b[0m\u001b[0;34m=\u001b[0m\u001b[0;34m'end'\u001b[0m\u001b[0;34m,\u001b[0m\u001b[0;34m\u001b[0m\n",
       "\u001b[0;34m\u001b[0m    \u001b[0mcsrTF\u001b[0m\u001b[0;34m=\u001b[0m\u001b[0;32mFalse\u001b[0m\u001b[0;34m,\u001b[0m\u001b[0;34m\u001b[0m\n",
       "\u001b[0;34m\u001b[0m    \u001b[0minputBeamFilePathSuffix\u001b[0m\u001b[0;34m=\u001b[0m\u001b[0;32mNone\u001b[0m\u001b[0;34m,\u001b[0m\u001b[0;34m\u001b[0m\n",
       "\u001b[0;34m\u001b[0m    \u001b[0mnumMacroParticles\u001b[0m\u001b[0;34m=\u001b[0m\u001b[0;32mNone\u001b[0m\u001b[0;34m,\u001b[0m\u001b[0;34m\u001b[0m\n",
       "\u001b[0;34m\u001b[0m    \u001b[0mloadDefaultLatticeTF\u001b[0m\u001b[0;34m=\u001b[0m\u001b[0;32mTrue\u001b[0m\u001b[0;34m,\u001b[0m\u001b[0;34m\u001b[0m\n",
       "\u001b[0;34m\u001b[0m    \u001b[0mrunImpactTF\u001b[0m\u001b[0;34m=\u001b[0m\u001b[0;32mFalse\u001b[0m\u001b[0;34m,\u001b[0m\u001b[0;34m\u001b[0m\n",
       "\u001b[0;34m\u001b[0m    \u001b[0mimpactGridCount\u001b[0m\u001b[0;34m=\u001b[0m\u001b[0;36m32\u001b[0m\u001b[0;34m,\u001b[0m\u001b[0;34m\u001b[0m\n",
       "\u001b[0;34m\u001b[0m\u001b[0;34m)\u001b[0m\u001b[0;34m\u001b[0m\u001b[0;34m\u001b[0m\u001b[0m\n",
       "\u001b[0;31mDocstring:\u001b[0m <no docstring>\n",
       "\u001b[0;31mFile:\u001b[0m      ~/Documents/SLAC/FACET2-Bmad-PyTao/UTILITY_quickstart.py\n",
       "\u001b[0;31mType:\u001b[0m      function"
      ]
     },
     "metadata": {},
     "output_type": "display_data"
    }
   ],
   "source": [
    "from UTILITY_quickstart import *\n",
    "?initializeTao"
   ]
  },
  {
   "cell_type": "code",
   "execution_count": 2,
   "id": "157c9c07-1980-4c59-b517-f54d7af41919",
   "metadata": {},
   "outputs": [
    {
     "name": "stdout",
     "output_type": "stream",
     "text": [
      "Environment set to:  /Users/nmajik/Documents/SLAC/FACET2-Bmad-PyTao\n",
      "Tracking to L0BFEND\n",
      "CSR on\n",
      "Overwriting lattice with setLattice() defaults\n",
      "No defaults file provided to setLattice(). Using setLattice_defaults.yml\n",
      "Number of macro particles defined by input file\n"
     ]
    }
   ],
   "source": [
    "tao = initializeTao(\n",
    "    inputBeamFilePathSuffix = '/beams/nmmToL0AFEND_2bunch_2024-02-16Clean/2024-02-16_2bunch_1e5Downsample_nudgeWeights.h5',\n",
    "    #inputBeamFilePathSuffix = '/beams/L0AFEND_facet2-lattice.h5',\n",
    "\n",
    "    csrTF = True,\n",
    "    #numMacroParticles=1e4,\n",
    "    #loadDefaultLatticeTF=False,\n",
    "    lastTrackedElement=\"L0BFEND\" #Initially, only want to load PInit. This is overriden in propagateToBEGBC20()\n",
    "\n",
    ")\n",
    "\n",
    "trackBeam(tao)\n",
    "PInit = ParticleGroup(data=tao.bunch_data(\"L0AFEND\"))"
   ]
  },
  {
   "cell_type": "code",
   "execution_count": 3,
   "id": "111b7e56-2266-4d7a-bfd0-357f9c7892e3",
   "metadata": {},
   "outputs": [],
   "source": [
    "def propagateToBEGBC20(\n",
    "    centerXYatBEGBC20 = False    \n",
    "): \n",
    "\n",
    "    ##################################\n",
    "    #Propagate to BEGBC20 and save result\n",
    "    ##################################\n",
    "    makeBeamActiveBeamFile(PInit)\n",
    "    \n",
    "    tao.cmd(f'set beam_init track_start = L0AFEND')\n",
    "    lastTrackedElement = \"BEGBC20\"\n",
    "    tao.cmd(f'set beam_init track_end = {lastTrackedElement}')\n",
    "\n",
    "    trackBeam(tao)\n",
    "\n",
    "    P = ParticleGroup(data=tao.bunch_data(lastTrackedElement))\n",
    "\n",
    "    ##################################\n",
    "    #Optional!! Center in x and y\n",
    "    ##################################\n",
    "    if centerXYatBEGBC20:\n",
    "        print(f\"\"\"Centering beam at BEGBC20, old values (x, xp, y, yp): {P[\"mean_x\"]} ,{P[\"mean_xp\"]}, {P[\"mean_y\"]} ,{P[\"mean_yp\"]} \"\"\")\n",
    "        P.x = P.x - np.mean(P.x)\n",
    "        P.y = P.y - np.mean(P.y)\n",
    "        P.px = P.px - np.mean(P.px)\n",
    "        P.py = P.py - np.mean(P.py)\n",
    "    \n",
    "    makeBeamActiveBeamFile(P)\n",
    "\n",
    "    return\n",
    "\n",
    "def prepareToSimulateFromBEGBC20toEnd():\n",
    "    #####################################################\n",
    "    #Import the BEGBC20 beam and prepare to simulate to end\n",
    "    #####################################################\n",
    "\n",
    "    tao.cmd(f'set beam_init track_start = BEGBC20')\n",
    "    tao.cmd(f'set beam_init track_end = end')\n",
    "    tao.cmd('reinit beam')\n",
    "\n",
    "    return"
   ]
  },
  {
   "cell_type": "code",
   "execution_count": null,
   "id": "33031e8f-f9a7-4e15-9315-debcb30764e8",
   "metadata": {},
   "outputs": [],
   "source": [
    "#The reason for these extra steps (instead of just tracking to end) is because the optimizer uses propagateToBEGBC20(centerXYatBEGBC20 = True)\n",
    "\n",
    "setLattice(tao)\n",
    "propagateToBEGBC20(centerXYatBEGBC20 = True)\n",
    "prepareToSimulateFromBEGBC20toEnd()\n",
    "trackBeam(tao)"
   ]
  },
  {
   "cell_type": "code",
   "execution_count": null,
   "id": "855dbc17-1b7d-427c-8a3d-5716b7e9161f",
   "metadata": {},
   "outputs": [],
   "source": [
    "savedData = {}\n",
    "\n",
    "P = getBeamAtElement(tao, \"PENT\")\n",
    "PDrive, PWitness = getDriverAndWitness(P)\n",
    "\n",
    "\n",
    "for PActiveStr in [\"PDrive\", \"PWitness\"]:\n",
    "    PActive = locals()[PActiveStr]\n",
    "    for val in [\"mean_x\", \"mean_y\", \"sigma_x\", \"sigma_y\"]:\n",
    "        savedData[f\"{PActiveStr}_{val}\"] = PActive[val]\n",
    "        #print(f\"\"\"{PActiveStr}_{val} = {PActive[val]}\"\"\")\n",
    "\n",
    "    #Note that this is not a standard deviation; also imposes cost for being off zero\n",
    "    savedData[f\"{PActiveStr}_xCost\"] = np.sqrt(np.mean((PActive.x)**2))\n",
    "    savedData[f\"{PActiveStr}_yCost\"] = np.sqrt(np.mean((PActive.y)**2))\n",
    "\n",
    "\n",
    "    #Using the product was making it report flat beams...\n",
    "    #savedData[f\"{PActiveStr}_totalCost\"] = savedData[f\"{PActiveStr}_xCost\"] * savedData[f\"{PActiveStr}_yCost\"]\n",
    "    #Instead, average\n",
    "    savedData[f\"{PActiveStr}_totalCost\"] = 0.5*(savedData[f\"{PActiveStr}_xCost\"] + savedData[f\"{PActiveStr}_yCost\"])\n",
    "\n",
    "    savedData[f\"{PActiveStr}_emitSI90_x\"] = smallestIntervalImpliedEmittance(PActive, plane = \"x\", percentage = 0.90)\n",
    "    savedData[f\"{PActiveStr}_emitSI90_y\"] = smallestIntervalImpliedEmittance(PActive, plane = \"y\", percentage = 0.90)\n",
    "\n",
    "    savedData[f\"{PActiveStr}_zLen\"] = smallestIntervalImpliedSigma(PActive.t * 3e8, percentage=0.9)\n",
    "\n",
    "    savedData[f\"{PActiveStr}_zCentroid\"] = np.median(PActive.t * 3e8)\n",
    "\n",
    "savedData[\"bunchSpacing\"] = savedData[\"PWitness_zCentroid\"] - savedData[\"PDrive_zCentroid\"]"
   ]
  },
  {
   "cell_type": "code",
   "execution_count": null,
   "id": "aee39a6d-e81d-4a4a-9bce-40ea66c244f6",
   "metadata": {},
   "outputs": [],
   "source": [
    "savedData"
   ]
  },
  {
   "cell_type": "code",
   "execution_count": null,
   "id": "48537ac5-6fa1-4589-98c4-be763464de2c",
   "metadata": {},
   "outputs": [],
   "source": [
    "print(f\"\"\"Bunch spacing: \\t\\t{1e6 * savedData[\"bunchSpacing\"] :.3g} um\"\"\")\n",
    "\n",
    "print(f\"\"\"Transverse offset: \\t{1e6*np.sqrt((savedData[\"PDrive_mean_x\"] - savedData[\"PWitness_mean_x\"])**2 + (savedData[\"PDrive_mean_y\"] - savedData[\"PWitness_mean_y\"])**2) :.3g} um\"\"\")\n",
    "\n",
    "print(\"\\nEmittances and sigmas implied by 90% charge\")\n",
    "print(f\"\"\"Driver emittance: \\t{1e6 * savedData[\"PDrive_emitSI90_x\"] :.3g} × {1e6 * savedData[\"PDrive_emitSI90_y\"] :.3g} um-rad\"\"\")\n",
    "print(f\"\"\"Witness emittance: \\t{1e6 * savedData[\"PWitness_emitSI90_x\"] :.3g} × {1e6 * savedData[\"PWitness_emitSI90_y\"] :.3g} um-rad\"\"\")\n",
    "\n",
    "print(f\"\"\"Driver sigma_z: \\t{1e6 * savedData[\"PDrive_zLen\"] :.3g} um\"\"\")\n",
    "print(f\"\"\"Witness sigma_z: \\t{1e6 * savedData[\"PWitness_zLen\"] :.3g} um\"\"\")"
   ]
  },
  {
   "cell_type": "code",
   "execution_count": null,
   "id": "b6a917c0-31a6-404e-93c2-1d8d9a2e29c5",
   "metadata": {},
   "outputs": [],
   "source": [
    "print(\"Drive:\")\n",
    "display(plotMod(PDrive, 'x', 'y',  bins=300))\n",
    "print(\"Witness:\")\n",
    "display(plotMod(PWitness, 'x', 'y',  bins=300))\n",
    "display(plotMod(P, 'z', 'pz', bins=300))\n",
    "#display(slicePlotMod(P, 'norm_emit_x', slice_key = \"z\", n_slice=100))\n",
    "display(slicePlotMod(P, 'norm_emit_x', slice_key = \"t\", n_slice=100))"
   ]
  },
  {
   "cell_type": "code",
   "execution_count": null,
   "id": "5afb190c-8e4a-4741-852c-40134962f079",
   "metadata": {},
   "outputs": [],
   "source": [
    "display(plotMod(P, 'x', 'y',  bins=300))\n",
    "display(plotMod(P, 'x', 'pz', bins=300))\n",
    "display(plotMod(P, 'x', 'xp', bins=300))\n",
    "display(plotMod(P, 'y', 'yp', bins=300))\n",
    "display(plotMod(P, 'z', 'pz', bins=300))\n",
    "display(slicePlotMod(P, 'norm_emit_x',n_slice=100))"
   ]
  },
  {
   "cell_type": "code",
   "execution_count": null,
   "id": "24e145e5-5de1-4039-8a0e-7615383bd0cb",
   "metadata": {},
   "outputs": [],
   "source": [
    "display(plotMod(PWitness, 'x', 'y',  bins=300))\n",
    "display(plotMod(PWitness, 'x', 'pz', bins=300))\n",
    "display(plotMod(PWitness, 'x', 'xp', bins=300))\n",
    "display(plotMod(PWitness, 'y', 'yp', bins=300))\n",
    "display(plotMod(PWitness, 'z', 'pz', bins=300))\n",
    "display(slicePlotMod(PWitness, 'norm_emit_x',n_slice=100))\n"
   ]
  },
  {
   "cell_type": "code",
   "execution_count": null,
   "id": "e873d9e9-c62f-40e3-859e-798648f88cc2",
   "metadata": {},
   "outputs": [],
   "source": [
    "print(f\"\"\"P, sigma x: {P[\"sigma_x\"]}\"\"\")\n",
    "print(f\"\"\"PDrive, sigma x: {PDrive[\"sigma_x\"]}\"\"\")\n",
    "print(f\"\"\"PWitness, sigma x: {PWitness[\"sigma_x\"]}\"\"\")\n",
    "\n",
    "display(plotMod(P, 'x', 'y',  bins=300))\n",
    "display(plotMod(PDrive, 'x', 'y',  bins=300))\n",
    "display(plotMod(PWitness, 'x', 'y',  bins=300))"
   ]
  },
  {
   "cell_type": "code",
   "execution_count": null,
   "id": "49babdbc-17c7-44bb-8bec-58c89a2e2726",
   "metadata": {},
   "outputs": [],
   "source": [
    "P.drift_to_z"
   ]
  },
  {
   "cell_type": "code",
   "execution_count": null,
   "id": "4d6682a0-e496-4951-9c5e-9fa440c93fc9",
   "metadata": {},
   "outputs": [],
   "source": [
    "PTmp = ParticleGroup.drift_to_z(P)"
   ]
  },
  {
   "cell_type": "code",
   "execution_count": null,
   "id": "448cb324-7838-4794-bd44-1082d7bf546a",
   "metadata": {},
   "outputs": [],
   "source": [
    "?ParticleGroup.drift_to_z"
   ]
  },
  {
   "cell_type": "markdown",
   "id": "283ad7e8-20ef-4b38-8b2d-5cf6f8b09bca",
   "metadata": {},
   "source": [
    "## BEGBC20"
   ]
  },
  {
   "cell_type": "code",
   "execution_count": null,
   "id": "0cfaaa96-9941-40d1-b8ce-aa0fb3261841",
   "metadata": {},
   "outputs": [],
   "source": [
    "# savedData = {}\n",
    "\n",
    "# P = getBeamAtElement(tao, \"BEGBC20\")\n",
    "# PDrive, PWitness = getDriverAndWitness(P)\n",
    "\n",
    "\n",
    "# for PActiveStr in [\"PDrive\", \"PWitness\"]:\n",
    "#     PActive = locals()[PActiveStr]\n",
    "#     for val in [\"mean_x\", \"mean_y\", \"sigma_x\", \"sigma_y\"]:\n",
    "#         savedData[f\"{PActiveStr}_{val}\"] = PActive[val]\n",
    "#         #print(f\"\"\"{PActiveStr}_{val} = {PActive[val]}\"\"\")\n",
    "\n",
    "#     #Note that this is not a standard deviation; also imposes cost for being off zero\n",
    "#     savedData[f\"{PActiveStr}_xCost\"] = np.sqrt(np.mean((PActive.x)**2))\n",
    "#     savedData[f\"{PActiveStr}_yCost\"] = np.sqrt(np.mean((PActive.y)**2))\n",
    "\n",
    "\n",
    "#     #Using the product was making it report flat beams...\n",
    "#     #savedData[f\"{PActiveStr}_totalCost\"] = savedData[f\"{PActiveStr}_xCost\"] * savedData[f\"{PActiveStr}_yCost\"]\n",
    "#     #Instead, average\n",
    "#     savedData[f\"{PActiveStr}_totalCost\"] = 0.5*(savedData[f\"{PActiveStr}_xCost\"] + savedData[f\"{PActiveStr}_yCost\"])\n",
    "\n",
    "#     savedData[f\"{PActiveStr}_emitSI90_x\"] = smallestIntervalImpliedEmittance(PActive, plane = \"x\", percentage = 0.90)\n",
    "#     savedData[f\"{PActiveStr}_emitSI90_y\"] = smallestIntervalImpliedEmittance(PActive, plane = \"y\", percentage = 0.90)\n",
    "\n",
    "#     savedData[f\"{PActiveStr}_zLen\"] = smallestIntervalImpliedSigma(PActive.t * 3e8, percentage=0.9)\n",
    "\n",
    "#     savedData[f\"{PActiveStr}_zCentroid\"] = np.median(PActive.t * 3e8)\n",
    "\n",
    "# savedData[\"bunchSpacing\"] = savedData[\"PWitness_zCentroid\"] - savedData[\"PDrive_zCentroid\"]\n",
    "\n",
    "# savedData"
   ]
  },
  {
   "cell_type": "code",
   "execution_count": null,
   "id": "c63085ee-011e-491d-8ef9-5142c865167d",
   "metadata": {},
   "outputs": [],
   "source": []
  }
 ],
 "metadata": {
  "kernelspec": {
   "display_name": "Python 3 (ipykernel)",
   "language": "python",
   "name": "python3"
  },
  "language_info": {
   "codemirror_mode": {
    "name": "ipython",
    "version": 3
   },
   "file_extension": ".py",
   "mimetype": "text/x-python",
   "name": "python",
   "nbconvert_exporter": "python",
   "pygments_lexer": "ipython3",
   "version": "3.11.8"
  }
 },
 "nbformat": 4,
 "nbformat_minor": 5
}
