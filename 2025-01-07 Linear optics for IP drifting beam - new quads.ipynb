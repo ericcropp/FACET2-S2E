{
 "cells": [
  {
   "cell_type": "code",
   "execution_count": 1,
   "id": "4911baaf-e51c-4074-9dc3-3d5279dd38f1",
   "metadata": {},
   "outputs": [],
   "source": [
    "from UTILITY_quickstart import *"
   ]
  },
  {
   "cell_type": "code",
   "execution_count": 2,
   "id": "c9429d65-37a2-47a1-878c-5fecac910f14",
   "metadata": {},
   "outputs": [
    {
     "name": "stdout",
     "output_type": "stream",
     "text": [
      "Environment set to:  /Users/nmajik/Documents/SLAC/FACET2-Bmad-PyTao\n",
      "Tracking to end\n",
      "CSR off\n",
      "Base Tao lattice\n",
      "WARNING! No beam file is specified!\n",
      "Number of macro particles defined by input file\n"
     ]
    }
   ],
   "source": [
    "#Start from golden lattice\n",
    "tao = initializeTao(\n",
    "    loadDefaultLatticeTF = False\n",
    ")"
   ]
  },
  {
   "cell_type": "markdown",
   "id": "86c8794a-0ec6-49b1-a481-2b80e39faf91",
   "metadata": {},
   "source": [
    "## Golden lattice"
   ]
  },
  {
   "cell_type": "code",
   "execution_count": 3,
   "id": "37c36fa4-2d10-458d-acee-0eb70d296202",
   "metadata": {},
   "outputs": [
    {
     "data": {
      "text/plain": [
       "{'mode_flip': False,\n",
       " 'beta_a': 0.500113514905197,\n",
       " 'alpha_a': -8.61413026751329e-05,\n",
       " 'gamma_a': 1.99954605827816,\n",
       " 'phi_a': 73.1003856252223,\n",
       " 'eta_a': -4.29100544671707e-07,\n",
       " 'etap_a': -7.60864677687215e-06,\n",
       " 'beta_b': 0.499955681369933,\n",
       " 'alpha_b': 0.000116201966385052,\n",
       " 'gamma_b': 2.00017731724298,\n",
       " 'phi_b': 60.4082301501082,\n",
       " 'eta_b': -6.77061438266207e-18,\n",
       " 'etap_b': -1.31862568529426e-17,\n",
       " 'eta_x': -4.29100544671707e-07,\n",
       " 'etap_x': -7.60864677687215e-06,\n",
       " 'eta_y': -6.77059836943936e-18,\n",
       " 'etap_y': -1.31862402801866e-17}"
      ]
     },
     "execution_count": 3,
     "metadata": {},
     "output_type": "execute_result"
    }
   ],
   "source": [
    "#The golden lattice linear optics gives 50 x 50 cm betas (zero alphas) at PENT\n",
    "tao.ele_twiss(\"PENT\")"
   ]
  },
  {
   "cell_type": "code",
   "execution_count": 4,
   "id": "7c2e3ec0-0f18-41f5-b360-fa0a56acb17f",
   "metadata": {},
   "outputs": [
    {
     "data": {
      "text/plain": [
       "{'mode_flip': False,\n",
       " 'beta_a': 11.5533562066008,\n",
       " 'alpha_a': -0.64078864083071,\n",
       " 'gamma_a': 0.122095264526835,\n",
       " 'phi_a': 71.31011993097,\n",
       " 'eta_a': 1.82993853116333e-05,\n",
       " 'etap_a': 1.18535480249718e-06,\n",
       " 'beta_b': 25.2039557159784,\n",
       " 'alpha_b': -1.56858472563668,\n",
       " 'gamma_b': 0.137298211459199,\n",
       " 'phi_b': 56.2536406733655,\n",
       " 'eta_b': -2.27197431822334e-17,\n",
       " 'etap_b': -4.93465667198356e-20,\n",
       " 'eta_x': 1.82993853116333e-05,\n",
       " 'etap_x': 1.18535480249718e-06,\n",
       " 'eta_y': -2.27197534407484e-17,\n",
       " 'etap_y': -4.93522682312884e-20}"
      ]
     },
     "execution_count": 4,
     "metadata": {},
     "output_type": "execute_result"
    }
   ],
   "source": [
    "#At MFFF, have\n",
    "#     Beta    Alpha\n",
    "# x   11.55   -0.64\n",
    "# y   25.2    -1.56\n",
    "tao.ele_twiss(\"MFFF\")"
   ]
  },
  {
   "cell_type": "markdown",
   "id": "ee0120cf-0a17-4c04-a46b-87f513d3a5d8",
   "metadata": {},
   "source": [
    "## Disable FF quads"
   ]
  },
  {
   "cell_type": "code",
   "execution_count": 5,
   "id": "45c270e6-5f01-40f4-8044-ab82f04991a8",
   "metadata": {},
   "outputs": [],
   "source": [
    "setQuadkG(tao, \"Q5FF\", 0)\n",
    "setQuadkG(tao, \"Q4FF\", 0)\n",
    "setQuadkG(tao, \"Q3FF\", 0)\n",
    "setQuadkG(tao, \"Q2FF\", 0)\n",
    "setQuadkG(tao, \"Q1FF\", 0)\n",
    "setQuadkG(tao, \"Q0FF\", 0)\n",
    "setQuadkG(tao, \"Q0D\", 0)\n",
    "setQuadkG(tao, \"Q1D\", 0)\n",
    "setQuadkG(tao, \"Q2D\", 0)"
   ]
  },
  {
   "cell_type": "code",
   "execution_count": 6,
   "id": "a2b7742b-8087-48de-b990-c5fba99e72b2",
   "metadata": {},
   "outputs": [
    {
     "data": {
      "text/plain": [
       "{'mode_flip': False,\n",
       " 'beta_a': 62.1183955561056,\n",
       " 'alpha_a': -2.56600115693764,\n",
       " 'gamma_a': 0.122095264526835,\n",
       " 'phi_a': 71.9394382055096,\n",
       " 'eta_a': 3.69901994937505e-05,\n",
       " 'etap_a': 1.18535480249718e-06,\n",
       " 'beta_b': 108.80815352558,\n",
       " 'alpha_b': -3.7335191001574,\n",
       " 'gamma_b': 0.137298211459199,\n",
       " 'phi_b': 56.5594895777048,\n",
       " 'eta_b': -3.062786696503e-17,\n",
       " 'etap_b': -4.93465667198356e-20,\n",
       " 'eta_x': 3.69901994937505e-05,\n",
       " 'etap_x': 1.18535480249718e-06,\n",
       " 'eta_y': -3.06279671256493e-17,\n",
       " 'etap_y': -4.93522682312884e-20}"
      ]
     },
     "execution_count": 6,
     "metadata": {},
     "output_type": "execute_result"
    }
   ],
   "source": [
    "tao.ele_twiss(\"PENT\")"
   ]
  },
  {
   "cell_type": "markdown",
   "id": "bc8fa493-6ecf-4f23-9403-6aa8ab598fe0",
   "metadata": {},
   "source": [
    "## Changing beam into BC20"
   ]
  },
  {
   "cell_type": "code",
   "execution_count": 7,
   "id": "f1d8941e-5870-46db-a75e-64c0b7bea931",
   "metadata": {},
   "outputs": [],
   "source": [
    "#Following code adapted from \"2024-08-09 Second IP linear optics.ipynb\""
   ]
  },
  {
   "cell_type": "code",
   "execution_count": 8,
   "id": "7a5a4a41-221d-4973-a1b2-bab32860ca51",
   "metadata": {},
   "outputs": [],
   "source": [
    "pbounds = {\n",
    "    #Made up limits\n",
    "    # 'Q19701':  [-35, -15],   #BCON = -26.7\n",
    "    # 'Q19801':  [25, 45],    #BCON = 35.7\n",
    "    # 'Q18801':  [0, 100],   #BCON = -26.7\n",
    "    # 'Q18901':  [-100, 0],    #BCON = 35.7\n",
    "\n",
    "    #\"Q6E\": [-301, 0],\n",
    "    #\"Q5ER\": [-33, -13],\n",
    "    # \"Q4ER_1\": [120, 140], #Code below will keep all _1, _2, _3 in sync\n",
    "    # \"Q3ER_1\": [100, 120], #Code below will keep all _1, _2 in sync\n",
    "    # \"Q2ER\": [-165, -145],\n",
    "    # \"Q1ER\": [150, 170],\n",
    "\n",
    "    # Limits and values as of 2025-01-07 \n",
    "    # SCP settings\n",
    "    # \"Q18601\": [0, 106.5],       #BCON = 24.7\n",
    "    # \"Q18701\": [-106.5, 0],      #BCON = -26.1\n",
    "    # \"Q18801\": [0, 106.5],       #BCON = 27.9\n",
    "    # \"Q18901\": [-106.5, 0],      #BCON = -26.85\n",
    "    # 'Q19701':  [-107.5, 0],   #BCON = -26.7\n",
    "    # 'Q19801':  [0, 107.5],    #BCON = 35.7\n",
    "\n",
    "    \"Q4ER_1\": [118, 146], # 132 +- 27/2\n",
    "        #Code below will keep all _1, _2, _3 in sync\n",
    "    \"Q3ER_1\": [94, 126], # 110 +- 32/2\n",
    "        #Code below will keep all _1, _2 in sync\n",
    "    \"Q2ER\": [-172, -136], # -154 +- -36/2\n",
    "    \"Q1ER\": [133, 189], #161 +- 56/2\n",
    "    \n",
    "    # EPICS for 851 and 871\n",
    "    # 'Q19851':  [-101.9, 0],   #BCON = -64.1\n",
    "    # 'Q19871':  [0, 101.9],    #BCON = 44.9\n",
    "\n",
    "\n",
    "    #################################################################\n",
    "    ### If using bounds above, use setQuadkG() in specificOptimizer()\n",
    "    #################################################################\n",
    "    ### If using bounds below, use setLattice() !!!\n",
    "    #################################################################\n",
    "\n",
    "    \n",
    "    # \"Q1EkG\" :  (0, 388) , #BCON = 133\n",
    "    # \"Q2EkG\" :  (-364, 0), #BCON = -136\n",
    "    # \"Q3EkG\" :  (0, 299) , #BCON = 94\n",
    "    # \"Q4EkG\" :  (0, 304) , #BCON = 118\n",
    "    # \"Q5EkG\" :  (-117, 0), #BCON = -17\n",
    "    # \"Q6EkG\" :  (-301, 0), #BCON = -142\n",
    "\n",
    "}"
   ]
  },
  {
   "cell_type": "code",
   "execution_count": 9,
   "id": "8c2207ac-777b-4317-a64a-2ce4f2fb0460",
   "metadata": {},
   "outputs": [
    {
     "data": {
      "text/plain": [
       "[132.28941580900812, 110.23470630887479, -154.252921494901, 161.3297517863203]"
      ]
     },
     "execution_count": 9,
     "metadata": {},
     "output_type": "execute_result"
    }
   ],
   "source": [
    "quadNames = pbounds.keys()\n",
    "[getQuadkG(tao, name) for name in quadNames]"
   ]
  },
  {
   "cell_type": "code",
   "execution_count": 10,
   "id": "3cfb15a9-c6a7-4d88-99b8-52c3b66b42b5",
   "metadata": {},
   "outputs": [],
   "source": [
    "def rampToZero(val, thresh, scale = 1):\n",
    "    return (max(val, thresh) - thresh) / scale\n",
    "\n",
    "def specificOptimizer(\n",
    "    self,\n",
    "    **kwargs\n",
    "):\n",
    "\n",
    "    self.totalNumEvals += 1\n",
    "    self.displayEvals()\n",
    "\n",
    "    savedData = kwargs\n",
    "    \n",
    "    badValue = -1e300  #The value returned for illegal config. Should be colossal. Double limit ~= 1e308\n",
    "    bigCost  = 1e50   #Should be large enough to dominate any \"normal\" return value but be dominated by badValue\n",
    "    \n",
    "    try: #This try block deals with bad configurations. Instead of causing the optimizer to halt we now 'except' a low value\n",
    "        #setLattice(tao, **kwargs)\n",
    "\n",
    "        for name in quadNames:\n",
    "            setQuadkG(tao, name, kwargs[name])\n",
    "\n",
    "        if \"Q3ER_1\" in quadNames:\n",
    "            setQuadkG(tao, \"Q3ER_2\", kwargs[\"Q3ER_1\"])\n",
    "\n",
    "        if \"Q4ER_1\" in quadNames:\n",
    "            setQuadkG(tao, \"Q4ER_2\", kwargs[\"Q4ER_1\"])\n",
    "            setQuadkG(tao, \"Q4ER_3\", kwargs[\"Q4ER_1\"])\n",
    "\n",
    "    except:\n",
    "        return badValue * 5\n",
    "\n",
    "    \n",
    "    try: \n",
    "        # transportMatrix = (tao.matrix(\"BEGBC20\",\"PENT\"))[\"mat6\"]\n",
    "        # savedData[\"R11\"] = transportMatrix[0][0]\n",
    "        # savedData[\"R12\"] = transportMatrix[0][1]\n",
    "\n",
    "        # savedData[\"R33\"] = transportMatrix[2][2]\n",
    "        # savedData[\"R34\"] = transportMatrix[2][3]\n",
    "        savedData[\"betaX\"]  = tao.ele_twiss(\"MFFF\")[\"beta_a\"]\n",
    "        savedData[\"alphaX\"] = tao.ele_twiss(\"MFFF\")[\"alpha_a\"]\n",
    "        savedData[\"betaY\"]  = tao.ele_twiss(\"MFFF\")[\"beta_b\"]\n",
    "        savedData[\"alphaY\"] = tao.ele_twiss(\"MFFF\")[\"alpha_b\"]\n",
    "\n",
    "        # savedData[\"betaX\"]  = tao.ele_twiss(\"BEGBC20\")[\"beta_a\"]\n",
    "        # savedData[\"alphaX\"] = tao.ele_twiss(\"BEGBC20\")[\"alpha_a\"]\n",
    "        # savedData[\"betaY\"]  = tao.ele_twiss(\"BEGBC20\")[\"beta_b\"]\n",
    "        # savedData[\"alphaY\"] = tao.ele_twiss(\"BEGBC20\")[\"alpha_b\"]\n",
    "        \n",
    "        \n",
    "            \n",
    "    except:\n",
    "        return badValue\n",
    "\n",
    "\n",
    "\n",
    "\n",
    "    # savedData[\"maximizeMe\"] = 1 / np.mean([\n",
    "    #     #abs(1 - savedData[\"R11\"]),\n",
    "    #     abs(savedData[\"R12\"]),\n",
    "        \n",
    "    #     #abs(1 - savedData[\"R33\"]),\n",
    "    #     #abs(1 - abs(savedData[\"R33\"])),\n",
    "    #     abs(savedData[\"R34\"]),\n",
    "\n",
    "    #     1e-20 #Prevent infinities\n",
    "    # ])\n",
    "\n",
    "    savedData[\"alphaPenalty\"] = 1e3 * rampToZero(( abs(savedData[\"alphaX\"]) + abs(savedData[\"alphaY\"]) ), 0.01 )\n",
    "    #savedData[\"magnetError\"] = 0 * ( abs( kwargs[\"Q18801\"] - 27.9 ) + abs( kwargs[\"Q18901\"] - -26.85 ) ) \n",
    "    #savedData[\"betaError\"] = abs(savedData[\"betaX\"] - 20) ** 2 + abs(savedData[\"betaY\"] - 20) ** 2\n",
    "    savedData[\"betaError\"] = 1e2 * abs(savedData[\"betaX\"] - savedData[\"betaY\"]) / (savedData[\"betaX\"] + savedData[\"betaY\"])\n",
    "\n",
    "    #Using product instead of sum causes it to prefer more symmetric solutions\n",
    "    #savedData[\"maximizeMe\"] = savedData[\"betaX\"] + savedData[\"betaY\"] - savedData[\"alphaPenalty\"]\n",
    "    #savedData[\"maximizeMe\"] = savedData[\"betaX\"] * savedData[\"betaY\"] - (savedData[\"alphaPenalty\"] ** 2)\n",
    "    #savedData[\"maximizeMe\"] = np.min([savedData[\"betaX\"], savedData[\"betaY\"]]) - (savedData[\"alphaPenalty\"] ** 2)\n",
    "    #savedData[\"maximizeMe\"] = 100 * np.min([savedData[\"betaX\"], savedData[\"betaY\"]]) + savedData[\"betaX\"] + savedData[\"betaY\"] - (savedData[\"alphaPenalty\"] ** 2)\n",
    "    savedData[\"maximizeMe\"] =  np.min([savedData[\"betaX\"], savedData[\"betaY\"]]) - savedData[\"betaError\"] - (savedData[\"alphaPenalty\"] ** 2)# - savedData[\"magnetError\"]\n",
    "    \n",
    "\n",
    "    \n",
    "    #Collect desired data as a pandas Series\n",
    "    tmpData = pd.Series( savedData ) \n",
    "    self.history = pd.concat([self.history, tmpData.to_frame().T])\n",
    "    \n",
    "    #Optional: Write to file\n",
    "    #self.history.to_json('optimizerHistory.json', orient='records')\n",
    "    n = self.totalNumEvals\n",
    "    if (n < 100) or (n < 1000 and  n % 10 == 0) or (n % 100 == 0): #This gets expensive to write when n >> 10k\n",
    "        self.history.to_json('optimizerHistory.json', orient='records')\n",
    "    \n",
    "    self.updatePlot()\n",
    "\n",
    "\n",
    "    return savedData[\"maximizeMe\"]\n",
    "\n",
    "\n",
    "\n",
    "\n",
    "# Function to create optimizerWrapper based on pbounds\n",
    "def create_optimizer_wrapper(pbounds):\n",
    "    param_names = list(pbounds.keys())\n",
    "    \n",
    "    def optimizerWrapper(self, **kwargs):\n",
    "        params = {name: kwargs.get(name, None) for name in param_names}\n",
    "        if None in params.values():\n",
    "            raise ValueError(\"All parameters must be provided\")\n",
    "        return specificOptimizer(self, **params)\n",
    "    \n",
    "    return optimizerWrapper\n",
    "\n",
    "# Create the optimizerWrapper function\n",
    "optimizerWrapper = create_optimizer_wrapper(pbounds)"
   ]
  },
  {
   "cell_type": "code",
   "execution_count": 11,
   "id": "b6645923-1c80-487e-a6aa-cfd078c2306f",
   "metadata": {
    "jupyter": {
     "source_hidden": true
    }
   },
   "outputs": [],
   "source": [
    "class OptimizationProblem:\n",
    "    def __init__(self):\n",
    "        self.history = pd.DataFrame()\n",
    "        self.totalNumEvals = 0\n",
    "        self.plot_display_handle = None\n",
    "        self.evals_display_handle = None\n",
    "\n",
    "\n",
    "    def updatePlot(self):\n",
    "        #This function seems to cause a substantial memory leak.\n",
    "        #This hack below reduces the plotting frequency which makes it tolerable\n",
    "\n",
    "        n = self.totalNumEvals\n",
    "        \n",
    "        if (n < 100) or (n < 1000 and  n % 10 == 0) or (n % 100 == 0): \n",
    "            plt.figure()\n",
    "            plotKey = \"maximizeMe\"\n",
    "            plt.plot(np.arange(len(self.history[plotKey])), self.history[plotKey], '-')\n",
    "            \n",
    "            plt.title('Optimization History')\n",
    "            plt.xlabel('Evaluation #')\n",
    "            plt.ylabel(plotKey)\n",
    "            plt.yscale('log')\n",
    "            plt.grid(True)\n",
    "            \n",
    "            \n",
    "            if self.plot_display_handle is None:\n",
    "                self.plot_display_handle = display(plt.gcf(), display_id=True)\n",
    "            else:\n",
    "                update_display(plt.gcf(), display_id=self.plot_display_handle.display_id)\n",
    "            plt.close()\n",
    "\n",
    "        return\n",
    "\n",
    "    def displayEvals(self):\n",
    "        if self.evals_display_handle is None:\n",
    "            self.evals_display_handle = display(f\"Total Num Evals: {self.totalNumEvals}\", display_id=True)\n",
    "        else:\n",
    "            update_display(f\"Total Num Evals: {self.totalNumEvals}\", display_id=self.evals_display_handle.display_id)\n",
    "\n",
    "# Attach the function to the class as a method\n",
    "OptimizationProblem.optimizerWrapper = optimizerWrapper\n",
    "\n",
    "# Instantiate the optimization problem\n",
    "problem = OptimizationProblem()"
   ]
  },
  {
   "cell_type": "code",
   "execution_count": 12,
   "id": "67eb92c7-862a-42af-8bf0-e1ec027ddec8",
   "metadata": {
    "jupyter": {
     "source_hidden": true
    }
   },
   "outputs": [],
   "source": [
    "from scipy.optimize import differential_evolution\n",
    "\n",
    "# Convert pbounds to the format required by differential_evolution\n",
    "bounds = [(low, high) for (low, high) in pbounds.values()]\n",
    "param_names = list(pbounds.keys())\n",
    "\n",
    "#scipy.optimize wants to optimize a function which is passed a vector of all the parameters\n",
    "#This programmatically wraps the existing wrapper (ugh...) to handle this format\n",
    "def create_DE_wrapper(obj, param_names):\n",
    "    def wrapperDE(params):\n",
    "        param_dict = dict(zip(param_names, params))\n",
    "\n",
    "        #bayes_opt is a maximizer but differential_evolution is a minimizer... hence the inversion\n",
    "        return -1*obj.optimizerWrapper(**param_dict)\n",
    "    \n",
    "    return wrapperDE\n",
    "\n",
    "wrapperDE = create_DE_wrapper(problem, param_names)"
   ]
  },
  {
   "cell_type": "code",
   "execution_count": 13,
   "id": "9a7368a0-9973-4abc-b98a-3cab01e60b90",
   "metadata": {},
   "outputs": [],
   "source": [
    "defaultSettingsVector = [getQuadkG(tao, name) for name in quadNames]\n",
    "#defaultSettingsVector = [ 139, 111, -156, 150 ] \n",
    "\n",
    "\n",
    "# importedDefaultSettings = loadConfig(\"setLattice_configs/defaults.yml\")\n",
    "# defaultSettingsVector = [importedDefaultSettings[name] for name in quadNames]"
   ]
  },
  {
   "cell_type": "code",
   "execution_count": 14,
   "id": "9c10f957-cc4f-4ba4-a189-04723baa5cf9",
   "metadata": {},
   "outputs": [
    {
     "data": {
      "text/plain": [
       "'Total Num Evals: 23836'"
      ]
     },
     "metadata": {},
     "output_type": "display_data"
    },
    {
     "name": "stderr",
     "output_type": "stream",
     "text": [
      "/var/folders/3j/4b_6gm4j44z6mpdlh3f3ggjc0000gn/T/ipykernel_24770/1806273417.py:23: UserWarning: Data has no positive values, and therefore cannot be log-scaled.\n",
      "  plt.yscale('log')\n"
     ]
    },
    {
     "data": {
      "image/png": "[encoded data removed]",
      "text/plain": [
       "<Figure size 640x480 with 1 Axes>"
      ]
     },
     "metadata": {},
     "output_type": "display_data"
    },
    {
     "name": "stderr",
     "output_type": "stream",
     "text": [
      "/var/folders/3j/4b_6gm4j44z6mpdlh3f3ggjc0000gn/T/ipykernel_24770/1806273417.py:23: UserWarning: Data has no positive values, and therefore cannot be log-scaled.\n",
      "  plt.yscale('log')\n",
      "/var/folders/3j/4b_6gm4j44z6mpdlh3f3ggjc0000gn/T/ipykernel_24770/1806273417.py:23: UserWarning: Data has no positive values, and therefore cannot be log-scaled.\n",
      "  plt.yscale('log')\n",
      "/var/folders/3j/4b_6gm4j44z6mpdlh3f3ggjc0000gn/T/ipykernel_24770/1806273417.py:23: UserWarning: Data has no positive values, and therefore cannot be log-scaled.\n",
      "  plt.yscale('log')\n",
      "/var/folders/3j/4b_6gm4j44z6mpdlh3f3ggjc0000gn/T/ipykernel_24770/1806273417.py:23: UserWarning: Data has no positive values, and therefore cannot be log-scaled.\n",
      "  plt.yscale('log')\n",
      "/var/folders/3j/4b_6gm4j44z6mpdlh3f3ggjc0000gn/T/ipykernel_24770/1806273417.py:23: UserWarning: Data has no positive values, and therefore cannot be log-scaled.\n",
      "  plt.yscale('log')\n",
      "/var/folders/3j/4b_6gm4j44z6mpdlh3f3ggjc0000gn/T/ipykernel_24770/1806273417.py:23: UserWarning: Data has no positive values, and therefore cannot be log-scaled.\n",
      "  plt.yscale('log')\n",
      "/var/folders/3j/4b_6gm4j44z6mpdlh3f3ggjc0000gn/T/ipykernel_24770/1806273417.py:23: UserWarning: Data has no positive values, and therefore cannot be log-scaled.\n",
      "  plt.yscale('log')\n",
      "/var/folders/3j/4b_6gm4j44z6mpdlh3f3ggjc0000gn/T/ipykernel_24770/1806273417.py:23: UserWarning: Data has no positive values, and therefore cannot be log-scaled.\n",
      "  plt.yscale('log')\n",
      "/var/folders/3j/4b_6gm4j44z6mpdlh3f3ggjc0000gn/T/ipykernel_24770/1806273417.py:23: UserWarning: Data has no positive values, and therefore cannot be log-scaled.\n",
      "  plt.yscale('log')\n",
      "/var/folders/3j/4b_6gm4j44z6mpdlh3f3ggjc0000gn/T/ipykernel_24770/1806273417.py:23: UserWarning: Data has no positive values, and therefore cannot be log-scaled.\n",
      "  plt.yscale('log')\n",
      "/var/folders/3j/4b_6gm4j44z6mpdlh3f3ggjc0000gn/T/ipykernel_24770/1806273417.py:23: UserWarning: Data has no positive values, and therefore cannot be log-scaled.\n",
      "  plt.yscale('log')\n",
      "/var/folders/3j/4b_6gm4j44z6mpdlh3f3ggjc0000gn/T/ipykernel_24770/1806273417.py:23: UserWarning: Data has no positive values, and therefore cannot be log-scaled.\n",
      "  plt.yscale('log')\n",
      "/var/folders/3j/4b_6gm4j44z6mpdlh3f3ggjc0000gn/T/ipykernel_24770/1806273417.py:23: UserWarning: Data has no positive values, and therefore cannot be log-scaled.\n",
      "  plt.yscale('log')\n",
      "/var/folders/3j/4b_6gm4j44z6mpdlh3f3ggjc0000gn/T/ipykernel_24770/1806273417.py:23: UserWarning: Data has no positive values, and therefore cannot be log-scaled.\n",
      "  plt.yscale('log')\n",
      "/var/folders/3j/4b_6gm4j44z6mpdlh3f3ggjc0000gn/T/ipykernel_24770/1806273417.py:23: UserWarning: Data has no positive values, and therefore cannot be log-scaled.\n",
      "  plt.yscale('log')\n",
      "/var/folders/3j/4b_6gm4j44z6mpdlh3f3ggjc0000gn/T/ipykernel_24770/1806273417.py:23: UserWarning: Data has no positive values, and therefore cannot be log-scaled.\n",
      "  plt.yscale('log')\n",
      "/var/folders/3j/4b_6gm4j44z6mpdlh3f3ggjc0000gn/T/ipykernel_24770/1806273417.py:23: UserWarning: Data has no positive values, and therefore cannot be log-scaled.\n",
      "  plt.yscale('log')\n",
      "/var/folders/3j/4b_6gm4j44z6mpdlh3f3ggjc0000gn/T/ipykernel_24770/1806273417.py:23: UserWarning: Data has no positive values, and therefore cannot be log-scaled.\n",
      "  plt.yscale('log')\n",
      "/var/folders/3j/4b_6gm4j44z6mpdlh3f3ggjc0000gn/T/ipykernel_24770/1806273417.py:23: UserWarning: Data has no positive values, and therefore cannot be log-scaled.\n",
      "  plt.yscale('log')\n",
      "/var/folders/3j/4b_6gm4j44z6mpdlh3f3ggjc0000gn/T/ipykernel_24770/1806273417.py:23: UserWarning: Data has no positive values, and therefore cannot be log-scaled.\n",
      "  plt.yscale('log')\n",
      "/var/folders/3j/4b_6gm4j44z6mpdlh3f3ggjc0000gn/T/ipykernel_24770/1806273417.py:23: UserWarning: Data has no positive values, and therefore cannot be log-scaled.\n",
      "  plt.yscale('log')\n",
      "/var/folders/3j/4b_6gm4j44z6mpdlh3f3ggjc0000gn/T/ipykernel_24770/1806273417.py:23: UserWarning: Data has no positive values, and therefore cannot be log-scaled.\n",
      "  plt.yscale('log')\n",
      "/var/folders/3j/4b_6gm4j44z6mpdlh3f3ggjc0000gn/T/ipykernel_24770/1806273417.py:23: UserWarning: Data has no positive values, and therefore cannot be log-scaled.\n",
      "  plt.yscale('log')\n",
      "/var/folders/3j/4b_6gm4j44z6mpdlh3f3ggjc0000gn/T/ipykernel_24770/1806273417.py:23: UserWarning: Data has no positive values, and therefore cannot be log-scaled.\n",
      "  plt.yscale('log')\n",
      "/var/folders/3j/4b_6gm4j44z6mpdlh3f3ggjc0000gn/T/ipykernel_24770/1806273417.py:23: UserWarning: Data has no positive values, and therefore cannot be log-scaled.\n",
      "  plt.yscale('log')\n",
      "/var/folders/3j/4b_6gm4j44z6mpdlh3f3ggjc0000gn/T/ipykernel_24770/1806273417.py:23: UserWarning: Data has no positive values, and therefore cannot be log-scaled.\n",
      "  plt.yscale('log')\n",
      "/var/folders/3j/4b_6gm4j44z6mpdlh3f3ggjc0000gn/T/ipykernel_24770/1806273417.py:23: UserWarning: Data has no positive values, and therefore cannot be log-scaled.\n",
      "  plt.yscale('log')\n",
      "/var/folders/3j/4b_6gm4j44z6mpdlh3f3ggjc0000gn/T/ipykernel_24770/1806273417.py:23: UserWarning: Data has no positive values, and therefore cannot be log-scaled.\n",
      "  plt.yscale('log')\n",
      "/var/folders/3j/4b_6gm4j44z6mpdlh3f3ggjc0000gn/T/ipykernel_24770/1806273417.py:23: UserWarning: Data has no positive values, and therefore cannot be log-scaled.\n",
      "  plt.yscale('log')\n",
      "/var/folders/3j/4b_6gm4j44z6mpdlh3f3ggjc0000gn/T/ipykernel_24770/1806273417.py:23: UserWarning: Data has no positive values, and therefore cannot be log-scaled.\n",
      "  plt.yscale('log')\n",
      "/var/folders/3j/4b_6gm4j44z6mpdlh3f3ggjc0000gn/T/ipykernel_24770/1806273417.py:23: UserWarning: Data has no positive values, and therefore cannot be log-scaled.\n",
      "  plt.yscale('log')\n",
      "/var/folders/3j/4b_6gm4j44z6mpdlh3f3ggjc0000gn/T/ipykernel_24770/1806273417.py:23: UserWarning: Data has no positive values, and therefore cannot be log-scaled.\n",
      "  plt.yscale('log')\n",
      "/var/folders/3j/4b_6gm4j44z6mpdlh3f3ggjc0000gn/T/ipykernel_24770/1806273417.py:23: UserWarning: Data has no positive values, and therefore cannot be log-scaled.\n",
      "  plt.yscale('log')\n",
      "/var/folders/3j/4b_6gm4j44z6mpdlh3f3ggjc0000gn/T/ipykernel_24770/1806273417.py:23: UserWarning: Data has no positive values, and therefore cannot be log-scaled.\n",
      "  plt.yscale('log')\n",
      "/var/folders/3j/4b_6gm4j44z6mpdlh3f3ggjc0000gn/T/ipykernel_24770/1806273417.py:23: UserWarning: Data has no positive values, and therefore cannot be log-scaled.\n",
      "  plt.yscale('log')\n",
      "/var/folders/3j/4b_6gm4j44z6mpdlh3f3ggjc0000gn/T/ipykernel_24770/1806273417.py:23: UserWarning: Data has no positive values, and therefore cannot be log-scaled.\n",
      "  plt.yscale('log')\n",
      "/var/folders/3j/4b_6gm4j44z6mpdlh3f3ggjc0000gn/T/ipykernel_24770/1806273417.py:23: UserWarning: Data has no positive values, and therefore cannot be log-scaled.\n",
      "  plt.yscale('log')\n",
      "/var/folders/3j/4b_6gm4j44z6mpdlh3f3ggjc0000gn/T/ipykernel_24770/1806273417.py:23: UserWarning: Data has no positive values, and therefore cannot be log-scaled.\n",
      "  plt.yscale('log')\n",
      "/var/folders/3j/4b_6gm4j44z6mpdlh3f3ggjc0000gn/T/ipykernel_24770/1806273417.py:23: UserWarning: Data has no positive values, and therefore cannot be log-scaled.\n",
      "  plt.yscale('log')\n",
      "/var/folders/3j/4b_6gm4j44z6mpdlh3f3ggjc0000gn/T/ipykernel_24770/1806273417.py:23: UserWarning: Data has no positive values, and therefore cannot be log-scaled.\n",
      "  plt.yscale('log')\n",
      "/var/folders/3j/4b_6gm4j44z6mpdlh3f3ggjc0000gn/T/ipykernel_24770/1806273417.py:23: UserWarning: Data has no positive values, and therefore cannot be log-scaled.\n",
      "  plt.yscale('log')\n",
      "/var/folders/3j/4b_6gm4j44z6mpdlh3f3ggjc0000gn/T/ipykernel_24770/1806273417.py:23: UserWarning: Data has no positive values, and therefore cannot be log-scaled.\n",
      "  plt.yscale('log')\n",
      "/var/folders/3j/4b_6gm4j44z6mpdlh3f3ggjc0000gn/T/ipykernel_24770/1806273417.py:23: UserWarning: Data has no positive values, and therefore cannot be log-scaled.\n",
      "  plt.yscale('log')\n",
      "/var/folders/3j/4b_6gm4j44z6mpdlh3f3ggjc0000gn/T/ipykernel_24770/1806273417.py:23: UserWarning: Data has no positive values, and therefore cannot be log-scaled.\n",
      "  plt.yscale('log')\n",
      "/var/folders/3j/4b_6gm4j44z6mpdlh3f3ggjc0000gn/T/ipykernel_24770/1806273417.py:23: UserWarning: Data has no positive values, and therefore cannot be log-scaled.\n",
      "  plt.yscale('log')\n",
      "/var/folders/3j/4b_6gm4j44z6mpdlh3f3ggjc0000gn/T/ipykernel_24770/1806273417.py:23: UserWarning: Data has no positive values, and therefore cannot be log-scaled.\n",
      "  plt.yscale('log')\n",
      "/var/folders/3j/4b_6gm4j44z6mpdlh3f3ggjc0000gn/T/ipykernel_24770/1806273417.py:23: UserWarning: Data has no positive values, and therefore cannot be log-scaled.\n",
      "  plt.yscale('log')\n",
      "/var/folders/3j/4b_6gm4j44z6mpdlh3f3ggjc0000gn/T/ipykernel_24770/1806273417.py:23: UserWarning: Data has no positive values, and therefore cannot be log-scaled.\n",
      "  plt.yscale('log')\n",
      "/var/folders/3j/4b_6gm4j44z6mpdlh3f3ggjc0000gn/T/ipykernel_24770/1806273417.py:23: UserWarning: Data has no positive values, and therefore cannot be log-scaled.\n",
      "  plt.yscale('log')\n",
      "/var/folders/3j/4b_6gm4j44z6mpdlh3f3ggjc0000gn/T/ipykernel_24770/1806273417.py:23: UserWarning: Data has no positive values, and therefore cannot be log-scaled.\n",
      "  plt.yscale('log')\n",
      "/var/folders/3j/4b_6gm4j44z6mpdlh3f3ggjc0000gn/T/ipykernel_24770/1806273417.py:23: UserWarning: Data has no positive values, and therefore cannot be log-scaled.\n",
      "  plt.yscale('log')\n",
      "/var/folders/3j/4b_6gm4j44z6mpdlh3f3ggjc0000gn/T/ipykernel_24770/1806273417.py:23: UserWarning: Data has no positive values, and therefore cannot be log-scaled.\n",
      "  plt.yscale('log')\n",
      "/var/folders/3j/4b_6gm4j44z6mpdlh3f3ggjc0000gn/T/ipykernel_24770/1806273417.py:23: UserWarning: Data has no positive values, and therefore cannot be log-scaled.\n",
      "  plt.yscale('log')\n",
      "/var/folders/3j/4b_6gm4j44z6mpdlh3f3ggjc0000gn/T/ipykernel_24770/1806273417.py:23: UserWarning: Data has no positive values, and therefore cannot be log-scaled.\n",
      "  plt.yscale('log')\n",
      "/var/folders/3j/4b_6gm4j44z6mpdlh3f3ggjc0000gn/T/ipykernel_24770/1806273417.py:23: UserWarning: Data has no positive values, and therefore cannot be log-scaled.\n",
      "  plt.yscale('log')\n",
      "/var/folders/3j/4b_6gm4j44z6mpdlh3f3ggjc0000gn/T/ipykernel_24770/1806273417.py:23: UserWarning: Data has no positive values, and therefore cannot be log-scaled.\n",
      "  plt.yscale('log')\n",
      "/var/folders/3j/4b_6gm4j44z6mpdlh3f3ggjc0000gn/T/ipykernel_24770/1806273417.py:23: UserWarning: Data has no positive values, and therefore cannot be log-scaled.\n",
      "  plt.yscale('log')\n",
      "/var/folders/3j/4b_6gm4j44z6mpdlh3f3ggjc0000gn/T/ipykernel_24770/1806273417.py:23: UserWarning: Data has no positive values, and therefore cannot be log-scaled.\n",
      "  plt.yscale('log')\n",
      "/var/folders/3j/4b_6gm4j44z6mpdlh3f3ggjc0000gn/T/ipykernel_24770/1806273417.py:23: UserWarning: Data has no positive values, and therefore cannot be log-scaled.\n",
      "  plt.yscale('log')\n",
      "/var/folders/3j/4b_6gm4j44z6mpdlh3f3ggjc0000gn/T/ipykernel_24770/1806273417.py:23: UserWarning: Data has no positive values, and therefore cannot be log-scaled.\n",
      "  plt.yscale('log')\n",
      "/var/folders/3j/4b_6gm4j44z6mpdlh3f3ggjc0000gn/T/ipykernel_24770/1806273417.py:23: UserWarning: Data has no positive values, and therefore cannot be log-scaled.\n",
      "  plt.yscale('log')\n",
      "/var/folders/3j/4b_6gm4j44z6mpdlh3f3ggjc0000gn/T/ipykernel_24770/1806273417.py:23: UserWarning: Data has no positive values, and therefore cannot be log-scaled.\n",
      "  plt.yscale('log')\n",
      "/var/folders/3j/4b_6gm4j44z6mpdlh3f3ggjc0000gn/T/ipykernel_24770/1806273417.py:23: UserWarning: Data has no positive values, and therefore cannot be log-scaled.\n",
      "  plt.yscale('log')\n",
      "/var/folders/3j/4b_6gm4j44z6mpdlh3f3ggjc0000gn/T/ipykernel_24770/1806273417.py:23: UserWarning: Data has no positive values, and therefore cannot be log-scaled.\n",
      "  plt.yscale('log')\n",
      "/var/folders/3j/4b_6gm4j44z6mpdlh3f3ggjc0000gn/T/ipykernel_24770/1806273417.py:23: UserWarning: Data has no positive values, and therefore cannot be log-scaled.\n",
      "  plt.yscale('log')\n",
      "/var/folders/3j/4b_6gm4j44z6mpdlh3f3ggjc0000gn/T/ipykernel_24770/1806273417.py:23: UserWarning: Data has no positive values, and therefore cannot be log-scaled.\n",
      "  plt.yscale('log')\n",
      "/var/folders/3j/4b_6gm4j44z6mpdlh3f3ggjc0000gn/T/ipykernel_24770/1806273417.py:23: UserWarning: Data has no positive values, and therefore cannot be log-scaled.\n",
      "  plt.yscale('log')\n",
      "/var/folders/3j/4b_6gm4j44z6mpdlh3f3ggjc0000gn/T/ipykernel_24770/1806273417.py:23: UserWarning: Data has no positive values, and therefore cannot be log-scaled.\n",
      "  plt.yscale('log')\n",
      "/var/folders/3j/4b_6gm4j44z6mpdlh3f3ggjc0000gn/T/ipykernel_24770/1806273417.py:23: UserWarning: Data has no positive values, and therefore cannot be log-scaled.\n",
      "  plt.yscale('log')\n",
      "/var/folders/3j/4b_6gm4j44z6mpdlh3f3ggjc0000gn/T/ipykernel_24770/1806273417.py:23: UserWarning: Data has no positive values, and therefore cannot be log-scaled.\n",
      "  plt.yscale('log')\n",
      "/var/folders/3j/4b_6gm4j44z6mpdlh3f3ggjc0000gn/T/ipykernel_24770/1806273417.py:23: UserWarning: Data has no positive values, and therefore cannot be log-scaled.\n",
      "  plt.yscale('log')\n",
      "/var/folders/3j/4b_6gm4j44z6mpdlh3f3ggjc0000gn/T/ipykernel_24770/1806273417.py:23: UserWarning: Data has no positive values, and therefore cannot be log-scaled.\n",
      "  plt.yscale('log')\n",
      "/var/folders/3j/4b_6gm4j44z6mpdlh3f3ggjc0000gn/T/ipykernel_24770/1806273417.py:23: UserWarning: Data has no positive values, and therefore cannot be log-scaled.\n",
      "  plt.yscale('log')\n",
      "/var/folders/3j/4b_6gm4j44z6mpdlh3f3ggjc0000gn/T/ipykernel_24770/1806273417.py:23: UserWarning: Data has no positive values, and therefore cannot be log-scaled.\n",
      "  plt.yscale('log')\n",
      "/var/folders/3j/4b_6gm4j44z6mpdlh3f3ggjc0000gn/T/ipykernel_24770/1806273417.py:23: UserWarning: Data has no positive values, and therefore cannot be log-scaled.\n",
      "  plt.yscale('log')\n",
      "/var/folders/3j/4b_6gm4j44z6mpdlh3f3ggjc0000gn/T/ipykernel_24770/1806273417.py:23: UserWarning: Data has no positive values, and therefore cannot be log-scaled.\n",
      "  plt.yscale('log')\n",
      "/var/folders/3j/4b_6gm4j44z6mpdlh3f3ggjc0000gn/T/ipykernel_24770/1806273417.py:23: UserWarning: Data has no positive values, and therefore cannot be log-scaled.\n",
      "  plt.yscale('log')\n",
      "/var/folders/3j/4b_6gm4j44z6mpdlh3f3ggjc0000gn/T/ipykernel_24770/1806273417.py:23: UserWarning: Data has no positive values, and therefore cannot be log-scaled.\n",
      "  plt.yscale('log')\n",
      "/var/folders/3j/4b_6gm4j44z6mpdlh3f3ggjc0000gn/T/ipykernel_24770/1806273417.py:23: UserWarning: Data has no positive values, and therefore cannot be log-scaled.\n",
      "  plt.yscale('log')\n",
      "/var/folders/3j/4b_6gm4j44z6mpdlh3f3ggjc0000gn/T/ipykernel_24770/1806273417.py:23: UserWarning: Data has no positive values, and therefore cannot be log-scaled.\n",
      "  plt.yscale('log')\n",
      "/var/folders/3j/4b_6gm4j44z6mpdlh3f3ggjc0000gn/T/ipykernel_24770/1806273417.py:23: UserWarning: Data has no positive values, and therefore cannot be log-scaled.\n",
      "  plt.yscale('log')\n",
      "/var/folders/3j/4b_6gm4j44z6mpdlh3f3ggjc0000gn/T/ipykernel_24770/1806273417.py:23: UserWarning: Data has no positive values, and therefore cannot be log-scaled.\n",
      "  plt.yscale('log')\n",
      "/var/folders/3j/4b_6gm4j44z6mpdlh3f3ggjc0000gn/T/ipykernel_24770/1806273417.py:23: UserWarning: Data has no positive values, and therefore cannot be log-scaled.\n",
      "  plt.yscale('log')\n",
      "/var/folders/3j/4b_6gm4j44z6mpdlh3f3ggjc0000gn/T/ipykernel_24770/1806273417.py:23: UserWarning: Data has no positive values, and therefore cannot be log-scaled.\n",
      "  plt.yscale('log')\n",
      "/var/folders/3j/4b_6gm4j44z6mpdlh3f3ggjc0000gn/T/ipykernel_24770/1806273417.py:23: UserWarning: Data has no positive values, and therefore cannot be log-scaled.\n",
      "  plt.yscale('log')\n",
      "/var/folders/3j/4b_6gm4j44z6mpdlh3f3ggjc0000gn/T/ipykernel_24770/1806273417.py:23: UserWarning: Data has no positive values, and therefore cannot be log-scaled.\n",
      "  plt.yscale('log')\n",
      "/var/folders/3j/4b_6gm4j44z6mpdlh3f3ggjc0000gn/T/ipykernel_24770/1806273417.py:23: UserWarning: Data has no positive values, and therefore cannot be log-scaled.\n",
      "  plt.yscale('log')\n",
      "/var/folders/3j/4b_6gm4j44z6mpdlh3f3ggjc0000gn/T/ipykernel_24770/1806273417.py:23: UserWarning: Data has no positive values, and therefore cannot be log-scaled.\n",
      "  plt.yscale('log')\n",
      "/var/folders/3j/4b_6gm4j44z6mpdlh3f3ggjc0000gn/T/ipykernel_24770/1806273417.py:23: UserWarning: Data has no positive values, and therefore cannot be log-scaled.\n",
      "  plt.yscale('log')\n",
      "/var/folders/3j/4b_6gm4j44z6mpdlh3f3ggjc0000gn/T/ipykernel_24770/1806273417.py:23: UserWarning: Data has no positive values, and therefore cannot be log-scaled.\n",
      "  plt.yscale('log')\n",
      "/var/folders/3j/4b_6gm4j44z6mpdlh3f3ggjc0000gn/T/ipykernel_24770/1806273417.py:23: UserWarning: Data has no positive values, and therefore cannot be log-scaled.\n",
      "  plt.yscale('log')\n",
      "/var/folders/3j/4b_6gm4j44z6mpdlh3f3ggjc0000gn/T/ipykernel_24770/1806273417.py:23: UserWarning: Data has no positive values, and therefore cannot be log-scaled.\n",
      "  plt.yscale('log')\n",
      "/var/folders/3j/4b_6gm4j44z6mpdlh3f3ggjc0000gn/T/ipykernel_24770/1806273417.py:23: UserWarning: Data has no positive values, and therefore cannot be log-scaled.\n",
      "  plt.yscale('log')\n",
      "/var/folders/3j/4b_6gm4j44z6mpdlh3f3ggjc0000gn/T/ipykernel_24770/1806273417.py:23: UserWarning: Data has no positive values, and therefore cannot be log-scaled.\n",
      "  plt.yscale('log')\n",
      "/var/folders/3j/4b_6gm4j44z6mpdlh3f3ggjc0000gn/T/ipykernel_24770/1806273417.py:23: UserWarning: Data has no positive values, and therefore cannot be log-scaled.\n",
      "  plt.yscale('log')\n",
      "/var/folders/3j/4b_6gm4j44z6mpdlh3f3ggjc0000gn/T/ipykernel_24770/1806273417.py:23: UserWarning: Data has no positive values, and therefore cannot be log-scaled.\n",
      "  plt.yscale('log')\n",
      "/var/folders/3j/4b_6gm4j44z6mpdlh3f3ggjc0000gn/T/ipykernel_24770/1806273417.py:23: UserWarning: Data has no positive values, and therefore cannot be log-scaled.\n",
      "  plt.yscale('log')\n",
      "/var/folders/3j/4b_6gm4j44z6mpdlh3f3ggjc0000gn/T/ipykernel_24770/1806273417.py:23: UserWarning: Data has no positive values, and therefore cannot be log-scaled.\n",
      "  plt.yscale('log')\n",
      "/var/folders/3j/4b_6gm4j44z6mpdlh3f3ggjc0000gn/T/ipykernel_24770/1806273417.py:23: UserWarning: Data has no positive values, and therefore cannot be log-scaled.\n",
      "  plt.yscale('log')\n",
      "/var/folders/3j/4b_6gm4j44z6mpdlh3f3ggjc0000gn/T/ipykernel_24770/1806273417.py:23: UserWarning: Data has no positive values, and therefore cannot be log-scaled.\n",
      "  plt.yscale('log')\n",
      "/var/folders/3j/4b_6gm4j44z6mpdlh3f3ggjc0000gn/T/ipykernel_24770/1806273417.py:23: UserWarning: Data has no positive values, and therefore cannot be log-scaled.\n",
      "  plt.yscale('log')\n",
      "/var/folders/3j/4b_6gm4j44z6mpdlh3f3ggjc0000gn/T/ipykernel_24770/1806273417.py:23: UserWarning: Data has no positive values, and therefore cannot be log-scaled.\n",
      "  plt.yscale('log')\n",
      "/var/folders/3j/4b_6gm4j44z6mpdlh3f3ggjc0000gn/T/ipykernel_24770/1806273417.py:23: UserWarning: Data has no positive values, and therefore cannot be log-scaled.\n",
      "  plt.yscale('log')\n",
      "/var/folders/3j/4b_6gm4j44z6mpdlh3f3ggjc0000gn/T/ipykernel_24770/1806273417.py:23: UserWarning: Data has no positive values, and therefore cannot be log-scaled.\n",
      "  plt.yscale('log')\n",
      "/var/folders/3j/4b_6gm4j44z6mpdlh3f3ggjc0000gn/T/ipykernel_24770/1806273417.py:23: UserWarning: Data has no positive values, and therefore cannot be log-scaled.\n",
      "  plt.yscale('log')\n",
      "/var/folders/3j/4b_6gm4j44z6mpdlh3f3ggjc0000gn/T/ipykernel_24770/1806273417.py:23: UserWarning: Data has no positive values, and therefore cannot be log-scaled.\n",
      "  plt.yscale('log')\n",
      "/var/folders/3j/4b_6gm4j44z6mpdlh3f3ggjc0000gn/T/ipykernel_24770/1806273417.py:23: UserWarning: Data has no positive values, and therefore cannot be log-scaled.\n",
      "  plt.yscale('log')\n",
      "/var/folders/3j/4b_6gm4j44z6mpdlh3f3ggjc0000gn/T/ipykernel_24770/1806273417.py:23: UserWarning: Data has no positive values, and therefore cannot be log-scaled.\n",
      "  plt.yscale('log')\n",
      "/var/folders/3j/4b_6gm4j44z6mpdlh3f3ggjc0000gn/T/ipykernel_24770/1806273417.py:23: UserWarning: Data has no positive values, and therefore cannot be log-scaled.\n",
      "  plt.yscale('log')\n"
     ]
    },
    {
     "name": "stdout",
     "output_type": "stream",
     "text": [
      "differential_evolution step 1: f(x)= 1465432.4725359757\n"
     ]
    },
    {
     "name": "stderr",
     "output_type": "stream",
     "text": [
      "/var/folders/3j/4b_6gm4j44z6mpdlh3f3ggjc0000gn/T/ipykernel_24770/1806273417.py:23: UserWarning: Data has no positive values, and therefore cannot be log-scaled.\n",
      "  plt.yscale('log')\n",
      "/var/folders/3j/4b_6gm4j44z6mpdlh3f3ggjc0000gn/T/ipykernel_24770/1806273417.py:23: UserWarning: Data has no positive values, and therefore cannot be log-scaled.\n",
      "  plt.yscale('log')\n",
      "/var/folders/3j/4b_6gm4j44z6mpdlh3f3ggjc0000gn/T/ipykernel_24770/1806273417.py:23: UserWarning: Data has no positive values, and therefore cannot be log-scaled.\n",
      "  plt.yscale('log')\n",
      "/var/folders/3j/4b_6gm4j44z6mpdlh3f3ggjc0000gn/T/ipykernel_24770/1806273417.py:23: UserWarning: Data has no positive values, and therefore cannot be log-scaled.\n",
      "  plt.yscale('log')\n",
      "/var/folders/3j/4b_6gm4j44z6mpdlh3f3ggjc0000gn/T/ipykernel_24770/1806273417.py:23: UserWarning: Data has no positive values, and therefore cannot be log-scaled.\n",
      "  plt.yscale('log')\n",
      "/var/folders/3j/4b_6gm4j44z6mpdlh3f3ggjc0000gn/T/ipykernel_24770/1806273417.py:23: UserWarning: Data has no positive values, and therefore cannot be log-scaled.\n",
      "  plt.yscale('log')\n",
      "/var/folders/3j/4b_6gm4j44z6mpdlh3f3ggjc0000gn/T/ipykernel_24770/1806273417.py:23: UserWarning: Data has no positive values, and therefore cannot be log-scaled.\n",
      "  plt.yscale('log')\n",
      "/var/folders/3j/4b_6gm4j44z6mpdlh3f3ggjc0000gn/T/ipykernel_24770/1806273417.py:23: UserWarning: Data has no positive values, and therefore cannot be log-scaled.\n",
      "  plt.yscale('log')\n",
      "/var/folders/3j/4b_6gm4j44z6mpdlh3f3ggjc0000gn/T/ipykernel_24770/1806273417.py:23: UserWarning: Data has no positive values, and therefore cannot be log-scaled.\n",
      "  plt.yscale('log')\n",
      "/var/folders/3j/4b_6gm4j44z6mpdlh3f3ggjc0000gn/T/ipykernel_24770/1806273417.py:23: UserWarning: Data has no positive values, and therefore cannot be log-scaled.\n",
      "  plt.yscale('log')\n"
     ]
    },
    {
     "name": "stdout",
     "output_type": "stream",
     "text": [
      "differential_evolution step 2: f(x)= 481758.9267388539\n"
     ]
    },
    {
     "name": "stderr",
     "output_type": "stream",
     "text": [
      "/var/folders/3j/4b_6gm4j44z6mpdlh3f3ggjc0000gn/T/ipykernel_24770/1806273417.py:23: UserWarning: Data has no positive values, and therefore cannot be log-scaled.\n",
      "  plt.yscale('log')\n",
      "/var/folders/3j/4b_6gm4j44z6mpdlh3f3ggjc0000gn/T/ipykernel_24770/1806273417.py:23: UserWarning: Data has no positive values, and therefore cannot be log-scaled.\n",
      "  plt.yscale('log')\n",
      "/var/folders/3j/4b_6gm4j44z6mpdlh3f3ggjc0000gn/T/ipykernel_24770/1806273417.py:23: UserWarning: Data has no positive values, and therefore cannot be log-scaled.\n",
      "  plt.yscale('log')\n",
      "/var/folders/3j/4b_6gm4j44z6mpdlh3f3ggjc0000gn/T/ipykernel_24770/1806273417.py:23: UserWarning: Data has no positive values, and therefore cannot be log-scaled.\n",
      "  plt.yscale('log')\n",
      "/var/folders/3j/4b_6gm4j44z6mpdlh3f3ggjc0000gn/T/ipykernel_24770/1806273417.py:23: UserWarning: Data has no positive values, and therefore cannot be log-scaled.\n",
      "  plt.yscale('log')\n",
      "/var/folders/3j/4b_6gm4j44z6mpdlh3f3ggjc0000gn/T/ipykernel_24770/1806273417.py:23: UserWarning: Data has no positive values, and therefore cannot be log-scaled.\n",
      "  plt.yscale('log')\n",
      "/var/folders/3j/4b_6gm4j44z6mpdlh3f3ggjc0000gn/T/ipykernel_24770/1806273417.py:23: UserWarning: Data has no positive values, and therefore cannot be log-scaled.\n",
      "  plt.yscale('log')\n",
      "/var/folders/3j/4b_6gm4j44z6mpdlh3f3ggjc0000gn/T/ipykernel_24770/1806273417.py:23: UserWarning: Data has no positive values, and therefore cannot be log-scaled.\n",
      "  plt.yscale('log')\n",
      "/var/folders/3j/4b_6gm4j44z6mpdlh3f3ggjc0000gn/T/ipykernel_24770/1806273417.py:23: UserWarning: Data has no positive values, and therefore cannot be log-scaled.\n",
      "  plt.yscale('log')\n",
      "/var/folders/3j/4b_6gm4j44z6mpdlh3f3ggjc0000gn/T/ipykernel_24770/1806273417.py:23: UserWarning: Data has no positive values, and therefore cannot be log-scaled.\n",
      "  plt.yscale('log')\n"
     ]
    },
    {
     "name": "stdout",
     "output_type": "stream",
     "text": [
      "differential_evolution step 3: f(x)= 481758.9267388539\n"
     ]
    },
    {
     "name": "stderr",
     "output_type": "stream",
     "text": [
      "/var/folders/3j/4b_6gm4j44z6mpdlh3f3ggjc0000gn/T/ipykernel_24770/1806273417.py:23: UserWarning: Data has no positive values, and therefore cannot be log-scaled.\n",
      "  plt.yscale('log')\n",
      "/var/folders/3j/4b_6gm4j44z6mpdlh3f3ggjc0000gn/T/ipykernel_24770/1806273417.py:23: UserWarning: Data has no positive values, and therefore cannot be log-scaled.\n",
      "  plt.yscale('log')\n",
      "/var/folders/3j/4b_6gm4j44z6mpdlh3f3ggjc0000gn/T/ipykernel_24770/1806273417.py:23: UserWarning: Data has no positive values, and therefore cannot be log-scaled.\n",
      "  plt.yscale('log')\n",
      "/var/folders/3j/4b_6gm4j44z6mpdlh3f3ggjc0000gn/T/ipykernel_24770/1806273417.py:23: UserWarning: Data has no positive values, and therefore cannot be log-scaled.\n",
      "  plt.yscale('log')\n",
      "/var/folders/3j/4b_6gm4j44z6mpdlh3f3ggjc0000gn/T/ipykernel_24770/1806273417.py:23: UserWarning: Data has no positive values, and therefore cannot be log-scaled.\n",
      "  plt.yscale('log')\n",
      "/var/folders/3j/4b_6gm4j44z6mpdlh3f3ggjc0000gn/T/ipykernel_24770/1806273417.py:23: UserWarning: Data has no positive values, and therefore cannot be log-scaled.\n",
      "  plt.yscale('log')\n",
      "/var/folders/3j/4b_6gm4j44z6mpdlh3f3ggjc0000gn/T/ipykernel_24770/1806273417.py:23: UserWarning: Data has no positive values, and therefore cannot be log-scaled.\n",
      "  plt.yscale('log')\n",
      "/var/folders/3j/4b_6gm4j44z6mpdlh3f3ggjc0000gn/T/ipykernel_24770/1806273417.py:23: UserWarning: Data has no positive values, and therefore cannot be log-scaled.\n",
      "  plt.yscale('log')\n",
      "/var/folders/3j/4b_6gm4j44z6mpdlh3f3ggjc0000gn/T/ipykernel_24770/1806273417.py:23: UserWarning: Data has no positive values, and therefore cannot be log-scaled.\n",
      "  plt.yscale('log')\n",
      "/var/folders/3j/4b_6gm4j44z6mpdlh3f3ggjc0000gn/T/ipykernel_24770/1806273417.py:23: UserWarning: Data has no positive values, and therefore cannot be log-scaled.\n",
      "  plt.yscale('log')\n"
     ]
    },
    {
     "name": "stdout",
     "output_type": "stream",
     "text": [
      "differential_evolution step 4: f(x)= 481758.9267388539\n"
     ]
    },
    {
     "name": "stderr",
     "output_type": "stream",
     "text": [
      "/var/folders/3j/4b_6gm4j44z6mpdlh3f3ggjc0000gn/T/ipykernel_24770/1806273417.py:23: UserWarning: Data has no positive values, and therefore cannot be log-scaled.\n",
      "  plt.yscale('log')\n",
      "/var/folders/3j/4b_6gm4j44z6mpdlh3f3ggjc0000gn/T/ipykernel_24770/1806273417.py:23: UserWarning: Data has no positive values, and therefore cannot be log-scaled.\n",
      "  plt.yscale('log')\n",
      "/var/folders/3j/4b_6gm4j44z6mpdlh3f3ggjc0000gn/T/ipykernel_24770/1806273417.py:23: UserWarning: Data has no positive values, and therefore cannot be log-scaled.\n",
      "  plt.yscale('log')\n",
      "/var/folders/3j/4b_6gm4j44z6mpdlh3f3ggjc0000gn/T/ipykernel_24770/1806273417.py:23: UserWarning: Data has no positive values, and therefore cannot be log-scaled.\n",
      "  plt.yscale('log')\n",
      "/var/folders/3j/4b_6gm4j44z6mpdlh3f3ggjc0000gn/T/ipykernel_24770/1806273417.py:23: UserWarning: Data has no positive values, and therefore cannot be log-scaled.\n",
      "  plt.yscale('log')\n",
      "/var/folders/3j/4b_6gm4j44z6mpdlh3f3ggjc0000gn/T/ipykernel_24770/1806273417.py:23: UserWarning: Data has no positive values, and therefore cannot be log-scaled.\n",
      "  plt.yscale('log')\n",
      "/var/folders/3j/4b_6gm4j44z6mpdlh3f3ggjc0000gn/T/ipykernel_24770/1806273417.py:23: UserWarning: Data has no positive values, and therefore cannot be log-scaled.\n",
      "  plt.yscale('log')\n",
      "/var/folders/3j/4b_6gm4j44z6mpdlh3f3ggjc0000gn/T/ipykernel_24770/1806273417.py:23: UserWarning: Data has no positive values, and therefore cannot be log-scaled.\n",
      "  plt.yscale('log')\n",
      "/var/folders/3j/4b_6gm4j44z6mpdlh3f3ggjc0000gn/T/ipykernel_24770/1806273417.py:23: UserWarning: Data has no positive values, and therefore cannot be log-scaled.\n",
      "  plt.yscale('log')\n",
      "/var/folders/3j/4b_6gm4j44z6mpdlh3f3ggjc0000gn/T/ipykernel_24770/1806273417.py:23: UserWarning: Data has no positive values, and therefore cannot be log-scaled.\n",
      "  plt.yscale('log')\n"
     ]
    },
    {
     "name": "stdout",
     "output_type": "stream",
     "text": [
      "differential_evolution step 5: f(x)= 481758.9267388539\n"
     ]
    },
    {
     "name": "stderr",
     "output_type": "stream",
     "text": [
      "/var/folders/3j/4b_6gm4j44z6mpdlh3f3ggjc0000gn/T/ipykernel_24770/1806273417.py:23: UserWarning: Data has no positive values, and therefore cannot be log-scaled.\n",
      "  plt.yscale('log')\n",
      "/var/folders/3j/4b_6gm4j44z6mpdlh3f3ggjc0000gn/T/ipykernel_24770/1806273417.py:23: UserWarning: Data has no positive values, and therefore cannot be log-scaled.\n",
      "  plt.yscale('log')\n",
      "/var/folders/3j/4b_6gm4j44z6mpdlh3f3ggjc0000gn/T/ipykernel_24770/1806273417.py:23: UserWarning: Data has no positive values, and therefore cannot be log-scaled.\n",
      "  plt.yscale('log')\n",
      "/var/folders/3j/4b_6gm4j44z6mpdlh3f3ggjc0000gn/T/ipykernel_24770/1806273417.py:23: UserWarning: Data has no positive values, and therefore cannot be log-scaled.\n",
      "  plt.yscale('log')\n",
      "/var/folders/3j/4b_6gm4j44z6mpdlh3f3ggjc0000gn/T/ipykernel_24770/1806273417.py:23: UserWarning: Data has no positive values, and therefore cannot be log-scaled.\n",
      "  plt.yscale('log')\n",
      "/var/folders/3j/4b_6gm4j44z6mpdlh3f3ggjc0000gn/T/ipykernel_24770/1806273417.py:23: UserWarning: Data has no positive values, and therefore cannot be log-scaled.\n",
      "  plt.yscale('log')\n",
      "/var/folders/3j/4b_6gm4j44z6mpdlh3f3ggjc0000gn/T/ipykernel_24770/1806273417.py:23: UserWarning: Data has no positive values, and therefore cannot be log-scaled.\n",
      "  plt.yscale('log')\n",
      "/var/folders/3j/4b_6gm4j44z6mpdlh3f3ggjc0000gn/T/ipykernel_24770/1806273417.py:23: UserWarning: Data has no positive values, and therefore cannot be log-scaled.\n",
      "  plt.yscale('log')\n",
      "/var/folders/3j/4b_6gm4j44z6mpdlh3f3ggjc0000gn/T/ipykernel_24770/1806273417.py:23: UserWarning: Data has no positive values, and therefore cannot be log-scaled.\n",
      "  plt.yscale('log')\n",
      "/var/folders/3j/4b_6gm4j44z6mpdlh3f3ggjc0000gn/T/ipykernel_24770/1806273417.py:23: UserWarning: Data has no positive values, and therefore cannot be log-scaled.\n",
      "  plt.yscale('log')\n"
     ]
    },
    {
     "name": "stdout",
     "output_type": "stream",
     "text": [
      "differential_evolution step 6: f(x)= 481758.9267388539\n"
     ]
    },
    {
     "name": "stderr",
     "output_type": "stream",
     "text": [
      "/var/folders/3j/4b_6gm4j44z6mpdlh3f3ggjc0000gn/T/ipykernel_24770/1806273417.py:23: UserWarning: Data has no positive values, and therefore cannot be log-scaled.\n",
      "  plt.yscale('log')\n",
      "/var/folders/3j/4b_6gm4j44z6mpdlh3f3ggjc0000gn/T/ipykernel_24770/1806273417.py:23: UserWarning: Data has no positive values, and therefore cannot be log-scaled.\n",
      "  plt.yscale('log')\n",
      "/var/folders/3j/4b_6gm4j44z6mpdlh3f3ggjc0000gn/T/ipykernel_24770/1806273417.py:23: UserWarning: Data has no positive values, and therefore cannot be log-scaled.\n",
      "  plt.yscale('log')\n",
      "/var/folders/3j/4b_6gm4j44z6mpdlh3f3ggjc0000gn/T/ipykernel_24770/1806273417.py:23: UserWarning: Data has no positive values, and therefore cannot be log-scaled.\n",
      "  plt.yscale('log')\n",
      "/var/folders/3j/4b_6gm4j44z6mpdlh3f3ggjc0000gn/T/ipykernel_24770/1806273417.py:23: UserWarning: Data has no positive values, and therefore cannot be log-scaled.\n",
      "  plt.yscale('log')\n",
      "/var/folders/3j/4b_6gm4j44z6mpdlh3f3ggjc0000gn/T/ipykernel_24770/1806273417.py:23: UserWarning: Data has no positive values, and therefore cannot be log-scaled.\n",
      "  plt.yscale('log')\n",
      "/var/folders/3j/4b_6gm4j44z6mpdlh3f3ggjc0000gn/T/ipykernel_24770/1806273417.py:23: UserWarning: Data has no positive values, and therefore cannot be log-scaled.\n",
      "  plt.yscale('log')\n",
      "/var/folders/3j/4b_6gm4j44z6mpdlh3f3ggjc0000gn/T/ipykernel_24770/1806273417.py:23: UserWarning: Data has no positive values, and therefore cannot be log-scaled.\n",
      "  plt.yscale('log')\n",
      "/var/folders/3j/4b_6gm4j44z6mpdlh3f3ggjc0000gn/T/ipykernel_24770/1806273417.py:23: UserWarning: Data has no positive values, and therefore cannot be log-scaled.\n",
      "  plt.yscale('log')\n",
      "/var/folders/3j/4b_6gm4j44z6mpdlh3f3ggjc0000gn/T/ipykernel_24770/1806273417.py:23: UserWarning: Data has no positive values, and therefore cannot be log-scaled.\n",
      "  plt.yscale('log')\n"
     ]
    },
    {
     "name": "stdout",
     "output_type": "stream",
     "text": [
      "differential_evolution step 7: f(x)= 481758.9267388539\n"
     ]
    },
    {
     "name": "stderr",
     "output_type": "stream",
     "text": [
      "/var/folders/3j/4b_6gm4j44z6mpdlh3f3ggjc0000gn/T/ipykernel_24770/1806273417.py:23: UserWarning: Data has no positive values, and therefore cannot be log-scaled.\n",
      "  plt.yscale('log')\n",
      "/var/folders/3j/4b_6gm4j44z6mpdlh3f3ggjc0000gn/T/ipykernel_24770/1806273417.py:23: UserWarning: Data has no positive values, and therefore cannot be log-scaled.\n",
      "  plt.yscale('log')\n",
      "/var/folders/3j/4b_6gm4j44z6mpdlh3f3ggjc0000gn/T/ipykernel_24770/1806273417.py:23: UserWarning: Data has no positive values, and therefore cannot be log-scaled.\n",
      "  plt.yscale('log')\n",
      "/var/folders/3j/4b_6gm4j44z6mpdlh3f3ggjc0000gn/T/ipykernel_24770/1806273417.py:23: UserWarning: Data has no positive values, and therefore cannot be log-scaled.\n",
      "  plt.yscale('log')\n",
      "/var/folders/3j/4b_6gm4j44z6mpdlh3f3ggjc0000gn/T/ipykernel_24770/1806273417.py:23: UserWarning: Data has no positive values, and therefore cannot be log-scaled.\n",
      "  plt.yscale('log')\n",
      "/var/folders/3j/4b_6gm4j44z6mpdlh3f3ggjc0000gn/T/ipykernel_24770/1806273417.py:23: UserWarning: Data has no positive values, and therefore cannot be log-scaled.\n",
      "  plt.yscale('log')\n",
      "/var/folders/3j/4b_6gm4j44z6mpdlh3f3ggjc0000gn/T/ipykernel_24770/1806273417.py:23: UserWarning: Data has no positive values, and therefore cannot be log-scaled.\n",
      "  plt.yscale('log')\n",
      "/var/folders/3j/4b_6gm4j44z6mpdlh3f3ggjc0000gn/T/ipykernel_24770/1806273417.py:23: UserWarning: Data has no positive values, and therefore cannot be log-scaled.\n",
      "  plt.yscale('log')\n",
      "/var/folders/3j/4b_6gm4j44z6mpdlh3f3ggjc0000gn/T/ipykernel_24770/1806273417.py:23: UserWarning: Data has no positive values, and therefore cannot be log-scaled.\n",
      "  plt.yscale('log')\n",
      "/var/folders/3j/4b_6gm4j44z6mpdlh3f3ggjc0000gn/T/ipykernel_24770/1806273417.py:23: UserWarning: Data has no positive values, and therefore cannot be log-scaled.\n",
      "  plt.yscale('log')\n"
     ]
    },
    {
     "name": "stdout",
     "output_type": "stream",
     "text": [
      "differential_evolution step 8: f(x)= 11403.482579286734\n"
     ]
    },
    {
     "name": "stderr",
     "output_type": "stream",
     "text": [
      "/var/folders/3j/4b_6gm4j44z6mpdlh3f3ggjc0000gn/T/ipykernel_24770/1806273417.py:23: UserWarning: Data has no positive values, and therefore cannot be log-scaled.\n",
      "  plt.yscale('log')\n",
      "/var/folders/3j/4b_6gm4j44z6mpdlh3f3ggjc0000gn/T/ipykernel_24770/1806273417.py:23: UserWarning: Data has no positive values, and therefore cannot be log-scaled.\n",
      "  plt.yscale('log')\n",
      "/var/folders/3j/4b_6gm4j44z6mpdlh3f3ggjc0000gn/T/ipykernel_24770/1806273417.py:23: UserWarning: Data has no positive values, and therefore cannot be log-scaled.\n",
      "  plt.yscale('log')\n",
      "/var/folders/3j/4b_6gm4j44z6mpdlh3f3ggjc0000gn/T/ipykernel_24770/1806273417.py:23: UserWarning: Data has no positive values, and therefore cannot be log-scaled.\n",
      "  plt.yscale('log')\n",
      "/var/folders/3j/4b_6gm4j44z6mpdlh3f3ggjc0000gn/T/ipykernel_24770/1806273417.py:23: UserWarning: Data has no positive values, and therefore cannot be log-scaled.\n",
      "  plt.yscale('log')\n",
      "/var/folders/3j/4b_6gm4j44z6mpdlh3f3ggjc0000gn/T/ipykernel_24770/1806273417.py:23: UserWarning: Data has no positive values, and therefore cannot be log-scaled.\n",
      "  plt.yscale('log')\n",
      "/var/folders/3j/4b_6gm4j44z6mpdlh3f3ggjc0000gn/T/ipykernel_24770/1806273417.py:23: UserWarning: Data has no positive values, and therefore cannot be log-scaled.\n",
      "  plt.yscale('log')\n",
      "/var/folders/3j/4b_6gm4j44z6mpdlh3f3ggjc0000gn/T/ipykernel_24770/1806273417.py:23: UserWarning: Data has no positive values, and therefore cannot be log-scaled.\n",
      "  plt.yscale('log')\n",
      "/var/folders/3j/4b_6gm4j44z6mpdlh3f3ggjc0000gn/T/ipykernel_24770/1806273417.py:23: UserWarning: Data has no positive values, and therefore cannot be log-scaled.\n",
      "  plt.yscale('log')\n",
      "/var/folders/3j/4b_6gm4j44z6mpdlh3f3ggjc0000gn/T/ipykernel_24770/1806273417.py:23: UserWarning: Data has no positive values, and therefore cannot be log-scaled.\n",
      "  plt.yscale('log')\n"
     ]
    },
    {
     "name": "stdout",
     "output_type": "stream",
     "text": [
      "differential_evolution step 9: f(x)= 3628.129447117772\n"
     ]
    },
    {
     "name": "stderr",
     "output_type": "stream",
     "text": [
      "/var/folders/3j/4b_6gm4j44z6mpdlh3f3ggjc0000gn/T/ipykernel_24770/1806273417.py:23: UserWarning: Data has no positive values, and therefore cannot be log-scaled.\n",
      "  plt.yscale('log')\n"
     ]
    },
    {
     "name": "stdout",
     "output_type": "stream",
     "text": [
      "differential_evolution step 10: f(x)= 3628.129447117772\n"
     ]
    },
    {
     "name": "stderr",
     "output_type": "stream",
     "text": [
      "/var/folders/3j/4b_6gm4j44z6mpdlh3f3ggjc0000gn/T/ipykernel_24770/1806273417.py:23: UserWarning: Data has no positive values, and therefore cannot be log-scaled.\n",
      "  plt.yscale('log')\n"
     ]
    },
    {
     "name": "stdout",
     "output_type": "stream",
     "text": [
      "differential_evolution step 11: f(x)= 3628.129447117772\n"
     ]
    },
    {
     "name": "stderr",
     "output_type": "stream",
     "text": [
      "/var/folders/3j/4b_6gm4j44z6mpdlh3f3ggjc0000gn/T/ipykernel_24770/1806273417.py:23: UserWarning: Data has no positive values, and therefore cannot be log-scaled.\n",
      "  plt.yscale('log')\n"
     ]
    },
    {
     "name": "stdout",
     "output_type": "stream",
     "text": [
      "differential_evolution step 12: f(x)= 682.4569110730706\n"
     ]
    },
    {
     "name": "stderr",
     "output_type": "stream",
     "text": [
      "/var/folders/3j/4b_6gm4j44z6mpdlh3f3ggjc0000gn/T/ipykernel_24770/1806273417.py:23: UserWarning: Data has no positive values, and therefore cannot be log-scaled.\n",
      "  plt.yscale('log')\n"
     ]
    },
    {
     "name": "stdout",
     "output_type": "stream",
     "text": [
      "differential_evolution step 13: f(x)= 682.4569110730706\n"
     ]
    },
    {
     "name": "stderr",
     "output_type": "stream",
     "text": [
      "/var/folders/3j/4b_6gm4j44z6mpdlh3f3ggjc0000gn/T/ipykernel_24770/1806273417.py:23: UserWarning: Data has no positive values, and therefore cannot be log-scaled.\n",
      "  plt.yscale('log')\n"
     ]
    },
    {
     "name": "stdout",
     "output_type": "stream",
     "text": [
      "differential_evolution step 14: f(x)= 682.4569110730706\n"
     ]
    },
    {
     "name": "stderr",
     "output_type": "stream",
     "text": [
      "/var/folders/3j/4b_6gm4j44z6mpdlh3f3ggjc0000gn/T/ipykernel_24770/1806273417.py:23: UserWarning: Data has no positive values, and therefore cannot be log-scaled.\n",
      "  plt.yscale('log')\n"
     ]
    },
    {
     "name": "stdout",
     "output_type": "stream",
     "text": [
      "differential_evolution step 15: f(x)= 76.35889284609054\n"
     ]
    },
    {
     "name": "stderr",
     "output_type": "stream",
     "text": [
      "/var/folders/3j/4b_6gm4j44z6mpdlh3f3ggjc0000gn/T/ipykernel_24770/1806273417.py:23: UserWarning: Data has no positive values, and therefore cannot be log-scaled.\n",
      "  plt.yscale('log')\n"
     ]
    },
    {
     "name": "stdout",
     "output_type": "stream",
     "text": [
      "differential_evolution step 16: f(x)= 76.35889284609054\n"
     ]
    },
    {
     "name": "stderr",
     "output_type": "stream",
     "text": [
      "/var/folders/3j/4b_6gm4j44z6mpdlh3f3ggjc0000gn/T/ipykernel_24770/1806273417.py:23: UserWarning: Data has no positive values, and therefore cannot be log-scaled.\n",
      "  plt.yscale('log')\n"
     ]
    },
    {
     "name": "stdout",
     "output_type": "stream",
     "text": [
      "differential_evolution step 17: f(x)= 76.35889284609054\n"
     ]
    },
    {
     "name": "stderr",
     "output_type": "stream",
     "text": [
      "/var/folders/3j/4b_6gm4j44z6mpdlh3f3ggjc0000gn/T/ipykernel_24770/1806273417.py:23: UserWarning: Data has no positive values, and therefore cannot be log-scaled.\n",
      "  plt.yscale('log')\n"
     ]
    },
    {
     "name": "stdout",
     "output_type": "stream",
     "text": [
      "differential_evolution step 18: f(x)= 69.79218874023287\n"
     ]
    },
    {
     "name": "stderr",
     "output_type": "stream",
     "text": [
      "/var/folders/3j/4b_6gm4j44z6mpdlh3f3ggjc0000gn/T/ipykernel_24770/1806273417.py:23: UserWarning: Data has no positive values, and therefore cannot be log-scaled.\n",
      "  plt.yscale('log')\n"
     ]
    },
    {
     "name": "stdout",
     "output_type": "stream",
     "text": [
      "differential_evolution step 19: f(x)= 69.79218874023287\n"
     ]
    },
    {
     "name": "stderr",
     "output_type": "stream",
     "text": [
      "/var/folders/3j/4b_6gm4j44z6mpdlh3f3ggjc0000gn/T/ipykernel_24770/1806273417.py:23: UserWarning: Data has no positive values, and therefore cannot be log-scaled.\n",
      "  plt.yscale('log')\n"
     ]
    },
    {
     "name": "stdout",
     "output_type": "stream",
     "text": [
      "differential_evolution step 20: f(x)= 69.79218874023287\n"
     ]
    },
    {
     "name": "stderr",
     "output_type": "stream",
     "text": [
      "/var/folders/3j/4b_6gm4j44z6mpdlh3f3ggjc0000gn/T/ipykernel_24770/1806273417.py:23: UserWarning: Data has no positive values, and therefore cannot be log-scaled.\n",
      "  plt.yscale('log')\n"
     ]
    },
    {
     "name": "stdout",
     "output_type": "stream",
     "text": [
      "differential_evolution step 21: f(x)= 69.79218874023287\n"
     ]
    },
    {
     "name": "stderr",
     "output_type": "stream",
     "text": [
      "/var/folders/3j/4b_6gm4j44z6mpdlh3f3ggjc0000gn/T/ipykernel_24770/1806273417.py:23: UserWarning: Data has no positive values, and therefore cannot be log-scaled.\n",
      "  plt.yscale('log')\n"
     ]
    },
    {
     "name": "stdout",
     "output_type": "stream",
     "text": [
      "differential_evolution step 22: f(x)= 69.79218874023287\n"
     ]
    },
    {
     "name": "stderr",
     "output_type": "stream",
     "text": [
      "/var/folders/3j/4b_6gm4j44z6mpdlh3f3ggjc0000gn/T/ipykernel_24770/1806273417.py:23: UserWarning: Data has no positive values, and therefore cannot be log-scaled.\n",
      "  plt.yscale('log')\n"
     ]
    },
    {
     "name": "stdout",
     "output_type": "stream",
     "text": [
      "differential_evolution step 23: f(x)= 69.79218874023287\n"
     ]
    },
    {
     "name": "stderr",
     "output_type": "stream",
     "text": [
      "/var/folders/3j/4b_6gm4j44z6mpdlh3f3ggjc0000gn/T/ipykernel_24770/1806273417.py:23: UserWarning: Data has no positive values, and therefore cannot be log-scaled.\n",
      "  plt.yscale('log')\n"
     ]
    },
    {
     "name": "stdout",
     "output_type": "stream",
     "text": [
      "differential_evolution step 24: f(x)= 68.77113028852212\n"
     ]
    },
    {
     "name": "stderr",
     "output_type": "stream",
     "text": [
      "/var/folders/3j/4b_6gm4j44z6mpdlh3f3ggjc0000gn/T/ipykernel_24770/1806273417.py:23: UserWarning: Data has no positive values, and therefore cannot be log-scaled.\n",
      "  plt.yscale('log')\n"
     ]
    },
    {
     "name": "stdout",
     "output_type": "stream",
     "text": [
      "differential_evolution step 25: f(x)= 68.1115734357911\n"
     ]
    },
    {
     "name": "stderr",
     "output_type": "stream",
     "text": [
      "/var/folders/3j/4b_6gm4j44z6mpdlh3f3ggjc0000gn/T/ipykernel_24770/1806273417.py:23: UserWarning: Data has no positive values, and therefore cannot be log-scaled.\n",
      "  plt.yscale('log')\n"
     ]
    },
    {
     "name": "stdout",
     "output_type": "stream",
     "text": [
      "differential_evolution step 26: f(x)= 59.12168934476432\n"
     ]
    },
    {
     "name": "stderr",
     "output_type": "stream",
     "text": [
      "/var/folders/3j/4b_6gm4j44z6mpdlh3f3ggjc0000gn/T/ipykernel_24770/1806273417.py:23: UserWarning: Data has no positive values, and therefore cannot be log-scaled.\n",
      "  plt.yscale('log')\n"
     ]
    },
    {
     "name": "stdout",
     "output_type": "stream",
     "text": [
      "differential_evolution step 27: f(x)= 59.12168934476432\n"
     ]
    },
    {
     "name": "stderr",
     "output_type": "stream",
     "text": [
      "/var/folders/3j/4b_6gm4j44z6mpdlh3f3ggjc0000gn/T/ipykernel_24770/1806273417.py:23: UserWarning: Data has no positive values, and therefore cannot be log-scaled.\n",
      "  plt.yscale('log')\n"
     ]
    },
    {
     "name": "stdout",
     "output_type": "stream",
     "text": [
      "differential_evolution step 28: f(x)= 59.12168934476432\n"
     ]
    },
    {
     "name": "stderr",
     "output_type": "stream",
     "text": [
      "/var/folders/3j/4b_6gm4j44z6mpdlh3f3ggjc0000gn/T/ipykernel_24770/1806273417.py:23: UserWarning: Data has no positive values, and therefore cannot be log-scaled.\n",
      "  plt.yscale('log')\n"
     ]
    },
    {
     "name": "stdout",
     "output_type": "stream",
     "text": [
      "differential_evolution step 29: f(x)= 55.19212943502816\n"
     ]
    },
    {
     "name": "stderr",
     "output_type": "stream",
     "text": [
      "/var/folders/3j/4b_6gm4j44z6mpdlh3f3ggjc0000gn/T/ipykernel_24770/1806273417.py:23: UserWarning: Data has no positive values, and therefore cannot be log-scaled.\n",
      "  plt.yscale('log')\n"
     ]
    },
    {
     "name": "stdout",
     "output_type": "stream",
     "text": [
      "differential_evolution step 30: f(x)= 55.19212943502816\n"
     ]
    },
    {
     "name": "stderr",
     "output_type": "stream",
     "text": [
      "/var/folders/3j/4b_6gm4j44z6mpdlh3f3ggjc0000gn/T/ipykernel_24770/1806273417.py:23: UserWarning: Data has no positive values, and therefore cannot be log-scaled.\n",
      "  plt.yscale('log')\n"
     ]
    },
    {
     "name": "stdout",
     "output_type": "stream",
     "text": [
      "differential_evolution step 31: f(x)= 55.19212943502816\n"
     ]
    },
    {
     "name": "stderr",
     "output_type": "stream",
     "text": [
      "/var/folders/3j/4b_6gm4j44z6mpdlh3f3ggjc0000gn/T/ipykernel_24770/1806273417.py:23: UserWarning: Data has no positive values, and therefore cannot be log-scaled.\n",
      "  plt.yscale('log')\n"
     ]
    },
    {
     "name": "stdout",
     "output_type": "stream",
     "text": [
      "differential_evolution step 32: f(x)= 55.19212943502816\n"
     ]
    },
    {
     "name": "stderr",
     "output_type": "stream",
     "text": [
      "/var/folders/3j/4b_6gm4j44z6mpdlh3f3ggjc0000gn/T/ipykernel_24770/1806273417.py:23: UserWarning: Data has no positive values, and therefore cannot be log-scaled.\n",
      "  plt.yscale('log')\n"
     ]
    },
    {
     "name": "stdout",
     "output_type": "stream",
     "text": [
      "differential_evolution step 33: f(x)= 53.25405630192928\n"
     ]
    },
    {
     "name": "stderr",
     "output_type": "stream",
     "text": [
      "/var/folders/3j/4b_6gm4j44z6mpdlh3f3ggjc0000gn/T/ipykernel_24770/1806273417.py:23: UserWarning: Data has no positive values, and therefore cannot be log-scaled.\n",
      "  plt.yscale('log')\n"
     ]
    },
    {
     "name": "stdout",
     "output_type": "stream",
     "text": [
      "differential_evolution step 34: f(x)= 53.17797865642483\n"
     ]
    },
    {
     "name": "stderr",
     "output_type": "stream",
     "text": [
      "/var/folders/3j/4b_6gm4j44z6mpdlh3f3ggjc0000gn/T/ipykernel_24770/1806273417.py:23: UserWarning: Data has no positive values, and therefore cannot be log-scaled.\n",
      "  plt.yscale('log')\n"
     ]
    },
    {
     "name": "stdout",
     "output_type": "stream",
     "text": [
      "differential_evolution step 35: f(x)= 49.29555454137241\n"
     ]
    },
    {
     "name": "stderr",
     "output_type": "stream",
     "text": [
      "/var/folders/3j/4b_6gm4j44z6mpdlh3f3ggjc0000gn/T/ipykernel_24770/1806273417.py:23: UserWarning: Data has no positive values, and therefore cannot be log-scaled.\n",
      "  plt.yscale('log')\n"
     ]
    },
    {
     "name": "stdout",
     "output_type": "stream",
     "text": [
      "differential_evolution step 36: f(x)= 49.29555454137241\n"
     ]
    },
    {
     "name": "stderr",
     "output_type": "stream",
     "text": [
      "/var/folders/3j/4b_6gm4j44z6mpdlh3f3ggjc0000gn/T/ipykernel_24770/1806273417.py:23: UserWarning: Data has no positive values, and therefore cannot be log-scaled.\n",
      "  plt.yscale('log')\n"
     ]
    },
    {
     "name": "stdout",
     "output_type": "stream",
     "text": [
      "differential_evolution step 37: f(x)= 49.29555454137241\n"
     ]
    },
    {
     "name": "stderr",
     "output_type": "stream",
     "text": [
      "/var/folders/3j/4b_6gm4j44z6mpdlh3f3ggjc0000gn/T/ipykernel_24770/1806273417.py:23: UserWarning: Data has no positive values, and therefore cannot be log-scaled.\n",
      "  plt.yscale('log')\n"
     ]
    },
    {
     "name": "stdout",
     "output_type": "stream",
     "text": [
      "differential_evolution step 38: f(x)= 49.29555454137241\n"
     ]
    },
    {
     "name": "stderr",
     "output_type": "stream",
     "text": [
      "/var/folders/3j/4b_6gm4j44z6mpdlh3f3ggjc0000gn/T/ipykernel_24770/1806273417.py:23: UserWarning: Data has no positive values, and therefore cannot be log-scaled.\n",
      "  plt.yscale('log')\n"
     ]
    },
    {
     "name": "stdout",
     "output_type": "stream",
     "text": [
      "differential_evolution step 39: f(x)= 49.29555454137241\n"
     ]
    },
    {
     "name": "stderr",
     "output_type": "stream",
     "text": [
      "/var/folders/3j/4b_6gm4j44z6mpdlh3f3ggjc0000gn/T/ipykernel_24770/1806273417.py:23: UserWarning: Data has no positive values, and therefore cannot be log-scaled.\n",
      "  plt.yscale('log')\n"
     ]
    },
    {
     "name": "stdout",
     "output_type": "stream",
     "text": [
      "differential_evolution step 40: f(x)= 49.29555454137241\n"
     ]
    },
    {
     "name": "stderr",
     "output_type": "stream",
     "text": [
      "/var/folders/3j/4b_6gm4j44z6mpdlh3f3ggjc0000gn/T/ipykernel_24770/1806273417.py:23: UserWarning: Data has no positive values, and therefore cannot be log-scaled.\n",
      "  plt.yscale('log')\n"
     ]
    },
    {
     "name": "stdout",
     "output_type": "stream",
     "text": [
      "differential_evolution step 41: f(x)= 46.76308737802638\n"
     ]
    },
    {
     "name": "stderr",
     "output_type": "stream",
     "text": [
      "/var/folders/3j/4b_6gm4j44z6mpdlh3f3ggjc0000gn/T/ipykernel_24770/1806273417.py:23: UserWarning: Data has no positive values, and therefore cannot be log-scaled.\n",
      "  plt.yscale('log')\n"
     ]
    },
    {
     "name": "stdout",
     "output_type": "stream",
     "text": [
      "differential_evolution step 42: f(x)= 46.76308737802638\n"
     ]
    },
    {
     "name": "stderr",
     "output_type": "stream",
     "text": [
      "/var/folders/3j/4b_6gm4j44z6mpdlh3f3ggjc0000gn/T/ipykernel_24770/1806273417.py:23: UserWarning: Data has no positive values, and therefore cannot be log-scaled.\n",
      "  plt.yscale('log')\n"
     ]
    },
    {
     "name": "stdout",
     "output_type": "stream",
     "text": [
      "differential_evolution step 43: f(x)= 43.423669869417296\n"
     ]
    },
    {
     "name": "stderr",
     "output_type": "stream",
     "text": [
      "/var/folders/3j/4b_6gm4j44z6mpdlh3f3ggjc0000gn/T/ipykernel_24770/1806273417.py:23: UserWarning: Data has no positive values, and therefore cannot be log-scaled.\n",
      "  plt.yscale('log')\n"
     ]
    },
    {
     "name": "stdout",
     "output_type": "stream",
     "text": [
      "differential_evolution step 44: f(x)= 43.423669869417296\n"
     ]
    },
    {
     "name": "stderr",
     "output_type": "stream",
     "text": [
      "/var/folders/3j/4b_6gm4j44z6mpdlh3f3ggjc0000gn/T/ipykernel_24770/1806273417.py:23: UserWarning: Data has no positive values, and therefore cannot be log-scaled.\n",
      "  plt.yscale('log')\n"
     ]
    },
    {
     "name": "stdout",
     "output_type": "stream",
     "text": [
      "differential_evolution step 45: f(x)= 43.423669869417296\n"
     ]
    },
    {
     "name": "stderr",
     "output_type": "stream",
     "text": [
      "/var/folders/3j/4b_6gm4j44z6mpdlh3f3ggjc0000gn/T/ipykernel_24770/1806273417.py:23: UserWarning: Data has no positive values, and therefore cannot be log-scaled.\n",
      "  plt.yscale('log')\n"
     ]
    },
    {
     "name": "stdout",
     "output_type": "stream",
     "text": [
      "differential_evolution step 46: f(x)= 43.423669869417296\n"
     ]
    },
    {
     "name": "stderr",
     "output_type": "stream",
     "text": [
      "/var/folders/3j/4b_6gm4j44z6mpdlh3f3ggjc0000gn/T/ipykernel_24770/1806273417.py:23: UserWarning: Data has no positive values, and therefore cannot be log-scaled.\n",
      "  plt.yscale('log')\n"
     ]
    },
    {
     "name": "stdout",
     "output_type": "stream",
     "text": [
      "differential_evolution step 47: f(x)= 43.423669869417296\n"
     ]
    },
    {
     "name": "stderr",
     "output_type": "stream",
     "text": [
      "/var/folders/3j/4b_6gm4j44z6mpdlh3f3ggjc0000gn/T/ipykernel_24770/1806273417.py:23: UserWarning: Data has no positive values, and therefore cannot be log-scaled.\n",
      "  plt.yscale('log')\n"
     ]
    },
    {
     "name": "stdout",
     "output_type": "stream",
     "text": [
      "differential_evolution step 48: f(x)= 43.423669869417296\n"
     ]
    },
    {
     "name": "stderr",
     "output_type": "stream",
     "text": [
      "/var/folders/3j/4b_6gm4j44z6mpdlh3f3ggjc0000gn/T/ipykernel_24770/1806273417.py:23: UserWarning: Data has no positive values, and therefore cannot be log-scaled.\n",
      "  plt.yscale('log')\n"
     ]
    },
    {
     "name": "stdout",
     "output_type": "stream",
     "text": [
      "differential_evolution step 49: f(x)= 43.423669869417296\n"
     ]
    },
    {
     "name": "stderr",
     "output_type": "stream",
     "text": [
      "/var/folders/3j/4b_6gm4j44z6mpdlh3f3ggjc0000gn/T/ipykernel_24770/1806273417.py:23: UserWarning: Data has no positive values, and therefore cannot be log-scaled.\n",
      "  plt.yscale('log')\n"
     ]
    },
    {
     "name": "stdout",
     "output_type": "stream",
     "text": [
      "differential_evolution step 50: f(x)= 43.423669869417296\n"
     ]
    },
    {
     "name": "stderr",
     "output_type": "stream",
     "text": [
      "/var/folders/3j/4b_6gm4j44z6mpdlh3f3ggjc0000gn/T/ipykernel_24770/1806273417.py:23: UserWarning: Data has no positive values, and therefore cannot be log-scaled.\n",
      "  plt.yscale('log')\n"
     ]
    },
    {
     "name": "stdout",
     "output_type": "stream",
     "text": [
      "differential_evolution step 51: f(x)= 41.865428389360396\n"
     ]
    },
    {
     "name": "stderr",
     "output_type": "stream",
     "text": [
      "/var/folders/3j/4b_6gm4j44z6mpdlh3f3ggjc0000gn/T/ipykernel_24770/1806273417.py:23: UserWarning: Data has no positive values, and therefore cannot be log-scaled.\n",
      "  plt.yscale('log')\n"
     ]
    },
    {
     "name": "stdout",
     "output_type": "stream",
     "text": [
      "differential_evolution step 52: f(x)= 41.865428389360396\n"
     ]
    },
    {
     "name": "stderr",
     "output_type": "stream",
     "text": [
      "/var/folders/3j/4b_6gm4j44z6mpdlh3f3ggjc0000gn/T/ipykernel_24770/1806273417.py:23: UserWarning: Data has no positive values, and therefore cannot be log-scaled.\n",
      "  plt.yscale('log')\n"
     ]
    },
    {
     "name": "stdout",
     "output_type": "stream",
     "text": [
      "differential_evolution step 53: f(x)= 41.865428389360396\n"
     ]
    },
    {
     "name": "stderr",
     "output_type": "stream",
     "text": [
      "/var/folders/3j/4b_6gm4j44z6mpdlh3f3ggjc0000gn/T/ipykernel_24770/1806273417.py:23: UserWarning: Data has no positive values, and therefore cannot be log-scaled.\n",
      "  plt.yscale('log')\n"
     ]
    },
    {
     "name": "stdout",
     "output_type": "stream",
     "text": [
      "differential_evolution step 54: f(x)= 39.159252379321224\n"
     ]
    },
    {
     "name": "stderr",
     "output_type": "stream",
     "text": [
      "/var/folders/3j/4b_6gm4j44z6mpdlh3f3ggjc0000gn/T/ipykernel_24770/1806273417.py:23: UserWarning: Data has no positive values, and therefore cannot be log-scaled.\n",
      "  plt.yscale('log')\n"
     ]
    },
    {
     "name": "stdout",
     "output_type": "stream",
     "text": [
      "differential_evolution step 55: f(x)= 39.159252379321224\n"
     ]
    },
    {
     "name": "stderr",
     "output_type": "stream",
     "text": [
      "/var/folders/3j/4b_6gm4j44z6mpdlh3f3ggjc0000gn/T/ipykernel_24770/1806273417.py:23: UserWarning: Data has no positive values, and therefore cannot be log-scaled.\n",
      "  plt.yscale('log')\n"
     ]
    },
    {
     "name": "stdout",
     "output_type": "stream",
     "text": [
      "differential_evolution step 56: f(x)= 39.159252379321224\n"
     ]
    },
    {
     "name": "stderr",
     "output_type": "stream",
     "text": [
      "/var/folders/3j/4b_6gm4j44z6mpdlh3f3ggjc0000gn/T/ipykernel_24770/1806273417.py:23: UserWarning: Data has no positive values, and therefore cannot be log-scaled.\n",
      "  plt.yscale('log')\n"
     ]
    },
    {
     "name": "stdout",
     "output_type": "stream",
     "text": [
      "differential_evolution step 57: f(x)= 39.159252379321224\n"
     ]
    },
    {
     "name": "stderr",
     "output_type": "stream",
     "text": [
      "/var/folders/3j/4b_6gm4j44z6mpdlh3f3ggjc0000gn/T/ipykernel_24770/1806273417.py:23: UserWarning: Data has no positive values, and therefore cannot be log-scaled.\n",
      "  plt.yscale('log')\n"
     ]
    },
    {
     "name": "stdout",
     "output_type": "stream",
     "text": [
      "differential_evolution step 58: f(x)= 38.891672272255704\n"
     ]
    },
    {
     "name": "stderr",
     "output_type": "stream",
     "text": [
      "/var/folders/3j/4b_6gm4j44z6mpdlh3f3ggjc0000gn/T/ipykernel_24770/1806273417.py:23: UserWarning: Data has no positive values, and therefore cannot be log-scaled.\n",
      "  plt.yscale('log')\n"
     ]
    },
    {
     "name": "stdout",
     "output_type": "stream",
     "text": [
      "differential_evolution step 59: f(x)= 38.891672272255704\n"
     ]
    },
    {
     "name": "stderr",
     "output_type": "stream",
     "text": [
      "/var/folders/3j/4b_6gm4j44z6mpdlh3f3ggjc0000gn/T/ipykernel_24770/1806273417.py:23: UserWarning: Data has no positive values, and therefore cannot be log-scaled.\n",
      "  plt.yscale('log')\n"
     ]
    },
    {
     "name": "stdout",
     "output_type": "stream",
     "text": [
      "differential_evolution step 60: f(x)= 38.891672272255704\n"
     ]
    },
    {
     "name": "stderr",
     "output_type": "stream",
     "text": [
      "/var/folders/3j/4b_6gm4j44z6mpdlh3f3ggjc0000gn/T/ipykernel_24770/1806273417.py:23: UserWarning: Data has no positive values, and therefore cannot be log-scaled.\n",
      "  plt.yscale('log')\n"
     ]
    },
    {
     "name": "stdout",
     "output_type": "stream",
     "text": [
      "differential_evolution step 61: f(x)= 37.33639852760646\n"
     ]
    },
    {
     "name": "stderr",
     "output_type": "stream",
     "text": [
      "/var/folders/3j/4b_6gm4j44z6mpdlh3f3ggjc0000gn/T/ipykernel_24770/1806273417.py:23: UserWarning: Data has no positive values, and therefore cannot be log-scaled.\n",
      "  plt.yscale('log')\n"
     ]
    },
    {
     "name": "stdout",
     "output_type": "stream",
     "text": [
      "differential_evolution step 62: f(x)= 37.33639852760646\n"
     ]
    },
    {
     "name": "stderr",
     "output_type": "stream",
     "text": [
      "/var/folders/3j/4b_6gm4j44z6mpdlh3f3ggjc0000gn/T/ipykernel_24770/1806273417.py:23: UserWarning: Data has no positive values, and therefore cannot be log-scaled.\n",
      "  plt.yscale('log')\n"
     ]
    },
    {
     "name": "stdout",
     "output_type": "stream",
     "text": [
      "differential_evolution step 63: f(x)= 35.32614149136403\n"
     ]
    },
    {
     "name": "stderr",
     "output_type": "stream",
     "text": [
      "/var/folders/3j/4b_6gm4j44z6mpdlh3f3ggjc0000gn/T/ipykernel_24770/1806273417.py:23: UserWarning: Data has no positive values, and therefore cannot be log-scaled.\n",
      "  plt.yscale('log')\n"
     ]
    },
    {
     "name": "stdout",
     "output_type": "stream",
     "text": [
      "differential_evolution step 64: f(x)= 34.51414410990681\n"
     ]
    },
    {
     "name": "stderr",
     "output_type": "stream",
     "text": [
      "/var/folders/3j/4b_6gm4j44z6mpdlh3f3ggjc0000gn/T/ipykernel_24770/1806273417.py:23: UserWarning: Data has no positive values, and therefore cannot be log-scaled.\n",
      "  plt.yscale('log')\n"
     ]
    },
    {
     "name": "stdout",
     "output_type": "stream",
     "text": [
      "differential_evolution step 65: f(x)= 34.51414410990681\n"
     ]
    },
    {
     "name": "stderr",
     "output_type": "stream",
     "text": [
      "/var/folders/3j/4b_6gm4j44z6mpdlh3f3ggjc0000gn/T/ipykernel_24770/1806273417.py:23: UserWarning: Data has no positive values, and therefore cannot be log-scaled.\n",
      "  plt.yscale('log')\n"
     ]
    },
    {
     "name": "stdout",
     "output_type": "stream",
     "text": [
      "differential_evolution step 66: f(x)= 32.545444159698086\n"
     ]
    },
    {
     "name": "stderr",
     "output_type": "stream",
     "text": [
      "/var/folders/3j/4b_6gm4j44z6mpdlh3f3ggjc0000gn/T/ipykernel_24770/1806273417.py:23: UserWarning: Data has no positive values, and therefore cannot be log-scaled.\n",
      "  plt.yscale('log')\n"
     ]
    },
    {
     "name": "stdout",
     "output_type": "stream",
     "text": [
      "differential_evolution step 67: f(x)= 30.327330054858184\n"
     ]
    },
    {
     "name": "stderr",
     "output_type": "stream",
     "text": [
      "/var/folders/3j/4b_6gm4j44z6mpdlh3f3ggjc0000gn/T/ipykernel_24770/1806273417.py:23: UserWarning: Data has no positive values, and therefore cannot be log-scaled.\n",
      "  plt.yscale('log')\n"
     ]
    },
    {
     "name": "stdout",
     "output_type": "stream",
     "text": [
      "differential_evolution step 68: f(x)= 30.327330054858184\n"
     ]
    },
    {
     "name": "stderr",
     "output_type": "stream",
     "text": [
      "/var/folders/3j/4b_6gm4j44z6mpdlh3f3ggjc0000gn/T/ipykernel_24770/1806273417.py:23: UserWarning: Data has no positive values, and therefore cannot be log-scaled.\n",
      "  plt.yscale('log')\n"
     ]
    },
    {
     "name": "stdout",
     "output_type": "stream",
     "text": [
      "differential_evolution step 69: f(x)= 30.069426886020057\n"
     ]
    },
    {
     "name": "stderr",
     "output_type": "stream",
     "text": [
      "/var/folders/3j/4b_6gm4j44z6mpdlh3f3ggjc0000gn/T/ipykernel_24770/1806273417.py:23: UserWarning: Data has no positive values, and therefore cannot be log-scaled.\n",
      "  plt.yscale('log')\n"
     ]
    },
    {
     "name": "stdout",
     "output_type": "stream",
     "text": [
      "differential_evolution step 70: f(x)= 30.069426886020057\n"
     ]
    },
    {
     "name": "stderr",
     "output_type": "stream",
     "text": [
      "/var/folders/3j/4b_6gm4j44z6mpdlh3f3ggjc0000gn/T/ipykernel_24770/1806273417.py:23: UserWarning: Data has no positive values, and therefore cannot be log-scaled.\n",
      "  plt.yscale('log')\n"
     ]
    },
    {
     "name": "stdout",
     "output_type": "stream",
     "text": [
      "differential_evolution step 71: f(x)= 30.069426886020057\n"
     ]
    },
    {
     "name": "stderr",
     "output_type": "stream",
     "text": [
      "/var/folders/3j/4b_6gm4j44z6mpdlh3f3ggjc0000gn/T/ipykernel_24770/1806273417.py:23: UserWarning: Data has no positive values, and therefore cannot be log-scaled.\n",
      "  plt.yscale('log')\n"
     ]
    },
    {
     "name": "stdout",
     "output_type": "stream",
     "text": [
      "differential_evolution step 72: f(x)= 25.817731398516948\n"
     ]
    },
    {
     "name": "stderr",
     "output_type": "stream",
     "text": [
      "/var/folders/3j/4b_6gm4j44z6mpdlh3f3ggjc0000gn/T/ipykernel_24770/1806273417.py:23: UserWarning: Data has no positive values, and therefore cannot be log-scaled.\n",
      "  plt.yscale('log')\n"
     ]
    },
    {
     "name": "stdout",
     "output_type": "stream",
     "text": [
      "differential_evolution step 73: f(x)= 14.935943958613798\n"
     ]
    },
    {
     "name": "stderr",
     "output_type": "stream",
     "text": [
      "/var/folders/3j/4b_6gm4j44z6mpdlh3f3ggjc0000gn/T/ipykernel_24770/1806273417.py:23: UserWarning: Data has no positive values, and therefore cannot be log-scaled.\n",
      "  plt.yscale('log')\n"
     ]
    },
    {
     "name": "stdout",
     "output_type": "stream",
     "text": [
      "differential_evolution step 74: f(x)= 14.935943958613798\n"
     ]
    },
    {
     "name": "stderr",
     "output_type": "stream",
     "text": [
      "/var/folders/3j/4b_6gm4j44z6mpdlh3f3ggjc0000gn/T/ipykernel_24770/1806273417.py:23: UserWarning: Data has no positive values, and therefore cannot be log-scaled.\n",
      "  plt.yscale('log')\n"
     ]
    },
    {
     "name": "stdout",
     "output_type": "stream",
     "text": [
      "differential_evolution step 75: f(x)= 14.935943958613798\n"
     ]
    },
    {
     "name": "stderr",
     "output_type": "stream",
     "text": [
      "/var/folders/3j/4b_6gm4j44z6mpdlh3f3ggjc0000gn/T/ipykernel_24770/1806273417.py:23: UserWarning: Data has no positive values, and therefore cannot be log-scaled.\n",
      "  plt.yscale('log')\n"
     ]
    },
    {
     "name": "stdout",
     "output_type": "stream",
     "text": [
      "differential_evolution step 76: f(x)= 14.935943958613798\n"
     ]
    },
    {
     "name": "stderr",
     "output_type": "stream",
     "text": [
      "/var/folders/3j/4b_6gm4j44z6mpdlh3f3ggjc0000gn/T/ipykernel_24770/1806273417.py:23: UserWarning: Data has no positive values, and therefore cannot be log-scaled.\n",
      "  plt.yscale('log')\n"
     ]
    },
    {
     "name": "stdout",
     "output_type": "stream",
     "text": [
      "differential_evolution step 77: f(x)= 14.935943958613798\n"
     ]
    },
    {
     "name": "stderr",
     "output_type": "stream",
     "text": [
      "/var/folders/3j/4b_6gm4j44z6mpdlh3f3ggjc0000gn/T/ipykernel_24770/1806273417.py:23: UserWarning: Data has no positive values, and therefore cannot be log-scaled.\n",
      "  plt.yscale('log')\n"
     ]
    },
    {
     "name": "stdout",
     "output_type": "stream",
     "text": [
      "differential_evolution step 78: f(x)= 14.935943958613798\n"
     ]
    },
    {
     "name": "stderr",
     "output_type": "stream",
     "text": [
      "/var/folders/3j/4b_6gm4j44z6mpdlh3f3ggjc0000gn/T/ipykernel_24770/1806273417.py:23: UserWarning: Data has no positive values, and therefore cannot be log-scaled.\n",
      "  plt.yscale('log')\n"
     ]
    },
    {
     "name": "stdout",
     "output_type": "stream",
     "text": [
      "differential_evolution step 79: f(x)= 14.935943958613798\n"
     ]
    },
    {
     "name": "stderr",
     "output_type": "stream",
     "text": [
      "/var/folders/3j/4b_6gm4j44z6mpdlh3f3ggjc0000gn/T/ipykernel_24770/1806273417.py:23: UserWarning: Data has no positive values, and therefore cannot be log-scaled.\n",
      "  plt.yscale('log')\n"
     ]
    },
    {
     "name": "stdout",
     "output_type": "stream",
     "text": [
      "differential_evolution step 80: f(x)= 14.935943958613798\n"
     ]
    },
    {
     "name": "stderr",
     "output_type": "stream",
     "text": [
      "/var/folders/3j/4b_6gm4j44z6mpdlh3f3ggjc0000gn/T/ipykernel_24770/1806273417.py:23: UserWarning: Data has no positive values, and therefore cannot be log-scaled.\n",
      "  plt.yscale('log')\n"
     ]
    },
    {
     "name": "stdout",
     "output_type": "stream",
     "text": [
      "differential_evolution step 81: f(x)= 14.935943958613798\n"
     ]
    },
    {
     "name": "stderr",
     "output_type": "stream",
     "text": [
      "/var/folders/3j/4b_6gm4j44z6mpdlh3f3ggjc0000gn/T/ipykernel_24770/1806273417.py:23: UserWarning: Data has no positive values, and therefore cannot be log-scaled.\n",
      "  plt.yscale('log')\n"
     ]
    },
    {
     "name": "stdout",
     "output_type": "stream",
     "text": [
      "differential_evolution step 82: f(x)= 14.935943958613798\n"
     ]
    },
    {
     "name": "stderr",
     "output_type": "stream",
     "text": [
      "/var/folders/3j/4b_6gm4j44z6mpdlh3f3ggjc0000gn/T/ipykernel_24770/1806273417.py:23: UserWarning: Data has no positive values, and therefore cannot be log-scaled.\n",
      "  plt.yscale('log')\n"
     ]
    },
    {
     "name": "stdout",
     "output_type": "stream",
     "text": [
      "differential_evolution step 83: f(x)= 14.935943958613798\n"
     ]
    },
    {
     "name": "stderr",
     "output_type": "stream",
     "text": [
      "/var/folders/3j/4b_6gm4j44z6mpdlh3f3ggjc0000gn/T/ipykernel_24770/1806273417.py:23: UserWarning: Data has no positive values, and therefore cannot be log-scaled.\n",
      "  plt.yscale('log')\n"
     ]
    },
    {
     "name": "stdout",
     "output_type": "stream",
     "text": [
      "differential_evolution step 84: f(x)= 14.935943958613798\n"
     ]
    },
    {
     "name": "stderr",
     "output_type": "stream",
     "text": [
      "/var/folders/3j/4b_6gm4j44z6mpdlh3f3ggjc0000gn/T/ipykernel_24770/1806273417.py:23: UserWarning: Data has no positive values, and therefore cannot be log-scaled.\n",
      "  plt.yscale('log')\n"
     ]
    },
    {
     "name": "stdout",
     "output_type": "stream",
     "text": [
      "differential_evolution step 85: f(x)= 14.935943958613798\n"
     ]
    },
    {
     "name": "stderr",
     "output_type": "stream",
     "text": [
      "/var/folders/3j/4b_6gm4j44z6mpdlh3f3ggjc0000gn/T/ipykernel_24770/1806273417.py:23: UserWarning: Data has no positive values, and therefore cannot be log-scaled.\n",
      "  plt.yscale('log')\n"
     ]
    },
    {
     "name": "stdout",
     "output_type": "stream",
     "text": [
      "differential_evolution step 86: f(x)= 14.935943958613798\n"
     ]
    },
    {
     "name": "stderr",
     "output_type": "stream",
     "text": [
      "/var/folders/3j/4b_6gm4j44z6mpdlh3f3ggjc0000gn/T/ipykernel_24770/1806273417.py:23: UserWarning: Data has no positive values, and therefore cannot be log-scaled.\n",
      "  plt.yscale('log')\n"
     ]
    },
    {
     "name": "stdout",
     "output_type": "stream",
     "text": [
      "differential_evolution step 87: f(x)= 14.935943958613798\n"
     ]
    },
    {
     "name": "stderr",
     "output_type": "stream",
     "text": [
      "/var/folders/3j/4b_6gm4j44z6mpdlh3f3ggjc0000gn/T/ipykernel_24770/1806273417.py:23: UserWarning: Data has no positive values, and therefore cannot be log-scaled.\n",
      "  plt.yscale('log')\n"
     ]
    },
    {
     "name": "stdout",
     "output_type": "stream",
     "text": [
      "differential_evolution step 88: f(x)= 14.935943958613798\n"
     ]
    },
    {
     "name": "stderr",
     "output_type": "stream",
     "text": [
      "/var/folders/3j/4b_6gm4j44z6mpdlh3f3ggjc0000gn/T/ipykernel_24770/1806273417.py:23: UserWarning: Data has no positive values, and therefore cannot be log-scaled.\n",
      "  plt.yscale('log')\n"
     ]
    },
    {
     "name": "stdout",
     "output_type": "stream",
     "text": [
      "differential_evolution step 89: f(x)= 14.060973597405223\n"
     ]
    },
    {
     "name": "stderr",
     "output_type": "stream",
     "text": [
      "/var/folders/3j/4b_6gm4j44z6mpdlh3f3ggjc0000gn/T/ipykernel_24770/1806273417.py:23: UserWarning: Data has no positive values, and therefore cannot be log-scaled.\n",
      "  plt.yscale('log')\n"
     ]
    },
    {
     "name": "stdout",
     "output_type": "stream",
     "text": [
      "differential_evolution step 90: f(x)= 14.060973597405223\n"
     ]
    },
    {
     "name": "stderr",
     "output_type": "stream",
     "text": [
      "/var/folders/3j/4b_6gm4j44z6mpdlh3f3ggjc0000gn/T/ipykernel_24770/1806273417.py:23: UserWarning: Data has no positive values, and therefore cannot be log-scaled.\n",
      "  plt.yscale('log')\n"
     ]
    },
    {
     "name": "stdout",
     "output_type": "stream",
     "text": [
      "differential_evolution step 91: f(x)= 9.127654000053568\n"
     ]
    },
    {
     "name": "stderr",
     "output_type": "stream",
     "text": [
      "/var/folders/3j/4b_6gm4j44z6mpdlh3f3ggjc0000gn/T/ipykernel_24770/1806273417.py:23: UserWarning: Data has no positive values, and therefore cannot be log-scaled.\n",
      "  plt.yscale('log')\n"
     ]
    },
    {
     "name": "stdout",
     "output_type": "stream",
     "text": [
      "differential_evolution step 92: f(x)= 8.525082817586515\n"
     ]
    },
    {
     "name": "stderr",
     "output_type": "stream",
     "text": [
      "/var/folders/3j/4b_6gm4j44z6mpdlh3f3ggjc0000gn/T/ipykernel_24770/1806273417.py:23: UserWarning: Data has no positive values, and therefore cannot be log-scaled.\n",
      "  plt.yscale('log')\n"
     ]
    },
    {
     "name": "stdout",
     "output_type": "stream",
     "text": [
      "differential_evolution step 93: f(x)= 8.525082817586515\n"
     ]
    },
    {
     "name": "stderr",
     "output_type": "stream",
     "text": [
      "/var/folders/3j/4b_6gm4j44z6mpdlh3f3ggjc0000gn/T/ipykernel_24770/1806273417.py:23: UserWarning: Data has no positive values, and therefore cannot be log-scaled.\n",
      "  plt.yscale('log')\n"
     ]
    },
    {
     "name": "stdout",
     "output_type": "stream",
     "text": [
      "differential_evolution step 94: f(x)= 2.9011550976350833\n"
     ]
    },
    {
     "name": "stderr",
     "output_type": "stream",
     "text": [
      "/var/folders/3j/4b_6gm4j44z6mpdlh3f3ggjc0000gn/T/ipykernel_24770/1806273417.py:23: UserWarning: Data has no positive values, and therefore cannot be log-scaled.\n",
      "  plt.yscale('log')\n"
     ]
    },
    {
     "name": "stdout",
     "output_type": "stream",
     "text": [
      "differential_evolution step 95: f(x)= 2.4033041871933616\n"
     ]
    },
    {
     "name": "stderr",
     "output_type": "stream",
     "text": [
      "/var/folders/3j/4b_6gm4j44z6mpdlh3f3ggjc0000gn/T/ipykernel_24770/1806273417.py:23: UserWarning: Data has no positive values, and therefore cannot be log-scaled.\n",
      "  plt.yscale('log')\n"
     ]
    },
    {
     "name": "stdout",
     "output_type": "stream",
     "text": [
      "differential_evolution step 96: f(x)= -2.8358960033579974\n",
      "differential_evolution step 97: f(x)= -2.8358960033579974\n",
      "differential_evolution step 98: f(x)= -2.8358960033579974\n",
      "differential_evolution step 99: f(x)= -3.051348613164569\n",
      "differential_evolution step 100: f(x)= -3.051348613164569\n",
      "differential_evolution step 101: f(x)= -4.912259777163171\n",
      "differential_evolution step 102: f(x)= -4.912259777163171\n",
      "differential_evolution step 103: f(x)= -4.912259777163171\n",
      "differential_evolution step 104: f(x)= -4.912259777163171\n",
      "differential_evolution step 105: f(x)= -4.912259777163171\n",
      "differential_evolution step 106: f(x)= -4.912259777163171\n",
      "differential_evolution step 107: f(x)= -4.912259777163171\n",
      "differential_evolution step 108: f(x)= -4.912259777163171\n",
      "differential_evolution step 109: f(x)= -4.956493617209676\n",
      "differential_evolution step 110: f(x)= -4.956493617209676\n",
      "differential_evolution step 111: f(x)= -4.956493617209676\n",
      "differential_evolution step 112: f(x)= -5.001260130358571\n",
      "differential_evolution step 113: f(x)= -5.195062244655988\n",
      "differential_evolution step 114: f(x)= -5.224428212029836\n",
      "differential_evolution step 115: f(x)= -5.224428212029836\n",
      "differential_evolution step 116: f(x)= -5.226220799423919\n",
      "differential_evolution step 117: f(x)= -5.381431424925966\n",
      "differential_evolution step 118: f(x)= -5.500665182803042\n",
      "differential_evolution step 119: f(x)= -5.500665182803042\n",
      "differential_evolution step 120: f(x)= -5.500665182803042\n",
      "differential_evolution step 121: f(x)= -5.658215531805637\n",
      "differential_evolution step 122: f(x)= -6.040437649144951\n",
      "differential_evolution step 123: f(x)= -6.040437649144951\n",
      "differential_evolution step 124: f(x)= -6.285691406337851\n",
      "differential_evolution step 125: f(x)= -6.311803145194106\n",
      "differential_evolution step 126: f(x)= -6.311803145194106\n",
      "differential_evolution step 127: f(x)= -6.311803145194106\n",
      "differential_evolution step 128: f(x)= -6.311803145194106\n",
      "differential_evolution step 129: f(x)= -6.311803145194106\n",
      "differential_evolution step 130: f(x)= -6.311803145194106\n",
      "differential_evolution step 131: f(x)= -6.355929927952746\n",
      "differential_evolution step 132: f(x)= -6.588586150400894\n",
      "differential_evolution step 133: f(x)= -6.7828614538099705\n",
      "differential_evolution step 134: f(x)= -6.982655457307588\n",
      "differential_evolution step 135: f(x)= -7.129826343823313\n",
      "differential_evolution step 136: f(x)= -7.129826343823313\n",
      "differential_evolution step 137: f(x)= -7.22688230892237\n",
      "differential_evolution step 138: f(x)= -7.240182205067373\n",
      "differential_evolution step 139: f(x)= -7.315903752249463\n",
      "differential_evolution step 140: f(x)= -7.315903752249463\n",
      "differential_evolution step 141: f(x)= -7.315903752249463\n",
      "differential_evolution step 142: f(x)= -7.436616974211111\n",
      "differential_evolution step 143: f(x)= -7.592323687578458\n",
      "differential_evolution step 144: f(x)= -7.827376349263969\n",
      "differential_evolution step 145: f(x)= -7.827376349263969\n",
      "differential_evolution step 146: f(x)= -8.349583224682513\n",
      "differential_evolution step 147: f(x)= -8.632648387025366\n",
      "differential_evolution step 148: f(x)= -8.776475527314123\n",
      "differential_evolution step 149: f(x)= -8.776475527314123\n",
      "differential_evolution step 150: f(x)= -8.776475527314123\n",
      "differential_evolution step 151: f(x)= -8.776475527314123\n",
      "differential_evolution step 152: f(x)= -8.900015879185652\n",
      "differential_evolution step 153: f(x)= -8.900015879185652\n",
      "differential_evolution step 154: f(x)= -8.900015879185652\n",
      "differential_evolution step 155: f(x)= -8.900015879185652\n",
      "differential_evolution step 156: f(x)= -8.900015879185652\n",
      "differential_evolution step 157: f(x)= -8.900015879185652\n",
      "differential_evolution step 158: f(x)= -8.915422840577422\n",
      "differential_evolution step 159: f(x)= -9.131090265847977\n",
      "differential_evolution step 160: f(x)= -9.131090265847977\n",
      "differential_evolution step 161: f(x)= -9.510236856340793\n",
      "differential_evolution step 162: f(x)= -9.898687222540863\n",
      "differential_evolution step 163: f(x)= -9.926139114732702\n",
      "differential_evolution step 164: f(x)= -10.630051638092665\n",
      "differential_evolution step 165: f(x)= -10.630051638092665\n",
      "differential_evolution step 166: f(x)= -11.012063141090001\n",
      "differential_evolution step 167: f(x)= -11.012063141090001\n",
      "differential_evolution step 168: f(x)= -11.899479037260875\n",
      "differential_evolution step 169: f(x)= -11.899479037260875\n",
      "differential_evolution step 170: f(x)= -12.747687957362405\n",
      "differential_evolution step 171: f(x)= -13.026572042286082\n",
      "differential_evolution step 172: f(x)= -13.232608996650226\n",
      "differential_evolution step 173: f(x)= -13.313475509049052\n",
      "differential_evolution step 174: f(x)= -13.313475509049052\n",
      "differential_evolution step 175: f(x)= -13.313475509049052\n",
      "differential_evolution step 176: f(x)= -13.998756750927235\n",
      "differential_evolution step 177: f(x)= -13.998756750927235\n",
      "differential_evolution step 178: f(x)= -14.25767882763429\n",
      "differential_evolution step 179: f(x)= -15.023233369701027\n",
      "differential_evolution step 180: f(x)= -15.118866926309439\n",
      "differential_evolution step 181: f(x)= -15.118866926309439\n",
      "differential_evolution step 182: f(x)= -15.158454283582259\n",
      "differential_evolution step 183: f(x)= -15.158454283582259\n",
      "differential_evolution step 184: f(x)= -15.62404007286546\n",
      "differential_evolution step 185: f(x)= -15.708780435840145\n",
      "differential_evolution step 186: f(x)= -15.708780435840145\n",
      "differential_evolution step 187: f(x)= -15.708780435840145\n",
      "differential_evolution step 188: f(x)= -15.708780435840145\n",
      "differential_evolution step 189: f(x)= -16.18766217467533\n",
      "differential_evolution step 190: f(x)= -16.342671184796355\n",
      "differential_evolution step 191: f(x)= -16.342671184796355\n",
      "differential_evolution step 192: f(x)= -16.342671184796355\n",
      "differential_evolution step 193: f(x)= -16.342671184796355\n",
      "differential_evolution step 194: f(x)= -16.342671184796355\n",
      "differential_evolution step 195: f(x)= -16.342671184796355\n",
      "differential_evolution step 196: f(x)= -16.35481594583924\n",
      "differential_evolution step 197: f(x)= -16.39484450134814\n",
      "differential_evolution step 198: f(x)= -16.496678681301397\n",
      "differential_evolution step 199: f(x)= -16.496678681301397\n",
      "differential_evolution step 200: f(x)= -16.496678681301397\n",
      "differential_evolution step 201: f(x)= -16.496678681301397\n",
      "differential_evolution step 202: f(x)= -16.496678681301397\n",
      "differential_evolution step 203: f(x)= -16.496678681301397\n",
      "differential_evolution step 204: f(x)= -16.496678681301397\n",
      "differential_evolution step 205: f(x)= -16.496678681301397\n",
      "differential_evolution step 206: f(x)= -16.496678681301397\n",
      "differential_evolution step 207: f(x)= -16.52631018607986\n",
      "differential_evolution step 208: f(x)= -16.52631018607986\n",
      "differential_evolution step 209: f(x)= -16.52631018607986\n",
      "differential_evolution step 210: f(x)= -16.52631018607986\n",
      "differential_evolution step 211: f(x)= -16.52631018607986\n",
      "differential_evolution step 212: f(x)= -16.52631018607986\n",
      "differential_evolution step 213: f(x)= -16.52631018607986\n",
      "differential_evolution step 214: f(x)= -16.52631018607986\n",
      "differential_evolution step 215: f(x)= -16.5364971674367\n",
      "differential_evolution step 216: f(x)= -16.5364971674367\n",
      "differential_evolution step 217: f(x)= -16.552367620476176\n",
      "differential_evolution step 218: f(x)= -16.552367620476176\n",
      "differential_evolution step 219: f(x)= -16.552367620476176\n",
      "differential_evolution step 220: f(x)= -16.586902317639357\n",
      "differential_evolution step 221: f(x)= -16.637969799898038\n",
      "differential_evolution step 222: f(x)= -16.637969799898038\n",
      "differential_evolution step 223: f(x)= -16.637969799898038\n",
      "differential_evolution step 224: f(x)= -16.637969799898038\n",
      "differential_evolution step 225: f(x)= -16.637969799898038\n",
      "differential_evolution step 226: f(x)= -16.637969799898038\n",
      "differential_evolution step 227: f(x)= -16.637969799898038\n",
      "differential_evolution step 228: f(x)= -16.637969799898038\n",
      "differential_evolution step 229: f(x)= -16.637969799898038\n",
      "differential_evolution step 230: f(x)= -16.648209713104418\n",
      "differential_evolution step 231: f(x)= -16.648209713104418\n",
      "differential_evolution step 232: f(x)= -16.648209713104418\n",
      "differential_evolution step 233: f(x)= -16.648209713104418\n",
      "differential_evolution step 234: f(x)= -16.648209713104418\n",
      "differential_evolution step 235: f(x)= -16.648209713104418\n",
      "        Q4ER_1      Q3ER_1        Q2ER        Q1ER       betaX      alphaX  \\\n",
      "0   132.289416  110.234706 -154.252921  161.329752   11.553356   -0.640789   \n",
      "0   123.943584  116.358072 -153.800676  173.152535    7.429266   -3.220458   \n",
      "0   120.946276   99.673933 -141.909013  145.062574  196.575464  -47.605631   \n",
      "0   135.961142  103.936567 -157.891764  182.346043  148.667632  -28.539403   \n",
      "0   130.752825   94.332982 -146.601171  180.355111  702.080138 -154.879414   \n",
      "..         ...         ...         ...         ...         ...         ...   \n",
      "0   140.870706  109.071152 -153.342422  133.020742   16.797703   -0.038084   \n",
      "0   140.874453  109.097805 -153.287604  138.696792   13.310865    0.185535   \n",
      "0   140.874523  109.092772 -153.273341  149.448155    8.310846    0.360522   \n",
      "0   140.880788  109.078731 -153.274850  185.318737    2.514539   -0.637991   \n",
      "0   140.918311  109.075066 -153.266025  164.534729    3.878700    0.231800   \n",
      "\n",
      "         betaY     alphaY   alphaPenalty  betaError    maximizeMe  \n",
      "0    25.203956  -1.568585    2199.373366  37.137100 -4.837269e+06  \n",
      "0    80.999404  -7.497945   10708.403803  83.197156 -1.146700e+08  \n",
      "0   129.906700 -12.290900   59886.530773  20.420339 -3.586396e+09  \n",
      "0    14.299693  -2.682080   31211.482854  82.450846 -9.741567e+08  \n",
      "0    48.545581  -4.247712  159117.126651  87.065303 -2.531826e+10  \n",
      "..         ...        ...            ...        ...           ...  \n",
      "0    16.000110   0.023814      51.898222   2.431847 -2.679857e+03  \n",
      "0    21.060656  -0.303431     478.966819  22.547128 -2.294185e+05  \n",
      "0    31.257018  -1.130032    1480.554020  57.991942 -2.192090e+06  \n",
      "0    80.909587  -6.237160    6865.150885  93.971674 -4.713039e+07  \n",
      "0    49.263536  -2.837864    3059.663547  85.402570 -9.361623e+06  \n",
      "\n",
      "[23836 rows x 11 columns]\n"
     ]
    }
   ],
   "source": [
    "#### #Optional: Define list of starting points\n",
    "totalPopSize = 100  # Total population size\n",
    "numDimensions = len(bounds)  # Number of parameters\n",
    "\n",
    "# #Uniformly distributed\n",
    "populationDE = np.random.rand(totalPopSize, numDimensions)\n",
    "for i in range(numDimensions):\n",
    "    low, high = bounds[i]\n",
    "    populationDE[:, i] = low + populationDE[:, i] * (high - low)\n",
    "\n",
    "#Normally distributed\n",
    "# populationDE = np.zeros((totalPopSize, numDimensions))\n",
    "# for i in range(numDimensions):\n",
    "#     low, high = bounds[i]\n",
    "\n",
    "#     #Define mean based on bounds\n",
    "#     #mean = (high + low) / 2\n",
    "\n",
    "#     #Optional: Define mean based on defaultSettingsVector\n",
    "#     mean = defaultSettingsVector[i]\n",
    "    \n",
    "#     std_dev = (high - low) / 1000\n",
    "#     populationDE[:, i] = np.random.normal(mean, std_dev, totalPopSize)\n",
    "\n",
    "#Optional: Add specific points to initial evaluation list\n",
    "#populationDE = np.vstack([[ np.mean(i) for i in bounds ], populationDE])\n",
    "populationDE = np.vstack([[ defaultSettingsVector ], populationDE])\n",
    "\n",
    "result = differential_evolution(\n",
    "    wrapperDE, \n",
    "    bounds,\n",
    "    maxiter=1000, \n",
    "    disp=True,\n",
    "    polish = False, \n",
    "    init = populationDE\n",
    ")\n",
    "\n",
    "from scipy.optimize import minimize\n",
    "\n",
    "\n",
    "#Optional: Manually define starting simplex\n",
    "# initial_simplex = np.tile(defaultSettingsVector, (numDimensions + 1, 1))\n",
    "# for i in range(1, numDimensions + 1):\n",
    "#     initial_simplex[i][i - 1] *= 1.1\n",
    "\n",
    "# result = minimize(\n",
    "#     wrapperDE, \n",
    "#     defaultSettingsVector,\n",
    "#     method = \"Nelder-Mead\",\n",
    "#     bounds = bounds,\n",
    "#     #options={'initial_simplex': initial_simplex}\n",
    "#     options = {'adaptive': True, 'maxiter': 10000},\n",
    "# )\n",
    "\n",
    "# result = minimize(\n",
    "#     wrapperDE, \n",
    "#     defaultSettingsVector,\n",
    "#     method = \"L-BFGS-B\",\n",
    "#     bounds = bounds,\n",
    "#     #options = {\"eps\": [0.001*x for x in defaultSettingsVector]}\n",
    "#     #options = {\"eps\": [0.1 for x in defaultSettingsVector]}\n",
    "# )\n",
    "\n",
    "# result = minimize(\n",
    "#     wrapperDE, \n",
    "#     defaultSettingsVector,\n",
    "#     method = \"COBYQA\",\n",
    "#     bounds = bounds,\n",
    "#     options = {\n",
    "#         \"scale\": True, \n",
    "#         \"initial_tr_radius\": 1e-1, #1e-1\n",
    "#         \"final_tr_radius\": 1e-8, \n",
    "#         \"disp\": True } #\"*_tr_radius\" appears to constrain the scaled, not raw, variables (if scaling is enabled)\n",
    "# )\n",
    "\n",
    "print(problem.history) "
   ]
  },
  {
   "cell_type": "markdown",
   "id": "e7609ee6-86ee-4ea2-8754-c212e14d63fd",
   "metadata": {},
   "source": [
    "## Results"
   ]
  },
  {
   "cell_type": "code",
   "execution_count": 24,
   "id": "92f80610-6064-4201-ae41-9a08d793be87",
   "metadata": {},
   "outputs": [],
   "source": [
    "# Solution for MFFF\n",
    "# Q18801 : 9.1118762703\n",
    "# Q18901 : -26.8202925872\n",
    "# Q19851 : -66.7286045338\n",
    "# Q19871 : 38.2151615835\n",
    "# betaX : 70.711628558\n",
    "# alphaX : -0.0007707405\n",
    "# betaY : 70.7116282515\n",
    "# alphaY : 0.0092241649\n",
    "# alphaPenalty : 0.\n",
    "# magnetError : 1.8817831143\n",
    "# betaError : 2.1677e-6\n",
    "# maximizeMe : 998.1182147181\n",
    "\n",
    "# defaultSettingsVector = [\n",
    "#     9.1118762703,\n",
    "#     -26.8202925872,\n",
    "#     -66.7286045338,\n",
    "#     38.2151615835,\n",
    "# ]\n",
    "\n",
    "\n",
    "#Solution for BEGBC20\n",
    "# Q18601 : 11.0828855439\n",
    "# Q18701 : -14.6111079829\n",
    "# Q18801 : 29.1074584516\n",
    "# Q18901 : -28.2598209214\n",
    "# betaX : 29.9999745112\n",
    "# alphaX : 0.006501117\n",
    "# betaY : 30.000134506\n",
    "# alphaY : -0.0010495807\n",
    "# alphaPenalty : 0.\n",
    "# magnetError : 0.\n",
    "# betaError : 1.87e-8\n",
    "# maximizeMe : 999.9999999813\n",
    "\n",
    "# defaultSettingsVector = [\n",
    "#     11.0828855439,\n",
    "#     -14.6111079829,\n",
    "#     29.1074584516,\n",
    "#     -28.2598209214,\n",
    "# ]\n",
    "\n",
    "\n",
    "#MFFF solution with BC20 quads\n",
    "# Q4ER_1 : 140.8988557651\n",
    "# Q3ER_1 : 109.0853610373\n",
    "# Q2ER : -153.2846988707\n",
    "# Q1ER : 133.0038356884\n",
    "# betaX : 16.6482155283\n",
    "# alphaX : -0.0079475915\n",
    "# betaY : 16.6482174646\n",
    "# alphaY : -0.0009889492\n",
    "# alphaPenalty : 0.\n",
    "# betaError : 5.8152e-6\n",
    "# maximizeMe : 16.6482097131\n",
    "\n",
    "bestSettings = {\n",
    "\"Q4ER_1\" : 140.8988557651,\n",
    "\"Q3ER_1\" : 109.0853610373,\n",
    "\"Q2ER\" : -153.2846988707,\n",
    "\"Q1ER\" : 133.0038356884,\n",
    "}"
   ]
  },
  {
   "cell_type": "code",
   "execution_count": 25,
   "id": "f48f54ce-61c4-4ae6-91e4-382bf47bb686",
   "metadata": {},
   "outputs": [
    {
     "name": "stdout",
     "output_type": "stream",
     "text": [
      "Environment set to:  /Users/nmajik/Documents/SLAC/FACET2-Bmad-PyTao\n",
      "Tracking to end\n",
      "CSR off\n",
      "Base Tao lattice\n",
      "WARNING! No beam file is specified!\n",
      "Number of macro particles defined by input file\n"
     ]
    }
   ],
   "source": [
    "#Start from golden lattice\n",
    "tao = initializeTao(\n",
    "    loadDefaultLatticeTF = False\n",
    ")"
   ]
  },
  {
   "cell_type": "code",
   "execution_count": 26,
   "id": "b97e6459-ae8e-416c-b332-ec121ae6e150",
   "metadata": {},
   "outputs": [
    {
     "data": {
      "text/plain": [
       "{'mode_flip': False,\n",
       " 'beta_a': 0.500113514905197,\n",
       " 'alpha_a': -8.61413026751329e-05,\n",
       " 'gamma_a': 1.99954605827816,\n",
       " 'phi_a': 73.1003856252223,\n",
       " 'eta_a': -4.29100544671707e-07,\n",
       " 'etap_a': -7.60864677687215e-06,\n",
       " 'beta_b': 0.499955681369933,\n",
       " 'alpha_b': 0.000116201966385052,\n",
       " 'gamma_b': 2.00017731724298,\n",
       " 'phi_b': 60.4082301501082,\n",
       " 'eta_b': -6.77061438266207e-18,\n",
       " 'etap_b': -1.31862568529426e-17,\n",
       " 'eta_x': -4.29100544671707e-07,\n",
       " 'etap_x': -7.60864677687215e-06,\n",
       " 'eta_y': -6.77059836943936e-18,\n",
       " 'etap_y': -1.31862402801866e-17}"
      ]
     },
     "execution_count": 26,
     "metadata": {},
     "output_type": "execute_result"
    }
   ],
   "source": [
    "tao.ele_twiss(\"PENT\")"
   ]
  },
  {
   "cell_type": "code",
   "execution_count": 27,
   "id": "940e6206-f418-40b7-9fcb-ab83b06bd614",
   "metadata": {},
   "outputs": [],
   "source": [
    "# for i in range(len(quadNames)):\n",
    "#     setQuadkG(tao, list(quadNames)[i], defaultSettingsVector[i])\n",
    "\n",
    "for name in quadNames:\n",
    "    setQuadkG(tao, name, bestSettings[name])\n",
    "\n",
    "if \"Q3ER_1\" in quadNames:\n",
    "    setQuadkG(tao, \"Q3ER_2\", bestSettings[\"Q3ER_1\"])\n",
    "\n",
    "if \"Q4ER_1\" in quadNames:\n",
    "    setQuadkG(tao, \"Q4ER_2\", bestSettings[\"Q4ER_1\"])\n",
    "    setQuadkG(tao, \"Q4ER_3\", bestSettings[\"Q4ER_1\"])\n",
    "\n",
    "\n",
    "# #BC20 quads\n",
    "# setQuadkG(tao, \"Q1EL\", 0)\n",
    "# setQuadkG(tao, \"Q2EL\", 0)\n",
    "# setQuadkG(tao, \"Q3EL_1\", 0)\n",
    "# setQuadkG(tao, \"Q3EL_2\", 0)\n",
    "# setQuadkG(tao, \"Q4EL_1\", 0)\n",
    "# setQuadkG(tao, \"Q4EL_2\", 0)\n",
    "# setQuadkG(tao, \"Q4EL_3\", 0)\n",
    "# setQuadkG(tao, \"Q5EL\", 0)\n",
    "# setQuadkG(tao, \"Q6E\", 0)\n",
    "# setQuadkG(tao, \"Q5ER\", 0)\n",
    "# setQuadkG(tao, \"Q4ER_1\", 0)\n",
    "# setQuadkG(tao, \"Q4ER_2\", 0)\n",
    "# setQuadkG(tao, \"Q4ER_3\", 0)\n",
    "# setQuadkG(tao, \"Q3ER_1\", 0)\n",
    "# setQuadkG(tao, \"Q3ER_2\", 0)\n",
    "# setQuadkG(tao, \"Q2ER\", 0)\n",
    "# setQuadkG(tao, \"Q1ER\", 0)\n",
    "\n",
    "# #BC20 sextupoles\n",
    "# setSextkG(tao, \"S1EL\",   0)\n",
    "# setSextkG(tao, \"S2EL\",   0)\n",
    "# setSextkG(tao, \"S3EL_1\", 0)\n",
    "# setSextkG(tao, \"S3EL_2\", 0)\n",
    "# setSextkG(tao, \"S3ER_1\", 0)\n",
    "# setSextkG(tao, \"S3ER_2\", 0)\n",
    "# setSextkG(tao, \"S2ER\",   0)\n",
    "# setSextkG(tao, \"S1ER\",   0)\n",
    "\n",
    "#IP quads\n",
    "setQuadkG(tao, \"Q5FF\", 0)\n",
    "setQuadkG(tao, \"Q4FF\", 0)\n",
    "setQuadkG(tao, \"Q3FF\", 0)\n",
    "setQuadkG(tao, \"Q2FF\", 0)\n",
    "setQuadkG(tao, \"Q1FF\", 0)\n",
    "setQuadkG(tao, \"Q0FF\", 0)\n",
    "setQuadkG(tao, \"Q0D\", 0)\n",
    "setQuadkG(tao, \"Q1D\", 0)\n",
    "setQuadkG(tao, \"Q2D\", 0)"
   ]
  },
  {
   "cell_type": "code",
   "execution_count": 28,
   "id": "e4dc3c3e-97e5-4fb1-a7a2-b311a3eb4468",
   "metadata": {},
   "outputs": [
    {
     "data": {
      "text/plain": [
       "{'mode_flip': False,\n",
       " 'beta_a': 31.8343419076041,\n",
       " 'alpha_a': -0.955143029440162,\n",
       " 'gamma_a': 0.0600702917697617,\n",
       " 'phi_a': 71.8509589052754,\n",
       " 'eta_a': 0.116992829565783,\n",
       " 'etap_a': 0.00372242257237611,\n",
       " 'beta_b': 31.6139640042631,\n",
       " 'alpha_b': -0.948125378263748,\n",
       " 'gamma_b': 0.060066549473255,\n",
       " 'phi_b': 56.5855565039688,\n",
       " 'eta_b': -2.69870305163207e-17,\n",
       " 'etap_b': 5.67090611009692e-19,\n",
       " 'eta_x': 0.116992829565783,\n",
       " 'etap_x': 0.00372242257237611,\n",
       " 'eta_y': -2.69993427639938e-17,\n",
       " 'etap_y': 5.3768064096513e-19}"
      ]
     },
     "execution_count": 28,
     "metadata": {},
     "output_type": "execute_result"
    }
   ],
   "source": [
    "tao.ele_twiss(\"PENT\")"
   ]
  },
  {
   "cell_type": "code",
   "execution_count": 29,
   "id": "58f13df2-68c2-4335-b965-77cac1516e2f",
   "metadata": {},
   "outputs": [
    {
     "data": {
      "text/plain": [
       "{'mode_flip': False,\n",
       " 'beta_a': 16.6482155279475,\n",
       " 'alpha_a': -0.0079475914391885,\n",
       " 'gamma_a': 0.0600702917697618,\n",
       " 'phi_a': 71.0964472050788,\n",
       " 'eta_a': 0.0582972318753228,\n",
       " 'etap_a': 0.00372242257237611,\n",
       " 'beta_b': 16.648217465294,\n",
       " 'alpha_b': -0.00098894923500345,\n",
       " 'gamma_b': 0.060066549473255,\n",
       " 'phi_b': 55.8277689674229,\n",
       " 'eta_b': -2.93775391164054e-17,\n",
       " 'etap_b': 5.67090611009692e-19,\n",
       " 'eta_x': 0.0582972318753228,\n",
       " 'etap_x': 0.00372242257237611,\n",
       " 'eta_y': -2.89261114913853e-17,\n",
       " 'etap_y': 5.3768064096513e-19}"
      ]
     },
     "execution_count": 29,
     "metadata": {},
     "output_type": "execute_result"
    }
   ],
   "source": [
    "tao.ele_twiss(\"MFFF\")"
   ]
  },
  {
   "cell_type": "code",
   "execution_count": 30,
   "id": "f2358e1f-8c6c-4d6f-a40a-15929e39aea5",
   "metadata": {},
   "outputs": [
    {
     "data": {
      "text/html": [
       "<style type=\"text/css\">\n",
       "</style>\n",
       "<table id=\"T_a43a2\">\n",
       "  <thead>\n",
       "  </thead>\n",
       "  <tbody>\n",
       "    <tr>\n",
       "      <td id=\"T_a43a2_row0_col0\" class=\"data row0 col0\" >1.000000</td>\n",
       "      <td id=\"T_a43a2_row0_col1\" class=\"data row0 col1\" >15.768118</td>\n",
       "      <td id=\"T_a43a2_row0_col2\" class=\"data row0 col2\" >0.000000</td>\n",
       "      <td id=\"T_a43a2_row0_col3\" class=\"data row0 col3\" >0.000000</td>\n",
       "      <td id=\"T_a43a2_row0_col4\" class=\"data row0 col4\" >0.000000</td>\n",
       "      <td id=\"T_a43a2_row0_col5\" class=\"data row0 col5\" >-0.000000</td>\n",
       "    </tr>\n",
       "    <tr>\n",
       "      <td id=\"T_a43a2_row1_col0\" class=\"data row1 col0\" >0.000000</td>\n",
       "      <td id=\"T_a43a2_row1_col1\" class=\"data row1 col1\" >1.000000</td>\n",
       "      <td id=\"T_a43a2_row1_col2\" class=\"data row1 col2\" >0.000000</td>\n",
       "      <td id=\"T_a43a2_row1_col3\" class=\"data row1 col3\" >0.000000</td>\n",
       "      <td id=\"T_a43a2_row1_col4\" class=\"data row1 col4\" >0.000000</td>\n",
       "      <td id=\"T_a43a2_row1_col5\" class=\"data row1 col5\" >0.000000</td>\n",
       "    </tr>\n",
       "    <tr>\n",
       "      <td id=\"T_a43a2_row2_col0\" class=\"data row2 col0\" >0.000000</td>\n",
       "      <td id=\"T_a43a2_row2_col1\" class=\"data row2 col1\" >0.000000</td>\n",
       "      <td id=\"T_a43a2_row2_col2\" class=\"data row2 col2\" >1.000000</td>\n",
       "      <td id=\"T_a43a2_row2_col3\" class=\"data row2 col3\" >15.768118</td>\n",
       "      <td id=\"T_a43a2_row2_col4\" class=\"data row2 col4\" >0.000000</td>\n",
       "      <td id=\"T_a43a2_row2_col5\" class=\"data row2 col5\" >-0.000000</td>\n",
       "    </tr>\n",
       "    <tr>\n",
       "      <td id=\"T_a43a2_row3_col0\" class=\"data row3 col0\" >0.000000</td>\n",
       "      <td id=\"T_a43a2_row3_col1\" class=\"data row3 col1\" >0.000000</td>\n",
       "      <td id=\"T_a43a2_row3_col2\" class=\"data row3 col2\" >0.000000</td>\n",
       "      <td id=\"T_a43a2_row3_col3\" class=\"data row3 col3\" >1.000000</td>\n",
       "      <td id=\"T_a43a2_row3_col4\" class=\"data row3 col4\" >0.000000</td>\n",
       "      <td id=\"T_a43a2_row3_col5\" class=\"data row3 col5\" >0.000000</td>\n",
       "    </tr>\n",
       "    <tr>\n",
       "      <td id=\"T_a43a2_row4_col0\" class=\"data row4 col0\" >0.000000</td>\n",
       "      <td id=\"T_a43a2_row4_col1\" class=\"data row4 col1\" >-0.000000</td>\n",
       "      <td id=\"T_a43a2_row4_col2\" class=\"data row4 col2\" >0.000000</td>\n",
       "      <td id=\"T_a43a2_row4_col3\" class=\"data row4 col3\" >-0.000000</td>\n",
       "      <td id=\"T_a43a2_row4_col4\" class=\"data row4 col4\" >1.000000</td>\n",
       "      <td id=\"T_a43a2_row4_col5\" class=\"data row4 col5\" >0.000000</td>\n",
       "    </tr>\n",
       "    <tr>\n",
       "      <td id=\"T_a43a2_row5_col0\" class=\"data row5 col0\" >0.000000</td>\n",
       "      <td id=\"T_a43a2_row5_col1\" class=\"data row5 col1\" >0.000000</td>\n",
       "      <td id=\"T_a43a2_row5_col2\" class=\"data row5 col2\" >0.000000</td>\n",
       "      <td id=\"T_a43a2_row5_col3\" class=\"data row5 col3\" >0.000000</td>\n",
       "      <td id=\"T_a43a2_row5_col4\" class=\"data row5 col4\" >0.000000</td>\n",
       "      <td id=\"T_a43a2_row5_col5\" class=\"data row5 col5\" >1.000000</td>\n",
       "    </tr>\n",
       "  </tbody>\n",
       "</table>\n"
      ],
      "text/plain": [
       "<pandas.io.formats.style.Styler at 0x4079b05d0>"
      ]
     },
     "metadata": {},
     "output_type": "display_data"
    }
   ],
   "source": [
    "getMatrix(tao,\"MFFF\",\"PENT\",print = True);"
   ]
  },
  {
   "cell_type": "code",
   "execution_count": 31,
   "id": "d872551e-56e7-42bb-91dd-fefa0a277f83",
   "metadata": {},
   "outputs": [
    {
     "data": {
      "image/png": "[encoded data removed]",
      "text/plain": [
       "<Figure size 1687.5x675 with 3 Axes>"
      ]
     },
     "metadata": {},
     "output_type": "display_data"
    }
   ],
   "source": [
    "floorplanPlot(tao,\n",
    "              zmin = 800,\n",
    "              zmax = 1020,\n",
    "              ymin = 0.1,\n",
    "              ymax = 2e3\n",
    "             )"
   ]
  },
  {
   "cell_type": "code",
   "execution_count": 32,
   "id": "60c767fa-f851-401a-969f-5aefda6c2a7c",
   "metadata": {},
   "outputs": [
    {
     "data": {
      "text/plain": [
       "['Element # 1468',\n",
       " 'Element Name: MFFF',\n",
       " 'Key: Marker',\n",
       " 'S_start, S:    979.004697,    979.004697',\n",
       " 'Ref_time_start, Ref_time:  3.265625E-06,  3.265625E-06',\n",
       " '',\n",
       " 'Attribute values [Only non-zero values shown]:',\n",
       " '    1  L                           =  0.0000000E+00 m',\n",
       " '    7  OSC_AMPLITUDE               =  0.0000000E+00 m',\n",
       " '   24  TILT_CALIB                  =  0.0000000E+00 rad',\n",
       " '   25  DE_ETA_MEAS                 =  0.0000000E+00',\n",
       " '   53  P0C                         =  1.0000000E+10 eV           BETA                        =  1.0000000E+00',\n",
       " '   54  E_TOT                       =  1.0000000E+10 eV           GAMMA                       =  1.9569512E+04',\n",
       " '   64  REF_TIME_START              =  3.2656252E-06 sec      50  DELTA_REF_TIME              =  0.0000000E+00 sec',\n",
       " '',\n",
       " '       TRACKING_METHOD              =  Bmad_Standard             APERTURE_AT                =  Exit_End',\n",
       " '       MAT6_CALC_METHOD             =  Auto                      APERTURE_TYPE              =  Rectangular',\n",
       " '       SPIN_TRACKING_METHOD         =  Tracking                  OFFSET_MOVES_APERTURE      =  F',\n",
       " '       PTC_INTEGRATION_TYPE         =  Matrix_Kick               LONGITUDINAL ORIENTATION   =       1',\n",
       " '                                                                 REF_SPECIES                =  Electron',\n",
       " '',\n",
       " 'Slave_status: Free',\n",
       " '',\n",
       " 'Lord_status:  Not_a_Lord',\n",
       " '',\n",
       " 'Twiss at end of element:',\n",
       " '                          A              B            Cbar                        C_mat',\n",
       " '  Beta (m)        16.64821553    16.64821747  |   0.00000000   0.00000000      0.00000000   0.00000000',\n",
       " '  Alpha           -0.00794759    -0.00098895  |  -0.00000000   0.00000000     -0.00000000   0.00000000',\n",
       " '  Gamma (1/m)      0.06007029     0.06006655  |   Gamma_c =   1.00000000       Mode_Flip = F',\n",
       " '  Phi (rad)       71.09644721    55.82776897            X              Y              Z',\n",
       " '  Eta (m)          0.05829723    -0.00000000     0.05829723    -0.00000000     0.02154990',\n",
       " '  Etap             0.00372242     0.00000000     0.00372242     0.00000000    -0.00000000',\n",
       " '  dEta/ds          0.00372242     0.00000000     0.00372242     0.00000000    -0.00000000',\n",
       " '',\n",
       " 'Tracking: Electron,   State: Alive',\n",
       " '         Position[mm] Momentum[mrad]        Spin   |',\n",
       " '  X:       0.00000000     0.00000000               | t_particle [sec]:        3.26562516E-06  E_tot: 1.00000E+10',\n",
       " '  Y:       0.00000000     0.00000000               | t_part-t_ref [sec]:      0.00000000E+00  PC:    1.00000E+10',\n",
       " '  Z:      -0.00000000     0.00000000               | (t_ref-t_part)*Vel [m]:  0.00000000E+00  Beta:  0.999999999']"
      ]
     },
     "execution_count": 32,
     "metadata": {},
     "output_type": "execute_result"
    }
   ],
   "source": [
    "tao.cmd('show ele MFFF')"
   ]
  },
  {
   "cell_type": "code",
   "execution_count": null,
   "id": "783b6ff3-7c1a-4858-9a4d-dd146e08cf53",
   "metadata": {},
   "outputs": [],
   "source": []
  },
  {
   "cell_type": "code",
   "execution_count": null,
   "id": "958d873c-24b1-4002-a337-1e31b82c9a1f",
   "metadata": {},
   "outputs": [],
   "source": []
  }
 ],
 "metadata": {
  "kernelspec": {
   "display_name": "Python 3 (ipykernel)",
   "language": "python",
   "name": "python3"
  },
  "language_info": {
   "codemirror_mode": {
    "name": "ipython",
    "version": 3
   },
   "file_extension": ".py",
   "mimetype": "text/x-python",
   "name": "python",
   "nbconvert_exporter": "python",
   "pygments_lexer": "ipython3",
   "version": "3.11.8"
  }
 },
 "nbformat": 4,
 "nbformat_minor": 5
}
