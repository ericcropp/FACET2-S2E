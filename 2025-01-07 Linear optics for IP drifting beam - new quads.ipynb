{
 "cells": [
  {
   "cell_type": "code",
   "execution_count": 1,
   "id": "4911baaf-e51c-4074-9dc3-3d5279dd38f1",
   "metadata": {},
   "outputs": [],
   "source": [
    "from UTILITY_quickstart import *"
   ]
  },
  {
   "cell_type": "code",
   "execution_count": 2,
   "id": "c9429d65-37a2-47a1-878c-5fecac910f14",
   "metadata": {},
   "outputs": [
    {
     "name": "stdout",
     "output_type": "stream",
     "text": [
      "Environment set to:  /Users/nmajik/Documents/SLAC/FACET2-Bmad-PyTao\n",
      "Tracking to end\n",
      "CSR off\n",
      "Base Tao lattice\n",
      "WARNING! No beam file is specified!\n",
      "Number of macro particles defined by input file\n"
     ]
    }
   ],
   "source": [
    "#Start from golden lattice\n",
    "tao = initializeTao(\n",
    "    loadDefaultLatticeTF = False\n",
    ")"
   ]
  },
  {
   "cell_type": "markdown",
   "id": "86c8794a-0ec6-49b1-a481-2b80e39faf91",
   "metadata": {},
   "source": [
    "## Golden lattice"
   ]
  },
  {
   "cell_type": "code",
   "execution_count": 3,
   "id": "37c36fa4-2d10-458d-acee-0eb70d296202",
   "metadata": {},
   "outputs": [
    {
     "data": {
      "text/plain": [
       "{'mode_flip': False,\n",
       " 'beta_a': 0.500113514905197,\n",
       " 'alpha_a': -8.61413026751329e-05,\n",
       " 'gamma_a': 1.99954605827816,\n",
       " 'phi_a': 73.1003856252223,\n",
       " 'eta_a': -4.29100544671707e-07,\n",
       " 'etap_a': -7.60864677687215e-06,\n",
       " 'beta_b': 0.499955681369933,\n",
       " 'alpha_b': 0.000116201966385052,\n",
       " 'gamma_b': 2.00017731724298,\n",
       " 'phi_b': 60.4082301501082,\n",
       " 'eta_b': -6.77061438266207e-18,\n",
       " 'etap_b': -1.31862568529426e-17,\n",
       " 'eta_x': -4.29100544671707e-07,\n",
       " 'etap_x': -7.60864677687215e-06,\n",
       " 'eta_y': -6.77059836943936e-18,\n",
       " 'etap_y': -1.31862402801866e-17}"
      ]
     },
     "execution_count": 3,
     "metadata": {},
     "output_type": "execute_result"
    }
   ],
   "source": [
    "#The golden lattice linear optics gives 50 x 50 cm betas (zero alphas) at PENT\n",
    "tao.ele_twiss(\"PENT\")"
   ]
  },
  {
   "cell_type": "code",
   "execution_count": 4,
   "id": "7c2e3ec0-0f18-41f5-b360-fa0a56acb17f",
   "metadata": {},
   "outputs": [
    {
     "data": {
      "text/plain": [
       "{'mode_flip': False,\n",
       " 'beta_a': 11.5533562066008,\n",
       " 'alpha_a': -0.64078864083071,\n",
       " 'gamma_a': 0.122095264526835,\n",
       " 'phi_a': 71.31011993097,\n",
       " 'eta_a': 1.82993853116333e-05,\n",
       " 'etap_a': 1.18535480249718e-06,\n",
       " 'beta_b': 25.2039557159784,\n",
       " 'alpha_b': -1.56858472563668,\n",
       " 'gamma_b': 0.137298211459199,\n",
       " 'phi_b': 56.2536406733655,\n",
       " 'eta_b': -2.27197431822334e-17,\n",
       " 'etap_b': -4.93465667198356e-20,\n",
       " 'eta_x': 1.82993853116333e-05,\n",
       " 'etap_x': 1.18535480249718e-06,\n",
       " 'eta_y': -2.27197534407484e-17,\n",
       " 'etap_y': -4.93522682312884e-20}"
      ]
     },
     "execution_count": 4,
     "metadata": {},
     "output_type": "execute_result"
    }
   ],
   "source": [
    "#At MFFF, have\n",
    "#     Beta    Alpha\n",
    "# x   11.55   -0.64\n",
    "# y   25.2    -1.56\n",
    "tao.ele_twiss(\"MFFF\")"
   ]
  },
  {
   "cell_type": "markdown",
   "id": "ee0120cf-0a17-4c04-a46b-87f513d3a5d8",
   "metadata": {},
   "source": [
    "## Disable FF quads"
   ]
  },
  {
   "cell_type": "code",
   "execution_count": 5,
   "id": "45c270e6-5f01-40f4-8044-ab82f04991a8",
   "metadata": {},
   "outputs": [],
   "source": [
    "setQuadkG(tao, \"Q5FF\", 0)\n",
    "setQuadkG(tao, \"Q4FF\", 0)\n",
    "setQuadkG(tao, \"Q3FF\", 0)\n",
    "setQuadkG(tao, \"Q2FF\", 0)\n",
    "setQuadkG(tao, \"Q1FF\", 0)\n",
    "setQuadkG(tao, \"Q0FF\", 0)\n",
    "setQuadkG(tao, \"Q0D\", 0)\n",
    "setQuadkG(tao, \"Q1D\", 0)\n",
    "setQuadkG(tao, \"Q2D\", 0)"
   ]
  },
  {
   "cell_type": "code",
   "execution_count": 6,
   "id": "a2b7742b-8087-48de-b990-c5fba99e72b2",
   "metadata": {},
   "outputs": [
    {
     "data": {
      "text/plain": [
       "{'mode_flip': False,\n",
       " 'beta_a': 62.1183955561056,\n",
       " 'alpha_a': -2.56600115693764,\n",
       " 'gamma_a': 0.122095264526835,\n",
       " 'phi_a': 71.9394382055096,\n",
       " 'eta_a': 3.69901994937505e-05,\n",
       " 'etap_a': 1.18535480249718e-06,\n",
       " 'beta_b': 108.80815352558,\n",
       " 'alpha_b': -3.7335191001574,\n",
       " 'gamma_b': 0.137298211459199,\n",
       " 'phi_b': 56.5594895777048,\n",
       " 'eta_b': -3.062786696503e-17,\n",
       " 'etap_b': -4.93465667198356e-20,\n",
       " 'eta_x': 3.69901994937505e-05,\n",
       " 'etap_x': 1.18535480249718e-06,\n",
       " 'eta_y': -3.06279671256493e-17,\n",
       " 'etap_y': -4.93522682312884e-20}"
      ]
     },
     "execution_count": 6,
     "metadata": {},
     "output_type": "execute_result"
    }
   ],
   "source": [
    "tao.ele_twiss(\"PENT\")"
   ]
  },
  {
   "cell_type": "markdown",
   "id": "bc8fa493-6ecf-4f23-9403-6aa8ab598fe0",
   "metadata": {},
   "source": [
    "## Changing beam into BC20"
   ]
  },
  {
   "cell_type": "code",
   "execution_count": 7,
   "id": "f1d8941e-5870-46db-a75e-64c0b7bea931",
   "metadata": {},
   "outputs": [],
   "source": [
    "#Following code adapted from \"2024-08-09 Second IP linear optics.ipynb\""
   ]
  },
  {
   "cell_type": "code",
   "execution_count": 8,
   "id": "7a5a4a41-221d-4973-a1b2-bab32860ca51",
   "metadata": {},
   "outputs": [],
   "source": [
    "pbounds = {\n",
    "    #Made up limits\n",
    "    # 'Q19701':  [-35, -15],   #BCON = -26.7\n",
    "    # 'Q19801':  [25, 45],    #BCON = 35.7\n",
    "    # 'Q18801':  [0, 100],   #BCON = -26.7\n",
    "    # 'Q18901':  [-100, 0],    #BCON = 35.7\n",
    "\n",
    "    # Limits and values as of 2025-01-07 \n",
    "    # SCP settings\n",
    "    #\"Q18601\": [0, 106.5],       #BCON = 24.7\n",
    "    #\"Q18701\": [-106.5, 0],      #BCON = -26.1\n",
    "    \"Q18801\": [0, 106.5],       #BCON = 27.9\n",
    "    \"Q18901\": [-106.5, 0],      #BCON = -26.85\n",
    "    # 'Q19701':  [-107.5, 0],   #BCON = -26.7\n",
    "    # 'Q19801':  [0, 107.5],    #BCON = 35.7\n",
    "    \n",
    "    # EPICS for 851 and 871\n",
    "    'Q19851':  [-101.9, 0],   #BCON = -64.1\n",
    "    'Q19871':  [0, 101.9],    #BCON = 44.9\n",
    "\n",
    "\n",
    "}"
   ]
  },
  {
   "cell_type": "code",
   "execution_count": 9,
   "id": "8c2207ac-777b-4317-a64a-2ce4f2fb0460",
   "metadata": {},
   "outputs": [
    {
     "data": {
      "text/plain": [
       "[27.89600733045369, -27.251682088871398, -64.0952053793749, 44.93605802146798]"
      ]
     },
     "execution_count": 9,
     "metadata": {},
     "output_type": "execute_result"
    }
   ],
   "source": [
    "quadNames = pbounds.keys()\n",
    "[getQuadkG(tao, name) for name in quadNames]"
   ]
  },
  {
   "cell_type": "code",
   "execution_count": 10,
   "id": "3cfb15a9-c6a7-4d88-99b8-52c3b66b42b5",
   "metadata": {},
   "outputs": [],
   "source": [
    "def rampToZero(val, thresh, scale = 1):\n",
    "    return (max(val, thresh) - thresh) / scale\n",
    "\n",
    "def specificOptimizer(\n",
    "    self,\n",
    "    **kwargs\n",
    "):\n",
    "\n",
    "    self.totalNumEvals += 1\n",
    "    self.displayEvals()\n",
    "\n",
    "    savedData = kwargs\n",
    "    \n",
    "    badValue = -1e300  #The value returned for illegal config. Should be colossal. Double limit ~= 1e308\n",
    "    bigCost  = 1e50   #Should be large enough to dominate any \"normal\" return value but be dominated by badValue\n",
    "    \n",
    "    try: #This try block deals with bad configurations. Instead of causing the optimizer to halt we now 'except' a low value\n",
    "        #setLattice(tao, **kwargs)\n",
    "        # setQuadkG(tao, 'Q19701', kwargs['Q19701'])\n",
    "        # print(f\"\"\"kwargs['Q19701'] = {kwargs['Q19701']}\"\"\")\n",
    "        for name in quadNames:\n",
    "            setQuadkG(tao, name, kwargs[name])\n",
    "\n",
    "    except:\n",
    "        return badValue * 5\n",
    "\n",
    "    \n",
    "    try: \n",
    "        # transportMatrix = (tao.matrix(\"BEGBC20\",\"PENT\"))[\"mat6\"]\n",
    "        # savedData[\"R11\"] = transportMatrix[0][0]\n",
    "        # savedData[\"R12\"] = transportMatrix[0][1]\n",
    "\n",
    "        # savedData[\"R33\"] = transportMatrix[2][2]\n",
    "        # savedData[\"R34\"] = transportMatrix[2][3]\n",
    "        savedData[\"betaX\"]  = tao.ele_twiss(\"MFFF\")[\"beta_a\"]\n",
    "        savedData[\"alphaX\"] = tao.ele_twiss(\"MFFF\")[\"alpha_a\"]\n",
    "        savedData[\"betaY\"]  = tao.ele_twiss(\"MFFF\")[\"beta_b\"]\n",
    "        savedData[\"alphaY\"] = tao.ele_twiss(\"MFFF\")[\"alpha_b\"]\n",
    "\n",
    "        # savedData[\"betaX\"]  = tao.ele_twiss(\"PENT\")[\"beta_a\"]\n",
    "        # savedData[\"alphaX\"] = tao.ele_twiss(\"PENT\")[\"alpha_a\"]\n",
    "        # savedData[\"betaY\"]  = tao.ele_twiss(\"PENT\")[\"beta_b\"]\n",
    "        # savedData[\"alphaY\"] = tao.ele_twiss(\"PENT\")[\"alpha_b\"]\n",
    "        \n",
    "        \n",
    "            \n",
    "    except:\n",
    "        return badValue\n",
    "\n",
    "\n",
    "\n",
    "\n",
    "    # savedData[\"maximizeMe\"] = 1 / np.mean([\n",
    "    #     #abs(1 - savedData[\"R11\"]),\n",
    "    #     abs(savedData[\"R12\"]),\n",
    "        \n",
    "    #     #abs(1 - savedData[\"R33\"]),\n",
    "    #     #abs(1 - abs(savedData[\"R33\"])),\n",
    "    #     abs(savedData[\"R34\"]),\n",
    "\n",
    "    #     1e-20 #Prevent infinities\n",
    "    # ])\n",
    "\n",
    "    savedData[\"alphaPenalty\"] = 1e3 * rampToZero(( abs(savedData[\"alphaX\"]) + abs(savedData[\"alphaY\"]) ), 0.01 )\n",
    "    savedData[\"magnetError\"] = 0.1 * ( abs( kwargs[\"Q18801\"] - 27.9 ) + abs( kwargs[\"Q18901\"] - -26.85 ) ) \n",
    "    #savedData[\"betaError\"] = abs(savedData[\"betaX\"] - 30) ** 2 + abs(savedData[\"betaY\"] - 30) ** 2\n",
    "    savedData[\"betaError\"] = 1e3 * abs(savedData[\"betaX\"] - savedData[\"betaY\"]) / (savedData[\"betaX\"] + savedData[\"betaY\"])\n",
    "\n",
    "    #Using product instead of sum causes it to prefer more symmetric solutions\n",
    "    #savedData[\"maximizeMe\"] = savedData[\"betaX\"] + savedData[\"betaY\"] - savedData[\"alphaPenalty\"]\n",
    "    #savedData[\"maximizeMe\"] = savedData[\"betaX\"] * savedData[\"betaY\"] - (savedData[\"alphaPenalty\"] ** 2)\n",
    "    #savedData[\"maximizeMe\"] = np.min([savedData[\"betaX\"], savedData[\"betaY\"]]) - (savedData[\"alphaPenalty\"] ** 2)\n",
    "    #savedData[\"maximizeMe\"] = 100 * np.min([savedData[\"betaX\"], savedData[\"betaY\"]]) + savedData[\"betaX\"] + savedData[\"betaY\"] - (savedData[\"alphaPenalty\"] ** 2)\n",
    "    savedData[\"maximizeMe\"] =  1000 - savedData[\"betaError\"] - (savedData[\"alphaPenalty\"] ** 2) - savedData[\"magnetError\"]\n",
    "    \n",
    "\n",
    "    \n",
    "    #Collect desired data as a pandas Series\n",
    "    tmpData = pd.Series( savedData ) \n",
    "    self.history = pd.concat([self.history, tmpData.to_frame().T])\n",
    "    \n",
    "    #Optional: Write to file\n",
    "    #self.history.to_json('optimizerHistory.json', orient='records')\n",
    "    n = self.totalNumEvals\n",
    "    if (n < 100) or (n < 1000 and  n % 10 == 0) or (n % 100 == 0): #This gets expensive to write when n >> 10k\n",
    "        self.history.to_json('optimizerHistory.json', orient='records')\n",
    "    \n",
    "    self.updatePlot()\n",
    "\n",
    "\n",
    "    return savedData[\"maximizeMe\"]\n",
    "\n",
    "\n",
    "\n",
    "\n",
    "# Function to create optimizerWrapper based on pbounds\n",
    "def create_optimizer_wrapper(pbounds):\n",
    "    param_names = list(pbounds.keys())\n",
    "    \n",
    "    def optimizerWrapper(self, **kwargs):\n",
    "        params = {name: kwargs.get(name, None) for name in param_names}\n",
    "        if None in params.values():\n",
    "            raise ValueError(\"All parameters must be provided\")\n",
    "        return specificOptimizer(self, **params)\n",
    "    \n",
    "    return optimizerWrapper\n",
    "\n",
    "# Create the optimizerWrapper function\n",
    "optimizerWrapper = create_optimizer_wrapper(pbounds)"
   ]
  },
  {
   "cell_type": "code",
   "execution_count": 11,
   "id": "b6645923-1c80-487e-a6aa-cfd078c2306f",
   "metadata": {
    "jupyter": {
     "source_hidden": true
    }
   },
   "outputs": [],
   "source": [
    "class OptimizationProblem:\n",
    "    def __init__(self):\n",
    "        self.history = pd.DataFrame()\n",
    "        self.totalNumEvals = 0\n",
    "        self.plot_display_handle = None\n",
    "        self.evals_display_handle = None\n",
    "\n",
    "\n",
    "    def updatePlot(self):\n",
    "        #This function seems to cause a substantial memory leak.\n",
    "        #This hack below reduces the plotting frequency which makes it tolerable\n",
    "\n",
    "        n = self.totalNumEvals\n",
    "        \n",
    "        if (n < 100) or (n < 1000 and  n % 10 == 0) or (n % 100 == 0): \n",
    "            plt.figure()\n",
    "            plotKey = \"maximizeMe\"\n",
    "            plt.plot(np.arange(len(self.history[plotKey])), self.history[plotKey], '-')\n",
    "            \n",
    "            plt.title('Optimization History')\n",
    "            plt.xlabel('Evaluation #')\n",
    "            plt.ylabel(plotKey)\n",
    "            plt.yscale('log')\n",
    "            plt.grid(True)\n",
    "            \n",
    "            \n",
    "            if self.plot_display_handle is None:\n",
    "                self.plot_display_handle = display(plt.gcf(), display_id=True)\n",
    "            else:\n",
    "                update_display(plt.gcf(), display_id=self.plot_display_handle.display_id)\n",
    "            plt.close()\n",
    "\n",
    "        return\n",
    "\n",
    "    def displayEvals(self):\n",
    "        if self.evals_display_handle is None:\n",
    "            self.evals_display_handle = display(f\"Total Num Evals: {self.totalNumEvals}\", display_id=True)\n",
    "        else:\n",
    "            update_display(f\"Total Num Evals: {self.totalNumEvals}\", display_id=self.evals_display_handle.display_id)\n",
    "\n",
    "# Attach the function to the class as a method\n",
    "OptimizationProblem.optimizerWrapper = optimizerWrapper\n",
    "\n",
    "# Instantiate the optimization problem\n",
    "problem = OptimizationProblem()"
   ]
  },
  {
   "cell_type": "code",
   "execution_count": 12,
   "id": "67eb92c7-862a-42af-8bf0-e1ec027ddec8",
   "metadata": {
    "jupyter": {
     "source_hidden": true
    }
   },
   "outputs": [],
   "source": [
    "from scipy.optimize import differential_evolution\n",
    "\n",
    "# Convert pbounds to the format required by differential_evolution\n",
    "bounds = [(low, high) for (low, high) in pbounds.values()]\n",
    "param_names = list(pbounds.keys())\n",
    "\n",
    "#scipy.optimize wants to optimize a function which is passed a vector of all the parameters\n",
    "#This programmatically wraps the existing wrapper (ugh...) to handle this format\n",
    "def create_DE_wrapper(obj, param_names):\n",
    "    def wrapperDE(params):\n",
    "        param_dict = dict(zip(param_names, params))\n",
    "\n",
    "        #bayes_opt is a maximizer but differential_evolution is a minimizer... hence the inversion\n",
    "        return -1*obj.optimizerWrapper(**param_dict)\n",
    "    \n",
    "    return wrapperDE\n",
    "\n",
    "wrapperDE = create_DE_wrapper(problem, param_names)"
   ]
  },
  {
   "cell_type": "code",
   "execution_count": 13,
   "id": "9a7368a0-9973-4abc-b98a-3cab01e60b90",
   "metadata": {},
   "outputs": [],
   "source": [
    "#defaultSettingsVector = [getQuadkG(tao, name) for name in quadNames]\n",
    "defaultSettingsVector = [\n",
    "    11.4337023663,\n",
    "    -23.7385125187,\n",
    "    -65.0085339922,\n",
    "    35.2275711009,\n",
    "]"
   ]
  },
  {
   "cell_type": "code",
   "execution_count": 14,
   "id": "9c10f957-cc4f-4ba4-a189-04723baa5cf9",
   "metadata": {},
   "outputs": [
    {
     "data": {
      "text/plain": [
       "'Total Num Evals: 621'"
      ]
     },
     "metadata": {},
     "output_type": "display_data"
    },
    {
     "data": {
      "image/png": "[encoded data removed]",
      "text/plain": [
       "<Figure size 640x480 with 1 Axes>"
      ]
     },
     "metadata": {},
     "output_type": "display_data"
    },
    {
     "name": "stdout",
     "output_type": "stream",
     "text": [
      "       Q18801     Q18901     Q19851     Q19871      betaX    alphaX  \\\n",
      "0   11.433702 -23.738513 -65.008534  35.227571  45.919361 -0.005055   \n",
      "0   12.005387 -23.738513 -65.008534  35.227571  42.538307  0.028328   \n",
      "0   11.433702 -24.925438 -65.008534  35.227571  51.790652 -0.193838   \n",
      "0   11.433702 -23.738513 -68.258961  35.227571  61.071263 -1.018513   \n",
      "0   11.433702 -23.738513 -65.008534  36.988950  37.906004  0.537880   \n",
      "..        ...        ...        ...        ...        ...       ...   \n",
      "0    9.111855 -26.820240 -66.728577  38.215132  70.711512 -0.000767   \n",
      "0    9.111891 -26.820329 -66.728624  38.215183  70.711707 -0.000773   \n",
      "0    9.111909 -26.820372 -66.728647  38.215207  70.711799 -0.000776   \n",
      "0    9.111876 -26.820293 -66.728605  38.215162  70.711629 -0.000771   \n",
      "0    9.111882 -26.820306 -66.728611  38.215169  70.711658 -0.000772   \n",
      "\n",
      "        betaY    alphaY  alphaPenalty  magnetError   betaError    maximizeMe  \n",
      "0   57.426778 -0.001380      0.000000     1.957779  111.348306  8.866939e+02  \n",
      "0   55.773289 -0.010749     29.077847     1.900610  134.622798  1.795540e+01  \n",
      "0   60.043168 -0.076474    260.312382     1.839086   73.792676 -6.683817e+04  \n",
      "0   62.172410  1.339241   2347.753580     1.957779    8.934711 -5.510958e+06  \n",
      "0   55.258081 -0.341116    868.995919     1.957779  186.252857 -7.543421e+05  \n",
      "..        ...       ...           ...          ...         ...           ...  \n",
      "0   70.711514  0.009221      0.000000     1.881790    0.000012  9.981182e+02  \n",
      "0   70.711708  0.009227      0.000000     1.881778    0.000008  9.981182e+02  \n",
      "0   70.711801  0.009230      0.005401     1.881772    0.000010  9.981182e+02  \n",
      "0   70.711628  0.009224      0.000000     1.881783    0.000002  9.981182e+02  \n",
      "0   70.711657  0.009225      0.000000     1.881781    0.000006  9.981182e+02  \n",
      "\n",
      "[621 rows x 12 columns]\n"
     ]
    }
   ],
   "source": [
    "#### #Optional: Define list of starting points\n",
    "totalPopSize = 50  # Total population size\n",
    "numDimensions = len(bounds)  # Number of parameters\n",
    "\n",
    "# #Uniformly distributed\n",
    "# populationDE = np.random.rand(totalPopSize, numDimensions)\n",
    "# for i in range(numDimensions):\n",
    "#     low, high = bounds[i]\n",
    "#     populationDE[:, i] = low + populationDE[:, i] * (high - low)\n",
    "\n",
    "#Normally distributed\n",
    "populationDE = np.zeros((totalPopSize, numDimensions))\n",
    "for i in range(numDimensions):\n",
    "    low, high = bounds[i]\n",
    "\n",
    "    #Define mean based on bounds\n",
    "    #mean = (high + low) / 2\n",
    "\n",
    "    #Optional: Define mean based on defaultSettingsVector\n",
    "    mean = defaultSettingsVector[i]\n",
    "    \n",
    "    std_dev = (high - low) / 1000\n",
    "    populationDE[:, i] = np.random.normal(mean, std_dev, totalPopSize)\n",
    "\n",
    "#Optional: Add specific points to initial evaluation list\n",
    "#populationDE = np.vstack([[ np.mean(i) for i in bounds ], populationDE])\n",
    "populationDE = np.vstack([[ defaultSettingsVector ], populationDE])\n",
    "\n",
    "# result = differential_evolution(\n",
    "#     wrapperDE, \n",
    "#     bounds,\n",
    "#     maxiter=1000, \n",
    "#     disp=True,\n",
    "#     polish = False, \n",
    "#     init = populationDE\n",
    "# )\n",
    "\n",
    "from scipy.optimize import minimize\n",
    "\n",
    "\n",
    "#Optional: Manually define starting simplex\n",
    "# initial_simplex = np.tile(defaultSettingsVector, (numDimensions + 1, 1))\n",
    "# for i in range(1, numDimensions + 1):\n",
    "#     initial_simplex[i][i - 1] *= 1.1\n",
    "\n",
    "result = minimize(\n",
    "    wrapperDE, \n",
    "    defaultSettingsVector,\n",
    "    method = \"Nelder-Mead\",\n",
    "    bounds = bounds,\n",
    "    #options={'initial_simplex': initial_simplex}\n",
    "    options = {'adaptive': True}\n",
    ")\n",
    "\n",
    "# result = minimize(\n",
    "#     wrapperDE, \n",
    "#     defaultSettingsVector,\n",
    "#     method = \"L-BFGS-B\",\n",
    "#     bounds = bounds,\n",
    "#     #options = {\"eps\": [0.001*x for x in defaultSettingsVector]}\n",
    "#     #options = {\"eps\": [0.1 for x in defaultSettingsVector]}\n",
    "# )\n",
    "\n",
    "# result = minimize(\n",
    "#     wrapperDE, \n",
    "#     defaultSettingsVector,\n",
    "#     method = \"COBYQA\",\n",
    "#     bounds = bounds,\n",
    "#     options = {\n",
    "#         \"scale\": True, \n",
    "#         \"initial_tr_radius\": 1e-1, #1e-1\n",
    "#         \"final_tr_radius\": 1e-8, \n",
    "#         \"disp\": True } #\"*_tr_radius\" appears to constrain the scaled, not raw, variables (if scaling is enabled)\n",
    "# )\n",
    "\n",
    "print(problem.history) "
   ]
  },
  {
   "cell_type": "markdown",
   "id": "e7609ee6-86ee-4ea2-8754-c212e14d63fd",
   "metadata": {},
   "source": [
    "## Results"
   ]
  },
  {
   "cell_type": "code",
   "execution_count": 19,
   "id": "92f80610-6064-4201-ae41-9a08d793be87",
   "metadata": {},
   "outputs": [],
   "source": [
    "# Q18801 : 9.1118762703\n",
    "# Q18901 : -26.8202925872\n",
    "# Q19851 : -66.7286045338\n",
    "# Q19871 : 38.2151615835\n",
    "# betaX : 70.711628558\n",
    "# alphaX : -0.0007707405\n",
    "# betaY : 70.7116282515\n",
    "# alphaY : 0.0092241649\n",
    "# alphaPenalty : 0.\n",
    "# magnetError : 1.8817831143\n",
    "# betaError : 2.1677e-6\n",
    "# maximizeMe : 998.1182147181\n",
    "\n",
    "defaultSettingsVector = [\n",
    "    9.1118762703,\n",
    "    -26.8202925872,\n",
    "    -66.7286045338,\n",
    "    38.2151615835,\n",
    "    \n",
    "]"
   ]
  },
  {
   "cell_type": "code",
   "execution_count": 20,
   "id": "f48f54ce-61c4-4ae6-91e4-382bf47bb686",
   "metadata": {},
   "outputs": [
    {
     "name": "stdout",
     "output_type": "stream",
     "text": [
      "Environment set to:  /Users/nmajik/Documents/SLAC/FACET2-Bmad-PyTao\n",
      "Tracking to end\n",
      "CSR off\n",
      "Base Tao lattice\n",
      "WARNING! No beam file is specified!\n",
      "Number of macro particles defined by input file\n"
     ]
    }
   ],
   "source": [
    "#Start from golden lattice\n",
    "tao = initializeTao(\n",
    "    loadDefaultLatticeTF = False\n",
    ")"
   ]
  },
  {
   "cell_type": "code",
   "execution_count": 21,
   "id": "b97e6459-ae8e-416c-b332-ec121ae6e150",
   "metadata": {},
   "outputs": [
    {
     "data": {
      "text/plain": [
       "{'mode_flip': False,\n",
       " 'beta_a': 0.500113514905197,\n",
       " 'alpha_a': -8.61413026751329e-05,\n",
       " 'gamma_a': 1.99954605827816,\n",
       " 'phi_a': 73.1003856252223,\n",
       " 'eta_a': -4.29100544671707e-07,\n",
       " 'etap_a': -7.60864677687215e-06,\n",
       " 'beta_b': 0.499955681369933,\n",
       " 'alpha_b': 0.000116201966385052,\n",
       " 'gamma_b': 2.00017731724298,\n",
       " 'phi_b': 60.4082301501082,\n",
       " 'eta_b': -6.77061438266207e-18,\n",
       " 'etap_b': -1.31862568529426e-17,\n",
       " 'eta_x': -4.29100544671707e-07,\n",
       " 'etap_x': -7.60864677687215e-06,\n",
       " 'eta_y': -6.77059836943936e-18,\n",
       " 'etap_y': -1.31862402801866e-17}"
      ]
     },
     "execution_count": 21,
     "metadata": {},
     "output_type": "execute_result"
    }
   ],
   "source": [
    "tao.ele_twiss(\"PENT\")"
   ]
  },
  {
   "cell_type": "code",
   "execution_count": 26,
   "id": "940e6206-f418-40b7-9fcb-ab83b06bd614",
   "metadata": {},
   "outputs": [],
   "source": [
    "for i in range(4):\n",
    "    setQuadkG(tao, list(quadNames)[i], defaultSettingsVector[i])\n",
    "\n",
    "\n",
    "\n",
    "\n",
    "setQuadkG(tao, \"Q5FF\", 0)\n",
    "setQuadkG(tao, \"Q4FF\", 0)\n",
    "setQuadkG(tao, \"Q3FF\", 0)\n",
    "setQuadkG(tao, \"Q2FF\", 0)\n",
    "setQuadkG(tao, \"Q1FF\", 0)\n",
    "setQuadkG(tao, \"Q0FF\", 0)\n",
    "setQuadkG(tao, \"Q0D\", 0)\n",
    "setQuadkG(tao, \"Q1D\", 0)\n",
    "setQuadkG(tao, \"Q2D\", 0)"
   ]
  },
  {
   "cell_type": "code",
   "execution_count": 27,
   "id": "e4dc3c3e-97e5-4fb1-a7a2-b311a3eb4468",
   "metadata": {},
   "outputs": [
    {
     "data": {
      "text/plain": [
       "{'mode_flip': False,\n",
       " 'beta_a': 74.2520988762256,\n",
       " 'alpha_a': -0.223762736420028,\n",
       " 'gamma_a': 0.0141419539393841,\n",
       " 'phi_a': 69.6027770478624,\n",
       " 'eta_a': -1.12595884212174e-05,\n",
       " 'etap_a': 5.75884483027672e-07,\n",
       " 'beta_b': 73.9371939765357,\n",
       " 'alpha_b': -0.213786672784486,\n",
       " 'gamma_b': 0.0141431488702712,\n",
       " 'phi_b': 56.6724532546234,\n",
       " 'eta_b': -3.21669503515011e-17,\n",
       " 'etap_b': 2.80432725007461e-20,\n",
       " 'eta_x': -1.12595884212174e-05,\n",
       " 'etap_x': 5.75884483027672e-07,\n",
       " 'eta_y': -3.21660989852989e-17,\n",
       " 'etap_y': 2.80637044034317e-20}"
      ]
     },
     "execution_count": 27,
     "metadata": {},
     "output_type": "execute_result"
    }
   ],
   "source": [
    "tao.ele_twiss(\"PENT\")"
   ]
  },
  {
   "cell_type": "code",
   "execution_count": 28,
   "id": "58f13df2-68c2-4335-b965-77cac1516e2f",
   "metadata": {},
   "outputs": [
    {
     "data": {
      "text/plain": [
       "{'mode_flip': False,\n",
       " 'beta_a': 70.7116285576379,\n",
       " 'alpha_a': -0.000770740523856341,\n",
       " 'gamma_a': 0.0141419539393841,\n",
       " 'phi_a': 69.3834113027519,\n",
       " 'eta_a': -2.03402027992807e-05,\n",
       " 'etap_a': 5.75884483027672e-07,\n",
       " 'beta_b': 70.7116282513787,\n",
       " 'alpha_b': 0.00922416492269758,\n",
       " 'gamma_b': 0.0141431488702712,\n",
       " 'phi_b': 56.4526131991922,\n",
       " 'eta_b': -2.5479118671464e-17,\n",
       " 'etap_b': 2.80432725007461e-20,\n",
       " 'eta_x': -2.03402027992807e-05,\n",
       " 'etap_x': 5.75884483027672e-07,\n",
       " 'eta_y': -2.54785894779105e-17,\n",
       " 'etap_y': 2.80637044034317e-20}"
      ]
     },
     "execution_count": 28,
     "metadata": {},
     "output_type": "execute_result"
    }
   ],
   "source": [
    "tao.ele_twiss(\"MFFF\")"
   ]
  },
  {
   "cell_type": "code",
   "execution_count": 29,
   "id": "f2358e1f-8c6c-4d6f-a40a-15929e39aea5",
   "metadata": {},
   "outputs": [
    {
     "data": {
      "text/html": [
       "<style type=\"text/css\">\n",
       "</style>\n",
       "<table id=\"T_fc9ec\">\n",
       "  <thead>\n",
       "  </thead>\n",
       "  <tbody>\n",
       "    <tr>\n",
       "      <td id=\"T_fc9ec_row0_col0\" class=\"data row0 col0\" >1.000000</td>\n",
       "      <td id=\"T_fc9ec_row0_col1\" class=\"data row0 col1\" >15.768118</td>\n",
       "      <td id=\"T_fc9ec_row0_col2\" class=\"data row0 col2\" >0.000000</td>\n",
       "      <td id=\"T_fc9ec_row0_col3\" class=\"data row0 col3\" >0.000000</td>\n",
       "      <td id=\"T_fc9ec_row0_col4\" class=\"data row0 col4\" >0.000000</td>\n",
       "      <td id=\"T_fc9ec_row0_col5\" class=\"data row0 col5\" >-0.000000</td>\n",
       "    </tr>\n",
       "    <tr>\n",
       "      <td id=\"T_fc9ec_row1_col0\" class=\"data row1 col0\" >0.000000</td>\n",
       "      <td id=\"T_fc9ec_row1_col1\" class=\"data row1 col1\" >1.000000</td>\n",
       "      <td id=\"T_fc9ec_row1_col2\" class=\"data row1 col2\" >0.000000</td>\n",
       "      <td id=\"T_fc9ec_row1_col3\" class=\"data row1 col3\" >0.000000</td>\n",
       "      <td id=\"T_fc9ec_row1_col4\" class=\"data row1 col4\" >0.000000</td>\n",
       "      <td id=\"T_fc9ec_row1_col5\" class=\"data row1 col5\" >0.000000</td>\n",
       "    </tr>\n",
       "    <tr>\n",
       "      <td id=\"T_fc9ec_row2_col0\" class=\"data row2 col0\" >0.000000</td>\n",
       "      <td id=\"T_fc9ec_row2_col1\" class=\"data row2 col1\" >0.000000</td>\n",
       "      <td id=\"T_fc9ec_row2_col2\" class=\"data row2 col2\" >1.000000</td>\n",
       "      <td id=\"T_fc9ec_row2_col3\" class=\"data row2 col3\" >15.768118</td>\n",
       "      <td id=\"T_fc9ec_row2_col4\" class=\"data row2 col4\" >0.000000</td>\n",
       "      <td id=\"T_fc9ec_row2_col5\" class=\"data row2 col5\" >-0.000000</td>\n",
       "    </tr>\n",
       "    <tr>\n",
       "      <td id=\"T_fc9ec_row3_col0\" class=\"data row3 col0\" >0.000000</td>\n",
       "      <td id=\"T_fc9ec_row3_col1\" class=\"data row3 col1\" >0.000000</td>\n",
       "      <td id=\"T_fc9ec_row3_col2\" class=\"data row3 col2\" >0.000000</td>\n",
       "      <td id=\"T_fc9ec_row3_col3\" class=\"data row3 col3\" >1.000000</td>\n",
       "      <td id=\"T_fc9ec_row3_col4\" class=\"data row3 col4\" >0.000000</td>\n",
       "      <td id=\"T_fc9ec_row3_col5\" class=\"data row3 col5\" >0.000000</td>\n",
       "    </tr>\n",
       "    <tr>\n",
       "      <td id=\"T_fc9ec_row4_col0\" class=\"data row4 col0\" >0.000000</td>\n",
       "      <td id=\"T_fc9ec_row4_col1\" class=\"data row4 col1\" >-0.000000</td>\n",
       "      <td id=\"T_fc9ec_row4_col2\" class=\"data row4 col2\" >0.000000</td>\n",
       "      <td id=\"T_fc9ec_row4_col3\" class=\"data row4 col3\" >-0.000000</td>\n",
       "      <td id=\"T_fc9ec_row4_col4\" class=\"data row4 col4\" >1.000000</td>\n",
       "      <td id=\"T_fc9ec_row4_col5\" class=\"data row4 col5\" >0.000000</td>\n",
       "    </tr>\n",
       "    <tr>\n",
       "      <td id=\"T_fc9ec_row5_col0\" class=\"data row5 col0\" >0.000000</td>\n",
       "      <td id=\"T_fc9ec_row5_col1\" class=\"data row5 col1\" >0.000000</td>\n",
       "      <td id=\"T_fc9ec_row5_col2\" class=\"data row5 col2\" >0.000000</td>\n",
       "      <td id=\"T_fc9ec_row5_col3\" class=\"data row5 col3\" >0.000000</td>\n",
       "      <td id=\"T_fc9ec_row5_col4\" class=\"data row5 col4\" >0.000000</td>\n",
       "      <td id=\"T_fc9ec_row5_col5\" class=\"data row5 col5\" >1.000000</td>\n",
       "    </tr>\n",
       "  </tbody>\n",
       "</table>\n"
      ],
      "text/plain": [
       "<pandas.io.formats.style.Styler at 0x3185c3510>"
      ]
     },
     "metadata": {},
     "output_type": "display_data"
    }
   ],
   "source": [
    "getMatrix(tao,\"MFFF\",\"PENT\",print = True);"
   ]
  },
  {
   "cell_type": "code",
   "execution_count": null,
   "id": "d872551e-56e7-42bb-91dd-fefa0a277f83",
   "metadata": {},
   "outputs": [],
   "source": []
  }
 ],
 "metadata": {
  "kernelspec": {
   "display_name": "Python 3 (ipykernel)",
   "language": "python",
   "name": "python3"
  },
  "language_info": {
   "codemirror_mode": {
    "name": "ipython",
    "version": 3
   },
   "file_extension": ".py",
   "mimetype": "text/x-python",
   "name": "python",
   "nbconvert_exporter": "python",
   "pygments_lexer": "ipython3",
   "version": "3.11.8"
  }
 },
 "nbformat": 4,
 "nbformat_minor": 5
}
