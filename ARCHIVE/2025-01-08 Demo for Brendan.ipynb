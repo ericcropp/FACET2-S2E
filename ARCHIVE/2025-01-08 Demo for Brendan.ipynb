{
 "cells": [
  {
   "cell_type": "code",
   "execution_count": 1,
   "id": "147d9590-3dc9-4b9f-89ed-4f8b4ded355e",
   "metadata": {},
   "outputs": [],
   "source": [
    "from UTILITY_quickstart import *"
   ]
  },
  {
   "cell_type": "markdown",
   "id": "9dfa5fb0-850d-435e-9003-50059dbcda5a",
   "metadata": {},
   "source": [
    "## Golden lattice"
   ]
  },
  {
   "cell_type": "code",
   "execution_count": 2,
   "id": "2c890437-a6d2-4c0d-a989-eb8fdc573c7e",
   "metadata": {},
   "outputs": [
    {
     "name": "stdout",
     "output_type": "stream",
     "text": [
      "Environment set to:  /Users/nmajik/Documents/SLAC/FACET2-Bmad-PyTao\n",
      "Tracking to end\n",
      "CSR off\n",
      "Base Tao lattice\n",
      "WARNING! No beam file is specified!\n",
      "Number of macro particles defined by input file\n"
     ]
    }
   ],
   "source": [
    "tao = initializeTao(\n",
    "    loadDefaultLatticeTF = False\n",
    ")"
   ]
  },
  {
   "cell_type": "code",
   "execution_count": 3,
   "id": "074bef31-eb5f-4794-805d-835bd212c0b6",
   "metadata": {},
   "outputs": [
    {
     "data": {
      "text/plain": [
       "['Element # 1294',\n",
       " 'Element Name: BEGBC20',\n",
       " 'Key: Marker',\n",
       " 'S_start, S:    929.537145,    929.537145',\n",
       " 'Ref_time_start, Ref_time:  3.100619E-06,  3.100619E-06',\n",
       " '',\n",
       " 'Attribute values [Only non-zero values shown]:',\n",
       " '    1  L                           =  0.0000000E+00 m',\n",
       " '    7  OSC_AMPLITUDE               =  0.0000000E+00 m',\n",
       " '   24  TILT_CALIB                  =  0.0000000E+00 rad',\n",
       " '   25  DE_ETA_MEAS                 =  0.0000000E+00',\n",
       " '   53  P0C                         =  1.0000000E+10 eV           BETA                        =  1.0000000E+00',\n",
       " '   54  E_TOT                       =  1.0000000E+10 eV           GAMMA                       =  1.9569512E+04',\n",
       " '   64  REF_TIME_START              =  3.1006192E-06 sec      50  DELTA_REF_TIME              =  0.0000000E+00 sec',\n",
       " '',\n",
       " '       TRACKING_METHOD              =  Bmad_Standard             APERTURE_AT                =  Exit_End',\n",
       " '       MAT6_CALC_METHOD             =  Auto                      APERTURE_TYPE              =  Rectangular',\n",
       " '       SPIN_TRACKING_METHOD         =  Tracking                  OFFSET_MOVES_APERTURE      =  F',\n",
       " '       PTC_INTEGRATION_TYPE         =  Matrix_Kick               LONGITUDINAL ORIENTATION   =       1',\n",
       " '                                                                 REF_SPECIES                =  Electron',\n",
       " '',\n",
       " 'Slave_status: Free',\n",
       " '',\n",
       " 'Lord_status:  Not_a_Lord',\n",
       " '',\n",
       " 'Twiss at end of element:',\n",
       " '                          A              B            Cbar                        C_mat',\n",
       " '  Beta (m)        11.50319386    27.28308400  |  -0.00000000  -0.00000000     -0.00000000  -0.00000000',\n",
       " '  Alpha            0.70439560     1.22537840  |  -0.00000000  -0.00000000     -0.00000000  -0.00000000',\n",
       " '  Gamma (1/m)      0.13006589     0.09168876  |   Gamma_c =   1.00000000       Mode_Flip = F',\n",
       " '  Phi (rad)       55.15721487    53.36313580            X              Y              Z',\n",
       " '  Eta (m)         -0.00001564     0.00000000    -0.00001564     0.00000000     0.02973078',\n",
       " '  Etap             0.00000012    -0.00000000     0.00000012    -0.00000000    -0.00000000',\n",
       " '  dEta/ds          0.00000012    -0.00000000     0.00000012    -0.00000000    -0.00000000',\n",
       " '',\n",
       " 'Tracking: Electron,   State: Alive',\n",
       " '         Position[mm] Momentum[mrad]        Spin   |',\n",
       " '  X:       0.00000000    -0.00000000               | t_particle [sec]:        3.10061917E-06  E_tot: 1.00000E+10',\n",
       " '  Y:       0.00000000    -0.00000000               | t_part-t_ref [sec]:      0.00000000E+00  PC:    1.00000E+10',\n",
       " '  Z:      -0.00000000     0.00000000               | (t_ref-t_part)*Vel [m]:  0.00000000E+00  Beta:  0.999999999']"
      ]
     },
     "execution_count": 3,
     "metadata": {},
     "output_type": "execute_result"
    }
   ],
   "source": [
    "tao.cmd(\"show ele BEGBC20\")"
   ]
  },
  {
   "cell_type": "markdown",
   "id": "2ea59a55-2cca-4888-953d-b6f2d8c16628",
   "metadata": {},
   "source": [
    "Using single particle mode, get 11 meter beta function at BEGBC20"
   ]
  },
  {
   "cell_type": "markdown",
   "id": "6c723572-7681-4f95-890c-d3273dbf8dd4",
   "metadata": {},
   "source": [
    "## \"Real\" lattice"
   ]
  },
  {
   "cell_type": "code",
   "execution_count": 4,
   "id": "c44eb55c-624f-474b-933c-2356a8922486",
   "metadata": {},
   "outputs": [
    {
     "name": "stdout",
     "output_type": "stream",
     "text": [
      "Environment set to:  /Users/nmajik/Documents/SLAC/FACET2-Bmad-PyTao\n",
      "Tracking to end\n",
      "CSR off\n",
      "Overwriting lattice with setLattice() defaults\n",
      "No defaults file provided to setLattice(). Using setLattice_configs/defaults.yml\n",
      "Number of macro particles = 10000.0\n"
     ]
    }
   ],
   "source": [
    "#Load a default configuration\n",
    "importedDefaultSettings = loadConfig(\"setLattice_configs/2024-10-22_oneBunch_baseline.yml\")\n",
    "\n",
    "#Initialize tao object\n",
    "tao = initializeTao(\n",
    "    inputBeamFilePathSuffix = importedDefaultSettings[\"inputBeamFilePathSuffix\"],\n",
    "    numMacroParticles = 1e4,\n",
    "    csrTF = False\n",
    ")\n",
    "\n",
    "#Set lattice to the loaded config\n",
    "setLattice(tao, **importedDefaultSettings)"
   ]
  },
  {
   "cell_type": "code",
   "execution_count": 5,
   "id": "0ef6188f-6b16-43ff-b524-64b1ac07a50e",
   "metadata": {},
   "outputs": [
    {
     "data": {
      "text/plain": [
       "['Element # 1294',\n",
       " 'Element Name: BEGBC20',\n",
       " 'Key: Marker',\n",
       " 'S_start, S:    929.537145,    929.537145',\n",
       " 'Ref_time_start, Ref_time:  3.100619E-06,  3.100619E-06',\n",
       " '',\n",
       " 'Attribute values [Only non-zero values shown]:',\n",
       " '    1  L                           =  0.0000000E+00 m',\n",
       " '    7  OSC_AMPLITUDE               =  0.0000000E+00 m',\n",
       " '   24  TILT_CALIB                  =  0.0000000E+00 rad',\n",
       " '   25  DE_ETA_MEAS                 =  0.0000000E+00',\n",
       " '   53  P0C                         =  9.9937601E+09 eV           BETA                        =  1.0000000E+00',\n",
       " '   54  E_TOT                       =  9.9937601E+09 eV           GAMMA                       =  1.9557301E+04',\n",
       " '   64  REF_TIME_START              =  3.1006192E-06 sec      50  DELTA_REF_TIME              =  0.0000000E+00 sec',\n",
       " '',\n",
       " '       TRACKING_METHOD              =  Bmad_Standard             APERTURE_AT                =  Exit_End',\n",
       " '       MAT6_CALC_METHOD             =  Auto                      APERTURE_TYPE              =  Rectangular',\n",
       " '       SPIN_TRACKING_METHOD         =  Tracking                  OFFSET_MOVES_APERTURE      =  F',\n",
       " '       PTC_INTEGRATION_TYPE         =  Matrix_Kick               LONGITUDINAL ORIENTATION   =       1',\n",
       " '                                                                 REF_SPECIES                =  Electron',\n",
       " '',\n",
       " 'Slave_status: Free',\n",
       " '',\n",
       " 'Lord_status:  Not_a_Lord',\n",
       " '',\n",
       " 'Twiss at end of element:',\n",
       " '                          A              B            Cbar                        C_mat',\n",
       " '  Beta (m)      3025.10028800   437.09879594  |  -0.00000000  -0.00000000     -0.00000000  -0.00000000',\n",
       " '  Alpha           19.62047515   -43.18633800  |  -0.00000000  -0.00000000     -0.00000000  -0.00000000',\n",
       " '  Gamma (1/m)      0.12758686     4.26919453  |   Gamma_c =   1.00000000       Mode_Flip = F',\n",
       " '  Phi (rad)       55.70140035    56.01081214            X              Y              Z',\n",
       " '  Eta (m)         -0.00001562     0.00000000    -0.00001562     0.00000000     0.02171656',\n",
       " '  Etap             0.00000012    -0.00000000     0.00000012    -0.00000000    -0.00000000',\n",
       " '  dEta/ds          0.00000012    -0.00000000     0.00000012    -0.00000000    -0.00000000',\n",
       " '',\n",
       " 'Tracking: Electron,   State: Alive',\n",
       " '         Position[mm] Momentum[mrad]        Spin   |',\n",
       " '  X:      -0.00000000     0.00000000               | t_particle [sec]:        3.10061924E-06  E_tot: 9.99376E+09',\n",
       " '  Y:       0.00000000    -0.00000000               | t_part-t_ref [sec]:      4.23516474E-22  PC:    9.99376E+09',\n",
       " '  Z:       0.00000000     0.00000000               | (t_ref-t_part)*Vel [m]: -1.26967044E-13  Beta:  0.999999999']"
      ]
     },
     "execution_count": 5,
     "metadata": {},
     "output_type": "execute_result"
    }
   ],
   "source": [
    "tao.cmd(\"show ele BEGBC20\")"
   ]
  },
  {
   "cell_type": "markdown",
   "id": "e46c872b-bee2-4558-b7f0-fe7c935836de",
   "metadata": {},
   "source": [
    "Using single particle mode, now getting 3 kilometer beta function at the same point"
   ]
  },
  {
   "cell_type": "code",
   "execution_count": 6,
   "id": "d3f3e88e-b0f4-4259-a469-2adb7b5a6e5d",
   "metadata": {},
   "outputs": [],
   "source": [
    "trackBeam(tao)"
   ]
  },
  {
   "cell_type": "code",
   "execution_count": 7,
   "id": "96b31110-0586-46a3-b9f4-59142e6d8f70",
   "metadata": {},
   "outputs": [
    {
     "data": {
      "text/plain": [
       "{'alpha_x': 1.034568625584389,\n",
       " 'beta_x': 10.98777923469025,\n",
       " 'gamma_x': 0.18842135401730567,\n",
       " 'emit_x': 7.741570221834746e-10,\n",
       " 'eta_x': 0.002591133253543326,\n",
       " 'etap_x': -0.0007718833248595512,\n",
       " 'norm_emit_x': 1.491885679739626e-05}"
      ]
     },
     "execution_count": 7,
     "metadata": {},
     "output_type": "execute_result"
    }
   ],
   "source": [
    "P = getBeamAtElement(tao, \"BEGBC20\")\n",
    "P.twiss()"
   ]
  },
  {
   "cell_type": "markdown",
   "id": "212fd736-ef08-40d3-ba45-b05448c98637",
   "metadata": {},
   "source": [
    "However, the tracked beam agrees with expectation"
   ]
  },
  {
   "cell_type": "markdown",
   "id": "c3a3aab1-f17a-4bdc-993e-69b3b1143619",
   "metadata": {},
   "source": [
    "## New function demo"
   ]
  },
  {
   "cell_type": "code",
   "execution_count": 8,
   "id": "262140da-08d0-4597-86f7-f0d7e3606bd9",
   "metadata": {},
   "outputs": [
    {
     "name": "stdout",
     "output_type": "stream",
     "text": [
      "No evalElement provided. Assuming golden lattice PR10571\n",
      "Optimization Results:\n",
      "Optimal Parameters: [28.77865964 13.39705392 23.51276157 16.83077823]\n",
      "Objective Function Value at Optimal Parameters: 3.875225216013324e-12\n",
      "Number of Iterations: 354\n",
      "Converged: True\n"
     ]
    }
   ],
   "source": [
    "launchTwissCorrection(tao)"
   ]
  },
  {
   "cell_type": "code",
   "execution_count": 9,
   "id": "a22ac46a-afb4-4586-9737-332a842ec6dd",
   "metadata": {},
   "outputs": [
    {
     "data": {
      "text/plain": [
       "['Element # 1294',\n",
       " 'Element Name: BEGBC20',\n",
       " 'Key: Marker',\n",
       " 'S_start, S:    929.537145,    929.537145',\n",
       " 'Ref_time_start, Ref_time:  3.100619E-06,  3.100619E-06',\n",
       " '',\n",
       " 'Attribute values [Only non-zero values shown]:',\n",
       " '    1  L                           =  0.0000000E+00 m',\n",
       " '    7  OSC_AMPLITUDE               =  0.0000000E+00 m',\n",
       " '   24  TILT_CALIB                  =  0.0000000E+00 rad',\n",
       " '   25  DE_ETA_MEAS                 =  0.0000000E+00',\n",
       " '   53  P0C                         =  9.9937601E+09 eV           BETA                        =  1.0000000E+00',\n",
       " '   54  E_TOT                       =  9.9937601E+09 eV           GAMMA                       =  1.9557301E+04',\n",
       " '   64  REF_TIME_START              =  3.1006192E-06 sec      50  DELTA_REF_TIME              =  0.0000000E+00 sec',\n",
       " '',\n",
       " '       TRACKING_METHOD              =  Bmad_Standard             APERTURE_AT                =  Exit_End',\n",
       " '       MAT6_CALC_METHOD             =  Auto                      APERTURE_TYPE              =  Rectangular',\n",
       " '       SPIN_TRACKING_METHOD         =  Tracking                  OFFSET_MOVES_APERTURE      =  F',\n",
       " '       PTC_INTEGRATION_TYPE         =  Matrix_Kick               LONGITUDINAL ORIENTATION   =       1',\n",
       " '                                                                 REF_SPECIES                =  Electron',\n",
       " '',\n",
       " 'Slave_status: Free',\n",
       " '',\n",
       " 'Lord_status:  Not_a_Lord',\n",
       " '',\n",
       " 'Twiss at end of element:',\n",
       " '                          A              B            Cbar                        C_mat',\n",
       " '  Beta (m)        11.16362842    26.86950895  |  -0.00000000  -0.00000000     -0.00000000  -0.00000000',\n",
       " '  Alpha            0.67218550     1.19978732  |   0.00000000  -0.00000000     -0.00000000  -0.00000000',\n",
       " '  Gamma (1/m)      0.13005031     0.09079026  |   Gamma_c =   1.00000000       Mode_Flip = F',\n",
       " '  Phi (rad)       54.44001497    53.66757776            X              Y              Z',\n",
       " '  Eta (m)         -0.00001562     0.00000000    -0.00001562     0.00000000     0.02171656',\n",
       " '  Etap             0.00000012    -0.00000000     0.00000012    -0.00000000    -0.00000000',\n",
       " '  dEta/ds          0.00000012    -0.00000000     0.00000012    -0.00000000    -0.00000000',\n",
       " '',\n",
       " 'Tracking: Electron,   State: Alive',\n",
       " '         Position[mm] Momentum[mrad]        Spin   |',\n",
       " '  X:      -0.00000000     0.00000000               | t_particle [sec]:        3.10061924E-06  E_tot: 9.99376E+09',\n",
       " '  Y:       0.00000000    -0.00000000               | t_part-t_ref [sec]:      4.23516474E-22  PC:    9.99376E+09',\n",
       " '  Z:       0.00000000     0.00000000               | (t_ref-t_part)*Vel [m]: -1.26967044E-13  Beta:  0.999999999']"
      ]
     },
     "execution_count": 9,
     "metadata": {},
     "output_type": "execute_result"
    }
   ],
   "source": [
    "tao.cmd(\"show ele BEGBC20\")"
   ]
  },
  {
   "cell_type": "code",
   "execution_count": 14,
   "id": "fa5e215e-58e5-4f01-a85c-2205cc2f1ab4",
   "metadata": {},
   "outputs": [
    {
     "name": "stdout",
     "output_type": "stream",
     "text": [
      "Optimization Results:\n",
      "Optimal Parameters: [29.96812961 13.94650736 23.54617285 16.84742102]\n",
      "Objective Function Value at Optimal Parameters: 6.5708464322471535e-12\n",
      "Number of Iterations: 322\n",
      "Converged: True\n"
     ]
    }
   ],
   "source": [
    "launchTwissCorrection(tao, \n",
    "                          evalElement = \"BEGBC20\", \n",
    "                          targetBetaX = 11, \n",
    "                          targetAlphaX = 0.7, \n",
    "                          targetBetaY = 27, \n",
    "                          targetAlphaY = 1.2\n",
    "                     )"
   ]
  },
  {
   "cell_type": "code",
   "execution_count": 15,
   "id": "18baf768-fde7-45e3-8f93-f675f862d400",
   "metadata": {},
   "outputs": [
    {
     "data": {
      "text/plain": [
       "['Element # 1294',\n",
       " 'Element Name: BEGBC20',\n",
       " 'Key: Marker',\n",
       " 'S_start, S:    929.537145,    929.537145',\n",
       " 'Ref_time_start, Ref_time:  3.100619E-06,  3.100619E-06',\n",
       " '',\n",
       " 'Attribute values [Only non-zero values shown]:',\n",
       " '    1  L                           =  0.0000000E+00 m',\n",
       " '    7  OSC_AMPLITUDE               =  0.0000000E+00 m',\n",
       " '   24  TILT_CALIB                  =  0.0000000E+00 rad',\n",
       " '   25  DE_ETA_MEAS                 =  0.0000000E+00',\n",
       " '   53  P0C                         =  9.9937601E+09 eV           BETA                        =  1.0000000E+00',\n",
       " '   54  E_TOT                       =  9.9937601E+09 eV           GAMMA                       =  1.9557301E+04',\n",
       " '   64  REF_TIME_START              =  3.1006192E-06 sec      50  DELTA_REF_TIME              =  0.0000000E+00 sec',\n",
       " '',\n",
       " '       TRACKING_METHOD              =  Bmad_Standard             APERTURE_AT                =  Exit_End',\n",
       " '       MAT6_CALC_METHOD             =  Auto                      APERTURE_TYPE              =  Rectangular',\n",
       " '       SPIN_TRACKING_METHOD         =  Tracking                  OFFSET_MOVES_APERTURE      =  F',\n",
       " '       PTC_INTEGRATION_TYPE         =  Matrix_Kick               LONGITUDINAL ORIENTATION   =       1',\n",
       " '                                                                 REF_SPECIES                =  Electron',\n",
       " '',\n",
       " 'Slave_status: Free',\n",
       " '',\n",
       " 'Lord_status:  Not_a_Lord',\n",
       " '',\n",
       " 'Twiss at end of element:',\n",
       " '                          A              B            Cbar                        C_mat',\n",
       " '  Beta (m)        10.99999766    27.00000026  |  -0.00000000  -0.00000000     -0.00000000  -0.00000000',\n",
       " '  Alpha            0.70000071     1.19999928  |   0.00000000  -0.00000000     -0.00000000  -0.00000000',\n",
       " '  Gamma (1/m)      0.13545466     0.09037031  |   Gamma_c =   1.00000000       Mode_Flip = F',\n",
       " '  Phi (rad)       54.41895298    53.66674420            X              Y              Z',\n",
       " '  Eta (m)         -0.00001562     0.00000000    -0.00001562     0.00000000     0.02171656',\n",
       " '  Etap             0.00000012    -0.00000000     0.00000012    -0.00000000    -0.00000000',\n",
       " '  dEta/ds          0.00000012    -0.00000000     0.00000012    -0.00000000    -0.00000000',\n",
       " '',\n",
       " 'Tracking: Electron,   State: Alive',\n",
       " '         Position[mm] Momentum[mrad]        Spin   |',\n",
       " '  X:      -0.00000000     0.00000000               | t_particle [sec]:        3.10061924E-06  E_tot: 9.99376E+09',\n",
       " '  Y:       0.00000000    -0.00000000               | t_part-t_ref [sec]:      4.23516474E-22  PC:    9.99376E+09',\n",
       " '  Z:       0.00000000     0.00000000               | (t_ref-t_part)*Vel [m]: -1.26967044E-13  Beta:  0.999999999']"
      ]
     },
     "execution_count": 15,
     "metadata": {},
     "output_type": "execute_result"
    }
   ],
   "source": [
    "tao.cmd(\"show ele BEGBC20\")"
   ]
  },
  {
   "cell_type": "code",
   "execution_count": null,
   "id": "7f7b7641-8c94-4114-b27c-93f7c20fae55",
   "metadata": {},
   "outputs": [],
   "source": []
  }
 ],
 "metadata": {
  "kernelspec": {
   "display_name": "Python 3 (ipykernel)",
   "language": "python",
   "name": "python3"
  },
  "language_info": {
   "codemirror_mode": {
    "name": "ipython",
    "version": 3
   },
   "file_extension": ".py",
   "mimetype": "text/x-python",
   "name": "python",
   "nbconvert_exporter": "python",
   "pygments_lexer": "ipython3",
   "version": "3.11.8"
  }
 },
 "nbformat": 4,
 "nbformat_minor": 5
}
