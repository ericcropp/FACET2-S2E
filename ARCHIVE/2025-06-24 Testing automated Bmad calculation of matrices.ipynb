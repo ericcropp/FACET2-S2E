{
 "cells": [
  {
   "cell_type": "code",
   "execution_count": 1,
   "id": "b001f06e-f096-4d79-9405-4586f8de2894",
   "metadata": {},
   "outputs": [],
   "source": [
    "import numpy as np\n",
    "import scipy\n",
    "import matplotlib.pyplot as plt\n",
    "\n",
    "import sys\n",
    "import os\n",
    "\n",
    "# Import Bmad infrastructure\n",
    "notebook_dir = os.getcwd()\n",
    "sys.path.insert(0, os.path.join(notebook_dir, '../FACET2-Bmad-PyTao'))\n",
    "from UTILITY_quickstart import *\n",
    "\n",
    "# Import Robert's scripts\n",
    "sys.path.insert(0, os.path.join(notebook_dir, 'robert_scripts'))\n",
    "from dataset import DATASET\n",
    "import mplstyle\n",
    "\n",
    "\n",
    "from UTILITY_2DGaussianFit import fit_gaussian_2d_corr, plot_gaussian_fit_corr"
   ]
  },
  {
   "cell_type": "code",
   "execution_count": 2,
   "id": "4ae876fd-b30d-4630-b24a-d32118b07f92",
   "metadata": {},
   "outputs": [
    {
     "name": "stdout",
     "output_type": "stream",
     "text": [
      "Environment set to:  /sdf/home/m/majernik/slacsyncgit/../FACET2-Bmad-PyTao\n",
      "Tracking to end\n",
      "CSR off\n",
      "Overwriting lattice with setLattice() defaults\n",
      "No defaults file provided to setLattice(). Using /sdf/home/m/majernik/slacsyncgit/../FACET2-Bmad-PyTao/setLattice_configs/defaults.yml\n",
      "WARNING! No beam file is specified!\n",
      "Number of macro particles defined by input file\n",
      "Beam created, written to /sdf/home/m/majernik/slacsyncgit/../FACET2-Bmad-PyTao/beams/activeBeamFile.h5, and reinit to tao\n"
     ]
    }
   ],
   "source": [
    "#Initialize the tao object\n",
    "tao = initializeTao(\n",
    "    filePath = os.path.join(notebook_dir, '../FACET2-Bmad-PyTao')\n",
    ")\n",
    "\n",
    "# #Example usage \n",
    "# print(\n",
    "#     setLatticeAndGetMatrix(\n",
    "#         tao,\n",
    "#         \"PENT\",                            #Starting element\n",
    "#         \"DTOTR\",                           #Final element\n",
    "#         startOffset = 0.25,                #Optional: Calculation offset from starting element in meters. Positive = downstream\n",
    "#         endOffset = 0,                     #Optional: Calculation offset from ending element in meters. Positive = downstream\n",
    "#         overrideSettings = {\"Q0DkG\" : -50} #Override a single magnet, but otherwise use golden lattice\n",
    "#     )\n",
    "# )\n",
    "\n",
    "# #Import all the IP quad settings from the golden lattice. Mostly to show the naming scheme\n",
    "# quadSettingList = [\"Q5FFkG\", \"Q4FFkG\", \"Q3FFkG\", \"Q2FFkG\", \"Q1FFkG\", \"Q0FFkG\", \"Q0DkG\", \"Q1DkG\", \"Q2DkG\"]\n",
    "# goldenLatticeConfig = loadConfig(os.path.join(notebook_dir, '../FACET2-Bmad-PyTao/setLattice_configs/defaults.yml'))\n",
    "# goldenLatticeMagnetSettings = {ele : goldenLatticeConfig[ele] for ele in quadSettingList}\n",
    "# print(goldenLatticeMagnetSettings)\n",
    "\n",
    "\n",
    "# #Example usage. Assert every magnet value\n",
    "# print(\n",
    "#     setLatticeAndGetMatrix(\n",
    "#         tao,\n",
    "#         \"PENT\",\n",
    "#         \"DTOTR\",\n",
    "#         startOffset = 0.25,\n",
    "#         endOffset = 0,\n",
    "#         overrideSettings = goldenLatticeMagnetSettings\n",
    "#     )\n",
    "# )"
   ]
  },
  {
   "cell_type": "code",
   "execution_count": 3,
   "id": "8872532e-0c06-477b-96f3-c505682d13b8",
   "metadata": {},
   "outputs": [],
   "source": [
    "dsN = \"12813\"\n",
    "experiment = \"E300\"\n",
    "ds = DATASET(\"/sdf/data/facet/nas/nas-li20-pm00/E300/2025/20250510\", experiment, dsN, pathOverride = True)"
   ]
  },
  {
   "cell_type": "code",
   "execution_count": 4,
   "id": "c2d1dfdf-99de-421e-9311-f3b3ff9df746",
   "metadata": {},
   "outputs": [],
   "source": [
    "# Q5FF : LGPS 3011\n",
    "# Q4FF : LGPS 3311\n",
    "# Q3FF : LGPS 3151\n",
    "# Q2FF : LGPS 1910\n",
    "# Q1FF : LGPS 3204\n",
    "# Q0FF : LGPS 3031\n",
    "# Q0D  : LGPS 3141\n",
    "# Q1D  : LGPS 3261\n",
    "# Q2D  : LGPS 3091\n",
    "\n",
    "\n",
    "#ds.scalarLists()\n",
    "#ds.PVsInList('nonBSA_List_S20Magnets')\n",
    "shotNumber = 0\n",
    "\n",
    "daqFFSettings = {\n",
    " \"Q5FFkG\" : ds.getScalar('nonBSA_List_S20Magnets', \"LI20:LGPS:3011:BACT\")[shotNumber],  \n",
    " \"Q4FFkG\" : ds.getScalar('nonBSA_List_S20Magnets', \"LI20:LGPS:3311:BACT\")[shotNumber],  \n",
    " \"Q3FFkG\" : ds.getScalar('nonBSA_List_S20Magnets', \"LI20:LGPS:3151:BACT\")[shotNumber],  \n",
    " \"Q2FFkG\" : ds.getScalar('nonBSA_List_S20Magnets', \"LI20:LGPS:1910:BACT\")[shotNumber],  \n",
    " \"Q1FFkG\" : ds.getScalar('nonBSA_List_S20Magnets', \"LI20:LGPS:3204:BACT\")[shotNumber],  \n",
    " \"Q0FFkG\" : ds.getScalar('nonBSA_List_S20Magnets', \"LI20:LGPS:3031:BACT\")[shotNumber],  \n",
    " \"Q0DkG\"  : ds.getScalar('nonBSA_List_S20Magnets', \"LI20:LGPS:3141:BACT\")[shotNumber],  \n",
    " \"Q1DkG\"  : ds.getScalar('nonBSA_List_S20Magnets', \"LI20:LGPS:3261:BACT\")[shotNumber],  \n",
    " \"Q2DkG\"  : ds.getScalar('nonBSA_List_S20Magnets', \"LI20:LGPS:3091:BACT\")[shotNumber], \n",
    "}"
   ]
  },
  {
   "cell_type": "code",
   "execution_count": 6,
   "id": "236fc50d-1bcd-41a9-8adf-a562bf1b3f13",
   "metadata": {},
   "outputs": [
    {
     "data": {
      "text/html": [
       "<style type=\"text/css\">\n",
       "</style>\n",
       "<table id=\"T_a530c\">\n",
       "  <thead>\n",
       "  </thead>\n",
       "  <tbody>\n",
       "    <tr>\n",
       "      <td id=\"T_a530c_row0_col0\" class=\"data row0 col0\" >-3.699820</td>\n",
       "      <td id=\"T_a530c_row0_col1\" class=\"data row0 col1\" >-0.934921</td>\n",
       "      <td id=\"T_a530c_row0_col2\" class=\"data row0 col2\" >0.000000</td>\n",
       "      <td id=\"T_a530c_row0_col3\" class=\"data row0 col3\" >0.000000</td>\n",
       "      <td id=\"T_a530c_row0_col4\" class=\"data row0 col4\" >0.000000</td>\n",
       "      <td id=\"T_a530c_row0_col5\" class=\"data row0 col5\" >0.000000</td>\n",
       "    </tr>\n",
       "    <tr>\n",
       "      <td id=\"T_a530c_row1_col0\" class=\"data row1 col0\" >-0.312639</td>\n",
       "      <td id=\"T_a530c_row1_col1\" class=\"data row1 col1\" >-0.349285</td>\n",
       "      <td id=\"T_a530c_row1_col2\" class=\"data row1 col2\" >0.000000</td>\n",
       "      <td id=\"T_a530c_row1_col3\" class=\"data row1 col3\" >0.000000</td>\n",
       "      <td id=\"T_a530c_row1_col4\" class=\"data row1 col4\" >0.000000</td>\n",
       "      <td id=\"T_a530c_row1_col5\" class=\"data row1 col5\" >0.000000</td>\n",
       "    </tr>\n",
       "    <tr>\n",
       "      <td id=\"T_a530c_row2_col0\" class=\"data row2 col0\" >0.000000</td>\n",
       "      <td id=\"T_a530c_row2_col1\" class=\"data row2 col1\" >0.000000</td>\n",
       "      <td id=\"T_a530c_row2_col2\" class=\"data row2 col2\" >-1.968649</td>\n",
       "      <td id=\"T_a530c_row2_col3\" class=\"data row2 col3\" >-0.495988</td>\n",
       "      <td id=\"T_a530c_row2_col4\" class=\"data row2 col4\" >0.000000</td>\n",
       "      <td id=\"T_a530c_row2_col5\" class=\"data row2 col5\" >0.055920</td>\n",
       "    </tr>\n",
       "    <tr>\n",
       "      <td id=\"T_a530c_row3_col0\" class=\"data row3 col0\" >-0.000000</td>\n",
       "      <td id=\"T_a530c_row3_col1\" class=\"data row3 col1\" >0.000000</td>\n",
       "      <td id=\"T_a530c_row3_col2\" class=\"data row3 col2\" >-0.133189</td>\n",
       "      <td id=\"T_a530c_row3_col3\" class=\"data row3 col3\" >-0.541519</td>\n",
       "      <td id=\"T_a530c_row3_col4\" class=\"data row3 col4\" >0.000000</td>\n",
       "      <td id=\"T_a530c_row3_col5\" class=\"data row3 col5\" >0.006000</td>\n",
       "    </tr>\n",
       "    <tr>\n",
       "      <td id=\"T_a530c_row4_col0\" class=\"data row4 col0\" >-0.000000</td>\n",
       "      <td id=\"T_a530c_row4_col1\" class=\"data row4 col1\" >-0.000000</td>\n",
       "      <td id=\"T_a530c_row4_col2\" class=\"data row4 col2\" >0.004364</td>\n",
       "      <td id=\"T_a530c_row4_col3\" class=\"data row4 col3\" >-0.027306</td>\n",
       "      <td id=\"T_a530c_row4_col4\" class=\"data row4 col4\" >1.000000</td>\n",
       "      <td id=\"T_a530c_row4_col5\" class=\"data row4 col5\" >-0.000006</td>\n",
       "    </tr>\n",
       "    <tr>\n",
       "      <td id=\"T_a530c_row5_col0\" class=\"data row5 col0\" >0.000000</td>\n",
       "      <td id=\"T_a530c_row5_col1\" class=\"data row5 col1\" >0.000000</td>\n",
       "      <td id=\"T_a530c_row5_col2\" class=\"data row5 col2\" >0.000000</td>\n",
       "      <td id=\"T_a530c_row5_col3\" class=\"data row5 col3\" >0.000000</td>\n",
       "      <td id=\"T_a530c_row5_col4\" class=\"data row5 col4\" >0.000000</td>\n",
       "      <td id=\"T_a530c_row5_col5\" class=\"data row5 col5\" >1.000000</td>\n",
       "    </tr>\n",
       "  </tbody>\n",
       "</table>\n"
      ],
      "text/plain": [
       "<pandas.io.formats.style.Styler at 0x7f200cd33a70>"
      ]
     },
     "metadata": {},
     "output_type": "display_data"
    }
   ],
   "source": [
    "transportMatrix = setLatticeAndGetMatrix(\n",
    "    tao,\n",
    "    \"PENT\",\n",
    "    \"DTOTR\",\n",
    "    startOffset = 0.0,\n",
    "    endOffset = 0.0,\n",
    "    overrideSettings = daqFFSettings\n",
    ")\n",
    "\n",
    "displayMatrix(transportMatrix)"
   ]
  },
  {
   "cell_type": "code",
   "execution_count": null,
   "id": "a38eb1b3-3b1d-472c-86e8-cc1e6dd99c11",
   "metadata": {},
   "outputs": [],
   "source": []
  }
 ],
 "metadata": {
  "kernelspec": {
   "display_name": "Python 3 (ipykernel)",
   "language": "python",
   "name": "python3"
  },
  "language_info": {
   "codemirror_mode": {
    "name": "ipython",
    "version": 3
   },
   "file_extension": ".py",
   "mimetype": "text/x-python",
   "name": "python",
   "nbconvert_exporter": "python",
   "pygments_lexer": "ipython3",
   "version": "3.12.2"
  }
 },
 "nbformat": 4,
 "nbformat_minor": 5
}
