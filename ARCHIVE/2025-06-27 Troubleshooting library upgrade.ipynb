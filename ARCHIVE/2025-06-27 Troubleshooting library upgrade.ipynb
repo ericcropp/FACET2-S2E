{
 "cells": [
  {
   "cell_type": "code",
   "execution_count": 1,
   "id": "1469783b-0200-4b3e-af15-952584d96a16",
   "metadata": {},
   "outputs": [
    {
     "name": "stdout",
     "output_type": "stream",
     "text": [
      "0.5.3\n",
      "0.10.1\n"
     ]
    }
   ],
   "source": [
    "import pytao\n",
    "print(pytao.__version__)\n",
    "\n",
    "import pmd_beamphysics\n",
    "print(pmd_beamphysics.__version__)"
   ]
  },
  {
   "cell_type": "code",
   "execution_count": 2,
   "id": "8cf8c5b5-b9f5-4f52-8268-c7500cf167a0",
   "metadata": {},
   "outputs": [],
   "source": [
    "#Import all the UTILITY functions\n",
    "from UTILITY_quickstart import *"
   ]
  },
  {
   "cell_type": "code",
   "execution_count": 3,
   "id": "72b907ca-3d0a-4e73-9476-077179b5dd46",
   "metadata": {},
   "outputs": [
    {
     "name": "stdout",
     "output_type": "stream",
     "text": [
      "Environment set to:  /Users/nmajik/Documents/SLAC/FACET2-S2E\n",
      "CSR off\n",
      "Overwriting lattice with setLattice() defaults\n",
      "No defaults file provided to setLattice(). Using /Users/nmajik/Documents/SLAC/FACET2-S2E/setLattice_configs/defaults.yml\n",
      "Running Impact\n",
      "\t Impact: Autophasing\n",
      "\t Impact: Distgen\n",
      "\t Impact: Tracking\n",
      "Running Impact-T in /Users/nmajik/Documents/SLAC/FACET2-S2E/impact/tmpii7b6bde\n",
      "/opt/homebrew/anaconda3/envs/bmad2025-06-27/bin/ImpactTexe\n",
      "writing 10000 particles to /Users/nmajik/Documents/SLAC/FACET2-S2E/impact/tmpii7b6bde/partcl.data\n",
      "Cathode start with cathode_kinetic_energy_ref = 1.0 eV\n",
      "Cathode start: Replaced Np with 10000 according to initial particles\n",
      "Cathode start: Replaced Bkenergy with 1.0 according to initial particles\n",
      "Cathode start: Replaced Temission with 6.97502773839391e-12 according to initial particles\n",
      "Cathode start: Replaced Tini with -3.4942219079267073e-12 according to initial particles\n",
      "Setting total charge to 1.8e-09 C\n",
      " !-----------------------------------------------------------\n",
      " ! IMPACT-T Parallel Beam Dynamics Tracking Code: V3.0\n",
      " ! Copyright of The Regents of the University of California\n",
      " !-----------------------------------------------------------\n",
      " nblem:           28          28\n",
      " pass setting up lattice...\n",
      " check randomness:            0  0.30440529327431320     \n",
      " avgpts, jlow, and jhigh:        10000           1       10000\n",
      " sumx1,sumy1:   -4.5672946932732739E-004   3.0148945298505132E-004\n",
      " pass generating initial distribution...\n",
      " tstop:    4.2000000000000002     \n",
      " i,t,<z>:            1  -3.4942219079267073E-012   0.0000000000000000     \n",
      " zmin,zmax:   -4.1368616623155996E-006  -1.0164395367051603E-020\n",
      " i,t,<z>:            2  -3.4767843385807225E-012  -2.0724093426836658E-006\n",
      " time:    0.0000000000000000, elapsed: 47.33347511291504Finished.9055, elapsed: 47.284637928009034631356\n",
      "Loaded fort 18 : Time and energy\n",
      "Loaded fort 24 : RMS X information\n",
      "Loaded fort 25 : RMS Y information\n",
      "Loaded fort 26 : RMS Z information\n",
      "Loaded fort 27 : Max amplitude information\n",
      "Loaded fort 28 : Load balance and loss diagnostics\n",
      "Loaded fort 29 : Cube root of third moments of the beam distribution\n",
      "Loaded fort 30 : Fourth root of the fourth moments of the beam distribution\n",
      "Loaded fort 32 : Covariance matrix of the beam distribution\n",
      "Loaded fort 60 : Slice information of the initial distribution\n",
      "Loaded fort 70 : Slice information of the final distribution\n",
      "Loading particles\n",
      "Loaded fort 40 : initial particle distribution at t = 0\n",
      "Loaded fort 50 : final particle distribution projected to the centroid location of the bunch\n",
      "Loaded write beam particles PR10241 fort.102\n",
      "Loaded write beam particles L0AFEND fort.103\n",
      "Converting z to t according to cathode_kinetic_energy_ref = 1.0 eV\n",
      "Converted initial_particles to ParticleGroup\n",
      "Converted final_particles to ParticleGroup\n",
      "Converted PR10241 to ParticleGroup\n",
      "Converted L0AFEND to ParticleGroup\n",
      "Beam created, written to /Users/nmajik/Documents/SLAC/FACET2-S2E/beams/activeBeamFile.h5, and reinit to tao\n"
     ]
    }
   ],
   "source": [
    "#Import all the UTILITY functions\n",
    "from UTILITY_quickstart import *\n",
    "\n",
    "#Load a default configuration\n",
    "importedDefaultSettings = loadConfig(\"setLattice_configs/2024-10-22_oneBunch_baseline.yml\")\n",
    "#importedDefaultSettings = importedDefaultSettings | { \"centerBC14\" : False, \"centerBEGBC20\" : False}\n",
    "\n",
    "\n",
    "\n",
    "#Initialize tao object\n",
    "tao = initializeTao(\n",
    "    csrTF = False,\n",
    "\n",
    "    #Commands to start and run IMPACT. Overwriting some default settings, just to demonstrate\n",
    "    runImpactTF = True,\n",
    "    numMacroParticles = 1e4,\n",
    "    impactChargepC = 1800,\n",
    "    impactGridCount = 8\n",
    ")\n",
    "\n",
    "# tao = initializeTao(\n",
    "#     csrTF = False,\n",
    "    \n",
    "# )"
   ]
  },
  {
   "cell_type": "code",
   "execution_count": 4,
   "id": "c92d0f45-0b0a-416e-b8e2-311a08e4eecb",
   "metadata": {},
   "outputs": [
    {
     "data": {
      "text/plain": [
       "np.float64(1.8e-09)"
      ]
     },
     "execution_count": 4,
     "metadata": {},
     "output_type": "execute_result"
    }
   ],
   "source": [
    "trackBeam(tao, trackEnd = \"L0BFEND\", **importedDefaultSettings)\n",
    "(getBeamAtElement(tao, \"L0AFEND\")).charge"
   ]
  },
  {
   "cell_type": "code",
   "execution_count": 5,
   "id": "c699c717-3e73-4684-affa-326aaef05b8c",
   "metadata": {},
   "outputs": [],
   "source": [
    "# allAssertedPhases = []\n",
    "# meanEnergy = []\n",
    "# evalElement = \"L0BFEND\"\n",
    "\n",
    "# for assertedPhaseDeg in np.arange(-30, 30, 2):\n",
    "#     tao.cmd(f\"set ele L0BF PHI0 = {assertedPhaseDeg/360}\")\n",
    "    \n",
    "#     trackBeam(tao, trackEnd = evalElement, **importedDefaultSettings)\n",
    "\n",
    "#     P = getBeamAtElement(tao, evalElement)\n",
    "\n",
    "#     allAssertedPhases.append(assertedPhaseDeg)\n",
    "#     meanEnergy.append( P[\"mean_energy\"] ) \n",
    "\n",
    "# plt.scatter( allAssertedPhases, meanEnergy )\n",
    "\n",
    "# #Back to nominal\n",
    "# tao.cmd(f\"set ele L0BF PHI0 = {-15.0/360}\")"
   ]
  },
  {
   "cell_type": "code",
   "execution_count": 6,
   "id": "9d6958ed-0c21-4c4b-8c9d-964bb93a2fd9",
   "metadata": {},
   "outputs": [],
   "source": [
    "# allAssertedPhases = []\n",
    "# meanEnergy = []\n",
    "\n",
    "# evalElement = \"ENDL1F\"\n",
    "\n",
    "# for assertedPhaseDeg in np.arange(-30, 30, 3):\n",
    "#     setLinacPhase(tao, \"L1\", assertedPhaseDeg)\n",
    "    \n",
    "#     trackBeam(tao, trackEnd = evalElement, **importedDefaultSettings)\n",
    "\n",
    "#     P = getBeamAtElement(tao, evalElement)\n",
    "\n",
    "#     allAssertedPhases.append(assertedPhaseDeg)\n",
    "#     meanEnergy.append( P[\"mean_energy\"] ) \n",
    "\n",
    "# plt.scatter( allAssertedPhases, meanEnergy )\n",
    "\n",
    "# #Back to nominal\n",
    "# setLinacPhase(tao, \"L1\", -20)"
   ]
  },
  {
   "cell_type": "code",
   "execution_count": 7,
   "id": "28694fa5-af6e-45c6-b11b-beeaee92c63a",
   "metadata": {},
   "outputs": [],
   "source": [
    "# allAssertedPhases = []\n",
    "# meanEnergy = []\n",
    "\n",
    "# evalElement = \"ENDL2F\"\n",
    "\n",
    "# for assertedPhaseDeg in np.arange(-30, 30, 3):\n",
    "#     setLinacPhase(tao, \"L2\", assertedPhaseDeg)\n",
    "    \n",
    "#     trackBeam(tao, trackEnd = evalElement, **importedDefaultSettings)\n",
    "\n",
    "#     P = getBeamAtElement(tao, evalElement)\n",
    "\n",
    "#     allAssertedPhases.append(assertedPhaseDeg)\n",
    "#     meanEnergy.append( P[\"mean_energy\"] ) \n",
    "\n",
    "# plt.scatter( allAssertedPhases, meanEnergy )\n",
    "\n",
    "# #Back to nominal\n",
    "# setLinacPhase(tao, \"L2\", -38)"
   ]
  },
  {
   "cell_type": "code",
   "execution_count": 8,
   "id": "43242537-7dd6-4790-9ea2-1155f5f1d475",
   "metadata": {},
   "outputs": [],
   "source": [
    "# allAssertedPhases = []\n",
    "# meanEnergy = []\n",
    "\n",
    "# evalElement = \"BEGBC20\"\n",
    "\n",
    "# for assertedPhaseDeg in np.arange(-30, 30, 3):\n",
    "#     setLinacPhase(tao, \"L3\", assertedPhaseDeg)\n",
    "    \n",
    "#     trackBeam(tao, trackEnd = evalElement, **importedDefaultSettings)\n",
    "\n",
    "#     P = getBeamAtElement(tao, evalElement)\n",
    "\n",
    "#     allAssertedPhases.append(assertedPhaseDeg)\n",
    "#     meanEnergy.append( P[\"mean_energy\"] ) \n",
    "\n",
    "# plt.scatter( allAssertedPhases, meanEnergy )\n",
    "\n",
    "# #Back to nominal\n",
    "# setLinacPhase(tao, \"L3\", 0.0)"
   ]
  },
  {
   "cell_type": "code",
   "execution_count": 9,
   "id": "f96bddfd-ce1b-44ff-931d-d0c99d28bee5",
   "metadata": {},
   "outputs": [
    {
     "name": "stdout",
     "output_type": "stream",
     "text": [
      "Loaded /Users/nmajik/Documents/SLAC/FACET2-S2E/beams/activeBeamFile.h5\n",
      "Set track_start = L0AFEND, track_end = ENDL2F\n",
      "Tracking!\n",
      "trackBeam() exiting\n"
     ]
    }
   ],
   "source": [
    "evalElement = \"ENDL2F\"\n",
    "\n",
    "\n",
    "\n",
    "trackBeam(tao, trackEnd = evalElement, verbose = True, **importedDefaultSettings)\n",
    "\n",
    "P = getBeamAtElement(tao, evalElement)"
   ]
  },
  {
   "cell_type": "code",
   "execution_count": 10,
   "id": "8ac8c4d9-efae-44d8-bf9a-ac71e388191b",
   "metadata": {},
   "outputs": [
    {
     "name": "stdout",
     "output_type": "stream",
     "text": [
      "Loaded /Users/nmajik/Documents/SLAC/FACET2-S2E/beams/activeBeamFile.h5\n",
      "Set track_start = L0AFEND, track_end = BEGBC20\n",
      "Set track_end = BEGBC14_1\n",
      "Tracking!\n",
      "Beam centered at BEGBC14 written to /Users/nmajik/Documents/SLAC/FACET2-S2E/beams/patchBeamFile.h5\n",
      "Loaded /Users/nmajik/Documents/SLAC/FACET2-S2E/beams/patchBeamFile.h5\n",
      "Set track_start = BEGBC14_1, track_end = BEGBC20\n",
      "Tracking!\n",
      "trackBeam() exiting\n"
     ]
    }
   ],
   "source": [
    "evalElement = \"BEGBC20\"\n",
    "\n",
    "\n",
    "\n",
    "trackBeam(tao, trackEnd = evalElement, verbose = True, **importedDefaultSettings)\n",
    "\n",
    "P = getBeamAtElement(tao, evalElement)"
   ]
  },
  {
   "cell_type": "code",
   "execution_count": 11,
   "id": "892c1ba0-4b91-4a45-8cbf-dc647077373c",
   "metadata": {},
   "outputs": [
    {
     "data": {
      "image/png": "[encoded data removed]",
      "text/plain": [
       "<Figure size 640x480 with 3 Axes>"
      ]
     },
     "metadata": {},
     "output_type": "display_data"
    },
    {
     "data": {
      "image/png": "[encoded data removed]",
      "text/plain": [
       "<Figure size 640x480 with 3 Axes>"
      ]
     },
     "metadata": {},
     "output_type": "display_data"
    }
   ],
   "source": [
    "P = getBeamAtElement(tao, \"BEGBC20\")\n",
    "\n",
    "display(plotMod(P, 'z', 'pz', bins=300))"
   ]
  },
  {
   "cell_type": "code",
   "execution_count": 12,
   "id": "09db8fd5-2bb3-41e4-9b7b-d9ad94bb6e53",
   "metadata": {},
   "outputs": [
    {
     "data": {
      "text/plain": [
       "['# Values shown are for the Downstream End of each Element (Girder elements shown at ref point):',\n",
       " '# Index  name       key                       s       l    beta   phi_a    eta   orbit    beta   phi_b    eta   orbit  Track',\n",
       " '#                                                             a   [2pi]      x  x [mm]       b   [2pi]      y  y [mm]  State',\n",
       " '      3  BEGINJ     Marker                0.000   0.000    0.14  -0.000   0.00   0.000    0.37  -0.000   0.00   0.000  Alive',\n",
       " '     28  DLFDAF     Marker                1.091   0.000   14.22   0.360   0.00   0.000   12.16   0.414   0.00   0.000  Alive',\n",
       " '     33  L0AFMID    Marker                2.580   0.000   36.51   0.369   0.00   0.000   35.52   0.424   0.00   0.000  Alive',\n",
       " '     35  OUTCPAF    Marker                4.067   0.000   48.44   0.375   0.00   0.000   50.68   0.430   0.00   0.000  Alive',\n",
       " '     37  L0AFEND    Marker                4.127   0.000   48.83   0.375   0.00   0.000   51.21   0.430   0.00   0.000  Alive',\n",
       " '     38  L0AFWAKE   Marker                4.127   0.000   48.83   0.375   0.00   0.000   51.21   0.430   0.00   0.000  Alive',\n",
       " '     39  FLNGAF2    Marker                4.127   0.000   48.83   0.375   0.00   0.000   51.21   0.430   0.00   0.000  Alive',\n",
       " '     50  DLFDBF     Marker                4.919   0.000   93.15   0.377   0.00   0.000   18.15   0.434   0.00   0.000  Alive',\n",
       " '     55  L0BFMID    Marker                6.408   0.000   26.03   0.381   0.00   0.000    0.81   0.497   0.00   0.000  Alive',\n",
       " '     60  OUTCPBF    Marker                7.895   0.000    0.27   0.476   0.00   0.000    7.33   0.893   0.00   0.000  Alive',\n",
       " '     62  L0BFEND    Marker                7.956   0.000    0.15   0.526   0.00   0.000    8.11   0.894   0.00   0.000  Alive',\n",
       " '     63  L0BFWAKE   Marker                7.956   0.000    0.15   0.526   0.00   0.000    8.11   0.894   0.00   0.000  Alive',\n",
       " '     64  FLNGBF2    Marker                7.956   0.000    0.15   0.526   0.00   0.000    8.11   0.894   0.00   0.000  Alive',\n",
       " '     65  ENDINJ     Marker                7.956   0.000    0.15   0.526   0.00   0.000    8.11   0.894   0.00   0.000  Alive',\n",
       " '     66  BEGDL10    Marker                7.956   0.000    0.15   0.526   0.00   0.000    8.11   0.894   0.00   0.000  Alive',\n",
       " '     72  IM10431    Marker                8.182   0.000    0.43   0.765   0.00   0.000    6.48   0.898   0.00   0.000  Alive',\n",
       " '     78  LH10BEG    Marker                8.634   0.000    2.23   0.821   0.00   0.000    2.13   0.923   0.00   0.000  Alive',\n",
       " '     86  HTRUNDF    Marker                9.444   0.000    1.93   0.885  -0.04   0.000    1.76   0.990   0.00   0.000  Alive',\n",
       " '     94  LH10END    Marker               10.248   0.000    2.31   0.948   0.00  -0.000    1.79   1.062   0.00   0.000  Alive',\n",
       " '    120  WS10561    Marker               14.021   0.000    4.77   1.273  -0.00   0.000    2.89   1.262   0.00  -0.000  Alive',\n",
       " '    122  MRK0F      Marker               14.129   0.000    5.19   1.277  -0.00   0.000    2.87   1.268   0.00  -0.000  Alive',\n",
       " '    128  IM10591    Marker               14.793   0.000    8.26   1.293  -0.00   0.000    2.93   1.305   0.00  -0.000  Alive',\n",
       " '    143  BX0FBEG    Marker               16.750   0.000    2.15   1.337   0.00   0.000    9.28   1.377  -0.00  -0.000  Alive',\n",
       " '    156  CNT0F      Marker               18.718   0.000    2.28   1.853   0.00  -0.000    1.91   1.670  -0.00   0.000  Alive',\n",
       " '    157  BX0FEND    Marker               18.718   0.000    2.28   1.853   0.00  -0.000    1.91   1.670  -0.00   0.000  Alive',\n",
       " '    170  IM10791    Marker               19.733   0.000   15.97   1.882   0.00  -0.000    2.18   1.742  -0.00   0.000  Alive',\n",
       " '    174  ENDDL10    Marker               19.891   0.000   15.07   1.883   0.00  -0.000    2.61   1.753  -0.00   0.000  Alive',\n",
       " '    175  BEGL1F     Marker               19.891   0.000   15.07   1.883   0.00  -0.000    2.61   1.753  -0.00   0.000  Alive',\n",
       " '    221  L1XFEND    Marker               39.380   0.000   13.23   2.299   0.00   0.000   18.46   2.051  -0.00   0.000  Alive',\n",
       " '    224  ENDL1F     Marker               39.643   0.000   15.28   2.302   0.00   0.000   15.28   2.053  -0.00   0.000  Alive',\n",
       " '    225  BEGBC11_1  Marker               39.643   0.000   15.28   2.302   0.00   0.000   15.28   2.053  -0.00   0.000  Alive',\n",
       " '    231  BC11CBEG   Marker               40.412   0.000   16.72   2.309   0.00   0.000   10.74   2.063  -0.00   0.000  Alive',\n",
       " '    259  CNT1B      Marker               46.948   0.000    3.13   2.491   0.00  -0.000    3.38   2.261   0.00  -0.000  Alive',\n",
       " '    260  BC11CEND   Marker               46.948   0.000    3.13   2.491   0.00  -0.000    3.38   2.261   0.00  -0.000  Alive',\n",
       " '    261  ENDBC11_1  Marker               46.948   0.000    3.13   2.491   0.00  -0.000    3.38   2.261   0.00  -0.000  Alive',\n",
       " '    262  BEGBC11_2  Marker               46.948   0.000    3.13   2.491   0.00  -0.000    3.38   2.261   0.00  -0.000  Alive',\n",
       " '    271  IM11360    Marker               47.618   0.000    4.61   2.522   0.00  -0.000    2.36   2.296   0.00  -0.000  Alive',\n",
       " '    294  ENDBC11_2  Marker               53.912   0.000   56.89   2.961  -0.00   0.000    7.81   2.512   0.00  -0.000  Alive',\n",
       " '    295  BEGL2F     Marker               53.912   0.000   56.89   2.961  -0.00   0.000    7.81   2.512   0.00  -0.000  Alive',\n",
       " '    296  LI11STRT   Marker               53.912   0.000   56.89   2.961  -0.00   0.000    7.81   2.512   0.00  -0.000  Alive',\n",
       " '    310  WS11444    Marker               65.888   0.000    8.31   3.053  -0.00   0.000   33.27   2.880  -0.00   0.000  Alive',\n",
       " '    335  WS11614    Marker               81.131   0.000   33.76   3.191  -0.00   0.000   15.10   3.020  -0.00   0.000  Alive',\n",
       " '    357  WS11744    Marker              102.921   0.000   44.23   3.330   0.00  -0.000   28.96   3.135  -0.00   0.000  Alive',\n",
       " '    379  LI11END    Marker              118.478   0.000   33.10   3.404   0.00  -0.000   64.27   3.187  -0.00   0.000  Alive',\n",
       " '    380  LI12BEG    Marker              118.478   0.000   33.10   3.404   0.00  -0.000   64.27   3.187  -0.00   0.000  Alive',\n",
       " '    396  WS12214    Marker              133.353   0.000   68.63   3.448   0.00  -0.000   30.34   3.249   0.00  -0.000  Alive',\n",
       " '    488  LI12END    Marker              220.078   0.000   24.20   3.887  -0.00   0.000   47.27   3.678   0.00  -0.000  Alive',\n",
       " '    489  LI13BEG    Marker              220.078   0.000   24.20   3.887  -0.00   0.000   47.27   3.678   0.00  -0.000  Alive',\n",
       " '    594  LI13END    Marker              321.678   0.000   23.41   4.420   0.00  -0.000   44.14   4.207  -0.00   0.000  Alive',\n",
       " '    595  LI14BEG    Marker              321.678   0.000   23.41   4.420   0.00  -0.000   44.14   4.207  -0.00   0.000  Alive',\n",
       " '    669  LI14TERM   Marker              395.577   0.000   40.89   4.995  -0.00   0.000  137.28   4.640   0.00  -0.000  Alive',\n",
       " '    670  LI14TERM   Marker              395.577   0.000   40.89   4.995  -0.00   0.000  137.28   4.640   0.00  -0.000  Alive',\n",
       " '    671  ENDL2F     Marker              395.577   0.000   40.89   4.995  -0.00   0.000  137.28   4.640   0.00  -0.000  Alive',\n",
       " '    672  BEGBC14_1  Marker              395.577   0.000   40.89   4.995  -0.00   0.000  137.28   4.640   0.00  -0.000  Alive',\n",
       " '    684  ENDBC14_1  Marker              398.268   0.000   73.64   5.003  -0.00   0.000   66.65   4.645   0.00  -0.000  Alive',\n",
       " '    685  BEGBC14E   Marker              398.268   0.000   73.64   5.003  -0.00   0.000   66.65   4.645   0.00  -0.000  Alive',\n",
       " '    705  ENDBC14E   Marker              421.299   0.000    8.18   5.196   0.00   0.000    9.35   4.820  -0.00   0.000  Alive',\n",
       " '    706  BEGBC14_2  Marker              421.299   0.000    8.18   5.196   0.00   0.000    9.35   4.820  -0.00   0.000  Alive',\n",
       " '    707  CNT2B      Marker              421.299   0.000    8.18   5.196   0.00   0.000    9.35   4.820  -0.00   0.000  Alive',\n",
       " '    717  IM14890    Marker              422.458   0.000    7.72   5.219   0.00   0.000    9.85   4.840  -0.00   0.000  Alive',\n",
       " '    725  VV14940    Marker              423.017   0.000    7.51   5.231   0.00   0.000   10.16   4.848  -0.00   0.000  Alive',\n",
       " '    727  ENDBC14_2  Marker              423.296   0.000    7.76   5.237   0.00   0.000    9.90   4.853  -0.00   0.000  Alive',\n",
       " '    728  BEGL3F_1   Marker              423.296   0.000    7.76   5.237   0.00   0.000    9.90   4.853  -0.00   0.000  Alive',\n",
       " '    729  LI15BEG    Marker              423.296   0.000    7.76   5.237   0.00   0.000    9.90   4.853  -0.00   0.000  Alive',\n",
       " '    842  LI15END    Marker              524.896   0.000   11.87   5.900  -0.00   0.000   34.41   5.467   0.00  -0.000  Alive',\n",
       " '    843  LI16BEG    Marker              524.896   0.000   11.87   5.900  -0.00   0.000   34.41   5.467   0.00  -0.000  Alive',\n",
       " '    948  LI16END    Marker              626.496   0.000   13.62   6.621  -0.00  -0.000   37.40   6.176  -0.00   0.000  Alive',\n",
       " '    949  LI17BEG    Marker              626.496   0.000   13.62   6.621  -0.00  -0.000   37.40   6.176  -0.00   0.000  Alive',\n",
       " '   1054  LI17END    Marker              728.096   0.000   11.29   7.374   0.00  -0.000   32.56   6.941  -0.00   0.000  Alive',\n",
       " '   1055  LI18BEG    Marker              728.096   0.000   11.29   7.374   0.00  -0.000   32.56   6.941  -0.00   0.000  Alive',\n",
       " '   1162  WS18944    Marker              827.810   0.000   11.93   8.076  -0.00   0.000   47.43   7.646   0.00  -0.000  Alive',\n",
       " '   1167  LI18END    Marker              829.696   0.000   13.95   8.099  -0.00   0.000   39.31   7.653   0.00  -0.000  Alive',\n",
       " '   1168  LI19BEG    Marker              829.696   0.000   13.95   8.099  -0.00   0.000   39.31   7.653   0.00  -0.000  Alive',\n",
       " '   1174  WS19144    Marker              841.798   0.000   43.85   8.181   0.00   0.000    9.26   7.762  -0.00   0.000  Alive',\n",
       " '   1190  WS19244    Marker              854.142   0.000   11.85   8.270   0.00   0.000   36.70   7.881  -0.00   0.000  Alive',\n",
       " '   1206  WS19344    Marker              866.487   0.000   41.67   8.366   0.00  -0.000   10.57   7.987  -0.00   0.000  Alive',\n",
       " '   1226  MSCAVEXT   Marker              878.124   0.000   13.44   8.446   0.00  -0.000   39.05   8.086  -0.00   0.000  Alive',\n",
       " '   1227  ENDL3F_1   Marker              878.124   0.000   13.44   8.446   0.00  -0.000   39.05   8.086  -0.00   0.000  Alive',\n",
       " '   1228  BEGL3F_2   Marker              878.124   0.000   13.44   8.446   0.00  -0.000   39.05   8.086  -0.00   0.000  Alive',\n",
       " '   1262  HLAM       Marker              904.682   0.000   20.57   8.610   0.00  -0.000   34.02   8.387   0.00  -0.000  Alive',\n",
       " '   1290  IM1988     Marker              929.229   0.000   11.36   8.774  -0.00  -0.000   24.98   8.504   0.00  -0.000  Alive',\n",
       " '   1292  LI19TERM   Marker              929.537   0.000   10.93   8.778  -0.00  -0.000   24.30   8.506   0.00  -0.000  Alive',\n",
       " '   1293  ENDL3F_2   Marker              929.537   0.000   10.93   8.778  -0.00  -0.000   24.30   8.506   0.00  -0.000  Alive',\n",
       " '   1294  BEGBC20    Marker              929.537   0.000   10.93   8.778  -0.00  -0.000   24.30   8.506   0.00  -0.000  Alive',\n",
       " '   1297  CB1LE      Marker              930.600   0.000    9.66   8.795   0.01   0.000   22.07   8.513   0.00  -0.000  Alive',\n",
       " '   1301  IM2040     Marker              934.466   0.000    7.55   8.870   0.10   0.000   15.66   8.547   0.00  -0.000  Alive',\n",
       " '   1326  CB2LE      Marker              941.776   0.000   24.37   9.328  -0.12  -0.000  202.03   8.579   0.00  -0.000  Alive',\n",
       " '   1327  MSEP1E     Marker              941.776   0.000   24.37   9.328  -0.12  -0.000  202.03   8.579   0.00  -0.000  Alive',\n",
       " '   1332  AS1EL      Marker              943.288   0.000   83.00   9.334  -0.29  -0.000  130.19   8.581   0.00  -0.000  Alive',\n",
       " '   1343  AS2EL      Marker              946.101   0.000   79.95   9.338  -0.33  -0.000   17.83   8.594  -0.00  -0.000  Alive',\n",
       " '   1375  CB3LE      Marker              953.682   0.000    0.94   9.902   0.11   0.000  119.81   8.703  -0.00   0.000  Alive',\n",
       " '   1380  MCE        Marker              954.079   0.000    0.23  10.066   0.10   0.000  137.70   8.704  -0.00   0.000  Alive',\n",
       " '   1386  CB3RE      Marker              955.005   0.000    4.17  10.267   0.12   0.000   92.33   8.705  -0.00   0.000  Alive',\n",
       " '   1416  AS2ER      Marker              962.061   0.000   81.43  10.787  -0.33  -0.000   12.32   8.842  -0.00   0.000  Alive',\n",
       " '   1426  AS1ER      Marker              964.861   0.000   84.83  10.791  -0.30  -0.000   89.81   8.862  -0.00   0.000  Alive',\n",
       " '   1432  MSEP2E     Marker              966.382   0.000   24.61  10.797  -0.12  -0.000  140.66   8.863  -0.00   0.000  Alive',\n",
       " '   1436  CB2RE      Marker              968.207   0.000    7.08  10.819  -0.02  -0.000   84.09   8.866  -0.00   0.000  Alive',\n",
       " '   1459  IM2452     Marker              973.689   0.000    7.80  11.256   0.10   0.000   11.79   8.909  -0.00  -0.000  Alive',\n",
       " '   1464  CB1RE      Marker              978.621   0.000   10.71  11.347   0.00   0.000   21.78   8.959   0.00  -0.000  Alive',\n",
       " '   1465  ENDBC20    Marker              978.621   0.000   10.71  11.347   0.00   0.000   21.78   8.959   0.00  -0.000  Alive',\n",
       " '   1466  BEGFF20    Marker              978.621   0.000   10.71  11.347   0.00   0.000   21.78   8.959   0.00  -0.000  Alive',\n",
       " '   1469  MFFF       Marker              979.005   0.000   11.20  11.353   0.00   0.000   22.81   8.961   0.00  -0.000  Alive',\n",
       " '   1486  KRK        Marker              983.324   0.000   60.03  11.380   0.00   0.000    1.51   9.078   0.00  -0.000  Alive',\n",
       " '   1491  DBMARK67   Marker              984.040   0.000   61.94  11.382   0.00   0.000    1.07   9.173   0.00  -0.000  Alive',\n",
       " '   1511  ENDFF20    Marker              992.390   0.000   11.96  11.421   0.00   0.000   11.44   9.401   0.00   0.000  Alive',\n",
       " '   1512  BEGEXPT20  Marker              992.390   0.000   11.96  11.421   0.00   0.000   11.44   9.401   0.00   0.000  Alive',\n",
       " '   1514  EXTHOLE1   Marker              992.463   0.000   11.28  11.422   0.00   0.000   10.77   9.402   0.00   0.000  Alive',\n",
       " '   1518  IQMON20    Marker              992.823   0.000    8.21  11.428   0.00   0.000    7.74   9.409   0.00   0.000  Alive',\n",
       " '   1520  BEWIN1     Marker              992.883   0.000    7.75  11.429   0.00   0.000    7.29   9.410   0.00   0.000  Alive',\n",
       " '   1522  LCUBE      Marker              993.003   0.000    6.87  11.432   0.00   0.000    6.43   9.413   0.00   0.000  Alive',\n",
       " '   1524  PIC_CENT   Marker              993.723   0.000    2.79  11.458   0.00   0.000    2.48   9.442   0.00   0.000  Alive',\n",
       " '   1526  FILG       Marker              994.125   0.000    1.40  11.491   0.00   0.000    1.20   9.479  -0.00   0.000  Alive',\n",
       " '   1528  FILS       Marker              994.177   0.000    1.27  11.497   0.00   0.000    1.08   9.486  -0.00   0.000  Alive',\n",
       " '   1534  PENT       Marker              994.773   0.000    0.51  11.631  -0.00   0.000    0.50   9.637  -0.00   0.000  Alive',\n",
       " '   1535  MIP        Marker              994.773   0.000    0.51  11.631  -0.00   0.000    0.50   9.637  -0.00   0.000  Alive',\n",
       " '   1539  PEXT       Marker              995.943   0.000    3.11  11.822  -0.00   0.000    3.56   9.807  -0.00   0.000  Alive',\n",
       " '   1543  IM3255     Marker              996.893   0.000    9.20  11.851  -0.00  -0.000   10.14   9.833  -0.00   0.000  Alive',\n",
       " '   1545  BEWIN2     Marker              997.003   0.000   10.14  11.852  -0.00  -0.000   11.13   9.834  -0.00   0.000  Alive',\n",
       " '   1550  ENDEXPT20  Marker              997.183   0.000   11.77  11.855  -0.00  -0.000   12.87   9.837  -0.00  -0.000  Alive',\n",
       " '   1551  BEGSPECT20 Marker              997.183   0.000   11.77  11.855  -0.00  -0.000   12.87   9.837  -0.00  -0.000  Alive',\n",
       " '   1574  BEGPDC     Marker             1008.913   0.000    3.53  11.988  -0.00  -0.000   46.37   9.882   0.01   0.000  Alive',\n",
       " '   1576  ENDPDC     Marker             1010.273   0.000    2.55  12.063   0.00  -0.000   36.50   9.888   0.02   0.000  Alive',\n",
       " '   1578  BEGEDC     Marker             1011.403   0.000    2.84  12.132   0.00  -0.000   29.26   9.893   0.03   0.000  Alive',\n",
       " '   1580  ENDEDC     Marker             1011.903   0.000    3.30  12.158   0.00  -0.000   26.34   9.896   0.03   0.000  Alive',\n",
       " '   1584  BFLYMID    Marker             1016.213   0.000   15.42  12.262   0.00  -0.000    8.28   9.943   0.06   0.000  Alive',\n",
       " '   1586  EXTWIN     Marker             1016.443   0.000   16.48  12.264   0.00  -0.000    7.67   9.948   0.06   0.000  Alive',\n",
       " '   1595  DBMARK30   Marker             1020.108   0.000   39.04  12.287   0.00  -0.000    2.92  10.089   0.08   0.000  Alive',\n",
       " '   1596  ENDSPECT20 Marker             1020.108   0.000   39.04  12.287   0.00  -0.000    2.92  10.089   0.08   0.000  Alive',\n",
       " '   1597  END        Marker             1020.108   0.000   39.04  12.287   0.00  -0.000    2.92  10.089   0.08   0.000  Alive',\n",
       " '# Index  name       key                       s       l    beta   phi_a    eta   orbit    beta   phi_b    eta   orbit  Track',\n",
       " '#                                                             a   [2pi]      x  x [mm]       b   [2pi]      y  y [mm]  State',\n",
       " '# Values shown are for the Downstream End of each Element (Girder elements shown at ref point):']"
      ]
     },
     "execution_count": 12,
     "metadata": {},
     "output_type": "execute_result"
    }
   ],
   "source": [
    "tao.cmd(\"show lat MARKER::*\")"
   ]
  },
  {
   "cell_type": "code",
   "execution_count": 13,
   "id": "c408398a-91cf-4d2f-9d24-46c874102260",
   "metadata": {},
   "outputs": [
    {
     "data": {
      "text/plain": [
       "['Element # 1294',\n",
       " 'Element Name: BEGBC20',\n",
       " 'Key: Marker',\n",
       " 'S_start, S:    929.537145,    929.537145',\n",
       " 'Ref_time_start, Ref_time:  3.100619E-06,  3.100619E-06',\n",
       " '',\n",
       " 'Attribute values:',\n",
       " '    1  L                           =  0.0000000E+00 m',\n",
       " '    2  TILT                        =  0.0000000E+00 rad      60  TILT_TOT                    =  0.0000000E+00 rad',\n",
       " '    3  X_GAIN_ERR                  =  0.0000000E+00 m         4  Y_GAIN_ERR                  =  0.0000000E+00 m',\n",
       " '    5  CRUNCH                      =  0.0000000E+00 rad      21  CRUNCH_CALIB                =  0.0000000E+00 rad',\n",
       " '    6  NOISE                       =  0.0000000E+00          26  N_SAMPLE                    =  0.0000000E+00',\n",
       " '    7  OSC_AMPLITUDE               =  0.0000000E+00 m',\n",
       " '    8  X_GAIN_CALIB                =  0.0000000E+00 m        20  Y_GAIN_CALIB                =  0.0000000E+00 m',\n",
       " '   22  X_OFFSET_CALIB              =  0.0000000E+00 m        23  Y_OFFSET_CALIB              =  0.0000000E+00 m',\n",
       " '   24  TILT_CALIB                  =  0.0000000E+00 rad',\n",
       " '   25  DE_ETA_MEAS                 =  0.0000000E+00',\n",
       " '   27  X_DISPERSION_ERR            =  0.0000000E+00 m        28  Y_DISPERSION_ERR            =  0.0000000E+00 m',\n",
       " '   29  X_DISPERSION_CALIB          =  0.0000000E+00 m        30  Y_DISPERSION_CALIB          =  0.0000000E+00 m',\n",
       " '   34  X_PITCH                     =  0.0000000E+00 rad      55  X_PITCH_TOT                 =  0.0000000E+00 rad',\n",
       " '   35  Y_PITCH                     =  0.0000000E+00 rad      56  Y_PITCH_TOT                 =  0.0000000E+00 rad',\n",
       " '   36  X_OFFSET                    =  0.0000000E+00 m        57  X_OFFSET_TOT                =  0.0000000E+00 m',\n",
       " '   37  Y_OFFSET                    =  0.0000000E+00 m        58  Y_OFFSET_TOT                =  0.0000000E+00 m',\n",
       " '   38  Z_OFFSET                    =  0.0000000E+00 m        59  Z_OFFSET_TOT                =  0.0000000E+00 m',\n",
       " '   53  P0C                         =  9.9984356E+09 eV           BETA                        =  1.0000000E+00',\n",
       " '   54  E_TOT                       =  9.9984356E+09 eV           GAMMA                       =  1.9566450E+04',\n",
       " '   64  REF_TIME_START              =  3.1006192E-06 sec      50  DELTA_REF_TIME              =  0.0000000E+00 sec',\n",
       " '   71  X1_LIMIT                    =  0.0000000E+00 m        72  X2_LIMIT                    =  0.0000000E+00 m',\n",
       " '   73  Y1_LIMIT                    =  0.0000000E+00 m        74  Y2_LIMIT                    =  0.0000000E+00 m',\n",
       " '',\n",
       " '       TRACKING_METHOD              =  Bmad_Standard             APERTURE_AT                =  Exit_End',\n",
       " '       MAT6_CALC_METHOD             =  Auto                      APERTURE_TYPE              =  Rectangular',\n",
       " '       SPIN_TRACKING_METHOD         =  Tracking                  OFFSET_MOVES_APERTURE      =  F',\n",
       " '       PTC_INTEGRATION_TYPE         =  Matrix_Kick               LONGITUDINAL ORIENTATION   =       1',\n",
       " '                                                                 REF_SPECIES                =  Electron',\n",
       " 'No associated Wall.',\n",
       " '',\n",
       " 'Slave_status: Free',\n",
       " '',\n",
       " 'Lord_status:  Not_a_Lord',\n",
       " '',\n",
       " 'Twiss at end of element:',\n",
       " '                          A              B            Cbar                        C_mat',\n",
       " '  Beta (m)        10.93460981    24.30199455  |  -0.00000000  -0.00000000     -0.00000000  -0.00000000',\n",
       " '  Alpha            0.67025722     1.09140415  |   0.00000000  -0.00000000     -0.00000000  -0.00000000',\n",
       " '  Gamma (1/m)      0.13253740     0.09016392  |   Gamma_c =   1.00000000       Mode_Flip = F',\n",
       " '  dBeta/dpz     -184.63306023   456.32920152  |   W_a =    20.24037358',\n",
       " '  dAlpha/dpz     -22.47819627    12.56383652  |   W_b =    20.38323071',\n",
       " '  Phi (rad)       55.15684727    53.44464033            X              Y              Z',\n",
       " '  Eta (m)         -0.00001562     0.00000000    -0.00001562     0.00000000     0.03104148',\n",
       " '  Etap             0.00000012    -0.00000000     0.00000012    -0.00000000     1.00000000',\n",
       " '  dEta/ds          0.00000012    -0.00000000     0.00000012    -0.00000000     1.00000000',\n",
       " '  dEta/dpz        -0.10851150     0.00082822    -0.10851150     0.00082822     0.05442091',\n",
       " '  dEtap/dpz        0.00249899    -0.00018538     0.00249899    -0.00018538     0.00000000',\n",
       " '',\n",
       " 'Transfer Matrix : Kick  [Mat symplectic error:   0.000E+00]                      Vec0',\n",
       " '   1.0000000   0.0000000   0.0000000   0.0000000   0.0000000   0.0000000   :   0.00000E+00',\n",
       " '   0.0000000   1.0000000   0.0000000   0.0000000   0.0000000   0.0000000   :   0.00000E+00',\n",
       " '   0.0000000   0.0000000   1.0000000   0.0000000   0.0000000   0.0000000   :   0.00000E+00',\n",
       " '   0.0000000   0.0000000   0.0000000   1.0000000   0.0000000   0.0000000   :   0.00000E+00',\n",
       " '   0.0000000   0.0000000   0.0000000   0.0000000   1.0000000   0.0000000   :   0.00000E+00',\n",
       " '   0.0000000   0.0000000   0.0000000   0.0000000   0.0000000   1.0000000   :   0.00000E+00',\n",
       " '',\n",
       " 'Global Floor Coords at End of Element:',\n",
       " '                   X           Y           Z       Theta         Phi         Psi',\n",
       " 'Reference    -0.00000     0.00000  1928.64073     0.00000     0.00000     0.00000   ! Position without misalignments',\n",
       " 'Actual       -0.00000     0.00000  1928.64073     0.00000     0.00000     0.00000   ! Position with offset/pitch/tilt misalignments',\n",
       " 'delta Ref     0.00000     0.00000     0.00000     0.00000     0.00000     0.00000   ! Delta of reference with respect to last element',\n",
       " '',\n",
       " 'Tracking: Electron,   State: Alive',\n",
       " '         Position[mm] Momentum[1E-3]        Spin   |',\n",
       " '  X:      -0.00000000     0.00000000               | t_particle [sec]:        3.10061920E-06  E_tot: 9.99844E+09',\n",
       " '  Y:      -0.00000000     0.00000000               | t_part-t_ref [sec]:      7.92232510E-22  PC:    9.99844E+09',\n",
       " '  Z:       0.00000000     0.00000000               | (t_ref-t_part)*Vel [m]: -2.37505331E-13  Beta:  0.999999999']"
      ]
     },
     "execution_count": 13,
     "metadata": {},
     "output_type": "execute_result"
    }
   ],
   "source": [
    "tao.cmd(\"show ele BEGBC20 -all\")"
   ]
  },
  {
   "cell_type": "code",
   "execution_count": null,
   "id": "9e771407-a83b-4393-9030-9f36819b0422",
   "metadata": {},
   "outputs": [],
   "source": []
  },
  {
   "cell_type": "code",
   "execution_count": null,
   "id": "66e1b14c-93d2-4b59-b0ce-c72c13b1a7d3",
   "metadata": {},
   "outputs": [],
   "source": []
  },
  {
   "cell_type": "code",
   "execution_count": null,
   "id": "8a309442-f231-49a8-9292-4cf2511c142b",
   "metadata": {},
   "outputs": [],
   "source": []
  }
 ],
 "metadata": {
  "kernelspec": {
   "display_name": "Python 3 (ipykernel)",
   "language": "python",
   "name": "python3"
  },
  "language_info": {
   "codemirror_mode": {
    "name": "ipython",
    "version": 3
   },
   "file_extension": ".py",
   "mimetype": "text/x-python",
   "name": "python",
   "nbconvert_exporter": "python",
   "pygments_lexer": "ipython3",
   "version": "3.13.5"
  }
 },
 "nbformat": 4,
 "nbformat_minor": 5
}
