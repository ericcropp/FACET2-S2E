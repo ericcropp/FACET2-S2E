{
 "cells": [
  {
   "cell_type": "code",
   "execution_count": 1,
   "id": "3f861c13-4fd1-4933-8c22-5f977efa8116",
   "metadata": {},
   "outputs": [
    {
     "name": "stdout",
     "output_type": "stream",
     "text": [
      "Environment set to:  /Users/nmajik/Documents/SLAC/FACET2-Bmad-PyTao\n",
      "Tracking to end\n",
      "CSR off\n",
      "Not using setLattice(). Golden lattice\n",
      "WARNING! No beam file is specified!\n",
      "Number of macro particles defined by input file\n",
      "Beam created, written to /Users/nmajik/Documents/SLAC/FACET2-Bmad-PyTao/beams/activeBeamFile.h5, and reinit to tao\n"
     ]
    }
   ],
   "source": [
    "from UTILITY_quickstart import *\n",
    "\n",
    "tao = initializeTao(\n",
    "    loadDefaultLatticeTF = False\n",
    ")"
   ]
  },
  {
   "cell_type": "code",
   "execution_count": 2,
   "id": "a065ec7f-27d5-4b02-af8f-a3aed5f603c6",
   "metadata": {},
   "outputs": [
    {
     "data": {
      "text/plain": [
       "{'x': 0.00017541867726887,\n",
       " 'px': 0.000348031319343843,\n",
       " 'y': -9.73783534318884e-19,\n",
       " 'py': -7.35504670162019e-20,\n",
       " 'z': -7.19788317698535e-07,\n",
       " 'pz': 8.58306885885983e-15,\n",
       " 'spin': array([0., 0., 0.]),\n",
       " 'field': array([0., 0.]),\n",
       " 'phase': array([0., 0.]),\n",
       " 's': 994.772814779842,\n",
       " 't': 3.31822194497546e-06,\n",
       " 'charge': 0.0,\n",
       " 'dt_ref': 0.0,\n",
       " 'p0c': 9999999986.94688,\n",
       " 'beta': 0.9999999986944,\n",
       " 'ix_ele': 1533,\n",
       " 'state': 'Alive',\n",
       " 'direction': 1,\n",
       " 'species': 'Electron',\n",
       " 'location': 'Downstream_End'}"
      ]
     },
     "execution_count": 2,
     "metadata": {},
     "output_type": "execute_result"
    }
   ],
   "source": [
    "tao.cmd(\"set ele patch_sector20 x_offset = 1e-3\")\n",
    "tao.ele_orbit(\"PENT\")"
   ]
  },
  {
   "cell_type": "code",
   "execution_count": 3,
   "id": "0580352b-8b24-4da1-b3a1-450ca90cae15",
   "metadata": {},
   "outputs": [
    {
     "data": {
      "text/plain": [
       "{'x': 1.07665488353972e-17,\n",
       " 'px': -8.54148430787333e-19,\n",
       " 'y': -9.73783792031515e-19,\n",
       " 'py': -7.35505843412065e-20,\n",
       " 'z': -1.52790970285285e-15,\n",
       " 'pz': 8.58306885885983e-15,\n",
       " 'spin': array([0., 0., 0.]),\n",
       " 'field': array([0., 0.]),\n",
       " 'phase': array([0., 0.]),\n",
       " 's': 994.772814779842,\n",
       " 't': 3.3182219425745e-06,\n",
       " 'charge': 0.0,\n",
       " 'dt_ref': 0.0,\n",
       " 'p0c': 9999999986.94688,\n",
       " 'beta': 0.9999999986944,\n",
       " 'ix_ele': 1533,\n",
       " 'state': 'Alive',\n",
       " 'direction': 1,\n",
       " 'species': 'Electron',\n",
       " 'location': 'Downstream_End'}"
      ]
     },
     "execution_count": 3,
     "metadata": {},
     "output_type": "execute_result"
    }
   ],
   "source": [
    "tao.cmd(\"set ele patch_sector20 x_offset = 0.0\")\n",
    "tao.ele_orbit(\"PENT\")"
   ]
  },
  {
   "cell_type": "code",
   "execution_count": null,
   "id": "9e25d340-53ed-4b1d-87f2-3b49ec4ae293",
   "metadata": {},
   "outputs": [],
   "source": [
    "## As of 2025-03-26, as far as I can tell, it is not possible to add elements to an existing lattice. The only option is to directly modify the Bmad file"
   ]
  }
 ],
 "metadata": {
  "kernelspec": {
   "display_name": "Python 3 (ipykernel)",
   "language": "python",
   "name": "python3"
  },
  "language_info": {
   "codemirror_mode": {
    "name": "ipython",
    "version": 3
   },
   "file_extension": ".py",
   "mimetype": "text/x-python",
   "name": "python",
   "nbconvert_exporter": "python",
   "pygments_lexer": "ipython3",
   "version": "3.11.8"
  }
 },
 "nbformat": 4,
 "nbformat_minor": 5
}
