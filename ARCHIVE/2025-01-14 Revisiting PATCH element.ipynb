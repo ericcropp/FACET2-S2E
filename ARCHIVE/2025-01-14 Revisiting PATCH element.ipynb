{
 "cells": [
  {
   "cell_type": "code",
   "execution_count": 1,
   "id": "8faddcfb-66f7-4392-afc0-2aaa06159df4",
   "metadata": {},
   "outputs": [],
   "source": [
    "#Taking bits from \"2024-06-13 - Testing new PATCH element.ipynb\""
   ]
  },
  {
   "cell_type": "code",
   "execution_count": 2,
   "id": "c58dde8b-e4b2-4975-a8d2-197fa93838b6",
   "metadata": {},
   "outputs": [],
   "source": [
    "from UTILITY_quickstart import *"
   ]
  },
  {
   "cell_type": "markdown",
   "id": "a81c9e34-16a4-43cd-b1c2-ea48abd632b5",
   "metadata": {},
   "source": [
    "## Modifying energy"
   ]
  },
  {
   "cell_type": "code",
   "execution_count": 3,
   "id": "cdf2b370-c97c-4683-b99e-4a4d3629011f",
   "metadata": {},
   "outputs": [
    {
     "name": "stdout",
     "output_type": "stream",
     "text": [
      "Environment set to:  /Users/nmajik/Documents/SLAC/FACET2-Bmad-PyTao\n",
      "Tracking to end\n",
      "CSR off\n",
      "Overwriting lattice with setLattice() defaults\n",
      "No defaults file provided to setLattice(). Using setLattice_configs/defaults.yml\n",
      "WARNING! No beam file is specified!\n",
      "Number of macro particles defined by input file\n"
     ]
    },
    {
     "data": {
      "text/plain": [
       "{'beta_a': 0.50649204966748,\n",
       " 'alpha_a': 0.0466683356262582,\n",
       " 'gamma_a': 1.9786646882376,\n",
       " 'phi_a': 73.0782192378143,\n",
       " 'eta_a': -5.53984755575948e-06,\n",
       " 'etap_a': -1.05998552673305e-05,\n",
       " 'beta_b': 0.500627846338041,\n",
       " 'alpha_b': -0.120964597934503,\n",
       " 'gamma_b': 2.02671993053367,\n",
       " 'phi_b': 60.5521347355512,\n",
       " 'eta_b': -2.11809896530596e-18,\n",
       " 'etap_b': -2.52217362743306e-18,\n",
       " 'c_mat11': 1.24354101578855e-16,\n",
       " 'c_mat12': -2.15263057112982e-17,\n",
       " 'c_mat21': -3.33737707176956e-17,\n",
       " 'c_mat22': 4.78887427948486e-18,\n",
       " 'gamma_c': 1.0}"
      ]
     },
     "execution_count": 3,
     "metadata": {},
     "output_type": "execute_result"
    }
   ],
   "source": [
    "#Load a default configuration\n",
    "importedDefaultSettings = loadConfig(\"setLattice_configs/defaults.yml\")\n",
    "\n",
    "#Initialize tao object\n",
    "tao = initializeTao(\n",
    "    #inputBeamFilePathSuffix = importedDefaultSettings[\"inputBeamFilePathSuffix\"],\n",
    "    #numMacroParticles = 1e4,\n",
    "    #csrTF = False\n",
    ")\n",
    "\n",
    "#Set lattice to the loaded config\n",
    "setLattice(tao, **importedDefaultSettings)\n",
    "\n",
    "tao.twiss_at_s(ele = \"PENT\", s_offset = 0.0)"
   ]
  },
  {
   "cell_type": "code",
   "execution_count": 4,
   "id": "1fc4555f-d4ca-439a-8292-6f9ebaf1e238",
   "metadata": {},
   "outputs": [
    {
     "data": {
      "text/plain": [
       "['Element # 1466',\n",
       " 'Element Name: PATCH_SECTOR20',\n",
       " 'Key: Patch',\n",
       " 'S_start, S:    978.620876,    978.620876',\n",
       " 'Ref_time_start, Ref_time:  3.264345E-06,  3.264345E-06',\n",
       " '',\n",
       " 'Attribute values:',\n",
       " '    1  L                           =  0.0000000E+00 m        28  USER_SETS_LENGTH            =  F (0)',\n",
       " '    2  TILT                        =  0.0000000E+00 rad',\n",
       " '    5  FLEXIBLE                    =  F (0)                   4  REF_COORDS                  =  Exit_End (2)',\n",
       " '   29  UPSTREAM_ELE_DIR            = 1                       30  DOWNSTREAM_ELE_DIR          = 1',\n",
       " '   32  T_OFFSET                    =  0.0000000E+00 sec',\n",
       " '   34  X_PITCH                     =  0.0000000E+00 rad      35  Y_PITCH                     =  0.0000000E+00 rad',\n",
       " '   36  X_OFFSET                    =  0.0000000E+00 m        35  Y_PITCH                     =  0.0000000E+00 rad',\n",
       " '   38  Z_OFFSET                    =  0.0000000E+00 m',\n",
       " '   47  E_TOT_OFFSET                =  0.0000000E+00 eV       52  E_TOT_START                 =  9.9984356E+09 eV',\n",
       " '   48  E_TOT_SET                   =  0.0000000E+00 eV',\n",
       " '   49  P0C_SET                     =  0.0000000E+00 eV',\n",
       " '   51  P0C_START                   =  9.9984356E+09 eV           BETA_START                  =  1.0000000E+00',\n",
       " '   53  P0C                         =  9.9984356E+09 eV           BETA                        =  1.0000000E+00',\n",
       " '   54  E_TOT                       =  9.9984356E+09 eV           GAMMA                       =  1.9566450E+04',\n",
       " '   64  REF_TIME_START              =  3.2643449E-06 sec      50  DELTA_REF_TIME              =  0.0000000E+00 sec',\n",
       " '   68  CSR_DS_STEP                 =  0.0000000E+00 m',\n",
       " '   71  X1_LIMIT                    =  0.0000000E+00 m        72  X2_LIMIT                    =  0.0000000E+00 m',\n",
       " '   73  Y1_LIMIT                    =  0.0000000E+00 m        74  Y2_LIMIT                    =  0.0000000E+00 m',\n",
       " '',\n",
       " '       TRACKING_METHOD              =  Bmad_Standard             APERTURE_AT                =  Exit_End',\n",
       " '       MAT6_CALC_METHOD             =  Auto                      APERTURE_TYPE              =  Rectangular',\n",
       " '       SPIN_TRACKING_METHOD         =  Tracking                  OFFSET_MOVES_APERTURE      =  F',\n",
       " '       PTC_INTEGRATION_TYPE         =  Matrix_Kick               LONGITUDINAL ORIENTATION   =       1',\n",
       " '       CSR_METHOD                   =  Off                       REF_SPECIES                =  Electron',\n",
       " '       SPACE_CHARGE_METHOD          =  Off',\n",
       " '       FIELD_CALC                   =  Bmad_Standard',\n",
       " 'No associated Wall.',\n",
       " '',\n",
       " 'Slave_status: Free',\n",
       " '',\n",
       " 'Lord_status:  Not_a_Lord',\n",
       " '',\n",
       " 'Twiss at end of element:',\n",
       " '                          A              B            Cbar                        C_mat',\n",
       " '  Beta (m)        10.70911786    21.77599691  |   0.00000000   0.00000000     -0.00000000   0.00000000',\n",
       " '  Alpha           -0.61192017    -1.31626473  |  -0.00000000  -0.00000000      0.00000000  -0.00000000',\n",
       " '  Gamma (1/m)      0.12834356     0.12548463  |   Gamma_c =   1.00000000       Mode_Flip = F',\n",
       " '  Phi (rad)       71.29487596    56.28809600            X              Y              Z',\n",
       " '  Eta (m)          0.00003067     0.00000000     0.00003067     0.00000000     0.02404066',\n",
       " '  Etap            -0.00000006     0.00000000    -0.00000006     0.00000000    -0.00000000',\n",
       " '  dEta/ds         -0.00000006     0.00000000    -0.00000006     0.00000000    -0.00000000',\n",
       " '',\n",
       " 'Transfer Matrix : Kick  [Mat symplectic error:   0.000E+00]                      Vec0',\n",
       " '   1.0000000   0.0000000   0.0000000   0.0000000   0.0000000   0.0000000   :   0.00000E+00',\n",
       " '   0.0000000   1.0000000   0.0000000   0.0000000   0.0000000   0.0000000   :   0.00000E+00',\n",
       " '   0.0000000   0.0000000   1.0000000   0.0000000   0.0000000   0.0000000   :   0.00000E+00',\n",
       " '   0.0000000   0.0000000   0.0000000   1.0000000   0.0000000   0.0000000   :   0.00000E+00',\n",
       " '   0.0000000   0.0000000   0.0000000   0.0000000   1.0000000   0.0000000   :   0.00000E+00',\n",
       " '   0.0000000   0.0000000   0.0000000   0.0000000   0.0000000   1.0000000   :   0.00000E+00',\n",
       " '',\n",
       " 'Global Floor Coords at End of Element:',\n",
       " '                   X           Y           Z       Theta         Phi         Psi',\n",
       " 'Reference    -0.00000    -0.00000  1977.71806     0.00000     0.00000     0.00000   ! Position without misalignments',\n",
       " 'Actual       -0.00000    -0.00000  1977.71806     0.00000     0.00000     0.00000   ! Position with offset/pitch/tilt misalignments',\n",
       " 'delta Ref     0.00000     0.00000     0.00000     0.00000     0.00000     0.00000   ! Delta with respect to last element',\n",
       " '',\n",
       " 'Tracking: Electron,   State: Alive',\n",
       " '         Position[mm] Momentum[mrad]        Spin   |',\n",
       " '  X:      -0.00000000    -0.00000000               | t_particle [sec]:        3.26434490E-06  E_tot: 9.99844E+09',\n",
       " '  Y:      -0.00000000    -0.00000000               | t_part-t_ref [sec]:      8.47032947E-22  PC:    9.99844E+09',\n",
       " '  Z:      -0.00000000     0.00000000               | (t_ref-t_part)*Vel [m]: -2.53934089E-13  Beta:  0.999999999']"
      ]
     },
     "execution_count": 4,
     "metadata": {},
     "output_type": "execute_result"
    }
   ],
   "source": [
    "tao.cmd(\"show ele patch_sector20 -all\")"
   ]
  },
  {
   "cell_type": "code",
   "execution_count": 5,
   "id": "e35ce926-ca5b-4afe-8d37-e356ed2efb74",
   "metadata": {},
   "outputs": [
    {
     "data": {
      "text/plain": [
       "['Element # 1506',\n",
       " 'Element Name: Q0FF',\n",
       " 'Element Type:  \"1.625Q27.3\"',\n",
       " 'Element Alias:  \"LI20:LGPS:3151\"',\n",
       " 'Key: Quadrupole',\n",
       " 'S_start, S:    991.470780,    992.184980',\n",
       " 'Ref_time_start, Ref_time:  3.307208E-06,  3.309590E-06',\n",
       " '',\n",
       " 'Attribute values [Only non-zero values shown]:',\n",
       " '    1  L                           =  7.1420000E-01 m',\n",
       " '    4  K1                          =  5.3046210E-01 1/m^2    45  B1_GRADIENT                 = -1.7691543E+01 T/m',\n",
       " '   10  FRINGE_TYPE                 =  None (1)               11  FRINGE_AT                   =  Both_Ends (3)',\n",
       " '   13  SPIN_FRINGE_ON              =  T (1)',\n",
       " '   17  STATIC_LINEAR_MAP           =  F (0)',\n",
       " '   47  PTC_CANONICAL_COORDS        =  T (1)',\n",
       " '   53  P0C                         =  9.9984356E+09 eV           BETA                        =  1.0000000E+00',\n",
       " '   54  E_TOT                       =  9.9984356E+09 eV           GAMMA                       =  1.9566450E+04',\n",
       " '   64  REF_TIME_START              =  3.3072076E-06 sec      50  DELTA_REF_TIME              =  2.3823148E-09 sec',\n",
       " '   65  INTEGRATOR_ORDER            = 2',\n",
       " '   67  DS_STEP                     =  3.9677778E-02 m        66  NUM_STEPS                   = 18',\n",
       " '   68  CSR_DS_STEP                 =  0.0000000E+00 m',\n",
       " '   71  X1_LIMIT                    =  1.8600000E-02 m        72  X2_LIMIT                    =  1.8600000E-02 m',\n",
       " '   73  Y1_LIMIT                    =  1.8600000E-02 m        74  Y2_LIMIT                    =  1.8600000E-02 m',\n",
       " '',\n",
       " '       TRACKING_METHOD              =  Bmad_Standard             APERTURE_AT                =  Exit_End',\n",
       " '       MAT6_CALC_METHOD             =  Auto                      APERTURE_TYPE              =  Rectangular',\n",
       " '       SPIN_TRACKING_METHOD         =  Tracking                  OFFSET_MOVES_APERTURE      =  F',\n",
       " '       PTC_INTEGRATION_TYPE         =  Matrix_Kick               SYMPLECTIFY                =  F',\n",
       " '       CSR_METHOD                   =  Off                       FIELD_MASTER               =  F',\n",
       " '       SPACE_CHARGE_METHOD          =  Off                       LONGITUDINAL ORIENTATION   =       1',\n",
       " '       FIELD_CALC                   =  Bmad_Standard             REF_SPECIES                =  Electron',\n",
       " '',\n",
       " 'Slave_status: Free',\n",
       " '',\n",
       " 'Lord_status:  Not_a_Lord',\n",
       " '',\n",
       " 'Twiss at end of element:',\n",
       " '                          A              B            Cbar                        C_mat',\n",
       " '  Beta (m)        13.99893188    13.44727560  |   0.00000000   0.00000000      0.00000000   0.00000000',\n",
       " '  Alpha            5.16712611     5.12385221  |   0.00000000   0.00000000     -0.00000000  -0.00000000',\n",
       " '  Gamma (1/m)      1.97866469     2.02671993  |   Gamma_c =   1.00000000       Mode_Flip = F',\n",
       " '  Phi (rad)       71.74522528    59.05370155            X              Y              Z',\n",
       " '  Eta (m)          0.00002189     0.00000000     0.00002189     0.00000000     0.02404070',\n",
       " '  Etap            -0.00001060    -0.00000000    -0.00001060    -0.00000000    -0.00000000',\n",
       " '  dEta/ds         -0.00001060    -0.00000000    -0.00001060    -0.00000000    -0.00000000',\n",
       " '',\n",
       " 'Tracking: Electron,   State: Alive',\n",
       " '         Position[mm] Momentum[mrad]        Spin   |',\n",
       " '  X:      -0.00000000     0.00000000               | t_particle [sec]:        3.30958988E-06  E_tot: 9.99844E+09',\n",
       " '  Y:       0.00000000    -0.00000000               | t_part-t_ref [sec]:      2.11758237E-21  PC:    9.99844E+09',\n",
       " '  Z:      -0.00000000     0.00000000               | (t_ref-t_part)*Vel [m]: -6.34835222E-13  Beta:  0.999999999']"
      ]
     },
     "execution_count": 5,
     "metadata": {},
     "output_type": "execute_result"
    }
   ],
   "source": [
    "tao.cmd('show ele Q0FF')"
   ]
  },
  {
   "cell_type": "code",
   "execution_count": 8,
   "id": "3ffebe4c-cb70-4e04-a9ac-e6f59a14fbf8",
   "metadata": {},
   "outputs": [
    {
     "name": "stdout",
     "output_type": "stream",
     "text": [
      "-17.6943111452301\n",
      "0.530462103777104\n",
      "-16.8095955855976\n",
      "0.530462103777104\n"
     ]
    }
   ],
   "source": [
    "#Turns out Bmad tries recalculating the quad settings; that's the problem... it's too \"helpful\"\n",
    "tao.cmd(\"set ele patch_sector20 e_tot_set=10e9\")\n",
    "print(tao.ele_gen_attribs(\"Q0FF\")['B1_GRADIENT'])\n",
    "print(tao.ele_gen_attribs(\"Q0FF\")['K1'])\n",
    "\n",
    "tao.cmd(\"set ele patch_sector20 e_tot_set=9.5e9\")\n",
    "print(tao.ele_gen_attribs(\"Q0FF\")['B1_GRADIENT'])\n",
    "print(tao.ele_gen_attribs(\"Q0FF\")['K1'])\n",
    "\n",
    "#K1 is the fundamental thing which Bmad aims for. For example, refer to ./bmad/master/LI20.bmad and look for kq0ff to find this number"
   ]
  },
  {
   "cell_type": "code",
   "execution_count": 7,
   "id": "1451016c-fe2f-452b-9570-a98f83a7b472",
   "metadata": {},
   "outputs": [
    {
     "data": {
      "text/plain": [
       "{'beta_a': 1.29367957300252,\n",
       " 'alpha_a': 1.19062931546848,\n",
       " 'gamma_a': 1.86877664091263,\n",
       " 'phi_a': 72.2510842255657,\n",
       " 'eta_a': 6.75126265898082e-07,\n",
       " 'etap_a': -1.11414268595906e-05,\n",
       " 'beta_b': 1.73964163721403,\n",
       " 'alpha_b': 0.878443098169949,\n",
       " 'gamma_b': 1.01840645729753,\n",
       " 'phi_b': 59.559284052187,\n",
       " 'eta_b': -2.51514172985674e-18,\n",
       " 'etap_b': -3.4149976597979e-18,\n",
       " 'c_mat11': 1.06934787333643e-16,\n",
       " 'c_mat12': 8.52391803997964e-17,\n",
       " 'c_mat21': -2.30467173877116e-17,\n",
       " 'c_mat22': -1.9520131714762e-17,\n",
       " 'gamma_c': 1.0}"
      ]
     },
     "execution_count": 7,
     "metadata": {},
     "output_type": "execute_result"
    }
   ],
   "source": [
    "tao.twiss_at_s(ele = \"PENT\", s_offset = 0.0)"
   ]
  },
  {
   "cell_type": "code",
   "execution_count": 6,
   "id": "2f23941d-3084-4f11-991c-c4b578479e58",
   "metadata": {},
   "outputs": [
    {
     "data": {
      "text/plain": [
       "{'beta_a': 0.481242734417656,\n",
       " 'alpha_a': 0.0466683356234967,\n",
       " 'gamma_a': 2.08247909397029,\n",
       " 'phi_a': 73.0782192378187,\n",
       " 'eta_a': -5.83050618183382e-06,\n",
       " 'etap_a': -1.17413173779808e-05,\n",
       " 'beta_b': 0.475670869572555,\n",
       " 'alpha_b': -0.120964597934136,\n",
       " 'gamma_b': 2.13305564594513,\n",
       " 'phi_b': 60.5521347355532,\n",
       " 'eta_b': 9.69278139441152e-19,\n",
       " 'etap_b': -2.1547503905659e-18,\n",
       " 'c_mat11': 1.29918774101791e-16,\n",
       " 'c_mat12': -2.16358177316531e-17,\n",
       " 'c_mat21': -3.96267634276874e-17,\n",
       " 'c_mat22': 6.35863124495441e-18,\n",
       " 'gamma_c': 1.0}"
      ]
     },
     "execution_count": 6,
     "metadata": {},
     "output_type": "execute_result"
    }
   ],
   "source": [
    "setLattice(tao, **importedDefaultSettings)\n",
    "tao.twiss_at_s(ele = \"PENT\", s_offset = 0.0)"
   ]
  },
  {
   "cell_type": "markdown",
   "id": "53776b5c-d73a-4800-94bf-edb7cc41b800",
   "metadata": {},
   "source": [
    "## Modifying pointing"
   ]
  },
  {
   "cell_type": "code",
   "execution_count": 10,
   "id": "def2e47f-bfb4-4243-a31f-291b965ca71d",
   "metadata": {},
   "outputs": [
    {
     "name": "stdout",
     "output_type": "stream",
     "text": [
      "Environment set to:  /Users/nmajik/Documents/SLAC/FACET2-Bmad-PyTao\n",
      "Tracking to end\n",
      "CSR off\n",
      "Overwriting lattice with setLattice() defaults\n",
      "No defaults file provided to setLattice(). Using setLattice_configs/defaults.yml\n",
      "WARNING! No beam file is specified!\n",
      "Number of macro particles defined by input file\n"
     ]
    },
    {
     "data": {
      "text/plain": [
       "{'x': 1.2348477140893e-17,\n",
       " 'px': 3.1819937679076e-17,\n",
       " 'y': 3.21492733122325e-19,\n",
       " 'py': -1.35500755457602e-19,\n",
       " 'z': -1.23182358369212e-15,\n",
       " 'pz': 1.67872942538337e-14,\n",
       " 'spin': array([0., 0., 0.]),\n",
       " 'field': array([0., 0.]),\n",
       " 'phase': array([0., 0.]),\n",
       " 's': 994.772814779842,\n",
       " 't': 3.31822196931907e-06,\n",
       " 'charge': 0.0,\n",
       " 'dt_ref': 0.0,\n",
       " 'p0c': 9998435551.88587,\n",
       " 'beta': 0.999999998693992,\n",
       " 'ix_ele': 1533,\n",
       " 'state': 'Alive',\n",
       " 'direction': 1,\n",
       " 'species': 'Electron',\n",
       " 'location': 'Downstream_End'}"
      ]
     },
     "execution_count": 10,
     "metadata": {},
     "output_type": "execute_result"
    }
   ],
   "source": [
    "#Load a default configuration\n",
    "importedDefaultSettings = loadConfig(\"setLattice_configs/defaults.yml\")\n",
    "\n",
    "#Initialize tao object\n",
    "tao = initializeTao(\n",
    "    #inputBeamFilePathSuffix = importedDefaultSettings[\"inputBeamFilePathSuffix\"],\n",
    "    #numMacroParticles = 1e4,\n",
    "    #csrTF = False\n",
    ")\n",
    "\n",
    "#Set lattice to the loaded config\n",
    "setLattice(tao, **importedDefaultSettings)\n",
    "\n",
    "tao.ele_orbit(\"PENT\")"
   ]
  },
  {
   "cell_type": "code",
   "execution_count": 11,
   "id": "7bc7a869-85bf-4461-9cfd-39e022171dff",
   "metadata": {},
   "outputs": [
    {
     "data": {
      "text/plain": [
       "{'x': 0.000175959586347104,\n",
       " 'px': 0.000348074084300381,\n",
       " 'y': 3.21492470076531e-19,\n",
       " 'py': -1.3550084999996e-19,\n",
       " 'z': -7.20035939054691e-07,\n",
       " 'pz': 1.67872942538337e-14,\n",
       " 'spin': array([0., 0., 0.]),\n",
       " 'field': array([0., 0.]),\n",
       " 'phase': array([0., 0.]),\n",
       " 's': 994.772814779842,\n",
       " 't': 3.31822197172085e-06,\n",
       " 'charge': 0.0,\n",
       " 'dt_ref': 0.0,\n",
       " 'p0c': 9998435551.88587,\n",
       " 'beta': 0.999999998693992,\n",
       " 'ix_ele': 1533,\n",
       " 'state': 'Alive',\n",
       " 'direction': 1,\n",
       " 'species': 'Electron',\n",
       " 'location': 'Downstream_End'}"
      ]
     },
     "execution_count": 11,
     "metadata": {},
     "output_type": "execute_result"
    }
   ],
   "source": [
    "tao.cmd(\"set ele patch_sector20 x_offset = 1e-3\")\n",
    "tao.ele_orbit(\"PENT\")"
   ]
  },
  {
   "cell_type": "code",
   "execution_count": 12,
   "id": "0d2dcfc6-5bc2-4f96-986b-638687254123",
   "metadata": {},
   "outputs": [
    {
     "data": {
      "text/plain": [
       "{'x': 1.2348477140893e-17,\n",
       " 'px': 3.1819937679076e-17,\n",
       " 'y': 3.21492733122325e-19,\n",
       " 'py': -1.35500755457602e-19,\n",
       " 'z': -1.23182358369212e-15,\n",
       " 'pz': 1.67872942538337e-14,\n",
       " 'spin': array([0., 0., 0.]),\n",
       " 'field': array([0., 0.]),\n",
       " 'phase': array([0., 0.]),\n",
       " 's': 994.772814779842,\n",
       " 't': 3.31822196931907e-06,\n",
       " 'charge': 0.0,\n",
       " 'dt_ref': 0.0,\n",
       " 'p0c': 9998435551.88587,\n",
       " 'beta': 0.999999998693992,\n",
       " 'ix_ele': 1533,\n",
       " 'state': 'Alive',\n",
       " 'direction': 1,\n",
       " 'species': 'Electron',\n",
       " 'location': 'Downstream_End'}"
      ]
     },
     "execution_count": 12,
     "metadata": {},
     "output_type": "execute_result"
    }
   ],
   "source": [
    "tao.cmd(\"set ele patch_sector20 x_offset = 0.0\")\n",
    "tao.ele_orbit(\"PENT\")"
   ]
  },
  {
   "cell_type": "code",
   "execution_count": null,
   "id": "517e8948-5bcf-4b14-99bf-c248c0c4d0c4",
   "metadata": {},
   "outputs": [],
   "source": []
  }
 ],
 "metadata": {
  "kernelspec": {
   "display_name": "Python 3 (ipykernel)",
   "language": "python",
   "name": "python3"
  },
  "language_info": {
   "codemirror_mode": {
    "name": "ipython",
    "version": 3
   },
   "file_extension": ".py",
   "mimetype": "text/x-python",
   "name": "python",
   "nbconvert_exporter": "python",
   "pygments_lexer": "ipython3",
   "version": "3.11.8"
  }
 },
 "nbformat": 4,
 "nbformat_minor": 5
}
