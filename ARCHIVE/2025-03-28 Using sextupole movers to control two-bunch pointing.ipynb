{
 "cells": [
  {
   "cell_type": "code",
   "execution_count": 1,
   "id": "97c17893-1fcd-4077-9173-fb66dd920edd",
   "metadata": {},
   "outputs": [],
   "source": [
    "from UTILITY_quickstart import *"
   ]
  },
  {
   "cell_type": "code",
   "execution_count": 2,
   "id": "4550175c-c2c7-455a-8769-e4b72b3639c9",
   "metadata": {},
   "outputs": [],
   "source": [
    "importedDefaultSettings = loadConfig(\"setLattice_configs/2024-10-14_twoBunch.yml\")"
   ]
  },
  {
   "cell_type": "code",
   "execution_count": 3,
   "id": "cde62735-b43d-4e15-831f-e2e375d8d0d3",
   "metadata": {},
   "outputs": [
    {
     "name": "stdout",
     "output_type": "stream",
     "text": [
      "Environment set to:  /Users/nmajik/Documents/SLAC/FACET2-Bmad-PyTao\n",
      "Tracking to end\n",
      "CSR on\n",
      "Overwriting lattice with setLattice() defaults\n",
      "No defaults file provided to setLattice(). Using setLattice_configs/defaults.yml\n",
      "Number of macro particles = 100000.0\n",
      "Beam created, written to /tmp/beams/activeBeamFile_15353809695049324378.h5, and reinit to tao\n"
     ]
    }
   ],
   "source": [
    "csrTF = True\n",
    "evalElement = \"PENT\"\n",
    "#evalElement = \"BEGPDC\"\n",
    "\n",
    "\n",
    "inputBeamFilePathSuffix = importedDefaultSettings[\"inputBeamFilePathSuffix\"]\n",
    "bunchCount = importedDefaultSettings[\"bunchCount\"]\n",
    "tao = initializeTao(\n",
    "    inputBeamFilePathSuffix = inputBeamFilePathSuffix,\n",
    "    \n",
    "    csrTF = csrTF,\n",
    "    numMacroParticles=1e5,\n",
    "    scratchPath = \"/tmp\",\n",
    "    randomizeFileNames = True\n",
    ")\n",
    "\n",
    "setLattice(tao, **importedDefaultSettings)"
   ]
  },
  {
   "cell_type": "code",
   "execution_count": 4,
   "id": "3f4ba3ae-cbd6-407b-82e9-12f8dc44cb0a",
   "metadata": {},
   "outputs": [],
   "source": [
    "def getBeamVectors(P):\n",
    "    PDrive, PWitness = getDriverAndWitness(P) \n",
    "    return [ \n",
    "        np.median(PDrive.x),\n",
    "        np.median(PDrive.xp),\n",
    "        np.median(PDrive.y),\n",
    "        np.median(PDrive.yp),\n",
    "        np.median(PWitness.x),\n",
    "        np.median(PWitness.xp),\n",
    "        np.median(PWitness.y),\n",
    "        np.median(PWitness.yp)\n",
    "    ]\n",
    "    "
   ]
  },
  {
   "cell_type": "markdown",
   "id": "ca266573-6979-46d9-9f1e-e361ef325426",
   "metadata": {},
   "source": [
    "## Consider the original, unmodified config"
   ]
  },
  {
   "cell_type": "code",
   "execution_count": 5,
   "id": "70bc035e-1ce4-42a1-ac2e-0b20385a79a1",
   "metadata": {},
   "outputs": [
    {
     "name": "stdout",
     "output_type": "stream",
     "text": [
      "Loaded /tmp/beams/activeBeamFile_15353809695049324378.h5\n",
      "Set track_start = L0AFEND, track_end = end\n",
      "Tracking!\n",
      "trackBeam() exiting\n"
     ]
    },
    {
     "data": {
      "text/plain": [
       "[7.311800080222429e-06,\n",
       " -4.007904214951678e-05,\n",
       " 1.2451340872544295e-05,\n",
       " -8.575936991471964e-05,\n",
       " -2.00336652800646e-05,\n",
       " -3.423368241451779e-06,\n",
       " 7.941285863693396e-06,\n",
       " -0.00018190683957616582]"
      ]
     },
     "execution_count": 5,
     "metadata": {},
     "output_type": "execute_result"
    }
   ],
   "source": [
    "trackBeam(tao, \n",
    "          **importedDefaultSettings,\n",
    "          verbose = True\n",
    "         )\n",
    "\n",
    "P = getBeamAtElement(tao, \"PENT\")\n",
    "getBeamVectors(P)"
   ]
  },
  {
   "cell_type": "code",
   "execution_count": 6,
   "id": "13c08454-bb73-4c94-adc3-f479803a6274",
   "metadata": {},
   "outputs": [
    {
     "data": {
      "text/plain": [
       "[7.2817997957724946e-06,\n",
       " -4.0037595779413796e-05,\n",
       " 1.2452308419538527e-05,\n",
       " -8.576095658350958e-05,\n",
       " -2.002919565089196e-05,\n",
       " -3.4321163039570728e-06,\n",
       " 7.937097140298574e-06,\n",
       " -0.0001819162303863932]"
      ]
     },
     "execution_count": 6,
     "metadata": {},
     "output_type": "execute_result"
    }
   ],
   "source": [
    "PStart = getBeamAtElement( tao, \"BEGBC20\" ) \n",
    "\n",
    "makeBeamActiveBeamFile(PStart, tao = tao)\n",
    "\n",
    "trackBeam(tao, trackStart = \"BEGBC20\", **importedDefaultSettings)\n",
    "\n",
    "P = getBeamAtElement(tao, \"PENT\")\n",
    "getBeamVectors(P)"
   ]
  },
  {
   "cell_type": "markdown",
   "id": "a32ad0a1-450b-4efb-847c-897ae7adc7a0",
   "metadata": {},
   "source": [
    "## Baseline, sextupoles centered"
   ]
  },
  {
   "cell_type": "code",
   "execution_count": 7,
   "id": "e887961a-758d-4347-a4a8-20dcd0b7c7d3",
   "metadata": {},
   "outputs": [],
   "source": [
    "centerSextupolesDict = {\n",
    "    \"S1EL_xOffset\" : 0.0,\n",
    "    \"S1EL_yOffset\" : 0.0,\n",
    "    \"S2EL_xOffset\" : 0.0,\n",
    "    \"S2EL_yOffset\" : 0.0,\n",
    "    \"S2ER_xOffset\" : 0.0,\n",
    "    \"S2ER_yOffset\" : 0.0,\n",
    "    \"S1ER_xOffset\" : 0.0,\n",
    "    \"S1ER_yOffset\" : 0.0,   \n",
    "}\n",
    "\n",
    "setLattice(tao, **( importedDefaultSettings | centerSextupolesDict) )\n",
    "\n",
    "trackBeam(tao, trackStart = \"BEGBC20\", **importedDefaultSettings)\n",
    "\n",
    "P = getBeamAtElement(tao, \"PENT\")\n",
    "\n",
    "baselineVectors = getBeamVectors(P)\n",
    "baselineVectors\n",
    "\n",
    "resultsForExport = [ baselineVectors ] "
   ]
  },
  {
   "cell_type": "markdown",
   "id": "7d6ef898-9290-40c3-8ff2-42d4202838a3",
   "metadata": {},
   "source": [
    "## Perturb each mover"
   ]
  },
  {
   "cell_type": "code",
   "execution_count": 8,
   "id": "ad95d55d-0dc9-4cc6-9557-60dfd7fa7cf6",
   "metadata": {},
   "outputs": [
    {
     "name": "stdout",
     "output_type": "stream",
     "text": [
      "[-6.959261295667714e-05, -6.637147425620735e-05, -5.371072357527123e-05, -6.214012436546557e-05, -0.0002383997781339838, -0.0003047855563798381, -6.986990999762629e-05, -6.895671204035786e-05]\n",
      "[-7.919009504757702e-05, -5.9690994414452305e-05, -5.8214193821997537e-05, -8.790122404263922e-05, -0.00026958464855350226, -0.00027479885988552805, -9.211044380960166e-05, -0.0001270020424979209]\n",
      "[-0.00010013417233623923, -4.9531574413632115e-05, -5.364545361687565e-05, -6.235175520818027e-05, -0.00032698007699453937, -0.00022392688530309466, -6.994071194154933e-05, -6.895354695432786e-05]\n",
      "[-7.95586913525356e-05, -5.9588796242747774e-05, -5.046442157882798e-05, -4.2496701298658015e-05, -0.00026992712223708286, -0.00027446670548440945, -5.277025313361071e-05, -1.3299523898695042e-05]\n",
      "[-6.845577401288916e-05, -8.18678002648117e-05, -5.369922580176271e-05, -6.229235939898596e-05, -0.00024985660927741136, -0.0003373889803286598, -6.989658068436435e-05, -6.896620043171099e-05]\n",
      "[-7.880545155811606e-05, -6.056577021789527e-05, -6.0199086462615114e-05, -5.991699266992785e-05, -0.00026910448904724675, -0.0002765429702851806, -8.468318675235737e-05, -5.668878528790085e-05]\n",
      "[-8.499043601401919e-05, -5.078029689779393e-05, -5.37275661908382e-05, -6.229782850352137e-05, -0.00027974527545428625, -0.0002457856265280126, -6.994730495195193e-05, -6.896581973858342e-05]\n",
      "[-7.921939376553117e-05, -5.985620450709274e-05, -4.551240309583882e-05, -6.339556706623536e-05, -0.00026929898602158617, -0.00027591251773316527, -5.178971717458285e-05, -7.531573480943016e-05]\n"
     ]
    }
   ],
   "source": [
    "for key in centerSextupolesDict.keys():\n",
    "    setLattice(tao, **( importedDefaultSettings | centerSextupolesDict | {key : 100e-6} ) )\n",
    "\n",
    "    trackBeam(tao, trackStart = \"BEGBC20\", **importedDefaultSettings)\n",
    "    \n",
    "    P = getBeamAtElement(tao, \"PENT\")\n",
    "\n",
    "    newVectors = getBeamVectors(P)\n",
    "\n",
    "    resultsForExport.append(newVectors)\n",
    "    print( newVectors )"
   ]
  },
  {
   "cell_type": "code",
   "execution_count": 9,
   "id": "125dd2b9-1a0b-453b-a647-2c38bf3c28a8",
   "metadata": {},
   "outputs": [],
   "source": [
    "resultsForExport = np.array(resultsForExport)\n",
    "np.savetxt(\"/Users/nmajik/vectors.csv\", resultsForExport, delimiter=',')"
   ]
  },
  {
   "cell_type": "code",
   "execution_count": null,
   "id": "4c3b243c-b1ba-45e7-9401-fa96484a0472",
   "metadata": {},
   "outputs": [],
   "source": []
  }
 ],
 "metadata": {
  "kernelspec": {
   "display_name": "Python 3 (ipykernel)",
   "language": "python",
   "name": "python3"
  },
  "language_info": {
   "codemirror_mode": {
    "name": "ipython",
    "version": 3
   },
   "file_extension": ".py",
   "mimetype": "text/x-python",
   "name": "python",
   "nbconvert_exporter": "python",
   "pygments_lexer": "ipython3",
   "version": "3.11.8"
  }
 },
 "nbformat": 4,
 "nbformat_minor": 5
}
