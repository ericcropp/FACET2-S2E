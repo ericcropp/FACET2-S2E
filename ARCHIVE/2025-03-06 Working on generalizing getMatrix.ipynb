{
 "cells": [
  {
   "cell_type": "code",
   "execution_count": 1,
   "id": "c3ae84c9-196b-4dda-aa33-16057915668a",
   "metadata": {},
   "outputs": [
    {
     "name": "stdout",
     "output_type": "stream",
     "text": [
      "Environment set to:  /Users/nmajik/Documents/SLAC/FACET2-Bmad-PyTao\n",
      "Tracking to end\n",
      "CSR off\n",
      "Overwriting lattice with setLattice() defaults\n",
      "No defaults file provided to setLattice(). Using setLattice_configs/defaults.yml\n",
      "WARNING! No beam file is specified!\n",
      "Number of macro particles defined by input file\n",
      "Beam created, written to /Users/nmajik/Documents/SLAC/FACET2-Bmad-PyTao/beams/activeBeamFile.h5, and reinit to tao\n"
     ]
    }
   ],
   "source": [
    "from UTILITY_quickstart import *\n",
    "\n",
    "#Load a the settings for a known-good lattice\n",
    "#importedDefaultSettings = loadConfig(\"setLattice_configs/2024-10-22_oneBunch_baseline.yml\")\n",
    "\n",
    "#Initialize Bmad/Tao\n",
    "tao = initializeTao()"
   ]
  },
  {
   "cell_type": "code",
   "execution_count": 2,
   "id": "b4ab181d-c61e-49ba-a07b-57e592ad00ed",
   "metadata": {},
   "outputs": [
    {
     "data": {
      "text/html": [
       "<style type=\"text/css\">\n",
       "</style>\n",
       "<table id=\"T_e20e2\">\n",
       "  <thead>\n",
       "  </thead>\n",
       "  <tbody>\n",
       "    <tr>\n",
       "      <td id=\"T_e20e2_row0_col0\" class=\"data row0 col0\" >1.389825</td>\n",
       "      <td id=\"T_e20e2_row0_col1\" class=\"data row0 col1\" >-6.559187</td>\n",
       "      <td id=\"T_e20e2_row0_col2\" class=\"data row0 col2\" >0.000000</td>\n",
       "      <td id=\"T_e20e2_row0_col3\" class=\"data row0 col3\" >-0.000000</td>\n",
       "      <td id=\"T_e20e2_row0_col4\" class=\"data row0 col4\" >0.000000</td>\n",
       "      <td id=\"T_e20e2_row0_col5\" class=\"data row0 col5\" >0.000000</td>\n",
       "    </tr>\n",
       "    <tr>\n",
       "      <td id=\"T_e20e2_row1_col0\" class=\"data row1 col0\" >0.204433</td>\n",
       "      <td id=\"T_e20e2_row1_col1\" class=\"data row1 col1\" >-0.245294</td>\n",
       "      <td id=\"T_e20e2_row1_col2\" class=\"data row1 col2\" >0.000000</td>\n",
       "      <td id=\"T_e20e2_row1_col3\" class=\"data row1 col3\" >-0.000000</td>\n",
       "      <td id=\"T_e20e2_row1_col4\" class=\"data row1 col4\" >0.000000</td>\n",
       "      <td id=\"T_e20e2_row1_col5\" class=\"data row1 col5\" >0.000000</td>\n",
       "    </tr>\n",
       "    <tr>\n",
       "      <td id=\"T_e20e2_row2_col0\" class=\"data row2 col0\" >-0.000000</td>\n",
       "      <td id=\"T_e20e2_row2_col1\" class=\"data row2 col1\" >-0.000000</td>\n",
       "      <td id=\"T_e20e2_row2_col2\" class=\"data row2 col2\" >0.705222</td>\n",
       "      <td id=\"T_e20e2_row2_col3\" class=\"data row2 col3\" >-1.410962</td>\n",
       "      <td id=\"T_e20e2_row2_col4\" class=\"data row2 col4\" >0.000000</td>\n",
       "      <td id=\"T_e20e2_row2_col5\" class=\"data row2 col5\" >0.055920</td>\n",
       "    </tr>\n",
       "    <tr>\n",
       "      <td id=\"T_e20e2_row3_col0\" class=\"data row3 col0\" >-0.000000</td>\n",
       "      <td id=\"T_e20e2_row3_col1\" class=\"data row3 col1\" >-0.000000</td>\n",
       "      <td id=\"T_e20e2_row3_col2\" class=\"data row3 col2\" >-0.203237</td>\n",
       "      <td id=\"T_e20e2_row3_col3\" class=\"data row3 col3\" >1.824615</td>\n",
       "      <td id=\"T_e20e2_row3_col4\" class=\"data row3 col4\" >0.000000</td>\n",
       "      <td id=\"T_e20e2_row3_col5\" class=\"data row3 col5\" >0.006000</td>\n",
       "    </tr>\n",
       "    <tr>\n",
       "      <td id=\"T_e20e2_row4_col0\" class=\"data row4 col0\" >0.000000</td>\n",
       "      <td id=\"T_e20e2_row4_col1\" class=\"data row4 col1\" >0.000000</td>\n",
       "      <td id=\"T_e20e2_row4_col2\" class=\"data row4 col2\" >-0.015596</td>\n",
       "      <td id=\"T_e20e2_row4_col3\" class=\"data row4 col3\" >0.110499</td>\n",
       "      <td id=\"T_e20e2_row4_col4\" class=\"data row4 col4\" >1.000000</td>\n",
       "      <td id=\"T_e20e2_row4_col5\" class=\"data row4 col5\" >-0.000006</td>\n",
       "    </tr>\n",
       "    <tr>\n",
       "      <td id=\"T_e20e2_row5_col0\" class=\"data row5 col0\" >0.000000</td>\n",
       "      <td id=\"T_e20e2_row5_col1\" class=\"data row5 col1\" >0.000000</td>\n",
       "      <td id=\"T_e20e2_row5_col2\" class=\"data row5 col2\" >0.000000</td>\n",
       "      <td id=\"T_e20e2_row5_col3\" class=\"data row5 col3\" >0.000000</td>\n",
       "      <td id=\"T_e20e2_row5_col4\" class=\"data row5 col4\" >0.000000</td>\n",
       "      <td id=\"T_e20e2_row5_col5\" class=\"data row5 col5\" >1.000000</td>\n",
       "    </tr>\n",
       "  </tbody>\n",
       "</table>\n"
      ],
      "text/plain": [
       "<pandas.io.formats.style.Styler at 0x164588ad0>"
      ]
     },
     "metadata": {},
     "output_type": "display_data"
    }
   ],
   "source": [
    "getMatrix(tao, \"ENDBC20\", \"DTOTR\", print = True);"
   ]
  },
  {
   "cell_type": "code",
   "execution_count": 3,
   "id": "e56ee6ea-872e-4719-8556-b8426d56d098",
   "metadata": {},
   "outputs": [
    {
     "data": {
      "text/plain": [
       "{1: {(0, 0, 0, 0, 0, 0): -1.92139546302812e-16,\n",
       "  (1, 0, 0, 0, 0, 0): 1.38982500962486,\n",
       "  (0, 1, 0, 0, 0, 0): -6.5591872620257,\n",
       "  (0, 0, 1, 0, 0, 0): 1.64361356895922e-20,\n",
       "  (0, 0, 0, 1, 0, 0): -8.76057393742784e-19,\n",
       "  (0, 0, 0, 0, 0, 1): 5.5533472300419e-15},\n",
       " 2: {(0, 0, 0, 0, 0, 0): -2.79559609023905e-17,\n",
       "  (1, 0, 0, 0, 0, 0): 0.204433273419811,\n",
       "  (0, 1, 0, 0, 0, 0): -0.245294278480053,\n",
       "  (0, 0, 1, 0, 0, 0): 3.95742171043431e-20,\n",
       "  (0, 0, 0, 1, 0, 0): -3.44903008487563e-19,\n",
       "  (0, 0, 0, 0, 0, 1): 3.8900474054731e-16},\n",
       " 3: {(0, 0, 0, 0, 0, 0): 5.70961898343852e-14,\n",
       "  (1, 0, 0, 0, 0, 0): 1.38886057775417e-19,\n",
       "  (0, 1, 0, 0, 0, 0): -1.08330487641452e-18,\n",
       "  (0, 0, 1, 0, 0, 0): 0.705222422032069,\n",
       "  (0, 0, 0, 1, 0, 0): -1.4109622990224,\n",
       "  (0, 0, 0, 0, 0, 1): 0.0559202303725709},\n",
       " 4: {(0, 0, 0, 0, 0, 0): 2.86229373536173e-17,\n",
       "  (1, 0, 0, 0, 0, 0): 3.32013823261542e-20,\n",
       "  (0, 1, 0, 0, 0, 0): -5.01620295146484e-20,\n",
       "  (0, 0, 1, 0, 0, 0): -0.20323699037553,\n",
       "  (0, 0, 0, 1, 0, 0): 1.82461545604138,\n",
       "  (0, 0, 0, 0, 0, 1): 0.00600001800006492},\n",
       " 5: {(0, 0, 0, 0, 0, 0): -3.77475814238489e-15,\n",
       "  (1, 0, 0, 0, 0, 0): 5.9464145870912e-16,\n",
       "  (0, 1, 0, 0, 0, 0): 1.18935433189969e-15,\n",
       "  (0, 0, 1, 0, 0, 0): -0.0155964065483324,\n",
       "  (0, 0, 0, 1, 0, 0): 0.110498715835007,\n",
       "  (0, 0, 0, 0, 1, 0): 0.999999999999948,\n",
       "  (0, 0, 0, 0, 0, 1): -5.76932923880642e-06},\n",
       " 6: {(0, 0, 0, 0, 0, 0): 5.91370593032769e-15,\n",
       "  (0, 0, 0, 0, 0, 1): 1.00000000000003}}"
      ]
     },
     "execution_count": 3,
     "metadata": {},
     "output_type": "execute_result"
    }
   ],
   "source": [
    "tao.taylor_map(\"ENDBC20\", \"DTOTR\")"
   ]
  },
  {
   "cell_type": "code",
   "execution_count": 4,
   "id": "0c9029ea-7dd5-4834-b255-cb8b78d3a38d",
   "metadata": {},
   "outputs": [
    {
     "ename": "RuntimeError",
     "evalue": "Command: python matrix 978.0 990.0 causes error: ERROR detected: [ERROR | 2025-MAR-18 16:02:23] tao_python_cmd:\n    \"python matrix 978.0 990.0\": Cannot locate element.\nINVALID",
     "output_type": "error",
     "traceback": [
      "\u001b[0;31m---------------------------------------------------------------------------\u001b[0m",
      "\u001b[0;31mRuntimeError\u001b[0m                              Traceback (most recent call last)",
      "Cell \u001b[0;32mIn[4], line 1\u001b[0m\n\u001b[0;32m----> 1\u001b[0m tao\u001b[38;5;241m.\u001b[39mmatrix(\u001b[38;5;241m978.0\u001b[39m, \u001b[38;5;241m990.0\u001b[39m)\n",
      "File \u001b[0;32m/opt/homebrew/anaconda3/envs/bmad/lib/python3.11/site-packages/pytao/interface_commands.py:2770\u001b[0m, in \u001b[0;36mmatrix\u001b[0;34m(tao, ele1_id, ele2_id, verbose, as_dict, raises)\u001b[0m\n\u001b[1;32m   2768\u001b[0m cmd \u001b[38;5;241m=\u001b[39m \u001b[38;5;124mf\u001b[39m\u001b[38;5;124m'\u001b[39m\u001b[38;5;124mpython matrix \u001b[39m\u001b[38;5;132;01m{\u001b[39;00mele1_id\u001b[38;5;132;01m}\u001b[39;00m\u001b[38;5;124m \u001b[39m\u001b[38;5;132;01m{\u001b[39;00mele2_id\u001b[38;5;132;01m}\u001b[39;00m\u001b[38;5;124m'\u001b[39m\n\u001b[1;32m   2769\u001b[0m \u001b[38;5;28;01mif\u001b[39;00m verbose: \u001b[38;5;28mprint\u001b[39m(cmd)\n\u001b[0;32m-> 2770\u001b[0m \u001b[38;5;28;01mreturn\u001b[39;00m __execute(tao, cmd, as_dict, raises, method_name\u001b[38;5;241m=\u001b[39m\u001b[38;5;124m'\u001b[39m\u001b[38;5;124mmatrix\u001b[39m\u001b[38;5;124m'\u001b[39m, cmd_type\u001b[38;5;241m=\u001b[39m\u001b[38;5;124m'\u001b[39m\u001b[38;5;124mstring_list\u001b[39m\u001b[38;5;124m'\u001b[39m)\n",
      "File \u001b[0;32m/opt/homebrew/anaconda3/envs/bmad/lib/python3.11/site-packages/pytao/interface_commands.py:14\u001b[0m, in \u001b[0;36m__execute\u001b[0;34m(tao, cmd, as_dict, raises, method_name, cmd_type)\u001b[0m\n\u001b[1;32m      8\u001b[0m func_for_type \u001b[38;5;241m=\u001b[39m {\n\u001b[1;32m      9\u001b[0m     \u001b[38;5;124m\"\u001b[39m\u001b[38;5;124mstring_list\u001b[39m\u001b[38;5;124m\"\u001b[39m: tao\u001b[38;5;241m.\u001b[39mcmd,\n\u001b[1;32m     10\u001b[0m     \u001b[38;5;124m\"\u001b[39m\u001b[38;5;124mreal_array\u001b[39m\u001b[38;5;124m\"\u001b[39m: tao\u001b[38;5;241m.\u001b[39mcmd_real,\n\u001b[1;32m     11\u001b[0m     \u001b[38;5;124m\"\u001b[39m\u001b[38;5;124minteger_array\u001b[39m\u001b[38;5;124m\"\u001b[39m: tao\u001b[38;5;241m.\u001b[39mcmd_integer\n\u001b[1;32m     12\u001b[0m }\n\u001b[1;32m     13\u001b[0m func \u001b[38;5;241m=\u001b[39m func_for_type\u001b[38;5;241m.\u001b[39mget(cmd_type, tao\u001b[38;5;241m.\u001b[39mcmd)\n\u001b[0;32m---> 14\u001b[0m ret \u001b[38;5;241m=\u001b[39m func(cmd, raises\u001b[38;5;241m=\u001b[39mraises)\n\u001b[1;32m     15\u001b[0m special_parser \u001b[38;5;241m=\u001b[39m \u001b[38;5;28mgetattr\u001b[39m(__parsers, \u001b[38;5;124mf\u001b[39m\u001b[38;5;124m'\u001b[39m\u001b[38;5;124mparse_\u001b[39m\u001b[38;5;132;01m{\u001b[39;00mmethod_name\u001b[38;5;132;01m}\u001b[39;00m\u001b[38;5;124m'\u001b[39m, \u001b[38;5;124m\"\u001b[39m\u001b[38;5;124m\"\u001b[39m)\n\u001b[1;32m     16\u001b[0m \u001b[38;5;28;01mif\u001b[39;00m special_parser:\n",
      "File \u001b[0;32m/opt/homebrew/anaconda3/envs/bmad/lib/python3.11/site-packages/pytao/tao_ctypes/core.py:157\u001b[0m, in \u001b[0;36mTao.cmd\u001b[0;34m(self, cmd, raises)\u001b[0m\n\u001b[1;32m    155\u001b[0m err \u001b[38;5;241m=\u001b[39m error_in_lines(lines)\n\u001b[1;32m    156\u001b[0m \u001b[38;5;28;01mif\u001b[39;00m err:\n\u001b[0;32m--> 157\u001b[0m     \u001b[38;5;28;01mraise\u001b[39;00m \u001b[38;5;167;01mRuntimeError\u001b[39;00m(\u001b[38;5;124mf\u001b[39m\u001b[38;5;124m'\u001b[39m\u001b[38;5;124mCommand: \u001b[39m\u001b[38;5;132;01m{\u001b[39;00mcmd\u001b[38;5;132;01m}\u001b[39;00m\u001b[38;5;124m causes error: \u001b[39m\u001b[38;5;132;01m{\u001b[39;00merr\u001b[38;5;132;01m}\u001b[39;00m\u001b[38;5;124m'\u001b[39m)\n\u001b[1;32m    159\u001b[0m \u001b[38;5;28;01mreturn\u001b[39;00m lines\n",
      "\u001b[0;31mRuntimeError\u001b[0m: Command: python matrix 978.0 990.0 causes error: ERROR detected: [ERROR | 2025-MAR-18 16:02:23] tao_python_cmd:\n    \"python matrix 978.0 990.0\": Cannot locate element.\nINVALID"
     ]
    }
   ],
   "source": [
    "tao.matrix(978.0, 990.0)"
   ]
  },
  {
   "cell_type": "code",
   "execution_count": 5,
   "id": "9662ad17-f523-4bd0-9eae-315c833d976d",
   "metadata": {},
   "outputs": [
    {
     "data": {
      "text/plain": [
       "\u001b[0;31mSignature:\u001b[0m \u001b[0mtao\u001b[0m\u001b[0;34m.\u001b[0m\u001b[0mmatrix\u001b[0m\u001b[0;34m(\u001b[0m\u001b[0mele1_id\u001b[0m\u001b[0;34m,\u001b[0m \u001b[0mele2_id\u001b[0m\u001b[0;34m,\u001b[0m \u001b[0;34m*\u001b[0m\u001b[0;34m,\u001b[0m \u001b[0mverbose\u001b[0m\u001b[0;34m=\u001b[0m\u001b[0;32mFalse\u001b[0m\u001b[0;34m,\u001b[0m \u001b[0mas_dict\u001b[0m\u001b[0;34m=\u001b[0m\u001b[0;32mTrue\u001b[0m\u001b[0;34m,\u001b[0m \u001b[0mraises\u001b[0m\u001b[0;34m=\u001b[0m\u001b[0;32mTrue\u001b[0m\u001b[0;34m)\u001b[0m\u001b[0;34m\u001b[0m\u001b[0;34m\u001b[0m\u001b[0m\n",
       "\u001b[0;31mDocstring:\u001b[0m\n",
       "Output matrix value from the exit end of one element to the exit end of the other.\n",
       "\n",
       "Parameters\n",
       "----------\n",
       "ele1_id\n",
       "ele2_id\n",
       "\n",
       "Returns\n",
       "-------\n",
       "dict with keys:\n",
       "    'mat6' : np.array of shape (6,6)\n",
       "    'vec6' : np.array of shape(6)\n",
       "\n",
       "Notes\n",
       "-----\n",
       "Command syntax:\n",
       "  python matrix {ele1_id} {ele2_id}\n",
       "\n",
       "Where:\n",
       "  {ele1_id} is the start element.\n",
       "  {ele2_id} is the end element.\n",
       "If {ele2_id} = {ele1_id}, the 1-turn transfer map is computed.\n",
       "Note: {ele2_id} should just be an element name or index without universe, branch, or model/base/design specification.\n",
       "\n",
       "Example:\n",
       "  python matrix 2@1>>q01w|design q02w\n",
       "\n",
       "Examples\n",
       "--------\n",
       "Example: 1\n",
       " init: -init $ACC_ROOT_DIR/regression_tests/python_test/cesr/tao.init\n",
       " args:\n",
       "   ele1_id: 1@0>>q01w|design\n",
       "   ele2_id: q02w\n",
       "\u001b[0;31mFile:\u001b[0m      /opt/homebrew/anaconda3/envs/bmad/lib/python3.11/site-packages/pytao/interface_commands.py\n",
       "\u001b[0;31mType:\u001b[0m      method"
      ]
     },
     "metadata": {},
     "output_type": "display_data"
    }
   ],
   "source": [
    "?tao.matrix"
   ]
  },
  {
   "cell_type": "code",
   "execution_count": 6,
   "id": "8ea9e232-09bb-413d-916e-ba4d0526119b",
   "metadata": {},
   "outputs": [
    {
     "data": {
      "text/plain": [
       "\u001b[0;31mSignature:\u001b[0m\n",
       "\u001b[0mtao\u001b[0m\u001b[0;34m.\u001b[0m\u001b[0mtaylor_map\u001b[0m\u001b[0;34m(\u001b[0m\u001b[0;34m\u001b[0m\n",
       "\u001b[0;34m\u001b[0m    \u001b[0mele1_id\u001b[0m\u001b[0;34m,\u001b[0m\u001b[0;34m\u001b[0m\n",
       "\u001b[0;34m\u001b[0m    \u001b[0mele2_id\u001b[0m\u001b[0;34m,\u001b[0m\u001b[0;34m\u001b[0m\n",
       "\u001b[0;34m\u001b[0m    \u001b[0;34m*\u001b[0m\u001b[0;34m,\u001b[0m\u001b[0;34m\u001b[0m\n",
       "\u001b[0;34m\u001b[0m    \u001b[0morder\u001b[0m\u001b[0;34m=\u001b[0m\u001b[0;34m'1'\u001b[0m\u001b[0;34m,\u001b[0m\u001b[0;34m\u001b[0m\n",
       "\u001b[0;34m\u001b[0m    \u001b[0mverbose\u001b[0m\u001b[0;34m=\u001b[0m\u001b[0;32mFalse\u001b[0m\u001b[0;34m,\u001b[0m\u001b[0;34m\u001b[0m\n",
       "\u001b[0;34m\u001b[0m    \u001b[0mas_dict\u001b[0m\u001b[0;34m=\u001b[0m\u001b[0;32mTrue\u001b[0m\u001b[0;34m,\u001b[0m\u001b[0;34m\u001b[0m\n",
       "\u001b[0;34m\u001b[0m    \u001b[0mraises\u001b[0m\u001b[0;34m=\u001b[0m\u001b[0;32mTrue\u001b[0m\u001b[0;34m,\u001b[0m\u001b[0;34m\u001b[0m\n",
       "\u001b[0;34m\u001b[0m\u001b[0;34m)\u001b[0m\u001b[0;34m\u001b[0m\u001b[0;34m\u001b[0m\u001b[0m\n",
       "\u001b[0;31mDocstring:\u001b[0m\n",
       "Output Taylor map between two points.\n",
       "\n",
       "Parameters\n",
       "----------\n",
       "ele1_id\n",
       "ele2_id\n",
       "order : default=1\n",
       "\n",
       "Returns\n",
       "-------\n",
       "dict of dict of taylor terms:\n",
       "    {2: { (3,0,0,0,0,0)}: 4.56, ... \n",
       "        corresponding to: px_out = 4.56 * x_in^3\n",
       "\n",
       "Notes\n",
       "-----\n",
       "Command syntax:\n",
       "  python taylor_map {ele1_id} {ele2_id} {order}\n",
       "\n",
       "Where:\n",
       "  {ele1_id} is the start element.\n",
       "  {ele2_id} is the end element.\n",
       "  {order} is the map order. Default is order set in the lattice file. {order} cannot be larger than \n",
       "        what is set by the lattice file. \n",
       "If {ele2_id} = {ele1_id}, the 1-turn transfer map is computed.\n",
       "Note: {ele2_id} should just be an element name or index without universe, branch, or model/base/design specification.\n",
       "Example:\n",
       "  python taylor_map 2@1>>q01w|design q02w  2\n",
       "\n",
       "Examples\n",
       "--------\n",
       "Example: 1\n",
       " init: -init $ACC_ROOT_DIR/regression_tests/python_test/cesr/tao.init\n",
       " args:\n",
       "   ele1_id: 1@0>>q01w|design\n",
       "   ele2_id: q02w\n",
       "   order: 1\n",
       "\u001b[0;31mFile:\u001b[0m      /opt/homebrew/anaconda3/envs/bmad/lib/python3.11/site-packages/pytao/interface_commands.py\n",
       "\u001b[0;31mType:\u001b[0m      method"
      ]
     },
     "metadata": {},
     "output_type": "display_data"
    }
   ],
   "source": [
    "?tao.taylor_map"
   ]
  },
  {
   "cell_type": "code",
   "execution_count": 7,
   "id": "fae552e0-c4e2-4652-82ff-10cc3a54906f",
   "metadata": {},
   "outputs": [
    {
     "ename": "RuntimeError",
     "evalue": "Command: python taylor_map ENDBC20->1.0 DTOTR 1 causes error: ERROR detected: [ERROR | 2025-MAR-18 16:02:46] lat_ele1_locator:\n    INVALID OFFSET SYNTAX: ENDBC20->1.0\n[ERROR | 2025-MAR-18 16:02:46] tao_python_cmd:\n    \"python taylor_map ENDBC20->1.0 DTOTR 1\": Cannot locate element.\nINVALID",
     "output_type": "error",
     "traceback": [
      "\u001b[0;31m---------------------------------------------------------------------------\u001b[0m",
      "\u001b[0;31mRuntimeError\u001b[0m                              Traceback (most recent call last)",
      "Cell \u001b[0;32mIn[7], line 1\u001b[0m\n\u001b[0;32m----> 1\u001b[0m tao\u001b[38;5;241m.\u001b[39mtaylor_map(\u001b[38;5;124m\"\u001b[39m\u001b[38;5;124mENDBC20->1.0\u001b[39m\u001b[38;5;124m\"\u001b[39m, \u001b[38;5;124m\"\u001b[39m\u001b[38;5;124mDTOTR\u001b[39m\u001b[38;5;124m\"\u001b[39m)\n",
      "File \u001b[0;32m/opt/homebrew/anaconda3/envs/bmad/lib/python3.11/site-packages/pytao/interface_commands.py:4060\u001b[0m, in \u001b[0;36mtaylor_map\u001b[0;34m(tao, ele1_id, ele2_id, order, verbose, as_dict, raises)\u001b[0m\n\u001b[1;32m   4058\u001b[0m cmd \u001b[38;5;241m=\u001b[39m \u001b[38;5;124mf\u001b[39m\u001b[38;5;124m'\u001b[39m\u001b[38;5;124mpython taylor_map \u001b[39m\u001b[38;5;132;01m{\u001b[39;00mele1_id\u001b[38;5;132;01m}\u001b[39;00m\u001b[38;5;124m \u001b[39m\u001b[38;5;132;01m{\u001b[39;00mele2_id\u001b[38;5;132;01m}\u001b[39;00m\u001b[38;5;124m \u001b[39m\u001b[38;5;132;01m{\u001b[39;00morder\u001b[38;5;132;01m}\u001b[39;00m\u001b[38;5;124m'\u001b[39m\n\u001b[1;32m   4059\u001b[0m \u001b[38;5;28;01mif\u001b[39;00m verbose: \u001b[38;5;28mprint\u001b[39m(cmd)\n\u001b[0;32m-> 4060\u001b[0m \u001b[38;5;28;01mreturn\u001b[39;00m __execute(tao, cmd, as_dict, raises, method_name\u001b[38;5;241m=\u001b[39m\u001b[38;5;124m'\u001b[39m\u001b[38;5;124mtaylor_map\u001b[39m\u001b[38;5;124m'\u001b[39m, cmd_type\u001b[38;5;241m=\u001b[39m\u001b[38;5;124m'\u001b[39m\u001b[38;5;124mstring_list\u001b[39m\u001b[38;5;124m'\u001b[39m)\n",
      "File \u001b[0;32m/opt/homebrew/anaconda3/envs/bmad/lib/python3.11/site-packages/pytao/interface_commands.py:14\u001b[0m, in \u001b[0;36m__execute\u001b[0;34m(tao, cmd, as_dict, raises, method_name, cmd_type)\u001b[0m\n\u001b[1;32m      8\u001b[0m func_for_type \u001b[38;5;241m=\u001b[39m {\n\u001b[1;32m      9\u001b[0m     \u001b[38;5;124m\"\u001b[39m\u001b[38;5;124mstring_list\u001b[39m\u001b[38;5;124m\"\u001b[39m: tao\u001b[38;5;241m.\u001b[39mcmd,\n\u001b[1;32m     10\u001b[0m     \u001b[38;5;124m\"\u001b[39m\u001b[38;5;124mreal_array\u001b[39m\u001b[38;5;124m\"\u001b[39m: tao\u001b[38;5;241m.\u001b[39mcmd_real,\n\u001b[1;32m     11\u001b[0m     \u001b[38;5;124m\"\u001b[39m\u001b[38;5;124minteger_array\u001b[39m\u001b[38;5;124m\"\u001b[39m: tao\u001b[38;5;241m.\u001b[39mcmd_integer\n\u001b[1;32m     12\u001b[0m }\n\u001b[1;32m     13\u001b[0m func \u001b[38;5;241m=\u001b[39m func_for_type\u001b[38;5;241m.\u001b[39mget(cmd_type, tao\u001b[38;5;241m.\u001b[39mcmd)\n\u001b[0;32m---> 14\u001b[0m ret \u001b[38;5;241m=\u001b[39m func(cmd, raises\u001b[38;5;241m=\u001b[39mraises)\n\u001b[1;32m     15\u001b[0m special_parser \u001b[38;5;241m=\u001b[39m \u001b[38;5;28mgetattr\u001b[39m(__parsers, \u001b[38;5;124mf\u001b[39m\u001b[38;5;124m'\u001b[39m\u001b[38;5;124mparse_\u001b[39m\u001b[38;5;132;01m{\u001b[39;00mmethod_name\u001b[38;5;132;01m}\u001b[39;00m\u001b[38;5;124m'\u001b[39m, \u001b[38;5;124m\"\u001b[39m\u001b[38;5;124m\"\u001b[39m)\n\u001b[1;32m     16\u001b[0m \u001b[38;5;28;01mif\u001b[39;00m special_parser:\n",
      "File \u001b[0;32m/opt/homebrew/anaconda3/envs/bmad/lib/python3.11/site-packages/pytao/tao_ctypes/core.py:157\u001b[0m, in \u001b[0;36mTao.cmd\u001b[0;34m(self, cmd, raises)\u001b[0m\n\u001b[1;32m    155\u001b[0m err \u001b[38;5;241m=\u001b[39m error_in_lines(lines)\n\u001b[1;32m    156\u001b[0m \u001b[38;5;28;01mif\u001b[39;00m err:\n\u001b[0;32m--> 157\u001b[0m     \u001b[38;5;28;01mraise\u001b[39;00m \u001b[38;5;167;01mRuntimeError\u001b[39;00m(\u001b[38;5;124mf\u001b[39m\u001b[38;5;124m'\u001b[39m\u001b[38;5;124mCommand: \u001b[39m\u001b[38;5;132;01m{\u001b[39;00mcmd\u001b[38;5;132;01m}\u001b[39;00m\u001b[38;5;124m causes error: \u001b[39m\u001b[38;5;132;01m{\u001b[39;00merr\u001b[38;5;132;01m}\u001b[39;00m\u001b[38;5;124m'\u001b[39m)\n\u001b[1;32m    159\u001b[0m \u001b[38;5;28;01mreturn\u001b[39;00m lines\n",
      "\u001b[0;31mRuntimeError\u001b[0m: Command: python taylor_map ENDBC20->1.0 DTOTR 1 causes error: ERROR detected: [ERROR | 2025-MAR-18 16:02:46] lat_ele1_locator:\n    INVALID OFFSET SYNTAX: ENDBC20->1.0\n[ERROR | 2025-MAR-18 16:02:46] tao_python_cmd:\n    \"python taylor_map ENDBC20->1.0 DTOTR 1\": Cannot locate element.\nINVALID"
     ]
    }
   ],
   "source": [
    "tao.taylor_map(\"ENDBC20->1.0\", \"DTOTR\")"
   ]
  },
  {
   "cell_type": "code",
   "execution_count": 8,
   "id": "135d422d-cd87-4eaf-8bb9-fe0118bfba36",
   "metadata": {},
   "outputs": [
    {
     "data": {
      "text/plain": [
       "\u001b[0;31mType:\u001b[0m        Tao\n",
       "\u001b[0;31mString form:\u001b[0m <pytao.tao_ctypes.core.Tao object at 0x162f58d90>\n",
       "\u001b[0;31mFile:\u001b[0m        /opt/homebrew/anaconda3/envs/bmad/lib/python3.11/site-packages/pytao/tao_ctypes/core.py\n",
       "\u001b[0;31mDocstring:\u001b[0m  \n",
       "Class to run and interact with Tao. Requires libtao shared object.\n",
       "\n",
       "Setup:\n",
       "\n",
       "import os\n",
       "import sys\n",
       "TAO_PYTHON_DIR=os.environ['ACC_ROOT_DIR'] + '/tao/python'\n",
       "sys.path.insert(0, TAO_PYTHON_DIR)\n",
       "\n",
       "import tao_ctypes\n",
       "tao = tao_ctypes.Tao()\n",
       "tao.init(\"command line args here...\")"
      ]
     },
     "metadata": {},
     "output_type": "display_data"
    }
   ],
   "source": [
    "?tao"
   ]
  },
  {
   "cell_type": "code",
   "execution_count": 9,
   "id": "44be2100-f842-436c-84fb-f13c83f38b8e",
   "metadata": {},
   "outputs": [
    {
     "data": {
      "text/plain": [
       "['  -0.000000  -0.000000  -0.000000   0.000000   0.000000   0.000000']"
      ]
     },
     "execution_count": 9,
     "metadata": {},
     "output_type": "execute_result"
    }
   ],
   "source": [
    "tao.show(\"taylor_map -s 970 990 -order 0\")"
   ]
  },
  {
   "cell_type": "code",
   "execution_count": 10,
   "id": "78e4227f-4677-4969-b36a-8269cf47b5f2",
   "metadata": {},
   "outputs": [
    {
     "data": {
      "text/plain": [
       "['Symplectic Error:  2.00E-15',\n",
       " '',\n",
       " '    -4.37416457     1.79482674     0.00000000     0.00000000     0.00000000     0.12462135   :  1.18987863E-14',\n",
       " '     2.05570926    -1.07212289    -0.00000000    -0.00000000     0.00000000    -0.04993251   :  6.51142677E-16',\n",
       " '     0.00000000    -0.00000000    -2.53193352    -5.67447504     0.00000000    -0.00000000   :  3.28971416E-16',\n",
       " '     0.00000000    -0.00000000    -0.76515299    -2.10978744     0.00000000     0.00000000   : -1.79941085E-17',\n",
       " '     0.03777227    -0.04398921     0.00000000     0.00000000     1.00000000    -0.00008669   :  7.53627598E-17',\n",
       " '     0.00000000     0.00000000     0.00000000     0.00000000     0.00000000     1.00000000   :  0.00000000E+00']"
      ]
     },
     "execution_count": 10,
     "metadata": {},
     "output_type": "execute_result"
    }
   ],
   "source": [
    "tao.show(\"taylor_map -s 970 990\")"
   ]
  },
  {
   "cell_type": "code",
   "execution_count": null,
   "id": "5cc7873c-06ac-440e-8440-d7bfe718cf3d",
   "metadata": {},
   "outputs": [],
   "source": []
  },
  {
   "cell_type": "code",
   "execution_count": 11,
   "id": "a408736f-00f4-46b5-af5a-e1d48912c840",
   "metadata": {},
   "outputs": [
    {
     "data": {
      "text/plain": [
       "array([[-1.06110711e+00,  1.48946410e+00, -8.99713280e-17,\n",
       "        -6.88724435e-16,  0.00000000e+00,  7.35459263e-04],\n",
       "       [-2.20260570e-01, -6.33234646e-01, -6.19801723e-18,\n",
       "        -4.84438559e-17,  0.00000000e+00,  1.25921582e-04],\n",
       "       [-4.79293313e-17, -2.89188220e-16, -2.78571167e-01,\n",
       "         5.79812255e+00,  0.00000000e+00,  5.59202304e-02],\n",
       "       [ 1.33807186e-17,  7.86458748e-17, -5.24991902e-02,\n",
       "        -2.49703970e+00,  0.00000000e+00,  6.00001800e-03],\n",
       "       [-2.83763896e-05, -6.53273963e-04, -1.26433480e-03,\n",
       "        -1.74423875e-01,  1.00000000e+00, -7.04666453e-03],\n",
       "       [ 0.00000000e+00,  0.00000000e+00,  0.00000000e+00,\n",
       "         0.00000000e+00,  0.00000000e+00,  1.00000000e+00]])"
      ]
     },
     "execution_count": 11,
     "metadata": {},
     "output_type": "execute_result"
    }
   ],
   "source": [
    "getMatrix(tao, \"BEGBC20\", \"DTOTR\")"
   ]
  },
  {
   "cell_type": "code",
   "execution_count": 12,
   "id": "df1f9875-0201-4a24-8361-b93d4361c026",
   "metadata": {},
   "outputs": [
    {
     "ename": "ValueError",
     "evalue": "could not convert string to float: 'Symplectic'",
     "output_type": "error",
     "traceback": [
      "\u001b[0;31m---------------------------------------------------------------------------\u001b[0m",
      "\u001b[0;31mValueError\u001b[0m                                Traceback (most recent call last)",
      "Cell \u001b[0;32mIn[12], line 14\u001b[0m\n\u001b[1;32m     10\u001b[0m             data\u001b[38;5;241m.\u001b[39mappend(row)\n\u001b[1;32m     12\u001b[0m     \u001b[38;5;28;01mreturn\u001b[39;00m np\u001b[38;5;241m.\u001b[39marray(data, dtype\u001b[38;5;241m=\u001b[39mnp\u001b[38;5;241m.\u001b[39mfloat64)\n\u001b[0;32m---> 14\u001b[0m parse_symplectic_output(lines)\n",
      "Cell \u001b[0;32mIn[12], line 9\u001b[0m, in \u001b[0;36mparse_symplectic_output\u001b[0;34m(lines)\u001b[0m\n\u001b[1;32m      7\u001b[0m     \u001b[38;5;28;01mif\u001b[39;00m \u001b[38;5;124m'\u001b[39m\u001b[38;5;124m:\u001b[39m\u001b[38;5;124m'\u001b[39m \u001b[38;5;129;01min\u001b[39;00m line:\n\u001b[1;32m      8\u001b[0m         values, _ \u001b[38;5;241m=\u001b[39m line\u001b[38;5;241m.\u001b[39mrsplit(\u001b[38;5;124m'\u001b[39m\u001b[38;5;124m:\u001b[39m\u001b[38;5;124m'\u001b[39m, \u001b[38;5;241m1\u001b[39m)  \u001b[38;5;66;03m# Split at colon, keeping only the left part\u001b[39;00m\n\u001b[0;32m----> 9\u001b[0m         row \u001b[38;5;241m=\u001b[39m [\u001b[38;5;28mfloat\u001b[39m(v) \u001b[38;5;28;01mfor\u001b[39;00m v \u001b[38;5;129;01min\u001b[39;00m values\u001b[38;5;241m.\u001b[39msplit() \u001b[38;5;28;01mif\u001b[39;00m v]  \u001b[38;5;66;03m# Convert values to float, ignoring empty strings\u001b[39;00m\n\u001b[1;32m     10\u001b[0m         data\u001b[38;5;241m.\u001b[39mappend(row)\n\u001b[1;32m     12\u001b[0m \u001b[38;5;28;01mreturn\u001b[39;00m np\u001b[38;5;241m.\u001b[39marray(data, dtype\u001b[38;5;241m=\u001b[39mnp\u001b[38;5;241m.\u001b[39mfloat64)\n",
      "Cell \u001b[0;32mIn[12], line 9\u001b[0m, in \u001b[0;36m<listcomp>\u001b[0;34m(.0)\u001b[0m\n\u001b[1;32m      7\u001b[0m     \u001b[38;5;28;01mif\u001b[39;00m \u001b[38;5;124m'\u001b[39m\u001b[38;5;124m:\u001b[39m\u001b[38;5;124m'\u001b[39m \u001b[38;5;129;01min\u001b[39;00m line:\n\u001b[1;32m      8\u001b[0m         values, _ \u001b[38;5;241m=\u001b[39m line\u001b[38;5;241m.\u001b[39mrsplit(\u001b[38;5;124m'\u001b[39m\u001b[38;5;124m:\u001b[39m\u001b[38;5;124m'\u001b[39m, \u001b[38;5;241m1\u001b[39m)  \u001b[38;5;66;03m# Split at colon, keeping only the left part\u001b[39;00m\n\u001b[0;32m----> 9\u001b[0m         row \u001b[38;5;241m=\u001b[39m [\u001b[38;5;28mfloat\u001b[39m(v) \u001b[38;5;28;01mfor\u001b[39;00m v \u001b[38;5;129;01min\u001b[39;00m values\u001b[38;5;241m.\u001b[39msplit() \u001b[38;5;28;01mif\u001b[39;00m v]  \u001b[38;5;66;03m# Convert values to float, ignoring empty strings\u001b[39;00m\n\u001b[1;32m     10\u001b[0m         data\u001b[38;5;241m.\u001b[39mappend(row)\n\u001b[1;32m     12\u001b[0m \u001b[38;5;28;01mreturn\u001b[39;00m np\u001b[38;5;241m.\u001b[39marray(data, dtype\u001b[38;5;241m=\u001b[39mnp\u001b[38;5;241m.\u001b[39mfloat64)\n",
      "\u001b[0;31mValueError\u001b[0m: could not convert string to float: 'Symplectic'"
     ]
    }
   ],
   "source": [
    "lines = tao.show(\"taylor_map BEGBC20 DTOTR\")\n",
    "\n",
    "def parse_symplectic_output(lines):\n",
    "    data = []\n",
    "\n",
    "    for line in lines:\n",
    "        if ':' in line:\n",
    "            values, _ = line.rsplit(':', 1)  # Split at colon, keeping only the left part\n",
    "            row = [float(v) for v in values.split() if v]  # Convert values to float, ignoring empty strings\n",
    "            data.append(row)\n",
    "\n",
    "    return np.array(data, dtype=np.float64)\n",
    "\n",
    "parse_symplectic_output(lines)"
   ]
  },
  {
   "cell_type": "code",
   "execution_count": 13,
   "id": "28395d77-b93a-45c5-a46f-dd11b131997c",
   "metadata": {},
   "outputs": [
    {
     "data": {
      "text/plain": [
       "['1;term; -1.46781052035278E-15;0;0;0;0;0;0',\n",
       " '1;term; -1.06110711309025E+00;1;0;0;0;0;0',\n",
       " '1;term;  1.48946410497703E+00;0;1;0;0;0;0',\n",
       " '1;term; -3.92569696964463E-16;0;0;1;0;0;0',\n",
       " '1;term;  1.97258130449636E-15;0;0;0;1;0;0',\n",
       " '1;term;  7.35459262935597E-04;0;0;0;0;0;1',\n",
       " '2;term; -5.48917888989078E-17;0;0;0;0;0;0',\n",
       " '2;term; -2.20260569940658E-01;1;0;0;0;0;0',\n",
       " '2;term; -6.33234646193940E-01;0;1;0;0;0;0',\n",
       " '2;term; -7.96159696918683E-17;0;0;1;0;0;0',\n",
       " '2;term;  3.38160937854161E-17;0;0;0;1;0;0',\n",
       " '2;term;  1.25921582494534E-04;0;0;0;0;0;1',\n",
       " '3;term; -7.35952406551569E-14;0;0;0;0;0;0',\n",
       " '3;term; -4.37623440635323E-17;1;0;0;0;0;0',\n",
       " '3;term; -1.16570058427018E-15;0;1;0;0;0;0',\n",
       " '3;term; -2.78571166654524E-01;0;0;1;0;0;0',\n",
       " '3;term;  5.79812254766726E+00;0;0;0;1;0;0',\n",
       " '3;term;  5.59202303728775E-02;0;0;0;0;0;1',\n",
       " '4;term; -1.89692012098064E-15;0;0;0;0;0;0',\n",
       " '4;term;  4.92323250069276E-17;1;0;0;0;0;0',\n",
       " '4;term;  8.96980713582604E-16;0;1;0;0;0;0',\n",
       " '4;term; -5.24991902484566E-02;0;0;1;0;0;0',\n",
       " '4;term; -2.49703969595963E+00;0;0;0;1;0;0',\n",
       " '4;term;  6.00001799996138E-03;0;0;0;0;0;1',\n",
       " '5;term; -6.55031570032287E-15;0;0;0;0;0;0',\n",
       " '5;term; -2.83763895429364E-05;1;0;0;0;0;0',\n",
       " '5;term; -6.53273963287238E-04;0;1;0;0;0;0',\n",
       " '5;term; -1.26433479889368E-03;0;0;1;0;0;0',\n",
       " '5;term; -1.74423874700416E-01;0;0;0;1;0;0',\n",
       " '5;term;  9.99999999999873E-01;0;0;0;0;1;0',\n",
       " '5;term; -7.04666452722188E-03;0;0;0;0;0;1',\n",
       " '6;term;  5.91370593032769E-15;0;0;0;0;0;0',\n",
       " '6;term;  1.00000000000006E+00;0;0;0;0;0;1']"
      ]
     },
     "execution_count": 13,
     "metadata": {},
     "output_type": "execute_result"
    }
   ],
   "source": [
    "def newTaoFunction(tao, ele1_id, ele2_id, *, order='1', verbose=False):\n",
    "    cmd = f'python taylor_map {ele1_id} {ele2_id} {order}'\n",
    "    if verbose:\n",
    "        print(cmd)\n",
    "    return tao.cmd(cmd)  # Execute the command\n",
    "\n",
    "# Example usage:\n",
    "result = newTaoFunction(tao, \"BEGBC20\", \"DTOTR\")\n",
    "result\n"
   ]
  },
  {
   "cell_type": "code",
   "execution_count": 14,
   "id": "0f6af4dc-ae43-4fec-afd0-33408cf64ead",
   "metadata": {},
   "outputs": [
    {
     "ename": "RuntimeError",
     "evalue": "Command: python taylor_map -s 780 790 1 causes error: ERROR detected: [ERROR | 2025-MAR-18 16:02:49] lat_ele1_locator:\n    INVALID OFFSET SYNTAX: -S\n[ERROR | 2025-MAR-18 16:02:49] tao_python_cmd:\n    \"python taylor_map -s 780 790 1\": Cannot locate element.\nINVALID",
     "output_type": "error",
     "traceback": [
      "\u001b[0;31m---------------------------------------------------------------------------\u001b[0m",
      "\u001b[0;31mRuntimeError\u001b[0m                              Traceback (most recent call last)",
      "Cell \u001b[0;32mIn[14], line 8\u001b[0m\n\u001b[1;32m      5\u001b[0m     \u001b[38;5;28;01mreturn\u001b[39;00m tao\u001b[38;5;241m.\u001b[39mcmd(cmd)  \u001b[38;5;66;03m# Execute the command\u001b[39;00m\n\u001b[1;32m      7\u001b[0m \u001b[38;5;66;03m# Example usage:\u001b[39;00m\n\u001b[0;32m----> 8\u001b[0m result \u001b[38;5;241m=\u001b[39m newTaoFunction(tao, \u001b[38;5;241m780\u001b[39m, \u001b[38;5;241m790\u001b[39m)\n\u001b[1;32m      9\u001b[0m result\n",
      "Cell \u001b[0;32mIn[14], line 5\u001b[0m, in \u001b[0;36mnewTaoFunction\u001b[0;34m(tao, ele1_s, ele2_s, order, verbose)\u001b[0m\n\u001b[1;32m      3\u001b[0m \u001b[38;5;28;01mif\u001b[39;00m verbose:\n\u001b[1;32m      4\u001b[0m     \u001b[38;5;28mprint\u001b[39m(cmd)\n\u001b[0;32m----> 5\u001b[0m \u001b[38;5;28;01mreturn\u001b[39;00m tao\u001b[38;5;241m.\u001b[39mcmd(cmd)\n",
      "File \u001b[0;32m/opt/homebrew/anaconda3/envs/bmad/lib/python3.11/site-packages/pytao/tao_ctypes/core.py:157\u001b[0m, in \u001b[0;36mTao.cmd\u001b[0;34m(self, cmd, raises)\u001b[0m\n\u001b[1;32m    155\u001b[0m err \u001b[38;5;241m=\u001b[39m error_in_lines(lines)\n\u001b[1;32m    156\u001b[0m \u001b[38;5;28;01mif\u001b[39;00m err:\n\u001b[0;32m--> 157\u001b[0m     \u001b[38;5;28;01mraise\u001b[39;00m \u001b[38;5;167;01mRuntimeError\u001b[39;00m(\u001b[38;5;124mf\u001b[39m\u001b[38;5;124m'\u001b[39m\u001b[38;5;124mCommand: \u001b[39m\u001b[38;5;132;01m{\u001b[39;00mcmd\u001b[38;5;132;01m}\u001b[39;00m\u001b[38;5;124m causes error: \u001b[39m\u001b[38;5;132;01m{\u001b[39;00merr\u001b[38;5;132;01m}\u001b[39;00m\u001b[38;5;124m'\u001b[39m)\n\u001b[1;32m    159\u001b[0m \u001b[38;5;28;01mreturn\u001b[39;00m lines\n",
      "\u001b[0;31mRuntimeError\u001b[0m: Command: python taylor_map -s 780 790 1 causes error: ERROR detected: [ERROR | 2025-MAR-18 16:02:49] lat_ele1_locator:\n    INVALID OFFSET SYNTAX: -S\n[ERROR | 2025-MAR-18 16:02:49] tao_python_cmd:\n    \"python taylor_map -s 780 790 1\": Cannot locate element.\nINVALID"
     ]
    }
   ],
   "source": [
    "def newTaoFunction(tao, ele1_s, ele2_s, *, order='1', verbose=False):\n",
    "    cmd = f'python taylor_map -s {ele1_s} {ele2_s} {order}'\n",
    "    if verbose:\n",
    "        print(cmd)\n",
    "    return tao.cmd(cmd)  # Execute the command\n",
    "\n",
    "# Example usage:\n",
    "result = newTaoFunction(tao, 780, 790)\n",
    "result"
   ]
  },
  {
   "cell_type": "code",
   "execution_count": null,
   "id": "65b5d4b7-f660-416c-bf00-c745ffe95f31",
   "metadata": {},
   "outputs": [],
   "source": []
  },
  {
   "cell_type": "code",
   "execution_count": null,
   "id": "7f1d7838-5c73-466b-87fa-cb05559d3393",
   "metadata": {},
   "outputs": [],
   "source": []
  },
  {
   "cell_type": "code",
   "execution_count": 26,
   "id": "1bc456f3-9a4f-437c-aef1-9e8767ff9f93",
   "metadata": {},
   "outputs": [
    {
     "data": {
      "text/plain": [
       "[['Symplectic', 'Error:', '1.44E-15'],\n",
       " [],\n",
       " ['-4.37416279',\n",
       "  '1.79482584',\n",
       "  '0.00000000',\n",
       "  '0.00000000',\n",
       "  '0.00000000',\n",
       "  '0.12462130',\n",
       "  ':',\n",
       "  '-8.15820441E-14'],\n",
       " ['2.05570936',\n",
       "  '-1.07212294',\n",
       "  '-0.00000000',\n",
       "  '-0.00000000',\n",
       "  '0.00000000',\n",
       "  '-0.04993251',\n",
       "  ':',\n",
       "  '-4.49373075E-15'],\n",
       " ['0.00000000',\n",
       "  '-0.00000000',\n",
       "  '-2.53193421',\n",
       "  '-5.67447691',\n",
       "  '0.00000000',\n",
       "  '0.00000000',\n",
       "  ':',\n",
       "  '6.43600710E-15'],\n",
       " ['0.00000000',\n",
       "  '-0.00000000',\n",
       "  '-0.76515295',\n",
       "  '-2.10978734',\n",
       "  '0.00000000',\n",
       "  '-0.00000000',\n",
       "  ':',\n",
       "  '-3.53252822E-16'],\n",
       " ['0.03777224',\n",
       "  '-0.04398920',\n",
       "  '-0.00000000',\n",
       "  '-0.00000000',\n",
       "  '1.00000000',\n",
       "  '-0.00008669',\n",
       "  ':',\n",
       "  '9.95570039E-16'],\n",
       " ['0.00000000',\n",
       "  '0.00000000',\n",
       "  '0.00000000',\n",
       "  '0.00000000',\n",
       "  '0.00000000',\n",
       "  '1.00000000',\n",
       "  ':',\n",
       "  '0.00000000E+00']]"
      ]
     },
     "execution_count": 26,
     "metadata": {},
     "output_type": "execute_result"
    }
   ],
   "source": [
    "allStrings = tao.show(\"taylor_map -s 970 990\")\n",
    "splitStrings = [str.split() for str in allStrings]\n",
    "splitStrings"
   ]
  },
  {
   "cell_type": "code",
   "execution_count": 29,
   "id": "aedbeddb-5db6-4166-8d59-c1ce59625bfe",
   "metadata": {},
   "outputs": [
    {
     "data": {
      "text/plain": [
       "array([[-4.37416279e+00,  1.79482584e+00,  0.00000000e+00,\n",
       "         0.00000000e+00,  0.00000000e+00,  1.24621300e-01],\n",
       "       [ 2.05570936e+00, -1.07212294e+00, -0.00000000e+00,\n",
       "        -0.00000000e+00,  0.00000000e+00, -4.99325100e-02],\n",
       "       [ 0.00000000e+00, -0.00000000e+00, -2.53193421e+00,\n",
       "        -5.67447691e+00,  0.00000000e+00,  0.00000000e+00],\n",
       "       [ 0.00000000e+00, -0.00000000e+00, -7.65152950e-01,\n",
       "        -2.10978734e+00,  0.00000000e+00, -0.00000000e+00],\n",
       "       [ 3.77722400e-02, -4.39892000e-02, -0.00000000e+00,\n",
       "        -0.00000000e+00,  1.00000000e+00, -8.66900000e-05],\n",
       "       [ 0.00000000e+00,  0.00000000e+00,  0.00000000e+00,\n",
       "         0.00000000e+00,  0.00000000e+00,  1.00000000e+00]])"
      ]
     },
     "execution_count": 29,
     "metadata": {},
     "output_type": "execute_result"
    }
   ],
   "source": [
    "np.array([ [float(str) for str in row[0:6]] for row in splitStrings[2:] ])"
   ]
  },
  {
   "cell_type": "code",
   "execution_count": null,
   "id": "c1421968-a299-4faf-99e2-8d79c5f597d5",
   "metadata": {},
   "outputs": [],
   "source": []
  },
  {
   "cell_type": "code",
   "execution_count": 45,
   "id": "464953f5-c831-42c5-81ec-ffb966a24d0a",
   "metadata": {},
   "outputs": [
    {
     "data": {
      "text/plain": [
       "array([[ 1.38982501e+00, -7.09263129e+00,  4.52367703e-19,\n",
       "        -4.13820977e-18,  0.00000000e+00,  5.52724582e-15],\n",
       "       [ 2.04433273e-01, -3.23760062e-01,  3.95667129e-20,\n",
       "        -3.60036377e-19,  0.00000000e+00,  3.89112428e-16],\n",
       "       [-1.80683299e-19, -6.30380087e-19,  7.05222422e-01,\n",
       "        -1.68164147e+00,  0.00000000e+00,  5.59202304e-02],\n",
       "       [-1.08713683e-21, -8.58872114e-21, -2.03236990e-01,\n",
       "         1.90262208e+00,  0.00000000e+00,  6.00001800e-03],\n",
       "       [ 5.89155795e-16,  9.70332836e-16, -1.55964065e-02,\n",
       "         1.16484944e-01,  1.00000000e+00, -5.77033179e-06],\n",
       "       [ 0.00000000e+00,  0.00000000e+00,  0.00000000e+00,\n",
       "         0.00000000e+00,  0.00000000e+00,  1.00000000e+00]])"
      ]
     },
     "execution_count": 45,
     "metadata": {},
     "output_type": "execute_result"
    }
   ],
   "source": [
    "getMatrix(tao, \"MFFF\", \"DTOTR\")"
   ]
  },
  {
   "cell_type": "code",
   "execution_count": 51,
   "id": "240cbb61-b154-4e07-8c61-d670dc40336b",
   "metadata": {},
   "outputs": [
    {
     "data": {
      "text/plain": [
       "array([-3.29376264e-29, -2.31011918e-30, -1.22598493e-18, -1.23021496e-19,\n",
       "       -3.05299474e-17,  0.00000000e+00])"
      ]
     },
     "execution_count": 51,
     "metadata": {},
     "output_type": "execute_result"
    }
   ],
   "source": [
    "getMatrix(tao, \"MFFF\", \"DTOTR\", order = 0)"
   ]
  },
  {
   "cell_type": "code",
   "execution_count": 53,
   "id": "d69c42eb-41de-48f3-94d7-26be4ade4c38",
   "metadata": {},
   "outputs": [
    {
     "data": {
      "text/plain": [
       "array([-0., -0., -0.,  0.,  0.,  0.])"
      ]
     },
     "execution_count": 53,
     "metadata": {},
     "output_type": "execute_result"
    }
   ],
   "source": [
    "allStrings = tao.show(\"taylor_map -order 0 -s 970 990\")\n",
    "np.array([float(str) for str in allStrings[0].split()])"
   ]
  },
  {
   "cell_type": "code",
   "execution_count": 57,
   "id": "cfb2cd9b-a328-4025-b442-fd66ef1311c1",
   "metadata": {},
   "outputs": [
    {
     "data": {
      "text/html": [
       "<style type=\"text/css\">\n",
       "</style>\n",
       "<table id=\"T_62985\">\n",
       "  <thead>\n",
       "  </thead>\n",
       "  <tbody>\n",
       "    <tr>\n",
       "      <td id=\"T_62985_row0_col0\" class=\"data row0 col0\" >-1.218683</td>\n",
       "      <td id=\"T_62985_row0_col1\" class=\"data row0 col1\" >-4.973529</td>\n",
       "      <td id=\"T_62985_row0_col2\" class=\"data row0 col2\" >-0.000000</td>\n",
       "      <td id=\"T_62985_row0_col3\" class=\"data row0 col3\" >-0.000000</td>\n",
       "      <td id=\"T_62985_row0_col4\" class=\"data row0 col4\" >0.000000</td>\n",
       "      <td id=\"T_62985_row0_col5\" class=\"data row0 col5\" >0.000655</td>\n",
       "    </tr>\n",
       "    <tr>\n",
       "      <td id=\"T_62985_row1_col0\" class=\"data row1 col0\" >-0.089198</td>\n",
       "      <td id=\"T_62985_row1_col1\" class=\"data row1 col1\" >-1.184581</td>\n",
       "      <td id=\"T_62985_row1_col2\" class=\"data row1 col2\" >0.000000</td>\n",
       "      <td id=\"T_62985_row1_col3\" class=\"data row1 col3\" >0.000000</td>\n",
       "      <td id=\"T_62985_row1_col4\" class=\"data row1 col4\" >0.000000</td>\n",
       "      <td id=\"T_62985_row1_col5\" class=\"data row1 col5\" >0.000025</td>\n",
       "    </tr>\n",
       "    <tr>\n",
       "      <td id=\"T_62985_row2_col0\" class=\"data row2 col0\" >-0.000000</td>\n",
       "      <td id=\"T_62985_row2_col1\" class=\"data row2 col1\" >-0.000000</td>\n",
       "      <td id=\"T_62985_row2_col2\" class=\"data row2 col2\" >-0.618300</td>\n",
       "      <td id=\"T_62985_row2_col3\" class=\"data row2 col3\" >6.832510</td>\n",
       "      <td id=\"T_62985_row2_col4\" class=\"data row2 col4\" >0.000000</td>\n",
       "      <td id=\"T_62985_row2_col5\" class=\"data row2 col5\" >-0.000000</td>\n",
       "    </tr>\n",
       "    <tr>\n",
       "      <td id=\"T_62985_row3_col0\" class=\"data row3 col0\" >-0.000000</td>\n",
       "      <td id=\"T_62985_row3_col1\" class=\"data row3 col1\" >-0.000000</td>\n",
       "      <td id=\"T_62985_row3_col2\" class=\"data row3 col2\" >-0.093640</td>\n",
       "      <td id=\"T_62985_row3_col3\" class=\"data row3 col3\" >-0.582575</td>\n",
       "      <td id=\"T_62985_row3_col4\" class=\"data row3 col4\" >0.000000</td>\n",
       "      <td id=\"T_62985_row3_col5\" class=\"data row3 col5\" >-0.000000</td>\n",
       "    </tr>\n",
       "    <tr>\n",
       "      <td id=\"T_62985_row4_col0\" class=\"data row4 col0\" >-0.000028</td>\n",
       "      <td id=\"T_62985_row4_col1\" class=\"data row4 col1\" >-0.000653</td>\n",
       "      <td id=\"T_62985_row4_col2\" class=\"data row4 col2\" >0.000000</td>\n",
       "      <td id=\"T_62985_row4_col3\" class=\"data row4 col3\" >0.000000</td>\n",
       "      <td id=\"T_62985_row4_col4\" class=\"data row4 col4\" >1.000000</td>\n",
       "      <td id=\"T_62985_row4_col5\" class=\"data row4 col5\" >-0.007041</td>\n",
       "    </tr>\n",
       "    <tr>\n",
       "      <td id=\"T_62985_row5_col0\" class=\"data row5 col0\" >0.000000</td>\n",
       "      <td id=\"T_62985_row5_col1\" class=\"data row5 col1\" >0.000000</td>\n",
       "      <td id=\"T_62985_row5_col2\" class=\"data row5 col2\" >0.000000</td>\n",
       "      <td id=\"T_62985_row5_col3\" class=\"data row5 col3\" >0.000000</td>\n",
       "      <td id=\"T_62985_row5_col4\" class=\"data row5 col4\" >0.000000</td>\n",
       "      <td id=\"T_62985_row5_col5\" class=\"data row5 col5\" >1.000000</td>\n",
       "    </tr>\n",
       "  </tbody>\n",
       "</table>\n"
      ],
      "text/plain": [
       "<pandas.io.formats.style.Styler at 0x16c0abf50>"
      ]
     },
     "metadata": {},
     "output_type": "display_data"
    },
    {
     "data": {
      "text/html": [
       "<style type=\"text/css\">\n",
       "</style>\n",
       "<table id=\"T_42695\">\n",
       "  <thead>\n",
       "  </thead>\n",
       "  <tbody>\n",
       "    <tr>\n",
       "      <td id=\"T_42695_row0_col0\" class=\"data row0 col0\" >-1.217489</td>\n",
       "      <td id=\"T_42695_row0_col1\" class=\"data row0 col1\" >-4.973529</td>\n",
       "      <td id=\"T_42695_row0_col2\" class=\"data row0 col2\" >-0.000000</td>\n",
       "      <td id=\"T_42695_row0_col3\" class=\"data row0 col3\" >-0.000000</td>\n",
       "      <td id=\"T_42695_row0_col4\" class=\"data row0 col4\" >0.000000</td>\n",
       "      <td id=\"T_42695_row0_col5\" class=\"data row0 col5\" >0.000655</td>\n",
       "    </tr>\n",
       "    <tr>\n",
       "      <td id=\"T_42695_row1_col0\" class=\"data row1 col0\" >-0.088914</td>\n",
       "      <td id=\"T_42695_row1_col1\" class=\"data row1 col1\" >-1.184581</td>\n",
       "      <td id=\"T_42695_row1_col2\" class=\"data row1 col2\" >0.000000</td>\n",
       "      <td id=\"T_42695_row1_col3\" class=\"data row1 col3\" >0.000000</td>\n",
       "      <td id=\"T_42695_row1_col4\" class=\"data row1 col4\" >0.000000</td>\n",
       "      <td id=\"T_42695_row1_col5\" class=\"data row1 col5\" >0.000025</td>\n",
       "    </tr>\n",
       "    <tr>\n",
       "      <td id=\"T_42695_row2_col0\" class=\"data row2 col0\" >-0.000000</td>\n",
       "      <td id=\"T_42695_row2_col1\" class=\"data row2 col1\" >-0.000000</td>\n",
       "      <td id=\"T_42695_row2_col2\" class=\"data row2 col2\" >-0.616696</td>\n",
       "      <td id=\"T_42695_row2_col3\" class=\"data row2 col3\" >6.832510</td>\n",
       "      <td id=\"T_42695_row2_col4\" class=\"data row2 col4\" >0.000000</td>\n",
       "      <td id=\"T_42695_row2_col5\" class=\"data row2 col5\" >-0.000000</td>\n",
       "    </tr>\n",
       "    <tr>\n",
       "      <td id=\"T_42695_row3_col0\" class=\"data row3 col0\" >-0.000000</td>\n",
       "      <td id=\"T_42695_row3_col1\" class=\"data row3 col1\" >-0.000000</td>\n",
       "      <td id=\"T_42695_row3_col2\" class=\"data row3 col2\" >-0.093776</td>\n",
       "      <td id=\"T_42695_row3_col3\" class=\"data row3 col3\" >-0.582575</td>\n",
       "      <td id=\"T_42695_row3_col4\" class=\"data row3 col4\" >0.000000</td>\n",
       "      <td id=\"T_42695_row3_col5\" class=\"data row3 col5\" >-0.000000</td>\n",
       "    </tr>\n",
       "    <tr>\n",
       "      <td id=\"T_42695_row4_col0\" class=\"data row4 col0\" >-0.000028</td>\n",
       "      <td id=\"T_42695_row4_col1\" class=\"data row4 col1\" >-0.000653</td>\n",
       "      <td id=\"T_42695_row4_col2\" class=\"data row4 col2\" >0.000000</td>\n",
       "      <td id=\"T_42695_row4_col3\" class=\"data row4 col3\" >0.000000</td>\n",
       "      <td id=\"T_42695_row4_col4\" class=\"data row4 col4\" >1.000000</td>\n",
       "      <td id=\"T_42695_row4_col5\" class=\"data row4 col5\" >-0.007041</td>\n",
       "    </tr>\n",
       "    <tr>\n",
       "      <td id=\"T_42695_row5_col0\" class=\"data row5 col0\" >0.000000</td>\n",
       "      <td id=\"T_42695_row5_col1\" class=\"data row5 col1\" >0.000000</td>\n",
       "      <td id=\"T_42695_row5_col2\" class=\"data row5 col2\" >0.000000</td>\n",
       "      <td id=\"T_42695_row5_col3\" class=\"data row5 col3\" >0.000000</td>\n",
       "      <td id=\"T_42695_row5_col4\" class=\"data row5 col4\" >0.000000</td>\n",
       "      <td id=\"T_42695_row5_col5\" class=\"data row5 col5\" >1.000000</td>\n",
       "    </tr>\n",
       "  </tbody>\n",
       "</table>\n"
      ],
      "text/plain": [
       "<pandas.io.formats.style.Styler at 0x16c025e50>"
      ]
     },
     "metadata": {},
     "output_type": "display_data"
    }
   ],
   "source": [
    "def getMatrixNew(tao, start, end, order = 1, startOffset = 0, endOffset = 0, print = False):\n",
    "    \"\"\"Return zero or first order transport matrix from start to end, with offsets. Optionally print in a human readable format\"\"\"\n",
    "    \n",
    "    startS = tao.ele_head(start)[\"s\"] + startOffset\n",
    "    endS = tao.ele_head(end)[\"s\"] + endOffset\n",
    "\n",
    "    #This disgusting workaround is required because PyTao implementation of taylor_map doesn't support -s mode\n",
    "    if order == 0: \n",
    "        allStrings = tao.show(f\"taylor_map -order 0 -s {startS} {endS}\")\n",
    "        transportMatrix = np.array([float(str) for str in allStrings[0].split()])\n",
    "    \n",
    "    \n",
    "    elif order == 1:\n",
    "        allStrings = tao.show(f\"taylor_map -s {startS} {endS}\")\n",
    "        splitStrings = [str.split() for str in allStrings]\n",
    "        transportMatrix = np.array([ [float(str) for str in row[0:6]] for row in splitStrings[2:] ])\n",
    "    \n",
    "    \n",
    "    else:\n",
    "        print(\"Invalid matrix order requested\")\n",
    "        return\n",
    "    \n",
    "\n",
    "\n",
    "    if print:\n",
    "        displayMatrix(transportMatrix)\n",
    "        \n",
    "    return transportMatrix\n",
    "\n",
    "\n",
    "getMatrix(tao, \"BEGBC20\", \"MFFF\", print = True);\n",
    "getMatrixNew(tao, \"BEGBC20\", \"MFFF\", print = True);"
   ]
  },
  {
   "cell_type": "code",
   "execution_count": 44,
   "id": "88ed42eb-8001-4414-b012-6a6764a5b4d6",
   "metadata": {},
   "outputs": [
    {
     "data": {
      "text/html": [
       "<style type=\"text/css\">\n",
       "</style>\n",
       "<table id=\"T_c9798\">\n",
       "  <thead>\n",
       "  </thead>\n",
       "  <tbody>\n",
       "    <tr>\n",
       "      <td id=\"T_c9798_row0_col0\" class=\"data row0 col0\" >-1.515800</td>\n",
       "      <td id=\"T_c9798_row0_col1\" class=\"data row0 col1\" >-8.550864</td>\n",
       "      <td id=\"T_c9798_row0_col2\" class=\"data row0 col2\" >-0.000000</td>\n",
       "      <td id=\"T_c9798_row0_col3\" class=\"data row0 col3\" >0.000000</td>\n",
       "      <td id=\"T_c9798_row0_col4\" class=\"data row0 col4\" >0.000000</td>\n",
       "      <td id=\"T_c9798_row0_col5\" class=\"data row0 col5\" >0.000791</td>\n",
       "    </tr>\n",
       "    <tr>\n",
       "      <td id=\"T_c9798_row1_col0\" class=\"data row1 col0\" >-0.360483</td>\n",
       "      <td id=\"T_c9798_row1_col1\" class=\"data row1 col1\" >-2.693260</td>\n",
       "      <td id=\"T_c9798_row1_col2\" class=\"data row1 col2\" >0.000000</td>\n",
       "      <td id=\"T_c9798_row1_col3\" class=\"data row1 col3\" >0.000000</td>\n",
       "      <td id=\"T_c9798_row1_col4\" class=\"data row1 col4\" >0.000000</td>\n",
       "      <td id=\"T_c9798_row1_col5\" class=\"data row1 col5\" >0.000169</td>\n",
       "    </tr>\n",
       "    <tr>\n",
       "      <td id=\"T_c9798_row2_col0\" class=\"data row2 col0\" >0.000000</td>\n",
       "      <td id=\"T_c9798_row2_col1\" class=\"data row2 col1\" >0.000000</td>\n",
       "      <td id=\"T_c9798_row2_col2\" class=\"data row2 col2\" >-0.607708</td>\n",
       "      <td id=\"T_c9798_row2_col3\" class=\"data row2 col3\" >4.545597</td>\n",
       "      <td id=\"T_c9798_row2_col4\" class=\"data row2 col4\" >0.000000</td>\n",
       "      <td id=\"T_c9798_row2_col5\" class=\"data row2 col5\" >0.000000</td>\n",
       "    </tr>\n",
       "    <tr>\n",
       "      <td id=\"T_c9798_row3_col0\" class=\"data row3 col0\" >0.000000</td>\n",
       "      <td id=\"T_c9798_row3_col1\" class=\"data row3 col1\" >0.000000</td>\n",
       "      <td id=\"T_c9798_row3_col2\" class=\"data row3 col2\" >0.041936</td>\n",
       "      <td id=\"T_c9798_row3_col3\" class=\"data row3 col3\" >-1.959205</td>\n",
       "      <td id=\"T_c9798_row3_col4\" class=\"data row3 col4\" >0.000000</td>\n",
       "      <td id=\"T_c9798_row3_col5\" class=\"data row3 col5\" >0.000000</td>\n",
       "    </tr>\n",
       "    <tr>\n",
       "      <td id=\"T_c9798_row4_col0\" class=\"data row4 col0\" >-0.000028</td>\n",
       "      <td id=\"T_c9798_row4_col1\" class=\"data row4 col1\" >-0.000682</td>\n",
       "      <td id=\"T_c9798_row4_col2\" class=\"data row4 col2\" >0.000000</td>\n",
       "      <td id=\"T_c9798_row4_col3\" class=\"data row4 col3\" >-0.000000</td>\n",
       "      <td id=\"T_c9798_row4_col4\" class=\"data row4 col4\" >1.000000</td>\n",
       "      <td id=\"T_c9798_row4_col5\" class=\"data row4 col5\" >-0.007041</td>\n",
       "    </tr>\n",
       "    <tr>\n",
       "      <td id=\"T_c9798_row5_col0\" class=\"data row5 col0\" >0.000000</td>\n",
       "      <td id=\"T_c9798_row5_col1\" class=\"data row5 col1\" >0.000000</td>\n",
       "      <td id=\"T_c9798_row5_col2\" class=\"data row5 col2\" >0.000000</td>\n",
       "      <td id=\"T_c9798_row5_col3\" class=\"data row5 col3\" >0.000000</td>\n",
       "      <td id=\"T_c9798_row5_col4\" class=\"data row5 col4\" >0.000000</td>\n",
       "      <td id=\"T_c9798_row5_col5\" class=\"data row5 col5\" >1.000000</td>\n",
       "    </tr>\n",
       "  </tbody>\n",
       "</table>\n"
      ],
      "text/plain": [
       "<pandas.io.formats.style.Styler at 0x16c053a90>"
      ]
     },
     "metadata": {},
     "output_type": "display_data"
    }
   ],
   "source": [
    "getMatrixNew(tao, \"BEGBC20\", \"MFFF\", startOffset = -1, endOffset = 1, print = True);"
   ]
  },
  {
   "cell_type": "code",
   "execution_count": 58,
   "id": "364f6f8c-cd73-4ffe-a2cb-520e78b833a3",
   "metadata": {},
   "outputs": [
    {
     "data": {
      "text/html": [
       "<style type=\"text/css\">\n",
       "</style>\n",
       "<table id=\"T_9b94f\">\n",
       "  <thead>\n",
       "  </thead>\n",
       "  <tbody>\n",
       "    <tr>\n",
       "      <td id=\"T_9b94f_row0_col0\" class=\"data row0 col0\" >0.000000</td>\n",
       "    </tr>\n",
       "    <tr>\n",
       "      <td id=\"T_9b94f_row1_col0\" class=\"data row1 col0\" >0.000000</td>\n",
       "    </tr>\n",
       "    <tr>\n",
       "      <td id=\"T_9b94f_row2_col0\" class=\"data row2 col0\" >0.000000</td>\n",
       "    </tr>\n",
       "    <tr>\n",
       "      <td id=\"T_9b94f_row3_col0\" class=\"data row3 col0\" >0.000000</td>\n",
       "    </tr>\n",
       "    <tr>\n",
       "      <td id=\"T_9b94f_row4_col0\" class=\"data row4 col0\" >0.000000</td>\n",
       "    </tr>\n",
       "    <tr>\n",
       "      <td id=\"T_9b94f_row5_col0\" class=\"data row5 col0\" >0.000000</td>\n",
       "    </tr>\n",
       "  </tbody>\n",
       "</table>\n"
      ],
      "text/plain": [
       "<pandas.io.formats.style.Styler at 0x16bc4a390>"
      ]
     },
     "metadata": {},
     "output_type": "display_data"
    }
   ],
   "source": [
    "getMatrixNew(tao, \"BEGBC20\", \"MFFF\", startOffset = -1, endOffset = 1, order = 0, print = True);"
   ]
  },
  {
   "cell_type": "code",
   "execution_count": null,
   "id": "e4d34249-e25f-41db-884f-a9778868864f",
   "metadata": {},
   "outputs": [],
   "source": []
  }
 ],
 "metadata": {
  "kernelspec": {
   "display_name": "Python 3 (ipykernel)",
   "language": "python",
   "name": "python3"
  },
  "language_info": {
   "codemirror_mode": {
    "name": "ipython",
    "version": 3
   },
   "file_extension": ".py",
   "mimetype": "text/x-python",
   "name": "python",
   "nbconvert_exporter": "python",
   "pygments_lexer": "ipython3",
   "version": "3.11.8"
  }
 },
 "nbformat": 4,
 "nbformat_minor": 5
}
