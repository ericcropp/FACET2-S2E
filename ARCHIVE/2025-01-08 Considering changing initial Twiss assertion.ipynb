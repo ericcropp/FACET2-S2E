{
 "cells": [
  {
   "cell_type": "code",
   "execution_count": 1,
   "id": "ba3269bf-6983-4ba9-b402-b062b5aba9ab",
   "metadata": {},
   "outputs": [],
   "source": [
    "from UTILITY_quickstart import *"
   ]
  },
  {
   "cell_type": "code",
   "execution_count": 2,
   "id": "8f305619-11e3-45a8-bdcb-92223274f86d",
   "metadata": {},
   "outputs": [
    {
     "name": "stdout",
     "output_type": "stream",
     "text": [
      "Environment set to:  /Users/nmajik/Documents/SLAC/FACET2-Bmad-PyTao\n",
      "Tracking to end\n",
      "CSR off\n",
      "Base Tao lattice\n",
      "WARNING! No beam file is specified!\n",
      "Number of macro particles defined by input file\n"
     ]
    }
   ],
   "source": [
    "#Start from golden lattice\n",
    "tao = initializeTao(\n",
    "    loadDefaultLatticeTF = False\n",
    ")"
   ]
  },
  {
   "cell_type": "code",
   "execution_count": 3,
   "id": "92135d3e-4d52-4d15-9681-8a77aff333ac",
   "metadata": {},
   "outputs": [
    {
     "data": {
      "text/plain": [
       "['Element # 37',\n",
       " 'Element Name: L0AFEND',\n",
       " 'Key: Marker',\n",
       " 'S_start, S:      4.127448,      4.127448',\n",
       " 'Ref_time_start, Ref_time:  1.378376E-08,  1.378376E-08',\n",
       " '',\n",
       " 'Attribute values [Only non-zero values shown]:',\n",
       " '    1  L                           =  0.0000000E+00 m',\n",
       " '    7  OSC_AMPLITUDE               =  0.0000000E+00 m',\n",
       " '   24  TILT_CALIB                  =  0.0000000E+00 rad',\n",
       " '   25  DE_ETA_MEAS                 =  0.0000000E+00',\n",
       " '   53  P0C                         =  6.3997960E+07 eV           BETA                        =  9.9996812E-01',\n",
       " '   54  E_TOT                       =  6.4000000E+07 eV           GAMMA                       =  1.2524488E+02',\n",
       " '   64  REF_TIME_START              =  1.3783756E-08 sec      50  DELTA_REF_TIME              =  0.0000000E+00 sec',\n",
       " '',\n",
       " '       TRACKING_METHOD              =  Bmad_Standard             APERTURE_AT                =  Exit_End',\n",
       " '       MAT6_CALC_METHOD             =  Auto                      APERTURE_TYPE              =  Rectangular',\n",
       " '       SPIN_TRACKING_METHOD         =  Tracking                  OFFSET_MOVES_APERTURE      =  F',\n",
       " '       PTC_INTEGRATION_TYPE         =  Matrix_Kick               LONGITUDINAL ORIENTATION   =       1',\n",
       " '                                                                 REF_SPECIES                =  Electron',\n",
       " '',\n",
       " 'Slave_status: Free',\n",
       " '',\n",
       " 'Lord_status:  Not_a_Lord',\n",
       " '',\n",
       " 'Twiss at end of element:',\n",
       " '                          A              B            Cbar                        C_mat',\n",
       " '  Beta (m)        48.83077726    51.21390838  |   0.00000000   0.00000000      0.00000000   0.00000000',\n",
       " '  Alpha           -3.16249843    -4.38763344  |   0.00000000   0.00000000      0.00000000   0.00000000',\n",
       " '  Gamma (1/m)      0.22529636     0.39542632  |   Gamma_c =   1.00000000       Mode_Flip = F',\n",
       " '  Phi (rad)        2.35471542     2.70020371            X              Y              Z',\n",
       " '  Eta (m)          0.00000000     0.00000000     0.00000000     0.00000000     0.11863270',\n",
       " '  Etap             0.00000000     0.00000000     0.00000000     0.00000000     0.00000000',\n",
       " '  dEta/ds          0.00000000     0.00000000     0.00000000     0.00000000     0.00000000',\n",
       " '',\n",
       " 'Tracking: Electron,   State: Alive',\n",
       " '         Position[mm] Momentum[mrad]        Spin   |',\n",
       " '  X:       0.00000000     0.00000000               | t_particle [sec]:        1.37837562E-08  E_tot: 6.40000E+07',\n",
       " '  Y:       0.00000000     0.00000000               | t_part-t_ref [sec]:      1.65436123E-24  PC:    6.39980E+07',\n",
       " '  Z:       0.00000000     0.00000000               | (t_ref-t_part)*Vel [m]: -4.95949209E-16  Beta:  0.999968125']"
      ]
     },
     "execution_count": 3,
     "metadata": {},
     "output_type": "execute_result"
    }
   ],
   "source": [
    "tao.cmd(\"show ele L0AFEND\")"
   ]
  },
  {
   "cell_type": "code",
   "execution_count": 4,
   "id": "4ad5f3c3-3fcc-4afc-b552-4ea33197b183",
   "metadata": {},
   "outputs": [
    {
     "data": {
      "text/plain": [
       "['Element # 124',\n",
       " 'Element Name: PR10571',\n",
       " 'Element Type:  \"OTR\"',\n",
       " 'Element Alias:  \"OTRS:IN10:571\"',\n",
       " 'Key: Monitor',\n",
       " 'S_start, S:     14.236682,     14.236682',\n",
       " 'Ref_time_start, Ref_time:  4.750495E-08,  4.750495E-08',\n",
       " '',\n",
       " 'Attribute values [Only non-zero values shown]:',\n",
       " '    1  L                           =  0.0000000E+00 m',\n",
       " '    7  OSC_AMPLITUDE               =  0.0000000E+00 m',\n",
       " '   10  FRINGE_TYPE                 =  None (1)               11  FRINGE_AT                   =  Both_Ends (3)',\n",
       " '   13  SPIN_FRINGE_ON              =  T (1)',\n",
       " '   17  STATIC_LINEAR_MAP           =  F (0)',\n",
       " '   24  TILT_CALIB                  =  0.0000000E+00 rad',\n",
       " '   25  DE_ETA_MEAS                 =  0.0000000E+00',\n",
       " '   53  P0C                         =  1.2499896E+08 eV           BETA                        =  9.9999164E-01',\n",
       " '   54  E_TOT                       =  1.2500000E+08 eV           GAMMA                       =  2.4461890E+02',\n",
       " '   64  REF_TIME_START              =  4.7504954E-08 sec      50  DELTA_REF_TIME              =  0.0000000E+00 sec',\n",
       " '   65  INTEGRATOR_ORDER            = 0',\n",
       " '   67  DS_STEP                     =  2.0000000E-01 m        66  NUM_STEPS                   = 1',\n",
       " '   68  CSR_DS_STEP                 =  0.0000000E+00 m',\n",
       " '',\n",
       " '       TRACKING_METHOD              =  Bmad_Standard             APERTURE_AT                =  Exit_End',\n",
       " '       MAT6_CALC_METHOD             =  Auto                      APERTURE_TYPE              =  Rectangular',\n",
       " '       SPIN_TRACKING_METHOD         =  Tracking                  OFFSET_MOVES_APERTURE      =  F',\n",
       " '       PTC_INTEGRATION_TYPE         =  Matrix_Kick               SYMPLECTIFY                =  F',\n",
       " '       CSR_METHOD                   =  Off                       LONGITUDINAL ORIENTATION   =       1',\n",
       " '       SPACE_CHARGE_METHOD          =  Off                       REF_SPECIES                =  Electron',\n",
       " '       FIELD_CALC                   =  Bmad_Standard',\n",
       " '',\n",
       " 'Slave_status: Free',\n",
       " '',\n",
       " 'Lord_status:  Not_a_Lord',\n",
       " '',\n",
       " 'Twiss at end of element:',\n",
       " '                          A              B            Cbar                        C_mat',\n",
       " '  Beta (m)         5.73666431     2.57530302  |  -0.00000000   0.00000000     -0.00000000   0.00000000',\n",
       " '  Alpha           -2.14411559     0.01016211  |  -0.00000000   0.00000000     -0.00000000   0.00000000',\n",
       " '  Gamma (1/m)      0.97569448     0.38834392  |   Gamma_c =   1.00000000       Mode_Flip = F',\n",
       " '  Phi (rad)        8.03222030     7.92284024            X              Y              Z',\n",
       " '  Eta (m)         -0.00000000     0.00000000    -0.00000000     0.00000000     0.33734008',\n",
       " '  Etap             0.00000000     0.00000000     0.00000000     0.00000000     0.00000000',\n",
       " '  dEta/ds         -0.00000000     0.00000000    -0.00000000     0.00000000     0.00000000',\n",
       " '',\n",
       " 'Tracking: Electron,   State: Alive',\n",
       " '         Position[mm] Momentum[mrad]        Spin   |',\n",
       " '  X:       0.00000000     0.00000000               | t_particle [sec]:        4.75049539E-08  E_tot: 1.25000E+08',\n",
       " '  Y:       0.00000000    -0.00000000               | t_part-t_ref [sec]:      1.32348898E-23  PC:    1.24999E+08',\n",
       " '  Z:       0.00000000     0.00000000               | (t_ref-t_part)*Vel [m]: -3.96768699E-15  Beta:  0.999991644']"
      ]
     },
     "execution_count": 4,
     "metadata": {},
     "output_type": "execute_result"
    }
   ],
   "source": [
    "tao.cmd(\"show ele PR10571\")"
   ]
  },
  {
   "cell_type": "code",
   "execution_count": 5,
   "id": "e10e61f4-b016-42e0-beaf-28a11aa4cbee",
   "metadata": {},
   "outputs": [
    {
     "data": {
      "text/plain": [
       "['Element # 0',\n",
       " 'Element Name: BEGINNING',\n",
       " 'Key: Beginning_Ele',\n",
       " 'S_start, S:      0.000000,      0.000000',\n",
       " 'Ref_time_start, Ref_time:  0.000000E+00,  0.000000E+00',\n",
       " '',\n",
       " 'Attribute values [Only non-zero values shown]:',\n",
       " '    2  INHERIT_FROM_FORK           =  F (0)',\n",
       " '    7  SPIN_DN_DPZ_X               =  0.0000000E+00',\n",
       " '    8  SPIN_DN_DPZ_Y               =  0.0000000E+00',\n",
       " '    9  SPIN_DN_DPZ_Z               =  0.0000000E+00',\n",
       " '   33  MODE_FLIP                   =  F (0)',\n",
       " '   51  P0C_START                   =  5.9782004E+06 eV           BETA_START                  =  9.9636673E-01',\n",
       " '   52  E_TOT_START                 =  6.0000000E+06 eV           DELTA_E                     =  0.0000000E+00 eV',\n",
       " '   53  P0C                         =  5.9782004E+06 eV           BETA                        =  9.9636673E-01',\n",
       " '   54  E_TOT                       =  6.0000000E+06 eV           GAMMA                       =  1.1741707E+01',\n",
       " '',\n",
       " '                                                                 LONGITUDINAL ORIENTATION   =       1',\n",
       " '                                                                 REF_SPECIES                =  Electron',\n",
       " '',\n",
       " 'Slave_status: Free',\n",
       " '',\n",
       " 'Lord_status:  Not_a_Lord',\n",
       " '',\n",
       " 'Twiss at end of element:',\n",
       " '                          A              B            Cbar                        C_mat',\n",
       " '  Beta (m)         0.13944913     0.36535964  |   0.00000000   0.00000000      0.00000000   0.00000000',\n",
       " '  Alpha            0.95113773     1.99621756  |   0.00000000   0.00000000      0.00000000   0.00000000',\n",
       " '  Gamma (1/m)     13.65847911    13.64377449  |   Gamma_c =   1.00000000       Mode_Flip = F',\n",
       " '  Phi (rad)        0.00000000     0.00000000            X              Y              Z',\n",
       " '  Eta (m)          0.00000000     0.00000000     0.00000000     0.00000000     0.00000000',\n",
       " '  Etap             0.00000000     0.00000000     0.00000000     0.00000000     0.00000000',\n",
       " '  dEta/ds          0.00000000     0.00000000     0.00000000     0.00000000     0.00000000',\n",
       " '',\n",
       " 'Tracking: Electron,   State: Alive',\n",
       " '         Position[mm] Momentum[mrad]        Spin   |',\n",
       " '  X:       0.00000000     0.00000000               | t_particle [sec]:        0.00000000E+00  E_tot: 6.00000E+06',\n",
       " '  Y:       0.00000000     0.00000000               | t_part-t_ref [sec]:      0.00000000E+00  PC:    5.97820E+06',\n",
       " '  Z:       0.00000000     0.00000000               | (t_ref-t_part)*Vel [m]:  0.00000000E+00  Beta:  0.996366734']"
      ]
     },
     "execution_count": 5,
     "metadata": {},
     "output_type": "execute_result"
    }
   ],
   "source": [
    "#tao.cmd(\"set ele L0AFEND beta_a = 2.0\") #This command fails\n",
    "tao.cmd(\"show element beginning\")"
   ]
  },
  {
   "cell_type": "code",
   "execution_count": 6,
   "id": "fd9fd3f6-f8b6-42db-b6c6-ba254608b29b",
   "metadata": {},
   "outputs": [],
   "source": [
    "#These appear to be set in bmad/models/f2_elec/f2_elec.lat.bmad: BEGINNING[BETA_A] =  1.39449126865854395E-001"
   ]
  },
  {
   "cell_type": "code",
   "execution_count": 7,
   "id": "ebd5af9d-23d9-4e77-81a3-a5c49d7e3144",
   "metadata": {},
   "outputs": [],
   "source": [
    "#tao.cmd(\"set element beginning beta_a = 7\")"
   ]
  },
  {
   "cell_type": "code",
   "execution_count": 8,
   "id": "07aea7e6-29f5-4102-b739-c21abdde273c",
   "metadata": {},
   "outputs": [
    {
     "data": {
      "text/plain": [
       "['Element # 37',\n",
       " 'Element Name: L0AFEND',\n",
       " 'Key: Marker',\n",
       " 'S_start, S:      4.127448,      4.127448',\n",
       " 'Ref_time_start, Ref_time:  1.378376E-08,  1.378376E-08',\n",
       " '',\n",
       " 'Attribute values [Only non-zero values shown]:',\n",
       " '    1  L                           =  0.0000000E+00 m',\n",
       " '    7  OSC_AMPLITUDE               =  0.0000000E+00 m',\n",
       " '   24  TILT_CALIB                  =  0.0000000E+00 rad',\n",
       " '   25  DE_ETA_MEAS                 =  0.0000000E+00',\n",
       " '   53  P0C                         =  6.3997960E+07 eV           BETA                        =  9.9996812E-01',\n",
       " '   54  E_TOT                       =  6.4000000E+07 eV           GAMMA                       =  1.2524488E+02',\n",
       " '   64  REF_TIME_START              =  1.3783756E-08 sec      50  DELTA_REF_TIME              =  0.0000000E+00 sec',\n",
       " '',\n",
       " '       TRACKING_METHOD              =  Bmad_Standard             APERTURE_AT                =  Exit_End',\n",
       " '       MAT6_CALC_METHOD             =  Auto                      APERTURE_TYPE              =  Rectangular',\n",
       " '       SPIN_TRACKING_METHOD         =  Tracking                  OFFSET_MOVES_APERTURE      =  F',\n",
       " '       PTC_INTEGRATION_TYPE         =  Matrix_Kick               LONGITUDINAL ORIENTATION   =       1',\n",
       " '                                                                 REF_SPECIES                =  Electron',\n",
       " '',\n",
       " 'Slave_status: Free',\n",
       " '',\n",
       " 'Lord_status:  Not_a_Lord',\n",
       " '',\n",
       " 'Twiss at end of element:',\n",
       " '                          A              B            Cbar                        C_mat',\n",
       " '  Beta (m)        48.83077726    51.21390838  |   0.00000000   0.00000000      0.00000000   0.00000000',\n",
       " '  Alpha           -3.16249843    -4.38763344  |   0.00000000   0.00000000      0.00000000   0.00000000',\n",
       " '  Gamma (1/m)      0.22529636     0.39542632  |   Gamma_c =   1.00000000       Mode_Flip = F',\n",
       " '  Phi (rad)        2.35471542     2.70020371            X              Y              Z',\n",
       " '  Eta (m)          0.00000000     0.00000000     0.00000000     0.00000000     0.11863270',\n",
       " '  Etap             0.00000000     0.00000000     0.00000000     0.00000000     0.00000000',\n",
       " '  dEta/ds          0.00000000     0.00000000     0.00000000     0.00000000     0.00000000',\n",
       " '',\n",
       " 'Tracking: Electron,   State: Alive',\n",
       " '         Position[mm] Momentum[mrad]        Spin   |',\n",
       " '  X:       0.00000000     0.00000000               | t_particle [sec]:        1.37837562E-08  E_tot: 6.40000E+07',\n",
       " '  Y:       0.00000000     0.00000000               | t_part-t_ref [sec]:      1.65436123E-24  PC:    6.39980E+07',\n",
       " '  Z:       0.00000000     0.00000000               | (t_ref-t_part)*Vel [m]: -4.95949209E-16  Beta:  0.999968125']"
      ]
     },
     "execution_count": 8,
     "metadata": {},
     "output_type": "execute_result"
    }
   ],
   "source": [
    "tao.cmd(\"show ele L0AFEND\")"
   ]
  },
  {
   "cell_type": "code",
   "execution_count": 9,
   "id": "8c3d8bfb-96bd-4c73-9056-a16953fd68d9",
   "metadata": {},
   "outputs": [
    {
     "data": {
      "text/html": [
       "<style type=\"text/css\">\n",
       "</style>\n",
       "<table id=\"T_850f3\">\n",
       "  <thead>\n",
       "  </thead>\n",
       "  <tbody>\n",
       "    <tr>\n",
       "      <td id=\"T_850f3_row0_col0\" class=\"data row0 col0\" >-0.185935</td>\n",
       "      <td id=\"T_850f3_row0_col1\" class=\"data row0 col1\" >0.564785</td>\n",
       "      <td id=\"T_850f3_row0_col2\" class=\"data row0 col2\" >0.000000</td>\n",
       "      <td id=\"T_850f3_row0_col3\" class=\"data row0 col3\" >0.000000</td>\n",
       "      <td id=\"T_850f3_row0_col4\" class=\"data row0 col4\" >0.000000</td>\n",
       "      <td id=\"T_850f3_row0_col5\" class=\"data row0 col5\" >0.000000</td>\n",
       "    </tr>\n",
       "    <tr>\n",
       "      <td id=\"T_850f3_row1_col0\" class=\"data row1 col0\" >-0.173640</td>\n",
       "      <td id=\"T_850f3_row1_col1\" class=\"data row1 col1\" >0.025046</td>\n",
       "      <td id=\"T_850f3_row1_col2\" class=\"data row1 col2\" >0.000000</td>\n",
       "      <td id=\"T_850f3_row1_col3\" class=\"data row1 col3\" >0.000000</td>\n",
       "      <td id=\"T_850f3_row1_col4\" class=\"data row1 col4\" >0.000000</td>\n",
       "      <td id=\"T_850f3_row1_col5\" class=\"data row1 col5\" >0.000000</td>\n",
       "    </tr>\n",
       "    <tr>\n",
       "      <td id=\"T_850f3_row2_col0\" class=\"data row2 col0\" >0.000000</td>\n",
       "      <td id=\"T_850f3_row2_col1\" class=\"data row2 col1\" >0.000000</td>\n",
       "      <td id=\"T_850f3_row2_col2\" class=\"data row2 col2\" >-0.185935</td>\n",
       "      <td id=\"T_850f3_row2_col3\" class=\"data row2 col3\" >0.564785</td>\n",
       "      <td id=\"T_850f3_row2_col4\" class=\"data row2 col4\" >0.000000</td>\n",
       "      <td id=\"T_850f3_row2_col5\" class=\"data row2 col5\" >0.000000</td>\n",
       "    </tr>\n",
       "    <tr>\n",
       "      <td id=\"T_850f3_row3_col0\" class=\"data row3 col0\" >0.000000</td>\n",
       "      <td id=\"T_850f3_row3_col1\" class=\"data row3 col1\" >0.000000</td>\n",
       "      <td id=\"T_850f3_row3_col2\" class=\"data row3 col2\" >-0.173640</td>\n",
       "      <td id=\"T_850f3_row3_col3\" class=\"data row3 col3\" >0.025046</td>\n",
       "      <td id=\"T_850f3_row3_col4\" class=\"data row3 col4\" >0.000000</td>\n",
       "      <td id=\"T_850f3_row3_col5\" class=\"data row3 col5\" >0.000000</td>\n",
       "    </tr>\n",
       "    <tr>\n",
       "      <td id=\"T_850f3_row4_col0\" class=\"data row4 col0\" >0.000000</td>\n",
       "      <td id=\"T_850f3_row4_col1\" class=\"data row4 col1\" >0.000000</td>\n",
       "      <td id=\"T_850f3_row4_col2\" class=\"data row4 col2\" >0.000000</td>\n",
       "      <td id=\"T_850f3_row4_col3\" class=\"data row4 col3\" >0.000000</td>\n",
       "      <td id=\"T_850f3_row4_col4\" class=\"data row4 col4\" >1.001109</td>\n",
       "      <td id=\"T_850f3_row4_col5\" class=\"data row4 col5\" >0.008643</td>\n",
       "    </tr>\n",
       "    <tr>\n",
       "      <td id=\"T_850f3_row5_col0\" class=\"data row5 col0\" >0.000000</td>\n",
       "      <td id=\"T_850f3_row5_col1\" class=\"data row5 col1\" >0.000000</td>\n",
       "      <td id=\"T_850f3_row5_col2\" class=\"data row5 col2\" >0.000000</td>\n",
       "      <td id=\"T_850f3_row5_col3\" class=\"data row5 col3\" >0.000000</td>\n",
       "      <td id=\"T_850f3_row5_col4\" class=\"data row5 col4\" >-2.372899</td>\n",
       "      <td id=\"T_850f3_row5_col5\" class=\"data row5 col5\" >0.072852</td>\n",
       "    </tr>\n",
       "  </tbody>\n",
       "</table>\n"
      ],
      "text/plain": [
       "<pandas.io.formats.style.Styler at 0x14034ee50>"
      ]
     },
     "metadata": {},
     "output_type": "display_data"
    }
   ],
   "source": [
    "getMatrix(tao, \"beginning\", \"L0AFEND\", print=True);"
   ]
  },
  {
   "cell_type": "code",
   "execution_count": 10,
   "id": "d2886109-0f14-43a7-86fc-b396e45a02bf",
   "metadata": {},
   "outputs": [],
   "source": [
    "# results = []\n",
    "# for betaSet in np.arange(0.1,2,0.1):\n",
    "#     for alphaSet in np.arange(-2,2,0.1):\n",
    "        \n",
    "#         tao.cmd(f\"set element beginning beta_a = {betaSet}\")\n",
    "#         tao.cmd(f\"set element beginning alpha_a = {alphaSet}\")\n",
    "    \n",
    "#         #print(f\"\"\"{betaSet}, {alphaSet}, {tao.ele_twiss(\"L0AFEND\")[\"beta_a\"]}, {tao.ele_twiss(\"L0AFEND\")[\"alpha_a\"]}\"\"\")\n",
    "\n",
    "#         results.append({\"betaSet\": betaSet, \"alphaSet\": alphaSet, \"beta_a\": tao.ele_twiss(\"L0AFEND\")[\"beta_a\"], \"alpha_a\": tao.ele_twiss(\"L0AFEND\")[\"alpha_a\"]})\n",
    "\n",
    "#         # Convert the results list to a DataFrame\n",
    "#         results_df = pd.DataFrame(results)\n",
    "        \n",
    "#         # Export the DataFrame to a CSV file\n",
    "#         results_df.to_csv(\"results.csv\", index=False)\n"
   ]
  },
  {
   "cell_type": "code",
   "execution_count": 24,
   "id": "2070b583-d83f-41b0-9aa9-bf1dea5bcf36",
   "metadata": {},
   "outputs": [
    {
     "name": "stdout",
     "output_type": "stream",
     "text": [
      "Optimization Results:\n",
      "Optimal Parameters: [0.36531995 1.99592664]\n",
      "Objective Function Value at Optimal Parameters: 2.2440030968439697e-10\n",
      "Number of Iterations: 46\n",
      "Converged: True\n"
     ]
    }
   ],
   "source": [
    "from scipy.optimize import minimize\n",
    "\n",
    "# Define the objective function\n",
    "def objective_function(params, evalElement, targetBeta, targetAlpha, axis):\n",
    "    betaSet, alphaSet = params\n",
    "\n",
    "    #Just in case someone uses a \"normal\" axis definition\n",
    "    if axis == \"x\":\n",
    "        axis = \"a\"\n",
    "    if axis == \"y\":\n",
    "        axis = \"b\"\n",
    "    \n",
    "    try:\n",
    "        tao.cmd(f\"set element beginning beta_{axis} = {betaSet}\")\n",
    "        tao.cmd(f\"set element beginning alpha_{axis} = {alphaSet}\")\n",
    "   \n",
    "    except: #If Bmad doesn't like the proposed solution, don't crash, give a bad number\n",
    "        return 1e20\n",
    "    \n",
    "    return (tao.ele_twiss(evalElement)[f\"beta_{axis}\"] - targetBeta) ** 2 + (tao.ele_twiss(evalElement)[f\"alpha_{axis}\"] - targetAlpha) ** 2\n",
    "\n",
    "# Initial guess for the parameters\n",
    "initial_guess = [0.5, 0.5]  # Starting values for x and y\n",
    "\n",
    "# Perform optimization using Nelder-Mead\n",
    "result = minimize(\n",
    "    objective_function, \n",
    "    initial_guess, \n",
    "    method='Nelder-Mead',\n",
    "    bounds = [(1e-9, 1e3), (-100, 100)],\n",
    "    #args = (\"L0AFEND\", 48.8, -3.16, \"b\")\n",
    "    args = (\"PENT\", 0.5, 0.0, \"y\")\n",
    ")\n",
    "\n",
    "# Print the results\n",
    "print(\"Optimization Results:\")\n",
    "print(f\"Optimal Parameters: {result.x}\")\n",
    "print(f\"Objective Function Value at Optimal Parameters: {result.fun}\")\n",
    "print(f\"Number of Iterations: {result.nit}\")\n",
    "print(f\"Converged: {result.success}\")\n"
   ]
  },
  {
   "cell_type": "code",
   "execution_count": 28,
   "id": "455996eb-d2b6-4f97-b748-75b8b0a17cc8",
   "metadata": {},
   "outputs": [
    {
     "name": "stdout",
     "output_type": "stream",
     "text": [
      "Optimization Results:\n",
      "Optimal Parameters: [0.13945493 0.95135428 0.36530456 1.99590007]\n",
      "Objective Function Value at Optimal Parameters: 8.211377732318002e-09\n",
      "Number of Iterations: 175\n",
      "Converged: True\n"
     ]
    }
   ],
   "source": [
    "#Here's a version that would work if the axes are coupled.... they really, really, really shouldn't ever be though\n",
    "def objective_function(params, evalElement, targetBetaX, targetAlphaX, targetBetaY, targetAlphaY):\n",
    "    betaSetX, alphaSetX, betaSetY, alphaSetY = params\n",
    "    \n",
    "    try:\n",
    "        #Prevent recalculation until changes are made\n",
    "        tao.cmd(\"set global lattice_calc_on = F\")\n",
    "        \n",
    "        tao.cmd(f\"set element beginning beta_a = {betaSetX}\")\n",
    "        tao.cmd(f\"set element beginning alpha_a = {alphaSetX}\")\n",
    "        tao.cmd(f\"set element beginning beta_b = {betaSetY}\")\n",
    "        tao.cmd(f\"set element beginning alpha_b = {alphaSetY}\")\n",
    "        \n",
    "        #Reenable lattice calculations\n",
    "        tao.cmd(\"set global lattice_calc_on = T\")\n",
    "    \n",
    "    except: #If Bmad doesn't like the proposed solution, don't crash, give a bad number\n",
    "        return 1e20\n",
    "    \n",
    "    return (tao.ele_twiss(evalElement)[f\"beta_a\"] - targetBetaX) ** 2 + (tao.ele_twiss(evalElement)[f\"alpha_a\"] - targetAlphaX) ** 2 + (tao.ele_twiss(evalElement)[f\"beta_b\"] - targetBetaY) ** 2 + (tao.ele_twiss(evalElement)[f\"alpha_b\"] - targetAlphaY) ** 2\n",
    "\n",
    "# Initial guess for the parameters\n",
    "initial_guess = [0.5, 0.5, 0.5, 0.5]\n",
    "\n",
    "# Perform optimization using Nelder-Mead\n",
    "result = minimize(\n",
    "    objective_function, \n",
    "    initial_guess, \n",
    "    method='Nelder-Mead',\n",
    "    bounds = [(1e-9, 1e3), (-100, 100), (1e-9, 1e3), (-100, 100)],\n",
    "    #args = (\"L0AFEND\", 0.5, 0.0, 0.5, 0.0)\n",
    "    args = (\"PENT\", 0.5, 0.0, 0.5, 0.0)\n",
    ")\n",
    "\n",
    "# Print the results\n",
    "print(\"Optimization Results:\")\n",
    "print(f\"Optimal Parameters: {result.x}\")\n",
    "print(f\"Objective Function Value at Optimal Parameters: {result.fun}\")\n",
    "print(f\"Number of Iterations: {result.nit}\")\n",
    "print(f\"Converged: {result.success}\")"
   ]
  },
  {
   "cell_type": "code",
   "execution_count": 30,
   "id": "b027c9e5-50ca-462d-bf57-9d34c64868d9",
   "metadata": {},
   "outputs": [
    {
     "name": "stdout",
     "output_type": "stream",
     "text": [
      "Optimization Results:\n",
      "Optimal Parameters: [0.13945493 0.95135428 0.36530456 1.99590007]\n",
      "Objective Function Value at Optimal Parameters: 8.211377732318002e-09\n",
      "Number of Iterations: 175\n",
      "Converged: True\n"
     ]
    }
   ],
   "source": [
    "#Here's a version that would work if the axes are coupled.... they really, really, really shouldn't ever be though\n",
    "def launchTwissCorrectionObjective(params, tao, evalElement, targetBetaX, targetAlphaX, targetBetaY, targetAlphaY):\n",
    "    betaSetX, alphaSetX, betaSetY, alphaSetY = params\n",
    "    \n",
    "    try:\n",
    "        #Prevent recalculation until changes are made\n",
    "        tao.cmd(\"set global lattice_calc_on = F\")\n",
    "        \n",
    "        tao.cmd(f\"set element beginning beta_a = {betaSetX}\")\n",
    "        tao.cmd(f\"set element beginning alpha_a = {alphaSetX}\")\n",
    "        tao.cmd(f\"set element beginning beta_b = {betaSetY}\")\n",
    "        tao.cmd(f\"set element beginning alpha_b = {alphaSetY}\")\n",
    "        \n",
    "        #Reenable lattice calculations\n",
    "        tao.cmd(\"set global lattice_calc_on = T\")\n",
    "    \n",
    "    except: #If Bmad doesn't like the proposed solution, don't crash, give a bad number\n",
    "        return 1e20\n",
    "    \n",
    "    return (tao.ele_twiss(evalElement)[f\"beta_a\"] - targetBetaX) ** 2 + (tao.ele_twiss(evalElement)[f\"alpha_a\"] - targetAlphaX) ** 2 + (tao.ele_twiss(evalElement)[f\"beta_b\"] - targetBetaY) ** 2 + (tao.ele_twiss(evalElement)[f\"alpha_b\"] - targetAlphaY) ** 2\n",
    "\n",
    "def launchTwissCorrection(tao, evalElement, targetBetaX, targetAlphaX, targetBetaY, targetAlphaY):\n",
    "\n",
    "    # Perform optimization using Nelder-Mead\n",
    "    result = minimize(\n",
    "        launchTwissCorrectionObjective, \n",
    "        [0.5, 0.5, 0.5, 0.5], #Starting point\n",
    "        method='Nelder-Mead',\n",
    "        bounds = [(1e-9, 1e3), (-100, 100), (1e-9, 1e3), (-100, 100)],\n",
    "        args = (tao, evalElement, targetBetaX, targetAlphaX, targetBetaY, targetAlphaY)\n",
    "    )\n",
    "\n",
    "\n",
    "    #Apply best result to the lattice\n",
    "    betaSetX, alphaSetX, betaSetY, alphaSetY = result.x\n",
    "    \n",
    "    #Prevent recalculation until changes are made\n",
    "    tao.cmd(\"set global lattice_calc_on = F\")\n",
    "    \n",
    "    tao.cmd(f\"set element beginning beta_a = {betaSetX}\")\n",
    "    tao.cmd(f\"set element beginning alpha_a = {alphaSetX}\")\n",
    "    tao.cmd(f\"set element beginning beta_b = {betaSetY}\")\n",
    "    tao.cmd(f\"set element beginning alpha_b = {alphaSetY}\")\n",
    "    \n",
    "    #Reenable lattice calculations\n",
    "    tao.cmd(\"set global lattice_calc_on = T\")\n",
    "                          \n",
    "    print(\"Optimization Results:\")\n",
    "    print(f\"Optimal Parameters: {result.x}\")\n",
    "    print(f\"Objective Function Value at Optimal Parameters: {result.fun}\")\n",
    "    print(f\"Number of Iterations: {result.nit}\")\n",
    "    print(f\"Converged: {result.success}\")\n",
    "\n",
    "    return\n",
    "\n",
    "\n",
    "launchTwissCorrection(tao, \"PENT\", 0.5, 0.0, 0.5, 0.0)"
   ]
  },
  {
   "cell_type": "code",
   "execution_count": null,
   "id": "b27b2dfc-3fb9-41e2-9b9f-34d13ba5795c",
   "metadata": {},
   "outputs": [],
   "source": []
  }
 ],
 "metadata": {
  "kernelspec": {
   "display_name": "Python 3 (ipykernel)",
   "language": "python",
   "name": "python3"
  },
  "language_info": {
   "codemirror_mode": {
    "name": "ipython",
    "version": 3
   },
   "file_extension": ".py",
   "mimetype": "text/x-python",
   "name": "python",
   "nbconvert_exporter": "python",
   "pygments_lexer": "ipython3",
   "version": "3.11.8"
  }
 },
 "nbformat": 4,
 "nbformat_minor": 5
}
