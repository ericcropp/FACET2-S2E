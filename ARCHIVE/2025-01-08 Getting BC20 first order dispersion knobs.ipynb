{
 "cells": [
  {
   "cell_type": "code",
   "execution_count": 1,
   "id": "7414d19a-0409-4ae3-ae5a-3073ef8a6225",
   "metadata": {},
   "outputs": [],
   "source": [
    "from UTILITY_quickstart import *"
   ]
  },
  {
   "cell_type": "code",
   "execution_count": 2,
   "id": "3e353e5c-a411-4426-afe8-e5c4b12d6040",
   "metadata": {},
   "outputs": [
    {
     "name": "stdout",
     "output_type": "stream",
     "text": [
      "Environment set to:  /Users/nmajik/Documents/SLAC/FACET2-Bmad-PyTao\n",
      "Tracking to end\n",
      "CSR off\n",
      "Base Tao lattice\n",
      "WARNING! No beam file is specified!\n",
      "Number of macro particles defined by input file\n"
     ]
    }
   ],
   "source": [
    "#Start from golden lattice\n",
    "tao = initializeTao(\n",
    "    loadDefaultLatticeTF = False\n",
    ")"
   ]
  },
  {
   "cell_type": "code",
   "execution_count": 3,
   "id": "27e73e18-8315-4edb-b5a0-f9bc9249f10b",
   "metadata": {},
   "outputs": [
    {
     "data": {
      "text/html": [
       "<style type=\"text/css\">\n",
       "</style>\n",
       "<table id=\"T_3133a\">\n",
       "  <thead>\n",
       "  </thead>\n",
       "  <tbody>\n",
       "    <tr>\n",
       "      <td id=\"T_3133a_row0_col0\" class=\"data row0 col0\" >-1.208438</td>\n",
       "      <td id=\"T_3133a_row0_col1\" class=\"data row0 col1\" >-4.961819</td>\n",
       "      <td id=\"T_3133a_row0_col2\" class=\"data row0 col2\" >-0.000000</td>\n",
       "      <td id=\"T_3133a_row0_col3\" class=\"data row0 col3\" >-0.000000</td>\n",
       "      <td id=\"T_3133a_row0_col4\" class=\"data row0 col4\" >0.000000</td>\n",
       "      <td id=\"T_3133a_row0_col5\" class=\"data row0 col5\" >-0.000000</td>\n",
       "    </tr>\n",
       "    <tr>\n",
       "      <td id=\"T_3133a_row1_col0\" class=\"data row1 col0\" >-0.084842</td>\n",
       "      <td id=\"T_3133a_row1_col1\" class=\"data row1 col1\" >-1.175874</td>\n",
       "      <td id=\"T_3133a_row1_col2\" class=\"data row1 col2\" >-0.000000</td>\n",
       "      <td id=\"T_3133a_row1_col3\" class=\"data row1 col3\" >-0.000000</td>\n",
       "      <td id=\"T_3133a_row1_col4\" class=\"data row1 col4\" >0.000000</td>\n",
       "      <td id=\"T_3133a_row1_col5\" class=\"data row1 col5\" >-0.000000</td>\n",
       "    </tr>\n",
       "    <tr>\n",
       "      <td id=\"T_3133a_row2_col0\" class=\"data row2 col0\" >-0.000000</td>\n",
       "      <td id=\"T_3133a_row2_col1\" class=\"data row2 col1\" >-0.000000</td>\n",
       "      <td id=\"T_3133a_row2_col2\" class=\"data row2 col2\" >-0.638379</td>\n",
       "      <td id=\"T_3133a_row2_col3\" class=\"data row2 col3\" >6.515289</td>\n",
       "      <td id=\"T_3133a_row2_col4\" class=\"data row2 col4\" >0.000000</td>\n",
       "      <td id=\"T_3133a_row2_col5\" class=\"data row2 col5\" >-0.000000</td>\n",
       "    </tr>\n",
       "    <tr>\n",
       "      <td id=\"T_3133a_row3_col0\" class=\"data row3 col0\" >-0.000000</td>\n",
       "      <td id=\"T_3133a_row3_col1\" class=\"data row3 col1\" >-0.000000</td>\n",
       "      <td id=\"T_3133a_row3_col2\" class=\"data row3 col2\" >-0.094469</td>\n",
       "      <td id=\"T_3133a_row3_col3\" class=\"data row3 col3\" >-0.602321</td>\n",
       "      <td id=\"T_3133a_row3_col4\" class=\"data row3 col4\" >0.000000</td>\n",
       "      <td id=\"T_3133a_row3_col5\" class=\"data row3 col5\" >-0.000000</td>\n",
       "    </tr>\n",
       "    <tr>\n",
       "      <td id=\"T_3133a_row4_col0\" class=\"data row4 col0\" >0.000000</td>\n",
       "      <td id=\"T_3133a_row4_col1\" class=\"data row4 col1\" >0.000000</td>\n",
       "      <td id=\"T_3133a_row4_col2\" class=\"data row4 col2\" >0.000000</td>\n",
       "      <td id=\"T_3133a_row4_col3\" class=\"data row4 col3\" >0.000000</td>\n",
       "      <td id=\"T_3133a_row4_col4\" class=\"data row4 col4\" >1.000000</td>\n",
       "      <td id=\"T_3133a_row4_col5\" class=\"data row4 col5\" >-0.007000</td>\n",
       "    </tr>\n",
       "    <tr>\n",
       "      <td id=\"T_3133a_row5_col0\" class=\"data row5 col0\" >0.000000</td>\n",
       "      <td id=\"T_3133a_row5_col1\" class=\"data row5 col1\" >0.000000</td>\n",
       "      <td id=\"T_3133a_row5_col2\" class=\"data row5 col2\" >0.000000</td>\n",
       "      <td id=\"T_3133a_row5_col3\" class=\"data row5 col3\" >0.000000</td>\n",
       "      <td id=\"T_3133a_row5_col4\" class=\"data row5 col4\" >0.000000</td>\n",
       "      <td id=\"T_3133a_row5_col5\" class=\"data row5 col5\" >1.000000</td>\n",
       "    </tr>\n",
       "  </tbody>\n",
       "</table>\n"
      ],
      "text/plain": [
       "<pandas.io.formats.style.Styler at 0x15c8442d0>"
      ]
     },
     "metadata": {},
     "output_type": "display_data"
    }
   ],
   "source": [
    "getMatrix(tao, \"BEGBC20\", \"MFFF\", print = True);"
   ]
  },
  {
   "cell_type": "code",
   "execution_count": 4,
   "id": "01ae6606-b9d0-4524-a88a-06a9d42cfdc5",
   "metadata": {},
   "outputs": [
    {
     "name": "stdout",
     "output_type": "stream",
     "text": [
      "Environment set to:  /Users/nmajik/Documents/SLAC/FACET2-Bmad-PyTao\n",
      "Tracking to end\n",
      "CSR off\n",
      "Overwriting lattice with setLattice() defaults\n",
      "No defaults file provided to setLattice(). Using setLattice_configs/defaults.yml\n",
      "WARNING! No beam file is specified!\n",
      "Number of macro particles defined by input file\n"
     ]
    },
    {
     "data": {
      "text/html": [
       "<style type=\"text/css\">\n",
       "</style>\n",
       "<table id=\"T_6bdd0\">\n",
       "  <thead>\n",
       "  </thead>\n",
       "  <tbody>\n",
       "    <tr>\n",
       "      <td id=\"T_6bdd0_row0_col0\" class=\"data row0 col0\" >-1.208675</td>\n",
       "      <td id=\"T_6bdd0_row0_col1\" class=\"data row0 col1\" >-4.962570</td>\n",
       "      <td id=\"T_6bdd0_row0_col2\" class=\"data row0 col2\" >-0.000000</td>\n",
       "      <td id=\"T_6bdd0_row0_col3\" class=\"data row0 col3\" >-0.000000</td>\n",
       "      <td id=\"T_6bdd0_row0_col4\" class=\"data row0 col4\" >0.000000</td>\n",
       "      <td id=\"T_6bdd0_row0_col5\" class=\"data row0 col5\" >0.000012</td>\n",
       "    </tr>\n",
       "    <tr>\n",
       "      <td id=\"T_6bdd0_row1_col0\" class=\"data row1 col0\" >-0.084965</td>\n",
       "      <td id=\"T_6bdd0_row1_col1\" class=\"data row1 col1\" >-1.176201</td>\n",
       "      <td id=\"T_6bdd0_row1_col2\" class=\"data row1 col2\" >0.000000</td>\n",
       "      <td id=\"T_6bdd0_row1_col3\" class=\"data row1 col3\" >0.000000</td>\n",
       "      <td id=\"T_6bdd0_row1_col4\" class=\"data row1 col4\" >0.000000</td>\n",
       "      <td id=\"T_6bdd0_row1_col5\" class=\"data row1 col5\" >-0.000001</td>\n",
       "    </tr>\n",
       "    <tr>\n",
       "      <td id=\"T_6bdd0_row2_col0\" class=\"data row2 col0\" >-0.000000</td>\n",
       "      <td id=\"T_6bdd0_row2_col1\" class=\"data row2 col1\" >-0.000000</td>\n",
       "      <td id=\"T_6bdd0_row2_col2\" class=\"data row2 col2\" >-0.637675</td>\n",
       "      <td id=\"T_6bdd0_row2_col3\" class=\"data row2 col3\" >6.526881</td>\n",
       "      <td id=\"T_6bdd0_row2_col4\" class=\"data row2 col4\" >0.000000</td>\n",
       "      <td id=\"T_6bdd0_row2_col5\" class=\"data row2 col5\" >-0.000000</td>\n",
       "    </tr>\n",
       "    <tr>\n",
       "      <td id=\"T_6bdd0_row3_col0\" class=\"data row3 col0\" >-0.000000</td>\n",
       "      <td id=\"T_6bdd0_row3_col1\" class=\"data row3 col1\" >-0.000000</td>\n",
       "      <td id=\"T_6bdd0_row3_col2\" class=\"data row3 col2\" >-0.094432</td>\n",
       "      <td id=\"T_6bdd0_row3_col3\" class=\"data row3 col3\" >-0.601645</td>\n",
       "      <td id=\"T_6bdd0_row3_col4\" class=\"data row3 col4\" >0.000000</td>\n",
       "      <td id=\"T_6bdd0_row3_col5\" class=\"data row3 col5\" >-0.000000</td>\n",
       "    </tr>\n",
       "    <tr>\n",
       "      <td id=\"T_6bdd0_row4_col0\" class=\"data row4 col0\" >-0.000003</td>\n",
       "      <td id=\"T_6bdd0_row4_col1\" class=\"data row4 col1\" >-0.000021</td>\n",
       "      <td id=\"T_6bdd0_row4_col2\" class=\"data row4 col2\" >0.000000</td>\n",
       "      <td id=\"T_6bdd0_row4_col3\" class=\"data row4 col3\" >-0.000000</td>\n",
       "      <td id=\"T_6bdd0_row4_col4\" class=\"data row4 col4\" >1.000000</td>\n",
       "      <td id=\"T_6bdd0_row4_col5\" class=\"data row4 col5\" >-0.007001</td>\n",
       "    </tr>\n",
       "    <tr>\n",
       "      <td id=\"T_6bdd0_row5_col0\" class=\"data row5 col0\" >0.000000</td>\n",
       "      <td id=\"T_6bdd0_row5_col1\" class=\"data row5 col1\" >0.000000</td>\n",
       "      <td id=\"T_6bdd0_row5_col2\" class=\"data row5 col2\" >0.000000</td>\n",
       "      <td id=\"T_6bdd0_row5_col3\" class=\"data row5 col3\" >0.000000</td>\n",
       "      <td id=\"T_6bdd0_row5_col4\" class=\"data row5 col4\" >0.000000</td>\n",
       "      <td id=\"T_6bdd0_row5_col5\" class=\"data row5 col5\" >1.000000</td>\n",
       "    </tr>\n",
       "  </tbody>\n",
       "</table>\n"
      ],
      "text/plain": [
       "<pandas.io.formats.style.Styler at 0x1689c09d0>"
      ]
     },
     "metadata": {},
     "output_type": "display_data"
    },
    {
     "name": "stdout",
     "output_type": "stream",
     "text": [
      "No evalElement provided. Assuming golden lattice PR10571\n",
      "Optimization Results:\n",
      "Optimal Parameters: [0.13755652 0.953558   0.40561699 2.20425982]\n",
      "Objective Function Value at Optimal Parameters: 3.3948865246987365e-09\n",
      "Number of Iterations: 235\n",
      "Converged: True\n"
     ]
    },
    {
     "data": {
      "text/html": [
       "<style type=\"text/css\">\n",
       "</style>\n",
       "<table id=\"T_b19f8\">\n",
       "  <thead>\n",
       "  </thead>\n",
       "  <tbody>\n",
       "    <tr>\n",
       "      <td id=\"T_b19f8_row0_col0\" class=\"data row0 col0\" >-1.208675</td>\n",
       "      <td id=\"T_b19f8_row0_col1\" class=\"data row0 col1\" >-4.962570</td>\n",
       "      <td id=\"T_b19f8_row0_col2\" class=\"data row0 col2\" >-0.000000</td>\n",
       "      <td id=\"T_b19f8_row0_col3\" class=\"data row0 col3\" >-0.000000</td>\n",
       "      <td id=\"T_b19f8_row0_col4\" class=\"data row0 col4\" >0.000000</td>\n",
       "      <td id=\"T_b19f8_row0_col5\" class=\"data row0 col5\" >0.000012</td>\n",
       "    </tr>\n",
       "    <tr>\n",
       "      <td id=\"T_b19f8_row1_col0\" class=\"data row1 col0\" >-0.084965</td>\n",
       "      <td id=\"T_b19f8_row1_col1\" class=\"data row1 col1\" >-1.176201</td>\n",
       "      <td id=\"T_b19f8_row1_col2\" class=\"data row1 col2\" >0.000000</td>\n",
       "      <td id=\"T_b19f8_row1_col3\" class=\"data row1 col3\" >0.000000</td>\n",
       "      <td id=\"T_b19f8_row1_col4\" class=\"data row1 col4\" >0.000000</td>\n",
       "      <td id=\"T_b19f8_row1_col5\" class=\"data row1 col5\" >-0.000001</td>\n",
       "    </tr>\n",
       "    <tr>\n",
       "      <td id=\"T_b19f8_row2_col0\" class=\"data row2 col0\" >-0.000000</td>\n",
       "      <td id=\"T_b19f8_row2_col1\" class=\"data row2 col1\" >-0.000000</td>\n",
       "      <td id=\"T_b19f8_row2_col2\" class=\"data row2 col2\" >-0.637675</td>\n",
       "      <td id=\"T_b19f8_row2_col3\" class=\"data row2 col3\" >6.526881</td>\n",
       "      <td id=\"T_b19f8_row2_col4\" class=\"data row2 col4\" >0.000000</td>\n",
       "      <td id=\"T_b19f8_row2_col5\" class=\"data row2 col5\" >-0.000000</td>\n",
       "    </tr>\n",
       "    <tr>\n",
       "      <td id=\"T_b19f8_row3_col0\" class=\"data row3 col0\" >-0.000000</td>\n",
       "      <td id=\"T_b19f8_row3_col1\" class=\"data row3 col1\" >-0.000000</td>\n",
       "      <td id=\"T_b19f8_row3_col2\" class=\"data row3 col2\" >-0.094432</td>\n",
       "      <td id=\"T_b19f8_row3_col3\" class=\"data row3 col3\" >-0.601645</td>\n",
       "      <td id=\"T_b19f8_row3_col4\" class=\"data row3 col4\" >0.000000</td>\n",
       "      <td id=\"T_b19f8_row3_col5\" class=\"data row3 col5\" >-0.000000</td>\n",
       "    </tr>\n",
       "    <tr>\n",
       "      <td id=\"T_b19f8_row4_col0\" class=\"data row4 col0\" >-0.000003</td>\n",
       "      <td id=\"T_b19f8_row4_col1\" class=\"data row4 col1\" >-0.000021</td>\n",
       "      <td id=\"T_b19f8_row4_col2\" class=\"data row4 col2\" >0.000000</td>\n",
       "      <td id=\"T_b19f8_row4_col3\" class=\"data row4 col3\" >-0.000000</td>\n",
       "      <td id=\"T_b19f8_row4_col4\" class=\"data row4 col4\" >1.000000</td>\n",
       "      <td id=\"T_b19f8_row4_col5\" class=\"data row4 col5\" >-0.007001</td>\n",
       "    </tr>\n",
       "    <tr>\n",
       "      <td id=\"T_b19f8_row5_col0\" class=\"data row5 col0\" >0.000000</td>\n",
       "      <td id=\"T_b19f8_row5_col1\" class=\"data row5 col1\" >0.000000</td>\n",
       "      <td id=\"T_b19f8_row5_col2\" class=\"data row5 col2\" >0.000000</td>\n",
       "      <td id=\"T_b19f8_row5_col3\" class=\"data row5 col3\" >0.000000</td>\n",
       "      <td id=\"T_b19f8_row5_col4\" class=\"data row5 col4\" >0.000000</td>\n",
       "      <td id=\"T_b19f8_row5_col5\" class=\"data row5 col5\" >1.000000</td>\n",
       "    </tr>\n",
       "  </tbody>\n",
       "</table>\n"
      ],
      "text/plain": [
       "<pandas.io.formats.style.Styler at 0x168a4f610>"
      ]
     },
     "metadata": {},
     "output_type": "display_data"
    }
   ],
   "source": [
    "#Load a default configuration\n",
    "#importedDefaultSettings = loadConfig(\"setLattice_configs/2024-10-22_oneBunch_baseline.yml\")\n",
    "importedDefaultSettings = loadConfig(\"setLattice_configs/defaults.yml\")\n",
    "\n",
    "#Initialize tao object\n",
    "tao = initializeTao(\n",
    "    #inputBeamFilePathSuffix = importedDefaultSettings[\"inputBeamFilePathSuffix\"],\n",
    "    #numMacroParticles = 1e4,\n",
    "    #csrTF = False\n",
    ")\n",
    "\n",
    "#Set lattice to the loaded config\n",
    "setLattice(tao, **importedDefaultSettings)\n",
    "\n",
    "getMatrix(tao, \"BEGBC20\", \"MFFF\", print = True);\n",
    "\n",
    "launchTwissCorrection(tao)\n",
    "\n",
    "baseMatrix = getMatrix(tao, \"BEGBC20\", \"MFFF\", print = True);"
   ]
  },
  {
   "cell_type": "code",
   "execution_count": 5,
   "id": "9073fafc-2e3a-41a3-8dd2-88740b48ec48",
   "metadata": {},
   "outputs": [
    {
     "data": {
      "text/html": [
       "<style type=\"text/css\">\n",
       "</style>\n",
       "<table id=\"T_d346a\">\n",
       "  <thead>\n",
       "  </thead>\n",
       "  <tbody>\n",
       "    <tr>\n",
       "      <td id=\"T_d346a_row0_col0\" class=\"data row0 col0\" >-1.310429</td>\n",
       "      <td id=\"T_d346a_row0_col1\" class=\"data row0 col1\" >-5.082830</td>\n",
       "      <td id=\"T_d346a_row0_col2\" class=\"data row0 col2\" >-0.000000</td>\n",
       "      <td id=\"T_d346a_row0_col3\" class=\"data row0 col3\" >-0.000000</td>\n",
       "      <td id=\"T_d346a_row0_col4\" class=\"data row0 col4\" >0.000000</td>\n",
       "      <td id=\"T_d346a_row0_col5\" class=\"data row0 col5\" >0.007158</td>\n",
       "    </tr>\n",
       "    <tr>\n",
       "      <td id=\"T_d346a_row1_col0\" class=\"data row1 col0\" >-0.128425</td>\n",
       "      <td id=\"T_d346a_row1_col1\" class=\"data row1 col1\" >-1.261239</td>\n",
       "      <td id=\"T_d346a_row1_col2\" class=\"data row1 col2\" >0.000000</td>\n",
       "      <td id=\"T_d346a_row1_col3\" class=\"data row1 col3\" >0.000000</td>\n",
       "      <td id=\"T_d346a_row1_col4\" class=\"data row1 col4\" >0.000000</td>\n",
       "      <td id=\"T_d346a_row1_col5\" class=\"data row1 col5\" >0.000397</td>\n",
       "    </tr>\n",
       "    <tr>\n",
       "      <td id=\"T_d346a_row2_col0\" class=\"data row2 col0\" >-0.000000</td>\n",
       "      <td id=\"T_d346a_row2_col1\" class=\"data row2 col1\" >-0.000000</td>\n",
       "      <td id=\"T_d346a_row2_col2\" class=\"data row2 col2\" >-0.692087</td>\n",
       "      <td id=\"T_d346a_row2_col3\" class=\"data row2 col3\" >5.709292</td>\n",
       "      <td id=\"T_d346a_row2_col4\" class=\"data row2 col4\" >0.000000</td>\n",
       "      <td id=\"T_d346a_row2_col5\" class=\"data row2 col5\" >-0.000000</td>\n",
       "    </tr>\n",
       "    <tr>\n",
       "      <td id=\"T_d346a_row3_col0\" class=\"data row3 col0\" >0.000000</td>\n",
       "      <td id=\"T_d346a_row3_col1\" class=\"data row3 col1\" >-0.000000</td>\n",
       "      <td id=\"T_d346a_row3_col2\" class=\"data row3 col2\" >-0.095684</td>\n",
       "      <td id=\"T_d346a_row3_col3\" class=\"data row3 col3\" >-0.655575</td>\n",
       "      <td id=\"T_d346a_row3_col4\" class=\"data row3 col4\" >0.000000</td>\n",
       "      <td id=\"T_d346a_row3_col5\" class=\"data row3 col5\" >-0.000000</td>\n",
       "    </tr>\n",
       "    <tr>\n",
       "      <td id=\"T_d346a_row4_col0\" class=\"data row4 col0\" >-0.000399</td>\n",
       "      <td id=\"T_d346a_row4_col1\" class=\"data row4 col1\" >-0.007012</td>\n",
       "      <td id=\"T_d346a_row4_col2\" class=\"data row4 col2\" >0.000000</td>\n",
       "      <td id=\"T_d346a_row4_col3\" class=\"data row4 col3\" >0.000000</td>\n",
       "      <td id=\"T_d346a_row4_col4\" class=\"data row4 col4\" >1.000000</td>\n",
       "      <td id=\"T_d346a_row4_col5\" class=\"data row4 col5\" >-0.007487</td>\n",
       "    </tr>\n",
       "    <tr>\n",
       "      <td id=\"T_d346a_row5_col0\" class=\"data row5 col0\" >0.000000</td>\n",
       "      <td id=\"T_d346a_row5_col1\" class=\"data row5 col1\" >0.000000</td>\n",
       "      <td id=\"T_d346a_row5_col2\" class=\"data row5 col2\" >0.000000</td>\n",
       "      <td id=\"T_d346a_row5_col3\" class=\"data row5 col3\" >0.000000</td>\n",
       "      <td id=\"T_d346a_row5_col4\" class=\"data row5 col4\" >0.000000</td>\n",
       "      <td id=\"T_d346a_row5_col5\" class=\"data row5 col5\" >1.000000</td>\n",
       "    </tr>\n",
       "  </tbody>\n",
       "</table>\n"
      ],
      "text/plain": [
       "<pandas.io.formats.style.Styler at 0x168a58810>"
      ]
     },
     "metadata": {},
     "output_type": "display_data"
    }
   ],
   "source": [
    "setLattice(tao, **(importedDefaultSettings | {'Q3EkG': 110}))\n",
    "\n",
    "newMatrix = getMatrix(tao, \"BEGBC20\", \"MFFF\", print = True);"
   ]
  },
  {
   "cell_type": "code",
   "execution_count": 6,
   "id": "b2b792ce-29b0-4ee3-8a0f-62c28cbb7eba",
   "metadata": {},
   "outputs": [
    {
     "data": {
      "text/html": [
       "<style type=\"text/css\">\n",
       "</style>\n",
       "<table id=\"T_14c99\">\n",
       "  <thead>\n",
       "  </thead>\n",
       "  <tbody>\n",
       "    <tr>\n",
       "      <td id=\"T_14c99_row0_col0\" class=\"data row0 col0\" >-0.101754</td>\n",
       "      <td id=\"T_14c99_row0_col1\" class=\"data row0 col1\" >-0.120260</td>\n",
       "      <td id=\"T_14c99_row0_col2\" class=\"data row0 col2\" >-0.000000</td>\n",
       "      <td id=\"T_14c99_row0_col3\" class=\"data row0 col3\" >-0.000000</td>\n",
       "      <td id=\"T_14c99_row0_col4\" class=\"data row0 col4\" >0.000000</td>\n",
       "      <td id=\"T_14c99_row0_col5\" class=\"data row0 col5\" >0.007145</td>\n",
       "    </tr>\n",
       "    <tr>\n",
       "      <td id=\"T_14c99_row1_col0\" class=\"data row1 col0\" >-0.043460</td>\n",
       "      <td id=\"T_14c99_row1_col1\" class=\"data row1 col1\" >-0.085038</td>\n",
       "      <td id=\"T_14c99_row1_col2\" class=\"data row1 col2\" >-0.000000</td>\n",
       "      <td id=\"T_14c99_row1_col3\" class=\"data row1 col3\" >-0.000000</td>\n",
       "      <td id=\"T_14c99_row1_col4\" class=\"data row1 col4\" >0.000000</td>\n",
       "      <td id=\"T_14c99_row1_col5\" class=\"data row1 col5\" >0.000398</td>\n",
       "    </tr>\n",
       "    <tr>\n",
       "      <td id=\"T_14c99_row2_col0\" class=\"data row2 col0\" >0.000000</td>\n",
       "      <td id=\"T_14c99_row2_col1\" class=\"data row2 col1\" >0.000000</td>\n",
       "      <td id=\"T_14c99_row2_col2\" class=\"data row2 col2\" >-0.054411</td>\n",
       "      <td id=\"T_14c99_row2_col3\" class=\"data row2 col3\" >-0.817590</td>\n",
       "      <td id=\"T_14c99_row2_col4\" class=\"data row2 col4\" >0.000000</td>\n",
       "      <td id=\"T_14c99_row2_col5\" class=\"data row2 col5\" >0.000000</td>\n",
       "    </tr>\n",
       "    <tr>\n",
       "      <td id=\"T_14c99_row3_col0\" class=\"data row3 col0\" >0.000000</td>\n",
       "      <td id=\"T_14c99_row3_col1\" class=\"data row3 col1\" >0.000000</td>\n",
       "      <td id=\"T_14c99_row3_col2\" class=\"data row3 col2\" >-0.001252</td>\n",
       "      <td id=\"T_14c99_row3_col3\" class=\"data row3 col3\" >-0.053930</td>\n",
       "      <td id=\"T_14c99_row3_col4\" class=\"data row3 col4\" >0.000000</td>\n",
       "      <td id=\"T_14c99_row3_col5\" class=\"data row3 col5\" >0.000000</td>\n",
       "    </tr>\n",
       "    <tr>\n",
       "      <td id=\"T_14c99_row4_col0\" class=\"data row4 col0\" >-0.000397</td>\n",
       "      <td id=\"T_14c99_row4_col1\" class=\"data row4 col1\" >-0.006991</td>\n",
       "      <td id=\"T_14c99_row4_col2\" class=\"data row4 col2\" >-0.000000</td>\n",
       "      <td id=\"T_14c99_row4_col3\" class=\"data row4 col3\" >0.000000</td>\n",
       "      <td id=\"T_14c99_row4_col4\" class=\"data row4 col4\" >0.000000</td>\n",
       "      <td id=\"T_14c99_row4_col5\" class=\"data row4 col5\" >-0.000486</td>\n",
       "    </tr>\n",
       "    <tr>\n",
       "      <td id=\"T_14c99_row5_col0\" class=\"data row5 col0\" >0.000000</td>\n",
       "      <td id=\"T_14c99_row5_col1\" class=\"data row5 col1\" >0.000000</td>\n",
       "      <td id=\"T_14c99_row5_col2\" class=\"data row5 col2\" >0.000000</td>\n",
       "      <td id=\"T_14c99_row5_col3\" class=\"data row5 col3\" >0.000000</td>\n",
       "      <td id=\"T_14c99_row5_col4\" class=\"data row5 col4\" >0.000000</td>\n",
       "      <td id=\"T_14c99_row5_col5\" class=\"data row5 col5\" >0.000000</td>\n",
       "    </tr>\n",
       "  </tbody>\n",
       "</table>\n"
      ],
      "text/plain": [
       "<pandas.io.formats.style.Styler at 0x168a5d490>"
      ]
     },
     "metadata": {},
     "output_type": "display_data"
    }
   ],
   "source": [
    "displayMatrix(  newMatrix - baseMatrix ) "
   ]
  },
  {
   "cell_type": "code",
   "execution_count": 7,
   "id": "f8501b66-e833-4f55-8faa-e3ed40d30665",
   "metadata": {},
   "outputs": [],
   "source": [
    "def getNewMatrix(params):\n",
    "    q1, q2, q3, q4, q5, q6 = params\n",
    "    setLattice(tao, **(importedDefaultSettings | {\n",
    "        'Q1EkG': q1,\n",
    "        'Q2EkG': q2,\n",
    "        'Q3EkG': q3,\n",
    "        'Q4EkG': q4,\n",
    "        'Q5EkG': q5,\n",
    "        'Q6EkG': q6,\n",
    "\n",
    "    }))\n",
    "\n",
    "    return( getMatrix(tao, \"BEGBC20\", \"MFFF\") )"
   ]
  },
  {
   "cell_type": "code",
   "execution_count": 8,
   "id": "c9465178-eecb-4e0c-8b72-c556c163d57f",
   "metadata": {},
   "outputs": [
    {
     "data": {
      "text/plain": [
       "[161.311, -154.229, 110.217, 132.268, -23.373, -142.271]"
      ]
     },
     "execution_count": 8,
     "metadata": {},
     "output_type": "execute_result"
    }
   ],
   "source": [
    "baselineParams = [ importedDefaultSettings[ele] for ele in ['Q1EkG', 'Q2EkG', 'Q3EkG', 'Q4EkG', 'Q5EkG', 'Q6EkG'] ]\n",
    "baselineParams"
   ]
  },
  {
   "cell_type": "code",
   "execution_count": 9,
   "id": "b2e9c817-ae4f-44fd-9945-98f66596ae1c",
   "metadata": {},
   "outputs": [
    {
     "data": {
      "text/plain": [
       "array([[-1.20867456e+00, -4.96256976e+00, -1.33718758e-17,\n",
       "        -1.10207470e-16,  0.00000000e+00,  1.23649164e-05],\n",
       "       [-8.49649366e-02, -1.17620117e+00, -1.90000751e-18,\n",
       "        -2.33770173e-17,  0.00000000e+00, -1.24861596e-06],\n",
       "       [-2.38694683e-16, -1.12476605e-15, -6.37675400e-01,\n",
       "         6.52688129e+00,  0.00000000e+00, -2.74050514e-17],\n",
       "       [-2.92697655e-18, -1.41951754e-17, -9.44318686e-02,\n",
       "        -6.01645293e-01,  0.00000000e+00, -8.06887982e-19],\n",
       "       [-2.55975468e-06, -2.07399729e-05,  1.46759644e-19,\n",
       "         8.85450066e-18,  1.00000000e+00, -7.00081917e-03],\n",
       "       [ 0.00000000e+00,  0.00000000e+00,  0.00000000e+00,\n",
       "         0.00000000e+00,  0.00000000e+00,  1.00000000e+00]])"
      ]
     },
     "execution_count": 9,
     "metadata": {},
     "output_type": "execute_result"
    }
   ],
   "source": [
    "getNewMatrix( baselineParams )"
   ]
  },
  {
   "cell_type": "code",
   "execution_count": 16,
   "id": "32d5b052-3aa2-4ab0-bd47-3182fa85b544",
   "metadata": {},
   "outputs": [],
   "source": [
    "#The objective is to create a transport matrix that is the same as the baseline, except with a larger dispersion term\n",
    "\n",
    "def objective(params):\n",
    "    newMatrix = getNewMatrix(params)\n",
    "\n",
    "    targetMatrix = baseMatrix + [[0,0,0,0,0,0.001],[0,0,0,0,0,0],[0,0,0,0,0,0],[0,0,0,0,0,0],[0,0,0,0,0,0],[0,0,0,0,0,0]]\n",
    "\n",
    "    errorMatrix = np.array( newMatrix - targetMatrix )\n",
    "\n",
    "    error = np.sum(errorMatrix ** 2) \n",
    "\n",
    "    #print(error)\n",
    "    \n",
    "    return error\n",
    "    \n",
    "\n",
    "    \n"
   ]
  },
  {
   "cell_type": "code",
   "execution_count": 17,
   "id": "c6428d87-0733-47d3-b42b-d8ef39c4049b",
   "metadata": {},
   "outputs": [
    {
     "name": "stdout",
     "output_type": "stream",
     "text": [
      "Optimization Results:\n",
      "Optimal Parameters: [ 161.41813922 -154.21587792  110.15190023  132.48069395  -23.40370404\n",
      " -142.3112049 ]\n",
      "Objective Function Value at Optimal Parameters: 4.955996671329345e-07\n",
      "Number of Iterations: 332\n",
      "Converged: True\n"
     ]
    }
   ],
   "source": [
    "from scipy.optimize import minimize\n",
    "\n",
    "# Perform optimization using Nelder-Mead\n",
    "result = minimize(\n",
    "    objective, \n",
    "    baselineParams, #Starting point\n",
    "    method='Nelder-Mead',\n",
    ")\n",
    "\n",
    "                      \n",
    "print(\"Optimization Results:\")\n",
    "print(f\"Optimal Parameters: {result.x}\")\n",
    "print(f\"Objective Function Value at Optimal Parameters: {result.fun}\")\n",
    "print(f\"Number of Iterations: {result.nit}\")\n",
    "print(f\"Converged: {result.success}\")"
   ]
  },
  {
   "cell_type": "code",
   "execution_count": 18,
   "id": "d2a5d2b8-752b-49b0-9669-aaeaba29e7f0",
   "metadata": {},
   "outputs": [],
   "source": [
    "proposedParams = result.x"
   ]
  },
  {
   "cell_type": "code",
   "execution_count": 19,
   "id": "6c39176f-d8ff-4382-a74d-44112e239ef3",
   "metadata": {},
   "outputs": [
    {
     "data": {
      "text/plain": [
       "array([ 0.10713922,  0.01312208, -0.06509977,  0.21269395, -0.03070404,\n",
       "       -0.0402049 ])"
      ]
     },
     "execution_count": 19,
     "metadata": {},
     "output_type": "execute_result"
    }
   ],
   "source": [
    "deltas = proposedParams - baselineParams\n",
    "deltas"
   ]
  },
  {
   "cell_type": "code",
   "execution_count": 20,
   "id": "ff434a64-5e32-4b23-8a71-0654a4de1d4e",
   "metadata": {},
   "outputs": [
    {
     "data": {
      "text/plain": [
       "array([ 0.5037248 ,  0.06169467, -0.30607251,  1.        , -0.14435786,\n",
       "       -0.18902699])"
      ]
     },
     "execution_count": 20,
     "metadata": {},
     "output_type": "execute_result"
    }
   ],
   "source": [
    "deltas / max(abs(deltas))"
   ]
  },
  {
   "cell_type": "code",
   "execution_count": 21,
   "id": "1c7164c3-83c3-44e1-831f-dc9b6b08b4b0",
   "metadata": {},
   "outputs": [
    {
     "data": {
      "text/html": [
       "<style type=\"text/css\">\n",
       "</style>\n",
       "<table id=\"T_8fb4f\">\n",
       "  <thead>\n",
       "  </thead>\n",
       "  <tbody>\n",
       "    <tr>\n",
       "      <td id=\"T_8fb4f_row0_col0\" class=\"data row0 col0\" >-0.000000</td>\n",
       "      <td id=\"T_8fb4f_row0_col1\" class=\"data row0 col1\" >0.000000</td>\n",
       "      <td id=\"T_8fb4f_row0_col2\" class=\"data row0 col2\" >0.000000</td>\n",
       "      <td id=\"T_8fb4f_row0_col3\" class=\"data row0 col3\" >0.000000</td>\n",
       "      <td id=\"T_8fb4f_row0_col4\" class=\"data row0 col4\" >0.000000</td>\n",
       "      <td id=\"T_8fb4f_row0_col5\" class=\"data row0 col5\" >0.000504</td>\n",
       "    </tr>\n",
       "    <tr>\n",
       "      <td id=\"T_8fb4f_row1_col0\" class=\"data row1 col0\" >-0.000000</td>\n",
       "      <td id=\"T_8fb4f_row1_col1\" class=\"data row1 col1\" >-0.000000</td>\n",
       "      <td id=\"T_8fb4f_row1_col2\" class=\"data row1 col2\" >-0.000000</td>\n",
       "      <td id=\"T_8fb4f_row1_col3\" class=\"data row1 col3\" >-0.000000</td>\n",
       "      <td id=\"T_8fb4f_row1_col4\" class=\"data row1 col4\" >0.000000</td>\n",
       "      <td id=\"T_8fb4f_row1_col5\" class=\"data row1 col5\" >0.000019</td>\n",
       "    </tr>\n",
       "    <tr>\n",
       "      <td id=\"T_8fb4f_row2_col0\" class=\"data row2 col0\" >-0.000000</td>\n",
       "      <td id=\"T_8fb4f_row2_col1\" class=\"data row2 col1\" >-0.000000</td>\n",
       "      <td id=\"T_8fb4f_row2_col2\" class=\"data row2 col2\" >0.000000</td>\n",
       "      <td id=\"T_8fb4f_row2_col3\" class=\"data row2 col3\" >-0.000000</td>\n",
       "      <td id=\"T_8fb4f_row2_col4\" class=\"data row2 col4\" >0.000000</td>\n",
       "      <td id=\"T_8fb4f_row2_col5\" class=\"data row2 col5\" >0.000000</td>\n",
       "    </tr>\n",
       "    <tr>\n",
       "      <td id=\"T_8fb4f_row3_col0\" class=\"data row3 col0\" >-0.000000</td>\n",
       "      <td id=\"T_8fb4f_row3_col1\" class=\"data row3 col1\" >-0.000000</td>\n",
       "      <td id=\"T_8fb4f_row3_col2\" class=\"data row3 col2\" >0.000000</td>\n",
       "      <td id=\"T_8fb4f_row3_col3\" class=\"data row3 col3\" >-0.000000</td>\n",
       "      <td id=\"T_8fb4f_row3_col4\" class=\"data row3 col4\" >0.000000</td>\n",
       "      <td id=\"T_8fb4f_row3_col5\" class=\"data row3 col5\" >0.000000</td>\n",
       "    </tr>\n",
       "    <tr>\n",
       "      <td id=\"T_8fb4f_row4_col0\" class=\"data row4 col0\" >-0.000019</td>\n",
       "      <td id=\"T_8fb4f_row4_col1\" class=\"data row4 col1\" >-0.000497</td>\n",
       "      <td id=\"T_8fb4f_row4_col2\" class=\"data row4 col2\" >0.000000</td>\n",
       "      <td id=\"T_8fb4f_row4_col3\" class=\"data row4 col3\" >0.000000</td>\n",
       "      <td id=\"T_8fb4f_row4_col4\" class=\"data row4 col4\" >0.000000</td>\n",
       "      <td id=\"T_8fb4f_row4_col5\" class=\"data row4 col5\" >-0.000047</td>\n",
       "    </tr>\n",
       "    <tr>\n",
       "      <td id=\"T_8fb4f_row5_col0\" class=\"data row5 col0\" >0.000000</td>\n",
       "      <td id=\"T_8fb4f_row5_col1\" class=\"data row5 col1\" >0.000000</td>\n",
       "      <td id=\"T_8fb4f_row5_col2\" class=\"data row5 col2\" >0.000000</td>\n",
       "      <td id=\"T_8fb4f_row5_col3\" class=\"data row5 col3\" >0.000000</td>\n",
       "      <td id=\"T_8fb4f_row5_col4\" class=\"data row5 col4\" >0.000000</td>\n",
       "      <td id=\"T_8fb4f_row5_col5\" class=\"data row5 col5\" >0.000000</td>\n",
       "    </tr>\n",
       "  </tbody>\n",
       "</table>\n"
      ],
      "text/plain": [
       "<pandas.io.formats.style.Styler at 0x168a3f510>"
      ]
     },
     "metadata": {},
     "output_type": "display_data"
    }
   ],
   "source": [
    "displayMatrix(\n",
    "getNewMatrix(proposedParams) - baseMatrix\n",
    ")"
   ]
  },
  {
   "cell_type": "markdown",
   "id": "9e3738a1-d83e-4338-81a2-a06777892749",
   "metadata": {
    "jp-MarkdownHeadingCollapsed": true
   },
   "source": [
    "### X Dispersion prime"
   ]
  },
  {
   "cell_type": "code",
   "execution_count": 2,
   "id": "a4f16d04-7a12-4ff4-abdd-ac97c93bdfaa",
   "metadata": {},
   "outputs": [],
   "source": [
    "def objective(params):\n",
    "    newMatrix = getNewMatrix(params)\n",
    "\n",
    "    targetMatrix = baseMatrix + [[0,0,0,0,0,0],[0,0,0,0,0,0.01],[0,0,0,0,0,0],[0,0,0,0,0,0],[0,0,0,0,0,0],[0,0,0,0,0,0]]\n",
    "\n",
    "    errorMatrix = np.array( newMatrix - targetMatrix )\n",
    "\n",
    "    error = np.sum(errorMatrix ** 2) \n",
    "\n",
    "    #print(error)\n",
    "    \n",
    "    return error"
   ]
  },
  {
   "cell_type": "code",
   "execution_count": 3,
   "id": "1c0dea09-0f6a-4a91-86e5-ba84a892d9db",
   "metadata": {},
   "outputs": [
    {
     "ename": "NameError",
     "evalue": "name 'minimize' is not defined",
     "output_type": "error",
     "traceback": [
      "\u001b[0;31m---------------------------------------------------------------------------\u001b[0m",
      "\u001b[0;31mNameError\u001b[0m                                 Traceback (most recent call last)",
      "Cell \u001b[0;32mIn[3], line 2\u001b[0m\n\u001b[1;32m      1\u001b[0m \u001b[38;5;66;03m# Perform optimization using Nelder-Mead\u001b[39;00m\n\u001b[0;32m----> 2\u001b[0m result \u001b[38;5;241m=\u001b[39m minimize(\n\u001b[1;32m      3\u001b[0m     objective, \n\u001b[1;32m      4\u001b[0m     baselineParams, \u001b[38;5;66;03m#Starting point\u001b[39;00m\n\u001b[1;32m      5\u001b[0m     method\u001b[38;5;241m=\u001b[39m\u001b[38;5;124m'\u001b[39m\u001b[38;5;124mNelder-Mead\u001b[39m\u001b[38;5;124m'\u001b[39m,\n\u001b[1;32m      6\u001b[0m )\n\u001b[1;32m      9\u001b[0m \u001b[38;5;28mprint\u001b[39m(\u001b[38;5;124m\"\u001b[39m\u001b[38;5;124mOptimization Results:\u001b[39m\u001b[38;5;124m\"\u001b[39m)\n\u001b[1;32m     10\u001b[0m \u001b[38;5;28mprint\u001b[39m(\u001b[38;5;124mf\u001b[39m\u001b[38;5;124m\"\u001b[39m\u001b[38;5;124mOptimal Parameters: \u001b[39m\u001b[38;5;132;01m{\u001b[39;00mresult\u001b[38;5;241m.\u001b[39mx\u001b[38;5;132;01m}\u001b[39;00m\u001b[38;5;124m\"\u001b[39m)\n",
      "\u001b[0;31mNameError\u001b[0m: name 'minimize' is not defined"
     ]
    }
   ],
   "source": [
    "# Perform optimization using Nelder-Mead\n",
    "result = minimize(\n",
    "    objective, \n",
    "    baselineParams, #Starting point\n",
    "    method='Nelder-Mead',\n",
    ")\n",
    "\n",
    "                      \n",
    "print(\"Optimization Results:\")\n",
    "print(f\"Optimal Parameters: {result.x}\")\n",
    "print(f\"Objective Function Value at Optimal Parameters: {result.fun}\")\n",
    "print(f\"Number of Iterations: {result.nit}\")\n",
    "print(f\"Converged: {result.success}\")"
   ]
  },
  {
   "cell_type": "code",
   "execution_count": 17,
   "id": "ae900f68-bd66-4a49-b282-e70456939996",
   "metadata": {},
   "outputs": [],
   "source": [
    "proposedParams = result.x"
   ]
  },
  {
   "cell_type": "code",
   "execution_count": 18,
   "id": "597b2737-689a-4d5a-bca8-2eaf822ace24",
   "metadata": {},
   "outputs": [
    {
     "data": {
      "text/plain": [
       "array([-2.32386764e-04, -4.62280607e-06, -1.13421156e-04,  2.55012031e-04,\n",
       "       -8.00062266e-05,  4.99558093e-05])"
      ]
     },
     "execution_count": 18,
     "metadata": {},
     "output_type": "execute_result"
    }
   ],
   "source": [
    "deltas = proposedParams - baselineParams\n",
    "deltas"
   ]
  },
  {
   "cell_type": "code",
   "execution_count": 19,
   "id": "7919d288-284c-4fb0-8e4c-061bc370a52c",
   "metadata": {},
   "outputs": [
    {
     "data": {
      "text/plain": [
       "array([-0.91127765, -0.0181278 , -0.44476787,  1.        , -0.31373511,\n",
       "        0.19589589])"
      ]
     },
     "execution_count": 19,
     "metadata": {},
     "output_type": "execute_result"
    }
   ],
   "source": [
    "deltas / max(abs(deltas))"
   ]
  },
  {
   "cell_type": "code",
   "execution_count": 21,
   "id": "ed9da869-777f-4901-b67d-ab9f49d2e93b",
   "metadata": {},
   "outputs": [
    {
     "data": {
      "text/html": [
       "<style type=\"text/css\">\n",
       "</style>\n",
       "<table id=\"T_77c8c\">\n",
       "  <thead>\n",
       "  </thead>\n",
       "  <tbody>\n",
       "    <tr>\n",
       "      <td id=\"T_77c8c_row0_col0\" class=\"data row0 col0\" >-0.000021</td>\n",
       "      <td id=\"T_77c8c_row0_col1\" class=\"data row0 col1\" >0.000011</td>\n",
       "      <td id=\"T_77c8c_row0_col2\" class=\"data row0 col2\" >0.000000</td>\n",
       "      <td id=\"T_77c8c_row0_col3\" class=\"data row0 col3\" >0.000000</td>\n",
       "      <td id=\"T_77c8c_row0_col4\" class=\"data row0 col4\" >0.000000</td>\n",
       "      <td id=\"T_77c8c_row0_col5\" class=\"data row0 col5\" >0.000003</td>\n",
       "    </tr>\n",
       "    <tr>\n",
       "      <td id=\"T_77c8c_row1_col0\" class=\"data row1 col0\" >-0.000009</td>\n",
       "      <td id=\"T_77c8c_row1_col1\" class=\"data row1 col1\" >-0.000017</td>\n",
       "      <td id=\"T_77c8c_row1_col2\" class=\"data row1 col2\" >-0.000000</td>\n",
       "      <td id=\"T_77c8c_row1_col3\" class=\"data row1 col3\" >-0.000000</td>\n",
       "      <td id=\"T_77c8c_row1_col4\" class=\"data row1 col4\" >0.000000</td>\n",
       "      <td id=\"T_77c8c_row1_col5\" class=\"data row1 col5\" >0.000000</td>\n",
       "    </tr>\n",
       "    <tr>\n",
       "      <td id=\"T_77c8c_row2_col0\" class=\"data row2 col0\" >-0.000000</td>\n",
       "      <td id=\"T_77c8c_row2_col1\" class=\"data row2 col1\" >-0.000000</td>\n",
       "      <td id=\"T_77c8c_row2_col2\" class=\"data row2 col2\" >-0.000006</td>\n",
       "      <td id=\"T_77c8c_row2_col3\" class=\"data row2 col3\" >-0.000004</td>\n",
       "      <td id=\"T_77c8c_row2_col4\" class=\"data row2 col4\" >0.000000</td>\n",
       "      <td id=\"T_77c8c_row2_col5\" class=\"data row2 col5\" >0.000000</td>\n",
       "    </tr>\n",
       "    <tr>\n",
       "      <td id=\"T_77c8c_row3_col0\" class=\"data row3 col0\" >-0.000000</td>\n",
       "      <td id=\"T_77c8c_row3_col1\" class=\"data row3 col1\" >-0.000000</td>\n",
       "      <td id=\"T_77c8c_row3_col2\" class=\"data row3 col2\" >0.000001</td>\n",
       "      <td id=\"T_77c8c_row3_col3\" class=\"data row3 col3\" >-0.000006</td>\n",
       "      <td id=\"T_77c8c_row3_col4\" class=\"data row3 col4\" >0.000000</td>\n",
       "      <td id=\"T_77c8c_row3_col5\" class=\"data row3 col5\" >0.000000</td>\n",
       "    </tr>\n",
       "    <tr>\n",
       "      <td id=\"T_77c8c_row4_col0\" class=\"data row4 col0\" >-0.000000</td>\n",
       "      <td id=\"T_77c8c_row4_col1\" class=\"data row4 col1\" >-0.000003</td>\n",
       "      <td id=\"T_77c8c_row4_col2\" class=\"data row4 col2\" >0.000000</td>\n",
       "      <td id=\"T_77c8c_row4_col3\" class=\"data row4 col3\" >0.000000</td>\n",
       "      <td id=\"T_77c8c_row4_col4\" class=\"data row4 col4\" >0.000000</td>\n",
       "      <td id=\"T_77c8c_row4_col5\" class=\"data row4 col5\" >-0.000000</td>\n",
       "    </tr>\n",
       "    <tr>\n",
       "      <td id=\"T_77c8c_row5_col0\" class=\"data row5 col0\" >0.000000</td>\n",
       "      <td id=\"T_77c8c_row5_col1\" class=\"data row5 col1\" >0.000000</td>\n",
       "      <td id=\"T_77c8c_row5_col2\" class=\"data row5 col2\" >0.000000</td>\n",
       "      <td id=\"T_77c8c_row5_col3\" class=\"data row5 col3\" >0.000000</td>\n",
       "      <td id=\"T_77c8c_row5_col4\" class=\"data row5 col4\" >0.000000</td>\n",
       "      <td id=\"T_77c8c_row5_col5\" class=\"data row5 col5\" >0.000000</td>\n",
       "    </tr>\n",
       "  </tbody>\n",
       "</table>\n"
      ],
      "text/plain": [
       "<pandas.io.formats.style.Styler at 0x1053434d0>"
      ]
     },
     "metadata": {},
     "output_type": "display_data"
    }
   ],
   "source": [
    "displayMatrix(\n",
    "getNewMatrix(proposedParams) - baseMatrix\n",
    ")"
   ]
  },
  {
   "cell_type": "markdown",
   "id": "2c4293da-67cc-482a-b4d4-8f74b772dd47",
   "metadata": {},
   "source": [
    "# Using bends only instead"
   ]
  },
  {
   "cell_type": "code",
   "execution_count": 22,
   "id": "45eaca92-6ebd-4e49-9841-9fde867ee4ac",
   "metadata": {},
   "outputs": [
    {
     "name": "stdout",
     "output_type": "stream",
     "text": [
      "Environment set to:  /Users/nmajik/Documents/SLAC/FACET2-Bmad-PyTao\n",
      "Tracking to end\n",
      "CSR off\n",
      "Base Tao lattice\n",
      "WARNING! No beam file is specified!\n",
      "Number of macro particles defined by input file\n"
     ]
    }
   ],
   "source": [
    "#Start from golden lattice\n",
    "tao = initializeTao(\n",
    "    loadDefaultLatticeTF = False\n",
    ")"
   ]
  },
  {
   "cell_type": "code",
   "execution_count": 23,
   "id": "d23b5c30-52a5-45de-9b07-1aa9413a5c68",
   "metadata": {},
   "outputs": [],
   "source": [
    "def getNewMatrix(params):\n",
    "    b1, b2, b3 = params\n",
    "    setLattice(tao, **(importedDefaultSettings | {\n",
    "        'B1EkG': b1,\n",
    "        'B2EkG': b2,\n",
    "        'B3EkG': b3,\n",
    "\n",
    "\n",
    "    }))\n",
    "\n",
    "    return( getMatrix(tao, \"BEGBC20\", \"MFFF\") )"
   ]
  },
  {
   "cell_type": "code",
   "execution_count": 24,
   "id": "c414842d-f952-4b43-8477-21265de4bf45",
   "metadata": {},
   "outputs": [
    {
     "data": {
      "text/plain": [
       "[7.533, -10.942, 3.409]"
      ]
     },
     "execution_count": 24,
     "metadata": {},
     "output_type": "execute_result"
    }
   ],
   "source": [
    "baselineParams = [ importedDefaultSettings[ele] for ele in ['B1EkG', 'B2EkG', 'B3EkG'] ]\n",
    "baselineParams"
   ]
  },
  {
   "cell_type": "code",
   "execution_count": 25,
   "id": "469c5da1-e957-4625-8b87-07e34d223cba",
   "metadata": {},
   "outputs": [
    {
     "data": {
      "text/plain": [
       "array([[-1.21868291e+00, -4.97352885e+00, -1.48618301e-17,\n",
       "        -1.22236825e-16,  0.00000000e+00,  6.55003019e-04],\n",
       "       [-8.91980482e-02, -1.18458137e+00,  9.78815662e-18,\n",
       "         7.39271849e-17,  0.00000000e+00,  2.46566200e-05],\n",
       "       [-6.92192800e-17, -4.21118447e-16, -6.18300468e-01,\n",
       "         6.83251047e+00,  0.00000000e+00, -7.01055271e-18],\n",
       "       [-3.62284491e-19, -3.65629728e-18, -9.36395716e-02,\n",
       "        -5.82575406e-01,  0.00000000e+00, -1.03154971e-19],\n",
       "       [-2.83763896e-05, -6.53273963e-04,  9.79969261e-19,\n",
       "         1.70298387e-17,  1.00000000e+00, -7.04089420e-03],\n",
       "       [ 0.00000000e+00,  0.00000000e+00,  0.00000000e+00,\n",
       "         0.00000000e+00,  0.00000000e+00,  1.00000000e+00]])"
      ]
     },
     "execution_count": 25,
     "metadata": {},
     "output_type": "execute_result"
    }
   ],
   "source": [
    "getNewMatrix( baselineParams )"
   ]
  },
  {
   "cell_type": "code",
   "execution_count": 26,
   "id": "60013c19-3f4a-4b6d-86bb-62d0c671cc54",
   "metadata": {},
   "outputs": [],
   "source": [
    "#The objective is to create a transport matrix that is the same as the baseline, except with a larger dispersion term\n",
    "\n",
    "def objective(params):\n",
    "    newMatrix = getNewMatrix(params)\n",
    "\n",
    "    targetMatrix = baseMatrix + [[0,0,0,0,0,0.001],[0,0,0,0,0,0],[0,0,0,0,0,0],[0,0,0,0,0,0],[0,0,0,0,0,0],[0,0,0,0,0,0]]\n",
    "\n",
    "    errorMatrix = np.array( newMatrix - targetMatrix )\n",
    "\n",
    "    error = np.sum(errorMatrix ** 2) \n",
    "\n",
    "    #print(error)\n",
    "    \n",
    "    return error\n",
    "    "
   ]
  },
  {
   "cell_type": "code",
   "execution_count": 27,
   "id": "e85daceb-887f-4bc8-86a5-4625434d0f03",
   "metadata": {},
   "outputs": [
    {
     "name": "stdout",
     "output_type": "stream",
     "text": [
      "Optimization Results:\n",
      "Optimal Parameters: [  7.48103038 -10.95999322   3.40039772]\n",
      "Objective Function Value at Optimal Parameters: 4.935434127213309e-07\n",
      "Number of Iterations: 60\n",
      "Converged: True\n"
     ]
    }
   ],
   "source": [
    "from scipy.optimize import minimize\n",
    "\n",
    "# Perform optimization using Nelder-Mead\n",
    "result = minimize(\n",
    "    objective, \n",
    "    baselineParams, #Starting point\n",
    "    method='Nelder-Mead',\n",
    ")\n",
    "\n",
    "                      \n",
    "print(\"Optimization Results:\")\n",
    "print(f\"Optimal Parameters: {result.x}\")\n",
    "print(f\"Objective Function Value at Optimal Parameters: {result.fun}\")\n",
    "print(f\"Number of Iterations: {result.nit}\")\n",
    "print(f\"Converged: {result.success}\")"
   ]
  },
  {
   "cell_type": "code",
   "execution_count": 28,
   "id": "88ff8de5-383a-48ec-aa42-599cbd1b413e",
   "metadata": {},
   "outputs": [],
   "source": [
    "proposedParams = result.x"
   ]
  },
  {
   "cell_type": "code",
   "execution_count": 29,
   "id": "09c52f22-2ca4-4483-b128-cdda39edb43f",
   "metadata": {},
   "outputs": [
    {
     "data": {
      "text/plain": [
       "array([-0.05196962, -0.01799322, -0.00860228])"
      ]
     },
     "execution_count": 29,
     "metadata": {},
     "output_type": "execute_result"
    }
   ],
   "source": [
    "deltas = proposedParams - baselineParams\n",
    "deltas"
   ]
  },
  {
   "cell_type": "code",
   "execution_count": 30,
   "id": "ece15095-545a-4feb-b409-c4caac970527",
   "metadata": {},
   "outputs": [
    {
     "data": {
      "text/html": [
       "<style type=\"text/css\">\n",
       "</style>\n",
       "<table id=\"T_6af23\">\n",
       "  <thead>\n",
       "  </thead>\n",
       "  <tbody>\n",
       "    <tr>\n",
       "      <td id=\"T_6af23_row0_col0\" class=\"data row0 col0\" >-0.000010</td>\n",
       "      <td id=\"T_6af23_row0_col1\" class=\"data row0 col1\" >-0.000002</td>\n",
       "      <td id=\"T_6af23_row0_col2\" class=\"data row0 col2\" >0.000000</td>\n",
       "      <td id=\"T_6af23_row0_col3\" class=\"data row0 col3\" >0.000000</td>\n",
       "      <td id=\"T_6af23_row0_col4\" class=\"data row0 col4\" >0.000000</td>\n",
       "      <td id=\"T_6af23_row0_col5\" class=\"data row0 col5\" >0.000506</td>\n",
       "    </tr>\n",
       "    <tr>\n",
       "      <td id=\"T_6af23_row1_col0\" class=\"data row1 col0\" >-0.000005</td>\n",
       "      <td id=\"T_6af23_row1_col1\" class=\"data row1 col1\" >-0.000009</td>\n",
       "      <td id=\"T_6af23_row1_col2\" class=\"data row1 col2\" >-0.000000</td>\n",
       "      <td id=\"T_6af23_row1_col3\" class=\"data row1 col3\" >-0.000000</td>\n",
       "      <td id=\"T_6af23_row1_col4\" class=\"data row1 col4\" >0.000000</td>\n",
       "      <td id=\"T_6af23_row1_col5\" class=\"data row1 col5\" >0.000019</td>\n",
       "    </tr>\n",
       "    <tr>\n",
       "      <td id=\"T_6af23_row2_col0\" class=\"data row2 col0\" >-0.000000</td>\n",
       "      <td id=\"T_6af23_row2_col1\" class=\"data row2 col1\" >-0.000000</td>\n",
       "      <td id=\"T_6af23_row2_col2\" class=\"data row2 col2\" >-0.000003</td>\n",
       "      <td id=\"T_6af23_row2_col3\" class=\"data row2 col3\" >0.000000</td>\n",
       "      <td id=\"T_6af23_row2_col4\" class=\"data row2 col4\" >0.000000</td>\n",
       "      <td id=\"T_6af23_row2_col5\" class=\"data row2 col5\" >0.000000</td>\n",
       "    </tr>\n",
       "    <tr>\n",
       "      <td id=\"T_6af23_row3_col0\" class=\"data row3 col0\" >-0.000000</td>\n",
       "      <td id=\"T_6af23_row3_col1\" class=\"data row3 col1\" >-0.000000</td>\n",
       "      <td id=\"T_6af23_row3_col2\" class=\"data row3 col2\" >0.000001</td>\n",
       "      <td id=\"T_6af23_row3_col3\" class=\"data row3 col3\" >-0.000004</td>\n",
       "      <td id=\"T_6af23_row3_col4\" class=\"data row3 col4\" >0.000000</td>\n",
       "      <td id=\"T_6af23_row3_col5\" class=\"data row3 col5\" >0.000000</td>\n",
       "    </tr>\n",
       "    <tr>\n",
       "      <td id=\"T_6af23_row4_col0\" class=\"data row4 col0\" >-0.000019</td>\n",
       "      <td id=\"T_6af23_row4_col1\" class=\"data row4 col1\" >-0.000499</td>\n",
       "      <td id=\"T_6af23_row4_col2\" class=\"data row4 col2\" >-0.000000</td>\n",
       "      <td id=\"T_6af23_row4_col3\" class=\"data row4 col3\" >0.000000</td>\n",
       "      <td id=\"T_6af23_row4_col4\" class=\"data row4 col4\" >0.000000</td>\n",
       "      <td id=\"T_6af23_row4_col5\" class=\"data row4 col5\" >-0.000000</td>\n",
       "    </tr>\n",
       "    <tr>\n",
       "      <td id=\"T_6af23_row5_col0\" class=\"data row5 col0\" >0.000000</td>\n",
       "      <td id=\"T_6af23_row5_col1\" class=\"data row5 col1\" >0.000000</td>\n",
       "      <td id=\"T_6af23_row5_col2\" class=\"data row5 col2\" >0.000000</td>\n",
       "      <td id=\"T_6af23_row5_col3\" class=\"data row5 col3\" >0.000000</td>\n",
       "      <td id=\"T_6af23_row5_col4\" class=\"data row5 col4\" >0.000000</td>\n",
       "      <td id=\"T_6af23_row5_col5\" class=\"data row5 col5\" >0.000000</td>\n",
       "    </tr>\n",
       "  </tbody>\n",
       "</table>\n"
      ],
      "text/plain": [
       "<pandas.io.formats.style.Styler at 0x168a37d90>"
      ]
     },
     "metadata": {},
     "output_type": "display_data"
    }
   ],
   "source": [
    "displayMatrix(\n",
    "getNewMatrix(proposedParams) - baseMatrix\n",
    ")"
   ]
  },
  {
   "cell_type": "code",
   "execution_count": null,
   "id": "7452ed00-d32a-4725-b272-8e37474c3754",
   "metadata": {},
   "outputs": [],
   "source": []
  }
 ],
 "metadata": {
  "kernelspec": {
   "display_name": "Python 3 (ipykernel)",
   "language": "python",
   "name": "python3"
  },
  "language_info": {
   "codemirror_mode": {
    "name": "ipython",
    "version": 3
   },
   "file_extension": ".py",
   "mimetype": "text/x-python",
   "name": "python",
   "nbconvert_exporter": "python",
   "pygments_lexer": "ipython3",
   "version": "3.11.8"
  }
 },
 "nbformat": 4,
 "nbformat_minor": 5
}
