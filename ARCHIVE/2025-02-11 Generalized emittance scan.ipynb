{
 "cells": [
  {
   "cell_type": "markdown",
   "id": "445d833a-d191-4c16-816d-467cc343b203",
   "metadata": {},
   "source": [
    "## Make demo data"
   ]
  },
  {
   "cell_type": "code",
   "execution_count": 1,
   "id": "869c14bc-e36a-4e48-8dcd-f85711b074e6",
   "metadata": {},
   "outputs": [],
   "source": [
    "from UTILITY_quickstart import *"
   ]
  },
  {
   "cell_type": "code",
   "execution_count": 2,
   "id": "3c546332-aab8-477d-be22-9231e192cc6e",
   "metadata": {},
   "outputs": [],
   "source": [
    "importedDefaultSettings = loadConfig(\"setLattice_configs/2024-10-22_oneBunch_baseline.yml\")"
   ]
  },
  {
   "cell_type": "code",
   "execution_count": 3,
   "id": "bfe4f53e-5fcb-4d57-8abb-20ce7e801dfb",
   "metadata": {},
   "outputs": [
    {
     "name": "stdout",
     "output_type": "stream",
     "text": [
      "Environment set to:  /Users/nmajik/Documents/SLAC/FACET2-Bmad-PyTao\n",
      "Tracking to end\n",
      "CSR off\n",
      "Overwriting lattice with setLattice() defaults\n",
      "No defaults file provided to setLattice(). Using setLattice_configs/defaults.yml\n",
      "Number of macro particles = 10000.0\n",
      "Beam created, written to /tmp/beams/activeBeamFile_16170017857788765365.h5, and reinit to tao\n",
      "No evalElement provided. Assuming golden lattice PR10571\n",
      "Optimization Results:\n",
      "Optimal Parameters: [28.77865964 13.39705392 23.51276157 16.83077823]\n",
      "Objective Function Value at Optimal Parameters: 3.875225216013324e-12\n",
      "Number of Iterations: 354\n",
      "Converged: True\n"
     ]
    }
   ],
   "source": [
    "csrTF = False\n",
    "#trackEnd = \"PR15944\"\n",
    "\n",
    "bunchCount = importedDefaultSettings[\"bunchCount\"]\n",
    "\n",
    "tao = initializeTao(\n",
    "    inputBeamFilePathSuffix = importedDefaultSettings[\"inputBeamFilePathSuffix\"],\n",
    "    \n",
    "    csrTF = csrTF,\n",
    "    numMacroParticles=1e4,\n",
    "    scratchPath = \"/tmp\",\n",
    "    randomizeFileNames = True\n",
    ")\n",
    "\n",
    "setLattice(tao, **importedDefaultSettings)\n",
    "launchTwissCorrection(tao)"
   ]
  },
  {
   "cell_type": "code",
   "execution_count": 4,
   "id": "d49d05d9-8564-415d-ab74-11ba427ce253",
   "metadata": {},
   "outputs": [],
   "source": [
    "trackBeam(tao, trackEnd = \"PR10571\", **importedDefaultSettings)"
   ]
  },
  {
   "cell_type": "code",
   "execution_count": 5,
   "id": "a114e541-ac4e-4bc8-85a6-6b44b2282685",
   "metadata": {},
   "outputs": [
    {
     "name": "stdout",
     "output_type": "stream",
     "text": [
      "{'PDrive_median_x': -7.820290234820003e-07, 'PDrive_median_y': 3.669508697689903e-06, 'PDrive_median_xp': 1.8478574101365557e-06, 'PDrive_median_yp': -3.8932810905611543e-07, 'PDrive_sigmaSI90_x': 0.00017926843656446514, 'PDrive_sigmaSI90_y': 0.0001525415438575228, 'PDrive_sigmaSI90_z': 0.0005732622075647287, 'PDrive_sigmaSI90_xp': 0.0001427161907664057, 'PDrive_sigmaSI90_yp': 7.928900032975641e-05, 'PDrive_emitSI90_x': 4.979988626685858e-06, 'PDrive_emitSI90_y': 2.930950716380755e-06, 'PDrive_norm_emit_x': 6.4829248232087125e-06, 'PDrive_norm_emit_y': 5.11390955338514e-06, 'PDrive_charge_nC': 1.6000000000000012}\n"
     ]
    },
    {
     "data": {
      "text/plain": [
       "{'alpha_x': -0.8880562099622552,\n",
       " 'beta_x': 1.7931829184807706,\n",
       " 'gamma_x': 0.9974686986020973,\n",
       " 'emit_x': 2.6905043135885087e-08,\n",
       " 'eta_x': -0.0009630865657575627,\n",
       " 'etap_x': 0.0006844062138977451,\n",
       " 'norm_emit_x': 6.482591249138419e-06}"
      ]
     },
     "execution_count": 5,
     "metadata": {},
     "output_type": "execute_result"
    }
   ],
   "source": [
    "PStart = getBeamAtElement(tao, \"LH10END\")\n",
    "print(getBeamSpecs(PStart))\n",
    "PStart.twiss()"
   ]
  },
  {
   "cell_type": "code",
   "execution_count": 6,
   "id": "3f6d4f9a-49da-407d-8206-864ce975cdd2",
   "metadata": {},
   "outputs": [
    {
     "data": {
      "text/plain": [
       "{'mode_flip': False,\n",
       " 'beta_a': 1.09821649452557,\n",
       " 'alpha_a': -0.781206485498211,\n",
       " 'gamma_a': 1.46627152388575,\n",
       " 'phi_a': 5.08254789794399,\n",
       " 'eta_a': -1.21430643318376e-17,\n",
       " 'etap_a': 0.0,\n",
       " 'beta_b': 2.09593213230205,\n",
       " 'alpha_b': 0.38350744582814,\n",
       " 'gamma_b': 0.547287740536589,\n",
       " 'phi_b': 6.82740377689841,\n",
       " 'eta_b': 0.0,\n",
       " 'etap_b': 0.0,\n",
       " 'eta_x': -1.21430643318376e-17,\n",
       " 'etap_x': 0.0,\n",
       " 'eta_y': 0.0,\n",
       " 'etap_y': 0.0}"
      ]
     },
     "execution_count": 6,
     "metadata": {},
     "output_type": "execute_result"
    }
   ],
   "source": [
    "tao.ele_twiss(\"LH10END\")"
   ]
  },
  {
   "cell_type": "code",
   "execution_count": 7,
   "id": "6886d350-adc0-4d8d-aea4-1172e44bc490",
   "metadata": {},
   "outputs": [
    {
     "name": "stdout",
     "output_type": "stream",
     "text": [
      "{'PDrive_median_x': 1.0961642759940335e-07, 'PDrive_median_y': -9.672338840942929e-07, 'PDrive_median_xp': 1.9401052678987768e-07, 'PDrive_median_yp': -1.5356804029228892e-06, 'PDrive_sigmaSI90_x': 0.00029302479434631346, 'PDrive_sigmaSI90_y': 0.0002074011512563531, 'PDrive_sigmaSI90_z': 0.0005734009032130012, 'PDrive_sigmaSI90_xp': 0.0001449865939482277, 'PDrive_sigmaSI90_yp': 6.187237196946309e-05, 'PDrive_emitSI90_x': 4.406127447006126e-06, 'PDrive_emitSI90_y': 3.0679672053392994e-06, 'PDrive_norm_emit_x': 6.464295119169193e-06, 'PDrive_norm_emit_y': 5.111018001311856e-06, 'PDrive_charge_nC': 1.6000000000000012}\n"
     ]
    },
    {
     "data": {
      "text/plain": [
       "{'alpha_x': -3.0074912343547613,\n",
       " 'beta_x': 6.893784403037553,\n",
       " 'gamma_x': 1.4571101933931494,\n",
       " 'emit_x': 2.682771961701437e-08,\n",
       " 'eta_x': 0.003960158900341382,\n",
       " 'etap_x': 0.0014162156157351336,\n",
       " 'norm_emit_x': 6.463960661398779e-06}"
      ]
     },
     "execution_count": 7,
     "metadata": {},
     "output_type": "execute_result"
    }
   ],
   "source": [
    "PEnd = getBeamAtElement(tao, \"PR10571\")\n",
    "print(getBeamSpecs(PEnd))\n",
    "PEnd.twiss()"
   ]
  },
  {
   "cell_type": "code",
   "execution_count": 8,
   "id": "4976ed76-3dd9-4d18-a089-3a0198add9b3",
   "metadata": {},
   "outputs": [
    {
     "data": {
      "text/plain": [
       "{'mode_flip': False,\n",
       " 'beta_a': 5.73666253544905,\n",
       " 'alpha_a': -2.14411523511541,\n",
       " 'gamma_a': 0.975694509981466,\n",
       " 'phi_a': 7.31755704396,\n",
       " 'eta_a': 4.44208173883061e-18,\n",
       " 'etap_a': 2.39353339300433e-17,\n",
       " 'beta_b': 2.57530224865125,\n",
       " 'alpha_b': 0.0101621826097515,\n",
       " 'gamma_b': 0.388344036308427,\n",
       " 'phi_b': 8.22732356727666,\n",
       " 'eta_b': -6.54597950722192e-37,\n",
       " 'etap_b': -8.75519654512594e-38,\n",
       " 'eta_x': 4.44208173883061e-18,\n",
       " 'etap_x': 2.39353339300433e-17,\n",
       " 'eta_y': -7.71096119937701e-37,\n",
       " 'etap_y': 9.21848220971573e-38}"
      ]
     },
     "execution_count": 8,
     "metadata": {},
     "output_type": "execute_result"
    }
   ],
   "source": [
    "tao.ele_twiss(\"PR10571\")"
   ]
  },
  {
   "cell_type": "markdown",
   "id": "81ccd86b-3a25-4093-bd0d-1bbd62ace282",
   "metadata": {
    "jp-MarkdownHeadingCollapsed": true
   },
   "source": [
    "### Spot check"
   ]
  },
  {
   "cell_type": "code",
   "execution_count": 9,
   "id": "b5aa7357-d453-442b-92dc-5a6490eb8e38",
   "metadata": {},
   "outputs": [
    {
     "data": {
      "text/html": [
       "<style type=\"text/css\">\n",
       "</style>\n",
       "<table id=\"T_25f6a\">\n",
       "  <thead>\n",
       "  </thead>\n",
       "  <tbody>\n",
       "    <tr>\n",
       "      <td id=\"T_25f6a_row0_col0\" class=\"data row0 col0\" >-1.558227</td>\n",
       "      <td id=\"T_25f6a_row0_col1\" class=\"data row0 col1\" >4.467930</td>\n",
       "      <td id=\"T_25f6a_row0_col2\" class=\"data row0 col2\" >-0.000000</td>\n",
       "      <td id=\"T_25f6a_row0_col3\" class=\"data row0 col3\" >-0.000000</td>\n",
       "      <td id=\"T_25f6a_row0_col4\" class=\"data row0 col4\" >0.000000</td>\n",
       "      <td id=\"T_25f6a_row0_col5\" class=\"data row0 col5\" >-0.000000</td>\n",
       "    </tr>\n",
       "    <tr>\n",
       "      <td id=\"T_25f6a_row1_col0\" class=\"data row1 col0\" >-0.709160</td>\n",
       "      <td id=\"T_25f6a_row1_col1\" class=\"data row1 col1\" >1.391630</td>\n",
       "      <td id=\"T_25f6a_row1_col2\" class=\"data row1 col2\" >-0.000000</td>\n",
       "      <td id=\"T_25f6a_row1_col3\" class=\"data row1 col3\" >-0.000000</td>\n",
       "      <td id=\"T_25f6a_row1_col4\" class=\"data row1 col4\" >0.000000</td>\n",
       "      <td id=\"T_25f6a_row1_col5\" class=\"data row1 col5\" >-0.000000</td>\n",
       "    </tr>\n",
       "    <tr>\n",
       "      <td id=\"T_25f6a_row2_col0\" class=\"data row2 col0\" >0.000000</td>\n",
       "      <td id=\"T_25f6a_row2_col1\" class=\"data row2 col1\" >0.000000</td>\n",
       "      <td id=\"T_25f6a_row2_col2\" class=\"data row2 col2\" >-4.549610</td>\n",
       "      <td id=\"T_25f6a_row2_col3\" class=\"data row2 col3\" >-3.527921</td>\n",
       "      <td id=\"T_25f6a_row2_col4\" class=\"data row2 col4\" >0.000000</td>\n",
       "      <td id=\"T_25f6a_row2_col5\" class=\"data row2 col5\" >-0.000000</td>\n",
       "    </tr>\n",
       "    <tr>\n",
       "      <td id=\"T_25f6a_row3_col0\" class=\"data row3 col0\" >0.000000</td>\n",
       "      <td id=\"T_25f6a_row3_col1\" class=\"data row3 col1\" >0.000000</td>\n",
       "      <td id=\"T_25f6a_row3_col2\" class=\"data row3 col2\" >-2.306787</td>\n",
       "      <td id=\"T_25f6a_row3_col3\" class=\"data row3 col3\" >-2.008560</td>\n",
       "      <td id=\"T_25f6a_row3_col4\" class=\"data row3 col4\" >0.000000</td>\n",
       "      <td id=\"T_25f6a_row3_col5\" class=\"data row3 col5\" >0.000000</td>\n",
       "    </tr>\n",
       "    <tr>\n",
       "      <td id=\"T_25f6a_row4_col0\" class=\"data row4 col0\" >0.000000</td>\n",
       "      <td id=\"T_25f6a_row4_col1\" class=\"data row4 col1\" >-0.000000</td>\n",
       "      <td id=\"T_25f6a_row4_col2\" class=\"data row4 col2\" >0.000000</td>\n",
       "      <td id=\"T_25f6a_row4_col3\" class=\"data row4 col3\" >0.000000</td>\n",
       "      <td id=\"T_25f6a_row4_col4\" class=\"data row4 col4\" >1.000000</td>\n",
       "      <td id=\"T_25f6a_row4_col5\" class=\"data row4 col5\" >0.000074</td>\n",
       "    </tr>\n",
       "    <tr>\n",
       "      <td id=\"T_25f6a_row5_col0\" class=\"data row5 col0\" >0.000000</td>\n",
       "      <td id=\"T_25f6a_row5_col1\" class=\"data row5 col1\" >0.000000</td>\n",
       "      <td id=\"T_25f6a_row5_col2\" class=\"data row5 col2\" >0.000000</td>\n",
       "      <td id=\"T_25f6a_row5_col3\" class=\"data row5 col3\" >0.000000</td>\n",
       "      <td id=\"T_25f6a_row5_col4\" class=\"data row5 col4\" >0.000000</td>\n",
       "      <td id=\"T_25f6a_row5_col5\" class=\"data row5 col5\" >1.000000</td>\n",
       "    </tr>\n",
       "  </tbody>\n",
       "</table>\n"
      ],
      "text/plain": [
       "<pandas.io.formats.style.Styler at 0x14b25f8d0>"
      ]
     },
     "metadata": {},
     "output_type": "display_data"
    },
    {
     "name": "stdout",
     "output_type": "stream",
     "text": [
      "1.7931829184807706 -0.8880562099622552\n",
      "11.900463306371432\n",
      "13.201380673211572\n"
     ]
    }
   ],
   "source": [
    "setQuadkG(tao, \"QE10525\", -10)\n",
    "trackBeam(tao, trackEnd = \"PR10571\", **importedDefaultSettings)\n",
    "PEnd = getBeamAtElement(tao, \"PR10571\")\n",
    "\n",
    "transferMatrix = getMatrix(tao, \"LH10END\", \"PR10571\", print = True)\n",
    "\n",
    "shot = {}\n",
    "shot[\"R11\"] = transferMatrix[0][0]\n",
    "shot[\"R12\"] = transferMatrix[0][1]\n",
    "\n",
    "betaI = PStart.twiss()[\"beta_x\"]\n",
    "alphaI = PStart.twiss()[\"alpha_x\"]\n",
    "\n",
    "print(betaI, alphaI)\n",
    "\n",
    "term1 = betaI * shot[\"R11\"] ** 2\n",
    "term2 = -2 * alphaI * shot[\"R11\"] * shot[\"R12\"]\n",
    "term3 =  ( (1 + alphaI ** 2) / betaI ) * shot[\"R12\"] ** 2\n",
    "\n",
    "print( ( term1 + term2 + term3 ) )\n",
    "print( PEnd.twiss()[\"beta_x\"] )"
   ]
  },
  {
   "cell_type": "markdown",
   "id": "2fa1db6d-22dc-48d8-8a98-dff0c3735c60",
   "metadata": {},
   "source": [
    "### Assemble data"
   ]
  },
  {
   "cell_type": "code",
   "execution_count": 10,
   "id": "b23b24ff-fb18-4bc2-b226-d826eb0653d1",
   "metadata": {},
   "outputs": [],
   "source": [
    "dummyData = []\n",
    "\n",
    "for quadSetting in np.arange(-10, 0, 1):\n",
    "\n",
    "    setQuadkG(tao, \"QE10525\", quadSetting)\n",
    "\n",
    "    transferMatrix = getMatrix(tao, \"LH10END\", \"PR10571\")\n",
    "\n",
    "    trackBeam(tao, trackEnd = \"PR10571\", **importedDefaultSettings)\n",
    "\n",
    "    \n",
    "    P = getBeamAtElement(tao, \"PR10571\")\n",
    "    #spotSize = smallestIntervalImpliedSigma(P.x)\n",
    "    spotSize = P[\"sigma_x\"]\n",
    "\n",
    "    dummyData.append(\n",
    "        {\n",
    "            \"quadSetting\" : quadSetting,\n",
    "            \"R11\" : transferMatrix[0][0],\n",
    "            \"R12\" : transferMatrix[0][1],\n",
    "            \"sigma\" : spotSize\n",
    "        }\n",
    "    )"
   ]
  },
  {
   "cell_type": "code",
   "execution_count": 11,
   "id": "bbafc30d-d4fe-42af-a73a-15898ee9f6c8",
   "metadata": {},
   "outputs": [
    {
     "data": {
      "text/plain": [
       "[{'quadSetting': -10,\n",
       "  'R11': -1.55822732636512,\n",
       "  'R12': 4.46793037201857,\n",
       "  'sigma': 0.0005962108772497927},\n",
       " {'quadSetting': -9,\n",
       "  'R11': -1.82424880215342,\n",
       "  'R12': 3.94129536712872,\n",
       "  'sigma': 0.0005037878201740523},\n",
       " {'quadSetting': -8,\n",
       "  'R11': -2.08772690321794,\n",
       "  'R12': 3.41925497802246,\n",
       "  'sigma': 0.00043328935664285317},\n",
       " {'quadSetting': -7,\n",
       "  'R11': -2.34867221106041,\n",
       "  'R12': 2.90179064694699,\n",
       "  'sigma': 0.0003954334795426163},\n",
       " {'quadSetting': -6,\n",
       "  'R11': -2.60709527947151,\n",
       "  'R12': 2.38888386404611,\n",
       "  'sigma': 0.00039848020330595415},\n",
       " {'quadSetting': -5,\n",
       "  'R11': -2.86300663458361,\n",
       "  'R12': 1.88051616726989,\n",
       "  'sigma': 0.00044057865527942334},\n",
       " {'quadSetting': -4,\n",
       "  'R11': -3.11641677492343,\n",
       "  'R12': 1.37666914228444,\n",
       "  'sigma': 0.0005113338553205847},\n",
       " {'quadSetting': -3,\n",
       "  'R11': -3.3673361714646,\n",
       "  'R12': 0.877324422381807,\n",
       "  'sigma': 0.0005999859969802583},\n",
       " {'quadSetting': -2,\n",
       "  'R11': -3.61577526768015,\n",
       "  'R12': 0.382463688390066,\n",
       "  'sigma': 0.0006991581598571774},\n",
       " {'quadSetting': -1,\n",
       "  'R11': -3.86174447959496,\n",
       "  'R12': -0.107931331416543,\n",
       "  'sigma': 0.0008044513223018028}]"
      ]
     },
     "execution_count": 11,
     "metadata": {},
     "output_type": "execute_result"
    }
   ],
   "source": [
    "dummyData"
   ]
  },
  {
   "cell_type": "markdown",
   "id": "74a3ac41-3b1a-4dcd-8bfa-185709b34e47",
   "metadata": {},
   "source": [
    "## Generalized solver"
   ]
  },
  {
   "cell_type": "code",
   "execution_count": 12,
   "id": "6a198715-c6ea-4419-9c12-76ecfd8c4500",
   "metadata": {},
   "outputs": [],
   "source": [
    "def generalizedEmittanceSolverObjective(params, data):\n",
    "    betaI, alphaI, emittanceGeo = params\n",
    "    \n",
    "    errorComponents = []\n",
    "\n",
    "    for shot in data:\n",
    "        # Twiss transfer matrix for beta\n",
    "        # R11^2 \\[Beta] - 2 R11 R12 \\[Alpha] +  + R12^2 \\[Gamma]\n",
    "        term1 = betaI * shot[\"R11\"] ** 2\n",
    "        term2 = -2 * alphaI * shot[\"R11\"] * shot[\"R12\"]\n",
    "        term3 =  ( (1 + alphaI ** 2) / betaI ) * shot[\"R12\"] ** 2\n",
    "\n",
    "        # (beta * emit_geo) == sigma^2\n",
    "        errorComponent = ( term1 + term2 + term3 ) * emittanceGeo - shot[\"sigma\"] ** 2\n",
    "\n",
    "        #Add all error terms in quadrature\n",
    "        errorComponents.append(errorComponent ** 2)\n",
    "    \n",
    "        \n",
    "    \n",
    "    return np.sum(errorComponents)"
   ]
  },
  {
   "cell_type": "code",
   "execution_count": 14,
   "id": "e2e9aef8-0f5c-4f81-a96b-93ad996f02a7",
   "metadata": {},
   "outputs": [],
   "source": [
    "def generalizedEmittanceSolver(\n",
    "    data,\n",
    "    energyGeV = None\n",
    "):\n",
    "    \"\"\"\n",
    "    `data` should be a list of dictionaries, each of which should contain at least \"R11\", \"R12\", and \"sigma\" corresponding to the R-matrix terms for the transfer of interest\n",
    "    and the beam sigma at the downstream screen.\n",
    "\n",
    "    The the initial beta, alpha, and emittance are used as fit parameters to explain the observations\n",
    "    The typical Twiss transfer is applied for each case and compared to the observed spot size\n",
    "    \"\"\"\n",
    "    \n",
    "    from scipy.optimize import minimize\n",
    "\n",
    "\n",
    "    # Perform optimization using Nelder-Mead\n",
    "    result = minimize(\n",
    "        generalizedEmittanceSolverObjective, \n",
    "        [0.5, 0.5, 1e-9], #Starting point\n",
    "        method='Nelder-Mead',\n",
    "        args = (data, )\n",
    "    )\n",
    "\n",
    "                          \n",
    "    # print(\"Optimization Results:\")\n",
    "    # print(f\"Optimal Parameters: {result.x}\")\n",
    "    # print(f\"Objective Function Value at Optimal Parameters: {result.fun}\")\n",
    "    # print(f\"Number of Iterations: {result.nit}\")\n",
    "    # print(f\"Converged: {result.success}\")\n",
    "\n",
    "    output = {\"beta\" : result.x[0], \"alpha\" : result.x[1], \"emitGeo\" : result.x[2]}\n",
    "\n",
    "    if energyGeV:\n",
    "        #Sloppy, ultrarel only\n",
    "        output[\"emit\"] = result.x[2] * energyGeV * 1000 / 0.511\n",
    "    \n",
    "    return output"
   ]
  },
  {
   "cell_type": "code",
   "execution_count": 15,
   "id": "b3669895-7c9f-4d90-8e30-cc8b5e89a94b",
   "metadata": {},
   "outputs": [
    {
     "name": "stdout",
     "output_type": "stream",
     "text": [
      "Optimization Results:\n",
      "Optimal Parameters: [ 1.62414570e+00 -9.09314659e-01  2.58886015e-08]\n",
      "Objective Function Value at Optimal Parameters: 8.894880589077135e-20\n",
      "Number of Iterations: 264\n",
      "Converged: True\n"
     ]
    },
    {
     "data": {
      "text/plain": [
       "{'beta': 1.6241456986883478,\n",
       " 'alpha': -0.9093146586013356,\n",
       " 'emitGeo': 2.5888601538649748e-08,\n",
       " 'emit': 6.3328281650317385e-06}"
      ]
     },
     "execution_count": 15,
     "metadata": {},
     "output_type": "execute_result"
    }
   ],
   "source": [
    "generalizedEmittanceSolver(dummyData, energyGeV = 0.125)"
   ]
  },
  {
   "cell_type": "code",
   "execution_count": 16,
   "id": "de6b7d92-074c-44f7-84e5-01105ba11620",
   "metadata": {},
   "outputs": [
    {
     "data": {
      "text/plain": [
       "{'alpha_x': -0.8880562099622552,\n",
       " 'beta_x': 1.7931829184807706,\n",
       " 'gamma_x': 0.9974686986020973,\n",
       " 'emit_x': 2.6905043135885087e-08,\n",
       " 'eta_x': -0.0009630865657575627,\n",
       " 'etap_x': 0.0006844062138977451,\n",
       " 'norm_emit_x': 6.482591249138419e-06}"
      ]
     },
     "execution_count": 16,
     "metadata": {},
     "output_type": "execute_result"
    }
   ],
   "source": [
    "PStart.twiss()"
   ]
  },
  {
   "cell_type": "markdown",
   "id": "d94d966c-629a-46b1-9941-6023fc50b6d4",
   "metadata": {},
   "source": [
    "## Try another case"
   ]
  },
  {
   "cell_type": "code",
   "execution_count": 27,
   "id": "c154e1ff-b9ac-4cf4-b139-dd4120e8403b",
   "metadata": {},
   "outputs": [
    {
     "name": "stdout",
     "output_type": "stream",
     "text": [
      "Environment set to:  /Users/nmajik/Documents/SLAC/FACET2-Bmad-PyTao\n",
      "Tracking to end\n",
      "CSR off\n",
      "Overwriting lattice with setLattice() defaults\n",
      "No defaults file provided to setLattice(). Using setLattice_configs/defaults.yml\n",
      "Number of macro particles = 10000.0\n",
      "Beam created, written to /tmp/beams/activeBeamFile_855814720493067643.h5, and reinit to tao\n",
      "No evalElement provided. Assuming golden lattice PR10571\n",
      "Optimization Results:\n",
      "Optimal Parameters: [28.77865964 13.39705392 23.51276157 16.83077823]\n",
      "Objective Function Value at Optimal Parameters: 3.875225216013324e-12\n",
      "Number of Iterations: 354\n",
      "Converged: True\n"
     ]
    }
   ],
   "source": [
    "importedDefaultSettings = loadConfig(\"setLattice_configs/2024-10-22_oneBunch_baseline.yml\")\n",
    "\n",
    "csrTF = False\n",
    "#trackEnd = \"PR15944\"\n",
    "\n",
    "bunchCount = importedDefaultSettings[\"bunchCount\"]\n",
    "\n",
    "tao = initializeTao(\n",
    "    inputBeamFilePathSuffix = importedDefaultSettings[\"inputBeamFilePathSuffix\"],\n",
    "    \n",
    "    csrTF = csrTF,\n",
    "    numMacroParticles=1e4,\n",
    "    scratchPath = \"/tmp\",\n",
    "    randomizeFileNames = True\n",
    ")\n",
    "\n",
    "setLattice(tao, **importedDefaultSettings)\n",
    "launchTwissCorrection(tao)"
   ]
  },
  {
   "cell_type": "code",
   "execution_count": 28,
   "id": "e182f211-2821-4807-9bb8-a0982902ee85",
   "metadata": {},
   "outputs": [
    {
     "name": "stdout",
     "output_type": "stream",
     "text": [
      "{'PDrive_median_x': -6.668778756107626e-07, 'PDrive_median_y': 2.1081727432857757e-07, 'PDrive_median_xp': -1.590168402456281e-06, 'PDrive_median_yp': 1.9493156925010468e-07, 'PDrive_sigmaSI90_x': 7.893474493796194e-05, 'PDrive_sigmaSI90_y': 4.8124813785466594e-05, 'PDrive_sigmaSI90_z': 3.8676074859785844e-05, 'PDrive_sigmaSI90_xp': 2.0599106678645193e-05, 'PDrive_sigmaSI90_yp': 1.2818569145780602e-05, 'PDrive_emitSI90_x': 1.0842492613625031e-05, 'PDrive_emitSI90_y': 3.0262636398405045e-06, 'PDrive_norm_emit_x': 1.3619071103880578e-05, 'PDrive_norm_emit_y': 4.667093647811138e-06, 'PDrive_charge_nC': 1.599680000000001}\n"
     ]
    },
    {
     "data": {
      "text/plain": [
       "{'alpha_x': 1.418505585256189,\n",
       " 'beta_x': 6.004667679401755,\n",
       " 'gamma_x': 0.501636103149526,\n",
       " 'emit_x': 1.4505498486790861e-09,\n",
       " 'eta_x': -0.0026543416886199924,\n",
       " 'etap_x': 0.0004787328886296131,\n",
       " 'norm_emit_x': 1.2581663049879037e-05}"
      ]
     },
     "execution_count": 28,
     "metadata": {},
     "output_type": "execute_result"
    }
   ],
   "source": [
    "trackBeam(tao, trackEnd = \"PR15944\", **importedDefaultSettings)\n",
    "\n",
    "PStart = getBeamAtElement(tao, \"IM14890\")\n",
    "print(getBeamSpecs(PStart))\n",
    "PStart.twiss()"
   ]
  },
  {
   "cell_type": "code",
   "execution_count": 29,
   "id": "3b11b1b7-6a7d-4587-9657-964849303cb7",
   "metadata": {},
   "outputs": [
    {
     "data": {
      "image/png": "[encoded data removed]",
      "text/plain": [
       "<Figure size 640x480 with 3 Axes>"
      ]
     },
     "metadata": {},
     "output_type": "display_data"
    }
   ],
   "source": [
    "display(plotMod(PStart, 'x', 'y', bins=300))\n",
    "plt.clf()"
   ]
  },
  {
   "cell_type": "code",
   "execution_count": 34,
   "id": "565cc60c-f22e-44ef-a509-3145145f560e",
   "metadata": {},
   "outputs": [],
   "source": [
    "makeBeamActiveBeamFile(PStart, tao = tao)\n",
    "\n",
    "dummyData = []\n",
    "\n",
    "for quadSetting in np.arange(-50, 0, 5):\n",
    "\n",
    "    setQuadkG(tao, \"Q14901\", quadSetting)\n",
    "\n",
    "    transferMatrix = getMatrix(tao, \"IM14890\", \"PR15944\")\n",
    "\n",
    "    trackBeam(tao, trackStart = \"IM14890\", trackEnd = \"PR15944\", **importedDefaultSettings)\n",
    "\n",
    "    \n",
    "    P = getBeamAtElement(tao, \"PR15944\")\n",
    "    #spotSize = smallestIntervalImpliedSigma(P.x)\n",
    "    spotSize = P[\"sigma_x\"]\n",
    "\n",
    "    dummyData.append(\n",
    "        {\n",
    "            \"quadSetting\" : quadSetting,\n",
    "            \"R11\" : transferMatrix[0][0],\n",
    "            \"R12\" : transferMatrix[0][1],\n",
    "            \"sigma\" : spotSize\n",
    "        }\n",
    "    )"
   ]
  },
  {
   "cell_type": "code",
   "execution_count": 35,
   "id": "5d8e20ee-8661-485a-b179-b5f540de2db9",
   "metadata": {},
   "outputs": [
    {
     "data": {
      "text/plain": [
       "[{'quadSetting': -50,\n",
       "  'R11': -2.30392581350462,\n",
       "  'R12': -6.37000849365709,\n",
       "  'sigma': 0.00013577751422482566},\n",
       " {'quadSetting': -45,\n",
       "  'R11': -2.10510311400088,\n",
       "  'R12': -6.3289616512631,\n",
       "  'sigma': 0.00012292059842864892},\n",
       " {'quadSetting': -40,\n",
       "  'R11': -1.9065146556884,\n",
       "  'R12': -6.28795698386624,\n",
       "  'sigma': 0.00011188169912201663},\n",
       " {'quadSetting': -35,\n",
       "  'R11': -1.70816031369718,\n",
       "  'R12': -6.24699447009071,\n",
       "  'sigma': 0.00010323299804955342},\n",
       " {'quadSetting': -30,\n",
       "  'R11': -1.51003996319952,\n",
       "  'R12': -6.20607408856769,\n",
       "  'sigma': 9.759859723046343e-05},\n",
       " {'quadSetting': -25,\n",
       "  'R11': -1.31215347941004,\n",
       "  'R12': -6.1651958179355,\n",
       "  'sigma': 9.549986351573562e-05},\n",
       " {'quadSetting': -20,\n",
       "  'R11': -1.11450073758563,\n",
       "  'R12': -6.12435963683943,\n",
       "  'sigma': 9.715285514540403e-05},\n",
       " {'quadSetting': -15,\n",
       "  'R11': -0.917081613025505,\n",
       "  'R12': -6.08356552393188,\n",
       "  'sigma': 0.0001023633917594132},\n",
       " {'quadSetting': -10,\n",
       "  'R11': -0.719895981071124,\n",
       "  'R12': -6.04281345787229,\n",
       "  'sigma': 0.00011061830010418036},\n",
       " {'quadSetting': -5,\n",
       "  'R11': -0.522943717106225,\n",
       "  'R12': -6.00210341732712,\n",
       "  'sigma': 0.0001212870003622732}]"
      ]
     },
     "execution_count": 35,
     "metadata": {},
     "output_type": "execute_result"
    }
   ],
   "source": [
    "dummyData"
   ]
  },
  {
   "cell_type": "code",
   "execution_count": 36,
   "id": "cd2a6a3b-b274-4504-be78-b94823edd12c",
   "metadata": {},
   "outputs": [
    {
     "name": "stdout",
     "output_type": "stream",
     "text": [
      "Optimization Results:\n",
      "Optimal Parameters: [6.49745582e+00 1.40431305e+00 1.55831183e-09]\n",
      "Objective Function Value at Optimal Parameters: 7.282008979858293e-27\n",
      "Number of Iterations: 202\n",
      "Converged: True\n"
     ]
    },
    {
     "data": {
      "text/plain": [
       "{'beta': 6.497455815236459,\n",
       " 'alpha': 1.4043130522989928,\n",
       " 'emitGeo': 1.5583118270451577e-09,\n",
       " 'emit': 1.3722902586503345e-05}"
      ]
     },
     "execution_count": 36,
     "metadata": {},
     "output_type": "execute_result"
    }
   ],
   "source": [
    "generalizedEmittanceSolver(dummyData, energyGeV = 4.5)"
   ]
  },
  {
   "cell_type": "code",
   "execution_count": 37,
   "id": "80bdf072-67b5-42dc-9757-7253e98174fe",
   "metadata": {},
   "outputs": [
    {
     "data": {
      "text/plain": [
       "{'alpha_x': 1.418505585256189,\n",
       " 'beta_x': 6.004667679401755,\n",
       " 'gamma_x': 0.501636103149526,\n",
       " 'emit_x': 1.4505498486790861e-09,\n",
       " 'eta_x': -0.0026543416886199924,\n",
       " 'etap_x': 0.0004787328886296131,\n",
       " 'norm_emit_x': 1.2581663049879037e-05}"
      ]
     },
     "execution_count": 37,
     "metadata": {},
     "output_type": "execute_result"
    }
   ],
   "source": [
    "PStart.twiss()"
   ]
  },
  {
   "cell_type": "code",
   "execution_count": null,
   "id": "f7c2b08c-a534-4d2c-82cb-9d8d0d369fc2",
   "metadata": {},
   "outputs": [],
   "source": []
  }
 ],
 "metadata": {
  "kernelspec": {
   "display_name": "Python 3 (ipykernel)",
   "language": "python",
   "name": "python3"
  },
  "language_info": {
   "codemirror_mode": {
    "name": "ipython",
    "version": 3
   },
   "file_extension": ".py",
   "mimetype": "text/x-python",
   "name": "python",
   "nbconvert_exporter": "python",
   "pygments_lexer": "ipython3",
   "version": "3.11.8"
  }
 },
 "nbformat": 4,
 "nbformat_minor": 5
}
