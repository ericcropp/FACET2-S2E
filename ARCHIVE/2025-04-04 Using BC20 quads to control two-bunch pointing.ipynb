{
 "cells": [
  {
   "cell_type": "code",
   "execution_count": 1,
   "id": "97c17893-1fcd-4077-9173-fb66dd920edd",
   "metadata": {},
   "outputs": [],
   "source": [
    "#Adapted from \"2025-03-28 Using sextupole movers to control two-bunch pointing.ipynb\"\n",
    "from UTILITY_quickstart import *"
   ]
  },
  {
   "cell_type": "code",
   "execution_count": 2,
   "id": "4550175c-c2c7-455a-8769-e4b72b3639c9",
   "metadata": {},
   "outputs": [],
   "source": [
    "importedDefaultSettings = loadConfig(\"setLattice_configs/2024-10-14_twoBunch_baseline.yml\")"
   ]
  },
  {
   "cell_type": "code",
   "execution_count": 3,
   "id": "cde62735-b43d-4e15-831f-e2e375d8d0d3",
   "metadata": {},
   "outputs": [
    {
     "name": "stdout",
     "output_type": "stream",
     "text": [
      "Environment set to:  /Users/nmajik/Documents/SLAC/FACET2-Bmad-PyTao\n",
      "Tracking to end\n",
      "CSR on\n",
      "Overwriting lattice with setLattice() defaults\n",
      "No defaults file provided to setLattice(). Using setLattice_configs/defaults.yml\n",
      "Number of macro particles = 100000.0\n",
      "Beam created, written to /tmp/beams/activeBeamFile_9929528010727385033.h5, and reinit to tao\n"
     ]
    }
   ],
   "source": [
    "csrTF = True\n",
    "evalElement = \"PENT\"\n",
    "#evalElement = \"BEGPDC\"\n",
    "\n",
    "\n",
    "inputBeamFilePathSuffix = importedDefaultSettings[\"inputBeamFilePathSuffix\"]\n",
    "bunchCount = importedDefaultSettings[\"bunchCount\"]\n",
    "tao = initializeTao(\n",
    "    inputBeamFilePathSuffix = inputBeamFilePathSuffix,\n",
    "    \n",
    "    csrTF = csrTF,\n",
    "    numMacroParticles=1e5,\n",
    "    scratchPath = \"/tmp\",\n",
    "    randomizeFileNames = True\n",
    ")\n",
    "\n",
    "setLattice(tao, **importedDefaultSettings)"
   ]
  },
  {
   "cell_type": "code",
   "execution_count": 4,
   "id": "3f4ba3ae-cbd6-407b-82e9-12f8dc44cb0a",
   "metadata": {},
   "outputs": [],
   "source": [
    "def getBeamVectors(P):\n",
    "    PDrive, PWitness = getDriverAndWitness(P) \n",
    "    return [ \n",
    "        np.median(PDrive.x),\n",
    "        np.median(PDrive.xp),\n",
    "        np.median(PDrive.y),\n",
    "        np.median(PDrive.yp),\n",
    "        np.median(PWitness.x),\n",
    "        np.median(PWitness.xp),\n",
    "        np.median(PWitness.y),\n",
    "        np.median(PWitness.yp)\n",
    "    ]\n",
    "    "
   ]
  },
  {
   "cell_type": "markdown",
   "id": "ca266573-6979-46d9-9f1e-e361ef325426",
   "metadata": {},
   "source": [
    "## Consider the original, unmodified config"
   ]
  },
  {
   "cell_type": "code",
   "execution_count": 5,
   "id": "70bc035e-1ce4-42a1-ac2e-0b20385a79a1",
   "metadata": {},
   "outputs": [
    {
     "name": "stdout",
     "output_type": "stream",
     "text": [
      "Loaded /tmp/beams/activeBeamFile_9929528010727385033.h5\n",
      "Set track_start = L0AFEND, track_end = end\n",
      "Tracking!\n",
      "trackBeam() exiting\n"
     ]
    },
    {
     "data": {
      "text/plain": [
       "[1.275743701524768e-05,\n",
       " -3.953026856488402e-05,\n",
       " 1.988418244099759e-05,\n",
       " -0.0001241212499885796,\n",
       " -1.1338030055798323e-05,\n",
       " 2.341817662812979e-05,\n",
       " 1.6027301398963385e-05,\n",
       " -0.0002718422940297606]"
      ]
     },
     "execution_count": 5,
     "metadata": {},
     "output_type": "execute_result"
    }
   ],
   "source": [
    "trackBeam(tao, \n",
    "          **importedDefaultSettings,\n",
    "          verbose = True\n",
    "         )\n",
    "\n",
    "P = getBeamAtElement(tao, \"PENT\")\n",
    "getBeamVectors(P)"
   ]
  },
  {
   "cell_type": "code",
   "execution_count": 6,
   "id": "13c08454-bb73-4c94-adc3-f479803a6274",
   "metadata": {},
   "outputs": [
    {
     "data": {
      "text/plain": [
       "[1.2735471207492383e-05,\n",
       " -3.948392133558717e-05,\n",
       " 1.9879877441638787e-05,\n",
       " -0.00012411506461010514,\n",
       " -1.1353897542040972e-05,\n",
       " 2.3382620308433594e-05,\n",
       " 1.6031533703265795e-05,\n",
       " -0.0002718581399402147]"
      ]
     },
     "execution_count": 6,
     "metadata": {},
     "output_type": "execute_result"
    }
   ],
   "source": [
    "PStart = getBeamAtElement( tao, \"BEGBC20\" ) \n",
    "\n",
    "makeBeamActiveBeamFile(PStart, tao = tao)\n",
    "\n",
    "trackBeam(tao, trackStart = \"BEGBC20\", **importedDefaultSettings)\n",
    "\n",
    "P = getBeamAtElement(tao, \"PENT\")\n",
    "getBeamVectors(P)"
   ]
  },
  {
   "cell_type": "markdown",
   "id": "a32ad0a1-450b-4efb-847c-897ae7adc7a0",
   "metadata": {},
   "source": [
    "## Baseline, sextupoles centered"
   ]
  },
  {
   "cell_type": "code",
   "execution_count": 7,
   "id": "e887961a-758d-4347-a4a8-20dcd0b7c7d3",
   "metadata": {},
   "outputs": [],
   "source": [
    "centerSextupolesDict = {\n",
    "    \"S1EL_xOffset\" : 0.0,\n",
    "    \"S1EL_yOffset\" : 0.0,\n",
    "    \"S2EL_xOffset\" : 0.0,\n",
    "    \"S2EL_yOffset\" : 0.0,\n",
    "    \"S2ER_xOffset\" : 0.0,\n",
    "    \"S2ER_yOffset\" : 0.0,\n",
    "    \"S1ER_xOffset\" : 0.0,\n",
    "    \"S1ER_yOffset\" : 0.0,   \n",
    "}\n",
    "\n",
    "setLattice(tao, **( importedDefaultSettings | centerSextupolesDict) )\n",
    "\n",
    "trackBeam(tao, trackStart = \"BEGBC20\", **importedDefaultSettings)\n",
    "\n",
    "P = getBeamAtElement(tao, \"PENT\")\n",
    "\n",
    "baselineVectors = getBeamVectors(P)\n",
    "baselineVectors\n",
    "\n",
    "resultsForExport = [ baselineVectors ] "
   ]
  },
  {
   "cell_type": "markdown",
   "id": "7d6ef898-9290-40c3-8ff2-42d4202838a3",
   "metadata": {},
   "source": [
    "## Perturb each quad"
   ]
  },
  {
   "cell_type": "code",
   "execution_count": 8,
   "id": "b57f0d4e-4638-4802-9bac-ddce014ef3b2",
   "metadata": {},
   "outputs": [
    {
     "data": {
      "text/plain": [
       "{'Q1EkG': 161.311,\n",
       " 'Q2EkG': -154.229,\n",
       " 'Q3EkG': 110.217,\n",
       " 'Q4EkG': 132.268,\n",
       " 'Q5EkG': -23.373,\n",
       " 'Q6EkG': -142.271}"
      ]
     },
     "execution_count": 8,
     "metadata": {},
     "output_type": "execute_result"
    }
   ],
   "source": [
    "configQuadSettings = {\n",
    "    key : importedDefaultSettings[key] for key in [\"Q1EkG\", \"Q2EkG\", \"Q3EkG\", \"Q4EkG\", \"Q5EkG\", \"Q6EkG\"]\n",
    "}\n",
    "\n",
    "configQuadSettings"
   ]
  },
  {
   "cell_type": "code",
   "execution_count": 9,
   "id": "dba6bb24-883f-4abe-8506-9833da9cd9c7",
   "metadata": {},
   "outputs": [
    {
     "name": "stdout",
     "output_type": "stream",
     "text": [
      "[-9.22119131001791e-05, -6.572692472962236e-05, -4.984242570072535e-05, -7.372288525183376e-05, -0.00031817055668453993, -0.00028084187200037, -6.96570082592413e-05, -8.12390919345578e-05]\n",
      "[-9.927435873815173e-05, -5.871223338439244e-05, -4.989492039014285e-05, -7.48178859368769e-05, -0.0003425245280101178, -0.0002462979735715825, -6.931422691107452e-05, -8.115703842218452e-05]\n",
      "[-0.00023285542901255383, -1.6927290290600252e-05, -4.887003365958842e-05, -7.4397734359747e-05, -0.000843580734213964, 0.00017401733292900524, -6.975594530647536e-05, -8.13528513995524e-05]\n",
      "[-0.00010919132122946167, -5.950258241564577e-05, -4.967355870172373e-05, -7.39228910948573e-05, -0.0003645245833149542, -0.00023816476554058372, -6.963895458935507e-05, -8.113775593640103e-05]\n",
      "[-9.077016112688722e-05, -5.93360626798936e-05, -4.9866246603213225e-05, -7.426042279312118e-05, -0.0003086265759801061, -0.00026405100524108064, -6.942194392489965e-05, -8.084756075012259e-05]\n",
      "[-8.789833847032751e-05, -5.642001298105316e-05, -4.9910400583480146e-05, -7.424624448973477e-05, -0.00029698550164118876, -0.0002610818318639754, -6.938928268655564e-05, -8.085875685322768e-05]\n"
     ]
    }
   ],
   "source": [
    "for key in configQuadSettings.keys():\n",
    "    #setLattice(tao, **( importedDefaultSettings | centerSextupolesDict | {key : 100e-6} ) )\n",
    "    setLattice(tao, **( importedDefaultSettings | centerSextupolesDict | {key : (configQuadSettings[key] + 1 )} ) )\n",
    "\n",
    "    trackBeam(tao, trackStart = \"BEGBC20\", **importedDefaultSettings)\n",
    "    \n",
    "    P = getBeamAtElement(tao, \"PENT\")\n",
    "\n",
    "    newVectors = getBeamVectors(P)\n",
    "\n",
    "    resultsForExport.append(newVectors)\n",
    "    print( newVectors )"
   ]
  },
  {
   "cell_type": "code",
   "execution_count": 10,
   "id": "125dd2b9-1a0b-453b-a647-2c38bf3c28a8",
   "metadata": {},
   "outputs": [],
   "source": [
    "resultsForExport = np.array(resultsForExport)\n",
    "np.savetxt(\"/Users/nmajik/vectors.csv\", resultsForExport, delimiter=',')"
   ]
  },
  {
   "cell_type": "code",
   "execution_count": null,
   "id": "4c3b243c-b1ba-45e7-9401-fa96484a0472",
   "metadata": {},
   "outputs": [],
   "source": []
  }
 ],
 "metadata": {
  "kernelspec": {
   "display_name": "Python 3 (ipykernel)",
   "language": "python",
   "name": "python3"
  },
  "language_info": {
   "codemirror_mode": {
    "name": "ipython",
    "version": 3
   },
   "file_extension": ".py",
   "mimetype": "text/x-python",
   "name": "python",
   "nbconvert_exporter": "python",
   "pygments_lexer": "ipython3",
   "version": "3.11.8"
  }
 },
 "nbformat": 4,
 "nbformat_minor": 5
}
