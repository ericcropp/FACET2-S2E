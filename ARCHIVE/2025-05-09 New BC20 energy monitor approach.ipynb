{
 "cells": [
  {
   "cell_type": "code",
   "execution_count": 1,
   "id": "a3d3959c-bb49-4985-baae-5b84fd200cdd",
   "metadata": {},
   "outputs": [
    {
     "name": "stdout",
     "output_type": "stream",
     "text": [
      "Environment set to:  /Users/nmajik/Documents/SLAC/FACET2-Bmad-PyTao\n",
      "Tracking to end\n",
      "CSR off\n",
      "Not using setLattice(). Golden lattice\n",
      "WARNING! No beam file is specified!\n",
      "Number of macro particles defined by input file\n",
      "Beam created, written to /Users/nmajik/Documents/SLAC/FACET2-Bmad-PyTao/beams/activeBeamFile.h5, and reinit to tao\n"
     ]
    }
   ],
   "source": [
    "from UTILITY_quickstart import *\n",
    "import json\n",
    "\n",
    "tao = initializeTao(\n",
    "    loadDefaultLatticeTF = False\n",
    ")"
   ]
  },
  {
   "cell_type": "markdown",
   "id": "a0ac089e-f67c-4641-a1f8-7bfade048b6e",
   "metadata": {},
   "source": [
    "## Learning WTF Bmad is doing"
   ]
  },
  {
   "cell_type": "markdown",
   "id": "55b8f026-0f2b-401d-8bc5-cf90edd7fb8a",
   "metadata": {},
   "source": [
    "Alright, some insane behavior, but Mike helped me understand what's going on.\n",
    "\n",
    "If the linac voltages are updated but FIELD_MASTER is False (i.e. the magnet fields automatically compensate for energy) it seems like the magnets do not move their floor coordinates\n",
    "\n",
    "If the linac voltages are updated, but the FIELD_MASTER is True (i.e. the magnet fields stay the same, so the orbit is now nonzero) the magnets move their floor coordinates\n",
    "\n",
    "Finally, if the VOLTAGE_ERROR is used instead of the linac voltage proper, FIELD_MASTER can be made True but the magnets will no move their floor coordinates: this is the physical perspective! Nothing changes automagically... the magnets don't unbolt from the floor"
   ]
  },
  {
   "cell_type": "code",
   "execution_count": 2,
   "id": "918a4a84-b6c4-4556-bec5-81382d0a3a0e",
   "metadata": {},
   "outputs": [
    {
     "name": "stdout",
     "output_type": "stream",
     "text": [
      "{'x': 9.22504471652865e-16, 'px': 1.68684594873286e-16, 'y': 5.96755145562835e-33, 'py': -3.20126011111771e-34, 'z': -4.90062631170198e-16, 'pz': 7.629413443614e-15, 'spin': array([0., 0., 0.]), 'field': array([0., 0.]), 'phase': array([0., 0.]), 's': 935.410272841908, 't': 3.12020981635724e-06, 'charge': 0.0, 'dt_ref': 0.0, 'p0c': 9999975211.2477, 'beta': 0.999999998694394, 'ix_ele': 1305, 'state': 'Alive', 'direction': 1, 'species': 'Electron', 'location': 'Downstream_End'}\n",
      "{'Reference': array([-1.20654014e-01,  0.00000000e+00,  1.93451254e+03, -2.25893500e-02,\n",
      "        0.00000000e+00,  0.00000000e+00]), 'Reference-W': array([ 0.99974487,  0.        ,  0.02258743,  0.        ,  1.        ,\n",
      "        0.        , -0.02258743,  0.        ,  0.99974487]), 'Actual': array([-1.20654014e-01,  0.00000000e+00,  1.93451254e+03, -2.25893500e-02,\n",
      "        0.00000000e+00,  0.00000000e+00]), 'Actual-W': array([ 0.99974487,  0.        ,  0.02258743,  0.        ,  1.        ,\n",
      "        0.        , -0.02258743,  0.        ,  0.99974487])}\n"
     ]
    }
   ],
   "source": [
    "#Set L3 to the expected value, then disable magnet updating\n",
    "setLinacGradientAuto(tao, \"L3\", 5.5e9)\n",
    "print(tao.ele_orbit(\"M1E\"))\n",
    "print(tao.ele_floor(\"M1E\"))\n",
    "disableAutoMagnetEnergyCompensation(tao)"
   ]
  },
  {
   "cell_type": "code",
   "execution_count": 3,
   "id": "668f6f1f-e8da-452f-97fc-f14db3b686db",
   "metadata": {},
   "outputs": [
    {
     "data": {
      "text/plain": [
       "['Element # 1296',\n",
       " 'Element Name: B1LE',\n",
       " 'Element Type:  \"0.906D40.945\"',\n",
       " 'Key: Sbend',\n",
       " 'Sub Key: SBend',\n",
       " 'S_start, S:    929.537145,    930.600167',\n",
       " 'Ref_time_start, Ref_time:  3.100619E-06,  3.104165E-06',\n",
       " '',\n",
       " 'Attribute values:',\n",
       " '    1  L                           =  1.0630226E+00 m',\n",
       " '    2  ROLL                        =  0.0000000E+00 rad      60  ROLL_TOT                    =  0.0000000E+00 rad',\n",
       " '    3  REF_TILT                    =  0.0000000E+00 rad      61  REF_TILT_TOT                =  0.0000000E+00 rad',\n",
       " '    4  K1                          =  0.0000000E+00 1/m^2    45  B1_GRADIENT                 = -0.0000000E+00 T/m',\n",
       " '    5  K2                          =  0.0000000E+00 1/m^3    46  B2_GRADIENT                 = -0.0000000E+00 T/m^2',\n",
       " '    6  G                           =  2.1250113E-02 1/m      43  B_FIELD                     = -7.0882570E-01 T',\n",
       " '    7  DG                          =  0.0000000E+00 1/m      44  DB_FIELD                    = -0.0000000E+00 T',\n",
       " '    8  G_TOT                       =  2.1250113E-02 1/m      28  B_FIELD_TOT                 = -7.0882570E-01 T',\n",
       " '    9  RHO                         =  4.7058574E+01 m',\n",
       " '   10  FRINGE_TYPE                 =  Full (4)               11  FRINGE_AT                   =  Both_Ends (3)',\n",
       " '   13  SPIN_FRINGE_ON              =  T (1)',\n",
       " '   14  EXACT_MULTIPOLES            =  Off (1)',\n",
       " '   16  R0_MAG                      =  0.0000000E+00 m        15  R0_ELEC                     =  0.0000000E+00 m',\n",
       " '   17  STATIC_LINEAR_MAP           =  F (0)',\n",
       " '   19  E1                          =  1.1294675E-02 rad      20  E2                          =  1.1294675E-02 rad',\n",
       " '   21  FINT                        =  5.0000000E-01          22  FINTX                       =  5.0000000E-01',\n",
       " '   23  HGAP                        =  1.1500000E-02 m        24  HGAPX                       =  1.1500000E-02 m',\n",
       " '   25  H1                          =  0.0000000E+00 1/m      26  H2                          =  0.0000000E+00 1/m',\n",
       " '   30  L_CHORD                     =  1.0630000E+00 m        29  L_SAGITTA                   =  3.0015918E-03 m',\n",
       " '   33  ANGLE                       =  2.2589350E-02 rad          ANGLE                       =  1.2942744E+00 deg',\n",
       " '   34  X_PITCH                     =  0.0000000E+00 rad      55  X_PITCH_TOT                 =  0.0000000E+00 rad',\n",
       " '   35  Y_PITCH                     =  0.0000000E+00 rad      56  Y_PITCH_TOT                 =  0.0000000E+00 rad',\n",
       " '   36  X_OFFSET                    =  0.0000000E+00 m        57  X_OFFSET_TOT                =  0.0000000E+00 m',\n",
       " '   37  Y_OFFSET                    =  0.0000000E+00 m        58  Y_OFFSET_TOT                =  0.0000000E+00 m',\n",
       " '   38  Z_OFFSET                    =  0.0000000E+00 m        59  Z_OFFSET_TOT                =  0.0000000E+00 m',\n",
       " '   39  HKICK                       =  0.0000000E+00          41  BL_HKICK                    = -0.0000000E+00 T*m',\n",
       " '   40  VKICK                       =  0.0000000E+00          42  BL_VKICK                    = -0.0000000E+00 T*m',\n",
       " '   47  PTC_CANONICAL_COORDS        =  T (1)',\n",
       " '   49  PTC_FIELD_GEOMETRY          =  Sector (1)             48  PTC_FRINGE_GEOMETRY         =  x_invariant (1)',\n",
       " '   53  P0C                         =  9.9999752E+09 eV           BETA                        =  1.0000000E+00',\n",
       " '   54  E_TOT                       =  9.9999752E+09 eV           GAMMA                       =  1.9569463E+04',\n",
       " '   64  REF_TIME_START              =  3.1006192E-06 sec      50  DELTA_REF_TIME              =  3.5458617E-09 sec',\n",
       " '   65  INTEGRATOR_ORDER            = 4',\n",
       " '   67  DS_STEP                     =  1.0630226E+00 m        66  NUM_STEPS                   = 1',\n",
       " '   68  CSR_DS_STEP                 =  0.0000000E+00 m',\n",
       " '   71  X1_LIMIT                    =  0.0000000E+00 m        72  X2_LIMIT                    =  0.0000000E+00 m',\n",
       " '   73  Y1_LIMIT                    =  0.0000000E+00 m        74  Y2_LIMIT                    =  0.0000000E+00 m',\n",
       " '',\n",
       " '       TRACKING_METHOD              =  Bmad_Standard             APERTURE_AT                =  Exit_End',\n",
       " '       MAT6_CALC_METHOD             =  Auto                      APERTURE_TYPE              =  Rectangular',\n",
       " '       SPIN_TRACKING_METHOD         =  Tracking                  OFFSET_MOVES_APERTURE      =  F',\n",
       " '       PTC_INTEGRATION_TYPE         =  Matrix_Kick               SYMPLECTIFY                =  F',\n",
       " '       CSR_METHOD                   =  1_Dim                     FIELD_MASTER               =  T',\n",
       " '       SPACE_CHARGE_METHOD          =  Off                       LONGITUDINAL ORIENTATION   =       1',\n",
       " '       FIELD_CALC                   =  Bmad_Standard             REF_SPECIES                =  Electron',\n",
       " 'No associated Wall.',\n",
       " '',\n",
       " 'Slave_status: Free',\n",
       " '',\n",
       " 'Lord_status:  Not_a_Lord',\n",
       " '',\n",
       " 'Twiss at end of element:',\n",
       " '                          A              B            Cbar                        C_mat',\n",
       " '  Beta (m)        10.15153784    24.76737521  |  -0.00000000  -0.00000000     -0.00000000  -0.00000000',\n",
       " '  Alpha            0.56597125     1.13933677  |  -0.00000000  -0.00000000     -0.00000000  -0.00000000',\n",
       " '  Gamma (1/m)      0.13006142     0.09278691  |   Gamma_c =   1.00000000       Mode_Flip = F',\n",
       " '  Phi (rad)       55.25591626    53.40415744            X              Y              Z',\n",
       " '  Eta (m)          0.01199048     0.00000000     0.01199048     0.00000000     0.02963221',\n",
       " '  Etap             0.02259043    -0.00000000     0.02259043    -0.00000000    -0.00000000',\n",
       " '  dEta/ds          0.02259043    -0.00000000     0.02259043    -0.00000000    -0.00000000',\n",
       " '',\n",
       " 'Transfer Matrix : Kick  [Mat symplectic error:   4.441E-16]                      Vec0',\n",
       " '   1.0000000   1.0629322   0.0000000  -0.0000000   0.0000000   0.0120060   :  -1.87475E-18',\n",
       " '   0.0000000   1.0000000  -0.0000000  -0.0000000   0.0000000   0.0225903   :   2.07136E-19',\n",
       " '   0.0000000  -0.0000000   0.9997504   1.0630226   0.0000000   0.0000000   :   0.00000E+00',\n",
       " '  -0.0000000  -0.0000000  -0.0004696   0.9997504   0.0000000   0.0000000   :  -4.27642E-50',\n",
       " '  -0.0225903  -0.0120060  -0.0000000  -0.0000000   1.0000000  -0.0000904   :  -1.03241E-16',\n",
       " '   0.0000000   0.0000000   0.0000000   0.0000000   0.0000000   1.0000000   :   3.15544E-30',\n",
       " '',\n",
       " 'Global Floor Coords at End of Element:',\n",
       " '                   X           Y           Z       Theta         Phi         Psi',\n",
       " 'Reference    -0.01201     0.00000  1929.70366    -0.02259     0.00000     0.00000   ! Position without misalignments',\n",
       " 'Actual       -0.01201     0.00000  1929.70366    -0.02259     0.00000     0.00000   ! Position with offset/pitch/tilt misalignments',\n",
       " 'delta Ref    -0.01201     0.00000     1.06293    -0.02259     0.00000     0.00000   ! Delta with respect to last element',\n",
       " '',\n",
       " 'Tracking: Electron,   State: Alive',\n",
       " '         Position[mm] Momentum[mrad]        Spin   |',\n",
       " '  X:       0.00000000     0.00000000               | t_particle [sec]:        3.10416503E-06  E_tot: 9.99998E+09',\n",
       " '  Y:       0.00000000    -0.00000000               | t_part-t_ref [sec]:     -8.47032947E-22  PC:    9.99998E+09',\n",
       " '  Z:      -0.00000000     0.00000000               | (t_ref-t_part)*Vel [m]:  2.53934089E-13  Beta:  0.999999999']"
      ]
     },
     "execution_count": 3,
     "metadata": {},
     "output_type": "execute_result"
    }
   ],
   "source": [
    "tao.cmd('show ele B1LE -all')"
   ]
  },
  {
   "cell_type": "code",
   "execution_count": 4,
   "id": "49570e8d-9bc3-4cbe-8df2-95468edb73d2",
   "metadata": {},
   "outputs": [
    {
     "name": "stdout",
     "output_type": "stream",
     "text": [
      "{'x': 0.00119473211196431, 'px': 0.000225903381134602, 'y': 6.19212261193738e-33, 'py': -3.0286329505674e-34, 'z': -1.02382188862939e-06, 'pz': 0.0100000248017481, 'spin': array([0., 0., 0.]), 'field': array([0., 0.]), 'phase': array([0., 0.]), 's': 935.410272841908, 't': 3.12020981977234e-06, 'charge': 0.0, 'dt_ref': 0.0, 'p0c': 9999975211.2477, 'beta': 0.999999998720119, 'ix_ele': 1305, 'state': 'Alive', 'direction': 1, 'species': 'Electron', 'location': 'Downstream_End'}\n",
      "{'Reference': array([-1.20654014e-01,  0.00000000e+00,  1.93451254e+03, -2.25893500e-02,\n",
      "        0.00000000e+00,  0.00000000e+00]), 'Reference-W': array([ 0.99974487,  0.        ,  0.02258743,  0.        ,  1.        ,\n",
      "        0.        , -0.02258743,  0.        ,  0.99974487]), 'Actual': array([-1.20654014e-01,  0.00000000e+00,  1.93451254e+03, -2.25893500e-02,\n",
      "        0.00000000e+00,  0.00000000e+00]), 'Actual-W': array([ 0.99974487,  0.        ,  0.02258743,  0.        ,  1.        ,\n",
      "        0.        , -0.02258743,  0.        ,  0.99974487])}\n"
     ]
    }
   ],
   "source": [
    "tao.cmd('set ele K19_8A3 VOLTAGE_ERR = 100e6') #Last LCAV in L3\n",
    "print(tao.ele_orbit(\"M1E\"))\n",
    "print(tao.ele_floor(\"M1E\"))"
   ]
  },
  {
   "cell_type": "code",
   "execution_count": 5,
   "id": "af632982-180e-47d8-b3ac-62f6ca8524c0",
   "metadata": {},
   "outputs": [
    {
     "data": {
      "text/plain": [
       "['Element # 1296',\n",
       " 'Element Name: B1LE',\n",
       " 'Element Type:  \"0.906D40.945\"',\n",
       " 'Key: Sbend',\n",
       " 'Sub Key: SBend',\n",
       " 'S_start, S:    929.537145,    930.600167',\n",
       " 'Ref_time_start, Ref_time:  3.100619E-06,  3.104165E-06',\n",
       " '',\n",
       " 'Attribute values:',\n",
       " '    1  L                           =  1.0630226E+00 m',\n",
       " '    2  ROLL                        =  0.0000000E+00 rad      60  ROLL_TOT                    =  0.0000000E+00 rad',\n",
       " '    3  REF_TILT                    =  0.0000000E+00 rad      61  REF_TILT_TOT                =  0.0000000E+00 rad',\n",
       " '    4  K1                          =  0.0000000E+00 1/m^2    45  B1_GRADIENT                 = -0.0000000E+00 T/m',\n",
       " '    5  K2                          =  0.0000000E+00 1/m^3    46  B2_GRADIENT                 = -0.0000000E+00 T/m^2',\n",
       " '    6  G                           =  2.1250113E-02 1/m      43  B_FIELD                     = -7.0882570E-01 T',\n",
       " '    7  DG                          =  0.0000000E+00 1/m      44  DB_FIELD                    = -0.0000000E+00 T',\n",
       " '    8  G_TOT                       =  2.1250113E-02 1/m      28  B_FIELD_TOT                 = -7.0882570E-01 T',\n",
       " '    9  RHO                         =  4.7058574E+01 m',\n",
       " '   10  FRINGE_TYPE                 =  Full (4)               11  FRINGE_AT                   =  Both_Ends (3)',\n",
       " '   13  SPIN_FRINGE_ON              =  T (1)',\n",
       " '   14  EXACT_MULTIPOLES            =  Off (1)',\n",
       " '   16  R0_MAG                      =  0.0000000E+00 m        15  R0_ELEC                     =  0.0000000E+00 m',\n",
       " '   17  STATIC_LINEAR_MAP           =  F (0)',\n",
       " '   19  E1                          =  1.1294675E-02 rad      20  E2                          =  1.1294675E-02 rad',\n",
       " '   21  FINT                        =  5.0000000E-01          22  FINTX                       =  5.0000000E-01',\n",
       " '   23  HGAP                        =  1.1500000E-02 m        24  HGAPX                       =  1.1500000E-02 m',\n",
       " '   25  H1                          =  0.0000000E+00 1/m      26  H2                          =  0.0000000E+00 1/m',\n",
       " '   30  L_CHORD                     =  1.0630000E+00 m        29  L_SAGITTA                   =  3.0015918E-03 m',\n",
       " '   33  ANGLE                       =  2.2589350E-02 rad          ANGLE                       =  1.2942744E+00 deg',\n",
       " '   34  X_PITCH                     =  0.0000000E+00 rad      55  X_PITCH_TOT                 =  0.0000000E+00 rad',\n",
       " '   35  Y_PITCH                     =  0.0000000E+00 rad      56  Y_PITCH_TOT                 =  0.0000000E+00 rad',\n",
       " '   36  X_OFFSET                    =  0.0000000E+00 m        57  X_OFFSET_TOT                =  0.0000000E+00 m',\n",
       " '   37  Y_OFFSET                    =  0.0000000E+00 m        58  Y_OFFSET_TOT                =  0.0000000E+00 m',\n",
       " '   38  Z_OFFSET                    =  0.0000000E+00 m        59  Z_OFFSET_TOT                =  0.0000000E+00 m',\n",
       " '   39  HKICK                       =  0.0000000E+00          41  BL_HKICK                    = -0.0000000E+00 T*m',\n",
       " '   40  VKICK                       =  0.0000000E+00          42  BL_VKICK                    = -0.0000000E+00 T*m',\n",
       " '   47  PTC_CANONICAL_COORDS        =  T (1)',\n",
       " '   49  PTC_FIELD_GEOMETRY          =  Sector (1)             48  PTC_FRINGE_GEOMETRY         =  x_invariant (1)',\n",
       " '   53  P0C                         =  9.9999752E+09 eV           BETA                        =  1.0000000E+00',\n",
       " '   54  E_TOT                       =  9.9999752E+09 eV           GAMMA                       =  1.9569463E+04',\n",
       " '   64  REF_TIME_START              =  3.1006192E-06 sec      50  DELTA_REF_TIME              =  3.5458617E-09 sec',\n",
       " '   65  INTEGRATOR_ORDER            = 4',\n",
       " '   67  DS_STEP                     =  1.0630226E+00 m        66  NUM_STEPS                   = 1',\n",
       " '   68  CSR_DS_STEP                 =  0.0000000E+00 m',\n",
       " '   71  X1_LIMIT                    =  0.0000000E+00 m        72  X2_LIMIT                    =  0.0000000E+00 m',\n",
       " '   73  Y1_LIMIT                    =  0.0000000E+00 m        74  Y2_LIMIT                    =  0.0000000E+00 m',\n",
       " '',\n",
       " '       TRACKING_METHOD              =  Bmad_Standard             APERTURE_AT                =  Exit_End',\n",
       " '       MAT6_CALC_METHOD             =  Auto                      APERTURE_TYPE              =  Rectangular',\n",
       " '       SPIN_TRACKING_METHOD         =  Tracking                  OFFSET_MOVES_APERTURE      =  F',\n",
       " '       PTC_INTEGRATION_TYPE         =  Matrix_Kick               SYMPLECTIFY                =  F',\n",
       " '       CSR_METHOD                   =  1_Dim                     FIELD_MASTER               =  T',\n",
       " '       SPACE_CHARGE_METHOD          =  Off                       LONGITUDINAL ORIENTATION   =       1',\n",
       " '       FIELD_CALC                   =  Bmad_Standard             REF_SPECIES                =  Electron',\n",
       " 'No associated Wall.',\n",
       " '',\n",
       " 'Slave_status: Free',\n",
       " '',\n",
       " 'Lord_status:  Not_a_Lord',\n",
       " '',\n",
       " 'Twiss at end of element:',\n",
       " '                          A              B            Cbar                        C_mat',\n",
       " '  Beta (m)         9.99489223    25.63710074  |  -0.00000000  -0.00000000     -0.00000000  -0.00000000',\n",
       " '  Alpha            0.55784915     1.10572356  |  -0.00000000  -0.00000000     -0.00000000  -0.00000000',\n",
       " '  Gamma (1/m)      0.13118657     0.08669563  |   Gamma_c =   1.00000000       Mode_Flip = F',\n",
       " '  Phi (rad)       55.25930228    53.39872649            X              Y              Z',\n",
       " '  Eta (m)          0.01175404     0.00000000     0.01175404     0.00000000     0.02963224',\n",
       " '  Etap             0.02259037    -0.00000000     0.02259037    -0.00000000    -0.00000000',\n",
       " '  dEta/ds          0.02236446    -0.00000000     0.02236446    -0.00000000    -0.00000000',\n",
       " '',\n",
       " 'Transfer Matrix : Kick  [Mat symplectic error:   4.406E-15]                      Vec0',\n",
       " '   1.0000025   1.0524108   0.0000000  -0.0000000   0.0000000   0.0117694   :   1.17680E-06',\n",
       " '  -0.0000000   0.9999975  -0.0000000   0.0000000   0.0000000   0.0225903   :   2.82530E-10',\n",
       " '  -0.0000000  -0.0000000   0.9997529   1.0524985   0.0000000   0.0000000   :  -3.13794E-36',\n",
       " '   0.0000000  -0.0000000  -0.0004647   0.9997579   0.0000000   0.0000000   :  -3.60187E-38',\n",
       " '  -0.0225903  -0.0120048  -0.0000000   0.0000000   1.0000000  -0.0000904   :  -1.75046E-10',\n",
       " '   0.0000000   0.0000000   0.0000000   0.0000000   0.0000000   1.0000000   :   3.46945E-18',\n",
       " '',\n",
       " 'Global Floor Coords at End of Element:',\n",
       " '                   X           Y           Z       Theta         Phi         Psi',\n",
       " 'Reference    -0.01201     0.00000  1929.70366    -0.02259     0.00000     0.00000   ! Position without misalignments',\n",
       " 'Actual       -0.01201     0.00000  1929.70366    -0.02259     0.00000     0.00000   ! Position with offset/pitch/tilt misalignments',\n",
       " 'delta Ref    -0.01201     0.00000     1.06293    -0.02259     0.00000     0.00000   ! Delta with respect to last element',\n",
       " '',\n",
       " 'Tracking: Electron,   State: Alive',\n",
       " '         Position[mm] Momentum[mrad]        Spin   |',\n",
       " '  X:       0.11887157     0.22590338               | t_particle [sec]:        3.10416503E-06  E_tot: 1.01000E+10',\n",
       " '  Y:       0.00000000    -0.00000000               | t_part-t_ref [sec]:      3.01418072E-15  PC:    1.01000E+10',\n",
       " '  Z:      -0.00090363    10.00002480               | (t_ref-t_part)*Vel [m]: -9.03628645E-07  Beta:  0.999999999']"
      ]
     },
     "execution_count": 5,
     "metadata": {},
     "output_type": "execute_result"
    }
   ],
   "source": [
    "tao.cmd('show ele B1LE -all')"
   ]
  },
  {
   "cell_type": "markdown",
   "id": "bf6faf2b-e5f7-4743-8eb3-51ac28a04435",
   "metadata": {},
   "source": [
    "## Automating"
   ]
  },
  {
   "cell_type": "code",
   "execution_count": 6,
   "id": "14db3b54-a1c6-4e08-bb18-e57f6a6ea8fd",
   "metadata": {},
   "outputs": [
    {
     "name": "stdout",
     "output_type": "stream",
     "text": [
      "Environment set to:  /Users/nmajik/Documents/SLAC/FACET2-Bmad-PyTao\n",
      "Tracking to end\n",
      "CSR off\n",
      "Not using setLattice(). Golden lattice\n",
      "WARNING! No beam file is specified!\n",
      "Number of macro particles defined by input file\n",
      "Beam created, written to /Users/nmajik/Documents/SLAC/FACET2-Bmad-PyTao/beams/activeBeamFile.h5, and reinit to tao\n"
     ]
    }
   ],
   "source": [
    "tao = initializeTao(\n",
    "    loadDefaultLatticeTF = False\n",
    ")"
   ]
  },
  {
   "cell_type": "code",
   "execution_count": 7,
   "id": "9232efd4-b7ae-42f6-ae6b-0874a20015d0",
   "metadata": {},
   "outputs": [
    {
     "name": "stdout",
     "output_type": "stream",
     "text": [
      "-64.0952053793749 44.93605802146798\n"
     ]
    }
   ],
   "source": [
    "Q19851Nominal = getQuadkG(tao, \"Q19851\")\n",
    "Q19871Nominal = getQuadkG(tao, \"Q19871\")\n",
    "print(Q19851Nominal, Q19871Nominal)"
   ]
  },
  {
   "cell_type": "code",
   "execution_count": 8,
   "id": "7a4eb6b3-5c82-481a-a730-18140f510abd",
   "metadata": {},
   "outputs": [],
   "source": [
    "results = []\n",
    "\n",
    "for iter in range(1000):\n",
    "    try: \n",
    "        voltageError = np.random.normal() * 100e6\n",
    "        Q19851Setting = Q19851Nominal #+ 20 * np.random.normal()\n",
    "        Q19871Setting = Q19871Nominal #+ 20 * np.random.normal()\n",
    "    \n",
    "        #Energy error\n",
    "        tao.cmd(f'set ele K19_8A3 VOLTAGE_ERR = {voltageError}') #Last LCAV in L3\n",
    "    \n",
    "        #Pointing error\n",
    "        setKickerkG(tao, \"XC19602\", 0.01 * np.random.normal() ) \n",
    "        setKickerkG(tao, \"XC19700\", 0.01 * np.random.normal() )\n",
    "        #setKickerkG(tao, \"XC2460\",  0.01 * np.random.normal() ) \n",
    "\n",
    "        #Quads\n",
    "        setQuadkG(tao, \"Q19851\", Q19851Setting )  \n",
    "        setQuadkG(tao, \"Q19871\", Q19871Setting ) \n",
    "    \n",
    "        results.append({\n",
    "            \"energyGeV\" : 1e-9 * (10e9 + voltageError),\n",
    "            \n",
    "            \"Q19851\" : Q19851Setting,\n",
    "            \"Q19871\" : Q19871Setting,\n",
    "            \n",
    "            \"x801\"   : tao.ele_orbit(\"BPM19801\")[\"x\"],\n",
    "            \"x901\"   : tao.ele_orbit(\"BPM19871\")[\"x\"],\n",
    "            \"xM1E\"   : tao.ele_orbit(\"M1E\")[\"x\"],\n",
    "            \n",
    "            \"xM11E\"   : tao.ele_orbit(\"M11E\")[\"x\"],\n",
    "            \"xM1FF\"   : tao.ele_orbit(\"M1FF\")[\"x\"],\n",
    "            \"xM2FF\"   : tao.ele_orbit(\"M2FF\")[\"x\"],\n",
    "        })\n",
    "\n",
    "    except:\n",
    "        pass\n",
    "\n",
    "with open(\"/Users/nmajik/results.json\", \"w\") as f:\n",
    "    json.dump(results, f, indent=2) "
   ]
  },
  {
   "cell_type": "code",
   "execution_count": 9,
   "id": "6ae7c8c8-969b-4a84-81c8-319dc904c522",
   "metadata": {
    "scrolled": true
   },
   "outputs": [
    {
     "data": {
      "text/plain": [
       "{'mode_flip': False,\n",
       " 'beta_a': 7.7281345523704,\n",
       " 'alpha_a': -0.0579871948632006,\n",
       " 'gamma_a': 0.129832433424745,\n",
       " 'phi_a': 55.8294588284253,\n",
       " 'eta_a': 0.119470925371826,\n",
       " 'etap_a': 0.022441013611535,\n",
       " 'beta_b': 15.7033854249306,\n",
       " 'alpha_b': 0.692519875176397,\n",
       " 'gamma_b': 0.0942206879266526,\n",
       " 'phi_b': 53.6532734416465,\n",
       " 'eta_b': 2.01573957118545e-18,\n",
       " 'etap_b': -1.66548315635747e-19,\n",
       " 'eta_x': 0.119470925371826,\n",
       " 'etap_x': 0.022441013611535,\n",
       " 'eta_y': 2.12558066565315e-18,\n",
       " 'etap_y': -8.49290413633003e-20}"
      ]
     },
     "execution_count": 9,
     "metadata": {},
     "output_type": "execute_result"
    }
   ],
   "source": [
    "tao.ele_twiss(\"M1E\")"
   ]
  },
  {
   "cell_type": "code",
   "execution_count": 10,
   "id": "0d1af16b-956d-4d65-aacc-16a39578c886",
   "metadata": {},
   "outputs": [
    {
     "data": {
      "text/plain": [
       "{'mode_flip': False,\n",
       " 'beta_a': 6.08684428619655,\n",
       " 'alpha_a': 0.462887579496965,\n",
       " 'gamma_a': 0.199490056613771,\n",
       " 'phi_a': 70.3583620966129,\n",
       " 'eta_a': 0.0886843753672588,\n",
       " 'etap_a': -0.0155439863693114,\n",
       " 'beta_b': 6.68088593369827,\n",
       " 'alpha_b': 0.283443868607741,\n",
       " 'gamma_b': 0.161706162531844,\n",
       " 'phi_b': 55.3136668193911,\n",
       " 'eta_b': -2.25246484779865e-14,\n",
       " 'etap_b': -9.54433317374206e-15,\n",
       " 'eta_x': 0.0886843753672588,\n",
       " 'etap_x': -0.0155439863693114,\n",
       " 'eta_y': -6.60493795313028e-12,\n",
       " 'etap_y': -2.70491901882165e-12}"
      ]
     },
     "execution_count": 10,
     "metadata": {},
     "output_type": "execute_result"
    }
   ],
   "source": [
    "tao.ele_twiss(\"M11E\")"
   ]
  },
  {
   "cell_type": "code",
   "execution_count": null,
   "id": "c7eafd3e-b9a4-4f58-a487-c7d2aee1de10",
   "metadata": {},
   "outputs": [],
   "source": []
  }
 ],
 "metadata": {
  "kernelspec": {
   "display_name": "Python 3 (ipykernel)",
   "language": "python",
   "name": "python3"
  },
  "language_info": {
   "codemirror_mode": {
    "name": "ipython",
    "version": 3
   },
   "file_extension": ".py",
   "mimetype": "text/x-python",
   "name": "python",
   "nbconvert_exporter": "python",
   "pygments_lexer": "ipython3",
   "version": "3.11.11"
  }
 },
 "nbformat": 4,
 "nbformat_minor": 5
}
