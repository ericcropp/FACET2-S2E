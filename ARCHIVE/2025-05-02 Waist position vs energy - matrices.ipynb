{
 "cells": [
  {
   "cell_type": "code",
   "execution_count": 1,
   "id": "eb01440e-b227-4068-9146-2c00b2df6bdf",
   "metadata": {},
   "outputs": [],
   "source": [
    "from UTILITY_quickstart import *\n",
    "import json"
   ]
  },
  {
   "cell_type": "code",
   "execution_count": 2,
   "id": "9b1a86ec-333c-4d0f-89cc-e7a803f904a5",
   "metadata": {},
   "outputs": [
    {
     "name": "stdout",
     "output_type": "stream",
     "text": [
      "Environment set to:  /Users/nmajik/Documents/SLAC/FACET2-Bmad-PyTao\n",
      "Tracking to end\n",
      "CSR off\n",
      "Not using setLattice(). Golden lattice\n",
      "WARNING! No beam file is specified!\n",
      "Number of macro particles defined by input file\n",
      "Beam created, written to /Users/nmajik/Documents/SLAC/FACET2-Bmad-PyTao/beams/activeBeamFile.h5, and reinit to tao\n"
     ]
    }
   ],
   "source": [
    "tao = initializeTao(\n",
    "    loadDefaultLatticeTF = False\n",
    ")"
   ]
  },
  {
   "cell_type": "code",
   "execution_count": 3,
   "id": "dd328609-046f-4eb4-99dc-c1f35dd3cf16",
   "metadata": {},
   "outputs": [
    {
     "data": {
      "text/plain": [
       "-71.83776109541046"
      ]
     },
     "execution_count": 3,
     "metadata": {},
     "output_type": "execute_result"
    }
   ],
   "source": [
    "getQuadkG(tao,\"Q5FF\")"
   ]
  },
  {
   "cell_type": "code",
   "execution_count": 4,
   "id": "a9f75cb4-23d4-4b70-bfba-238720cef436",
   "metadata": {},
   "outputs": [],
   "source": [
    "disableAutoMagnetEnergyCompensation(tao)"
   ]
  },
  {
   "cell_type": "code",
   "execution_count": 5,
   "id": "cccfebfc-f5ed-46b8-8483-ef1e4d761a0c",
   "metadata": {},
   "outputs": [
    {
     "data": {
      "text/plain": [
       "-71.83776109541046"
      ]
     },
     "execution_count": 5,
     "metadata": {},
     "output_type": "execute_result"
    }
   ],
   "source": [
    "getQuadkG(tao,\"Q5FF\")"
   ]
  },
  {
   "cell_type": "code",
   "execution_count": 7,
   "id": "cd1e6d42-1b11-43cc-bd70-51db742be2e6",
   "metadata": {},
   "outputs": [
    {
     "data": {
      "text/html": [
       "<style type=\"text/css\">\n",
       "</style>\n",
       "<table id=\"T_c7e63\">\n",
       "  <thead>\n",
       "  </thead>\n",
       "  <tbody>\n",
       "    <tr>\n",
       "      <td id=\"T_c7e63_row0_col0\" class=\"data row0 col0\" >-0.175418</td>\n",
       "      <td id=\"T_c7e63_row0_col1\" class=\"data row0 col1\" >2.346087</td>\n",
       "      <td id=\"T_c7e63_row0_col2\" class=\"data row0 col2\" >-0.000000</td>\n",
       "      <td id=\"T_c7e63_row0_col3\" class=\"data row0 col3\" >0.000000</td>\n",
       "      <td id=\"T_c7e63_row0_col4\" class=\"data row0 col4\" >0.000000</td>\n",
       "      <td id=\"T_c7e63_row0_col5\" class=\"data row0 col5\" >0.000000</td>\n",
       "    </tr>\n",
       "    <tr>\n",
       "      <td id=\"T_c7e63_row1_col0\" class=\"data row1 col0\" >-0.348031</td>\n",
       "      <td id=\"T_c7e63_row1_col1\" class=\"data row1 col1\" >-1.046005</td>\n",
       "      <td id=\"T_c7e63_row1_col2\" class=\"data row1 col2\" >-0.000000</td>\n",
       "      <td id=\"T_c7e63_row1_col3\" class=\"data row1 col3\" >0.000000</td>\n",
       "      <td id=\"T_c7e63_row1_col4\" class=\"data row1 col4\" >0.000000</td>\n",
       "      <td id=\"T_c7e63_row1_col5\" class=\"data row1 col5\" >0.000000</td>\n",
       "    </tr>\n",
       "    <tr>\n",
       "      <td id=\"T_c7e63_row2_col0\" class=\"data row2 col0\" >0.000000</td>\n",
       "      <td id=\"T_c7e63_row2_col1\" class=\"data row2 col1\" >0.000000</td>\n",
       "      <td id=\"T_c7e63_row2_col2\" class=\"data row2 col2\" >0.112885</td>\n",
       "      <td id=\"T_c7e63_row2_col3\" class=\"data row2 col3\" >-3.011702</td>\n",
       "      <td id=\"T_c7e63_row2_col4\" class=\"data row2 col4\" >0.000000</td>\n",
       "      <td id=\"T_c7e63_row2_col5\" class=\"data row2 col5\" >-0.000000</td>\n",
       "    </tr>\n",
       "    <tr>\n",
       "      <td id=\"T_c7e63_row3_col0\" class=\"data row3 col0\" >0.000000</td>\n",
       "      <td id=\"T_c7e63_row3_col1\" class=\"data row3 col1\" >0.000000</td>\n",
       "      <td id=\"T_c7e63_row3_col2\" class=\"data row3 col2\" >0.472879</td>\n",
       "      <td id=\"T_c7e63_row3_col3\" class=\"data row3 col3\" >-3.757564</td>\n",
       "      <td id=\"T_c7e63_row3_col4\" class=\"data row3 col4\" >0.000000</td>\n",
       "      <td id=\"T_c7e63_row3_col5\" class=\"data row3 col5\" >-0.000000</td>\n",
       "    </tr>\n",
       "    <tr>\n",
       "      <td id=\"T_c7e63_row4_col0\" class=\"data row4 col0\" >-0.000000</td>\n",
       "      <td id=\"T_c7e63_row4_col1\" class=\"data row4 col1\" >-0.000000</td>\n",
       "      <td id=\"T_c7e63_row4_col2\" class=\"data row4 col2\" >-0.000000</td>\n",
       "      <td id=\"T_c7e63_row4_col3\" class=\"data row4 col3\" >0.000000</td>\n",
       "      <td id=\"T_c7e63_row4_col4\" class=\"data row4 col4\" >1.000000</td>\n",
       "      <td id=\"T_c7e63_row4_col5\" class=\"data row4 col5\" >0.000000</td>\n",
       "    </tr>\n",
       "    <tr>\n",
       "      <td id=\"T_c7e63_row5_col0\" class=\"data row5 col0\" >0.000000</td>\n",
       "      <td id=\"T_c7e63_row5_col1\" class=\"data row5 col1\" >0.000000</td>\n",
       "      <td id=\"T_c7e63_row5_col2\" class=\"data row5 col2\" >0.000000</td>\n",
       "      <td id=\"T_c7e63_row5_col3\" class=\"data row5 col3\" >0.000000</td>\n",
       "      <td id=\"T_c7e63_row5_col4\" class=\"data row5 col4\" >0.000000</td>\n",
       "      <td id=\"T_c7e63_row5_col5\" class=\"data row5 col5\" >1.000000</td>\n",
       "    </tr>\n",
       "  </tbody>\n",
       "</table>\n"
      ],
      "text/plain": [
       "<pandas.io.formats.style.Styler at 0x11267c2d0>"
      ]
     },
     "metadata": {},
     "output_type": "display_data"
    }
   ],
   "source": [
    "getMatrix(tao, \"MFFF\", \"PENT\", print = True);"
   ]
  },
  {
   "cell_type": "code",
   "execution_count": 8,
   "id": "1a2ec991-6928-4443-91bc-93f5677eafa8",
   "metadata": {},
   "outputs": [
    {
     "data": {
      "text/plain": [
       "[]"
      ]
     },
     "execution_count": 8,
     "metadata": {},
     "output_type": "execute_result"
    }
   ],
   "source": [
    "tao.cmd(f\"set ele patch_sector20 e_tot_set = 9e9\")"
   ]
  },
  {
   "cell_type": "code",
   "execution_count": 9,
   "id": "c804ff07-c061-4fc2-b2e5-d32b527d745d",
   "metadata": {},
   "outputs": [
    {
     "data": {
      "text/plain": [
       "-71.83776109541046"
      ]
     },
     "execution_count": 9,
     "metadata": {},
     "output_type": "execute_result"
    }
   ],
   "source": [
    "getQuadkG(tao,\"Q5FF\")"
   ]
  },
  {
   "cell_type": "code",
   "execution_count": 10,
   "id": "01daf4e6-a718-4b0a-a713-2352c5b9b02b",
   "metadata": {},
   "outputs": [
    {
     "data": {
      "text/html": [
       "<style type=\"text/css\">\n",
       "</style>\n",
       "<table id=\"T_2a9e3\">\n",
       "  <thead>\n",
       "  </thead>\n",
       "  <tbody>\n",
       "    <tr>\n",
       "      <td id=\"T_2a9e3_row0_col0\" class=\"data row0 col0\" >-0.175418</td>\n",
       "      <td id=\"T_2a9e3_row0_col1\" class=\"data row0 col1\" >2.111478</td>\n",
       "      <td id=\"T_2a9e3_row0_col2\" class=\"data row0 col2\" >-0.000000</td>\n",
       "      <td id=\"T_2a9e3_row0_col3\" class=\"data row0 col3\" >0.000000</td>\n",
       "      <td id=\"T_2a9e3_row0_col4\" class=\"data row0 col4\" >0.000000</td>\n",
       "      <td id=\"T_2a9e3_row0_col5\" class=\"data row0 col5\" >0.000000</td>\n",
       "    </tr>\n",
       "    <tr>\n",
       "      <td id=\"T_2a9e3_row1_col0\" class=\"data row1 col0\" >-0.386701</td>\n",
       "      <td id=\"T_2a9e3_row1_col1\" class=\"data row1 col1\" >-1.046005</td>\n",
       "      <td id=\"T_2a9e3_row1_col2\" class=\"data row1 col2\" >-0.000000</td>\n",
       "      <td id=\"T_2a9e3_row1_col3\" class=\"data row1 col3\" >0.000000</td>\n",
       "      <td id=\"T_2a9e3_row1_col4\" class=\"data row1 col4\" >0.000000</td>\n",
       "      <td id=\"T_2a9e3_row1_col5\" class=\"data row1 col5\" >0.000000</td>\n",
       "    </tr>\n",
       "    <tr>\n",
       "      <td id=\"T_2a9e3_row2_col0\" class=\"data row2 col0\" >0.000000</td>\n",
       "      <td id=\"T_2a9e3_row2_col1\" class=\"data row2 col1\" >0.000000</td>\n",
       "      <td id=\"T_2a9e3_row2_col2\" class=\"data row2 col2\" >0.112885</td>\n",
       "      <td id=\"T_2a9e3_row2_col3\" class=\"data row2 col3\" >-2.710532</td>\n",
       "      <td id=\"T_2a9e3_row2_col4\" class=\"data row2 col4\" >0.000000</td>\n",
       "      <td id=\"T_2a9e3_row2_col5\" class=\"data row2 col5\" >-0.000000</td>\n",
       "    </tr>\n",
       "    <tr>\n",
       "      <td id=\"T_2a9e3_row3_col0\" class=\"data row3 col0\" >0.000000</td>\n",
       "      <td id=\"T_2a9e3_row3_col1\" class=\"data row3 col1\" >0.000000</td>\n",
       "      <td id=\"T_2a9e3_row3_col2\" class=\"data row3 col2\" >0.525422</td>\n",
       "      <td id=\"T_2a9e3_row3_col3\" class=\"data row3 col3\" >-3.757564</td>\n",
       "      <td id=\"T_2a9e3_row3_col4\" class=\"data row3 col4\" >0.000000</td>\n",
       "      <td id=\"T_2a9e3_row3_col5\" class=\"data row3 col5\" >-0.000000</td>\n",
       "    </tr>\n",
       "    <tr>\n",
       "      <td id=\"T_2a9e3_row4_col0\" class=\"data row4 col0\" >-0.000000</td>\n",
       "      <td id=\"T_2a9e3_row4_col1\" class=\"data row4 col1\" >-0.000000</td>\n",
       "      <td id=\"T_2a9e3_row4_col2\" class=\"data row4 col2\" >-0.000000</td>\n",
       "      <td id=\"T_2a9e3_row4_col3\" class=\"data row4 col3\" >0.000000</td>\n",
       "      <td id=\"T_2a9e3_row4_col4\" class=\"data row4 col4\" >1.000000</td>\n",
       "      <td id=\"T_2a9e3_row4_col5\" class=\"data row4 col5\" >0.000000</td>\n",
       "    </tr>\n",
       "    <tr>\n",
       "      <td id=\"T_2a9e3_row5_col0\" class=\"data row5 col0\" >0.000000</td>\n",
       "      <td id=\"T_2a9e3_row5_col1\" class=\"data row5 col1\" >0.000000</td>\n",
       "      <td id=\"T_2a9e3_row5_col2\" class=\"data row5 col2\" >0.000000</td>\n",
       "      <td id=\"T_2a9e3_row5_col3\" class=\"data row5 col3\" >0.000000</td>\n",
       "      <td id=\"T_2a9e3_row5_col4\" class=\"data row5 col4\" >0.000000</td>\n",
       "      <td id=\"T_2a9e3_row5_col5\" class=\"data row5 col5\" >1.000000</td>\n",
       "    </tr>\n",
       "  </tbody>\n",
       "</table>\n"
      ],
      "text/plain": [
       "<pandas.io.formats.style.Styler at 0x30ba5ea90>"
      ]
     },
     "metadata": {},
     "output_type": "display_data"
    }
   ],
   "source": [
    "getMatrix(tao, \"MFFF\", \"PENT\", print = True);"
   ]
  },
  {
   "cell_type": "code",
   "execution_count": null,
   "id": "99bf4199-f74e-4c9c-b113-1a152f20326c",
   "metadata": {},
   "outputs": [],
   "source": []
  }
 ],
 "metadata": {
  "kernelspec": {
   "display_name": "Python 3 (ipykernel)",
   "language": "python",
   "name": "python3"
  },
  "language_info": {
   "codemirror_mode": {
    "name": "ipython",
    "version": 3
   },
   "file_extension": ".py",
   "mimetype": "text/x-python",
   "name": "python",
   "nbconvert_exporter": "python",
   "pygments_lexer": "ipython3",
   "version": "3.11.11"
  }
 },
 "nbformat": 4,
 "nbformat_minor": 5
}
