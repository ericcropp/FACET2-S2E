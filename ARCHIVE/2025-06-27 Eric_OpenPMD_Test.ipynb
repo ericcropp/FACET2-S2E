{
 "cells": [
  {
   "cell_type": "code",
   "execution_count": 1,
   "id": "e2535e53-b64a-4a0f-99d2-82e974d9ca79",
   "metadata": {},
   "outputs": [],
   "source": [
    "import UTILITY_OpenPMDtoBmad as pmd2bmad\n",
    "import pmd_beamphysics"
   ]
  },
  {
   "cell_type": "code",
   "execution_count": 2,
   "id": "9d7871bb-13bb-4216-8e89-9d309af97e79",
   "metadata": {},
   "outputs": [],
   "source": [
    "t = pmd_beamphysics.ParticleGroup('out_nom.h5')"
   ]
  },
  {
   "cell_type": "code",
   "execution_count": 3,
   "id": "c93dc619-2664-4c6b-82c6-d73fdecd97e0",
   "metadata": {},
   "outputs": [],
   "source": [
    "t.write('test.h5')"
   ]
  },
  {
   "cell_type": "code",
   "execution_count": 4,
   "id": "90f53d86-143c-46f3-afd8-0518ecdff95a",
   "metadata": {},
   "outputs": [],
   "source": [
    "pmd2bmad.OpenPMD_to_Bmad('test.h5')"
   ]
  },
  {
   "cell_type": "markdown",
   "id": "5c8e9756-3e6e-46cf-b076-a0b293cbdd25",
   "metadata": {},
   "source": [
    "## This fails with old version of OpenPMD_to_Bmad patch and new version of pmd_beamphysics.ParticleGroup\n",
    "\n",
    "### Several problems to solve\n",
    "1) Get species automatically\n",
    "2) This module should probably import a the github repo for OpenPMD_to_Bmad as a submodule (made some manual changes to the tool that are available on Github)\n",
    "3) Some kind of backward compatibility -- maybe another patch -- seems like a general problem that we can't open old PMD files with new version of PMD beamphysics\n",
    "4) Push new version to OpenPMD_to_Bmad"
   ]
  },
  {
   "cell_type": "code",
   "execution_count": null,
   "id": "f3a79e83-4f7c-43cc-8442-52e4519fb22f",
   "metadata": {},
   "outputs": [],
   "source": []
  }
 ],
 "metadata": {
  "kernelspec": {
   "display_name": "sagan_bmad_new",
   "language": "python",
   "name": "sagan_bmad_new"
  },
  "language_info": {
   "codemirror_mode": {
    "name": "ipython",
    "version": 3
   },
   "file_extension": ".py",
   "mimetype": "text/x-python",
   "name": "python",
   "nbconvert_exporter": "python",
   "pygments_lexer": "ipython3",
   "version": "3.13.5"
  }
 },
 "nbformat": 4,
 "nbformat_minor": 5
}
