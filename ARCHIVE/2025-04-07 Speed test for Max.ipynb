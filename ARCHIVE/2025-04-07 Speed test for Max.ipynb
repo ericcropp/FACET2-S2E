{
 "cells": [
  {
   "cell_type": "markdown",
   "id": "f0c46a8f-2d50-4a9e-83cf-396c9b621fd5",
   "metadata": {},
   "source": [
    "## Import"
   ]
  },
  {
   "cell_type": "code",
   "execution_count": 1,
   "id": "96687e34-b068-4dbd-ad81-c12294fae4e4",
   "metadata": {},
   "outputs": [
    {
     "name": "stdout",
     "output_type": "stream",
     "text": [
      "--- 1.4371459484100342 seconds ---\n"
     ]
    }
   ],
   "source": [
    "import time\n",
    "start_time = time.time()\n",
    "\n",
    "from UTILITY_quickstart import *\n",
    "\n",
    "importedDefaultSettings = loadConfig(\"setLattice_configs/2024-10-14_twoBunch.yml\")\n",
    "\n",
    "print(\"--- %s seconds ---\" % (time.time() - start_time))"
   ]
  },
  {
   "cell_type": "markdown",
   "id": "9f57a4e7-fb24-4e03-b44d-b84ba5b13be9",
   "metadata": {},
   "source": [
    "## CSR off, 1e4 particles"
   ]
  },
  {
   "cell_type": "code",
   "execution_count": 2,
   "id": "514fe345-d03c-4033-8131-451cef80933a",
   "metadata": {},
   "outputs": [
    {
     "name": "stdout",
     "output_type": "stream",
     "text": [
      "Environment set to:  /Users/nmajik/Documents/SLAC/FACET2-Bmad-PyTao\n",
      "Tracking to end\n",
      "CSR off\n",
      "Overwriting lattice with setLattice() defaults\n",
      "No defaults file provided to setLattice(). Using setLattice_configs/defaults.yml\n",
      "Number of macro particles = 10000.0\n",
      "Beam created, written to /Users/nmajik/Documents/SLAC/FACET2-Bmad-PyTao/beams/activeBeamFile.h5, and reinit to tao\n"
     ]
    },
    {
     "name": "stderr",
     "output_type": "stream",
     "text": [
      "HDF5-DIAG: Error detected in HDF5 (1.14.3) thread 1:\n",
      "  #000: H5G.c line 893 in H5Gclose(): decrementing group ID failed\n",
      "    major: Symbol table\n",
      "    minor: Unable to decrement reference count\n",
      "  #001: H5Iint.c line 1122 in H5I_dec_app_ref(): can't decrement ID ref count\n",
      "    major: Object ID\n",
      "    minor: Unable to decrement reference count\n",
      "  #002: H5Iint.c line 1077 in H5I__dec_app_ref(): can't decrement ID ref count\n",
      "    major: Object ID\n",
      "    minor: Unable to decrement reference count\n",
      "  #003: H5Iint.c line 981 in H5I__dec_ref(): can't locate ID\n",
      "    major: Object ID\n",
      "    minor: Unable to find ID information (already closed?)\n"
     ]
    },
    {
     "name": "stdout",
     "output_type": "stream",
     "text": [
      "--- 8.945180177688599 seconds ---\n"
     ]
    }
   ],
   "source": [
    "start_time = time.time()\n",
    "\n",
    "tao = initializeTao(\n",
    "    inputBeamFilePathSuffix = importedDefaultSettings[\"inputBeamFilePathSuffix\"],\n",
    "    \n",
    "    csrTF = False,\n",
    "    numMacroParticles=1e4,\n",
    ")\n",
    "\n",
    "setLattice(tao, **importedDefaultSettings)\n",
    "\n",
    "trackBeam(tao, **importedDefaultSettings)\n",
    "\n",
    "print(\"--- %s seconds ---\" % (time.time() - start_time))"
   ]
  },
  {
   "cell_type": "markdown",
   "id": "5fb6ae77-a5e8-4e0d-94b9-7f4dad341b8b",
   "metadata": {},
   "source": [
    "## CSR off, 1e5 particles"
   ]
  },
  {
   "cell_type": "code",
   "execution_count": 3,
   "id": "0c48f8fa-388e-47cc-8be6-5ff8ee620f14",
   "metadata": {},
   "outputs": [
    {
     "name": "stdout",
     "output_type": "stream",
     "text": [
      "Environment set to:  /Users/nmajik/Documents/SLAC/FACET2-Bmad-PyTao\n",
      "Tracking to end\n",
      "CSR off\n",
      "Overwriting lattice with setLattice() defaults\n",
      "No defaults file provided to setLattice(). Using setLattice_configs/defaults.yml\n",
      "Number of macro particles = 100000.0\n",
      "Beam created, written to /Users/nmajik/Documents/SLAC/FACET2-Bmad-PyTao/beams/activeBeamFile.h5, and reinit to tao\n"
     ]
    },
    {
     "name": "stderr",
     "output_type": "stream",
     "text": [
      "HDF5-DIAG: Error detected in HDF5 (1.14.3) thread 1:\n",
      "  #000: H5G.c line 893 in H5Gclose(): decrementing group ID failed\n",
      "    major: Symbol table\n",
      "    minor: Unable to decrement reference count\n",
      "  #001: H5Iint.c line 1122 in H5I_dec_app_ref(): can't decrement ID ref count\n",
      "    major: Object ID\n",
      "    minor: Unable to decrement reference count\n",
      "  #002: H5Iint.c line 1077 in H5I__dec_app_ref(): can't decrement ID ref count\n",
      "    major: Object ID\n",
      "    minor: Unable to decrement reference count\n",
      "  #003: H5Iint.c line 981 in H5I__dec_ref(): can't locate ID\n",
      "    major: Object ID\n",
      "    minor: Unable to find ID information (already closed?)\n"
     ]
    },
    {
     "name": "stdout",
     "output_type": "stream",
     "text": [
      "--- 385.37604212760925 seconds ---\n"
     ]
    }
   ],
   "source": [
    "start_time = time.time()\n",
    "\n",
    "del tao\n",
    "tao = initializeTao(\n",
    "    inputBeamFilePathSuffix = importedDefaultSettings[\"inputBeamFilePathSuffix\"],\n",
    "    \n",
    "    csrTF = False,\n",
    "    numMacroParticles=1e5,\n",
    ")\n",
    "\n",
    "setLattice(tao, **importedDefaultSettings)\n",
    "\n",
    "trackBeam(tao, **importedDefaultSettings)\n",
    "\n",
    "print(\"--- %s seconds ---\" % (time.time() - start_time))"
   ]
  },
  {
   "cell_type": "markdown",
   "id": "c50ca3dd-9d3a-4181-a63b-1485711f063b",
   "metadata": {},
   "source": [
    "## CSR on, 1e4 particles"
   ]
  },
  {
   "cell_type": "code",
   "execution_count": 4,
   "id": "ad5f6e31-32eb-42f5-9904-e3b019e7c7b3",
   "metadata": {},
   "outputs": [
    {
     "name": "stdout",
     "output_type": "stream",
     "text": [
      "Environment set to:  /Users/nmajik/Documents/SLAC/FACET2-Bmad-PyTao\n",
      "Tracking to end\n",
      "CSR on\n",
      "Overwriting lattice with setLattice() defaults\n",
      "No defaults file provided to setLattice(). Using setLattice_configs/defaults.yml\n",
      "Number of macro particles = 10000.0\n",
      "Beam created, written to /Users/nmajik/Documents/SLAC/FACET2-Bmad-PyTao/beams/activeBeamFile.h5, and reinit to tao\n"
     ]
    },
    {
     "name": "stderr",
     "output_type": "stream",
     "text": [
      "HDF5-DIAG: Error detected in HDF5 (1.14.3) thread 1:\n",
      "  #000: H5G.c line 893 in H5Gclose(): decrementing group ID failed\n",
      "    major: Symbol table\n",
      "    minor: Unable to decrement reference count\n",
      "  #001: H5Iint.c line 1122 in H5I_dec_app_ref(): can't decrement ID ref count\n",
      "    major: Object ID\n",
      "    minor: Unable to decrement reference count\n",
      "  #002: H5Iint.c line 1077 in H5I__dec_app_ref(): can't decrement ID ref count\n",
      "    major: Object ID\n",
      "    minor: Unable to decrement reference count\n",
      "  #003: H5Iint.c line 981 in H5I__dec_ref(): can't locate ID\n",
      "    major: Object ID\n",
      "    minor: Unable to find ID information (already closed?)\n"
     ]
    },
    {
     "name": "stdout",
     "output_type": "stream",
     "text": [
      "--- 72.10873913764954 seconds ---\n"
     ]
    }
   ],
   "source": [
    "start_time = time.time()\n",
    "\n",
    "del tao\n",
    "tao = initializeTao(\n",
    "    inputBeamFilePathSuffix = importedDefaultSettings[\"inputBeamFilePathSuffix\"],\n",
    "    \n",
    "    csrTF = True,\n",
    "    numMacroParticles=1e4,\n",
    ")\n",
    "\n",
    "setLattice(tao, **importedDefaultSettings)\n",
    "\n",
    "trackBeam(tao, **importedDefaultSettings)\n",
    "\n",
    "print(\"--- %s seconds ---\" % (time.time() - start_time))"
   ]
  },
  {
   "cell_type": "markdown",
   "id": "b2c24b77-cd52-41e6-8c20-c2b3742ed57c",
   "metadata": {},
   "source": [
    "## CSR on, 1e5 particles"
   ]
  },
  {
   "cell_type": "code",
   "execution_count": 5,
   "id": "6d2c6068-56d4-45b8-bf75-505d0c114915",
   "metadata": {},
   "outputs": [
    {
     "name": "stdout",
     "output_type": "stream",
     "text": [
      "Environment set to:  /Users/nmajik/Documents/SLAC/FACET2-Bmad-PyTao\n",
      "Tracking to end\n",
      "CSR on\n",
      "Overwriting lattice with setLattice() defaults\n",
      "No defaults file provided to setLattice(). Using setLattice_configs/defaults.yml\n",
      "Number of macro particles = 100000.0\n",
      "Beam created, written to /Users/nmajik/Documents/SLAC/FACET2-Bmad-PyTao/beams/activeBeamFile.h5, and reinit to tao\n"
     ]
    },
    {
     "name": "stderr",
     "output_type": "stream",
     "text": [
      "HDF5-DIAG: Error detected in HDF5 (1.14.3) thread 1:\n",
      "  #000: H5G.c line 893 in H5Gclose(): decrementing group ID failed\n",
      "    major: Symbol table\n",
      "    minor: Unable to decrement reference count\n",
      "  #001: H5Iint.c line 1122 in H5I_dec_app_ref(): can't decrement ID ref count\n",
      "    major: Object ID\n",
      "    minor: Unable to decrement reference count\n",
      "  #002: H5Iint.c line 1077 in H5I__dec_app_ref(): can't decrement ID ref count\n",
      "    major: Object ID\n",
      "    minor: Unable to decrement reference count\n",
      "  #003: H5Iint.c line 981 in H5I__dec_ref(): can't locate ID\n",
      "    major: Object ID\n",
      "    minor: Unable to find ID information (already closed?)\n"
     ]
    },
    {
     "name": "stdout",
     "output_type": "stream",
     "text": [
      "--- 675.5560922622681 seconds ---\n"
     ]
    }
   ],
   "source": [
    "start_time = time.time()\n",
    "\n",
    "del tao\n",
    "tao = initializeTao(\n",
    "    inputBeamFilePathSuffix = importedDefaultSettings[\"inputBeamFilePathSuffix\"],\n",
    "    \n",
    "    csrTF = True,\n",
    "    numMacroParticles=1e5,\n",
    ")\n",
    "\n",
    "setLattice(tao, **importedDefaultSettings)\n",
    "\n",
    "trackBeam(tao, **importedDefaultSettings)\n",
    "\n",
    "print(\"--- %s seconds ---\" % (time.time() - start_time))"
   ]
  }
 ],
 "metadata": {
  "kernelspec": {
   "display_name": "Python 3 (ipykernel)",
   "language": "python",
   "name": "python3"
  },
  "language_info": {
   "codemirror_mode": {
    "name": "ipython",
    "version": 3
   },
   "file_extension": ".py",
   "mimetype": "text/x-python",
   "name": "python",
   "nbconvert_exporter": "python",
   "pygments_lexer": "ipython3",
   "version": "3.11.11"
  }
 },
 "nbformat": 4,
 "nbformat_minor": 5
}
