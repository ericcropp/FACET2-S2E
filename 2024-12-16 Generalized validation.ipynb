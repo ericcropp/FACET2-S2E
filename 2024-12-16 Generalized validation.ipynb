{
 "cells": [
  {
   "cell_type": "code",
   "execution_count": 1,
   "id": "9d94e21a-2fc8-450b-b141-7da84332a2c8",
   "metadata": {},
   "outputs": [],
   "source": [
    "from UTILITY_quickstart import *"
   ]
  },
  {
   "cell_type": "code",
   "execution_count": 2,
   "id": "412fa289-f95e-4859-bd7e-1a965639a0a3",
   "metadata": {},
   "outputs": [],
   "source": [
    "#importedDefaultSettings = loadConfig(\"setLattice_configs/2024-10-14_twoBunch.yml\")\n",
    "importedDefaultSettings = loadConfig(\"setLattice_configs/2024-10-22_oneBunch.yml\")"
   ]
  },
  {
   "cell_type": "code",
   "execution_count": 3,
   "id": "96d95559-851f-4890-9be3-c6865faa5d1b",
   "metadata": {},
   "outputs": [
    {
     "name": "stdout",
     "output_type": "stream",
     "text": [
      "Environment set to:  /Users/nmajik/Documents/SLAC/FACET2-Bmad-PyTao\n",
      "Tracking to end\n",
      "CSR on\n",
      "Overwriting lattice with setLattice() defaults\n",
      "No defaults file provided to setLattice(). Using setLattice_configs/defaults.yml\n",
      "Number of macro particles = 100000.0\n",
      "Loaded activeBeamFile.h5\n",
      "Set track_start = L0AFEND, track_end = L0BFEND\n",
      "Tracking!\n",
      "trackBeam() exiting\n",
      "New charge: 1.6000000000000005e-09\n"
     ]
    }
   ],
   "source": [
    "csrTF = True\n",
    "evalElement = \"PENT\"\n",
    "\n",
    "\n",
    "inputBeamFilePathSuffix = importedDefaultSettings[\"inputBeamFilePathSuffix\"]\n",
    "bunchCount = importedDefaultSettings[\"bunchCount\"]\n",
    "tao = initializeTao(\n",
    "    #inputBeamFilePathSuffix = '/beams/nmmToL0AFEND_2bunch_2024-02-16Clean/2024-02-16_2bunch_1e5Downsample_nudgeWeights.h5',\n",
    "    inputBeamFilePathSuffix = inputBeamFilePathSuffix,\n",
    "    \n",
    "    csrTF = csrTF,\n",
    "    numMacroParticles=1e5,\n",
    ")\n",
    "\n",
    "setLattice(tao, **importedDefaultSettings)\n",
    "\n",
    "\n",
    "# activeSettings = importedDefaultSettings | {\n",
    "#     # \"S1EL_xOffset\" : 0.00,  \n",
    "#     # \"S1EL_yOffset\" : 0.0,  \n",
    "#     # #\"S2EL_xOffset\" : 0.002,  \n",
    "#     # \"S2EL_yOffset\" : 0.0,  \n",
    "#     # \"S2ER_xOffset\" : 0.0,  \n",
    "#     # \"S2ER_yOffset\" : 0.0,  \n",
    "#     # \"S1ER_xOffset\" : 0.0,  \n",
    "#     # \"S1ER_yOffset\" : 0.0,\n",
    "\n",
    "#     # #\"XC1FFkG\" : 0.2321150061,\n",
    "\n",
    "\n",
    "#     # #Sextupole compensated, CSR off\n",
    "#     # \"S2EL_xOffset\" : 0.002, \n",
    "#     # \"XC1FFkG\" : 0.19,\n",
    "\n",
    "# }\n",
    "# setLattice(tao, **activeSettings)\n",
    "\n",
    "\n",
    "\n",
    "#Rescale charge\n",
    "# newCharge = 1e-12\n",
    "# trackBeam(tao, trackEnd = \"L0BFEND\", verbose = True)\n",
    "# P = getBeamAtElement(tao, \"L0AFEND\")\n",
    "# print(f\"\"\"\\n\\n\\nAs imported charge: {P.charge}\"\"\")\n",
    "# P.charge = newCharge\n",
    "# makeBeamActiveBeamFile(P)\n",
    "# tao.cmd('reinit beam')\n",
    "\n",
    "#Set aside the initial beam for later reference\n",
    "trackBeam(tao, trackEnd = \"L0BFEND\", verbose = True)\n",
    "PInit = ParticleGroup(data=tao.bunch_data(\"L0AFEND\"))\n",
    "print(f\"\"\"New charge: {PInit.charge}\"\"\")"
   ]
  },
  {
   "cell_type": "code",
   "execution_count": 4,
   "id": "d54ee94b-645a-4276-9900-83818b667fd6",
   "metadata": {},
   "outputs": [],
   "source": [
    "assertBC14Energy = importedDefaultSettings[\"assertBC14Energy\"]\n",
    "assertBC20Energy = importedDefaultSettings[\"assertBC20Energy\"]\n",
    "centerBC14 = importedDefaultSettings[\"centerBC14\"] \n",
    "centerBC20 = importedDefaultSettings[\"centerBC20\"] \n",
    "centerMFFF = importedDefaultSettings[\"centerMFFF\"] "
   ]
  },
  {
   "cell_type": "code",
   "execution_count": null,
   "id": "2633e599-b309-4481-83eb-ea7c99188595",
   "metadata": {},
   "outputs": [
    {
     "name": "stdout",
     "output_type": "stream",
     "text": [
      "Loaded activeBeamFile.h5\n",
      "Set track_start = L0AFEND, track_end = end\n",
      "Set track_end = BEGBC14_1\n",
      "Tracking!\n"
     ]
    }
   ],
   "source": [
    "trackBeam(tao, \n",
    "          #trackStart = \"L0AFEND\", \n",
    "          #trackEnd = evalElement, \n",
    "          centerBC14 = centerBC14, \n",
    "          centerBC20 = centerBC20, \n",
    "          centerMFFF = centerMFFF, \n",
    "          assertBC14Energy = assertBC14Energy, \n",
    "          assertBC20Energy = assertBC20Energy,  \n",
    "          verbose = True\n",
    "         )"
   ]
  },
  {
   "cell_type": "code",
   "execution_count": null,
   "id": "ff0b48ed-adb7-46e9-9a0b-17fc191afa49",
   "metadata": {},
   "outputs": [],
   "source": [
    "savedData = {}\n",
    "\n",
    "evalElement = \"PENT\"\n",
    "P = getBeamAtElement(tao, evalElement)\n",
    "\n",
    "if bunchCount == 1:\n",
    "    PDrive = P.copy()\n",
    "    beamsToEvaluate = [\"PDrive\"]\n",
    "elif bunchCount == 2:\n",
    "    PDrive, PWitness = getDriverAndWitness(P)\n",
    "    beamsToEvaluate = [\"PDrive\", \"PWitness\"]\n",
    "\n",
    "\n",
    "if evalElement == \"MFFF\":\n",
    "    #MFFF lucretia live model lattice 2024-10-16\n",
    "    targetBetaX = 11.6\n",
    "    targetBetaY = 25.2\n",
    "    targetAlphaX = -0.64\n",
    "    targetAlphaY = -1.6\n",
    "\n",
    "if evalElement == \"PENT\":\n",
    "    #These are the wishful twiss specs\n",
    "    targetBetaX = 0.5\n",
    "    targetBetaY = 0.5\n",
    "    targetAlphaX = 0.0\n",
    "    targetAlphaY = 0.0\n",
    "\n",
    "\n",
    "for PActiveStr in beamsToEvaluate:\n",
    "    PActive = locals()[PActiveStr]\n",
    "\n",
    "    \n",
    "    # for val in [\"mean_x\", \"mean_y\", \"sigma_x\", \"sigma_y\", \"mean_xp\", \"mean_yp\"]:\n",
    "    #     savedData[f\"{PActiveStr}_{val}\"] = PActive[val]\n",
    "\n",
    "    \n",
    "    savedData[f\"{PActiveStr}_median_x\"] = np.median(PActive.x)\n",
    "    savedData[f\"{PActiveStr}_median_y\"] = np.median(PActive.y)\n",
    "\n",
    "    savedData[f\"{PActiveStr}_median_xp\"] = np.median(PActive.xp)\n",
    "    savedData[f\"{PActiveStr}_median_yp\"] = np.median(PActive.yp)\n",
    "    \n",
    "    savedData[f\"{PActiveStr}_sigmaSI90_x\"] = smallestIntervalImpliedSigma(PActive.x, percentage = 0.90)\n",
    "    savedData[f\"{PActiveStr}_sigmaSI90_y\"] = smallestIntervalImpliedSigma(PActive.y, percentage = 0.90)\n",
    "    savedData[f\"{PActiveStr}_sigmaSI90_z\"] = smallestIntervalImpliedSigma(PActive.t * 3e8, percentage=0.9)\n",
    "\n",
    "    savedData[f\"{PActiveStr}_sigmaSI90_xp\"] = smallestIntervalImpliedSigma(PActive.xp, percentage = 0.90)\n",
    "    savedData[f\"{PActiveStr}_sigmaSI90_yp\"] = smallestIntervalImpliedSigma(PActive.yp, percentage = 0.90)\n",
    "\n",
    "    savedData[f\"{PActiveStr}_emitSI90_x\"] = smallestIntervalImpliedEmittance(PActive, plane = \"x\", percentage = 0.90)\n",
    "    savedData[f\"{PActiveStr}_emitSI90_y\"] = smallestIntervalImpliedEmittance(PActive, plane = \"y\", percentage = 0.90)\n",
    "\n",
    "    savedData[f\"{PActiveStr}_norm_emit_x\"] = PActive[\"norm_emit_x\"]\n",
    "    savedData[f\"{PActiveStr}_norm_emit_y\"] = PActive[\"norm_emit_y\"]\n",
    "\n",
    "    if bunchCount == 2:\n",
    "        savedData[f\"{PActiveStr}_zCentroid\"] = np.median(PActive.t * 3e8)\n",
    "\n",
    "    savedData[f\"{PActiveStr}_charge_nC\"] = PActive.charge * 1e9\n",
    "\n",
    "\n",
    "    PActiveTwiss = PActive.twiss(plane = \"x\", fraction = 0.9) | PActive.twiss(plane = \"y\", fraction = 0.9)\n",
    "\n",
    "    savedData[f\"{PActiveStr}_BMAG_x\"] = calcBMAG(targetBetaX, targetAlphaX, PActiveTwiss[\"beta_x\"], PActiveTwiss[\"alpha_x\"])\n",
    "    savedData[f\"{PActiveStr}_BMAG_y\"] = calcBMAG(targetBetaY, targetAlphaY, PActiveTwiss[\"beta_y\"], PActiveTwiss[\"alpha_y\"])\n",
    "\n",
    "    # Get BMAGs by energy slice\n",
    "    slicedBeamlets = sliceBeam( PActive , sortKey = \"pz\", numBeamlets = 5 )\n",
    "\n",
    "    slicedTwiss =  [ ( beamlet.twiss(plane = \"x\", fraction = 0.9) | beamlet.twiss(plane = \"y\", fraction = 0.9) ) for beamlet in slicedBeamlets ] \n",
    "    \n",
    "    savedData[f\"{PActiveStr}_sliced_BMAG_x\"] = [ calcBMAG(targetBetaX, targetAlphaX, beamletTwiss[\"beta_x\"], beamletTwiss[\"alpha_x\"]) for beamletTwiss in slicedTwiss ]\n",
    "    savedData[f\"{PActiveStr}_sliced_BMAG_y\"] = [ calcBMAG(targetBetaY, targetAlphaY, beamletTwiss[\"beta_y\"], beamletTwiss[\"alpha_y\"]) for beamletTwiss in slicedTwiss ]\n",
    "\n",
    "if bunchCount == 2:\n",
    "    savedData[\"bunchSpacing\"] = savedData[\"PWitness_zCentroid\"] - savedData[\"PDrive_zCentroid\"]\n",
    "\n",
    "    savedData[\"transverseCentroidOffset\"] = np.sqrt(\n",
    "            (savedData[\"PDrive_median_x\"] - savedData[\"PWitness_median_x\"])**2 + \n",
    "            (savedData[\"PDrive_median_y\"] - savedData[\"PWitness_median_y\"])**2\n",
    "        )\n",
    "\n",
    "savedData[\"lostChargeFraction\"] = 1 - (P.charge / PInit.charge)"
   ]
  },
  {
   "cell_type": "code",
   "execution_count": null,
   "id": "aee39a6d-e81d-4a4a-9bce-40ea66c244f6",
   "metadata": {},
   "outputs": [],
   "source": [
    "savedData"
   ]
  },
  {
   "cell_type": "code",
   "execution_count": null,
   "id": "3a38509a-8b9c-4b65-9e8f-b05b2fd8fa24",
   "metadata": {},
   "outputs": [],
   "source": [
    "if bunchCount == 2:\n",
    "    print(f\"\"\"Bunch spacing: \\t\\t{1e6 * savedData[\"bunchSpacing\"] :.3g} um\"\"\")\n",
    "    \n",
    "    print(f\"\"\"Transverse offset: \\t{1e6*np.sqrt((savedData[\"PDrive_median_x\"] - savedData[\"PWitness_median_x\"])**2 + (savedData[\"PDrive_median_y\"] - savedData[\"PWitness_median_y\"])**2) :.3g} um\"\"\")\n",
    "    print(f\"\"\"Angular misalignment: \\t{1e3*np.sqrt((savedData[\"PDrive_median_xp\"] - savedData[\"PWitness_median_xp\"])**2 + (savedData[\"PDrive_median_yp\"] - savedData[\"PWitness_median_yp\"])**2) :.3g} mrad\"\"\")\n",
    "\n",
    "print(\"\\nEmittances and sigmas - implied by 90% charge\")\n",
    "print(f\"\"\"Driver emittance: \\t{1e6 * savedData[\"PDrive_emitSI90_x\"] :.3g} × {1e6 * savedData[\"PDrive_emitSI90_y\"] :.3g} um-rad\"\"\")\n",
    "if bunchCount == 2:\n",
    "    print(f\"\"\"Witness emittance: \\t{1e6 * savedData[\"PWitness_emitSI90_x\"] :.3g} × {1e6 * savedData[\"PWitness_emitSI90_y\"] :.3g} um-rad\"\"\")\n",
    "\n",
    "print(f\"\"\"Driver sigma_x,y,z: \\t{1e6 * savedData[\"PDrive_sigmaSI90_x\"] :.3g} × {1e6 * savedData[\"PDrive_sigmaSI90_y\"] :.3g} × {1e6 * savedData[\"PDrive_sigmaSI90_z\"] :.3g} um\"\"\")\n",
    "if bunchCount == 2:\n",
    "    print(f\"\"\"Witness sigma_x,y,z: \\t{1e6 * savedData[\"PWitness_sigmaSI90_x\"] :.3g} × {1e6 * savedData[\"PWitness_sigmaSI90_y\"] :.3g} × {1e6 * savedData[\"PWitness_sigmaSI90_z\"] :.3g} um\"\"\")\n",
    "\n",
    "\n",
    "\n",
    "print(\"\\nEmittances and sigmas - literal standard deviation\")\n",
    "\n",
    "print(f\"\"\"Driver emittance: \\t{1e6 * PDrive[\"norm_emit_x\"] :.3g} × {1e6 * PDrive[\"norm_emit_y\"] :.3g} um-rad\"\"\")\n",
    "if bunchCount == 2: \n",
    "    print(f\"\"\"Witness emittance: \\t{1e6 * PWitness[\"norm_emit_x\"] :.3g} × {1e6 * PWitness[\"norm_emit_y\"] :.3g} um-rad\"\"\")\n",
    "\n",
    "print(f\"\"\"Driver sigma_x,y,z: \\t{1e6 * PDrive[\"sigma_x\"] :.3g} × {1e6 * PDrive[\"sigma_y\"] :.3g} × {1e6 * PDrive[\"sigma_z\"] :.3g} um\"\"\")\n",
    "if bunchCount == 2:\n",
    "    print(f\"\"\"Witness sigma_x,y,z: \\t{1e6 * PWitness[\"sigma_x\"] :.3g} × {1e6 * PWitness[\"sigma_y\"] :.3g} × {1e6 * PWitness[\"sigma_z\"] :.3g} um\"\"\")"
   ]
  },
  {
   "cell_type": "code",
   "execution_count": null,
   "id": "7e4fbfd9-bab0-4710-8c9c-e0b26c89e8a5",
   "metadata": {},
   "outputs": [],
   "source": [
    "print(\"Drive:\")\n",
    "display(plotMod(PDrive, 'x', 'y',  bins=300))\n",
    "if bunchCount == 2:\n",
    "    print(\"Witness:\")\n",
    "    display(plotMod(PWitness, 'x', 'y',  bins=300))\n",
    "    \n",
    "display(plotMod(PDrive, 'z', 'pz', bins=300))\n",
    "\n",
    "display(plotMod(PDrive, 'x', 'xp', bins=300))\n",
    "display(slicePlotMod(PDrive, 'norm_emit_x', slice_key = \"t\", n_slice=100))\n",
    "plt.clf()"
   ]
  },
  {
   "cell_type": "code",
   "execution_count": null,
   "id": "0c359d4b-e091-4bf9-80b3-c8851dc5b9d8",
   "metadata": {},
   "outputs": [],
   "source": [
    "display(plotMod(PDrive, 'delta_t', 'pz', bins=300))"
   ]
  },
  {
   "cell_type": "code",
   "execution_count": null,
   "id": "b6ae32d2-604b-4622-be6a-0864af463f0b",
   "metadata": {},
   "outputs": [],
   "source": [
    "display(plotMod(PDrive, 'x', 'y',  bins=300))\n",
    "display(plotMod(PDrive, 'x', 'pz', bins=300))\n",
    "display(plotMod(PDrive, 'x', 'xp', bins=300))\n",
    "display(plotMod(PDrive, 'y', 'yp', bins=300))\n",
    "display(plotMod(PDrive, 'z', 'pz', bins=300))\n",
    "display(slicePlotMod(PDrive, 'norm_emit_x',n_slice=100))"
   ]
  },
  {
   "cell_type": "markdown",
   "id": "283ad7e8-20ef-4b38-8b2d-5cf6f8b09bca",
   "metadata": {},
   "source": [
    "## Further study at other elements"
   ]
  },
  {
   "cell_type": "code",
   "execution_count": null,
   "id": "1e45a411-f84c-42a0-951a-6f8b8eb723a7",
   "metadata": {},
   "outputs": [],
   "source": [
    "?calcBMAG"
   ]
  },
  {
   "cell_type": "code",
   "execution_count": null,
   "id": "2ed5c0f8-1b0b-4225-9886-7c03dc6f1973",
   "metadata": {},
   "outputs": [],
   "source": [
    "#def addBMAGToDict(dict, targetBeta, targetAlpha)"
   ]
  },
  {
   "cell_type": "code",
   "execution_count": null,
   "id": "d3c367b7-9f8a-430e-bcdf-9e854e1b7db8",
   "metadata": {
    "scrolled": true
   },
   "outputs": [],
   "source": [
    "P = getBeamAtElement(tao, \"PR10571\")\n",
    "#PDrive, PWitness = getDriverAndWitness(P)\n",
    "\n",
    "\n",
    "#PR10571 lucretia live model lattice 2024-10-16\n",
    "targetBetaX = 5.7\n",
    "targetBetaY = 2.6\n",
    "targetAlphaX = -2.1\n",
    "targetAlphaY = 0.0\n",
    "\n",
    "PTwiss = P.twiss(plane = \"x\", fraction = 0.9) | P.twiss(plane = \"y\", fraction = 0.9)\n",
    "#PDriveTwiss = PDrive.twiss(plane = \"x\", fraction = 0.9) | PDrive.twiss(plane = \"y\", fraction = 0.9)\n",
    "#PWitnessTwiss = PWitness.twiss(plane = \"x\", fraction = 0.9) | PWitness.twiss(plane = \"y\", fraction = 0.9)\n",
    "\n",
    "print(f\"\"\"System BMAG:  {calcBMAG(targetBetaX, targetAlphaX, PTwiss[\"beta_x\"], PTwiss[\"alpha_x\"])}, {calcBMAG(targetBetaY, targetAlphaY, PTwiss[\"beta_y\"], PTwiss[\"alpha_y\"])}\"\"\")\n",
    "#print(f\"\"\"Drive BMAG:   {calcBMAG(targetBetaX, targetAlphaX, PDriveTwiss[\"beta_x\"], PDriveTwiss[\"alpha_x\"])}, {calcBMAG(targetBetaY, targetAlphaY, PDriveTwiss[\"beta_y\"], PDriveTwiss[\"alpha_y\"])}\"\"\")\n",
    "#print(f\"\"\"Witness BMAG: {calcBMAG(targetBetaX, targetAlphaX, PWitnessTwiss[\"beta_x\"], PWitnessTwiss[\"alpha_x\"])}, {calcBMAG(targetBetaY, targetAlphaY, PWitnessTwiss[\"beta_y\"], PWitnessTwiss[\"alpha_y\"])}\"\"\")\n",
    "\n",
    "print() \n",
    "\n",
    "print(f\"\"\"System emit:  {PTwiss[\"norm_emit_x\"]}, {PTwiss[\"norm_emit_y\"]}\"\"\")\n",
    "#print(f\"\"\"Drive emit:   {PDriveTwiss[\"norm_emit_x\"]}, {PDriveTwiss[\"norm_emit_y\"]}\"\"\")\n",
    "#print(f\"\"\"Witness emit: {PWitnessTwiss[\"norm_emit_x\"]}, {PWitnessTwiss[\"norm_emit_y\"]}\"\"\")"
   ]
  },
  {
   "cell_type": "code",
   "execution_count": null,
   "id": "c63085ee-011e-491d-8ef9-5142c865167d",
   "metadata": {},
   "outputs": [],
   "source": [
    "P = getBeamAtElement(tao, \"BEGBC20\")\n",
    "#PDrive, PWitness = getDriverAndWitness(P)\n",
    "\n",
    "\n",
    "#BEGBC20 lucretia live model lattice 2024-10-16\n",
    "targetBetaX = 11.5\n",
    "targetBetaY = 27.3\n",
    "targetAlphaX = 0.7\n",
    "targetAlphaY = 1.2\n",
    "\n",
    "PTwiss = P.twiss(plane = \"x\", fraction = 0.9) | P.twiss(plane = \"y\", fraction = 0.9)\n",
    "#PDriveTwiss = PDrive.twiss(plane = \"x\", fraction = 0.9) | PDrive.twiss(plane = \"y\", fraction = 0.9)\n",
    "#PWitnessTwiss = PWitness.twiss(plane = \"x\", fraction = 0.9) | PWitness.twiss(plane = \"y\", fraction = 0.9)\n",
    "\n",
    "\n",
    "#print(f\"\"\"Drive beta x / y: {PDriveTwiss[\"beta_x\"]}, {PDriveTwiss[\"beta_y\"]}\"\"\")\n",
    "#print(f\"\"\"Drive alpha x / y: {PDriveTwiss[\"alpha_x\"]}, {PDriveTwiss[\"alpha_y\"]}\"\"\")\n",
    "\n",
    "print()\n",
    "\n",
    "print(f\"\"\"System BMAG:  {calcBMAG(targetBetaX, targetAlphaX, PTwiss[\"beta_x\"], PTwiss[\"alpha_x\"])}, {calcBMAG(targetBetaY, targetAlphaY, PTwiss[\"beta_y\"], PTwiss[\"alpha_y\"])}\"\"\")\n",
    "#print(f\"\"\"Drive BMAG:   {calcBMAG(targetBetaX, targetAlphaX, PDriveTwiss[\"beta_x\"], PDriveTwiss[\"alpha_x\"])}, {calcBMAG(targetBetaY, targetAlphaY, PDriveTwiss[\"beta_y\"], PDriveTwiss[\"alpha_y\"])}\"\"\")\n",
    "#print(f\"\"\"Witness BMAG: {calcBMAG(targetBetaX, targetAlphaX, PWitnessTwiss[\"beta_x\"], PWitnessTwiss[\"alpha_x\"])}, {calcBMAG(targetBetaY, targetAlphaY, PWitnessTwiss[\"beta_y\"], PWitnessTwiss[\"alpha_y\"])}\"\"\")\n",
    "\n",
    "print() \n",
    "\n",
    "print(f\"\"\"System emit:  {PTwiss[\"norm_emit_x\"]}, {PTwiss[\"norm_emit_y\"]}\"\"\")\n",
    "#print(f\"\"\"Drive emit:   {PDriveTwiss[\"norm_emit_x\"]}, {PDriveTwiss[\"norm_emit_y\"]}\"\"\")\n",
    "#print(f\"\"\"Witness emit: {PWitnessTwiss[\"norm_emit_x\"]}, {PWitnessTwiss[\"norm_emit_y\"]}\"\"\")"
   ]
  },
  {
   "cell_type": "code",
   "execution_count": null,
   "id": "ba6f9d39-3dd3-42e1-8e06-9c8439ad8a95",
   "metadata": {},
   "outputs": [],
   "source": [
    "P = getBeamAtElement(tao, \"MFFF\")\n",
    "#PDrive, PWitness = getDriverAndWitness(P)\n",
    "PDrive = P\n",
    "\n",
    "\n",
    "#MFFF lucretia live model lattice 2024-10-16\n",
    "targetBetaX = 11.6\n",
    "targetBetaY = 25.2\n",
    "targetAlphaX = -0.64\n",
    "targetAlphaY = -1.6\n",
    "\n",
    "PTwiss = P.twiss(plane = \"x\", fraction = 0.9) | P.twiss(plane = \"y\", fraction = 0.9)\n",
    "PDriveTwiss = PDrive.twiss(plane = \"x\", fraction = 0.9) | PDrive.twiss(plane = \"y\", fraction = 0.9)\n",
    "#PWitnessTwiss = PWitness.twiss(plane = \"x\", fraction = 0.9) | PWitness.twiss(plane = \"y\", fraction = 0.9)\n",
    "\n",
    "\n",
    "print(f\"\"\"Drive beta x / y: {PDriveTwiss[\"beta_x\"]}, {PDriveTwiss[\"beta_y\"]}\"\"\")\n",
    "print(f\"\"\"Drive alpha x / y: {PDriveTwiss[\"alpha_x\"]}, {PDriveTwiss[\"alpha_y\"]}\"\"\")\n",
    "\n",
    "print()\n",
    "\n",
    "print(f\"\"\"System BMAG:  {calcBMAG(targetBetaX, targetAlphaX, PTwiss[\"beta_x\"], PTwiss[\"alpha_x\"])}, {calcBMAG(targetBetaY, targetAlphaY, PTwiss[\"beta_y\"], PTwiss[\"alpha_y\"])}\"\"\")\n",
    "#print(f\"\"\"Drive BMAG:   {calcBMAG(targetBetaX, targetAlphaX, PDriveTwiss[\"beta_x\"], PDriveTwiss[\"alpha_x\"])}, {calcBMAG(targetBetaY, targetAlphaY, PDriveTwiss[\"beta_y\"], PDriveTwiss[\"alpha_y\"])}\"\"\")\n",
    "#print(f\"\"\"Witness BMAG: {calcBMAG(targetBetaX, targetAlphaX, PWitnessTwiss[\"beta_x\"], PWitnessTwiss[\"alpha_x\"])}, {calcBMAG(targetBetaY, targetAlphaY, PWitnessTwiss[\"beta_y\"], PWitnessTwiss[\"alpha_y\"])}\"\"\")\n",
    "\n",
    "print() \n",
    "\n",
    "print(f\"\"\"System emit:  {PTwiss[\"norm_emit_x\"]}, {PTwiss[\"norm_emit_y\"]}\"\"\")\n",
    "#print(f\"\"\"Drive emit:   {PDriveTwiss[\"norm_emit_x\"]}, {PDriveTwiss[\"norm_emit_y\"]}\"\"\")\n",
    "#print(f\"\"\"Witness emit: {PWitnessTwiss[\"norm_emit_x\"]}, {PWitnessTwiss[\"norm_emit_y\"]}\"\"\")"
   ]
  },
  {
   "cell_type": "code",
   "execution_count": null,
   "id": "0d44fb36-d670-4d61-aee1-b642d14f18e0",
   "metadata": {},
   "outputs": [],
   "source": [
    "P = getBeamAtElement(tao, \"PENT\")\n",
    "#PDrive, PWitness = getDriverAndWitness(P)\n",
    "\n",
    "#PENT lucretia live model lattice 2024-10-16\n",
    "targetBetaX = 0.5\n",
    "targetBetaY = 0.5\n",
    "targetAlphaX = 0.0\n",
    "targetAlphaY = 0.0\n",
    "\n",
    "PTwiss = P.twiss(plane = \"x\", fraction = 0.9) | P.twiss(plane = \"y\", fraction = 0.9)\n",
    "#PDriveTwiss = PDrive.twiss(plane = \"x\", fraction = 0.9) | PDrive.twiss(plane = \"y\", fraction = 0.9)\n",
    "#PWitnessTwiss = PWitness.twiss(plane = \"x\", fraction = 0.9) | PWitness.twiss(plane = \"y\", fraction = 0.9)\n",
    "\n",
    "print(f\"\"\"System beta x / y: {PTwiss[\"beta_x\"]}, {PTwiss[\"beta_y\"]}\"\"\")\n",
    "print(f\"\"\"System alpha x / y: {PTwiss[\"alpha_x\"]}, {PTwiss[\"alpha_y\"]}\"\"\")\n",
    "\n",
    "#print(f\"\"\"Drive beta x / y: {PDriveTwiss[\"beta_x\"]}, {PDriveTwiss[\"beta_y\"]}\"\"\")\n",
    "#print(f\"\"\"Drive alpha x / y: {PDriveTwiss[\"alpha_x\"]}, {PDriveTwiss[\"alpha_y\"]}\"\"\")\n",
    "\n",
    "#print(f\"\"\"Witness beta x / y: {PWitnessTwiss[\"beta_x\"]}, {PWitnessTwiss[\"beta_y\"]}\"\"\")\n",
    "#print(f\"\"\"Witness alpha x / y: {PWitnessTwiss[\"alpha_x\"]}, {PWitnessTwiss[\"alpha_y\"]}\"\"\")\n",
    "\n",
    "print(f\"\"\"System BMAG:  {calcBMAG(targetBetaX, targetAlphaX, PTwiss[\"beta_x\"], PTwiss[\"alpha_x\"])}, {calcBMAG(targetBetaY, targetAlphaY, PTwiss[\"beta_y\"], PTwiss[\"alpha_y\"])}\"\"\")\n",
    "#print(f\"\"\"Drive BMAG:   {calcBMAG(targetBetaX, targetAlphaX, PDriveTwiss[\"beta_x\"], PDriveTwiss[\"alpha_x\"])}, {calcBMAG(targetBetaY, targetAlphaY, PDriveTwiss[\"beta_y\"], PDriveTwiss[\"alpha_y\"])}\"\"\")\n",
    "#print(f\"\"\"Witness BMAG: {calcBMAG(targetBetaX, targetAlphaX, PWitnessTwiss[\"beta_x\"], PWitnessTwiss[\"alpha_x\"])}, {calcBMAG(targetBetaY, targetAlphaY, PWitnessTwiss[\"beta_y\"], PWitnessTwiss[\"alpha_y\"])}\"\"\")\n",
    "\n",
    "print() \n",
    "\n",
    "print(f\"\"\"System emit:  {PTwiss[\"norm_emit_x\"]}, {PTwiss[\"norm_emit_y\"]}\"\"\")\n",
    "#print(f\"\"\"Drive emit:   {PDriveTwiss[\"norm_emit_x\"]}, {PDriveTwiss[\"norm_emit_y\"]}\"\"\")\n",
    "#print(f\"\"\"Witness emit: {PWitnessTwiss[\"norm_emit_x\"]}, {PWitnessTwiss[\"norm_emit_y\"]}\"\"\")"
   ]
  },
  {
   "cell_type": "code",
   "execution_count": null,
   "id": "91cf2a32-c8dd-4d35-9a73-292d3d889719",
   "metadata": {},
   "outputs": [],
   "source": [
    "\n",
    "for activeElement in [\"PR10571\", \"BEGBC20\", \"MFFF\", \"PENT\"]:\n",
    "    print(activeElement)\n",
    "    P = getBeamAtElement(tao, activeElement)\n",
    "    #PDrive, PWitness = getDriverAndWitness(P)\n",
    "    \n",
    "    display(plotMod(P, 'x', 'xp',  bins=300))\n",
    "    display(plotMod(P, 'pz', 'x',  bins=300))"
   ]
  },
  {
   "cell_type": "markdown",
   "id": "3904146f-5381-4d06-b5bb-c6754ed82c7b",
   "metadata": {},
   "source": [
    "# Check beam specs at treaty points"
   ]
  },
  {
   "cell_type": "code",
   "execution_count": null,
   "id": "029d1aaa-6f42-47e2-b302-f3b5eb363112",
   "metadata": {},
   "outputs": [],
   "source": [
    "print(\"DL10\")\n",
    "getMatrix(tao,\"LH10END\", \"BEGL1F\",print=True);\n",
    "print(\"BC11\")\n",
    "getMatrix(tao,\"BEGBC11_1\", \"BEGL2F\",print=True);\n",
    "print(\"BC14\")\n",
    "getMatrix(tao,\"ENDL2F\", \"BEGL3F_1\",print=True);\n",
    "print(\"BC20\")\n",
    "getMatrix(tao,\"BEGBC20\", \"MFFF\",print=True);"
   ]
  },
  {
   "cell_type": "code",
   "execution_count": null,
   "id": "4f9b5b2e-3bb9-4e78-b810-15acf8740629",
   "metadata": {},
   "outputs": [],
   "source": [
    "P = getBeamAtElement(tao, \"L0BFEND\")\n",
    "print(f\"\"\"E: {1e-9 * P[\"mean_energy\"]} GeV \"\"\")\n",
    "print(f\"\"\"sig_z: {1e6 * smallestIntervalImpliedSigma(P.z)} um\"\"\")\n",
    "print(f\"\"\"sig_E: {100 * smallestIntervalImpliedSigma(P.energy)/P[\"mean_energy\"]} %\"\"\")\n",
    "print(f\"\"\"SI90 emittance: {1e6 * smallestIntervalImpliedEmittance(P, plane = \"x\")}, {1e6 * smallestIntervalImpliedEmittance(P, plane = \"y\")} um-rad\"\"\")\n",
    "print(f\"\"\"norm_emit: {1e6 * P[\"norm_emit_x\"]}, {1e6 * P[\"norm_emit_y\"]} um-rad\"\"\")"
   ]
  },
  {
   "cell_type": "code",
   "execution_count": null,
   "id": "87c52a10-06d6-42e7-8acb-3f76ede974b9",
   "metadata": {},
   "outputs": [],
   "source": [
    "P = getBeamAtElement(tao, \"BEGL2F\")\n",
    "print(f\"\"\"E: {1e-9 * P[\"mean_energy\"]} GeV \"\"\")\n",
    "print(f\"\"\"sig_z: {1e6 * smallestIntervalImpliedSigma(P.z)} um\"\"\")\n",
    "print(f\"\"\"sig_E: {100 * smallestIntervalImpliedSigma(P.energy)/P[\"mean_energy\"]} %\"\"\")"
   ]
  },
  {
   "cell_type": "code",
   "execution_count": null,
   "id": "737149b7-827b-441d-b5c8-bf5e1f2fb01d",
   "metadata": {},
   "outputs": [],
   "source": [
    "P = getBeamAtElement(tao, \"BEGL3F_1\")\n",
    "print(f\"\"\"E: {1e-9 * P[\"mean_energy\"]} GeV \"\"\")\n",
    "print(f\"\"\"sig_z: {1e6 * smallestIntervalImpliedSigma(P.z)} um\"\"\")\n",
    "print(f\"\"\"sig_E: {100 * smallestIntervalImpliedSigma(P.energy)/P[\"mean_energy\"]} %\"\"\")"
   ]
  },
  {
   "cell_type": "code",
   "execution_count": null,
   "id": "13857167-b961-4b66-8ff2-2611c5bca831",
   "metadata": {},
   "outputs": [],
   "source": [
    "P = getBeamAtElement(tao, \"BEGBC20\")\n",
    "print(f\"\"\"E: {1e-9 * P[\"mean_energy\"]} GeV \"\"\")\n",
    "print(f\"\"\"sig_z: {1e6 * smallestIntervalImpliedSigma(P.z)} um\"\"\")\n",
    "print(f\"\"\"sig_E: {100 * smallestIntervalImpliedSigma(P.energy)/P[\"mean_energy\"]} %\"\"\")\n",
    "print(f\"\"\"emittance: {1e6 * smallestIntervalImpliedEmittance(P, plane = \"x\")}, {1e6 * smallestIntervalImpliedEmittance(P, plane = \"y\")} um-rad\"\"\")"
   ]
  },
  {
   "cell_type": "code",
   "execution_count": null,
   "id": "9c1f36d8-a972-4b9a-b8de-13077821f2bd",
   "metadata": {},
   "outputs": [],
   "source": [
    "P = getBeamAtElement(tao, \"PENT\")\n",
    "print(f\"\"\"E: {1e-9 * P[\"mean_energy\"]} GeV \"\"\")\n",
    "print(f\"\"\"sig_z: {1e6 * smallestIntervalImpliedSigma(P.z)} um\"\"\")\n",
    "print(f\"\"\"sig_E: {100 * smallestIntervalImpliedSigma(P.energy)/P[\"mean_energy\"]} %\"\"\")"
   ]
  },
  {
   "cell_type": "code",
   "execution_count": null,
   "id": "f25e777f-5d26-4148-a393-bb044d1873e8",
   "metadata": {},
   "outputs": [],
   "source": [
    "importedDefaultSettings"
   ]
  },
  {
   "cell_type": "code",
   "execution_count": null,
   "id": "7f0e5b9b-1b40-4fa0-9b75-be83b44c4ad7",
   "metadata": {},
   "outputs": [],
   "source": [
    "for activeElement in [\"L0AFEND\",\"BEGL2F\",\"BEGL3F_1\", \"BEGBC20\", \"PENT\"]:\n",
    "    print(activeElement)\n",
    "    P = getBeamAtElement(tao, activeElement)\n",
    "    display(plotMod(P, 'delta_z', 'energy',  bins=300))"
   ]
  },
  {
   "cell_type": "code",
   "execution_count": null,
   "id": "2789854d-0d49-4cc0-a1cf-ef5de05528ba",
   "metadata": {},
   "outputs": [],
   "source": [
    "# for activePhase in np.arange(-40, -25, 1):\n",
    "#     print(activePhase)\n",
    "#     setLinacPhase(tao, \"L2\", activePhase)\n",
    "#     setLinacGradientAuto(tao, \"L2\", 4.5e9 - 0.335e9)\n",
    "#     trackBeam(tao)\n",
    "\n",
    "#     # for activeElement in [\"BEGBC20\", \"PENT\"]:\n",
    "#     #     P = getBeamAtElement(tao, activeElement)\n",
    "#     #     print(f\"\"\"{activeElement}: {P[\"sigma_energy\"]/1e6}\"\"\")\n",
    "#     #     display(plotMod(P, 'delta_z', 'energy',  bins=300))\n",
    "\n",
    "#     activeElement = \"BEGBC20\"\n",
    "#     P = getBeamAtElement(tao, activeElement)\n",
    "#     print(f\"\"\"{activeElement}: {P[\"sigma_energy\"]/1e6}\"\"\")\n",
    "#     display(plotMod(P, 'delta_z', 'energy',  bins=300 , xlim = (-0.5e-3, 0.5e-3), ylim = (9.5e9, 10.5e9) ) )\n",
    "\n",
    "#     activeElement = \"PENT\"\n",
    "#     P = getBeamAtElement(tao, activeElement)\n",
    "#     print(f\"\"\"{activeElement}: {P[\"sigma_energy\"]/1e6}\"\"\")\n",
    "#     display(plotMod(P, 'delta_z', 'energy',  bins=300 , xlim = (-0.2e-3, 0.2e-3), ylim = (9.6e9, 10.2e9) ) )\n",
    "    "
   ]
  },
  {
   "cell_type": "code",
   "execution_count": null,
   "id": "f67a9e97-ff07-44f8-a8ec-7bc13326f634",
   "metadata": {},
   "outputs": [],
   "source": [
    "# for activePhase in np.arange(-39.0, -33.0, 0.5):\n",
    "#     print(activePhase)\n",
    "#     setLinacPhase(tao, \"L2\", activePhase)\n",
    "#     setLinacGradientAuto(tao, \"L2\", 4.5e9 - 0.335e9)\n",
    "#     trackBeam(tao)\n",
    "\n",
    "#     # for activeElement in [\"BEGBC20\", \"PENT\"]:\n",
    "#     #     P = getBeamAtElement(tao, activeElement)\n",
    "#     #     print(f\"\"\"{activeElement}: {P[\"sigma_energy\"]/1e6}\"\"\")\n",
    "#     #     display(plotMod(P, 'delta_z', 'energy',  bins=300))\n",
    "\n",
    "#     # activeElement = \"BEGBC20\"\n",
    "#     # P = getBeamAtElement(tao, activeElement)\n",
    "#     # print(f\"\"\"{activeElement}: {P[\"sigma_energy\"]/1e6}\"\"\")\n",
    "#     # display(plotMod(P, 'delta_z', 'energy',  bins=300 , xlim = (-0.1e-3, 0.1e-3), ylim = (9.6e9, 10.0e9) ) )\n",
    "\n",
    "#     activeElement = \"PENT\"\n",
    "#     P = getBeamAtElement(tao, activeElement)\n",
    "#     #print(f\"\"\"{activeElement}: {P[\"sigma_energy\"]/1e6}\"\"\")\n",
    "#     print(f\"\"\"{activeElement}: {1e6 * smallestIntervalImpliedSigma(P.t * 3e8, percentage=0.9)}\"\"\")\n",
    "    \n",
    "#     display(plotMod(P, 'delta_z', 'energy',  bins=300 , xlim = (-0.1e-3, 0.1e-3), ylim = (9.6e9, 10.0e9) ) )"
   ]
  },
  {
   "cell_type": "code",
   "execution_count": null,
   "id": "4d0656df-af74-42bd-bb26-7bef931fac88",
   "metadata": {},
   "outputs": [],
   "source": [
    "# for activePhase in np.arange(-75, 0, 5):\n",
    "#     print(activePhase)\n",
    "#     setLinacPhase(tao, \"L3\", activePhase)\n",
    "#     setLinacGradientAuto(tao, \"L3\", 10e9 - 4.5e9)\n",
    "#     trackBeam(tao)\n",
    "\n",
    "#     # for activeElement in [\"BEGBC20\", \"PENT\"]:\n",
    "#     #     P = getBeamAtElement(tao, activeElement)\n",
    "#     #     print(f\"\"\"{activeElement}: {P[\"sigma_energy\"]/1e6}\"\"\")\n",
    "#     #     display(plotMod(P, 'delta_z', 'energy',  bins=300))\n",
    "\n",
    "#     activeElement = \"BEGBC20\"\n",
    "#     P = getBeamAtElement(tao, activeElement)\n",
    "#     print(f\"\"\"{activeElement}: {P[\"sigma_energy\"]/1e6}\"\"\")\n",
    "#     display(plotMod(P, 'delta_z', 'energy',  bins=300 , xlim = (-0.5e-3, 0.5e-3), ylim = (9.5e9, 10.5e9) ) )\n",
    "\n",
    "#     activeElement = \"PENT\"\n",
    "#     P = getBeamAtElement(tao, activeElement)\n",
    "#     print(f\"\"\"{activeElement}: {P[\"sigma_energy\"]/1e6}\"\"\")\n",
    "#     display(plotMod(P, 'delta_z', 'energy',  bins=300 , xlim = (-0.2e-3, 0.2e-3), ylim = (9.6e9, 10.2e9) ) )"
   ]
  },
  {
   "cell_type": "code",
   "execution_count": null,
   "id": "b4f46ce4-dd6f-4810-b119-24a01c4a7a21",
   "metadata": {},
   "outputs": [],
   "source": [
    "getMatrix(tao, \"BEGBC20\", \"PENT\", print=True);"
   ]
  },
  {
   "cell_type": "code",
   "execution_count": null,
   "id": "24da6a08-5679-4344-91c6-1a6e309929f5",
   "metadata": {},
   "outputs": [],
   "source": [
    "?getMatrix"
   ]
  },
  {
   "cell_type": "code",
   "execution_count": null,
   "id": "932c95e9-2611-4ae6-b02d-da8d45580d95",
   "metadata": {},
   "outputs": [],
   "source": []
  }
 ],
 "metadata": {
  "kernelspec": {
   "display_name": "Python 3 (ipykernel)",
   "language": "python",
   "name": "python3"
  },
  "language_info": {
   "codemirror_mode": {
    "name": "ipython",
    "version": 3
   },
   "file_extension": ".py",
   "mimetype": "text/x-python",
   "name": "python",
   "nbconvert_exporter": "python",
   "pygments_lexer": "ipython3",
   "version": "3.11.8"
  }
 },
 "nbformat": 4,
 "nbformat_minor": 5
}
