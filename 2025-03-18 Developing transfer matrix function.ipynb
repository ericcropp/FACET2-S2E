{
 "cells": [
  {
   "cell_type": "code",
   "execution_count": 1,
   "id": "b520dbc3-ec33-4db0-9e2c-3cf3c77a0584",
   "metadata": {},
   "outputs": [],
   "source": [
    "from UTILITY_quickstart import *"
   ]
  },
  {
   "cell_type": "code",
   "execution_count": 2,
   "id": "abdf919f-a13c-446e-b327-1b081f6203bf",
   "metadata": {},
   "outputs": [
    {
     "name": "stdout",
     "output_type": "stream",
     "text": [
      "Environment set to:  /Users/nmajik/Documents/SLAC/FACET2-Bmad-PyTao\n",
      "Tracking to end\n",
      "CSR off\n",
      "Overwriting lattice with setLattice() defaults\n",
      "No defaults file provided to setLattice(). Using setLattice_configs/defaults.yml\n",
      "WARNING! No beam file is specified!\n",
      "Number of macro particles defined by input file\n",
      "Beam created, written to /Users/nmajik/Documents/SLAC/FACET2-Bmad-PyTao/beams/activeBeamFile.h5, and reinit to tao\n"
     ]
    }
   ],
   "source": [
    "tao = initializeTao()"
   ]
  },
  {
   "cell_type": "code",
   "execution_count": 3,
   "id": "6903af23-3fd7-458a-ae4b-c9daaada7487",
   "metadata": {},
   "outputs": [],
   "source": [
    "def setLatticeAndGetMatrix(tao, start, end, startOffset = 0, endOffset = 0, defaultSettings = None, overrideSettings = {}):\n",
    "    \"\"\"\n",
    "    Load lattice based on default and override settings. Then provide the transfer matrix between two elements, optionally with offsets\n",
    "    If no defaultSettings are specified, the golden lattice from defaults.yml will be loaded\n",
    "    \"\"\"\n",
    "    \n",
    "    if not defaultSettings:\n",
    "        defaultSettings = loadConfig(\"setLattice_configs/defaults.yml\")\n",
    "        \n",
    "    setLattice(tao, **( defaultSettings | overrideSettings ) )\n",
    "   \n",
    "    return getMatrix(tao, start, end, startOffset = startOffset, endOffset = endOffset)"
   ]
  },
  {
   "cell_type": "code",
   "execution_count": 4,
   "id": "e89eefd4-12fd-4467-9650-3329a78faa57",
   "metadata": {},
   "outputs": [
    {
     "data": {
      "text/plain": [
       "{'Q5FFkG': -71.837,\n",
       " 'Q4FFkG': -81.251,\n",
       " 'Q3FFkG': 99.225,\n",
       " 'Q2FFkG': 126.35,\n",
       " 'Q1FFkG': -235.218,\n",
       " 'Q0FFkG': 126.353,\n",
       " 'Q0DkG': -109.694,\n",
       " 'Q1DkG': 180.862,\n",
       " 'Q2DkG': -109.694}"
      ]
     },
     "execution_count": 4,
     "metadata": {},
     "output_type": "execute_result"
    }
   ],
   "source": [
    "quadSettingList = [\"Q5FFkG\", \"Q4FFkG\", \"Q3FFkG\", \"Q2FFkG\", \"Q1FFkG\", \"Q0FFkG\", \"Q0DkG\", \"Q1DkG\", \"Q2DkG\"]\n",
    "goldenLatticeConfig = loadConfig(\"setLattice_configs/defaults.yml\")\n",
    "goldenLatticeMagnetSettings = {ele : goldenLatticeConfig[ele] for ele in quadSettingList}\n",
    "goldenLatticeMagnetSettings"
   ]
  },
  {
   "cell_type": "code",
   "execution_count": 5,
   "id": "1db5e15a-ab12-4e0f-b50b-78db3292df58",
   "metadata": {},
   "outputs": [
    {
     "data": {
      "text/html": [
       "<style type=\"text/css\">\n",
       "</style>\n",
       "<table id=\"T_48dee\">\n",
       "  <thead>\n",
       "  </thead>\n",
       "  <tbody>\n",
       "    <tr>\n",
       "      <td id=\"T_48dee_row0_col0\" class=\"data row0 col0\" >4.569402</td>\n",
       "      <td id=\"T_48dee_row0_col1\" class=\"data row0 col1\" >-6.266068</td>\n",
       "      <td id=\"T_48dee_row0_col2\" class=\"data row0 col2\" >-0.000000</td>\n",
       "      <td id=\"T_48dee_row0_col3\" class=\"data row0 col3\" >-0.000000</td>\n",
       "      <td id=\"T_48dee_row0_col4\" class=\"data row0 col4\" >0.000000</td>\n",
       "      <td id=\"T_48dee_row0_col5\" class=\"data row0 col5\" >0.000000</td>\n",
       "    </tr>\n",
       "    <tr>\n",
       "      <td id=\"T_48dee_row1_col0\" class=\"data row1 col0\" >0.381124</td>\n",
       "      <td id=\"T_48dee_row1_col1\" class=\"data row1 col1\" >-0.303792</td>\n",
       "      <td id=\"T_48dee_row1_col2\" class=\"data row1 col2\" >-0.000000</td>\n",
       "      <td id=\"T_48dee_row1_col3\" class=\"data row1 col3\" >-0.000000</td>\n",
       "      <td id=\"T_48dee_row1_col4\" class=\"data row1 col4\" >0.000000</td>\n",
       "      <td id=\"T_48dee_row1_col5\" class=\"data row1 col5\" >0.000000</td>\n",
       "    </tr>\n",
       "    <tr>\n",
       "      <td id=\"T_48dee_row2_col0\" class=\"data row2 col0\" >0.000000</td>\n",
       "      <td id=\"T_48dee_row2_col1\" class=\"data row2 col1\" >-0.000000</td>\n",
       "      <td id=\"T_48dee_row2_col2\" class=\"data row2 col2\" >0.311696</td>\n",
       "      <td id=\"T_48dee_row2_col3\" class=\"data row2 col3\" >-20.888435</td>\n",
       "      <td id=\"T_48dee_row2_col4\" class=\"data row2 col4\" >0.000000</td>\n",
       "      <td id=\"T_48dee_row2_col5\" class=\"data row2 col5\" >0.055920</td>\n",
       "    </tr>\n",
       "    <tr>\n",
       "      <td id=\"T_48dee_row3_col0\" class=\"data row3 col0\" >0.000000</td>\n",
       "      <td id=\"T_48dee_row3_col1\" class=\"data row3 col1\" >-0.000000</td>\n",
       "      <td id=\"T_48dee_row3_col2\" class=\"data row3 col2\" >0.020202</td>\n",
       "      <td id=\"T_48dee_row3_col3\" class=\"data row3 col3\" >1.854427</td>\n",
       "      <td id=\"T_48dee_row3_col4\" class=\"data row3 col4\" >0.000000</td>\n",
       "      <td id=\"T_48dee_row3_col5\" class=\"data row3 col5\" >0.006000</td>\n",
       "    </tr>\n",
       "    <tr>\n",
       "      <td id=\"T_48dee_row4_col0\" class=\"data row4 col0\" >0.000000</td>\n",
       "      <td id=\"T_48dee_row4_col1\" class=\"data row4 col1\" >0.000000</td>\n",
       "      <td id=\"T_48dee_row4_col2\" class=\"data row4 col2\" >-0.000740</td>\n",
       "      <td id=\"T_48dee_row4_col3\" class=\"data row4 col3\" >0.229031</td>\n",
       "      <td id=\"T_48dee_row4_col4\" class=\"data row4 col4\" >1.000000</td>\n",
       "      <td id=\"T_48dee_row4_col5\" class=\"data row4 col5\" >-0.000006</td>\n",
       "    </tr>\n",
       "    <tr>\n",
       "      <td id=\"T_48dee_row5_col0\" class=\"data row5 col0\" >0.000000</td>\n",
       "      <td id=\"T_48dee_row5_col1\" class=\"data row5 col1\" >0.000000</td>\n",
       "      <td id=\"T_48dee_row5_col2\" class=\"data row5 col2\" >0.000000</td>\n",
       "      <td id=\"T_48dee_row5_col3\" class=\"data row5 col3\" >0.000000</td>\n",
       "      <td id=\"T_48dee_row5_col4\" class=\"data row5 col4\" >0.000000</td>\n",
       "      <td id=\"T_48dee_row5_col5\" class=\"data row5 col5\" >1.000000</td>\n",
       "    </tr>\n",
       "  </tbody>\n",
       "</table>\n"
      ],
      "text/plain": [
       "<pandas.io.formats.style.Styler at 0x16823ff90>"
      ]
     },
     "metadata": {},
     "output_type": "display_data"
    }
   ],
   "source": [
    "ffMagnetSettings = {\"Q0DkG\" : -50} \n",
    "displayMatrix(\n",
    "    setLatticeAndGetMatrix(\n",
    "        tao,\n",
    "        \"MFFF\",\n",
    "        \"DTOTR\",\n",
    "        startOffset = 0.25,\n",
    "        endOffset = 0,\n",
    "        overrideSettings = ffMagnetSettings #Overrides golden lattice only with settings provided\n",
    "    )\n",
    ")"
   ]
  },
  {
   "cell_type": "code",
   "execution_count": 6,
   "id": "1d4c4f10-7b1d-4b77-bac8-ec717b28e91b",
   "metadata": {},
   "outputs": [
    {
     "data": {
      "text/html": [
       "<style type=\"text/css\">\n",
       "</style>\n",
       "<table id=\"T_997b7\">\n",
       "  <thead>\n",
       "  </thead>\n",
       "  <tbody>\n",
       "    <tr>\n",
       "      <td id=\"T_997b7_row0_col0\" class=\"data row0 col0\" >2.247700</td>\n",
       "      <td id=\"T_997b7_row0_col1\" class=\"data row0 col1\" >-7.532583</td>\n",
       "      <td id=\"T_997b7_row0_col2\" class=\"data row0 col2\" >-0.000000</td>\n",
       "      <td id=\"T_997b7_row0_col3\" class=\"data row0 col3\" >-0.000000</td>\n",
       "      <td id=\"T_997b7_row0_col4\" class=\"data row0 col4\" >0.000000</td>\n",
       "      <td id=\"T_997b7_row0_col5\" class=\"data row0 col5\" >0.000000</td>\n",
       "    </tr>\n",
       "    <tr>\n",
       "      <td id=\"T_997b7_row1_col0\" class=\"data row1 col0\" >0.245791</td>\n",
       "      <td id=\"T_997b7_row1_col1\" class=\"data row1 col1\" >-0.378805</td>\n",
       "      <td id=\"T_997b7_row1_col2\" class=\"data row1 col2\" >-0.000000</td>\n",
       "      <td id=\"T_997b7_row1_col3\" class=\"data row1 col3\" >-0.000000</td>\n",
       "      <td id=\"T_997b7_row1_col4\" class=\"data row1 col4\" >0.000000</td>\n",
       "      <td id=\"T_997b7_row1_col5\" class=\"data row1 col5\" >0.000000</td>\n",
       "    </tr>\n",
       "    <tr>\n",
       "      <td id=\"T_997b7_row2_col0\" class=\"data row2 col0\" >-0.000000</td>\n",
       "      <td id=\"T_997b7_row2_col1\" class=\"data row2 col1\" >-0.000000</td>\n",
       "      <td id=\"T_997b7_row2_col2\" class=\"data row2 col2\" >0.499119</td>\n",
       "      <td id=\"T_997b7_row2_col3\" class=\"data row2 col3\" >-1.807496</td>\n",
       "      <td id=\"T_997b7_row2_col4\" class=\"data row2 col4\" >0.000000</td>\n",
       "      <td id=\"T_997b7_row2_col5\" class=\"data row2 col5\" >0.055920</td>\n",
       "    </tr>\n",
       "    <tr>\n",
       "      <td id=\"T_997b7_row3_col0\" class=\"data row3 col0\" >-0.000000</td>\n",
       "      <td id=\"T_997b7_row3_col1\" class=\"data row3 col1\" >-0.000000</td>\n",
       "      <td id=\"T_997b7_row3_col2\" class=\"data row3 col2\" >0.020791</td>\n",
       "      <td id=\"T_997b7_row3_col3\" class=\"data row3 col3\" >1.928236</td>\n",
       "      <td id=\"T_997b7_row3_col4\" class=\"data row3 col4\" >0.000000</td>\n",
       "      <td id=\"T_997b7_row3_col5\" class=\"data row3 col5\" >0.006000</td>\n",
       "    </tr>\n",
       "    <tr>\n",
       "      <td id=\"T_997b7_row4_col0\" class=\"data row4 col0\" >0.000000</td>\n",
       "      <td id=\"T_997b7_row4_col1\" class=\"data row4 col1\" >0.000000</td>\n",
       "      <td id=\"T_997b7_row4_col2\" class=\"data row4 col2\" >-0.001832</td>\n",
       "      <td id=\"T_997b7_row4_col3\" class=\"data row4 col3\" >0.118672</td>\n",
       "      <td id=\"T_997b7_row4_col4\" class=\"data row4 col4\" >1.000000</td>\n",
       "      <td id=\"T_997b7_row4_col5\" class=\"data row4 col5\" >-0.000006</td>\n",
       "    </tr>\n",
       "    <tr>\n",
       "      <td id=\"T_997b7_row5_col0\" class=\"data row5 col0\" >0.000000</td>\n",
       "      <td id=\"T_997b7_row5_col1\" class=\"data row5 col1\" >0.000000</td>\n",
       "      <td id=\"T_997b7_row5_col2\" class=\"data row5 col2\" >0.000000</td>\n",
       "      <td id=\"T_997b7_row5_col3\" class=\"data row5 col3\" >0.000000</td>\n",
       "      <td id=\"T_997b7_row5_col4\" class=\"data row5 col4\" >0.000000</td>\n",
       "      <td id=\"T_997b7_row5_col5\" class=\"data row5 col5\" >1.000000</td>\n",
       "    </tr>\n",
       "  </tbody>\n",
       "</table>\n"
      ],
      "text/plain": [
       "<pandas.io.formats.style.Styler at 0x17afe8650>"
      ]
     },
     "metadata": {},
     "output_type": "display_data"
    }
   ],
   "source": [
    "ffMagnetSettings = goldenLatticeMagnetSettings \n",
    "displayMatrix(\n",
    "    setLatticeAndGetMatrix(\n",
    "        tao,\n",
    "        \"MFFF\",\n",
    "        \"DTOTR\",\n",
    "        startOffset = 0.25,\n",
    "        endOffset = 0,\n",
    "        overrideSettings = ffMagnetSettings #Overrides golden lattice only with settings provided\n",
    "    )\n",
    ")"
   ]
  },
  {
   "cell_type": "code",
   "execution_count": null,
   "id": "3649f7be-66c6-44f7-a0ef-59f196acb618",
   "metadata": {},
   "outputs": [],
   "source": []
  }
 ],
 "metadata": {
  "kernelspec": {
   "display_name": "Python 3 (ipykernel)",
   "language": "python",
   "name": "python3"
  },
  "language_info": {
   "codemirror_mode": {
    "name": "ipython",
    "version": 3
   },
   "file_extension": ".py",
   "mimetype": "text/x-python",
   "name": "python",
   "nbconvert_exporter": "python",
   "pygments_lexer": "ipython3",
   "version": "3.11.8"
  }
 },
 "nbformat": 4,
 "nbformat_minor": 5
}
